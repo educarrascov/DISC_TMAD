{
 "cells": [
  {
   "cell_type": "markdown",
   "id": "82fd8ec6",
   "metadata": {},
   "source": [
    "\n",
    "# Tarea 1\n",
    "## Taller de Manejo y Análisis de Datos - 2023 - 1\n",
    "\n",
    "\n",
    "**Profesor:** Pedro Montealegre (p.montealegre@uai.cl) \n",
    "\n",
    "**Fecha de publicación:** martes 21 de marzo.\n",
    "\n",
    "**Fecha de entrega:** domingo 2 de abril a las 23:59 vía webcursos."
   ]
  },
  {
   "cell_type": "markdown",
   "id": "8acafbc6",
   "metadata": {},
   "source": [
    "## Instrucciones\n",
    "\n",
    "Adjunto a este cuaderno se entrega la base de datos `DatosT1.csv`. Desarrolle este cuaderno en los espacios indicados. Solo edite y entregue este cuaderno (no modifique la base de datos). Para la corrección, la base de datos podría ser ligeramente modificada en sus valores, pero no es su formato.\n",
    "\n",
    "El objetivo de esta tarea es evaluar el manejo de herramientas elementales de Python, como son el manejo de listas, strings, control de flujo, lectura de archivos, etc. Por lo tanto, **para esta tarea no se pueden usar módulos o librerías. Es decir, está prohibido usar el comando `import`.**\n",
    "\n",
    "El código debe ser ordenado y comentado adecuadamente. Las variables deben tener nombres que representen su uso. El funcionamiento debe ser exactamente el que se solicita. \n",
    "\n",
    "Puede trabajar individualmente o en parejas. "
   ]
  },
  {
   "cell_type": "code",
   "execution_count": 1,
   "id": "42757a9f-24b5-48fd-8354-bd3c7a155fd4",
   "metadata": {},
   "outputs": [],
   "source": [
    "# Indique el nombre y rut de los participantes\n",
    "\n",
    "# Nombre: Eduardo Carrasco Vidal\n",
    "# Rut: 17072761-4\n",
    "\n",
    "# Nombre: Ricardo Corbinaud Antúnez\n",
    "# Rut:"
   ]
  },
  {
   "cell_type": "markdown",
   "id": "1e691c7d",
   "metadata": {},
   "source": [
    "El archivo `DatosT1.csv` contiene datos georeferenciados de los accidentes de tránsito en que involucraron a peatones en la ciudad de Santiago durante 2015. Cada fila contiene un evento, y las columnas son las siguientes:\n",
    "* X:  longitud geografica del evento\n",
    "* Y:  latitud geografica del evento\n",
    "* Ubicacion: dirección en la que fue el evento\n",
    "* Fallecidos: número de fallecidos involucrados.\n",
    "* Graves: número de personas con heridas graves.\n",
    "* MenosGrave: número de personas cor heridas menos graves.\n",
    "* Leve: número de personas con heridas leves.\n",
    "* Accidentes: número de accidentes en el mismo lugar."
   ]
  },
  {
   "cell_type": "markdown",
   "id": "64f6cf82-cd2b-4a2f-a659-1a2cc0091eda",
   "metadata": {},
   "source": [
    "### Opción 1:"
   ]
  },
  {
   "cell_type": "code",
   "execution_count": 2,
   "id": "4feb2aed-721d-480d-908e-3bd3e1b38a5e",
   "metadata": {},
   "outputs": [],
   "source": [
    "def leer_csv(archivo):\n",
    "    ''' función que permite leer un archivo csv y luego generar un string dividido\n",
    "    por el salto \\n'''\n",
    "    dataset = open(archivo, \"r\")\n",
    "    filas = dataset.read().split(\"\\n\")\n",
    "    return filas"
   ]
  },
  {
   "cell_type": "code",
   "execution_count": 3,
   "id": "b78bf0ca-8c3a-48ca-865a-3dcbff423747",
   "metadata": {},
   "outputs": [],
   "source": [
    "def dividir_columnas(filas):\n",
    "    '''dividir columnas para generación de filas'''\n",
    "    columna = [columna.split(\",\") for columna in filas]\n",
    "    return columna"
   ]
  },
  {
   "cell_type": "code",
   "execution_count": 4,
   "id": "ce749a36-8ccc-45cc-8561-a41e3c27ee47",
   "metadata": {},
   "outputs": [],
   "source": [
    "def procesar_usos(columna):\n",
    "    '''eliminar la ultima fila '''\n",
    "    data_final = columna[:-1]\n",
    "    return data_final"
   ]
  },
  {
   "cell_type": "code",
   "execution_count": 5,
   "id": "9eb0dd22-867a-4156-a5d7-c12408818ea6",
   "metadata": {},
   "outputs": [],
   "source": [
    "filas = leer_csv('datosT1.csv')\n",
    "columna = dividir_columnas(filas)\n",
    "data_final = procesar_usos(columna)"
   ]
  },
  {
   "cell_type": "code",
   "execution_count": 6,
   "id": "e1fda238-f310-4521-9c23-6350b6cee2aa",
   "metadata": {},
   "outputs": [
    {
     "name": "stdout",
     "output_type": "stream",
     "text": [
      "1842\n"
     ]
    }
   ],
   "source": [
    "print(len(data_final))"
   ]
  },
  {
   "cell_type": "markdown",
   "id": "840db5c6-4af9-450f-8088-32cc639731bb",
   "metadata": {},
   "source": [
    "### Opción 2:"
   ]
  },
  {
   "cell_type": "code",
   "execution_count": 7,
   "id": "debc460e-0076-4b3f-8257-1ea1554ce4b5",
   "metadata": {},
   "outputs": [],
   "source": [
    "dataset = open('datosT1.csv', \"r\")\n",
    "df = dataset.read().split('\\n')\n",
    "\n",
    "data_df = []\n",
    "for fila in df:\n",
    "    columna = fila.split(',')\n",
    "    data_df.append(columna)"
   ]
  },
  {
   "cell_type": "code",
   "execution_count": 8,
   "id": "ee69b72e-362d-46ce-9e99-732c4a119366",
   "metadata": {},
   "outputs": [
    {
     "data": {
      "text/plain": [
       "1843"
      ]
     },
     "execution_count": 8,
     "metadata": {},
     "output_type": "execute_result"
    }
   ],
   "source": [
    "len(data_df)"
   ]
  },
  {
   "cell_type": "markdown",
   "id": "6b97c5ef-21a5-4cdb-aa7f-1bd5bf466a18",
   "metadata": {},
   "source": [
    "Esta diferencia se genera porque el split \\n, genera una división con cada salto de linea e incluye la última. Por lo que es necesario, eliminar esa fila adicional."
   ]
  },
  {
   "cell_type": "code",
   "execution_count": 9,
   "id": "805aeb4c-2f36-4dfd-9155-930aa795efbc",
   "metadata": {},
   "outputs": [
    {
     "data": {
      "text/plain": [
       "1842"
      ]
     },
     "execution_count": 9,
     "metadata": {},
     "output_type": "execute_result"
    }
   ],
   "source": [
    "len(data_df[:-1])"
   ]
  },
  {
   "cell_type": "markdown",
   "id": "d1062b86",
   "metadata": {},
   "source": [
    "## Actividad 1: \n",
    "\n",
    "Considere que las variables `X0` e `Y0` representan las coordenadas de un punto en el mapa. Por ejemplo:"
   ]
  },
  {
   "cell_type": "code",
   "execution_count": 10,
   "id": "e2c30507",
   "metadata": {},
   "outputs": [],
   "source": [
    "# X0 = -70.51986870520346 #longitud\n",
    "# Y0 = -33.48854784792859 #latitud"
   ]
  },
  {
   "cell_type": "markdown",
   "id": "0043c2dc",
   "metadata": {},
   "source": [
    "Corresponden a la entrada del campus Peñalolén.\n",
    "\n",
    "Escriba un programa que encuentre el evento más cercano al punto dado por `(X0,Y0)` e imprima la información asociada al evento. Su programa debe entrega la información  en el formato que se muestra a continuación:\n",
    "\n",
    "\n",
    "```\n",
    "El accidente más cercano a la ubicación idicada ocurrió en DIAGONAL LAS TORRES & CAMINO PRIVADO; PENALOLEN y tuvo 0 fallecidos, 1 heridos graves, 0 heridos menos graves y 0 heridos leves.\n",
    "```\n",
    "\n",
    "**Observación:** El punto (X0,Y0) anterior se entrega solo a modo de ejemplo. Para la corrección se podría considerar otro punto (X0,Y0). Su programa debe funcionar para cualquier punto definido en el bloque anterior. "
   ]
  },
  {
   "cell_type": "markdown",
   "id": "3f46e9f2-8f0b-480a-9164-bb5adad768dd",
   "metadata": {},
   "source": [
    "Para la resolución de la tarea, se seleccionó como referencia, la posición geográfica de la moneda, la cual se puede obtener en el siguiente [enlace](https://www.123coordenadas.com/coordinates/274677-la-moneda-santiago)"
   ]
  },
  {
   "cell_type": "code",
   "execution_count": 11,
   "id": "8506bb8c-c66b-44fa-b68f-7f296fadd31e",
   "metadata": {},
   "outputs": [
    {
     "name": "stdout",
     "output_type": "stream",
     "text": [
      "Y0: <class 'float'>\n",
      "X0: <class 'float'>\n"
     ]
    }
   ],
   "source": [
    "## Latitud y longitud seleccionada.\n",
    "# La moneda\n",
    "X0 = -70.6548558 #longitud\n",
    "Y0 = -33.4448865 #latitud\n",
    "\n",
    "print(\"Y0:\", type(Y0))\n",
    "print(\"X0:\", type(X0))"
   ]
  },
  {
   "cell_type": "code",
   "execution_count": 12,
   "id": "d779105c",
   "metadata": {},
   "outputs": [],
   "source": [
    "def calcular_distancia_euclidiana(data_final, Y0, X0):\n",
    "    ''' generamos una función que permita, agregar una columna con nombre\n",
    "    y calcule la distancia mínima (euclideana), a un punto X0 e Y0'''\n",
    "    data_final_con_distancia = []\n",
    "    nombres_columnas = data_final[0] + ['distancia_euclidiana']\n",
    "    data_final_con_distancia.append(nombres_columnas)\n",
    "    \n",
    "    # Recorremos todas las filas del data set excepto la primera (nombres de columna)\n",
    "    for fila in data_final[1:]:\n",
    "        longitud = float(fila[0]) \n",
    "        latitud = float(fila[1])    \n",
    "        distancia_euclidiana = ((longitud - X0)**2 + (latitud - Y0)**2)**0.5       \n",
    "        fila_con_distancia = fila + [distancia_euclidiana]      \n",
    "        data_final_con_distancia.append(fila_con_distancia)\n",
    "        \n",
    "    return data_final_con_distancia"
   ]
  },
  {
   "cell_type": "code",
   "execution_count": 13,
   "id": "55a5c0fd-8188-4cff-9756-47ea235a926f",
   "metadata": {},
   "outputs": [],
   "source": [
    "data_con_distancia = calcular_distancia_euclidiana(data_final, Y0, X0)"
   ]
  },
  {
   "cell_type": "code",
   "execution_count": 14,
   "id": "dbde1d85-ae5b-41c9-9dd6-fb99a30dcd27",
   "metadata": {},
   "outputs": [],
   "source": [
    "columna = [fila[8] for fila in data_con_distancia[1:]]"
   ]
  },
  {
   "cell_type": "code",
   "execution_count": 15,
   "id": "7e6cb2a2-1ba4-44d9-920a-9b3a0a698999",
   "metadata": {},
   "outputs": [
    {
     "data": {
      "text/plain": [
       "760"
      ]
     },
     "execution_count": 15,
     "metadata": {},
     "output_type": "execute_result"
    }
   ],
   "source": [
    "indice_minimo = columna.index(min(columna)) + 1\n",
    "indice_minimo"
   ]
  },
  {
   "cell_type": "code",
   "execution_count": 16,
   "id": "b1d1869b-718b-48f9-bc2a-df0433b36731",
   "metadata": {},
   "outputs": [
    {
     "data": {
      "text/plain": [
       "['-70.6556099080164',\n",
       " '-33.4447742778918',\n",
       " '\"LIBERTADOR BERNARDO O`HIGGINS & HERMANOS AMUNATEGUI; SANTIAGO\"',\n",
       " '0',\n",
       " '0',\n",
       " '0',\n",
       " '1',\n",
       " '1',\n",
       " 0.0007624124224850334]"
      ]
     },
     "execution_count": 16,
     "metadata": {},
     "output_type": "execute_result"
    }
   ],
   "source": [
    "evento_cercano = data_con_distancia[indice_minimo]\n",
    "evento_cercano"
   ]
  },
  {
   "cell_type": "code",
   "execution_count": 17,
   "id": "0967c671-77a3-4881-875a-b6bee4958bff",
   "metadata": {},
   "outputs": [
    {
     "data": {
      "text/plain": [
       "['X',\n",
       " 'Y',\n",
       " 'Ubicacion',\n",
       " 'Fallecidos',\n",
       " 'Graves',\n",
       " 'MenosGrave',\n",
       " 'Leve',\n",
       " 'Accidentes',\n",
       " 'distancia_euclidiana']"
      ]
     },
     "execution_count": 17,
     "metadata": {},
     "output_type": "execute_result"
    }
   ],
   "source": [
    "# Columnas\n",
    "data_con_distancia[0]"
   ]
  },
  {
   "cell_type": "code",
   "execution_count": 18,
   "id": "3166b300-077b-4d91-ada1-d133d970c0ba",
   "metadata": {},
   "outputs": [],
   "source": [
    "# Extraemos la información asociada al evento más cercano\n",
    "ubicacion = evento_cercano[2]\n",
    "fallecidos = int(evento_cercano[3])\n",
    "heridos_graves = int(evento_cercano[4])\n",
    "heridos_menos_graves = int(evento_cercano[5])\n",
    "heridos_leves = int(evento_cercano[6])"
   ]
  },
  {
   "cell_type": "markdown",
   "id": "2a51e55f-ce1a-467a-b7b1-8dabcb284ca5",
   "metadata": {},
   "source": [
    "### Respuesta:\n"
   ]
  },
  {
   "cell_type": "code",
   "execution_count": 19,
   "id": "fedcfbea-98ac-4e54-baf4-d3315c98709d",
   "metadata": {},
   "outputs": [
    {
     "name": "stdout",
     "output_type": "stream",
     "text": [
      "El accidente más cercano a la ubicación indicada ocurrió en \"LIBERTADOR BERNARDO O`HIGGINS & HERMANOS AMUNATEGUI; SANTIAGO\" \n",
      "y tuvo 0 fallecidos, 0 heridos graves, 0 heridos menos graves y 1 heridos leves.\n"
     ]
    }
   ],
   "source": [
    "# Imprimimos la información en el formato deseado\n",
    "print(\"El accidente más cercano a la ubicación indicada ocurrió en\", ubicacion, \"\\ny tuvo\",\n",
    "      fallecidos, \"fallecidos,\", heridos_graves, \"heridos graves,\", heridos_menos_graves, \"heridos menos graves y\",\n",
    "      heridos_leves, \"heridos leves.\")"
   ]
  },
  {
   "cell_type": "markdown",
   "id": "ed49fba2",
   "metadata": {},
   "source": [
    "## Actividad 2\n",
    "\n",
    "Escriba un programa que solicite al usuario ingresar el nombre de una comuna (en mayúsculas y sin tildes) e imprima un histograma con la información asociada al total de accidentes ocurridos en esa comuna durante 2015. Además, para cada ítem, entregue los porcentajes respecto a todas las comunas. \n",
    "\n",
    "Su solución debe tener el formato que se entrega en el siguiente ejemplo. \n",
    "\n",
    "**Ejemplo**\n",
    "```\n",
    "Ingrese el nombre de una comuna: PENALOLEN\n",
    "\n",
    "Histograma de accidentes durante el 2015 para la comuna de PENALOLEN:\n",
    "\n",
    "Número de accidentes:            68  ->  3.10%\n",
    "Número de fallecidos:             3  ->  2.83%\n",
    "Número de heridos graves:        19  ->  3.49%\n",
    "Número de heridos menos graves:   7  ->  3.87%\n",
    "Número de heridos leves:         59  ->  3.87%`\n",
    "```\n",
    "\n",
    "**Observación:** Si el usuario indica un valor para el que no se tienen datos, su programa debe imprimir un mensaje \n",
    "```\n",
    "No se tiene datos para esa comuna\n",
    "```"
   ]
  },
  {
   "cell_type": "code",
   "execution_count": 20,
   "id": "c229aec7-52a1-4c9c-9ec5-4db1ae165904",
   "metadata": {},
   "outputs": [],
   "source": [
    "def buscar_ubicacion(data_con_distancia, comuna):\n",
    "    ''' identificamos una comuna (variable), dentro de la columna ubicación '''\n",
    "    datos_comuna = []\n",
    "    datos_comuna.append(data_con_distancia[0])\n",
    "    for fila in data_con_distancia[1:]:\n",
    "        if comuna in fila[2]:\n",
    "            datos_comuna.append(fila)\n",
    "    return datos_comuna"
   ]
  },
  {
   "cell_type": "code",
   "execution_count": 21,
   "id": "6f56edec-c32d-4cc1-b986-cde09e1f87b3",
   "metadata": {},
   "outputs": [],
   "source": [
    "def sumar_columna(datos_comuna, indice_columna):\n",
    "    ''' generamos una función de suma columna '''\n",
    "    total_columna = 0\n",
    "    for fila in datos_comuna[1:]:\n",
    "        total_columna += int(fila[indice_columna])\n",
    "    return total_columna"
   ]
  },
  {
   "cell_type": "code",
   "execution_count": 22,
   "id": "55205fea-e127-4083-b6fd-c97bc27a4f04",
   "metadata": {},
   "outputs": [],
   "source": [
    "def calcular_suma_columnas_comuna(datos_comuna):\n",
    "    ''' obtenemos los totales por comuna '''\n",
    "    num_fallecidos_com = sumar_columna(datos_comuna, 3)\n",
    "    num_graves_com = sumar_columna(datos_comuna, 4)\n",
    "    num_menos_com = sumar_columna(datos_comuna, 5)\n",
    "    num_leves_com = sumar_columna(datos_comuna, 6)\n",
    "    num_accidentes_com = sumar_columna(datos_comuna, 7)\n",
    "    \n",
    "    return num_fallecidos_com, num_graves_com, num_menos_com, num_leves_com, num_accidentes_com"
   ]
  },
  {
   "cell_type": "code",
   "execution_count": 23,
   "id": "e0cea8a2-1855-4bf4-8606-c6dbc3bdf594",
   "metadata": {},
   "outputs": [],
   "source": [
    "def sumar_columnas_totales(data_con_distancia):\n",
    "    ''' obtenemos los totales '''\n",
    "    num_fallecidos_total = sumar_columna(data_con_distancia, 3)\n",
    "    num_graves_total = sumar_columna(data_con_distancia, 4)\n",
    "    num_menos_total = sumar_columna(data_con_distancia, 5)\n",
    "    num_leves_total = sumar_columna(data_con_distancia, 6)\n",
    "    num_accidentes_total = sumar_columna(data_con_distancia, 7)\n",
    "    \n",
    "    return num_fallecidos_total, num_graves_total, num_menos_total, num_leves_total, num_accidentes_total"
   ]
  },
  {
   "cell_type": "code",
   "execution_count": 24,
   "id": "c5dfc40e-9870-42bf-a6ef-564a5846a3cc",
   "metadata": {},
   "outputs": [],
   "source": [
    "def calcular_porcentajes_comuna_vs_total(datos_comuna, data_con_distancia):\n",
    "    ''' calcula los porcentajes para cada ítem en comparación con los totales '''\n",
    "    num_fallecidos_com, num_graves_com, num_menos_com, num_leves_com, num_accidentes_com = calcular_suma_columnas_comuna(datos_comuna)\n",
    "    num_fallecidos_total, num_graves_total, num_menos_total, num_leves_total, num_accidentes_total = sumar_columnas_totales(data_con_distancia)\n",
    "    \n",
    "    por_fallecidos = round((num_fallecidos_com / num_fallecidos_total) * 100, 2)\n",
    "    por_graves = round((num_graves_com / num_graves_total) * 100, 2)\n",
    "    por_menos = round((num_menos_com / num_menos_total) * 100, 2)\n",
    "    por_leves = round((num_leves_com / num_leves_total) * 100, 2)\n",
    "    por_accidentes = round((num_accidentes_com / num_accidentes_total) * 100, 2)\n",
    "    \n",
    "    return por_fallecidos, por_graves, por_menos, por_leves, por_accidentes"
   ]
  },
  {
   "cell_type": "code",
   "execution_count": 25,
   "id": "54806868-4b01-4a1e-b5a8-155ac76c706d",
   "metadata": {},
   "outputs": [],
   "source": [
    "def generar_impresion(comuna, num_accidentes_com, num_fallecidos_com, num_graves_com, num_menos_com, num_leves_com, por_accidentes, \n",
    "                      por_fallecidos, por_graves, por_menos, por_leves):\n",
    "    print(f\"Histograma de accidentes durante el 2015 para la comuna de {comuna}:\")\n",
    "    print(\"Número de accidentes:           {:>3}  ->  {:>4.2f}%\".format(num_accidentes_com, por_accidentes))\n",
    "    print(\"Número de fallecidos:           {:>3}  ->  {:>4.2f}%\".format(num_fallecidos_com, por_fallecidos))\n",
    "    print(\"Número de heridos graves:       {:>3}  ->  {:>4.2f}%\".format(num_graves_com, por_graves))\n",
    "    print(\"Número de heridos menos graves: {:>3}  ->  {:>4.2f}%\".format(num_menos_com, por_menos))\n",
    "    print(\"Número de heridos leves:        {:>3}  ->  {:>4.2f}%\".format(num_leves_com, por_leves))"
   ]
  },
  {
   "cell_type": "code",
   "execution_count": 26,
   "id": "c70c267e-b000-41c1-b5f0-bd9f22d782cc",
   "metadata": {},
   "outputs": [],
   "source": [
    "def generar_informe_comuna(comuna, data_con_distancia):\n",
    "    datos_comuna = buscar_ubicacion(data_con_distancia, comuna)\n",
    "    num_fallecidos_com, num_graves_com, num_menos_com, num_leves_com, num_accidentes_com = calcular_suma_columnas_comuna(datos_comuna)\n",
    "    num_fallecidos_total, num_graves_total, num_menos_total, num_leves_total, num_accidentes_total = sumar_columnas_totales(data_con_distancia)\n",
    "    por_fallecidos, por_graves, por_menos, por_leves, por_accidentes = calcular_porcentajes_comuna_vs_total(datos_comuna, data_con_distancia)\n",
    "    \n",
    "    if len(datos_comuna) == 1:\n",
    "        print(\"No se tiene datos para esa comuna\")\n",
    "    else:\n",
    "        generar_impresion(comuna, num_accidentes_com, num_fallecidos_com, num_graves_com, num_menos_com, num_leves_com,\n",
    "                         por_accidentes, por_fallecidos, por_graves, por_menos, por_leves)\n",
    "        return\n",
    "    "
   ]
  },
  {
   "cell_type": "markdown",
   "id": "9d478b83-88bf-42f5-9227-78fc922f56a2",
   "metadata": {},
   "source": [
    "### Respuesta:\n",
    "Ingresar Nombre de la comuna en mayúscula y sin tíldes, luego ejecute la función generar_informe_comuna."
   ]
  },
  {
   "cell_type": "code",
   "execution_count": 27,
   "id": "bff9766c",
   "metadata": {},
   "outputs": [
    {
     "name": "stdin",
     "output_type": "stream",
     "text": [
      "Ingrese el nombre de una comuna:  SANTIAGO\n"
     ]
    }
   ],
   "source": [
    "comuna = input(\"Ingrese el nombre de una comuna: \")"
   ]
  },
  {
   "cell_type": "code",
   "execution_count": 28,
   "id": "989570ea-b50c-4f29-9261-ae696ab384c2",
   "metadata": {},
   "outputs": [
    {
     "name": "stdout",
     "output_type": "stream",
     "text": [
      "Histograma de accidentes durante el 2015 para la comuna de SANTIAGO:\n",
      "Número de accidentes:           241  ->  11.00%\n",
      "Número de fallecidos:            12  ->  11.32%\n",
      "Número de heridos graves:        47  ->  8.64%\n",
      "Número de heridos menos graves:  14  ->  7.73%\n",
      "Número de heridos leves:        174  ->  11.40%\n"
     ]
    }
   ],
   "source": [
    "generar_informe_comuna(comuna, data_con_distancia)"
   ]
  },
  {
   "cell_type": "markdown",
   "id": "0435743f",
   "metadata": {},
   "source": [
    "## Actividad 3\n",
    "\n",
    "Escriba un programa que genere una tabla con los datos acumulados por comuna, en el formato que se muestra a acontinuación.\n",
    "\n",
    "**Observación:** El orden de las filas puede variar. \n",
    "\n",
    "```\n",
    "|Comuna              | Accidentes | Fallecidos | Graves | Menos Graves | Leves |\n",
    "--------------------------------------------------------------------------------\n",
    "|            PUDAHUEL|          95|           6|      30|            10|     51|\n",
    "|           QUILICURA|          32|           0|       7|             1|     20|\n",
    "|               MAIPU|         129|           9|      25|            11|     99|\n",
    "|         CERRO NAVIA|          49|           1|      17|             6|     31|\n",
    "|               RENCA|          28|           1|       4|             1|     18|\n",
    "|            LO PRADO|          24|           0|       5|             2|     16|\n",
    "|    ESTACION CENTRAL|          81|           8|      28|             9|     44|\n",
    "|        SAN BERNARDO|          89|           2|      21|             6|     57|\n",
    "|       QUINTA NORMAL|          68|           2|      24|             6|     47|\n",
    "|           LO ESPEJO|          25|           1|       5|             4|     14|\n",
    "|           EL BOSQUE|          58|           2|      10|             9|     50|\n",
    "|            CONCHALI|          40|           6|      11|             1|     27|\n",
    "|            SANTIAGO|         234|          12|      43|            12|    170|\n",
    "|          HUECHURABA|          24|           2|       8|             4|     15|\n",
    "| PEDRO AGUIRRE CERDA|          16|           3|       3|             0|     12|\n",
    "|         LA CISTERNA|          30|           1|       7|             0|     24|\n",
    "|       INDEPENDENCIA|          20|           2|       4|             0|     13|\n",
    "|          SAN MIGUEL|          20|           3|       4|             2|     10|\n",
    "|          LA PINTANA|          24|           3|      15|             1|     10|\n",
    "|            RECOLETA|          57|           3|      14|             7|     41|\n",
    "|           SAN RAMON|          33|           0|       6|            12|     17|\n",
    "|         SAN JOAQUIN|          21|           0|       8|             1|     13|\n",
    "|         PROVIDENCIA|         157|           2|      40|            11|    127|\n",
    "|           LA GRANJA|          45|           7|      12|             5|     22|\n",
    "|               NUNOA|          91|           1|      29|             8|     61|\n",
    "|         PUENTE ALTO|         194|           9|      41|            22|    136|\n",
    "|               MACUL|          55|           2|      14|             1|     42|\n",
    "|          LA FLORIDA|          85|           8|      17|             5|     65|\n",
    "|          LAS CONDES|         161|           4|      42|            10|    117|\n",
    "|            VITACURA|          54|           0|      13|             1|     40|\n",
    "|           PENALOLEN|          68|           3|      19|             7|     59|\n",
    "|            LA REINA|          38|           2|       7|             3|     31|\n",
    "|        LO BARNECHEA|          46|           1|      11|             3|     27|\n",
    "--------------------------------------------------------------------------------\n",
    "|               TOTAL|        2191|         106|     544|           181|   1526|\n",
    "```"
   ]
  },
  {
   "cell_type": "code",
   "execution_count": 29,
   "id": "6fb4f4fb",
   "metadata": {},
   "outputs": [],
   "source": [
    "def obtener_comunas_posibles(data_con_distancia):\n",
    "    comunas=[]\n",
    "    for fila in data_con_distancia[1:]:\n",
    "        comuna = fila[2].split(';')[1]\n",
    "        if comuna not in comunas:\n",
    "            comunas.append(comuna)\n",
    "    return comunas"
   ]
  },
  {
   "cell_type": "code",
   "execution_count": 30,
   "id": "579df7b3-b9f9-4208-83a1-b1b3778a9f4d",
   "metadata": {},
   "outputs": [],
   "source": [
    "comunas_de_interes = obtener_comunas_posibles(data_con_distancia)"
   ]
  },
  {
   "cell_type": "code",
   "execution_count": 31,
   "id": "a2924f21-0000-42a1-81f0-b770b5e985b0",
   "metadata": {},
   "outputs": [],
   "source": [
    "def generar_informe_comunas(data_con_distancia, comunas_de_interes):\n",
    "    informe = []\n",
    "    for comuna in comunas_de_interes:\n",
    "        datos_comuna = buscar_ubicacion(data_con_distancia, comuna)\n",
    "        if not datos_comuna:\n",
    "            print(f\"No se tienen datos para la comuna {comuna}\")\n",
    "        else:\n",
    "            num_fallecidos_com, num_graves_com, num_menos_com, num_leves_com, num_accidentes_com = calcular_suma_columnas_comuna(datos_comuna)\n",
    "            num_fallecidos_total, num_graves_total, num_menos_total, num_leves_total, num_accidentes_total = sumar_columnas_totales(data_con_distancia)\n",
    "\n",
    "            informe.append((comuna, num_accidentes_com, num_fallecidos_com, num_graves_com, num_menos_com, num_leves_com))\n",
    "\n",
    "    return informe"
   ]
  },
  {
   "cell_type": "code",
   "execution_count": 32,
   "id": "89970a1f-4488-4f36-9d85-88112efeae6f",
   "metadata": {},
   "outputs": [],
   "source": [
    "informe = generar_informe_comunas(data_con_distancia, comunas_de_interes)"
   ]
  },
  {
   "cell_type": "code",
   "execution_count": 33,
   "id": "dd447000-de79-448e-9cba-a774db749c3b",
   "metadata": {},
   "outputs": [],
   "source": [
    "num_fallecidos_total, num_graves_total, num_menos_total, num_leves_total, num_accidentes_total = sumar_columnas_totales(data_con_distancia)"
   ]
  },
  {
   "cell_type": "code",
   "execution_count": 36,
   "id": "0ea37ecd-c9ed-4cc7-b629-91f6a49899a8",
   "metadata": {},
   "outputs": [],
   "source": [
    "total = \"|{:>25}|{:>15}|{:>15}|{:>15}|{:>15}|{:>15}|\".format(\"TOTAL\", num_accidentes_total, num_fallecidos_total, num_graves_total, \n",
    "                                                           num_menos_total, num_leves_total)"
   ]
  },
  {
   "cell_type": "code",
   "execution_count": 37,
   "id": "b9be53f4-6be7-4c97-bd03-56647af3855a",
   "metadata": {},
   "outputs": [],
   "source": [
    "def generar_tabla(informe, total):\n",
    "    header = \"|{:<25}|{:^15}|{:^15}|{:^15}|{:^15}|{:^15}|\".format(\"Comuna\", \"Accidentes\", \"Fallecidos\", \"Graves\", \"Menos Graves\", \"Leves\")\n",
    "    separator = \"-\"*107\n",
    "    \n",
    "    print(header)\n",
    "    print(separator)\n",
    "    \n",
    "    for fila in informe:\n",
    "        comuna = fila[0]\n",
    "        num_accidentes = fila[1]\n",
    "        num_fallecidos = fila[2]\n",
    "        num_graves = fila[3]\n",
    "        num_menos_graves = fila[4]\n",
    "        num_leves = fila[5]\n",
    "        \n",
    "        data = \"|{:>25}|{:>15}|{:>15}|{:>15}|{:>15}|{:>15}|\".format(comuna, num_accidentes, num_fallecidos, num_graves, num_menos_graves, num_leves)\n",
    "        print(data)\n",
    "    \n",
    "    print(separator)\n",
    "    \n",
    "    total = \"|{:>25}|{:>15}|{:>15}|{:>15}|{:>15}|{:>15}|\".format(\"TOTAL\", num_accidentes_total, num_fallecidos_total, num_graves_total, \n",
    "                                                           num_menos_total, num_leves_total)\n",
    "    print(total)"
   ]
  },
  {
   "cell_type": "code",
   "execution_count": 38,
   "id": "c229081b-5414-45d5-b43c-2bd88aebe147",
   "metadata": {},
   "outputs": [
    {
     "name": "stdout",
     "output_type": "stream",
     "text": [
      "|Comuna                   |  Accidentes   |  Fallecidos   |    Graves     | Menos Graves  |     Leves     |\n",
      "-----------------------------------------------------------------------------------------------------------\n",
      "|                PUDAHUEL\"|             95|              6|             30|             10|             51|\n",
      "|               QUILICURA\"|             32|              0|              7|              1|             20|\n",
      "|                   MAIPU\"|            129|              9|             25|             11|             99|\n",
      "|             CERRO NAVIA\"|             49|              1|             17|              6|             31|\n",
      "|                   RENCA\"|             28|              1|              4|              1|             18|\n",
      "|                LO PRADO\"|             24|              0|              5|              2|             16|\n",
      "|        ESTACION CENTRAL\"|             81|              8|             28|              9|             44|\n",
      "|            SAN BERNARDO\"|             89|              2|             21|              6|             57|\n",
      "|           QUINTA NORMAL\"|             68|              2|             24|              6|             47|\n",
      "|               LO ESPEJO\"|             25|              1|              5|              4|             14|\n",
      "|               EL BOSQUE\"|             58|              2|             10|              9|             50|\n",
      "|                CONCHALI\"|             40|              6|             11|              1|             27|\n",
      "|                SANTIAGO\"|            234|             12|             43|             12|            170|\n",
      "|              HUECHURABA\"|             24|              2|              8|              4|             15|\n",
      "|     PEDRO AGUIRRE CERDA\"|             16|              3|              3|              0|             12|\n",
      "|             LA CISTERNA\"|             30|              1|              7|              0|             24|\n",
      "|           INDEPENDENCIA\"|             20|              2|              4|              0|             13|\n",
      "|              SAN MIGUEL\"|             20|              3|              4|              2|             10|\n",
      "|              LA PINTANA\"|             24|              3|             15|              1|             10|\n",
      "|                RECOLETA\"|             57|              3|             14|              7|             41|\n",
      "|               SAN RAMON\"|             33|              0|              6|             12|             17|\n",
      "|             SAN JOAQUIN\"|             21|              0|              8|              1|             13|\n",
      "|             PROVIDENCIA\"|            157|              2|             40|             11|            127|\n",
      "|               LA GRANJA\"|             45|              7|             12|              5|             22|\n",
      "|                   NUNOA\"|             91|              1|             29|              8|             61|\n",
      "|             PUENTE ALTO\"|            194|              9|             41|             22|            136|\n",
      "|                   MACUL\"|             55|              2|             14|              1|             42|\n",
      "|              LA FLORIDA\"|             85|              8|             17|              5|             65|\n",
      "|              LAS CONDES\"|            161|              4|             42|             10|            117|\n",
      "|                VITACURA\"|             54|              0|             13|              1|             40|\n",
      "|               PENALOLEN\"|             68|              3|             19|              7|             59|\n",
      "|                LA REINA\"|             38|              2|              7|              3|             31|\n",
      "|            LO BARNECHEA\"|             46|              1|             11|              3|             27|\n",
      "-----------------------------------------------------------------------------------------------------------\n",
      "|                    TOTAL|           2191|            106|            544|            181|           1526|\n"
     ]
    }
   ],
   "source": [
    "generar_tabla(informe, total)"
   ]
  },
  {
   "cell_type": "code",
   "execution_count": null,
   "id": "fb90da41-f01f-4c04-be0c-0d3cc362c0da",
   "metadata": {},
   "outputs": [],
   "source": []
  },
  {
   "cell_type": "markdown",
   "id": "97ed9cd6",
   "metadata": {},
   "source": [
    "## Criterios de evaluación:\n",
    "\n",
    "A continuación se detallan los criterios de evaluación.\n",
    "\n",
    "- Cada actividad vale 2 puntos. \n",
    "- Por cada actividad se generarán dos ejemplos de manera aleatoria, cada ejecución correcta vale 1 puntos.\n",
    "- El código debe estar comentado y variables deben tener nombres adecuados a su uso, de lo contrario se descuenta hasta 0.5 puntos por actividad.\n",
    "- Uso de librerías                                                –> Se descuenta todo el puntaje.\n",
    "\n",
    "- Si la tarea se entrega en un formato incorrecto                     –> Máximo un 4.0"
   ]
  },
  {
   "cell_type": "markdown",
   "id": "a69598cf",
   "metadata": {},
   "source": [
    "## Recomendaciones:\n",
    "* Antes de entregar vaya a `Kernel -> Restart & Clear Output` y luego ejecute nuevamente los bloques asegurandose que ninguno arroje errores."
   ]
  }
 ],
 "metadata": {
  "kernelspec": {
   "display_name": "Python 3 (ipykernel)",
   "language": "python",
   "name": "python3"
  },
  "language_info": {
   "codemirror_mode": {
    "name": "ipython",
    "version": 3
   },
   "file_extension": ".py",
   "mimetype": "text/x-python",
   "name": "python",
   "nbconvert_exporter": "python",
   "pygments_lexer": "ipython3",
   "version": "3.9.13"
  }
 },
 "nbformat": 4,
 "nbformat_minor": 5
}
