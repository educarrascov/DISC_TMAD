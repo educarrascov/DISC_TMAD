{
 "cells": [
  {
   "cell_type": "markdown",
   "id": "82fd8ec6",
   "metadata": {},
   "source": [
    "\n",
    "# Tarea 1\n",
    "## Taller de Manejo y Análisis de Datos - 2023 - 1\n",
    "\n",
    "\n",
    "**Profesor:** Pedro Montealegre (p.montealegre@uai.cl) \n",
    "\n",
    "**Fecha de publicación:** martes 21 de marzo.\n",
    "\n",
    "**Fecha de entrega:** domingo 2 de abril a las 23:59 vía webcursos."
   ]
  },
  {
   "cell_type": "markdown",
   "id": "8acafbc6",
   "metadata": {},
   "source": [
    "## Instrucciones\n",
    "\n",
    "Adjunto a este cuaderno se entrega la base de datos `DatosT1.csv`. Desarrolle este cuaderno en los espacios indicados. Solo edite y entregue este cuaderno (no modifique la base de datos). Para la corrección, la base de datos podría ser ligeramente modificada en sus valores, pero no es su formato.\n",
    "\n",
    "El objetivo de esta tarea es evaluar el manejo de herramientas elementales de Python, como son el manejo de listas, strings, control de flujo, lectura de archivos, etc. Por lo tanto, **para esta tarea no se pueden usar módulos o librerías. Es decir, está prohibido usar el comando `import`.**\n",
    "\n",
    "El código debe ser ordenado y comentado adecuadamente. Las variables deben tener nombres que representen su uso. El funcionamiento debe ser exactamente el que se solicita. \n",
    "\n",
    "Puede trabajar individualmente o en parejas. "
   ]
  },
  {
   "cell_type": "code",
   "execution_count": null,
   "id": "4109d6a4",
   "metadata": {},
   "outputs": [],
   "source": [
    "# Indique el nombre y rut de los participantes\n",
    "\n",
    "# Nombre:\n",
    "# Rut:\n",
    "\n",
    "# Nombre:\n",
    "# Rut:"
   ]
  },
  {
   "cell_type": "markdown",
   "id": "1e691c7d",
   "metadata": {},
   "source": [
    "El archivo `DatosT1.csv` contiene datos georeferenciados de los accidentes de tránsito en que involucraron a peatones en la ciudad de Santiago durante 2015. Cada fila contiene un evento, y las columnas son las siguientes:\n",
    "* X:  longitud geografica del evento\n",
    "* Y:  latitud geografica del evento\n",
    "* Ubicacion: dirección en la que fue el evento\n",
    "* Fallecidos: número de fallecidos involucrados.\n",
    "* Graves: número de personas con heridas graves.\n",
    "* MenosGrave: número de personas cor heridas menos graves.\n",
    "* Leve: número de personas con heridas leves.\n",
    "* Accidentes: número de accidentes en el mismo lugar."
   ]
  },
  {
   "cell_type": "markdown",
   "id": "d1062b86",
   "metadata": {},
   "source": [
    "## Actividad 1: \n",
    "\n",
    "Considere que las variables `X0` e `Y0` representan las coordenadas de un punto en el mapa. Por ejemplo:"
   ]
  },
  {
   "cell_type": "code",
   "execution_count": null,
   "id": "e2c30507",
   "metadata": {},
   "outputs": [],
   "source": [
    "X0 = -70.51986870520346\n",
    "Y0 = -33.48854784792859"
   ]
  },
  {
   "cell_type": "markdown",
   "id": "0043c2dc",
   "metadata": {},
   "source": [
    "Corresponden a la entrada del campus Peñalolén.\n",
    "\n",
    "Escriba un programa que encuentre el evento más cercano al punto dado por `(X0,Y0)` e imprima la información asociada al evento. Su programa debe entrega la información  en el formato que se muestra a continuación:\n",
    "\n",
    "\n",
    "```\n",
    "El accidente más cercano a la ubicación idicada ocurrió en DIAGONAL LAS TORRES & CAMINO PRIVADO; PENALOLEN y tuvo 0 fallecidos, 1 heridos graves, 0 heridos menos graves y 0 heridos leves.\n",
    "```\n",
    "\n",
    "**Observación:** El punto (X0,Y0) anterior se entrega solo a modo de ejemplo. Para la corrección se podría considerar otro punto (X0,Y0). Su programa debe funcionar para cualquier punto definido en el bloque anterior. "
   ]
  },
  {
   "cell_type": "code",
   "execution_count": null,
   "id": "d779105c",
   "metadata": {},
   "outputs": [],
   "source": [
    "# Escriba aquí su solución."
   ]
  },
  {
   "cell_type": "markdown",
   "id": "ed49fba2",
   "metadata": {},
   "source": [
    "## Actividad 2\n",
    "\n",
    "Escriba un programa que solicite al usuario ingresar el nombre de una comuna (en mayúsculas y sin tildes) e imprima un histograma con la información asociada al total de accidentes ocurridos en esa comuna durante 2015. Además, para cada ítem, entregue los porcentajes respecto a todas las comunas. \n",
    "\n",
    "Su solución debe tener el formato que se entrega en el siguiente ejemplo. \n",
    "\n",
    "**Ejemplo**\n",
    "```\n",
    "Ingrese el nombre de una comuna: PENALOLEN\n",
    "\n",
    "Histograma de accidentes durante el 2015 para la comuna de PENALOLEN:\n",
    "\n",
    "Número de accidentes:            68  ->  3.10%\n",
    "Número de fallecidos:             3  ->  2.83%\n",
    "Número de heridos graves:        19  ->  3.49%\n",
    "Número de heridos menos graves:   7  ->  3.87%\n",
    "Número de heridos leves:         59  ->  3.87%`\n",
    "```\n",
    "\n",
    "**Observación:** Si el usuario indica un valor para el que no se tienen datos, su programa debe imprimir un mensaje \n",
    "```\n",
    "No se tiene datos para esa comuna\n",
    "```"
   ]
  },
  {
   "cell_type": "code",
   "execution_count": null,
   "id": "bff9766c",
   "metadata": {},
   "outputs": [],
   "source": [
    "# Escriba aquí su solución"
   ]
  },
  {
   "cell_type": "markdown",
   "id": "0435743f",
   "metadata": {},
   "source": [
    "## Actividad 3\n",
    "\n",
    "Escriba un programa que genere una tabla con los datos acumulados por comuna, en el formato que se muestra a acontinuación.\n",
    "\n",
    "**Observación:** El orden de las filas puede variar. \n",
    "\n",
    "```\n",
    "|Comuna              | Accidentes | Fallecidos | Graves | Menos Graves | Leves |\n",
    "--------------------------------------------------------------------------------\n",
    "|            PUDAHUEL|          95|           6|      30|            10|     51|\n",
    "|           QUILICURA|          32|           0|       7|             1|     20|\n",
    "|               MAIPU|         129|           9|      25|            11|     99|\n",
    "|         CERRO NAVIA|          49|           1|      17|             6|     31|\n",
    "|               RENCA|          28|           1|       4|             1|     18|\n",
    "|            LO PRADO|          24|           0|       5|             2|     16|\n",
    "|    ESTACION CENTRAL|          81|           8|      28|             9|     44|\n",
    "|        SAN BERNARDO|          89|           2|      21|             6|     57|\n",
    "|       QUINTA NORMAL|          68|           2|      24|             6|     47|\n",
    "|           LO ESPEJO|          25|           1|       5|             4|     14|\n",
    "|           EL BOSQUE|          58|           2|      10|             9|     50|\n",
    "|            CONCHALI|          40|           6|      11|             1|     27|\n",
    "|            SANTIAGO|         234|          12|      43|            12|    170|\n",
    "|          HUECHURABA|          24|           2|       8|             4|     15|\n",
    "| PEDRO AGUIRRE CERDA|          16|           3|       3|             0|     12|\n",
    "|         LA CISTERNA|          30|           1|       7|             0|     24|\n",
    "|       INDEPENDENCIA|          20|           2|       4|             0|     13|\n",
    "|          SAN MIGUEL|          20|           3|       4|             2|     10|\n",
    "|          LA PINTANA|          24|           3|      15|             1|     10|\n",
    "|            RECOLETA|          57|           3|      14|             7|     41|\n",
    "|           SAN RAMON|          33|           0|       6|            12|     17|\n",
    "|         SAN JOAQUIN|          21|           0|       8|             1|     13|\n",
    "|         PROVIDENCIA|         157|           2|      40|            11|    127|\n",
    "|           LA GRANJA|          45|           7|      12|             5|     22|\n",
    "|               NUNOA|          91|           1|      29|             8|     61|\n",
    "|         PUENTE ALTO|         194|           9|      41|            22|    136|\n",
    "|               MACUL|          55|           2|      14|             1|     42|\n",
    "|          LA FLORIDA|          85|           8|      17|             5|     65|\n",
    "|          LAS CONDES|         161|           4|      42|            10|    117|\n",
    "|            VITACURA|          54|           0|      13|             1|     40|\n",
    "|           PENALOLEN|          68|           3|      19|             7|     59|\n",
    "|            LA REINA|          38|           2|       7|             3|     31|\n",
    "|        LO BARNECHEA|          46|           1|      11|             3|     27|\n",
    "--------------------------------------------------------------------------------\n",
    "|               TOTAL|        2191|         106|     544|           181|   1526|\n",
    "```"
   ]
  },
  {
   "cell_type": "code",
   "execution_count": null,
   "id": "6fb4f4fb",
   "metadata": {},
   "outputs": [],
   "source": [
    "# Escriba aquí su solución."
   ]
  },
  {
   "cell_type": "markdown",
   "id": "97ed9cd6",
   "metadata": {},
   "source": [
    "## Criterios de evaluación:\n",
    "\n",
    "A continuación se detallan los criterios de evaluación.\n",
    "\n",
    "- Cada actividad vale 2 puntos. \n",
    "- Por cada actividad se generarán dos ejemplos de manera aleatoria, cada ejecución correcta vale 1 puntos.\n",
    "- El código debe estar comentado y variables deben tener nombres adecuados a su uso, de lo contrario se descuenta hasta 0.5 puntos por actividad.\n",
    "- Uso de librerías                                                –> Se descuenta todo el puntaje.\n",
    "\n",
    "- Si la tarea se entrega en un formato incorrecto                     –> Máximo un 4.0"
   ]
  },
  {
   "cell_type": "markdown",
   "id": "a69598cf",
   "metadata": {},
   "source": [
    "## Recomendaciones:\n",
    "* Antes de entregar vaya a `Kernel -> Restart & Clear Output` y luego ejecute nuevamente los bloques asegurandose que ninguno arroje errores."
   ]
  }
 ],
 "metadata": {
  "kernelspec": {
   "display_name": "Python 3 (ipykernel)",
   "language": "python",
   "name": "python3"
  },
  "language_info": {
   "codemirror_mode": {
    "name": "ipython",
    "version": 3
   },
   "file_extension": ".py",
   "mimetype": "text/x-python",
   "name": "python",
   "nbconvert_exporter": "python",
   "pygments_lexer": "ipython3",
   "version": "3.9.13"
  }
 },
 "nbformat": 4,
 "nbformat_minor": 5
}
