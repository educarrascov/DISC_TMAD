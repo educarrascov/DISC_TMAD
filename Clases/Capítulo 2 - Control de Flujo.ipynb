{
 "cells": [
  {
   "cell_type": "markdown",
   "metadata": {},
   "source": [
    "# Taller de Manejo y Análisis de Datos\n",
    "\n",
    "**Profesor**: Pedro Montealegre"
   ]
  },
  {
   "cell_type": "markdown",
   "metadata": {},
   "source": [
    "## Tuplas\n",
    "\n",
    "Una tupla es una secuencia (inmutable) de objetos. Las tuplas tienen un comportamiento muy similar a las listas, excepto que no pueden ser modificadas (i.e. son inmutables). \n",
    "\n",
    "Por ejemplo:"
   ]
  },
  {
   "cell_type": "code",
   "execution_count": 1,
   "metadata": {},
   "outputs": [
    {
     "data": {
      "text/plain": [
       "(12, 13, 'perro')"
      ]
     },
     "execution_count": 1,
     "metadata": {},
     "output_type": "execute_result"
    }
   ],
   "source": [
    "a = (12, 13, \"perro\")\n",
    "a"
   ]
  },
  {
   "cell_type": "markdown",
   "metadata": {},
   "source": [
    "Los objetos de una tupla pueden ser de cualquier tipo.\n",
    "\n",
    "Podemos recuperar uno de sus elementos del mismo modo que lo hacemos con cualquier secuencia."
   ]
  },
  {
   "cell_type": "code",
   "execution_count": null,
   "metadata": {},
   "outputs": [],
   "source": [
    "a[0]"
   ]
  },
  {
   "cell_type": "markdown",
   "metadata": {},
   "source": [
    "Los paréntesis no son necesarios para definir una tupla: basta escribir los objetos separados por comas:"
   ]
  },
  {
   "cell_type": "code",
   "execution_count": null,
   "metadata": {},
   "outputs": [],
   "source": [
    "a = 100, 20, \"pato\"\n",
    "a"
   ]
  },
  {
   "cell_type": "markdown",
   "metadata": {},
   "source": [
    "sin embargo, en general es una buena práctica escribir los paréntesis para enfatizar que estamos definiendo una tupla. \n",
    "\n",
    "Las tuplas también se pueden usar para hacer dos asignaciones al mismo tiempo:"
   ]
  },
  {
   "cell_type": "code",
   "execution_count": null,
   "metadata": {},
   "outputs": [],
   "source": [
    "x, y = 10, 20\n",
    "x"
   ]
  },
  {
   "cell_type": "code",
   "execution_count": null,
   "metadata": {},
   "outputs": [],
   "source": [
    "y"
   ]
  },
  {
   "cell_type": "markdown",
   "metadata": {},
   "source": [
    "Esto último es muy útil para intercambiar objetos en una sola línea, por ejemplo:"
   ]
  },
  {
   "cell_type": "code",
   "execution_count": null,
   "metadata": {},
   "outputs": [],
   "source": [
    "x = 1\n",
    "y = 2\n",
    "x, y = y, x"
   ]
  },
  {
   "cell_type": "code",
   "execution_count": null,
   "metadata": {},
   "outputs": [],
   "source": [
    "(x, y)"
   ]
  },
  {
   "cell_type": "markdown",
   "metadata": {},
   "source": [
    "La tupla vacía se define por `()`:"
   ]
  },
  {
   "cell_type": "code",
   "execution_count": null,
   "metadata": {},
   "outputs": [],
   "source": [
    "t = ()\n",
    "len(t)"
   ]
  },
  {
   "cell_type": "code",
   "execution_count": null,
   "metadata": {},
   "outputs": [],
   "source": [
    "type(t)"
   ]
  },
  {
   "cell_type": "markdown",
   "metadata": {},
   "source": [
    "Supongamos que queremos crear una tupla con un solo elemento igual a 5. \n",
    "\n",
    "Escribimos:"
   ]
  },
  {
   "cell_type": "code",
   "execution_count": null,
   "metadata": {},
   "outputs": [],
   "source": [
    "a = (5,)\n",
    "a"
   ]
  },
  {
   "cell_type": "markdown",
   "metadata": {},
   "source": [
    "o bien"
   ]
  },
  {
   "cell_type": "code",
   "execution_count": null,
   "metadata": {},
   "outputs": [],
   "source": [
    "a = 5,\n",
    "a"
   ]
  },
  {
   "cell_type": "code",
   "execution_count": null,
   "metadata": {},
   "outputs": [],
   "source": [
    "type(a)"
   ]
  },
  {
   "cell_type": "markdown",
   "metadata": {},
   "source": [
    "La coma al final puede parecer extraña, pero es necesaria para distinguir la tupla `(5)` del número 5 entre paréntesis. "
   ]
  },
  {
   "cell_type": "code",
   "execution_count": null,
   "metadata": {},
   "outputs": [],
   "source": [
    "a = (5)\n",
    "a"
   ]
  },
  {
   "cell_type": "code",
   "execution_count": null,
   "metadata": {},
   "outputs": [],
   "source": [
    "type(a)"
   ]
  },
  {
   "cell_type": "markdown",
   "metadata": {},
   "source": [
    "**importante** las tuplas son inmutables (como los strings), esto significa que no podemos modificar un elemento individualmente:"
   ]
  },
  {
   "cell_type": "code",
   "execution_count": null,
   "metadata": {},
   "outputs": [],
   "source": [
    "a = (1,2,3)\n",
    "a[0] = 10"
   ]
  },
  {
   "cell_type": "markdown",
   "metadata": {},
   "source": [
    "Esta es la principal diferencia entre una lista y una tupla. Se usan las tuplas cuando no queremos que el contenido se pueda cambiar.\n",
    "\n",
    "En Python, las funciones que devuelven más de un valor lo hacen entregando una tupla."
   ]
  },
  {
   "cell_type": "markdown",
   "metadata": {},
   "source": [
    "## Diccionarios"
   ]
  },
  {
   "cell_type": "markdown",
   "metadata": {},
   "source": [
    "Los diccionarios también se conocen como \"arreglos asociativos\" o \"tablas de Hash\". Los diccionarios son conjuntos *desordenados* de pares *llave-valor*. \n",
    "\n",
    "Comenzamos definiendo un diccionario vacío, utilizando paréntesis tipo llave:"
   ]
  },
  {
   "cell_type": "code",
   "execution_count": null,
   "metadata": {},
   "outputs": [],
   "source": [
    "d = {}\n",
    "type(d)"
   ]
  },
  {
   "cell_type": "markdown",
   "metadata": {},
   "source": [
    "Los pares llave-valor se pueden agregar del siguiente modo:"
   ]
  },
  {
   "cell_type": "code",
   "execution_count": null,
   "metadata": {},
   "outputs": [],
   "source": [
    "d[\"hoy\"] = \"22 grados C\" # La llave es \"hoy\""
   ]
  },
  {
   "cell_type": "code",
   "execution_count": null,
   "metadata": {},
   "outputs": [],
   "source": [
    "d[\"ayer\"] = \"20 grados C\""
   ]
  },
  {
   "cell_type": "code",
   "execution_count": null,
   "metadata": {},
   "outputs": [],
   "source": [
    "d"
   ]
  },
  {
   "cell_type": "markdown",
   "metadata": {},
   "source": [
    "Los métodos `keys` y `values` permiten recuperar las llaves y los valores en un diccionario "
   ]
  },
  {
   "cell_type": "code",
   "execution_count": null,
   "metadata": {},
   "outputs": [],
   "source": [
    "d.keys()"
   ]
  },
  {
   "cell_type": "code",
   "execution_count": null,
   "metadata": {},
   "outputs": [],
   "source": [
    "d.values()"
   ]
  },
  {
   "cell_type": "markdown",
   "metadata": {},
   "source": [
    "Podemos recueprar valores usando las llaves como índices:"
   ]
  },
  {
   "cell_type": "code",
   "execution_count": null,
   "metadata": {},
   "outputs": [],
   "source": [
    "d[\"hoy\"]"
   ]
  },
  {
   "cell_type": "code",
   "execution_count": null,
   "metadata": {},
   "outputs": [],
   "source": [
    "d[\"ayer\"]"
   ]
  },
  {
   "cell_type": "markdown",
   "metadata": {},
   "source": [
    "También se puede crear diccionarios con varios pares a la vez del siguiente modo:"
   ]
  },
  {
   "cell_type": "code",
   "execution_count": null,
   "metadata": {},
   "outputs": [],
   "source": [
    "d2 = {2:4, 3:9, \"hola\":\"chao\"}"
   ]
  },
  {
   "cell_type": "markdown",
   "metadata": {},
   "source": [
    "Podemos usar `in` para verificar si un diccionario contiene una llave"
   ]
  },
  {
   "cell_type": "code",
   "execution_count": null,
   "metadata": {},
   "outputs": [],
   "source": [
    "2 in d2"
   ]
  },
  {
   "cell_type": "code",
   "execution_count": null,
   "metadata": {},
   "outputs": [],
   "source": [
    "4 in d2"
   ]
  },
  {
   "cell_type": "code",
   "execution_count": null,
   "metadata": {},
   "outputs": [],
   "source": [
    "4 in d2.values()"
   ]
  },
  {
   "cell_type": "markdown",
   "metadata": {},
   "source": [
    "### Ejercicio 1.8"
   ]
  },
  {
   "cell_type": "markdown",
   "metadata": {},
   "source": [
    "Escriba un programa que le pregunte al usuario el número de contagiados y recuperados de por COVID-19 informados los últimos tres días y construya un diccionario cuyas llaves sea la fecha en formato `dd-mm-aaaa` y el valor sea la tupla `(contagiados, fallecidos)` correspondientes a los valores correspondientes a la fecha. \n",
    "\n",
    "Ejemplo de ejecución del programa:\n",
    "\n",
    " \n",
    " ``` \n",
    "Ingrese fecha (en formato dd-mm-aaaa):15-03-2021\n",
    "Ingrese número de contagiados de hoy: 1\n",
    "Ingrese número de recuperados de hoy: 2\n",
    "Ingrese número de contagiados de ayer: 3\n",
    "Ingrese número de recuperados de ayer: 4\n",
    "Ingrese número de contagiados de anteayer: 5\n",
    "Ingrese número de recuperados de anteayer: 6\n",
    "```\n",
    "\n",
    "Entrega el siguiente diccionario\n",
    "\n",
    "`{'15-03-2021': (1, 2), '14-03-2021': (3, 4), '13-03-2021': (5, 6)}`\n"
   ]
  },
  {
   "cell_type": "code",
   "execution_count": null,
   "metadata": {},
   "outputs": [],
   "source": [
    "# Escriba aquí su respuesta"
   ]
  },
  {
   "cell_type": "markdown",
   "metadata": {},
   "source": [
    "# Capítulo 2: Elementos básicos de Python II\n",
    "* Lectura y escritura de archivos\n",
    "* Control de flujo"
   ]
  },
  {
   "cell_type": "markdown",
   "metadata": {},
   "source": [
    "------------\n",
    "\n",
    "## Entrada y Salida\n",
    "\n",
    "En esta sección, daremos detalles de cómo *imprimir* valores, lo que incluye el uso de la función `print()` y el operador de estilos cásico `%`, y el nuevo especificador de estilos `{}`.\n",
    "\n",
    "### Imprimir a la salida estándar (normalmente la pantalla)\n",
    "\n",
    "La función `print()` es la función conmunmente usada para imprimir información en el \"dispositivo estandar de salida\", el cual normalmente es la pantalla. \n",
    "\n",
    "Hay dos modos de usar `print`.\n",
    "\n",
    "\n",
    "#### Print simple\n",
    "\n",
    "La forma más fácil de usar el comando `print` es simplemente haciendo una lista de los valores que uno quiere imprimir, separados por una coma. Por ejemplo:"
   ]
  },
  {
   "cell_type": "code",
   "execution_count": null,
   "metadata": {},
   "outputs": [],
   "source": [
    "a = 10\n",
    "b = 'texto ejemplo'\n",
    "print(a)"
   ]
  },
  {
   "cell_type": "code",
   "execution_count": null,
   "metadata": {},
   "outputs": [],
   "source": [
    "print(b)"
   ]
  },
  {
   "cell_type": "code",
   "execution_count": null,
   "metadata": {},
   "outputs": [],
   "source": [
    "print(a, b)"
   ]
  },
  {
   "cell_type": "code",
   "execution_count": null,
   "metadata": {},
   "outputs": [],
   "source": [
    "print(\"La respuesta es\", a)"
   ]
  },
  {
   "cell_type": "code",
   "execution_count": null,
   "metadata": {},
   "outputs": [],
   "source": [
    "print(\"La respuesta es\", a, \"y el string contiene\", b)"
   ]
  },
  {
   "cell_type": "markdown",
   "metadata": {},
   "source": [
    "Python agrega un espacio entre cad objeto que es impreso.  Además, agrega un salto de línea después de cada llamada a la función `print()`. Para eliminar esto, se puede usar la opción `end=`:"
   ]
  },
  {
   "cell_type": "code",
   "execution_count": null,
   "metadata": {},
   "outputs": [],
   "source": [
    "print(\"Imprimiendo línea uno\", end='')\n",
    "print(\"... todavía imprimiendo en la misma línea.\")"
   ]
  },
  {
   "cell_type": "markdown",
   "metadata": {},
   "source": [
    "### Formato\n",
    "\n",
    "Si se necesita, se puede dar un formato a las variables que se imprimen. Para esto, se puede usar el operador `%`, un especificador de formato, y a continuación una tupla indicando los valores a imprimir. \n",
    "Algunos especificadores de formato son `%d` para entero, `%f` para float, `%s` para string. Veamos algunos ejemplos:\n"
   ]
  },
  {
   "cell_type": "code",
   "execution_count": null,
   "metadata": {},
   "outputs": [],
   "source": [
    "print(\"a = %d b = %d\" % (10,20))"
   ]
  },
  {
   "cell_type": "code",
   "execution_count": null,
   "metadata": {},
   "outputs": [],
   "source": [
    "print(\"a = %f b = %f\" % (10,20))"
   ]
  },
  {
   "cell_type": "markdown",
   "metadata": {},
   "source": [
    "Para los decimales, se puede usar el formato `%A.Df`, lo que significa que el `float` debe imprimir con un Ancho total de `A` caracteres y `D` digitos decimales. "
   ]
  },
  {
   "cell_type": "code",
   "execution_count": null,
   "metadata": {},
   "outputs": [],
   "source": [
    "from math import pi\n",
    "print(\"Pi = %5.2f\" % pi)"
   ]
  },
  {
   "cell_type": "code",
   "execution_count": null,
   "metadata": {},
   "outputs": [],
   "source": [
    "print(\"Pi = %10.3f\" % (1000+pi))"
   ]
  },
  {
   "cell_type": "code",
   "execution_count": null,
   "metadata": {},
   "outputs": [],
   "source": [
    "print(\"Pi = %10.8f\" % pi)"
   ]
  },
  {
   "cell_type": "code",
   "execution_count": null,
   "metadata": {},
   "outputs": [],
   "source": [
    "print(\"Pi = %d\" % pi)"
   ]
  },
  {
   "cell_type": "code",
   "execution_count": null,
   "metadata": {},
   "outputs": [],
   "source": [
    "print(\"Pi = %f, 142*pi = %f and pi^2 = %f.\" % (pi, 142*pi, pi**2))"
   ]
  },
  {
   "cell_type": "code",
   "execution_count": null,
   "metadata": {},
   "outputs": [],
   "source": [
    "print(\"Numero1 = %f\" % 123.4)\n",
    "print(\"Numero3 = %f\" % 1.2) # aquí no están alineados \n",
    "print(\"\")\n",
    "print(\"Numero1 = %5.1f\" % 123.4)\n",
    "print(\"Numero2 = %5.1f\" % 1.2) # así quedan los dos números alineados"
   ]
  },
  {
   "cell_type": "markdown",
   "metadata": {},
   "source": [
    "Observar que la conversion que usa un especificador no es propia del comando `print`: "
   ]
  },
  {
   "cell_type": "code",
   "execution_count": null,
   "metadata": {},
   "outputs": [],
   "source": [
    "from math import pi\n",
    "\"pi = %f\" % pi"
   ]
  },
  {
   "cell_type": "markdown",
   "metadata": {},
   "source": [
    "Esto significa que podemos transformar objetos en strings cuando lo necesitemos, independiente de si decidimos imprimirlos o no. \n",
    "\n",
    "Veamos un resumen de los especificadores de formato usando como ejemplo la unidad astronómica: "
   ]
  },
  {
   "cell_type": "code",
   "execution_count": null,
   "metadata": {},
   "outputs": [],
   "source": [
    "AU = 149597870700  # Unidad astronómica [m]\n",
    "\"%f\" % AU        # línea 1 en la tabla a continuación"
   ]
  },
  {
   "cell_type": "markdown",
   "metadata": {},
   "source": [
    "| Especificador         |         Estilo         |  Ejemplo para AU|\n",
    "|:------------------|:---------------------:|----------------------:|\n",
    "| `%f` |    punto flotante    |  `149597870700.000000`|\n",
    "| `%e` |  notación exponencial |         `1.495979e+11`|\n",
    "| `%g` |  %e o %f dependiendo de la precisión  |          `1.49598e+11`|\n",
    "| `%d` |        entero        |         `149597870700`|\n",
    "| `%s` |  `str()` |         `149597870700`|\n",
    "\n"
   ]
  },
  {
   "cell_type": "markdown",
   "metadata": {},
   "source": [
    "#### La función str\n",
    "\n",
    "\n",
    "Recordemos que mostramos la función `str()`, la cual \"pasa a string\" el objeto dado:"
   ]
  },
  {
   "cell_type": "code",
   "execution_count": null,
   "metadata": {},
   "outputs": [],
   "source": [
    "a  = 3.14\n",
    "str(a)"
   ]
  },
  {
   "cell_type": "markdown",
   "metadata": {},
   "source": [
    "La función `str` resulta muy conveniente cuando queremos imprimir objetos más complicados, por ejemplo:"
   ]
  },
  {
   "cell_type": "code",
   "execution_count": null,
   "metadata": {},
   "outputs": [],
   "source": [
    "b = [3, 4.2, ['manzana', 'platano'], (0, 1)]\n",
    "str(b)"
   ]
  },
  {
   "cell_type": "markdown",
   "metadata": {},
   "source": [
    "Esta función es usada implícitamente en un objeto `x` cuando:\n",
    "\n",
    "-   usamos el especificador de formato %s para imprimir `x`\n",
    "\n",
    "-   pasamos el objeto `x` directamente al comando `print`:\n"
   ]
  },
  {
   "cell_type": "code",
   "execution_count": null,
   "metadata": {},
   "outputs": [],
   "source": [
    "print(b)"
   ]
  },
  {
   "cell_type": "code",
   "execution_count": null,
   "metadata": {
    "scrolled": true
   },
   "outputs": [],
   "source": [
    "print(\"%s\" % b)"
   ]
  },
  {
   "cell_type": "markdown",
   "metadata": {},
   "source": [
    "-------\n",
    "### Ejercicio 2.1"
   ]
  },
  {
   "cell_type": "markdown",
   "metadata": {},
   "source": [
    "1. Escriba un programa que imprima $\\pi$ aproximado a 5, 10, 15 y 20 posiciones decimales (primero resolver con 5 líneas de código, luego con un ciclo for)"
   ]
  },
  {
   "cell_type": "code",
   "execution_count": null,
   "metadata": {},
   "outputs": [],
   "source": [
    "# Escribe aquí tu solución haciendo doble click"
   ]
  },
  {
   "cell_type": "markdown",
   "metadata": {},
   "source": [
    "2. Escriba un programa que tome una lista de strings guardada en la variable `listaStrings` e imprima toda la lista con los caracteres en mayúsculas. "
   ]
  },
  {
   "cell_type": "code",
   "execution_count": null,
   "metadata": {},
   "outputs": [],
   "source": [
    "# Escribe aquí tu solución haciendo doble click\n"
   ]
  },
  {
   "cell_type": "markdown",
   "metadata": {},
   "source": [
    "## Leer y escribir archivos\n",
    "\n",
    "A continuación mostramos un programa que:\n",
    "\n",
    "1. Escribe texto en un archivo de nombre `ejemplo.txt`,\n",
    "\n",
    "2. Luego abre el archivo creado,\n",
    "\n",
    "3. Lo imprime en pantalla.\n",
    "\n",
    "<!-- -->"
   ]
  },
  {
   "cell_type": "code",
   "execution_count": null,
   "metadata": {},
   "outputs": [],
   "source": [
    "# 1. Escribe un archivo\n",
    "archivo_salida = open(\"ejemplo.txt\", \"w\")       # Abrimos el archivo, el parámetro 'w' significa que vamos a escribir \n",
    "archivo_salida.write(\"Escribiendo texto en un archivo. Esta es la primera línea.\\n\"+\n",
    "               \"Y esta es la segunda.\")\n",
    "archivo_salida.close()                          # Cerramos el archivo\n",
    " \n",
    "# 2. Leer un archivo\n",
    "archivo_entrada = open(\"ejemplo.txt\", \"r\")        # Abrimos el archivo el parámetro 'r' significa que vamos a leer\n",
    "text = archivo_entrada.read()                     # Leer todo el archivo y guardarlo en un string\n",
    "archivo_entrada.close()                           # Cerramos el archivo\n",
    " \n",
    "# 3. Imprimimos el texto\n",
    "print(text)"
   ]
  },
  {
   "cell_type": "markdown",
   "metadata": {},
   "source": [
    "La información guardada en el archivo `ejemplo.txt` es:\n",
    "\n",
    "```\n",
    "Escribiendo texto en un archivo. Esta es la primera línea.\n",
    "Y esta es la segunda.\n",
    "```"
   ]
  },
  {
   "cell_type": "markdown",
   "metadata": {},
   "source": [
    "Más en detalle, se abre un archivo usando el comando `open`, y se le asigna un objeto \"archivo abierto\" a la variable `archivo_salida`. Después usamos el método `archivo_salida.write` para escribir en el archivo. Notar que en el ejemplo anterior, le dimos un string al metodo `write`.  Podemos aquí usar todas las técnicas de formateo vistas anteriormente. Es una buena práctica cerrar los archivos después de abrirlos. Para esto se usa el método `close()`. Un programa Python funcionando en condiciones normales es capaz de cerrar archivos que ya no usa, pero de todas maneras es una buena práctica cerrar los archivos lo antes posible. "
   ]
  },
  {
   "cell_type": "markdown",
   "metadata": {},
   "source": [
    "### Ejemplos de lectura de archivos \n",
    "\n",
    "Para los ejemplos a continuación vamos a crear un archivo llamado `miarchivo.txt` que contiene las siguientes líneas: \n",
    "\n",
    "\n",
    "    Esta es la primera línea.\n",
    "    Esta es la segunda línea.\n",
    "    Esta es la tercera y última línea."
   ]
  },
  {
   "cell_type": "code",
   "execution_count": null,
   "metadata": {},
   "outputs": [],
   "source": [
    "f = open('miarchivo.txt', 'w')\n",
    "f.write('Esta es la primera línea.\\n'\n",
    "        'Esta es la segunda línea.\\n'\n",
    "        'Esta es la tercera y última línea.')\n",
    "f.close()"
   ]
  },
  {
   "cell_type": "markdown",
   "metadata": {},
   "source": [
    "#### fileobject.read()\n",
    "\n",
    "El método `fileobject.read()` lee todo el archivo, y lo devuelve como un solo string (incluyendo los caracteres usados para saltos de línea). "
   ]
  },
  {
   "cell_type": "code",
   "execution_count": null,
   "metadata": {},
   "outputs": [],
   "source": [
    "f = open('miarchivo.txt', 'r')\n",
    "f.read()"
   ]
  },
  {
   "cell_type": "code",
   "execution_count": null,
   "metadata": {},
   "outputs": [],
   "source": [
    "f.close()"
   ]
  },
  {
   "cell_type": "markdown",
   "metadata": {},
   "source": [
    "#### fileobject.readlines()\n",
    "\n",
    "El método   `fileobject.readlines()` devuelve una lista de strings, donde cada elemento es una línea del string:"
   ]
  },
  {
   "cell_type": "code",
   "execution_count": null,
   "metadata": {},
   "outputs": [],
   "source": [
    "f = open('miarchivo.txt', 'r')\n",
    "lines = f.readlines()\n",
    "f.close()\n",
    "print(lines)"
   ]
  },
  {
   "cell_type": "markdown",
   "metadata": {},
   "source": [
    "Observe que éste método guarda el archivo completo en una lista de strings apenas se use el método `readlines()`. Por lo tanto no hay problemas si cerramos el archivo antes de procesar los datos:"
   ]
  },
  {
   "cell_type": "markdown",
   "metadata": {},
   "source": [
    "##### Más información\n",
    "\n",
    "[Methods of File objects, Tutorial, Section 7.2.1](http://docs.python.org/tutorial/inputoutput.html#methods-of-file-objects)"
   ]
  },
  {
   "cell_type": "markdown",
   "metadata": {},
   "source": [
    "------\n",
    "### Ejercicio 2.2"
   ]
  },
  {
   "cell_type": "markdown",
   "metadata": {},
   "source": [
    " 1. Escriba un programa en que el usuario ingrese información de 3 alumnos, y luego se cree un archivo llamado `Ejercicio9.txt` que contenga tres líneas, donde cada línea corresponde la información de uno de los alumnos. La información corresponde al nombre, y dos notas del alumno, correspondientes a la Prueba 1 y Prueba 2. La información debe ser almacenada en el formatio `Apellido,Nota1,Nota2`. \n",
    " \n",
    " Por ejemplo, el programa podría tener un diálogo como:\n",
    " \n",
    " ``` \n",
    "Ingrese el nombre del primer alumno: Pedro\n",
    "Ingrese la nota de la Prueba 1 del primer alumno: 5.2\n",
    "Ingrese la nota de la Prueba 2 del primer alumno: 6\n",
    "Ingrese el nombre del segundo alumno: Alicia\n",
    "Ingrese la nota de la Prueba 1 del segundo alumno: 5.5\n",
    "Ingrese la nota de la Prueba 2 del segundo alumno: 7\n",
    "Ingrese el nombre del tercer alumno: Juan\n",
    "Ingrese la nota de la Prueba 1 del tercer alumno: 3.5\n",
    "Ingrese la nota de la Prueba 2 del tercer alumno: 4\n",
    "```\n",
    "y entonces en el archivo `Ejercicio9.txt` quedaría guardado\n",
    "\n",
    "```\n",
    "Pedro,5.2,6\n",
    "Alicia,5.5,6.9\n",
    "Juan,3.5,4\n",
    "```"
   ]
  },
  {
   "cell_type": "code",
   "execution_count": null,
   "metadata": {},
   "outputs": [],
   "source": [
    "# Escribe aquí tu solución haciendo doble click\n"
   ]
  },
  {
   "cell_type": "markdown",
   "metadata": {},
   "source": [
    "2. Escriba un programa que lea el archivo `Ejercicio9.txt` creado en el formato del ejercicio anterior, y que calcule el promedio de cada prueba. Mostrando por ejemplo:<br>\n",
    "Juan obtuvo promedio 5.6<br>\n",
    "Alicia obtuvo promedio 6.2<br>\n",
    "Juan obtuvo promedio 3.8"
   ]
  },
  {
   "cell_type": "code",
   "execution_count": null,
   "metadata": {},
   "outputs": [],
   "source": [
    "# Escribe aquí tu solución haciendo doble click\n",
    "\n"
   ]
  },
  {
   "cell_type": "markdown",
   "metadata": {},
   "source": [
    "-----"
   ]
  },
  {
   "cell_type": "markdown",
   "metadata": {},
   "source": [
    "# Control de flujo\n",
    "\n",
    "En un programa Python, el intérprete Python va a comenzar al inicio del archivo y línea por línea va a procesar los comandos entregados. Por ejemplo:"
   ]
  },
  {
   "cell_type": "code",
   "execution_count": null,
   "metadata": {},
   "outputs": [],
   "source": [
    "print(\"El programa comienza aquí\")\n",
    "x = 16\n",
    "print(\"4 * 4 =\",x)\n",
    "print(\"Aquí vamos a la mitad\")\n",
    "\n",
    "y = 30*30 ; print(\"30 elevado a 30 es un número grande:\",y)\n",
    "\n",
    "print(\"Esta es la última línea -- adiós\")"
   ]
  },
  {
   "cell_type": "markdown",
   "metadata": {},
   "source": [
    "La regla básica es que los comandos de un archivo (o funcón, o cualquier secuencia de comandos) se procesan desde arriba hacia abajo. Si hay más de un comando por línea (separada por <span>`;`</span>), entonces estos comandos son procesados de izquierda a derecha (se desaconseja tener más de un comando por línea, de modo de mantener una buena legibilidad del código).\n",
    "\n",
    "En general esta forma de procesar los comandos resulta muy simple, y se hace necesario contar con erramientas de *control de flujo*, de modo de (por ejemplo) ejecutar un conjunto de comandos si ciertas condiciones se cumplen, o de repetir una porción de código un cierto número de veces. Conoceremos a continuación estas herramientas.\n",
    "\n",
    "### Condicionales\n",
    "\n",
    "Los valores <span>`True`</span> (Verdadero) y  <span>`False`</span> (Falso) son objetos especiales que vienen preconfigurados. Estos valores son de un tipo especial llamado `bool` (en honor a George Boole por sus trabajos en la lógica simbólica). "
   ]
  },
  {
   "cell_type": "code",
   "execution_count": null,
   "metadata": {},
   "outputs": [],
   "source": [
    "a = True\n",
    "print(a)"
   ]
  },
  {
   "cell_type": "code",
   "execution_count": null,
   "metadata": {},
   "outputs": [],
   "source": [
    "type(a)"
   ]
  },
  {
   "cell_type": "code",
   "execution_count": null,
   "metadata": {},
   "outputs": [],
   "source": [
    "b = False\n",
    "print(b)"
   ]
  },
  {
   "cell_type": "code",
   "execution_count": null,
   "metadata": {},
   "outputs": [],
   "source": [
    "type(b)"
   ]
  },
  {
   "cell_type": "markdown",
   "metadata": {},
   "source": [
    "Podemos operar con estos dos valores lógicos utilizando la lógica booleana, por ejemplo utilizando la conjunción (<span>`and`</span>):"
   ]
  },
  {
   "cell_type": "code",
   "execution_count": null,
   "metadata": {},
   "outputs": [],
   "source": [
    "True and True          #conjunción lógica"
   ]
  },
  {
   "cell_type": "code",
   "execution_count": null,
   "metadata": {},
   "outputs": [],
   "source": [
    "True and False"
   ]
  },
  {
   "cell_type": "code",
   "execution_count": null,
   "metadata": {},
   "outputs": [],
   "source": [
    "False and True"
   ]
  },
  {
   "cell_type": "code",
   "execution_count": null,
   "metadata": {},
   "outputs": [],
   "source": [
    "True and True"
   ]
  },
  {
   "cell_type": "code",
   "execution_count": null,
   "metadata": {},
   "outputs": [],
   "source": [
    "c = a and b\n",
    "print(c)"
   ]
  },
  {
   "cell_type": "markdown",
   "metadata": {},
   "source": [
    "También contamos con la disjunción (<span>`or`</span>) y la negación (<span>`not`</span>):"
   ]
  },
  {
   "cell_type": "code",
   "execution_count": null,
   "metadata": {},
   "outputs": [],
   "source": [
    "True or False"
   ]
  },
  {
   "cell_type": "code",
   "execution_count": null,
   "metadata": {},
   "outputs": [],
   "source": [
    "not True"
   ]
  },
  {
   "cell_type": "code",
   "execution_count": null,
   "metadata": {},
   "outputs": [],
   "source": [
    "not False"
   ]
  },
  {
   "cell_type": "code",
   "execution_count": null,
   "metadata": {},
   "outputs": [],
   "source": [
    "True and not False"
   ]
  },
  {
   "cell_type": "markdown",
   "metadata": {},
   "source": [
    "En un código computacional, a menudo es necesario evaluar alguna función proposicional (expresión que es verdadera o falsa, llamada también *predicado*). Por ejemplo:"
   ]
  },
  {
   "cell_type": "code",
   "execution_count": null,
   "metadata": {},
   "outputs": [],
   "source": [
    "x = 30          # asignar 30 a la variable x\n",
    "x > 15          # es x mayor que 15?"
   ]
  },
  {
   "cell_type": "code",
   "execution_count": null,
   "metadata": {},
   "outputs": [],
   "source": [
    "x > 42"
   ]
  },
  {
   "cell_type": "code",
   "execution_count": null,
   "metadata": {},
   "outputs": [],
   "source": [
    "x == 30         # es x igual a 30?"
   ]
  },
  {
   "cell_type": "code",
   "execution_count": null,
   "metadata": {},
   "outputs": [],
   "source": [
    "x == 42"
   ]
  },
  {
   "cell_type": "code",
   "execution_count": null,
   "metadata": {},
   "outputs": [],
   "source": [
    "not x == 42     # es x diferente a 42?"
   ]
  },
  {
   "cell_type": "code",
   "execution_count": null,
   "metadata": {},
   "outputs": [],
   "source": [
    "x != 42         # es x diferente a 42?"
   ]
  },
  {
   "cell_type": "code",
   "execution_count": null,
   "metadata": {},
   "outputs": [],
   "source": [
    "x > 30          # es x mayor que 30?"
   ]
  },
  {
   "cell_type": "code",
   "execution_count": null,
   "metadata": {},
   "outputs": [],
   "source": [
    "x >= 30  # es x mayor o igual a 30?"
   ]
  },
  {
   "cell_type": "markdown",
   "metadata": {},
   "source": [
    "También podemos hacer comparaciones entre strings:"
   ]
  },
  {
   "cell_type": "code",
   "execution_count": null,
   "metadata": {},
   "outputs": [],
   "source": [
    "x = \"hola\"\n",
    "x == \"hola\""
   ]
  },
  {
   "cell_type": "code",
   "execution_count": null,
   "metadata": {},
   "outputs": [],
   "source": [
    "x == \"chao\""
   ]
  },
  {
   "cell_type": "code",
   "execution_count": null,
   "metadata": {},
   "outputs": [],
   "source": [
    "x != \"hola\""
   ]
  },
  {
   "cell_type": "markdown",
   "metadata": {},
   "source": [
    "### Condicionales\n",
    "\n",
    "##### Más información\n",
    "\n",
    "-   Introduction to If-then in [Python tutorial, section 4.1](http://docs.python.org/tutorial/controlflow.html#if-statements)\n",
    "\n",
    "El comando <span>`if`</span>  permite la ejecución condicional de una parte del código, por ejemplo:"
   ]
  },
  {
   "cell_type": "code",
   "execution_count": null,
   "metadata": {},
   "outputs": [],
   "source": [
    "a = 1\n",
    "if a>0:\n",
    "    print(\"La variable es negativa\")"
   ]
  },
  {
   "cell_type": "code",
   "execution_count": null,
   "metadata": {},
   "outputs": [],
   "source": [
    "a = 1\n",
    "if a > 0:\n",
    "    print(\"La variable es positiva.\")   # Estos comandos se ejecutan\n",
    "    a = -1                              # cuando el predicado a>0\n",
    "    print(\"Ahora vale -1.\")             # sea verdadero\n",
    "    \n",
    "print(\"Fin del programa.\")              # Este comando se ejecuta siempre.  "
   ]
  },
  {
   "cell_type": "markdown",
   "metadata": {},
   "source": [
    "Aquí nos encontramos con dos caracterísitcas de la sintaxis de Python a las que hay que ponerle mucha atención:\n",
    "\n",
    "1. La condición con la cual se ejecuta el código se escribe inmediatamente después del texto `if` y se termina escribiendo dos puntos `:`.\n",
    "2. Las líneas de código que se ejecutan en caso que la condicion se satisfaga van \"corridas\" a la derecha usando una sangría. \n",
    "\n",
    "A diferencia de otros lenguajes de progamación como C, Java, etc, la sintaxis de python no encierra los *ambientes* utilizando paréntesis, sino que utilizando sangrías.\n"
   ]
  },
  {
   "cell_type": "code",
   "execution_count": null,
   "metadata": {},
   "outputs": [],
   "source": [
    "a = -5\n",
    "if a > 0:\n",
    "    print(\"La variable es positiva.\")   # Estos comandos se ejecutan\n",
    "    a = -1                              # cuando el predicado a>0\n",
    "                                        # sea verdadero\n",
    "print(\"Ahora vale -1.\")                 # Este comando se ejecuta siempre.  \n",
    "print(\"Fin del programa.\")              # Este comando también.  "
   ]
  },
  {
   "cell_type": "markdown",
   "metadata": {},
   "source": [
    "Se puede usar cualquier tipo de comandos al interior de un condicional, incluyendo otros condicionales."
   ]
  },
  {
   "cell_type": "code",
   "execution_count": null,
   "metadata": {},
   "outputs": [],
   "source": [
    "a = 2\n",
    "b = -3\n",
    "if a>0:\n",
    "    if b>0:\n",
    "        print(\"a y b son positivos\")\n",
    "    if b<0:\n",
    "        print(\"a es positivo y b es negativo\")\n",
    "if a<3:\n",
    "    print(\"a es menor que tres\")"
   ]
  },
  {
   "cell_type": "markdown",
   "metadata": {},
   "source": [
    "En el ejemplo anterior observamos que los comandos que se ejecutan en el segundo \"if\" quedan corridos en dos sangrías. "
   ]
  },
  {
   "cell_type": "markdown",
   "metadata": {},
   "source": [
    "Es muy frecuente el tener que verificar un predicado y a continuación su negación. Para estos casos, se contempla que el condicional también puede contener una rama `else`, que se ejecuta cuando el predicado sea falso:"
   ]
  },
  {
   "cell_type": "code",
   "execution_count": null,
   "metadata": {},
   "outputs": [],
   "source": [
    "a = 34\n",
    "if a > 0:\n",
    "    print(\"a es positiva\")\n",
    "else:\n",
    "    print(\"a no es positiva\")"
   ]
  },
  {
   "cell_type": "markdown",
   "metadata": {},
   "source": [
    "Finalmente, tenemos el `elif` (que se lee \"else if\") que permite chequear varias posibiliades que sean excluyentes entre si:"
   ]
  },
  {
   "cell_type": "code",
   "execution_count": null,
   "metadata": {},
   "outputs": [],
   "source": [
    "a = 17\n",
    "if a > 0:\n",
    "    print(\"a es positiva\")\n",
    "elif a < 0:\n",
    "    print(\"a es negativa\")\n",
    "else:\n",
    "    print(\"a es cero\")"
   ]
  },
  {
   "cell_type": "markdown",
   "metadata": {},
   "source": [
    "Observe que si las condiciones no son excluyentes, entonces se ejecuta solo el código de la primera condición que sea verdadera:"
   ]
  },
  {
   "cell_type": "code",
   "execution_count": null,
   "metadata": {},
   "outputs": [],
   "source": [
    "a = -6\n",
    "if a > 0:\n",
    "    print(\"a es positiva\")\n",
    "elif a < -10:\n",
    "    print(\"a es negativa\")\n",
    "elif a < -5:                    # En este ejemplo esta es la primera condicion que se satisface \n",
    "    print(\" a es menor que -5\") # y entonces solo se ejecuta esta línea. \n",
    "elif a < 0:\n",
    "    print(\" a negativa\")\n",
    "else:\n",
    "    print(\"a es cero\")"
   ]
  },
  {
   "cell_type": "markdown",
   "metadata": {},
   "source": [
    "-----\n",
    "### Ejercicio 2.3"
   ]
  },
  {
   "cell_type": "markdown",
   "metadata": {},
   "source": [
    "1. Escriba un programa que lea un número entero entregado por el usuario y responda si el número es par o impar. "
   ]
  },
  {
   "cell_type": "code",
   "execution_count": null,
   "metadata": {},
   "outputs": [],
   "source": [
    "# Escribe aquí tu solución haciendo doble click"
   ]
  },
  {
   "cell_type": "markdown",
   "metadata": {},
   "source": [
    "2. Considere que disponemos de un archivo `Ejercicio9.txt` como el creado por el código del Ejercicio 9, parte 1. Decimos que una alumno está aprobado si el promedio de la Prueba 1 y la Prueba 2 es mayor o igual a 3.95. De lo contrario el alumno está reprobado. \n",
    "Escriba un programa que genere un archivo `Ejercicio10.txt`, en que cada línea agregue si el alumno está aprobado o reprobado. \n",
    "\n",
    "Por ejemplo, si el archivo `Ejercicio9.txt` es:\n",
    "\n",
    "```\n",
    "Pedro,5.2,6\n",
    "Alicia,5.5,7\n",
    "Juan,3.5,4\n",
    "```\n",
    "\n",
    "entonces el archivo `Ejercicio10.txt` es:\n",
    "\n",
    "```\n",
    "Pedro,5.2,6,Aprobado\n",
    "Alicia,5.5,7,Aprobado\n",
    "Juan,3.5,4,Reprobado\n",
    "```"
   ]
  },
  {
   "cell_type": "code",
   "execution_count": null,
   "metadata": {},
   "outputs": [],
   "source": [
    "# Escribe aquí tu solución haciendo doble click"
   ]
  },
  {
   "cell_type": "markdown",
   "metadata": {},
   "source": [
    "------"
   ]
  },
  {
   "cell_type": "markdown",
   "metadata": {},
   "source": [
    "### Ciclos\n",
    "\n",
    "Otra forma de control de flujo son los ciclos. Se usan cuando queremos que una cierta parte del código se repita un cierto número de veces o mientras una cierta condición se cumpla. \n",
    "\n",
    "##### Más información\n",
    "\n",
    "-   Introduction to for-loops in [Python tutorial, section 4.2](http://docs.python.org/tutorial/controlflow.html#for-statements)"
   ]
  },
  {
   "cell_type": "markdown",
   "metadata": {},
   "source": [
    "#### Ciclos \"while\"\n",
    "\n",
    "Los ciclos `while` permiten repetir una operación *mietras* un cierto predicado sea verdadero. Veamos algunos ejemplos:"
   ]
  },
  {
   "cell_type": "code",
   "execution_count": null,
   "metadata": {},
   "outputs": [],
   "source": [
    "i = 0\n",
    "while i<10:    # Mientras la variable i sea menor que 10\n",
    "    print(i)   # Se imprime el valor de i\n",
    "    i = i+1    # y se le suma 1"
   ]
  },
  {
   "cell_type": "code",
   "execution_count": null,
   "metadata": {},
   "outputs": [],
   "source": [
    "i = 0\n",
    "while i<=5:             # Mientras la variable i sea menor que 5\n",
    "    print(\"%.3f\" % i)   # Se imprime i con tres decimales\n",
    "    i = i+0.3           # y se le suma 0.3"
   ]
  },
  {
   "cell_type": "markdown",
   "metadata": {},
   "source": [
    "Observamos que para los ciclos while utilizamos la misma separación de bloques que usamos con los condicionales (`if`). Es decir, el predicado que se verifica se termina con dos puntos (`:`) y el bloque queda determinado por el uso de sangrías. \n",
    "\n",
    "Veamos más ejemplos:"
   ]
  },
  {
   "cell_type": "code",
   "execution_count": null,
   "metadata": {},
   "outputs": [],
   "source": [
    "palabra = \"australopithecus\"   # Comenzamos con una palabra cualquiera\n",
    "while palabra != \"\":           # Mientras la palabra no sea vacía\n",
    "    print(palabra)             # La imprimimos\n",
    "    palabra = palabra[:-1]     # Le borramos la última letra\n",
    "    "
   ]
  },
  {
   "cell_type": "markdown",
   "metadata": {},
   "source": [
    "Supongamos que queremos saber por cuántos años tenemos que guardar 100.000 persos en un cuenta de ahorros para alcanzar 200.000 pesos por aumeto solo de la tasa de interes de un 5% anual. Este es un programa que lo calcula: "
   ]
  },
  {
   "cell_type": "code",
   "execution_count": null,
   "metadata": {},
   "outputs": [],
   "source": [
    "dinero = 100   # en miles de pesos\n",
    "tasa = 1.05           # 5% de interés\n",
    "tiempo = 0            # tiempo en años\n",
    "while dinero < 200:  # se repite hasta que se alcanza la meta de 200 mil.\n",
    "    dinero = dinero * tasa\n",
    "    tiempo = tiempo + 1\n",
    "print('Se necesitan', tiempo, 'años para alcanzar', 1000*dinero, 'pesos.')"
   ]
  },
  {
   "cell_type": "markdown",
   "metadata": {},
   "source": [
    "El siguiente programa escribe un archivo, luego lo lee e imprime las líneas pares:"
   ]
  },
  {
   "cell_type": "code",
   "execution_count": null,
   "metadata": {},
   "outputs": [],
   "source": [
    "f = open('miarchivo.txt', 'w')\n",
    "f.write('Esta es la primera línea.\\n'\n",
    "        'Esta es la segunda línea.\\n'\n",
    "        'Esta es la tercera línea.\\n'\n",
    "        'Esta es la cuarta línea.\\n'\n",
    "        'Esta es la quinta y última línea \\n')\n",
    "f.close()\n",
    "\n",
    "f = open('miarchivo.txt', 'r')\n",
    "lista_lineas = f.readlines()\n",
    "f.close()\n",
    "i = 0\n",
    "\n",
    "while i < len(lista_lineas):\n",
    "    if i%2 == 1:\n",
    "        print(lista_lineas[i], end=\"\")\n",
    "    i = i+1"
   ]
  },
  {
   "cell_type": "markdown",
   "metadata": {},
   "source": [
    "-----\n",
    "\n",
    "### Ejercicio 2.4\n"
   ]
  },
  {
   "cell_type": "markdown",
   "metadata": {},
   "source": [
    "1. Escriba un programa que reciba del usuario enteros del 1 al 10, hasta que éste ingrese un valor fuera de ese rango (asuma que el usuario solo ingresará números enteros). Luego imprima una lista con los valores ingresados ordenados de menor a mayor e imprima el promedio."
   ]
  },
  {
   "cell_type": "code",
   "execution_count": null,
   "metadata": {},
   "outputs": [],
   "source": [
    "# Escriba aquí su solución haciendo doble click."
   ]
  },
  {
   "cell_type": "markdown",
   "metadata": {},
   "source": [
    "2. Una secuencia de Collatz se define como una sucesión $\\{a_i\\}_{i\\in \\mathbb{N}}$ donde $a_1$ es un número natural $n$ y para todo $i>1$ se tiene que:\n",
    "\n",
    "$$a_{i+1} = \\left\\{ \\begin{array}{ll} \\frac{a_i}{2} & \\textrm{ si }~ a_i~ \\textrm{es par,}\\\\ 3a_i + 1 & \\textrm{ si }~ a_i~ \\textrm{es impar.} \\end{array}\\right.$$\n",
    "\n",
    "Se conjetura que para todo $n$ la sucesión eventualmente alcanza el valor $1$. Escriba un programa que lea del usuario un entero $n$, y calcule el número de pasos que demora la sucesión en alcanzar el valor $1$. "
   ]
  },
  {
   "cell_type": "code",
   "execution_count": null,
   "metadata": {},
   "outputs": [],
   "source": [
    "# Escriba aquí su solución haciendo doble click. "
   ]
  },
  {
   "cell_type": "markdown",
   "metadata": {},
   "source": [
    "--------"
   ]
  },
  {
   "cell_type": "markdown",
   "metadata": {},
   "source": [
    "\n",
    "\n",
    "### Ciclos \"for\"\n",
    "\n",
    "El ciclo `for` permite iterar sobre una lista. Veamos algunos ejemplos:"
   ]
  },
  {
   "cell_type": "code",
   "execution_count": null,
   "metadata": {},
   "outputs": [],
   "source": [
    "lista = [\"gato\", 5, 3.14, \"raton\"]\n",
    "for x in lista:\n",
    "    print(x)"
   ]
  },
  {
   "cell_type": "code",
   "execution_count": null,
   "metadata": {},
   "outputs": [],
   "source": [
    "for animal in ['perro','gato','perro']:\n",
    "    print(animal, animal.upper())"
   ]
  },
  {
   "cell_type": "code",
   "execution_count": null,
   "metadata": {},
   "outputs": [],
   "source": [
    "Pares = [2,4,6,8,10,12,14,16,18]\n",
    "for p in Pares:\n",
    "    if p%3==0:\n",
    "        print(p)"
   ]
  },
  {
   "cell_type": "markdown",
   "metadata": {},
   "source": [
    "Aquí el comando `range()` resulta útil para iterar sobre secuencias de enteros:"
   ]
  },
  {
   "cell_type": "code",
   "execution_count": null,
   "metadata": {},
   "outputs": [],
   "source": [
    "for i in range(10):\n",
    "    print(i)"
   ]
  },
  {
   "cell_type": "code",
   "execution_count": null,
   "metadata": {
    "scrolled": true
   },
   "outputs": [],
   "source": [
    "for i in range(5,10):\n",
    "    print(i, \"al cuadrado es\", i**2)"
   ]
  },
  {
   "cell_type": "markdown",
   "metadata": {},
   "source": [
    "De esta forma tenemos dos modos de recorrer listas. Consideremos la lista siguiente:"
   ]
  },
  {
   "cell_type": "code",
   "execution_count": null,
   "metadata": {},
   "outputs": [],
   "source": [
    "lista = [\"gato\", 5, 3.14, \"perro\"]"
   ]
  },
  {
   "cell_type": "markdown",
   "metadata": {},
   "source": [
    "Como vimos antes, podemos recorrer la lista con un ciclo `for` que *itere sobre sus elementos*:"
   ]
  },
  {
   "cell_type": "code",
   "execution_count": null,
   "metadata": {},
   "outputs": [],
   "source": [
    "for elemento in lista:\n",
    "    print(elemento)"
   ]
  },
  {
   "cell_type": "markdown",
   "metadata": {},
   "source": [
    "Como también podemos recorrer la lista con un ciclo `for`que *itere sobre sus índices*:"
   ]
  },
  {
   "cell_type": "code",
   "execution_count": null,
   "metadata": {},
   "outputs": [],
   "source": [
    "for i in range(len(lista)):\n",
    "    print(lista[i])"
   ]
  },
  {
   "cell_type": "markdown",
   "metadata": {},
   "source": [
    "Los ciclos `for` son muy útiles también en la lectura de archivos. Para dar un ejemplo, escribamos un archivo que leeremos posteriormente:"
   ]
  },
  {
   "cell_type": "code",
   "execution_count": null,
   "metadata": {},
   "outputs": [],
   "source": [
    "f = open('miarchivo.txt', 'w')\n",
    "f.write('Esta es la primera línea.\\n'\n",
    "        'Esta es la segunda línea.\\n'\n",
    "        'Esta es la tercera y última línea.')\n",
    "f.close()"
   ]
  },
  {
   "cell_type": "markdown",
   "metadata": {},
   "source": [
    "Recordemos que el método `.readlines()` devuelve una lista, donde cada elemento es una línea del texto que se está leyendo. "
   ]
  },
  {
   "cell_type": "code",
   "execution_count": null,
   "metadata": {},
   "outputs": [],
   "source": [
    "f = open('miarchivo.txt', 'r')\n",
    "lista_lineas = f.readlines()\n",
    "print(lista_lineas)"
   ]
  },
  {
   "cell_type": "markdown",
   "metadata": {},
   "source": [
    "Usando un ciclo `for` podemos recorrer las líneas de manera muy simple:"
   ]
  },
  {
   "cell_type": "code",
   "execution_count": null,
   "metadata": {},
   "outputs": [],
   "source": [
    "f = open('miarchivo.txt', 'r')\n",
    "lista_lineas = f.readlines()\n",
    "for i in range(len(lista_lineas)):\n",
    "    print(\"La línea %d tiene %d caracteres.\" % (i+1,len(lista_lineas[i])))\n",
    "f.close()"
   ]
  },
  {
   "cell_type": "code",
   "execution_count": null,
   "metadata": {},
   "outputs": [],
   "source": [
    "f = open('miarchivo.txt', 'r')\n",
    "for linea in f.readlines():\n",
    "    print(linea.upper(), end=\"\")\n",
    "f.close()"
   ]
  },
  {
   "cell_type": "markdown",
   "metadata": {},
   "source": [
    "De hecho, Python asume que por defecto la lectura de archivos se hace en este formato. Podemos entonces usar la forma resumida:"
   ]
  },
  {
   "cell_type": "code",
   "execution_count": null,
   "metadata": {},
   "outputs": [],
   "source": [
    "f = open('miarchivo.txt', 'r')\n",
    "for linea in f:\n",
    "    print(linea, end=\"\")\n",
    "f.close()"
   ]
  },
  {
   "cell_type": "markdown",
   "metadata": {},
   "source": [
    "----\n",
    "###  Ejercicio 2.5"
   ]
  },
  {
   "cell_type": "markdown",
   "metadata": {},
   "source": [
    "1. Escriba un programa que lea un string ingresado por el usuario, y reemplace todas las letras \"a\" por \"x\":"
   ]
  },
  {
   "cell_type": "code",
   "execution_count": null,
   "metadata": {},
   "outputs": [],
   "source": [
    "# Escribe aquí tu solución haciendo doble click"
   ]
  },
  {
   "cell_type": "markdown",
   "metadata": {},
   "source": [
    "2. Escriba un programa que resuelva una versión del problema 2 del Ejercicio 10 en la que el número de alumnos es arbitrario (no necesariamente la lista contiene solo tres alumnos). "
   ]
  },
  {
   "cell_type": "code",
   "execution_count": null,
   "metadata": {},
   "outputs": [],
   "source": [
    "# Escribe aquí tu solución haciendo doble click"
   ]
  }
 ],
 "metadata": {
  "kernelspec": {
   "display_name": "Python 3 (ipykernel)",
   "language": "python",
   "name": "python3"
  },
  "language_info": {
   "codemirror_mode": {
    "name": "ipython",
    "version": 3
   },
   "file_extension": ".py",
   "mimetype": "text/x-python",
   "name": "python",
   "nbconvert_exporter": "python",
   "pygments_lexer": "ipython3",
   "version": "3.9.13"
  }
 },
 "nbformat": 4,
 "nbformat_minor": 4
}
