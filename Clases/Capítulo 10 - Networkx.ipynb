{
 "cells": [
  {
   "cell_type": "markdown",
   "id": "a847b1b6",
   "metadata": {},
   "source": [
    "# Taller de Manejo y Análisis de Datos\n",
    "\n",
    "**Profesor**: Pedro Montealegre\n"
   ]
  },
  {
   "cell_type": "markdown",
   "id": "f6d4d26b",
   "metadata": {},
   "source": [
    "## Introducción: Análisis de redes en Python"
   ]
  },
  {
   "cell_type": "markdown",
   "id": "58542223",
   "metadata": {},
   "source": [
    "En matemáticas y ciencias de la computación, los *grafos* son estructuras usadas para representar relaciones entre pares de elementos. Un grafo está compuesto de *vértices* (también llamados *nodos* o *puntos*) que están conectados por *aristas* (también llamados *arcos*, *conexiones* o *líneas*).\n",
    "\n",
    "Un grafo puede  *dirigido*, lo que siginifica que las conexiones no son necesariamente simétricas: un nodo `a` puede tener una arista (apuntar) al nodo `b`, y al mismo tiempo `b` **no** tener una arista hacia el nodo `a`. La dirección de las conexiones se representa con una flecha. \n",
    "\n",
    "\n",
    "<div>\n",
    "<img src=\"https://upload.wikimedia.org/wikipedia/commons/thumb/a/a2/Directed.svg/440px-Directed.svg.png\" width=\"200\">\n",
    "</div>\n",
    "\n",
    "o bien puede ser *no-dirigido*, lo que significa que todas las conexiones son simétricas: si hay una arista desde  `a` hacia `b` entonces también hay una arista desde  `b` hacia `a`. Por lo tanto, en este caso se dibujan las aristas simplemente como líneas. \n",
    "\n",
    "<div>\n",
    "<img src=\"https://upload.wikimedia.org/wikipedia/commons/thumb/b/bf/Undirected.svg/440px-Undirected.svg.png\" width=\"200\">\n",
    "</div>\n",
    "    \n",
    "Los grafos se pueden usar para representar diversos tipos de relaciones y procesos en sistemas físicos, biológicos y sociales.  Muchos problemas prácticos se pueden representar por grafos. Para enfatizar su aplicación a sistemas del \"mundo real\", a veces se emplea el término *red* (*network*) en lugar de *grafo*, sobre todo cuando se considera que cada nodo y/o arista está etiquetada con ciertos atributos (por ejemplo nombres).    \n",
    "    \n",
    "Los grafos son, por lo tanto, una herramienta fundamental para el manejo y análisis de datos. \n",
    "\n",
    "Los grafos son uno de los principales objetos de estudios de la *matemática discreta*. Su estudio en matemáticas se conoce como la *teoría de grafos* (Graph Theory) y también en ciencias de la computación se conoce como *Ciencia de Redes* (Network Science).\n",
    "\n"
   ]
  },
  {
   "cell_type": "markdown",
   "id": "32dba882",
   "metadata": {},
   "source": [
    "## Networkx"
   ]
  },
  {
   "cell_type": "markdown",
   "id": "44a299ab",
   "metadata": {},
   "source": [
    "En este capítulo vamos a aprender acerca del módulo de Python llamado `NetworkX`. Este módulo está dedicado principalmente en la creación, manipulación y el estudio de *grafos* (o *redes*).\n",
    "\n",
    "Comencemos instalando el módulo. "
   ]
  },
  {
   "cell_type": "code",
   "execution_count": null,
   "id": "773087ef",
   "metadata": {},
   "outputs": [],
   "source": [
    "pip install networkx"
   ]
  },
  {
   "cell_type": "markdown",
   "id": "6247dc2c",
   "metadata": {},
   "source": [
    "Convencionalmente el módulo `networkx` se importa con la abreviación `nx`, y en este cuaderno no haremos excepción a esta convención:"
   ]
  },
  {
   "cell_type": "code",
   "execution_count": null,
   "id": "95a5ba1f",
   "metadata": {},
   "outputs": [],
   "source": [
    "import networkx as nx"
   ]
  },
  {
   "cell_type": "markdown",
   "id": "2a845ff5",
   "metadata": {},
   "source": [
    "### Definición matemática de grafos\n",
    "\n",
    "Formalmente, un grafo $G$ es un par de conjuntos $(V,E)$ donde $V$ se conoce como el conjunto de *vertices* y $E$ es un subconjunto $V \\times V$, llamado conjunto de *aristas* o *arcos*. \n",
    "\n",
    "Cuando el grafo es *no-dirigido* definimos el conjunto de aristas de manera un poco más concisa. Como sabemos que para cada par $(u,v) \\in E$ se tiene que también $(v,u) \\in E$, entonces simplemente definimos las aristas como conjuntos $\\{u,v\\}$ de dos elementos de $V$. \n",
    "\n",
    "Si el grafo no es dirigido y $\\{u,v\\}$ pertenece al conjunto de aristas $E$ decimos que $u$ y $v$ son *adjacentes*, y que $v$ es un *vecino* de $u$. \n",
    "\n",
    "Si el grafo es dirigido y $(u,v)$ es una aista, decimos que $u$ es un vecino *entrante* de $v$ y que $v$ es un vecino *saliente* de $u$. \n",
    "\n",
    "Convencionalmente, a menos que se diga lo contrario, cuando decimos **grafo** nos referimos a un grafo no-dirigido, y usamos el término **digrafo** para referirnos a un grafo dirigido. "
   ]
  },
  {
   "cell_type": "markdown",
   "id": "1f07c3d2",
   "metadata": {},
   "source": [
    "## Definiendo grafos con `NetworkX`"
   ]
  },
  {
   "cell_type": "markdown",
   "id": "6a5df627",
   "metadata": {},
   "source": [
    "`NetworkX` tiene métodos distintos para crear grafos y digrafos. \n",
    "\n",
    "Comencemos creando un grafo, que inicialmente estará vacío, es decir, no tendrá ni nodos ni aristas:\n",
    "\n",
    "### Agregando Nodos\n",
    "\n",
    "Se le puede agregar nodos a $G$ o $D$ de diversas maneras. `NetworkX` incluye varios funciones generadoras de grafos y digrafos que facilitan la lectura y escritura de grafos en múltiples formatos. \n",
    "\n",
    "Para comenzar, veamos algunas manipulaciones simples. \n",
    "\n",
    "* En primer lugar, podemos agregar nodos uno a uno:"
   ]
  },
  {
   "cell_type": "code",
   "execution_count": null,
   "id": "3501eff3",
   "metadata": {
    "execution": {
     "iopub.execute_input": "2022-06-04T16:45:39.120278Z",
     "iopub.status.busy": "2022-06-04T16:45:39.120000Z",
     "iopub.status.idle": "2022-06-04T16:45:39.189649Z",
     "shell.execute_reply": "2022-06-04T16:45:39.188931Z"
    }
   },
   "outputs": [],
   "source": [
    "G = nx.Graph()"
   ]
  },
  {
   "cell_type": "markdown",
   "id": "f460e4ec",
   "metadata": {},
   "source": [
    "De manera similar, podemos crear un digrafo usando el método `DiGraph`:"
   ]
  },
  {
   "cell_type": "code",
   "execution_count": null,
   "id": "75522394",
   "metadata": {},
   "outputs": [],
   "source": [
    "D = nx.DiGraph()"
   ]
  },
  {
   "cell_type": "code",
   "execution_count": null,
   "id": "1bb82eca",
   "metadata": {
    "execution": {
     "iopub.execute_input": "2022-06-04T16:45:39.193494Z",
     "iopub.status.busy": "2022-06-04T16:45:39.193255Z",
     "iopub.status.idle": "2022-06-04T16:45:39.196553Z",
     "shell.execute_reply": "2022-06-04T16:45:39.195888Z"
    }
   },
   "outputs": [],
   "source": [
    "G.add_node(1)"
   ]
  },
  {
   "cell_type": "code",
   "execution_count": null,
   "id": "e0d987aa",
   "metadata": {},
   "outputs": [],
   "source": [
    "D.add_node(\"a\")"
   ]
  },
  {
   "cell_type": "markdown",
   "id": "01216b73",
   "metadata": {},
   "source": [
    "* O agregar varios nodos entregándole cualquier tipo de secuencia (iterable), por ejemplo:"
   ]
  },
  {
   "cell_type": "code",
   "execution_count": null,
   "id": "0a50f1ed",
   "metadata": {
    "execution": {
     "iopub.execute_input": "2022-06-04T16:45:39.199751Z",
     "iopub.status.busy": "2022-06-04T16:45:39.199537Z",
     "iopub.status.idle": "2022-06-04T16:45:39.202477Z",
     "shell.execute_reply": "2022-06-04T16:45:39.201848Z"
    }
   },
   "outputs": [],
   "source": [
    "G.add_nodes_from([2,3])"
   ]
  },
  {
   "cell_type": "code",
   "execution_count": null,
   "id": "ce481c70",
   "metadata": {},
   "outputs": [],
   "source": [
    "D.add_nodes_from(\"bc\") \n",
    "# Obs: se lee el string \"bc\" como la lista con el caracter \"b\" y luego \"c\""
   ]
  },
  {
   "cell_type": "markdown",
   "id": "14ccc775",
   "metadata": {},
   "source": [
    "## Dibujar grafos"
   ]
  },
  {
   "cell_type": "markdown",
   "id": "ad6dbea9",
   "metadata": {},
   "source": [
    "`NetworkX` incluye métodos simples para dibujar grafos, los cuales utilizan `Matplotlib` y un software de visualización de grafos llamado `graphviz`. "
   ]
  },
  {
   "cell_type": "code",
   "execution_count": null,
   "id": "7d271820",
   "metadata": {},
   "outputs": [],
   "source": [
    "import matplotlib.pyplot as plt"
   ]
  },
  {
   "cell_type": "code",
   "execution_count": null,
   "id": "960f5bd7",
   "metadata": {},
   "outputs": [],
   "source": [
    "pip install decorator==5.0.9"
   ]
  },
  {
   "cell_type": "markdown",
   "id": "cd6356c9",
   "metadata": {},
   "source": [
    "En este caso usaremos el método `draw_networkx` el cual, entre otros, recibe como argumentos un grafo `G`, unos ejes `ax` y varias otras opciones para cambiar colores, tipografías, etc.\n",
    "\n",
    "Para más detalles ver la documentación: https://networkx.org/documentation/stable/reference/drawing.html"
   ]
  },
  {
   "cell_type": "code",
   "execution_count": null,
   "id": "3a0062d2",
   "metadata": {},
   "outputs": [],
   "source": [
    "# Primero, creamos una figura con dos ejes\n",
    "fig, ax = plt.subplots(1,2,figsize = (10,5))\n",
    "\n",
    "# En unos ejes deibujamos el grafo\n",
    "nx.draw_networkx(G, ax = ax[0])\n",
    "\n",
    "# Y en los otros el digrafo\n",
    "nx.draw_networkx(D, ax = ax[1])"
   ]
  },
  {
   "cell_type": "markdown",
   "id": "0fa77656",
   "metadata": {},
   "source": [
    "Observamos que por el momento no hay ninguna arista (dado que no hemos agregado ninguna), es decir, tenemos **grafos vacíos**.  Veamos como se puede ir agregando aristas a nuestros grafos. "
   ]
  },
  {
   "cell_type": "markdown",
   "id": "47951ca5",
   "metadata": {},
   "source": [
    "### Agregando aristas\n",
    "\n",
    "Podemos agregar aristas a un grafo de una a la vez con el método `add_edge`:"
   ]
  },
  {
   "cell_type": "code",
   "execution_count": null,
   "id": "9a40a775",
   "metadata": {
    "execution": {
     "iopub.execute_input": "2022-06-04T16:45:39.217334Z",
     "iopub.status.busy": "2022-06-04T16:45:39.217120Z",
     "iopub.status.idle": "2022-06-04T16:45:39.220180Z",
     "shell.execute_reply": "2022-06-04T16:45:39.219583Z"
    }
   },
   "outputs": [],
   "source": [
    "# Agregamos:\n",
    "G.add_edge(1, 2) # una conexión entre el nodo \"1\" y el nodo \"2\"\n",
    "D.add_edge(\"a\", \"b\") # Una arista dirigida que va desde \"a\" a \"b\""
   ]
  },
  {
   "cell_type": "markdown",
   "id": "2a62958c",
   "metadata": {},
   "source": [
    "Veamos como quedaron los grafos resultantes:"
   ]
  },
  {
   "cell_type": "code",
   "execution_count": null,
   "id": "f1fba94e",
   "metadata": {},
   "outputs": [],
   "source": [
    "fig, ax = plt.subplots(1,2,figsize = (10,5))\n",
    "nx.draw_networkx(G, ax = ax[0])\n",
    "nx.draw_networkx(D, ax = ax[1])"
   ]
  },
  {
   "cell_type": "markdown",
   "id": "5f59e829",
   "metadata": {},
   "source": [
    "Una observación importante es que si agregamos una arista entre nodos que no están previamente definidos, entonces se crearan esos nodos."
   ]
  },
  {
   "cell_type": "code",
   "execution_count": null,
   "id": "09d2d71b",
   "metadata": {},
   "outputs": [],
   "source": [
    "# Agregamos:\n",
    "G.add_edge(3, 4) # una conexión entre el nodo \"3\" y el nodo \"4\" (inexistente)\n",
    "D.add_edge(\"c\", \"d\") # Una arista dirigida que va desde \"c\" a \"d\" (inexistente)\n",
    "\n",
    "fig, ax = plt.subplots(1,2,figsize = (10,5))\n",
    "nx.draw_networkx(G, ax = ax[0])\n",
    "nx.draw_networkx(D, ax = ax[1])"
   ]
  },
  {
   "cell_type": "markdown",
   "id": "d346aedc",
   "metadata": {},
   "source": [
    "También podemos agregar listas de aristas, usando el método `add_edges_from()`"
   ]
  },
  {
   "cell_type": "code",
   "execution_count": null,
   "id": "b29ba73c",
   "metadata": {},
   "outputs": [],
   "source": [
    "# El método clear se usa para eliminar todos los nodos y aristas\n",
    "G.clear() \n",
    "D.clear()\n",
    "\n",
    "# Agregamos aristas como listas de pares\n",
    "G.add_edges_from(([\"a\",\"b\"],[\"b\",\"c\"])) \n",
    "D.add_edges_from([(1,2),(2,3)]) \n",
    "\n",
    "fig, ax = plt.subplots(1,2,figsize = (10,5))\n",
    "nx.draw_networkx(G, ax = ax[0])\n",
    "nx.draw_networkx(D, ax = ax[1])"
   ]
  },
  {
   "cell_type": "markdown",
   "id": "b052c658",
   "metadata": {},
   "source": [
    "Podemos conocer los elementos de un grafo con los atributos `nodes` y `edges`:"
   ]
  },
  {
   "cell_type": "code",
   "execution_count": null,
   "id": "aa607cf6",
   "metadata": {},
   "outputs": [],
   "source": [
    "print(\"Los nodos de G son\", list(G.nodes), \"y sus aristas son\", list(G.edges))\n",
    "print(\"Los nodos de D son\", list(D.nodes), \"y sus aristas son\", list(D.edges))"
   ]
  },
  {
   "cell_type": "markdown",
   "id": "6aeb99ff",
   "metadata": {},
   "source": [
    "Usando estos atributos, podemos agregar todos los vértices o aristas de un grafo en otro:"
   ]
  },
  {
   "cell_type": "code",
   "execution_count": null,
   "id": "b0bc9a67",
   "metadata": {},
   "outputs": [],
   "source": [
    "G.add_edges_from(D.edges) # Agregamos a G las aristas de D\n",
    "\n",
    "# Dibujamos el resultado\n",
    "fig, ax = plt.subplots(figsize = (5,5))\n",
    "nx.draw_networkx(G, ax = ax)"
   ]
  },
  {
   "cell_type": "markdown",
   "id": "4c8513bb",
   "metadata": {},
   "source": [
    "Observamos que como $G$ es no-dirigido, las aristas de $D$ se agregan sin dirección. "
   ]
  },
  {
   "cell_type": "markdown",
   "id": "155b87fa",
   "metadata": {},
   "source": [
    "### Eliminando elementos de un grafo\n",
    "\n",
    "Se pueden eliminar nodos y aristas de un grafo de manera similar a como se añaden. \n",
    "\n",
    "Los métodos son:\n",
    "`Graph.remove_node()`,\n",
    "`Graph.remove_nodes_from()`,\n",
    "`Graph.remove_edge()`\n",
    "y\n",
    "`Graph.remove_edges_from()`, por ejemplo:"
   ]
  },
  {
   "cell_type": "code",
   "execution_count": null,
   "id": "04f16ce8",
   "metadata": {},
   "outputs": [],
   "source": [
    "D.add_edges_from([(1,2),(1,4),(2,3),(3,4),(4,5)]) \n",
    "D.edges"
   ]
  },
  {
   "cell_type": "code",
   "execution_count": null,
   "id": "b7e7026d",
   "metadata": {},
   "outputs": [],
   "source": [
    "D.clear()\n",
    "\n",
    "# Agregamos aristas como listas de pares\n",
    "D.add_edges_from([(1,2),(1,4),(2,3),(3,4),(4,5)]) \n",
    "\n",
    "fig, ax = plt.subplots(1,3,figsize = (15,8))\n",
    "\n",
    "nx.draw_networkx(D,ax=ax[0], node_color = [\"r\",\"r\",\"w\",\"w\",\"w\"], edge_color= [\"k\",\"k\",\"k\",\"k\",\"r\"])\n",
    "D.remove_nodes_from([1,2]) # Borramos los nodos 1 y 2\n",
    "nx.draw_networkx(D,ax=ax[1], node_color = \"w\",edge_color= [\"k\",\"r\"])\n",
    "D.remove_edge(3,4) # Borramos la arista (3,4)\n",
    "nx.draw_networkx(D,ax=ax[2], node_color = \"w\")\n",
    "\n",
    "ax[0].set_title(\"Vamos a borrar los nodos y aristas rojos\")\n",
    "ax[1].set_title(\"Borramos los nodos rojos\")\n",
    "ax[1].set_title(\"Borramos la arista roja\")"
   ]
  },
  {
   "cell_type": "markdown",
   "id": "9056ebf2",
   "metadata": {},
   "source": [
    "-----\n",
    "\n",
    "## Ejercicio:\n",
    "\n",
    "1. Construya el siguiente grafo y dibújelo. \n",
    "<div>\n",
    "<img src=\"https://upload.wikimedia.org/wikipedia/commons/thumb/5/5b/6n-graf.svg/440px-6n-graf.svg.png\" width=\"200\">\n",
    "</div>\n",
    "\n",
    "**HINT** Mire la documentación del método `draw_networkx` para asignar las posiciones. \n"
   ]
  },
  {
   "cell_type": "code",
   "execution_count": null,
   "id": "6b9f6d38",
   "metadata": {},
   "outputs": [],
   "source": [
    "# Escriba aquí su solución"
   ]
  },
  {
   "cell_type": "markdown",
   "id": "a11381e4",
   "metadata": {},
   "source": [
    "2. Construya el siguiente digrafo y dibújelo. \n",
    "\n",
    "\n",
    "<div>\n",
    "<img src=\"https://upload.wikimedia.org/wikipedia/commons/thumb/7/77/DirectedDegrees.svg/440px-DirectedDegrees.svg.png\" width=\"200\">\n",
    "</div>\n"
   ]
  },
  {
   "cell_type": "code",
   "execution_count": null,
   "id": "8f3f3084",
   "metadata": {},
   "outputs": [],
   "source": [
    "# Escriba aquí su solución"
   ]
  },
  {
   "cell_type": "markdown",
   "id": "ee308d22",
   "metadata": {},
   "source": [
    "----"
   ]
  },
  {
   "cell_type": "markdown",
   "id": "1e3ef97f",
   "metadata": {},
   "source": [
    "## Examinando los elementos de un grafo\n",
    "\n",
    "Como vimos antes, podemos conocer la lista de nodos y de aristas de un grafo llamando a los atributos `.nodes` y `.edges` de un grafo `G`"
   ]
  },
  {
   "cell_type": "code",
   "execution_count": null,
   "id": "602ab513",
   "metadata": {},
   "outputs": [],
   "source": [
    "G.nodes"
   ]
  },
  {
   "cell_type": "code",
   "execution_count": null,
   "id": "0e38e570",
   "metadata": {},
   "outputs": [],
   "source": [
    "G.edges"
   ]
  },
  {
   "cell_type": "markdown",
   "id": "c39d06be",
   "metadata": {},
   "source": [
    "Estos atributos tienen un tipo iterable específico de NetworkX, `NodeView` y `EdgeView`, respectivamente:"
   ]
  },
  {
   "cell_type": "code",
   "execution_count": null,
   "id": "12005c15",
   "metadata": {},
   "outputs": [],
   "source": [
    "type(G.nodes)"
   ]
  },
  {
   "cell_type": "code",
   "execution_count": null,
   "id": "2bb44612",
   "metadata": {},
   "outputs": [],
   "source": [
    "type(G.edges)"
   ]
  },
  {
   "cell_type": "markdown",
   "id": "235e62ed",
   "metadata": {},
   "source": [
    "Al igual que en otros casos, podemos obtener transformar estos objetos a una lista con el comando `list`"
   ]
  },
  {
   "cell_type": "code",
   "execution_count": null,
   "id": "a12a2a3b",
   "metadata": {},
   "outputs": [],
   "source": [
    "print(list(G.nodes))\n",
    "print(list(G.edges))"
   ]
  },
  {
   "cell_type": "markdown",
   "id": "4f0ab7ad",
   "metadata": {},
   "source": [
    "Dado un grafo $G$ y un nodo $v$, el *grado* de $v$, denotado $d(v)$, corresponde al número de vecinos que tiene el nodo. \n",
    "\n",
    "Podemos conocer el grado de un nodo `x` con el método `G.degree[x]`"
   ]
  },
  {
   "cell_type": "code",
   "execution_count": null,
   "id": "501fdb08",
   "metadata": {},
   "outputs": [],
   "source": [
    "G.degree[2]"
   ]
  },
  {
   "cell_type": "markdown",
   "id": "d0738e6c",
   "metadata": {},
   "source": [
    "De manera más general, `G.degree` entrega un objeto del tipo `DegreeView`, que se puede transformar en una lista de pares $(v, d(v))$"
   ]
  },
  {
   "cell_type": "code",
   "execution_count": null,
   "id": "110d4add",
   "metadata": {
    "scrolled": true
   },
   "outputs": [],
   "source": [
    "list(G.degree)"
   ]
  },
  {
   "cell_type": "markdown",
   "id": "21f019eb",
   "metadata": {},
   "source": [
    "Tenemos métodos simples para conocer el tamaño del grafo (número de vértices)"
   ]
  },
  {
   "cell_type": "code",
   "execution_count": null,
   "id": "d9ff46b7",
   "metadata": {},
   "outputs": [],
   "source": [
    "G.number_of_nodes()"
   ]
  },
  {
   "cell_type": "markdown",
   "id": "23864c2f",
   "metadata": {},
   "source": [
    "o simplemente"
   ]
  },
  {
   "cell_type": "code",
   "execution_count": null,
   "id": "a1143f1c",
   "metadata": {},
   "outputs": [],
   "source": [
    "len(G)"
   ]
  },
  {
   "cell_type": "markdown",
   "id": "99a98f4f",
   "metadata": {},
   "source": [
    "De manera similar podemos conocer el número de aristas"
   ]
  },
  {
   "cell_type": "code",
   "execution_count": null,
   "id": "585636f9",
   "metadata": {},
   "outputs": [],
   "source": [
    "G.number_of_edges()"
   ]
  },
  {
   "cell_type": "markdown",
   "id": "e56664a1",
   "metadata": {},
   "source": [
    "o también"
   ]
  },
  {
   "cell_type": "code",
   "execution_count": null,
   "id": "2be4d85c",
   "metadata": {},
   "outputs": [],
   "source": [
    "G.size()"
   ]
  },
  {
   "cell_type": "markdown",
   "id": "742cc223",
   "metadata": {},
   "source": [
    "Un grafo es iterable, lo que significa que podemos \"recorrerlo\" en un ciclo for. La iteración corresponderá a un recorrido sobre sus vértices:"
   ]
  },
  {
   "cell_type": "code",
   "execution_count": null,
   "id": "6debd0ad",
   "metadata": {},
   "outputs": [],
   "source": [
    "for i in G:\n",
    "    print(i)"
   ]
  },
  {
   "cell_type": "markdown",
   "id": "882e42ef",
   "metadata": {},
   "source": [
    "Por otra parte, si `x` es un nodo, entonces con `G[x]` obtenemos un objeto de tipo `AtlasView`, el cual se puede transformar en la lista de vecinos de un nodo: "
   ]
  },
  {
   "cell_type": "code",
   "execution_count": null,
   "id": "7b310512",
   "metadata": {},
   "outputs": [],
   "source": [
    "list(G[1])"
   ]
  },
  {
   "cell_type": "markdown",
   "id": "41e5d6d0",
   "metadata": {},
   "source": [
    "lo cual también se puede obtener escribiendo"
   ]
  },
  {
   "cell_type": "markdown",
   "id": "1186cabd",
   "metadata": {},
   "source": [
    "## Grafos dirigidos\n",
    "\n",
    "La clase `DiGraph` provee métodos adicionales y propiedades específicas para grafos dirigidos. Por ejemplo `DiGraph.out_edges`, `DiGraph.in_degree`:\n",
    "\n"
   ]
  },
  {
   "cell_type": "code",
   "execution_count": null,
   "id": "f40ba1aa",
   "metadata": {},
   "outputs": [],
   "source": [
    "D.clear()\n",
    "D.add_edges_from([(1,2),(1,4),(2,3),(3,4)]) \n",
    "\n",
    "fig, ax = plt.subplots(figsize = (5,5))\n",
    "ax.axis(\"off\")\n",
    "nx.draw_networkx(D, ax = ax, node_color = \"white\")"
   ]
  },
  {
   "cell_type": "code",
   "execution_count": null,
   "id": "58f9234b",
   "metadata": {},
   "outputs": [],
   "source": [
    "list(D.in_degree)"
   ]
  },
  {
   "cell_type": "code",
   "execution_count": null,
   "id": "b0c9ef4c",
   "metadata": {},
   "outputs": [],
   "source": [
    "list(D.out_degree)"
   ]
  },
  {
   "cell_type": "markdown",
   "id": "c17012c2",
   "metadata": {},
   "source": [
    "Para permitir que los algoritmos funcionen para ambas tanto grafos como digrafos, la versión dirigida de `degree` entrega la suma de `in_degree` y `out_degree`:"
   ]
  },
  {
   "cell_type": "code",
   "execution_count": null,
   "id": "a5dd1ff6",
   "metadata": {},
   "outputs": [],
   "source": [
    "list(D.degree)"
   ]
  },
  {
   "cell_type": "markdown",
   "id": "2bac8c69",
   "metadata": {},
   "source": [
    "## Generadores de grafos\n",
    "\n",
    "\n",
    "Networkx incluye también varias funciones generadoras de grafos pre-definidos. Aquí veremos algunos ejemplos importantes.\n",
    "\n",
    "Podemos encontrar la lista de generadores de grafos pre definidos en la documentacion:\n",
    "https://networkx.org/documentation/stable/reference/generators.html"
   ]
  },
  {
   "cell_type": "markdown",
   "id": "ad3b3404",
   "metadata": {},
   "source": [
    "**Ejemplos**\n",
    "\n",
    "Un **camino** es un grafo de vertices $V = \\{v_1, \\dots, v_n\\}$ y aristas $\\{v_i, v_{i+1}\\} $ para cada $i \\in \\{1,\\dots, n-1\\}$. \n",
    "\n",
    "Usando el método `path_graph(n)` podemos hacer un camino de `n` nodos. "
   ]
  },
  {
   "cell_type": "code",
   "execution_count": null,
   "id": "346ebaff",
   "metadata": {
    "execution": {
     "iopub.execute_input": "2022-06-04T16:45:39.205713Z",
     "iopub.status.busy": "2022-06-04T16:45:39.205500Z",
     "iopub.status.idle": "2022-06-04T16:45:39.208825Z",
     "shell.execute_reply": "2022-06-04T16:45:39.208223Z"
    }
   },
   "outputs": [],
   "source": [
    "P = nx.path_graph(8)\n",
    "\n",
    "fig, ax = plt.subplots(figsize = (5,5))\n",
    "nx.draw_networkx(P)\n",
    "ax.axis(\"off\");"
   ]
  },
  {
   "cell_type": "markdown",
   "id": "e48b8bac",
   "metadata": {},
   "source": [
    "Un **grafo completo** es un grafo de que contiene todas las aristas posibles. \n",
    "\n",
    "Usando el método `complete_graph(n)` podemos generar el grafo completo de `n` nodos. "
   ]
  },
  {
   "cell_type": "code",
   "execution_count": null,
   "id": "b23d4583",
   "metadata": {},
   "outputs": [],
   "source": [
    "K = nx.complete_graph(6)\n",
    "\n",
    "fig, ax = plt.subplots(figsize = (5,5))\n",
    "nx.draw_networkx(K)\n",
    "ax.axis(\"off\");"
   ]
  },
  {
   "cell_type": "markdown",
   "id": "e02cefd1",
   "metadata": {},
   "source": [
    "\n",
    "Los *grafos de Erdös-Renyi*, también conocidos como *grafos binomiales*, son un tipo de grafos aleatorios. Se definen por dos parametros $G(n,p)$, donde $n$ es un natural y $p$ es un valor $[0,1]$. \n",
    "\n",
    "El grafo $G(n,p)$ se define tomando un grafo de $n$ nodos y conectando cada par de vértices con probabilidad $p$ (y no conectándolos con probabilidad $1-p$). Usando la función `erdos_renyi_graph(n,p)` podemos generar una realización de un grafo $G(n,p)$. "
   ]
  },
  {
   "cell_type": "code",
   "execution_count": null,
   "id": "c01389ad",
   "metadata": {},
   "outputs": [],
   "source": [
    "G = nx.erdos_renyi_graph(100,1/10)\n",
    "\n",
    "fig, ax = plt.subplots(figsize = (10,10))\n",
    "# Achicamos el tamaño de los nodos y borramos las etiquetas\n",
    "nx.draw_networkx(G, node_size=20, with_labels = False) \n",
    "ax.axis(\"off\");"
   ]
  },
  {
   "cell_type": "markdown",
   "id": "d922bdac",
   "metadata": {},
   "source": [
    "Otro modelo importante de grafos aleatorios son los *grafos de Barabási-Albert*. Estos grafos se definen por dos parámetros $n$ y $m$ con $m<n$. Se construyen comenzando de un grafo de $m$ nodos aleatorios. A continuación se agregan nodos de manera secuencial hasta alcanzar los $n$ nodos. Cada vez que se agrega un nodo, éste se conecta con $m$ otros nodos ya presentes en el grafo. \n",
    "\n",
    "Cada vez que se agrega un nodo nuevo, la regla de conexión se conoce como *preferential attachment*. Ésta regla consiste en escoger vecinos de manera directamente proporcional a su grado. \n",
    "\n",
    "Más precisamente, llamemos $G_i$ al grafo que se tiene al momento de agregar al $i$-ésimo nodo $v_i$. Entonces escogemos $m$ vecinos del nodo $v_i$, escogiendo como vecino al nodo $v_j$ con probabilidad: $$\\frac{d_{v_j}}{\\sum_{k=1}^{i-1}d(v_k)}$$\n",
    "\n",
    "\n",
    "Usando la función `barabasi_albert_graph(n,m)` podemos generar una realización de un grafo de Barabási-Albert de parámetros $n$ y $m$."
   ]
  },
  {
   "cell_type": "code",
   "execution_count": null,
   "id": "7b20d8d2",
   "metadata": {},
   "outputs": [],
   "source": [
    "G = nx.barabasi_albert_graph(100,1)\n",
    "\n",
    "fig, ax = plt.subplots(figsize = (10,10))\n",
    "# Achicamos el tamaño de los nodos y borramos las etiquetas\n",
    "nx.draw_networkx(G, node_size = 20, with_labels = False)\n",
    "ax.axis(\"off\");"
   ]
  },
  {
   "cell_type": "markdown",
   "id": "9ca95a32",
   "metadata": {},
   "source": [
    "----\n",
    "## Ejercicio\n",
    "\n",
    "Escriba un programa que haga una figura de 2 filas y dos columnas. En la primera fila se grafica un grafo de Erdös Renyi de paramestros $n=100$ y $p=1/20$, y un grafo de Barabási-Albert de parametros $n=100$ y $m=1$. En la segunda fila se grafican histogramas de los grados de cada grafo. "
   ]
  },
  {
   "cell_type": "code",
   "execution_count": null,
   "id": "398bc9e0",
   "metadata": {},
   "outputs": [],
   "source": [
    "# Escriba aquí su solución"
   ]
  },
  {
   "cell_type": "markdown",
   "id": "dffd19f5",
   "metadata": {},
   "source": [
    "----"
   ]
  }
 ],
 "metadata": {
  "kernelspec": {
   "display_name": "Python 3",
   "language": "python",
   "name": "python3"
  },
  "language_info": {
   "codemirror_mode": {
    "name": "ipython",
    "version": 3
   },
   "file_extension": ".py",
   "mimetype": "text/x-python",
   "name": "python",
   "nbconvert_exporter": "python",
   "pygments_lexer": "ipython3",
   "version": "3.8.8"
  },
  "vp": {
   "vp_config_version": "1.0.0",
   "vp_menu_width": 273,
   "vp_note_display": false,
   "vp_note_width": 0,
   "vp_position": {
    "width": 278
   },
   "vp_section_display": false,
   "vp_signature": "VisualPython"
  }
 },
 "nbformat": 4,
 "nbformat_minor": 5
}
