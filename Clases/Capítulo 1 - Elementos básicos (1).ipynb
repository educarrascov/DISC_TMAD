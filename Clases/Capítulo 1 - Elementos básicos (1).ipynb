{
 "cells": [
  {
   "cell_type": "markdown",
   "metadata": {},
   "source": [
    "# Taller de Manejo y Análisis de Datos\n",
    "\n",
    "**Profesor**: Pedro Montealegre"
   ]
  },
  {
   "cell_type": "markdown",
   "metadata": {},
   "source": [
    "# Introducción"
   ]
  },
  {
   "cell_type": "markdown",
   "metadata": {},
   "source": [
    "El siguiente contenido está basado en de curso \"[Python for Computational Science and Engineering](http://github.com/fangohr/introduction-to-python-for-computational-science-and-engineering)\" creado por Hans Fangohr.\n",
    "\n",
    "Hans Fangohr, Python for Computational Science and Engineering, 2018\n",
    "\n",
    "DOI: 10.5281/zenodo.1411868, \n",
    "\n",
    "[Link en Github](http://github.com/fangohr/introduction-to-python-for-computational-science-and-engineering)\n",
    "\n",
    "## Indicaciones para el uso de este documento Jupyter\n",
    "\n",
    "Este documento Jupyer (Jupyter Notebook) [Jupyter Notebooks](http://jupyter.org) hace posible interactuar con los ejemplos y crear nuestros propios códigos para (por ejemplo) resolver ejercicios.\n",
    "\n",
    "Se puede ejecutar cualquier bloque que comience con un `In [ ]:` haciendo click sobre él y luego presionando shift+enter, o bien haciendo click en el botón <i class=\"fa fa-step-forward\"></i> en la barra de herramientas."
   ]
  },
  {
   "cell_type": "code",
   "execution_count": null,
   "metadata": {},
   "outputs": [],
   "source": []
  },
  {
   "cell_type": "markdown",
   "metadata": {},
   "source": [
    "--------\n",
    "# Capítulo 1: Elementos básicos de Python"
   ]
  },
  {
   "cell_type": "markdown",
   "metadata": {},
   "source": [
    "\n",
    "\n",
    "## El intérprete de python\n",
    "\n",
    "Python es un lenguaje *interpretado*. Podemos recolectar secuencias de comandos en archivos de texto y guardarlos como *programas python*. La convención indica que estos archivos se guardan con la extensión \"`.py`\", por ejemplo `hola.py`.\n",
    "\n",
    "También podemos ingresar comandos individuales en la consola de python, los cuales son evaluados inmediatamente por el intérprete de Python. Esto es muy útil al programar, ya que podemos entender cómo funcionan ciertos comandos (a menudo se prueban en la consola antes de ponerlos en un programa Python). El rol de Python se puede describir como: Leer el comando, Evaluarlo, Imprimir el resultado y repetir (REPL: Read, Evaluate, Print, Loop).\n",
    "\n",
    "Python viene con un terminal básico; el símbolo `>>>` marca la entrada:\n",
    "\n",
    "    >>> 2 + 2\n",
    "    4\n",
    "\n",
    "Aquí estamos usando un interprete REPL más poderoso: el Notebook Jupyter. Los bloques de código aparecen con un `In` junto a ellos:"
   ]
  },
  {
   "cell_type": "code",
   "execution_count": null,
   "metadata": {
    "scrolled": true
   },
   "outputs": [],
   "source": [
    "4 + 5 + 3"
   ]
  },
  {
   "cell_type": "markdown",
   "metadata": {},
   "source": [
    "Para editar el código, has click dentro del área del código. Debiese aparecer un borde verde o azul. Para correrlo, presiona Shift-Enter.\n",
    "\n",
    "\n",
    "\n",
    "\n",
    "\n",
    "\n"
   ]
  },
  {
   "cell_type": "markdown",
   "metadata": {},
   "source": [
    "## Una poderosa calculadora\n",
    "\n",
    "\n",
    "Operaciones básicas como suma (`+`), resta (`-`), multiplicación (`*`), división (`/`) y exponenciación (`**`) funcionan (en su mayoría) como debería: "
   ]
  },
  {
   "cell_type": "code",
   "execution_count": null,
   "metadata": {},
   "outputs": [],
   "source": [
    "10 + 87"
   ]
  },
  {
   "cell_type": "code",
   "execution_count": null,
   "metadata": {},
   "outputs": [],
   "source": [
    "42 - 1.5"
   ]
  },
  {
   "cell_type": "code",
   "execution_count": null,
   "metadata": {},
   "outputs": [],
   "source": [
    "47 * 11"
   ]
  },
  {
   "cell_type": "code",
   "execution_count": null,
   "metadata": {},
   "outputs": [],
   "source": [
    "10 / 0.5"
   ]
  },
  {
   "cell_type": "code",
   "execution_count": null,
   "metadata": {},
   "outputs": [],
   "source": [
    "3 ** 3   # Exponenciación ('elevado a') es **, NO ^"
   ]
  },
  {
   "cell_type": "code",
   "execution_count": null,
   "metadata": {},
   "outputs": [],
   "source": [
    "2 ** 3"
   ]
  },
  {
   "cell_type": "code",
   "execution_count": null,
   "metadata": {},
   "outputs": [],
   "source": [
    "2 ** 4"
   ]
  },
  {
   "cell_type": "code",
   "execution_count": null,
   "metadata": {},
   "outputs": [],
   "source": [
    "# Esto es un comentario\n",
    "2 + 2"
   ]
  },
  {
   "cell_type": "code",
   "execution_count": null,
   "metadata": {},
   "outputs": [],
   "source": [
    "2 + 2  # un comentario en la misma línea que el código"
   ]
  },
  {
   "cell_type": "markdown",
   "metadata": {},
   "source": [
    "Usando el hecho que $\\sqrt[n]{x} = x^{1/n}$, podemos calcular $\\sqrt{3} = 1.732050\\dots$ usando `**`:"
   ]
  },
  {
   "cell_type": "code",
   "execution_count": null,
   "metadata": {},
   "outputs": [],
   "source": [
    "3 ** 0.5"
   ]
  },
  {
   "cell_type": "markdown",
   "metadata": {},
   "source": [
    "Los paréntesis se pueden usar para agrupar:"
   ]
  },
  {
   "cell_type": "code",
   "execution_count": null,
   "metadata": {},
   "outputs": [],
   "source": [
    "2 * 10 + 5"
   ]
  },
  {
   "cell_type": "code",
   "execution_count": null,
   "metadata": {},
   "outputs": [],
   "source": [
    "2 * (10 + 5)"
   ]
  },
  {
   "cell_type": "markdown",
   "metadata": {},
   "source": [
    "Además, Python cuenta con la operación binaria módulo `%`, donde si `x` y `z`son enteros, entonces `x % z` devuelve el resto de la división de `x` en `z`:"
   ]
  },
  {
   "cell_type": "code",
   "execution_count": null,
   "metadata": {},
   "outputs": [],
   "source": [
    "4 % 2"
   ]
  },
  {
   "cell_type": "code",
   "execution_count": null,
   "metadata": {},
   "outputs": [],
   "source": [
    "5 % 2"
   ]
  },
  {
   "cell_type": "code",
   "execution_count": null,
   "metadata": {},
   "outputs": [],
   "source": [
    "5 % 3"
   ]
  },
  {
   "cell_type": "markdown",
   "metadata": {},
   "source": [
    "\n",
    "\n",
    "### Ejercicio 1:\n",
    "\n",
    "Calcule el valor de:"
   ]
  },
  {
   "cell_type": "markdown",
   "metadata": {},
   "source": [
    "1. $$\\dfrac{752}{823}$$"
   ]
  },
  {
   "cell_type": "code",
   "execution_count": null,
   "metadata": {},
   "outputs": [],
   "source": [
    "# Escribe aquí tu solución haciendo doble click"
   ]
  },
  {
   "cell_type": "markdown",
   "metadata": {},
   "source": [
    "2. $$\\dfrac{1}{1+\\dfrac{1}{1+\\dfrac{1}{2.5}}}$$"
   ]
  },
  {
   "cell_type": "code",
   "execution_count": null,
   "metadata": {},
   "outputs": [],
   "source": [
    "# Escribe aquí tu solución haciendo doble click"
   ]
  },
  {
   "cell_type": "markdown",
   "metadata": {},
   "source": [
    "3. $$2^{3\\cdot 2^{10}}$$"
   ]
  },
  {
   "cell_type": "code",
   "execution_count": null,
   "metadata": {},
   "outputs": [],
   "source": [
    "# Escribe aquí tu solución haciendo doble click"
   ]
  },
  {
   "cell_type": "markdown",
   "metadata": {},
   "source": [
    "4.     $$ 3 + 10(5^5 + 3) $$ "
   ]
  },
  {
   "cell_type": "code",
   "execution_count": null,
   "metadata": {},
   "outputs": [],
   "source": [
    "# Escribe aquí tu solución haciendo doble click"
   ]
  },
  {
   "cell_type": "markdown",
   "metadata": {},
   "source": [
    "5. Suponga que el precio de un libro es $25.000$ pesos, pero las librerías dan un $40\\%$ de descuento.  El costo de envío es de $3.000$ pesos por un libro, y $500$ pesos por cada libro extra. ¿Cuál es el valor de la venta de 60 libros?"
   ]
  },
  {
   "cell_type": "code",
   "execution_count": null,
   "metadata": {},
   "outputs": [],
   "source": [
    "# Escribe aquí tu solución haciendo doble click"
   ]
  },
  {
   "cell_type": "markdown",
   "metadata": {},
   "source": [
    "---------\n",
    "\n",
    "## División entera\n",
    "\n",
    "\n",
    "En Python 3, la división funciona como se esperaría: "
   ]
  },
  {
   "cell_type": "code",
   "execution_count": null,
   "metadata": {},
   "outputs": [],
   "source": [
    "15 / 6"
   ]
  },
  {
   "cell_type": "markdown",
   "metadata": {},
   "source": [
    "Sin embargo, en Python 2, `15/6` te daría `2`. \n",
    "\n",
    "Este fenómeno se conoce (en muchos lenguajes de programación, incluido C) como *división entera*: porque entregamos dos números enteros (`15`y `6`) al operador división (`/`), se asume que lo que buscamos como resultado es una variable tipo *entero*.\n",
    "\n",
    "La convención en la división entera es truncar los valores decimales y entregar solo la parte entera (i.e. `2` en este ejemplo). Por este motivo esta operación también se conoce como \"floor division\".\n",
    "\n",
    "### Cómo evitar la división entera:\n",
    "\n",
    "Si nos aseguramos de que al menos un número involucrado (numerador o denominador) es de tipo float (o complejo), el operador división va a entregar un float. Esto se puede hacer escribiendo `15.` en vez de `15`, o forzando la conversión del número a float, i.e. usando `float(15)` en lugar de `15`:\n",
    "\n",
    "   ```python\n",
    "   >>> 15./6\n",
    "   2.5\n",
    "   >>> float(15)/6\n",
    "   2.5\n",
    "   >>> 15/6.\n",
    "   2.5\n",
    "   >>> 15/float(6)\n",
    "   2.5\n",
    "   >>> 15./6.\n",
    "   2.5\n",
    "   ```\n",
    "\n",
    "Si realmente queremos la división entera podemos usar `//`: `1//2` entrega 0 en Python 2 y 3. \n"
   ]
  },
  {
   "cell_type": "code",
   "execution_count": null,
   "metadata": {},
   "outputs": [],
   "source": [
    "5 // 2"
   ]
  },
  {
   "cell_type": "code",
   "execution_count": null,
   "metadata": {},
   "outputs": [],
   "source": [
    "1 // 2"
   ]
  },
  {
   "cell_type": "markdown",
   "metadata": {},
   "source": [
    "### ¿Por qué me debería preocupar del problema de la división entera?\n",
    "\n",
    "La división entera puede causar errores inesperados: supongamos que estás escribiendo un código para calcular el promedio $m = (x+y)/2$ de dos números $x$ e $y$. Un primer intento de escribir esto sería:\n",
    "\n",
    "```python\n",
    "m = (x + y) / 2\n",
    "```\n",
    "\n",
    "Si escogemos $x = 0.5$ e $y=0.5$, entonces la línea de arriba calcula la respuesta correcta $m=0.5$. Sin embargo, si los enteros son $x=0$ e $y=1$, obtenemos  como valor (en Python 2) $m=0$, mientras que $0.5$ es la respuesta correcta. \n",
    "\n",
    "Tenemos varias posibiliades de cambiar esta línea de código para que funcione correctamente (en Python 2), por ejemplo:\n",
    "\n",
    "```python\n",
    "m = (x + y) / 2.0\n",
    "\n",
    "m = float(x + y) / 2\n",
    "\n",
    "m = (x + y) * 0.5\n",
    "```"
   ]
  },
  {
   "cell_type": "markdown",
   "metadata": {},
   "source": [
    "--------\n",
    "\n",
    "## Funciones matemáticas\n",
    "\n",
    "\n",
    "Como Python es un lenguaje de programación de uso general, las funciones matemáticas más usadas como sen, cos, exp, log y muchas otras se encuentran en el módulo de matemáticas llamado `math`. Podemos usar este módulo *importando* el módulo matemático:"
   ]
  },
  {
   "cell_type": "code",
   "execution_count": null,
   "metadata": {},
   "outputs": [],
   "source": [
    "import math\n",
    "math.sin(1.0)"
   ]
  },
  {
   "cell_type": "code",
   "execution_count": null,
   "metadata": {},
   "outputs": [],
   "source": [
    "math.log(100)"
   ]
  },
  {
   "cell_type": "markdown",
   "metadata": {},
   "source": [
    "Usando la función `dir`, pordemos obtener el directorio de objetos disponibles en el módulo:"
   ]
  },
  {
   "cell_type": "code",
   "execution_count": null,
   "metadata": {},
   "outputs": [],
   "source": [
    "dir(math)"
   ]
  },
  {
   "cell_type": "markdown",
   "metadata": {},
   "source": [
    "La función `help` provee más información sobre el módulo (`help(math)`) en objetos individuales:"
   ]
  },
  {
   "cell_type": "code",
   "execution_count": null,
   "metadata": {},
   "outputs": [],
   "source": [
    "help(math.exp)"
   ]
  },
  {
   "cell_type": "code",
   "execution_count": null,
   "metadata": {},
   "outputs": [],
   "source": [
    "help(math.log)"
   ]
  },
  {
   "cell_type": "code",
   "execution_count": null,
   "metadata": {},
   "outputs": [],
   "source": [
    "math.log(math.e)"
   ]
  },
  {
   "cell_type": "code",
   "execution_count": null,
   "metadata": {},
   "outputs": [],
   "source": [
    "math.log(100,10)"
   ]
  },
  {
   "cell_type": "markdown",
   "metadata": {},
   "source": [
    "Este módulo define constantes como $\\pi$ y $e$:"
   ]
  },
  {
   "cell_type": "code",
   "execution_count": null,
   "metadata": {},
   "outputs": [],
   "source": [
    "math.pi"
   ]
  },
  {
   "cell_type": "code",
   "execution_count": null,
   "metadata": {},
   "outputs": [],
   "source": [
    "math.e"
   ]
  },
  {
   "cell_type": "markdown",
   "metadata": {},
   "source": [
    "$ \\cos( \\pi)$"
   ]
  },
  {
   "cell_type": "code",
   "execution_count": null,
   "metadata": {},
   "outputs": [],
   "source": [
    "math.cos(math.pi)"
   ]
  },
  {
   "cell_type": "markdown",
   "metadata": {},
   "source": [
    "$\\log (e)$"
   ]
  },
  {
   "cell_type": "code",
   "execution_count": null,
   "metadata": {},
   "outputs": [],
   "source": [
    "math.log(math.e)"
   ]
  },
  {
   "cell_type": "code",
   "execution_count": null,
   "metadata": {},
   "outputs": [],
   "source": [
    "from math import sin"
   ]
  },
  {
   "cell_type": "code",
   "execution_count": null,
   "metadata": {},
   "outputs": [],
   "source": [
    "sin(1)"
   ]
  },
  {
   "cell_type": "code",
   "execution_count": null,
   "metadata": {},
   "outputs": [],
   "source": [
    "from math import *"
   ]
  },
  {
   "cell_type": "code",
   "execution_count": null,
   "metadata": {},
   "outputs": [],
   "source": [
    "cos(pi)"
   ]
  },
  {
   "cell_type": "code",
   "execution_count": null,
   "metadata": {},
   "outputs": [],
   "source": [
    "e"
   ]
  },
  {
   "cell_type": "markdown",
   "metadata": {},
   "source": [
    "\n",
    "\n",
    "### Ejercicio 2\n",
    "\n",
    "1. Calcula el máximo común divisor entre 37862 y 12034 (HINT: usa la función `gcd` y aprende a usarla con el help)."
   ]
  },
  {
   "cell_type": "code",
   "execution_count": null,
   "metadata": {},
   "outputs": [],
   "source": [
    "# Escribe aquí tu solución haciendo doble click\n"
   ]
  },
  {
   "cell_type": "markdown",
   "metadata": {},
   "source": [
    "2. Calcula el valor de $\\sin(e^{\\pi})$."
   ]
  },
  {
   "cell_type": "code",
   "execution_count": null,
   "metadata": {},
   "outputs": [],
   "source": [
    "# Escribe aquí tu solución haciendo doble click"
   ]
  },
  {
   "cell_type": "markdown",
   "metadata": {},
   "source": [
    "3. Calcula el menor entero que sea mayor a $\\dfrac{100\\log(43)}{\\pi}$ (HINT: usa la función `ceil` del modulo `math`)."
   ]
  },
  {
   "cell_type": "code",
   "execution_count": null,
   "metadata": {},
   "outputs": [],
   "source": [
    "# Escribe aquí tu solución haciendo doble click"
   ]
  },
  {
   "cell_type": "markdown",
   "metadata": {},
   "source": [
    "4. El volumen de una esfera de radio $r$ es $\\dfrac{4}{3}\\pi r^3$. ¿Cuál es el volumen de la esfera de radio $6$?"
   ]
  },
  {
   "cell_type": "code",
   "execution_count": null,
   "metadata": {},
   "outputs": [],
   "source": [
    "# Escribe aquí tu solución haciendo doble click"
   ]
  },
  {
   "cell_type": "markdown",
   "metadata": {},
   "source": [
    "---------------\n",
    "\n",
    "## Variables\n",
    "\n",
    "\n",
    "Una *variable* puede ser utilizada para almacenar un cierto valor u objeto. En Python, todos los números (y todo lo demás, incluyendo funciones, módulos y archivos) son objetos. Una variable es creada a través de una *asignación*:"
   ]
  },
  {
   "cell_type": "code",
   "execution_count": null,
   "metadata": {},
   "outputs": [],
   "source": [
    "x = 0.5"
   ]
  },
  {
   "cell_type": "markdown",
   "metadata": {},
   "source": [
    "Una vez que la variable `x` ha sido creada a través de la asignación (0.5 en este ejemplo), podemos usarla: "
   ]
  },
  {
   "cell_type": "code",
   "execution_count": null,
   "metadata": {},
   "outputs": [],
   "source": [
    "x * 3"
   ]
  },
  {
   "cell_type": "code",
   "execution_count": null,
   "metadata": {},
   "outputs": [],
   "source": [
    "x ** 2"
   ]
  },
  {
   "cell_type": "code",
   "execution_count": null,
   "metadata": {},
   "outputs": [],
   "source": [
    "y = 111\n",
    "y + 222"
   ]
  },
  {
   "cell_type": "markdown",
   "metadata": {},
   "source": [
    "Una variable es sobrescrita si un nuevo valor es asignado: "
   ]
  },
  {
   "cell_type": "code",
   "execution_count": null,
   "metadata": {},
   "outputs": [],
   "source": [
    "import math\n",
    "y = 0.7\n",
    "math.sin(y) ** 2 + math.cos(y) ** 2"
   ]
  },
  {
   "cell_type": "code",
   "execution_count": null,
   "metadata": {},
   "outputs": [],
   "source": [
    "y"
   ]
  },
  {
   "cell_type": "markdown",
   "metadata": {},
   "source": [
    "El signo igual (`=`) es utilizado para asignar un valor a una variable."
   ]
  },
  {
   "cell_type": "code",
   "execution_count": null,
   "metadata": {},
   "outputs": [],
   "source": [
    "ancho = 20\n",
    "alto = 5 * 9\n",
    "ancho * alto"
   ]
  },
  {
   "cell_type": "markdown",
   "metadata": {},
   "source": [
    "Un mismo valor se le puede asignar a varias variables simultaneamente:"
   ]
  },
  {
   "cell_type": "code",
   "execution_count": null,
   "metadata": {},
   "outputs": [],
   "source": [
    "x = y = z = 0  # inicializa las variables x, y, z en0\n",
    "x"
   ]
  },
  {
   "cell_type": "code",
   "execution_count": null,
   "metadata": {},
   "outputs": [],
   "source": [
    "y"
   ]
  },
  {
   "cell_type": "code",
   "execution_count": null,
   "metadata": {},
   "outputs": [],
   "source": [
    "z"
   ]
  },
  {
   "cell_type": "markdown",
   "metadata": {},
   "source": [
    "Las variables deben ser creadas (asignadas a un valor) antes de ser usadas. De lo contrario obtendremos un error: "
   ]
  },
  {
   "cell_type": "code",
   "execution_count": null,
   "metadata": {},
   "outputs": [],
   "source": [
    "# intentar acceder a una variable no definida:\n",
    "n"
   ]
  },
  {
   "cell_type": "code",
   "execution_count": null,
   "metadata": {},
   "outputs": [],
   "source": [
    "n = 100"
   ]
  },
  {
   "cell_type": "markdown",
   "metadata": {},
   "source": [
    "El último valor impreso es asignado a la variable `_`. Esto significa que cuando se usa Python como una calculador, es fácil recuperar valores no asignados a variables. Por ejemplo:"
   ]
  },
  {
   "cell_type": "code",
   "execution_count": null,
   "metadata": {},
   "outputs": [],
   "source": [
    "_"
   ]
  },
  {
   "cell_type": "code",
   "execution_count": null,
   "metadata": {},
   "outputs": [],
   "source": [
    "impuesto = 12.5 / 100\n",
    "precio = 100.50\n",
    "precio * impuesto"
   ]
  },
  {
   "cell_type": "code",
   "execution_count": null,
   "metadata": {},
   "outputs": [],
   "source": [
    "precio + _ #La variable precio no cambia el valor, solo se sumo el valor de la variable a lo último que se mostró en pantalla"
   ]
  },
  {
   "cell_type": "code",
   "execution_count": null,
   "metadata": {},
   "outputs": [],
   "source": [
    "_"
   ]
  },
  {
   "cell_type": "markdown",
   "metadata": {},
   "source": [
    "Esta variable debe ser usada como *solo lectura*. No es conveniente asignarle un valor, ya que se crearía una variable independiente local con el mismo nombre, escondiendo la variable predeterminada con este mágico comportamiento. \n",
    "\n",
    "En términos estrictos, cuando escribimos `x = 0.5` ocurre lo siguiente:\n",
    "\n",
    "Primero, Python crea el objeto `0.5`. Todo en Python es un *objeto*, incluyendo el decimal 0.5. Este objeto es almacenado en alguna parte de la memoria. Entonces, Python *enlaza un nombre al objeto*. El nombre es `x`, y a menudo nos referimos a `x`como una variable, un objeto, o incluso el valor `0.5`. Sin embargo, tecnicamente `x` es un nombre que es asignado al objeto `0.5`. Otro modo de decirlo es que `x`es una *referencia* al objeto. \n",
    "\n",
    "Cuando a menudo basta con pensar que `0.5` es asignado a la variable `x`, hay situaciones en las cuales tenemos que recordar qué está pasando realmente. En particular, cuando pasamos referencias de objetos a funciones, tenemos que entender que la función puede operar sobre el objeto (y no sobre una copia del objeto). Esto lo discutiremos más adelante \n",
    "\n",
    "### Ecuaciones Imposibles\n",
    "\n",
    "\n",
    "En programas computacioneales, encontramos a menudo operaciones como"
   ]
  },
  {
   "cell_type": "code",
   "execution_count": null,
   "metadata": {},
   "outputs": [],
   "source": [
    "x = 5\n",
    "x = x + 1\n",
    "x"
   ]
  },
  {
   "cell_type": "markdown",
   "metadata": {},
   "source": [
    "Si leemos esto como una ecuación matemática usual, \n",
    "\n",
    "$x = x + 1$\n",
    "\n",
    "podríamos sustraer $x$ en ambos lados, para encontrar que\n",
    "\n",
    "$0 = 1$.\n",
    "\n",
    "Sabemos que esto no es cierto, por lo que algo debe estar mal aquí. \n",
    "\n",
    "La respuesta es que las *ecuaciones* en códigos computacionales no son operaciones, sino que *asignaciones*. Ellas siempre se tienen que leer como las siguientes dos etapas: \n",
    "\n",
    "1.  Evaluar el valor al lado derecho del signo igual.\n",
    "2.  Asignar el valor obtenido a la variable cuyo nombre se muestra al lado izquierdo del signo igual (en Python: enlazar el nombre del lado izquierdo con el objeto mostrado al lado derecho.)\n",
    "\n",
    "A veces se usa la siguiente notación para expresar asignaciones y evitar confusiones:\n",
    "\n",
    "$$x \\leftarrow x + 1$$\n",
    "\n",
    "Apliquemos ahora las dos etapas a la asignación `x = x + 1`:\n",
    "\n",
    "1.  Evaluar el valor al lado derecho del signo igual: para esto necesitamos saber que el valor actual de `x`. Asumamos que actualmente `x`vale `4`. En ese caso, el lado derecho `x+1` se evalúa en `5`. \n",
    "2.  Asignar el valor obtenido (i.e. `5`) a la variable cuyo nombre se muestra al lado izquierdo del signo igual (i.e. `x`). \n",
    "\n",
    "Confirmemos ahora que ésta es la interpretación correcta:"
   ]
  },
  {
   "cell_type": "code",
   "execution_count": null,
   "metadata": {},
   "outputs": [],
   "source": [
    "x <- 4     # En vez del signo igual, se puede usar la \"flechita\": <-\n",
    "x <- x + 1\n",
    "x"
   ]
  },
  {
   "cell_type": "markdown",
   "metadata": {},
   "source": [
    "### La notación `+=` \n",
    "\n",
    "En computación es bastante común el tener que incrementar una variable `x` por un valor fijo `c`, podemos escribir\n",
    "\n",
    "```python\n",
    "x += c\n",
    "```\n",
    "\n",
    "en lugar de\n",
    "\n",
    "```python\n",
    "x = x + c\n",
    "```"
   ]
  },
  {
   "cell_type": "markdown",
   "metadata": {},
   "source": [
    "Entonces, nuestro ejemplo inicial se podría haber escrito:"
   ]
  },
  {
   "cell_type": "code",
   "execution_count": null,
   "metadata": {},
   "outputs": [],
   "source": [
    "x = 4\n",
    "x += 2 # Incrementar x en 2\n",
    "x"
   ]
  },
  {
   "cell_type": "markdown",
   "metadata": {},
   "source": [
    "Las mismas operaciones para multiplicar por una constante (`*=`), sustraer una constante (`-=`) y dividir por una constante (`/=`).\n",
    "\n",
    "Observe que el orden de `+` y `=` importa: "
   ]
  },
  {
   "cell_type": "code",
   "execution_count": null,
   "metadata": {},
   "outputs": [],
   "source": [
    "x += 1\n",
    "x"
   ]
  },
  {
   "cell_type": "markdown",
   "metadata": {},
   "source": [
    "incrementa la variable `x` en uno, mientras que"
   ]
  },
  {
   "cell_type": "code",
   "execution_count": null,
   "metadata": {},
   "outputs": [],
   "source": [
    "x =+ 1\n",
    "x"
   ]
  },
  {
   "cell_type": "markdown",
   "metadata": {},
   "source": [
    "asigna el valor `+1` a la variable `x`."
   ]
  },
  {
   "cell_type": "markdown",
   "metadata": {},
   "source": [
    "### Ejercicio 3"
   ]
  },
  {
   "cell_type": "markdown",
   "metadata": {},
   "source": [
    "1. Considere el siguiente código Python, donde `valor1` y `valor2` son variables asignadas a un número entero desconocido. \n",
    "\n",
    "```python\n",
    ">>> x = valor1\n",
    ">>> x = x + valor2\n",
    ">>> x =+ 1\n",
    ">>> x += 1\n",
    "```\n",
    "\n",
    "Determine el valor de `x`después de ejecutar estas líneas."
   ]
  },
  {
   "cell_type": "code",
   "execution_count": null,
   "metadata": {},
   "outputs": [],
   "source": [
    "# Escribe aquí tu solución haciendo doble click"
   ]
  },
  {
   "cell_type": "markdown",
   "metadata": {},
   "source": [
    "2. Considere el siguiente código Python, donde `valor1` y `valor2` son variables asignadas a un número entero desconocido.   \n",
    "\n",
    "```python\n",
    ">>> x = 1\n",
    ">>> x = x + valor1\n",
    ">>> x = x * valor2\n",
    ">>> x += 3\n",
    "```\n",
    "\n",
    "Determine una expresión (una línea de código) que represente el valor de `x` después de ejecutar estas líneas."
   ]
  },
  {
   "cell_type": "code",
   "execution_count": null,
   "metadata": {},
   "outputs": [],
   "source": [
    "# Escribe aquí tu solución haciendo doble click"
   ]
  },
  {
   "cell_type": "markdown",
   "metadata": {},
   "source": [
    "3. Cree 3 variables `a`, `b`, `c` y asígnele valores. Luego asigne a la variable `a` el valor de `a+b+c` a la variable `b` el valor de `b + c` y a la variable `c` el valor de $a^{bc}$. "
   ]
  },
  {
   "cell_type": "code",
   "execution_count": null,
   "metadata": {},
   "outputs": [],
   "source": [
    "# Escribe aquí tu solución haciendo doble click"
   ]
  },
  {
   "cell_type": "markdown",
   "metadata": {},
   "source": [
    "----------------\n",
    "\n",
    "# Tipos y Estructuras de Datos \n",
    "\n",
    "\n",
    "## ¿Cuál es el tipo?\n",
    "\n",
    "Python conoce diferentes tipos de datos. Para averiguar el tipo de una variable, se puede usar la función `type()`:"
   ]
  },
  {
   "cell_type": "code",
   "execution_count": null,
   "metadata": {},
   "outputs": [],
   "source": [
    "a = 45  # Un número entero\n",
    "type(a)"
   ]
  },
  {
   "cell_type": "code",
   "execution_count": null,
   "metadata": {},
   "outputs": [],
   "source": [
    "b = 'Hola' # Una cadena de texto (o string)\n",
    "type(b)"
   ]
  },
  {
   "cell_type": "code",
   "execution_count": null,
   "metadata": {},
   "outputs": [],
   "source": [
    "c = 2 + 5j  #Un número complejo\n",
    "type(c)"
   ]
  },
  {
   "cell_type": "code",
   "execution_count": null,
   "metadata": {
    "scrolled": true
   },
   "outputs": [],
   "source": [
    "d = [1, 3, 56] # Una lista\n",
    "type(d)"
   ]
  },
  {
   "cell_type": "markdown",
   "metadata": {},
   "source": [
    "\n",
    "\n",
    "## Números \n",
    "\n",
    "\n",
    "##### Para más información\n",
    "\n",
    "-  Una introducción informal a los números. [Python tutorial, section 3.1.1](http://docs.python.org/tutorial/introduction.html#using-python-as-a-calculator)\n",
    "\n",
    "-  La Biblioteca de Python: definiciones formales de los tipos numéricos, <http://docs.python.org/library/stdtypes.html#numeric-types-int-float-long-complex>\n",
    "\n",
    "-   Think Python, [Sec 2.1](http://www.greenteapress.com/thinkpython/html/book003.html)\n",
    "\n",
    "Los tipos numéricos predeterminados son los *enteros* (integers) y los *decimales* (números de coma flotante o *floating point numbers*) ([decimales](#Decimales)) y números complejos ([números complejos](#Complejos)).\n",
    "\n",
    "\n",
    "\n",
    "### Enteros\n",
    "\n",
    "Ya hemos visto anteriormente el uso de los números enteros. Recordar que hay que tener precaución con la división entera. \n",
    "\n",
    "Si queremos convertir un string que contiene un entero en un número entero, podemos usar la función `int()`:"
   ]
  },
  {
   "cell_type": "code",
   "execution_count": null,
   "metadata": {},
   "outputs": [],
   "source": [
    "a = '34'       # a es un string que contiene los caracteres 3 y 4\n",
    "x = int(a)     # x es un número entero\n",
    "type(x)"
   ]
  },
  {
   "cell_type": "code",
   "execution_count": null,
   "metadata": {},
   "outputs": [],
   "source": [
    "a = int('4')\n",
    "b = int('56')\n",
    "a+b"
   ]
  },
  {
   "cell_type": "markdown",
   "metadata": {},
   "source": [
    "La función `int()` también transforma decimales a enteros:"
   ]
  },
  {
   "cell_type": "code",
   "execution_count": null,
   "metadata": {},
   "outputs": [],
   "source": [
    "int(7.0)"
   ]
  },
  {
   "cell_type": "code",
   "execution_count": null,
   "metadata": {},
   "outputs": [],
   "source": [
    "int(7.9)"
   ]
  },
  {
   "cell_type": "markdown",
   "metadata": {},
   "source": [
    "Observar que `int()` va a truncar cualquier parte no-entera de un decimal. \n",
    "\n",
    "Para redondear un núnmero decimal al entero más cercano usamos la función `round()`:"
   ]
  },
  {
   "cell_type": "code",
   "execution_count": null,
   "metadata": {},
   "outputs": [],
   "source": [
    "round(7.9)"
   ]
  },
  {
   "cell_type": "markdown",
   "metadata": {},
   "source": [
    "## Ejercicio\n",
    "\n",
    "Un automovilista debe viajar desde la 5ta Región hasta Santiago, un recorrido de 120 km. El consumo de bencina del automóvil está dado por la siguiente función: \n",
    "\n",
    "$$bencina=\\frac{1}{240}  velocidad$$\n",
    "\n",
    "donde $bencina$ es el consumo de bencina en lt/km y v la $velocidad$ es la velocidad a la que viaja el automóvil, en km/hr.\n",
    "\n",
    "El automovilista debe completar el trayecto en un máximo de 100 minutos y gastar menos de 45 lt en el viaje. El problema es que, debido a un problema con el radiador, el automóvil no puede recorrer más de 40 km seguidos a más de 100 km/hr. Además, los primeros 40 km deben recorrerse a 60 km/hr o menos, por tratarse de zona urbana.  \n",
    "El automovilista ha decidido dividir su viaje en 3 tramos. En cada uno circulará a una velocidad diferente. Sin embargo, con tantas restricciones, el automovilista aún está confundido.\n",
    "\n",
    "¿A qué velocidad le conviene manejar en cada tramo? \n",
    "\n",
    "Tu tarea es diseñar un algoritmo que le ayude al automovilista a saber si cumple con sus restricciones. \n",
    "\n",
    "Escribe código del algoritmo que calcula cuánta bencina gastará el automovil y cuánto tiempo tardará en llegar a destino. Para esto, el algoritmo debe :\n",
    "\n",
    "*\tSolicitar al automovilista, para cada tramo, la velocidad a la que quiere recorerlo  \n",
    "*\tCalcular el número litros de bencina que consumirá en el viaje y el tiempo que tardará en realizarlo. Desplegar esta información por pantalla.\n",
    "\n",
    "Un ejemplo de la ejecución del algoritmo es la siguiente:\n",
    "\n",
    "```python\n",
    "Ingrese velocidad en el primer tramo: 60\n",
    "Ingrese velocidad en el segundo tramo: 120\n",
    "Ingrese velocidad en el tercer tramo: 85\n",
    "Consumiras:  44.166666666666664\n",
    "y tardarás:  88.23529411764707\n",
    "    ```\n",
    "\n",
    "HINT: para solicitar datos utiliza la función `input()` y para imprimirlos usa la función `print()`. "
   ]
  },
  {
   "cell_type": "code",
   "execution_count": null,
   "metadata": {},
   "outputs": [],
   "source": [
    "# Escribe aquí tu solución haciendo doble click"
   ]
  },
  {
   "cell_type": "markdown",
   "metadata": {},
   "source": [
    "#### Enteros ilimitados\n",
    "\n",
    "Los enteros en Python 3 son ilimitados; Pyhton va a asignar más memoria de manera automática en caso de ser necesario. Esto significa que podemos calcular números muy grandes sin necesidad de hacer nada en especial. "
   ]
  },
  {
   "cell_type": "code",
   "execution_count": null,
   "metadata": {},
   "outputs": [],
   "source": [
    "35**800"
   ]
  },
  {
   "cell_type": "markdown",
   "metadata": {},
   "source": [
    "En muchos otros lenguajes de programación, como C y FORTRAN, los enteros están acotados a un tamaño máximo de 4bytes, lo que permite $2^{32}$ valores diferentes (aunque existen otros tipos de datos con otros tamaños). Para números que quepan en estos límites, los cálculos son más rápidos, pero hay que tener cuidado de no salirse de los límites. El hecho de calcular un número que sobrepasa estos límites se conoce como *integer overflow*, y puede producir resultados extraños. \n",
    "\n",
    "Incluso en Python tenemos que tener cuidado con esto cuando trabajamos con la librería numpy (que veremos más adelante). Numpy usa enteros acotados a un tamaño fijo, ya que almacena varios valores al mismo tiempo y está diseñado para realizar cálculos eficientes. \n",
    "\n",
    "Los tipo entero pueden ser *con signo* o *sin signo*. Los enteros con signo permiten valores positivos o negativos, mientras que los sin signo solo permiten valores positivos. Por ejemplo:\n",
    "\n",
    "* uint16 (sin signo) cubre desde 0 a $2^{16}-1$\n",
    "* int16 (con signo) cubre desde $-2^{15}$ a $2^{15}-1$"
   ]
  },
  {
   "cell_type": "markdown",
   "metadata": {},
   "source": [
    "\n",
    "\n",
    "### Decimales\n",
    "\n",
    "Un string que contiene un decimal puede ser transformado a un *float* usando el comando `float()`:"
   ]
  },
  {
   "cell_type": "code",
   "execution_count": null,
   "metadata": {},
   "outputs": [],
   "source": [
    "a = 3534\n",
    "b = float(a)\n",
    "b"
   ]
  },
  {
   "cell_type": "code",
   "execution_count": null,
   "metadata": {},
   "outputs": [],
   "source": [
    "type(b)"
   ]
  },
  {
   "cell_type": "markdown",
   "metadata": {},
   "source": [
    "\n",
    "\n",
    "### Complejos\n",
    "\n",
    "Python (como Fortran y Matlab) tiene preconfigurados los números complejos. Aquí hay algunos ejemplos:"
   ]
  },
  {
   "cell_type": "code",
   "execution_count": null,
   "metadata": {},
   "outputs": [],
   "source": [
    "x = 1 + 3j\n",
    "x"
   ]
  },
  {
   "cell_type": "code",
   "execution_count": null,
   "metadata": {},
   "outputs": [],
   "source": [
    "abs(x)               # computes the absolute value"
   ]
  },
  {
   "cell_type": "code",
   "execution_count": null,
   "metadata": {},
   "outputs": [],
   "source": [
    "x.imag"
   ]
  },
  {
   "cell_type": "code",
   "execution_count": null,
   "metadata": {},
   "outputs": [],
   "source": [
    "x.real"
   ]
  },
  {
   "cell_type": "code",
   "execution_count": null,
   "metadata": {},
   "outputs": [],
   "source": [
    "x * x"
   ]
  },
  {
   "cell_type": "code",
   "execution_count": null,
   "metadata": {},
   "outputs": [],
   "source": [
    "x * x.conjugate()"
   ]
  },
  {
   "cell_type": "code",
   "execution_count": null,
   "metadata": {},
   "outputs": [],
   "source": [
    "x **(1/2) "
   ]
  },
  {
   "cell_type": "markdown",
   "metadata": {},
   "source": [
    "Si se necesita realizar operaciones más complicadas (por ejemplo calcular la raíz cuadrada de un complejo), es necesario utilizar la librería `cmath` (Complex MATHematics):"
   ]
  },
  {
   "cell_type": "code",
   "execution_count": null,
   "metadata": {},
   "outputs": [],
   "source": [
    "import cmath\n",
    "cmath.cos(1)"
   ]
  },
  {
   "cell_type": "code",
   "execution_count": null,
   "metadata": {},
   "outputs": [],
   "source": [
    "dir(cmath)"
   ]
  },
  {
   "cell_type": "markdown",
   "metadata": {},
   "source": [
    "La función `abs()` devuelve el valor absoluto de un número (llamado también módulo):"
   ]
  },
  {
   "cell_type": "code",
   "execution_count": null,
   "metadata": {},
   "outputs": [],
   "source": [
    "a = -45.463\n",
    "abs(a)"
   ]
  },
  {
   "cell_type": "code",
   "execution_count": null,
   "metadata": {},
   "outputs": [],
   "source": [
    "1 + 1j"
   ]
  },
  {
   "cell_type": "markdown",
   "metadata": {},
   "source": [
    "Observe que `abs()` también funciona con números complejos. "
   ]
  },
  {
   "cell_type": "markdown",
   "metadata": {},
   "source": [
    "## Secuencias\n",
    "\n",
    "Strings, listas y tuplas son *secuencias*. Ellas pueden ser *indexadas* y *cortadas* de la misma forma. \n",
    "\n",
    "Las tuplas y los strings son \"*inmutables*\" (lo que básicamente significa que no podemos cambiar elementos individuales en la tupla, no podemos cambiar caracteres individuales en un string). En cambio, las listas son \"*mutables*\" (*i.e.* podemos cambiar los elementos en una lista). \n",
    "\n",
    "Las secuencias comparten las siguientes operaciones:\n",
    "\n",
    "* `a[i]` devuelve i-ésimo elemento de `a`.\n",
    "* `a[i:j]` devuelve los elementos indexados desde i hasta j-1.\n",
    "* `len(a)` devuelve el número de elementos en la secuencia.\n",
    "* `min(a)` devuelve el elemento más pequeño de la secuencia. \n",
    "* `max(a)`  devuelve el elemento más grande de la secuencia. \n",
    "* `x in a` devuelve `True` (`Verdadero`) si `x` es un elemento de `a`.\n",
    "* `a + b` concatena `a` y `b`.\n",
    "* `n * a` crea `n` copias de la secuencia `a`."
   ]
  },
  {
   "cell_type": "markdown",
   "metadata": {},
   "source": [
    "### Strings \n",
    "\n",
    "**Más información**\n",
    "\n",
    "-   Introducción a los Strings, [Python tutorial 3.1.2](http://docs.python.org/tutorial/introduction.html#strings)\n",
    "\n",
    "Un string es una secuencia (inmutable) de caracteres. Un string se puede definir usando comillas simples:"
   ]
  },
  {
   "cell_type": "code",
   "execution_count": null,
   "metadata": {},
   "outputs": [],
   "source": [
    "a = 'Hola Mundo'"
   ]
  },
  {
   "cell_type": "markdown",
   "metadata": {},
   "source": [
    "o dobles:"
   ]
  },
  {
   "cell_type": "code",
   "execution_count": null,
   "metadata": {},
   "outputs": [],
   "source": [
    "a = \"Este texto tiene comillas\"\n",
    "a"
   ]
  },
  {
   "cell_type": "markdown",
   "metadata": {},
   "source": [
    "o triples de cualquier tipo:"
   ]
  },
  {
   "cell_type": "code",
   "execution_count": null,
   "metadata": {},
   "outputs": [],
   "source": [
    "a = \"\"\"Hola Mundo\"\"\"\n",
    "a = '''Hola Mundo'''"
   ]
  },
  {
   "cell_type": "markdown",
   "metadata": {},
   "source": [
    "El tipo de datos se llama `str`. El string vacío esta dado por `\"\"`:"
   ]
  },
  {
   "cell_type": "code",
   "execution_count": null,
   "metadata": {},
   "outputs": [],
   "source": [
    "type(\"Hola Mundo\")"
   ]
  },
  {
   "cell_type": "code",
   "execution_count": null,
   "metadata": {},
   "outputs": [],
   "source": [
    "type(\"\")"
   ]
  },
  {
   "cell_type": "code",
   "execution_count": null,
   "metadata": {},
   "outputs": [],
   "source": [
    "a = \"Hola Mundo\"\n",
    "type(a)"
   ]
  },
  {
   "cell_type": "code",
   "execution_count": null,
   "metadata": {},
   "outputs": [],
   "source": [
    "b = \"\"\n",
    "type(b)"
   ]
  },
  {
   "cell_type": "markdown",
   "metadata": {},
   "source": [
    "El número de caracteres en un string (esto es su *largo*) se puede obtener usando la función `len()`:"
   ]
  },
  {
   "cell_type": "code",
   "execution_count": null,
   "metadata": {},
   "outputs": [],
   "source": [
    "a = \"Hola Mundo\"\n",
    "len(a)"
   ]
  },
  {
   "cell_type": "code",
   "execution_count": null,
   "metadata": {},
   "outputs": [],
   "source": [
    "a = 'ejemplo'\n",
    "len(a)"
   ]
  },
  {
   "cell_type": "code",
   "execution_count": null,
   "metadata": {},
   "outputs": [],
   "source": [
    "len('otro ejemplo')"
   ]
  },
  {
   "cell_type": "markdown",
   "metadata": {},
   "source": [
    "Se puede combinar (\"*concatenar*\") dos strings usando el operador `+`:"
   ]
  },
  {
   "cell_type": "code",
   "execution_count": null,
   "metadata": {},
   "outputs": [],
   "source": [
    "'Hola' + 'Mundo'"
   ]
  },
  {
   "cell_type": "markdown",
   "metadata": {},
   "source": [
    "Pyhton incluye varias funciones útiles para el manejo de strings. Por ejemplo la función `upper()` recibe un string y lo devuelve transformando todas las letras en mayúsculas: "
   ]
  },
  {
   "cell_type": "code",
   "execution_count": null,
   "metadata": {},
   "outputs": [],
   "source": [
    "a = \"Este es el ejemplo 1.\"\n",
    "a.upper()"
   ]
  },
  {
   "cell_type": "markdown",
   "metadata": {},
   "source": [
    "Se puede transformar un número a string usando la función `str()`:"
   ]
  },
  {
   "cell_type": "code",
   "execution_count": null,
   "metadata": {},
   "outputs": [],
   "source": [
    "str(125)"
   ]
  },
  {
   "cell_type": "code",
   "execution_count": null,
   "metadata": {},
   "outputs": [],
   "source": [
    "type(str(125))"
   ]
  },
  {
   "cell_type": "markdown",
   "metadata": {},
   "source": [
    "Una lista de las funciones disponibles se puede obtener consultando la documentación de Python. Si hay una consola de Python disponible, se puede usar las funciones `dir` y `help` para recuperar esta información. Más precisamente, `dir()` entrega la lista de funciones, y `help`se usa para aprender a usar cada función. \n"
   ]
  },
  {
   "cell_type": "code",
   "execution_count": null,
   "metadata": {},
   "outputs": [],
   "source": [
    "dir(str)"
   ]
  },
  {
   "cell_type": "markdown",
   "metadata": {},
   "source": [
    "------------\n",
    "### Ejercicio 4"
   ]
  },
  {
   "cell_type": "markdown",
   "metadata": {},
   "source": [
    "1. Escriba 1000 veces la palabra \"hola\". Hint, utiliza el operador *"
   ]
  },
  {
   "cell_type": "code",
   "execution_count": null,
   "metadata": {},
   "outputs": [],
   "source": [
    "# Escribe aquí tu solución haciendo doble click"
   ]
  },
  {
   "cell_type": "markdown",
   "metadata": {},
   "source": [
    "2. Considere los siguientes strings (sacados de https://en.wikipedia.org/wiki/Chile):"
   ]
  },
  {
   "cell_type": "code",
   "execution_count": null,
   "metadata": {},
   "outputs": [],
   "source": [
    "string1 = \"Los restos arqueológicos más antiguos de Chile han sido ubicados en Monte Verde (región de Los Lagos),\\\n",
    "circa 12800 a. C., a finales del Paleolítico Superior, convirtiéndolo en el primer asentamiento humano \\\n",
    "conocido en América. En este periodo descolló la cultura Chinchorro, desarrollada en el norte del país \\\n",
    "entre 5000 y 1700 a. C., la primera del mundo en momificar artificialmente a sus muertos.\""
   ]
  },
  {
   "cell_type": "code",
   "execution_count": null,
   "metadata": {},
   "outputs": [],
   "source": [
    "string2 = 'En el norte del país, los aimaras, atacameños y diaguitas establecieron a partir del siglo XI\\\n",
    "culturas agrícolas fuertemente influenciadas por el Imperio incaico; desde fines del siglo XV, dicho imperio\\\n",
    "dominó la mitad norte del actual Chile hasta el río Maule y estableció dos wamanis o provincias: «Coquimbo»\\\n",
    "y «Chile». En las costas de las zonas norte y central, habitó el pueblo chango. Al sur del río Aconcagua,\\\n",
    "se establecieron los distintos grupos mapuches, agricultores y ganaderos, que son el principal grupo indígena\\\n",
    "del país. En los canales patagónicos, habitaron los nómadas canoeros chonos, kawésqar y yaganes; y en la estepa\\\n",
    "patagónica, los nómadas terrestres aónikenk y selknam En la isla de Pascua, se desarrolló la cultura\\\n",
    "polinésica rapanui que casi se extinguió a mediados del siglo XIX.'"
   ]
  },
  {
   "cell_type": "markdown",
   "metadata": {},
   "source": [
    "- Escriba el string1 en letras mayúsculas"
   ]
  },
  {
   "cell_type": "code",
   "execution_count": null,
   "metadata": {},
   "outputs": [],
   "source": [
    "# Escribe aquí tu solución haciendo doble click"
   ]
  },
  {
   "cell_type": "markdown",
   "metadata": {},
   "source": [
    "- Escriba el string2 en letras minúsculas"
   ]
  },
  {
   "cell_type": "code",
   "execution_count": null,
   "metadata": {},
   "outputs": [],
   "source": [
    "# Escribe aquí tu solución haciendo doble click"
   ]
  },
  {
   "cell_type": "markdown",
   "metadata": {},
   "source": [
    "- Junte el string1 y string2 en un string3 que contenga todo el texto con las trasnformaciones anteriormente solicitadas."
   ]
  },
  {
   "cell_type": "code",
   "execution_count": null,
   "metadata": {},
   "outputs": [],
   "source": [
    "# Escribe aquí tu solución haciendo doble click"
   ]
  },
  {
   "cell_type": "markdown",
   "metadata": {},
   "source": [
    "- Calcule el número de caracteres en los strings string1, string2 y string3"
   ]
  },
  {
   "cell_type": "code",
   "execution_count": null,
   "metadata": {},
   "outputs": [],
   "source": [
    "# Escribe aquí tu solución haciendo doble click"
   ]
  },
  {
   "cell_type": "markdown",
   "metadata": {},
   "source": [
    "- Escriba un código que permita determinar si el string1 o el string2 contienen una letra `w`."
   ]
  },
  {
   "cell_type": "code",
   "execution_count": null,
   "metadata": {},
   "outputs": [],
   "source": [
    "# Escribe aquí tu solución haciendo doble click"
   ]
  },
  {
   "cell_type": "markdown",
   "metadata": {},
   "source": [
    "-------------"
   ]
  },
  {
   "cell_type": "markdown",
   "metadata": {},
   "source": [
    "### Listas\n",
    "\n",
    "**Más información**\n",
    "\n",
    "-   Introducción a las listas, [Python tutorial, section 3.1.4](http://docs.python.org/tutorial/introduction.html#lists)\n",
    "\n",
    "Una lista es una secuencia de objetos. Estos objetos pueden ser de cualquier tipo, por ejemplo enteros:"
   ]
  },
  {
   "cell_type": "code",
   "execution_count": null,
   "metadata": {},
   "outputs": [],
   "source": [
    "a = [34, 12, 54]"
   ]
  },
  {
   "cell_type": "markdown",
   "metadata": {},
   "source": [
    "o strings:"
   ]
  },
  {
   "cell_type": "code",
   "execution_count": null,
   "metadata": {},
   "outputs": [],
   "source": [
    "a = ['perro', 'gato', 'vaca']"
   ]
  },
  {
   "cell_type": "markdown",
   "metadata": {},
   "source": [
    "o una combinación de diferentes tipos:"
   ]
  },
  {
   "cell_type": "code",
   "execution_count": null,
   "metadata": {},
   "outputs": [],
   "source": [
    "a = [\"perro\", 1, 'gato', 3.14, -15]"
   ]
  },
  {
   "cell_type": "markdown",
   "metadata": {},
   "source": [
    "incluso otras listas:"
   ]
  },
  {
   "cell_type": "code",
   "execution_count": null,
   "metadata": {},
   "outputs": [],
   "source": [
    "a = [[1, 2, 3], [\"perro\", \"gato\"], 3.14]"
   ]
  },
  {
   "cell_type": "markdown",
   "metadata": {},
   "source": [
    "Una lista vacía se define como la lista `[]`:"
   ]
  },
  {
   "cell_type": "code",
   "execution_count": null,
   "metadata": {},
   "outputs": [],
   "source": [
    "a = []"
   ]
  },
  {
   "cell_type": "markdown",
   "metadata": {},
   "source": [
    "El tipo es `list`:"
   ]
  },
  {
   "cell_type": "code",
   "execution_count": null,
   "metadata": {},
   "outputs": [],
   "source": [
    "type(a)"
   ]
  },
  {
   "cell_type": "code",
   "execution_count": null,
   "metadata": {},
   "outputs": [],
   "source": [
    "type([])"
   ]
  },
  {
   "cell_type": "markdown",
   "metadata": {},
   "source": [
    "Como con los strings, el número de elementos en una lista se puede obtener usando la función `len()`:"
   ]
  },
  {
   "cell_type": "code",
   "execution_count": null,
   "metadata": {},
   "outputs": [],
   "source": [
    "a = ['perro', 'gato', 'vaca']\n",
    "len(a)"
   ]
  },
  {
   "cell_type": "code",
   "execution_count": null,
   "metadata": {},
   "outputs": [],
   "source": [
    "a = [[1, 2, 3], [\"perro\", \"gato\"], 3.14]\n",
    "len(a)"
   ]
  },
  {
   "cell_type": "markdown",
   "metadata": {},
   "source": [
    "Se puede combinar (“*concatenar*”) dos listas usando el operador `+`:"
   ]
  },
  {
   "cell_type": "code",
   "execution_count": null,
   "metadata": {},
   "outputs": [],
   "source": [
    "[3, 4, 5] + [34, 35, 100]"
   ]
  },
  {
   "cell_type": "markdown",
   "metadata": {},
   "source": [
    "También se puede añadir un objeto al final de la lista usando el comando  `append()`:"
   ]
  },
  {
   "cell_type": "code",
   "execution_count": null,
   "metadata": {},
   "outputs": [],
   "source": [
    "a = [34, 56, 23]\n",
    "a.append(42)\n",
    "a"
   ]
  },
  {
   "cell_type": "markdown",
   "metadata": {},
   "source": [
    "Puedes eliminar un objeto de una lista llamando al método `remove()` y entregando el objeto a eliminar. Por ejemplo:"
   ]
  },
  {
   "cell_type": "code",
   "execution_count": null,
   "metadata": {},
   "outputs": [],
   "source": [
    "a = [34, 56, 23, 42,56]\n",
    "a.remove(56)\n",
    "a"
   ]
  },
  {
   "cell_type": "markdown",
   "metadata": {},
   "source": [
    "Observar que solo elimina la primera aparición del elemento. "
   ]
  },
  {
   "cell_type": "markdown",
   "metadata": {},
   "source": [
    "#### El comando range() \n",
    "\n",
    "Hay un tipo especial de lista que se usa frecuentemente en los ciclos `for`, y que por lo tanto existe un comando que las genera: el comando `range(n)` genera una lista que contiene todos los enteros desde 0 hasta n-1. "
   ]
  },
  {
   "cell_type": "code",
   "execution_count": null,
   "metadata": {},
   "outputs": [],
   "source": [
    "list(range(3))"
   ]
  },
  {
   "cell_type": "code",
   "execution_count": null,
   "metadata": {},
   "outputs": [],
   "source": [
    "list(range(10))"
   ]
  },
  {
   "cell_type": "markdown",
   "metadata": {},
   "source": [
    "Este comando se usa normalmente en los ciclos for. Por ejemplo, para imprmir todos los números 0<sup>2</sup>,1<sup>2</sup>,2<sup>2</sup>,3<sup>2</sup>,…,10<sup>2</sup>, se puede usar el siguiente programa:"
   ]
  },
  {
   "cell_type": "code",
   "execution_count": null,
   "metadata": {},
   "outputs": [],
   "source": [
    "for i in range(11):\n",
    "    print(i ** 2)"
   ]
  },
  {
   "cell_type": "markdown",
   "metadata": {},
   "source": [
    "El comando `range()` tiene como parametros opcionales para el comienzo y el final de la lista, y otro opcional para el tamaño del paso. Esto es escrito como `range([inicio], fin, [paso])`, donde los parámetros encerrados en paréntesis cuadrados (*i.e.* inicio y paso) son opcionales:"
   ]
  },
  {
   "cell_type": "code",
   "execution_count": null,
   "metadata": {},
   "outputs": [],
   "source": [
    "list(range(3, 10))            # inicio=3"
   ]
  },
  {
   "cell_type": "code",
   "execution_count": null,
   "metadata": {},
   "outputs": [],
   "source": [
    "list(range(3, 10, 2))         # inicio=3, paso=2"
   ]
  },
  {
   "cell_type": "code",
   "execution_count": null,
   "metadata": {},
   "outputs": [],
   "source": [
    "list(range(10, 0, -1))        # inicio=10,paso=-1"
   ]
  },
  {
   "cell_type": "markdown",
   "metadata": {},
   "source": [
    "Por que llamamos `list(range())`?\n",
    "\n",
    "En Python 3, `range()` genera los números en la medida que los va usando. Esto es más eficiente cuando usas `range()` en un ciclo for, porque el programa no usa memoria de más creando una lista de números. Pasarlo al comando `list()`fuerza a Python a generar la lista de todos los números, para que podamos ver cómo funciona el comando. \n",
    "\n",
    "Para obtener el mismo comportamiento en Python 2, se debe usar `xrange()` en lugar de `range()`. \n"
   ]
  },
  {
   "cell_type": "markdown",
   "metadata": {},
   "source": [
    "----------\n",
    "### Ejercicio 5"
   ]
  },
  {
   "cell_type": "markdown",
   "metadata": {},
   "source": [
    "1. Escriba un código que entregue una lista de largo 1000 y que contenga solo ceros."
   ]
  },
  {
   "cell_type": "code",
   "execution_count": null,
   "metadata": {},
   "outputs": [],
   "source": [
    "# Escribe aquí tu solución haciendo doble click"
   ]
  },
  {
   "cell_type": "markdown",
   "metadata": {},
   "source": [
    "2. Escriba un código que entegue una lista de con los números de 1 a 30 seguida de los números de 29 a 0"
   ]
  },
  {
   "cell_type": "code",
   "execution_count": null,
   "metadata": {},
   "outputs": [],
   "source": [
    "# Escribe aquí tu solución haciendo doble click"
   ]
  },
  {
   "cell_type": "markdown",
   "metadata": {},
   "source": [
    "3. Escriba un programa que reciba 5 números entreros entregados por el usuario, y los almacene en una lista. El programa debe imprimir los elementos de la lista ordenados, en la medida que se van leyendo. Un ejemplo de la ejecución es el siguiente:\n",
    "\n",
    "```\n",
    "Ingrese un número: 5\n",
    "[5]\n",
    "Ingrese un número: 2\n",
    "[2, 5]\n",
    "Ingrese un número: 3\n",
    "[2, 3, 5]\n",
    "Ingrese un número: 1\n",
    "[1, 2, 3, 5]\n",
    "Ingrese un número: 8\n",
    "[1, 2, 3, 5, 8]\n",
    "\n",
    "```\n",
    "\n",
    "\n",
    "(HINT: utilice los comandos `input()`, `int()` y el método `sort()`)."
   ]
  },
  {
   "cell_type": "code",
   "execution_count": null,
   "metadata": {},
   "outputs": [],
   "source": [
    "# Escribe aquí tu solución haciendo doble click"
   ]
  },
  {
   "cell_type": "markdown",
   "metadata": {},
   "source": [
    "### Indexando secuencias\n",
    "\n",
    "**Más información**\n",
    "\n",
    "-   Introduction to strings and indexing in [Python tutorial, section 3.1.2](http://docs.python.org/tutorial/introduction.html#strings), la sección relevante comienza después de que se introducen los strings. \n",
    "\n",
    "Se puede acceder a objetos individuales en listas utilizando el índice del objeto y paréntesis cuadrados (`[`y `]`):"
   ]
  },
  {
   "cell_type": "code",
   "execution_count": null,
   "metadata": {},
   "outputs": [],
   "source": [
    "a = ['perro', 'gato', 'vaca']\n",
    "a[0]"
   ]
  },
  {
   "cell_type": "code",
   "execution_count": null,
   "metadata": {},
   "outputs": [],
   "source": [
    "a[1]"
   ]
  },
  {
   "cell_type": "code",
   "execution_count": null,
   "metadata": {},
   "outputs": [],
   "source": [
    "a[2]"
   ]
  },
  {
   "cell_type": "markdown",
   "metadata": {},
   "source": [
    "Observar que Python (como C pero no como FORTRAN, MATLAB o R) comienza contando los índices desde **cero**.\n",
    "\n",
    "Python provee un atajo para recuperar el último elemento de una lista: usando el índice \"-1\", donde el signo menos indica que estamos recorriendo la lista *de atrás para adelante*. Del mismo modo, el índice \"-2\" nos entrega el penúltimo elemento:"
   ]
  },
  {
   "cell_type": "code",
   "execution_count": null,
   "metadata": {},
   "outputs": [],
   "source": [
    "a[-1]"
   ]
  },
  {
   "cell_type": "code",
   "execution_count": null,
   "metadata": {},
   "outputs": [],
   "source": [
    "a[-2]"
   ]
  },
  {
   "cell_type": "markdown",
   "metadata": {},
   "source": [
    "Tal vez sea útil pensar que el índice `a[-1]` es una notación resumida para `a[len(a)-1]`. \n",
    "\n",
    "Recuerde que los strings (como las listas) son también secuencias, y pueden ser indexadas del mismo modo:"
   ]
  },
  {
   "cell_type": "code",
   "execution_count": null,
   "metadata": {},
   "outputs": [],
   "source": [
    "a = \"Hola Mundo!\" \n",
    "a[0]"
   ]
  },
  {
   "cell_type": "code",
   "execution_count": null,
   "metadata": {},
   "outputs": [],
   "source": [
    "a[1]"
   ]
  },
  {
   "cell_type": "code",
   "execution_count": null,
   "metadata": {},
   "outputs": [],
   "source": [
    "a[7]"
   ]
  },
  {
   "cell_type": "code",
   "execution_count": null,
   "metadata": {},
   "outputs": [],
   "source": [
    "a[-1]"
   ]
  },
  {
   "cell_type": "code",
   "execution_count": null,
   "metadata": {},
   "outputs": [],
   "source": [
    "a[-2]"
   ]
  },
  {
   "cell_type": "markdown",
   "metadata": {},
   "source": [
    "### Cortar secuencias\n",
    "\n",
    "**Más información**\n",
    "\n",
    "-   Introduction to strings, indexing and slicing in [Python tutorial, section 3.1.2](http://docs.python.org/tutorial/introduction.html#strings)\n",
    "\n",
    "*Cortar* (*slicing* en inglés) secuencias se puede usar para recuperar más de un elemento. Por ejemplo:"
   ]
  },
  {
   "cell_type": "code",
   "execution_count": null,
   "metadata": {},
   "outputs": [],
   "source": [
    "a = \"Hola Mundo!\"\n",
    "a[0:3]"
   ]
  },
  {
   "cell_type": "markdown",
   "metadata": {},
   "source": [
    "Al escribir `a[0:3]` solicitamos los elementos con índices 0,1,2. Otro ejemplo:"
   ]
  },
  {
   "cell_type": "code",
   "execution_count": null,
   "metadata": {},
   "outputs": [],
   "source": [
    "a[1:4]"
   ]
  },
  {
   "cell_type": "code",
   "execution_count": null,
   "metadata": {},
   "outputs": [],
   "source": [
    "a[0:2]"
   ]
  },
  {
   "cell_type": "code",
   "execution_count": null,
   "metadata": {},
   "outputs": [],
   "source": [
    "a[0:6]"
   ]
  },
  {
   "cell_type": "markdown",
   "metadata": {},
   "source": [
    "Se pueden usar índices negativos para referirse al final de la secuencia:"
   ]
  },
  {
   "cell_type": "code",
   "execution_count": null,
   "metadata": {},
   "outputs": [],
   "source": [
    "a[0:-2]"
   ]
  },
  {
   "cell_type": "markdown",
   "metadata": {},
   "source": [
    "También se puede dejar en blanco el inidice inicial o final, y esto devuelve todos los elementos desde el comienzo o el final de la secuencia:"
   ]
  },
  {
   "cell_type": "code",
   "execution_count": null,
   "metadata": {},
   "outputs": [],
   "source": [
    "a = \"Hola Mundo!\"\n",
    "a[:4]"
   ]
  },
  {
   "cell_type": "code",
   "execution_count": null,
   "metadata": {},
   "outputs": [],
   "source": [
    "a[5:]"
   ]
  },
  {
   "cell_type": "code",
   "execution_count": null,
   "metadata": {},
   "outputs": [],
   "source": [
    "a[-2:]"
   ]
  },
  {
   "cell_type": "code",
   "execution_count": null,
   "metadata": {},
   "outputs": [],
   "source": [
    "a[:]"
   ]
  },
  {
   "cell_type": "markdown",
   "metadata": {},
   "source": [
    "Observe que `a[:]` genera una *copia* de `a`. Para algunas personas, uso de índices para dividir secuencias es contraintuitivo. Para recordar cómo funcionan las divisiones de secuencias, veamos la siguiente cita del [Tutorial de Python (sección 3.1.2)](http://docs.python.org/tutorial/introduction.html#strings):\n",
    "\n",
    "> The best way to remember how slices work is to think of the indices as pointing between characters, with the left edge of the first character numbered 0. Then the right edge of the last character of a string of 5 characters has index 5, for example:\n",
    ">\n",
    ">      +---+---+---+---+---+ \n",
    ">      | H | e | l | l | o |\n",
    ">      +---+---+---+---+---+ \n",
    ">      0   1   2   3   4   5   <-- use for SLICING\n",
    ">     -5  -4  -3  -2  -1       <-- use for SLICING from the end\n",
    ">                                     \n",
    ">\n",
    "> The first row of numbers gives the position of the slicing indices 0...5 in the string; the second row gives the corresponding negative indices. The slice from i to j consists of all characters between the edges labelled i and j, respectively.\n",
    "\n",
    "Lo que hay que recordar es que para *cortar* secuencias uno tiene que pensar que los índices apuntan a un lugar entre los elementos de la secuencia. \n",
    "\n",
    "En cambio, para *indexar* es mejor pensar que los índices se refieren a los elementos de la lista. Aquí hay un gráfico que resume las reglas:\n",
    "\n",
    "       0   1   2   3   4    <-- se usa para INDEXAR \n",
    "      -5  -4  -3  -2  -1    <-- se usa para INDEXAR desde el final\n",
    "     +---+---+---+---+---+        \n",
    "     | H | e | l | l | o |\n",
    "     +---+---+---+---+---+ \n",
    "     0   1   2   3   4   5  <-- se usa para CORTAR\n",
    "    -5  -4  -3  -2  -1      <-- se usa para CORTAR desde el final\n",
    "    \n",
    "Si no estas seguro cuál es el índice correcto, la mejor técnica es jugar con un ejemplo en la consola Python para probar tus parámetros antes o mientras escribes tu programa. "
   ]
  },
  {
   "cell_type": "markdown",
   "metadata": {},
   "source": [
    "\n",
    "\n",
    "### Modificando Secuencias\n",
    "\n",
    "Como dijimos anteriormente, las listas son *modificables* o \"*mutables*\". Esto significa que podemos reemplazar elementos o porciones de listas por otros objetos. Por ejemplo:"
   ]
  },
  {
   "cell_type": "code",
   "execution_count": null,
   "metadata": {},
   "outputs": [],
   "source": [
    "a = [1, 2, 3, 4, 5]\n",
    "a[0] = 100 # Modificamos el primer elemento y lo cambiamos al valor 100\n",
    "a"
   ]
  },
  {
   "cell_type": "code",
   "execution_count": null,
   "metadata": {},
   "outputs": [],
   "source": [
    "a[2:3] = [99,98] # Modificamos los elementos de índices 2 y 3 (tercer y cuarto elemento) por 99 y 98\n",
    "a"
   ]
  },
  {
   "cell_type": "markdown",
   "metadata": {},
   "source": [
    "En cambio los strings son \"inmutables\", lo que significa que no podemos reemplazar elementos de este modo:"
   ]
  },
  {
   "cell_type": "code",
   "execution_count": null,
   "metadata": {},
   "outputs": [],
   "source": [
    "a = \"Yo tenía 5 perritos\"\n",
    "a[9] = \"4\""
   ]
  },
  {
   "cell_type": "markdown",
   "metadata": {},
   "source": [
    "Si por algún motivo queremos modificar los elementos de un string, una buena técnica es usar las herramientas de corte y concatenación. Por ejemplo:"
   ]
  },
  {
   "cell_type": "code",
   "execution_count": null,
   "metadata": {},
   "outputs": [],
   "source": [
    "a[0:9]+\"4\"+a[10:]"
   ]
  },
  {
   "cell_type": "code",
   "execution_count": null,
   "metadata": {},
   "outputs": [],
   "source": [
    "a[0:11]+\"gatitos\""
   ]
  },
  {
   "cell_type": "markdown",
   "metadata": {},
   "source": [
    "### Ejercicio 6"
   ]
  },
  {
   "cell_type": "markdown",
   "metadata": {},
   "source": [
    "1. Escriba un programa que primero lea un string entregado por el usuario que contenga dos palabras separadas por un espacio (asuma que el usuario respeta el formato). Luego, separe el string en dos y entregue las dos palabras, como se muestra en el ejemplo siguiente:\n",
    "```\n",
    "Ingrese dos palabras separadas de un espacio: perro gato\n",
    "Tu primera palabra es: perro\n",
    "Tu segunda palabra es: gato\n",
    "```\n",
    "\n",
    "Hint: puede usar el comando `input()` y el método `.find()`."
   ]
  },
  {
   "cell_type": "code",
   "execution_count": null,
   "metadata": {},
   "outputs": [],
   "source": [
    "# Escribe aquí tu solución haciendo doble click"
   ]
  },
  {
   "cell_type": "markdown",
   "metadata": {},
   "source": [
    "---------\n",
    "\n",
    "### Copiando objetos\n",
    "\n",
    "Python provee la función `id()` la cual devuelve un número entero, que es único para cada objeto (que se puede interpretar como una dirección en la memoria). Podemos usar este número para identificar si dos objetos son el mismo. \n"
   ]
  },
  {
   "cell_type": "code",
   "execution_count": null,
   "metadata": {},
   "outputs": [],
   "source": [
    "a = 1\n",
    "id(a)"
   ]
  },
  {
   "cell_type": "code",
   "execution_count": null,
   "metadata": {},
   "outputs": [],
   "source": [
    "b = 5\n",
    "id(b)"
   ]
  },
  {
   "cell_type": "code",
   "execution_count": null,
   "metadata": {},
   "outputs": [],
   "source": [
    "c = 1\n",
    "id(c)"
   ]
  },
  {
   "cell_type": "markdown",
   "metadata": {},
   "source": [
    "\n",
    "Para copiar una secuencia (strings o listas), podemos cortarla, *i.e.* si `a` es una lista, entonces `a[:]` devuelve una copia de `a`:"
   ]
  },
  {
   "cell_type": "code",
   "execution_count": null,
   "metadata": {},
   "outputs": [],
   "source": [
    "a = list(range(10))\n",
    "a"
   ]
  },
  {
   "cell_type": "code",
   "execution_count": null,
   "metadata": {},
   "outputs": [],
   "source": [
    "b = a\n",
    "b[0] = 42\n",
    "a              # cambiar b cambia a"
   ]
  },
  {
   "cell_type": "code",
   "execution_count": null,
   "metadata": {},
   "outputs": [],
   "source": [
    "id(a)"
   ]
  },
  {
   "cell_type": "code",
   "execution_count": null,
   "metadata": {},
   "outputs": [],
   "source": [
    "id(b)"
   ]
  },
  {
   "cell_type": "code",
   "execution_count": null,
   "metadata": {},
   "outputs": [],
   "source": [
    "c = a[:] \n",
    "id(c)          # la variable c es un objeto diferente"
   ]
  },
  {
   "cell_type": "code",
   "execution_count": null,
   "metadata": {},
   "outputs": [],
   "source": [
    "c[0] = 100       \n",
    "a              # al modificar la variable c no se afecta a la variable a"
   ]
  },
  {
   "cell_type": "markdown",
   "metadata": {},
   "source": [
    "### Igualdad e Identidad\n",
    "\n",
    "Una pregunta relacionada concierne la igualdad de objetos. \n",
    "\n",
    "#### Igualdad\n",
    "\n",
    "Los operadores `<`, `>`, `==`, `>=`, `<=`, y `!=`comparan los *valores* de dos objetos. No es necesario que los objetos sean del mismo tipo. Por ejemplo:"
   ]
  },
  {
   "cell_type": "code",
   "execution_count": null,
   "metadata": {},
   "outputs": [],
   "source": [
    "a = 1.0; b = 1\n",
    "type(a)"
   ]
  },
  {
   "cell_type": "code",
   "execution_count": null,
   "metadata": {},
   "outputs": [],
   "source": [
    "type(b)"
   ]
  },
  {
   "cell_type": "code",
   "execution_count": null,
   "metadata": {},
   "outputs": [],
   "source": [
    "a == b"
   ]
  },
  {
   "cell_type": "markdown",
   "metadata": {},
   "source": [
    "Por lo tanto el operador `==` chequea si acaso los valores de dos objetos son iguales. \n",
    "\n",
    "#### Identidad\n",
    "\n",
    "Para chequear si dos objetos `a` y `b` son el mismo (*i.e.* `a` y `b` son referencias al mismo espacio de memoria), podemos usar el operador `is`. Continuando con el ejemplo anterior:"
   ]
  },
  {
   "cell_type": "code",
   "execution_count": null,
   "metadata": {},
   "outputs": [],
   "source": [
    "a is b"
   ]
  },
  {
   "cell_type": "markdown",
   "metadata": {},
   "source": [
    "Por supuesto los objetos en este ejemplo son diferentes, ya que no son del mismo tipo.\n",
    "\n",
    "Podemos obtener el mismo resultado comparando utilizando la función `id()` y comparando las salidas. "
   ]
  },
  {
   "cell_type": "code",
   "execution_count": null,
   "metadata": {},
   "outputs": [],
   "source": [
    "id(a)"
   ]
  },
  {
   "cell_type": "code",
   "execution_count": null,
   "metadata": {},
   "outputs": [],
   "source": [
    "id(b)"
   ]
  },
  {
   "cell_type": "code",
   "execution_count": null,
   "metadata": {},
   "outputs": [],
   "source": [
    "id(a)==id(b)"
   ]
  },
  {
   "cell_type": "markdown",
   "metadata": {},
   "source": [
    "Lo que muestra que `a` y `b` estan guardados en espacios diferentes de la memoria. \n",
    "\n",
    "#### Ejemplo: Igualdad e Identidad.\n",
    "\n",
    "Consideremos ahora un ejemplo que involucra listas:"
   ]
  },
  {
   "cell_type": "code",
   "execution_count": null,
   "metadata": {},
   "outputs": [],
   "source": [
    "x = [0, 1, 2]\n",
    "y = x\n",
    "x == y"
   ]
  },
  {
   "cell_type": "code",
   "execution_count": null,
   "metadata": {},
   "outputs": [],
   "source": [
    "x is y"
   ]
  },
  {
   "cell_type": "code",
   "execution_count": null,
   "metadata": {},
   "outputs": [],
   "source": [
    "id(x)"
   ]
  },
  {
   "cell_type": "code",
   "execution_count": null,
   "metadata": {},
   "outputs": [],
   "source": [
    "id(y)"
   ]
  },
  {
   "cell_type": "markdown",
   "metadata": {},
   "source": [
    "Aquí `x` e `y`son referencias al mismo espacio de memoria. Por lo tanto son identicos, y el operador `is()` lo confirma. El punto importante a recordar es que la línea `y=x` crea una nueva referencia `y` al mismo objeto que `x` hace referencia. \n",
    "\n",
    "De este modo, podemos hacer cambios en los elementos de `x`, y estos cambios se verán reflejados en ambas variables `x` e `y`:"
   ]
  },
  {
   "cell_type": "code",
   "execution_count": null,
   "metadata": {},
   "outputs": [],
   "source": [
    "x"
   ]
  },
  {
   "cell_type": "code",
   "execution_count": null,
   "metadata": {},
   "outputs": [],
   "source": [
    "y"
   ]
  },
  {
   "cell_type": "code",
   "execution_count": null,
   "metadata": {},
   "outputs": [],
   "source": [
    "x is y"
   ]
  },
  {
   "cell_type": "code",
   "execution_count": null,
   "metadata": {},
   "outputs": [],
   "source": [
    "x[0] = 100\n",
    "y"
   ]
  },
  {
   "cell_type": "code",
   "execution_count": null,
   "metadata": {},
   "outputs": [],
   "source": [
    "x"
   ]
  },
  {
   "cell_type": "markdown",
   "metadata": {},
   "source": [
    "Por el contrario, si usamos el comando `z=x[:]` (en vez de `z=x`) para crear una nueva variable `z`, entonces lo que estamos haciendo es crear una copia de la lista a la que `x` hace referencia. La nueva referencia `z`apuntará a la copia de `x` y no a `x`. El *valor* de `x` y `z`es igual, pero `x` y `z`no son el mismo objeto (no son *identicos*):"
   ]
  },
  {
   "cell_type": "code",
   "execution_count": null,
   "metadata": {},
   "outputs": [],
   "source": [
    "x"
   ]
  },
  {
   "cell_type": "code",
   "execution_count": null,
   "metadata": {},
   "outputs": [],
   "source": [
    "z = x[:]            # crea una copia de x antes de asignarla a z\n",
    "z == x              # mismo valor"
   ]
  },
  {
   "cell_type": "code",
   "execution_count": null,
   "metadata": {},
   "outputs": [],
   "source": [
    "z is x              # pero no son el mismo objeto"
   ]
  },
  {
   "cell_type": "code",
   "execution_count": null,
   "metadata": {},
   "outputs": [],
   "source": [
    "id(z)               # lo confirmamos mirando las ids"
   ]
  },
  {
   "cell_type": "code",
   "execution_count": null,
   "metadata": {},
   "outputs": [],
   "source": [
    "id(x)"
   ]
  },
  {
   "cell_type": "code",
   "execution_count": null,
   "metadata": {},
   "outputs": [],
   "source": [
    "x"
   ]
  },
  {
   "cell_type": "code",
   "execution_count": null,
   "metadata": {},
   "outputs": [],
   "source": [
    "z"
   ]
  },
  {
   "cell_type": "markdown",
   "metadata": {},
   "source": [
    "En consecuencia, podemos cambiar `x` sin cambiar `z`:"
   ]
  },
  {
   "cell_type": "code",
   "execution_count": null,
   "metadata": {},
   "outputs": [],
   "source": [
    "x[0] = 42\n",
    "x"
   ]
  },
  {
   "cell_type": "code",
   "execution_count": null,
   "metadata": {},
   "outputs": [],
   "source": [
    "z"
   ]
  },
  {
   "cell_type": "markdown",
   "metadata": {},
   "source": [
    "------\n",
    "### Ejercicio 7\n"
   ]
  },
  {
   "cell_type": "markdown",
   "metadata": {},
   "source": [
    "1. Escriba un programa que lea dos strings  ingresados por el usuario y los guarde en las variables `texto1` y `texto2`. Luego imprima un mensaje `True` o `False` dependiendo de si los dos strings son iguales. A continuación, haga una copia del string `texto1` y guardelo en la variable `texto3`. Finalmente, modifique la primera letra de `texto3` por una `A` e imprima los strings `texto1` y `texto3`. \n",
    "\n",
    "``` python\n",
    "Ingrese el primer string: perro\n",
    "Ingrese el segundo string: gato\n",
    "False\n",
    "perro\n",
    "Aerro\n",
    "```"
   ]
  },
  {
   "cell_type": "code",
   "execution_count": null,
   "metadata": {},
   "outputs": [],
   "source": [
    "# Escribe aquí tu solución haciendo doble click"
   ]
  }
 ],
 "metadata": {
  "kernelspec": {
   "display_name": "Python 3",
   "language": "python",
   "name": "python3"
  },
  "language_info": {
   "codemirror_mode": {
    "name": "ipython",
    "version": 3
   },
   "file_extension": ".py",
   "mimetype": "text/x-python",
   "name": "python",
   "nbconvert_exporter": "python",
   "pygments_lexer": "ipython3",
   "version": "3.8.8"
  }
 },
 "nbformat": 4,
 "nbformat_minor": 4
}
