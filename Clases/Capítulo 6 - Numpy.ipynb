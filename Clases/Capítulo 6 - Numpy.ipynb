{
 "cells": [
  {
   "cell_type": "markdown",
   "metadata": {},
   "source": [
    "# Taller de Manejo y Análisis de Datos\n",
    "\n",
    "**Profesor**: Pedro Montealegre"
   ]
  },
  {
   "cell_type": "markdown",
   "metadata": {},
   "source": [
    "# Numerical Python (numpy)\n",
    "\n",
    "\n",
    "## Introducción\n",
    "\n",
    "El paquete NumPy (por NUMerical PYthon) provee acceso a una estructura de datos llamada `array` (arreglo), que permite:\n",
    "\n",
    "- operaciones eficientes de manejo de matrices y vectores y\n",
    "- herramientas de álgebra lineal, como por ejemplo resolución de sistemas de ecuaciones, cálculo de valores y vectores propios, etc.\n",
    "\n",
    "\n",
    "### Historia\n",
    "\n",
    "Hay dos implementaciones que entegan aproximadamente la misma funcionalidad que NumPy. Esta son \"Numeric\" y \"numarray\":\n",
    "\n",
    "- Numeric fue el primer módulo que incluía en Python un conjunto de métodos numéricos (similares a Matlab). Evolucionó a partir de una tesis doctoral. \n",
    "\n",
    "- Numarray es una re-implementación de Numeric con ciertas mejoras (pero para nuestros propósitos Numeric y Numarray se comportan de manera virtualmente idéntica)\n",
    "\n",
    "- A comienzos de 2006 se decidió combinar los mejores espectos de Numeric y Numarray en el paquete `scipy` (Scientific Python) y entregar el tipo de datos `array` en el módulo `NumPy`\n",
    "\n",
    "\n",
    "\n",
    "## Arreglos\n",
    "Introducimos un nuevo tipo de datos, llamado `array`. Un arreglo se parece mucho a una lista, con la diferencia que un arreglo solo puede guardar elementos de un mismo tipo (mientras que en una lista podemos mezclar diferentes tipos de objetos). Esto implica que los arreglos se almacenan de manera más eficiente, porque no está la necesidad de guardar en cada elemento el tipo de datos. Esto también los hace el tipo de datos ideal para cálculo numérico, donde a menudo hay que lidiar con matrices y vectores. \n",
    "\n",
    "Los vectores y matrices (dos o más índices) se llaman *arreglos* en NumPy.\n",
    "\n",
    "\n",
    "### Vectores (arreglos unidimensionales)\n",
    "\n",
    "La estructura de datos que necesitaremos con más frecuencia son los vectores. A continuación veremos como crearlos, operar con ellos y cuáles son sus ventajas."
   ]
  },
  {
   "cell_type": "code",
   "execution_count": null,
   "metadata": {},
   "outputs": [],
   "source": [
    "import numpy as np  # Abreviamos el nombre Numpy como np"
   ]
  },
  {
   "cell_type": "markdown",
   "metadata": {},
   "source": [
    "#### Creación y acceso a vectores:"
   ]
  },
  {
   "cell_type": "markdown",
   "metadata": {},
   "source": [
    "Hay varias formas de crear vectores. \n",
    "\n",
    "-   Transformación de una lista (o tupla) en un arreglo usando <span>`numpy.array`</span>:"
   ]
  },
  {
   "cell_type": "code",
   "execution_count": null,
   "metadata": {},
   "outputs": [],
   "source": [
    "[0, 0.5, 1, 1.5]"
   ]
  },
  {
   "cell_type": "code",
   "execution_count": null,
   "metadata": {},
   "outputs": [],
   "source": [
    "x = np.array([0, 0.5, 1, 1.5])\n",
    "print(x)\n"
   ]
  },
  {
   "cell_type": "code",
   "execution_count": null,
   "metadata": {},
   "outputs": [],
   "source": [
    "type(x)"
   ]
  },
  {
   "cell_type": "code",
   "execution_count": null,
   "metadata": {},
   "outputs": [],
   "source": [
    "type(x[0])"
   ]
  },
  {
   "cell_type": "markdown",
   "metadata": {},
   "source": [
    "-   Creación de un vector usando `arange` (por \"ArrayRANGE”):"
   ]
  },
  {
   "cell_type": "code",
   "execution_count": null,
   "metadata": {},
   "outputs": [],
   "source": [
    "x = np.array(range(10))\n",
    "print(x)"
   ]
  },
  {
   "cell_type": "markdown",
   "metadata": {},
   "source": [
    "``` Python\n",
    "np.arange(x,y,z) = np.array(range(x,y,z))\n",
    "```"
   ]
  },
  {
   "cell_type": "code",
   "execution_count": null,
   "metadata": {},
   "outputs": [],
   "source": [
    "x = np.arange(10)\n",
    "x"
   ]
  },
  {
   "cell_type": "code",
   "execution_count": null,
   "metadata": {},
   "outputs": [],
   "source": [
    "print(type(x[0]))"
   ]
  },
  {
   "cell_type": "code",
   "execution_count": null,
   "metadata": {},
   "outputs": [],
   "source": [
    "x = np.arange(0, 2, 0.5)\n",
    "print(x)"
   ]
  },
  {
   "cell_type": "markdown",
   "metadata": {},
   "source": [
    "- Usando los métodos `zeros` y `ones`"
   ]
  },
  {
   "cell_type": "code",
   "execution_count": null,
   "metadata": {},
   "outputs": [],
   "source": [
    "x = np.zeros(10)\n",
    "print(x)  # Observación: se genera una lista de float"
   ]
  },
  {
   "cell_type": "code",
   "execution_count": null,
   "metadata": {},
   "outputs": [],
   "source": [
    "type(x[0])"
   ]
  },
  {
   "cell_type": "code",
   "execution_count": null,
   "metadata": {
    "scrolled": false
   },
   "outputs": [],
   "source": [
    "x = np.zeros(10, dtype = int) # Para forzar que la lista sea de enteros (numpy)\n",
    "print(x)"
   ]
  },
  {
   "cell_type": "code",
   "execution_count": null,
   "metadata": {},
   "outputs": [],
   "source": [
    "type(x[0])"
   ]
  },
  {
   "cell_type": "code",
   "execution_count": null,
   "metadata": {
    "scrolled": true
   },
   "outputs": [],
   "source": [
    "x = np.ones(5)\n",
    "print(x)"
   ]
  },
  {
   "cell_type": "code",
   "execution_count": null,
   "metadata": {},
   "outputs": [],
   "source": [
    "x = np.ones(5, dtype = int)\n",
    "print(x)"
   ]
  },
  {
   "cell_type": "markdown",
   "metadata": {},
   "source": [
    "#### Recuperar valores de un vector"
   ]
  },
  {
   "cell_type": "markdown",
   "metadata": {},
   "source": [
    "Una vez que el arrego está definido, podemos definir y recuperar valores individuales igual que con una lista. Por ejemplo:"
   ]
  },
  {
   "cell_type": "code",
   "execution_count": null,
   "metadata": {},
   "outputs": [],
   "source": [
    "x = np.array([0,0.5,1,1.5,2,2.5])\n",
    "x"
   ]
  },
  {
   "cell_type": "code",
   "execution_count": null,
   "metadata": {},
   "outputs": [],
   "source": [
    "x[0] = -1\n",
    "x[2] = 4\n",
    "print(x)"
   ]
  },
  {
   "cell_type": "code",
   "execution_count": null,
   "metadata": {},
   "outputs": [],
   "source": [
    "print(x[0])\n",
    "print(x[0:-1]) # Silce"
   ]
  },
  {
   "cell_type": "code",
   "execution_count": null,
   "metadata": {},
   "outputs": [],
   "source": [
    "lista = [1,2,3,4,5,6,7]\n",
    "lista[4:6]"
   ]
  },
  {
   "cell_type": "markdown",
   "metadata": {},
   "source": [
    "Pero a diferencia de las listas, podemos recuperar una lista (o arreglo) desde cualquier índice: "
   ]
  },
  {
   "cell_type": "code",
   "execution_count": null,
   "metadata": {},
   "outputs": [],
   "source": [
    "arreglo = np.array(lista)\n",
    "arreglo[[0,2,4,6]]"
   ]
  },
  {
   "cell_type": "code",
   "execution_count": null,
   "metadata": {},
   "outputs": [],
   "source": [
    "x[np.array([0,2,4])]"
   ]
  },
  {
   "cell_type": "markdown",
   "metadata": {},
   "source": [
    "No necesariamente respetando el orden:"
   ]
  },
  {
   "cell_type": "code",
   "execution_count": null,
   "metadata": {},
   "outputs": [],
   "source": [
    "x[[0,4,2]]"
   ]
  },
  {
   "cell_type": "markdown",
   "metadata": {},
   "source": [
    "e incluso se pueden repetir índices:"
   ]
  },
  {
   "cell_type": "code",
   "execution_count": null,
   "metadata": {},
   "outputs": [],
   "source": [
    "x[[1,1,1,0,2,1,1]]"
   ]
  },
  {
   "cell_type": "markdown",
   "metadata": {},
   "source": [
    "También podemos escoger elementos con una lista (o arreglo) de valores Booleanos del mismo largo:"
   ]
  },
  {
   "cell_type": "code",
   "execution_count": null,
   "metadata": {},
   "outputs": [],
   "source": [
    "print(x)\n",
    "x[[False,False,True,False,True,False]]"
   ]
  },
  {
   "cell_type": "code",
   "execution_count": null,
   "metadata": {},
   "outputs": [],
   "source": [
    "x > 0"
   ]
  },
  {
   "cell_type": "code",
   "execution_count": null,
   "metadata": {},
   "outputs": [],
   "source": [
    "x[x>0] # Para qué sirve"
   ]
  },
  {
   "cell_type": "markdown",
   "metadata": {},
   "source": [
    "#### Operaciones de vectores"
   ]
  },
  {
   "cell_type": "markdown",
   "metadata": {},
   "source": [
    "Otra diferencia con las listas es que en un vector podemos realizar cálculos sobre todos los elementos con un solo comando: "
   ]
  },
  {
   "cell_type": "markdown",
   "metadata": {},
   "source": [
    "- Sumar 10 a cada elemento:"
   ]
  },
  {
   "cell_type": "code",
   "execution_count": null,
   "metadata": {},
   "outputs": [],
   "source": [
    "x"
   ]
  },
  {
   "cell_type": "code",
   "execution_count": null,
   "metadata": {},
   "outputs": [],
   "source": [
    "print(x + 10)"
   ]
  },
  {
   "cell_type": "markdown",
   "metadata": {},
   "source": [
    "- Elevar cada elemento al cuadrado"
   ]
  },
  {
   "cell_type": "code",
   "execution_count": null,
   "metadata": {},
   "outputs": [],
   "source": [
    "print(x**2)"
   ]
  },
  {
   "cell_type": "markdown",
   "metadata": {},
   "source": [
    "- NumPy incluye las funciones de la librería `math`, que se pueden aplicar a todos los elementos de un vector:"
   ]
  },
  {
   "cell_type": "code",
   "execution_count": null,
   "metadata": {},
   "outputs": [],
   "source": [
    "print(np.sin(x))"
   ]
  },
  {
   "cell_type": "markdown",
   "metadata": {},
   "source": [
    "Por lo tanto, a diferencia de las listas, cuando multiplicamos un vector por un número, multiplicamos todos sus elementos:"
   ]
  },
  {
   "cell_type": "code",
   "execution_count": null,
   "metadata": {},
   "outputs": [],
   "source": [
    "y = 5*x\n",
    "print(x)\n",
    "print(y)"
   ]
  },
  {
   "cell_type": "markdown",
   "metadata": {},
   "source": [
    "Además, a diferencia de las listas, podemos comparar un arreglo con un número, lo que equivale a comparar elemento por elemento. Por ejemplo, si tomamos el siguiente vector:"
   ]
  },
  {
   "cell_type": "code",
   "execution_count": null,
   "metadata": {},
   "outputs": [],
   "source": [
    "x = np.array([10,15,20,25,30])\n",
    "x = np.append(x,5)\n",
    "print(x)"
   ]
  },
  {
   "cell_type": "code",
   "execution_count": null,
   "metadata": {},
   "outputs": [],
   "source": [
    "lista = [10,15,20,25,30]\n",
    "lista.append(5)\n",
    "print(lista)"
   ]
  },
  {
   "cell_type": "markdown",
   "metadata": {},
   "source": [
    "entonces al comparar `x` con un número, obtenemos un arreglo de las mismas dimensiones, donde cada elemento es `True` o `False`:"
   ]
  },
  {
   "cell_type": "code",
   "execution_count": null,
   "metadata": {},
   "outputs": [],
   "source": [
    "x>20"
   ]
  },
  {
   "cell_type": "code",
   "execution_count": null,
   "metadata": {},
   "outputs": [],
   "source": [
    "x == 25"
   ]
  },
  {
   "cell_type": "code",
   "execution_count": null,
   "metadata": {},
   "outputs": [],
   "source": [
    "x != 30"
   ]
  },
  {
   "cell_type": "markdown",
   "metadata": {},
   "source": [
    "y esto último permite recuperar partes del arreglo de manera muy eficiente:"
   ]
  },
  {
   "cell_type": "code",
   "execution_count": null,
   "metadata": {},
   "outputs": [],
   "source": [
    "x[x>20]"
   ]
  },
  {
   "cell_type": "code",
   "execution_count": null,
   "metadata": {},
   "outputs": [],
   "source": [
    "x[x!=30]"
   ]
  },
  {
   "cell_type": "code",
   "execution_count": null,
   "metadata": {},
   "outputs": [],
   "source": [
    "[i for i in x if i != 30]"
   ]
  },
  {
   "cell_type": "markdown",
   "metadata": {},
   "source": [
    "**Observación:** Se puede transformar una lista en un arreglo cambiando el tipo de dato de cada elemento usando el argumento opcional `dtype` de la función `array()`. Por ejemplo:"
   ]
  },
  {
   "cell_type": "code",
   "execution_count": null,
   "metadata": {},
   "outputs": [],
   "source": [
    "lista_num = [\"1.1\",\"1.5\\n\",\"2\"]\n",
    "arreglo_num = np.array(lista_num, dtype = \"float\")\n",
    "print(arreglo_num)"
   ]
  },
  {
   "cell_type": "code",
   "execution_count": null,
   "metadata": {},
   "outputs": [],
   "source": [
    "lista_num = [\"1\\n\",\"2\\n\",\"3 \"]\n",
    "arreglo_num = np.array(lista_num, dtype = \"int\")\n",
    "print(arreglo_num)"
   ]
  },
  {
   "cell_type": "code",
   "execution_count": null,
   "metadata": {},
   "outputs": [],
   "source": [
    "lista_num = [\"1\\n\",\"2\\n\",\"3\"]\n",
    "arreglo_num = np.array(lista_num)\n",
    "arreglo_num"
   ]
  },
  {
   "cell_type": "markdown",
   "metadata": {},
   "source": [
    "### Ejercicio\n",
    "\n",
    "1. Un científico norteamericano estaba haciendo estudios de la altura de las personas en nuestro país, y guardó sus datos en un arreglo numpy llamado alturas. Sin embargo, utilizó pulgadas como medida (maldito sistema métrico inglés). Escriba el código para transformar esas mediciones en centímetros (1 pulgada equivale a 2.54 cm)"
   ]
  },
  {
   "cell_type": "code",
   "execution_count": null,
   "metadata": {},
   "outputs": [],
   "source": [
    "# Escriba aquí su solución"
   ]
  },
  {
   "cell_type": "markdown",
   "metadata": {},
   "source": [
    "2. Escriba una función en Python  llamada estadistica que reciba un arreglo con las notas de un curso y calcule el promedio de notas del curso, y extraiga la nota menor y mayor, para luego mostrar estas tres cosas por pantalla."
   ]
  },
  {
   "cell_type": "code",
   "execution_count": null,
   "metadata": {},
   "outputs": [],
   "source": [
    "# Escriba aquí su solución"
   ]
  },
  {
   "cell_type": "markdown",
   "metadata": {},
   "source": [
    "3. El archivo `datos.txt` contiene 100000 líneas de números entre 0 y 9. Escriba un programa que lea el archivo y sin usar ningún ciclo for calcule cuántas líneas tienen números mayores que 6."
   ]
  },
  {
   "cell_type": "code",
   "execution_count": null,
   "metadata": {},
   "outputs": [],
   "source": [
    "# Para generar datos.txt\n",
    "import numpy as np\n",
    "file = open(\"datos.txt\",\"w\")\n",
    "for i in range(100000-1):\n",
    "    file.write(\"%d\"% np.random.randint(10) + \"\\n\") # obs: randint(n) entrega un entero al azar entre 0 y n-1\n",
    "file.write(\"%d\"% np.random.randint(10))\n",
    "file.close()"
   ]
  },
  {
   "cell_type": "code",
   "execution_count": null,
   "metadata": {},
   "outputs": [],
   "source": [
    "# Escriba aquí su solución"
   ]
  },
  {
   "cell_type": "markdown",
   "metadata": {},
   "source": [
    "4.  Si a es un arreglo de números, entonces `numpy.argmin(a)` devuelve la coordenada de a que contiene al mínimo elemento del arreglo. Por ejemplo, si `a = numpy.array([4,5,1,3,2])` entonces `numpy.argmin(a)` devuelve `2`, ya que `1` es el mínimo elemento en `a` y `a[2] = 1`. Si el elemento mínimo se repite en varias coordenadas, se entrega la primera de dichas coordenadas.  Use la función `argmin` (junto a otras de la bilbioteca numpy) para escribir una función llamada `argprom(a)`, que reciba un arreglo `a`, y retorne la coordenada del elemento más cercano al promedio de los elementos de `a`. Si hay varios elementos más cercanos al promedio, se entrega la menor coordenada."
   ]
  },
  {
   "cell_type": "code",
   "execution_count": null,
   "metadata": {},
   "outputs": [],
   "source": [
    "# Escriba aquí su solución"
   ]
  },
  {
   "cell_type": "markdown",
   "metadata": {},
   "source": [
    "### Matrices (arreglos bidimensionales)\n",
    "\n",
    "#### Creación de arreglos bidimensionales\n",
    "\n",
    "Hay dos modos de crear un arreglo bidimensional: \n",
    "\n",
    "- Transformando una lista de listas en un arreglo:"
   ]
  },
  {
   "cell_type": "code",
   "execution_count": null,
   "metadata": {},
   "outputs": [],
   "source": [
    "x = np.array([[1, 2, 3], [4, 5, 6],[7,8,9]])\n",
    "print(x)"
   ]
  },
  {
   "cell_type": "markdown",
   "metadata": {},
   "source": [
    "-   Usando el método `zeros` o `ones` (por ejemplo para crear una matriz con 5 filas y 4 columnas):"
   ]
  },
  {
   "cell_type": "code",
   "execution_count": null,
   "metadata": {},
   "outputs": [],
   "source": [
    "x = np.zeros((5, 4))\n",
    "x"
   ]
  },
  {
   "cell_type": "markdown",
   "metadata": {},
   "source": [
    "que se extiende fácilmente a más dimensiones"
   ]
  },
  {
   "cell_type": "code",
   "execution_count": null,
   "metadata": {},
   "outputs": [],
   "source": [
    "x = np.zeros((2, 5, 4))\n",
    "x"
   ]
  },
  {
   "cell_type": "markdown",
   "metadata": {},
   "source": [
    "Se pueden recuperar las dimensiones de una matriz con el comando `shape`:"
   ]
  },
  {
   "cell_type": "code",
   "execution_count": null,
   "metadata": {},
   "outputs": [],
   "source": [
    "x=np.array([[1, 2, 3], [4, 5, 6]])\n",
    "print(x)\n",
    "x.shape"
   ]
  },
  {
   "cell_type": "code",
   "execution_count": null,
   "metadata": {},
   "outputs": [],
   "source": [
    "np.zeros((2,5,4)).shape"
   ]
  },
  {
   "cell_type": "markdown",
   "metadata": {},
   "source": [
    "#### Recuperar elementos"
   ]
  },
  {
   "cell_type": "markdown",
   "metadata": {},
   "source": [
    "Se puede acceder elementos individuales usando la sintaxis que usamos para las listas: "
   ]
  },
  {
   "cell_type": "code",
   "execution_count": null,
   "metadata": {},
   "outputs": [],
   "source": [
    "x"
   ]
  },
  {
   "cell_type": "code",
   "execution_count": null,
   "metadata": {},
   "outputs": [],
   "source": [
    "x[1][1]"
   ]
  },
  {
   "cell_type": "markdown",
   "metadata": {},
   "source": [
    "o bien:"
   ]
  },
  {
   "cell_type": "code",
   "execution_count": null,
   "metadata": {},
   "outputs": [],
   "source": [
    "x[0, 0]"
   ]
  },
  {
   "cell_type": "code",
   "execution_count": null,
   "metadata": {},
   "outputs": [],
   "source": [
    "x[0, 1]"
   ]
  },
  {
   "cell_type": "code",
   "execution_count": null,
   "metadata": {},
   "outputs": [],
   "source": [
    "x[0, 2]"
   ]
  },
  {
   "cell_type": "code",
   "execution_count": null,
   "metadata": {},
   "outputs": [],
   "source": [
    "x[1, 0]  # equivalente a x[1][0]"
   ]
  },
  {
   "cell_type": "markdown",
   "metadata": {},
   "source": [
    "También podemos recuperar una fila de la matriz usando la sitaxis de las listas:"
   ]
  },
  {
   "cell_type": "code",
   "execution_count": null,
   "metadata": {},
   "outputs": [],
   "source": [
    "x[0]"
   ]
  },
  {
   "cell_type": "markdown",
   "metadata": {},
   "source": [
    "o bien"
   ]
  },
  {
   "cell_type": "code",
   "execution_count": null,
   "metadata": {},
   "outputs": [],
   "source": [
    "x[0,:]"
   ]
  },
  {
   "cell_type": "markdown",
   "metadata": {},
   "source": [
    "Pero a diferencia de las listas, podemos recuperar las columnas:"
   ]
  },
  {
   "cell_type": "code",
   "execution_count": null,
   "metadata": {},
   "outputs": [],
   "source": [
    "x"
   ]
  },
  {
   "cell_type": "code",
   "execution_count": null,
   "metadata": {},
   "outputs": [],
   "source": [
    "x[:, 0]"
   ]
  },
  {
   "cell_type": "code",
   "execution_count": null,
   "metadata": {},
   "outputs": [],
   "source": [
    "x[:, 1]"
   ]
  },
  {
   "cell_type": "code",
   "execution_count": null,
   "metadata": {},
   "outputs": [],
   "source": [
    "x[:,2]"
   ]
  },
  {
   "cell_type": "markdown",
   "metadata": {},
   "source": [
    "#### Definiendo matrices a partir de vectores"
   ]
  },
  {
   "cell_type": "markdown",
   "metadata": {},
   "source": [
    "La función `eye` sirve para generar una matriz identidad:"
   ]
  },
  {
   "cell_type": "code",
   "execution_count": null,
   "metadata": {},
   "outputs": [],
   "source": [
    "np.eye(5)"
   ]
  },
  {
   "cell_type": "markdown",
   "metadata": {},
   "source": [
    "Podemos usar la función `diag` para crear una matriz diagonal a partir de una lista o vector:"
   ]
  },
  {
   "cell_type": "code",
   "execution_count": null,
   "metadata": {},
   "outputs": [],
   "source": [
    "x = np.diag([1,2,3,4,5])\n",
    "x"
   ]
  },
  {
   "cell_type": "code",
   "execution_count": null,
   "metadata": {},
   "outputs": [],
   "source": [
    "x[1:4,1:-1]  # Slices complicados"
   ]
  },
  {
   "cell_type": "markdown",
   "metadata": {},
   "source": [
    "Con el método `.reshape` podemos transformar un vector en una matriz"
   ]
  },
  {
   "cell_type": "code",
   "execution_count": null,
   "metadata": {},
   "outputs": [],
   "source": [
    "x = np.arange(6)\n",
    "print(x)"
   ]
  },
  {
   "cell_type": "code",
   "execution_count": null,
   "metadata": {},
   "outputs": [],
   "source": [
    "y = x.reshape(2,3)\n",
    "print(y)"
   ]
  },
  {
   "cell_type": "markdown",
   "metadata": {},
   "source": [
    "o transformar una matriz en una de otras dimensiones pero los mismos valores:"
   ]
  },
  {
   "cell_type": "code",
   "execution_count": null,
   "metadata": {},
   "outputs": [],
   "source": [
    "y.reshape(6,1)"
   ]
  },
  {
   "cell_type": "code",
   "execution_count": null,
   "metadata": {},
   "outputs": [],
   "source": [
    "y.reshape(3,2)"
   ]
  },
  {
   "cell_type": "markdown",
   "metadata": {},
   "source": [
    "### Ejercicio:\n",
    "\n"
   ]
  },
  {
   "cell_type": "markdown",
   "metadata": {},
   "source": [
    "1. Escriba una función `crear_matriz`que reciba como argumentos `m` y `n` y devuelva la matriz de `m` filas y `n` columnas con los elementos de 1 a mn en orden. Por ejempo `crear_matriz(3,5)` entrega la matriz:\n",
    "\n",
    "$$A = \\left(\\begin{array}{ccccc} 1 & 2 & 3 & 4 & 5\\\\ 6 & 7 & 8 & 9 & 10 \\\\  11 & 12 &13&14&15 \\end{array}\\right)$$"
   ]
  },
  {
   "cell_type": "code",
   "execution_count": null,
   "metadata": {},
   "outputs": [],
   "source": [
    "# Escriba aquí su solución"
   ]
  },
  {
   "cell_type": "markdown",
   "metadata": {},
   "source": [
    "2. Escriba una función llamada `filas_iguales` que reciba como argumento una matriz `A` y devuelva un Booleano que represente si la matriz tiene dos filas iguales."
   ]
  },
  {
   "cell_type": "code",
   "execution_count": null,
   "metadata": {},
   "outputs": [],
   "source": [
    "# Escriba aquí su solución"
   ]
  },
  {
   "cell_type": "markdown",
   "metadata": {},
   "source": [
    "### Transformar arreglos en listas o tuplas\n",
    "\n",
    "Para crear una lista o tupla a partir de un arreglo, podemos usar funciones estandar de Python como `list()` o `tuple()`, las cuales toman una secuencia `s` como argumento de entrada, y devuelven una lista o una tupla, respectivamente:"
   ]
  },
  {
   "cell_type": "code",
   "execution_count": null,
   "metadata": {},
   "outputs": [],
   "source": [
    "a = np.array([1, 4, 10])\n",
    "a"
   ]
  },
  {
   "cell_type": "code",
   "execution_count": null,
   "metadata": {},
   "outputs": [],
   "source": [
    "list(a)"
   ]
  },
  {
   "cell_type": "code",
   "execution_count": null,
   "metadata": {},
   "outputs": [],
   "source": [
    "tuple(a)"
   ]
  },
  {
   "cell_type": "markdown",
   "metadata": {},
   "source": [
    "### Módulo `random`"
   ]
  },
  {
   "cell_type": "markdown",
   "metadata": {},
   "source": [
    "NumPy también incorpora el módulo `random`, que permite generar números pseudoaleatorios. \n",
    "Por ejemplo, el la función `randint(low=0,high)`, que genera un valor al azar entre low (por defecto 0) y high, se puede llamar apelando al módulo `random` y a `np`:"
   ]
  },
  {
   "cell_type": "code",
   "execution_count": null,
   "metadata": {},
   "outputs": [],
   "source": [
    "np.random.randint(100)"
   ]
  },
  {
   "cell_type": "markdown",
   "metadata": {},
   "source": [
    "Del mismo modo, podemos usar el método `random()` (que genera un número al azar entre 0 y 1). "
   ]
  },
  {
   "cell_type": "code",
   "execution_count": null,
   "metadata": {},
   "outputs": [],
   "source": [
    "np.random.random()"
   ]
  },
  {
   "cell_type": "markdown",
   "metadata": {},
   "source": [
    "Pero además, al incluirlas con el módulo NumPy, estas funciones permiten crear arreglos y matrices de valores aleatorios:"
   ]
  },
  {
   "cell_type": "code",
   "execution_count": null,
   "metadata": {},
   "outputs": [],
   "source": [
    "np.random.randint(100,size=10)"
   ]
  },
  {
   "cell_type": "code",
   "execution_count": null,
   "metadata": {},
   "outputs": [],
   "source": [
    "np.random.randint(100,size=(3,3))"
   ]
  },
  {
   "cell_type": "code",
   "execution_count": null,
   "metadata": {},
   "outputs": [],
   "source": [
    "np.random.random(size=(3,3))"
   ]
  },
  {
   "cell_type": "markdown",
   "metadata": {},
   "source": [
    "Para este último caso, hay una forma un poco más abreviada:"
   ]
  },
  {
   "cell_type": "code",
   "execution_count": null,
   "metadata": {},
   "outputs": [],
   "source": [
    "np.random.rand(3,3)"
   ]
  },
  {
   "cell_type": "code",
   "execution_count": null,
   "metadata": {},
   "outputs": [],
   "source": [
    "np.random.randint(42,size=3)"
   ]
  },
  {
   "cell_type": "markdown",
   "metadata": {},
   "source": [
    "## Operaciones de álgebra lineal \n",
    "\n",
    "### Multiplicación de matrices\n",
    "\n",
    "Dos arreglos se pueden multiplicar usando la función `.dot()`. Aquí hay un ejemplo:"
   ]
  },
  {
   "cell_type": "code",
   "execution_count": null,
   "metadata": {},
   "outputs": [],
   "source": [
    "A = np.random.randint(2,size=(3, 3))    # genera una matriz aleatoria de 3,3 con valores 0 o 1\n",
    "x = np.random.randint(1,3,size=[3])     # genera un vector aletorio de 3 elementos entre 1 o 2\n",
    "b=np.dot(A, x)                          # multiplica A por x\n",
    "print(\"A=\")\n",
    "print(A)\n",
    "print(\"x=\")\n",
    "print(x)\n",
    "print(\"Ax=\")\n",
    "print(b)"
   ]
  },
  {
   "cell_type": "markdown",
   "metadata": {},
   "source": [
    "Otro ejemplo"
   ]
  },
  {
   "cell_type": "code",
   "execution_count": null,
   "metadata": {},
   "outputs": [],
   "source": [
    "x = np.random.randint(1,3,size=[3])\n",
    "y = np.random.randint(0,2,size=[3])\n",
    "print(x)\n",
    "print(y)\n",
    "np.dot(x,y)"
   ]
  },
  {
   "cell_type": "markdown",
   "metadata": {},
   "source": [
    "Observe que las dimensiones deben ser compatibles, y que `size=3` no es igual a `size=[1,3]` ni  `size=[3,1]`"
   ]
  },
  {
   "cell_type": "code",
   "execution_count": null,
   "metadata": {},
   "outputs": [],
   "source": [
    "x = np.random.randint(1,3,size=(3,1))\n",
    "y = np.random.randint(0,2,size=[1,3])\n",
    "print(x)\n",
    "print(y)\n",
    "np.dot(x,y)"
   ]
  },
  {
   "cell_type": "code",
   "execution_count": null,
   "metadata": {},
   "outputs": [],
   "source": [
    "np.dot(y,x)"
   ]
  },
  {
   "cell_type": "markdown",
   "metadata": {},
   "source": [
    "### Ejercicio\n",
    "\n",
    "1. Una matriz cuadrada se conoce como *cuadrado mágico* si todas sus filas, sus columnas y ambas diagonales suman el mismo valor. Escriba la función `es_magico` que reciba como argumento un arreglo bidimensional, y devuelva un valor Booleano dependiendo de si el arreglo representa o no un cuadrado mágico.\n",
    "\n",
    "Hint: puede servirle los comandos:\n",
    "- `np.transpose(M)` para calcular la transpuesta de una matriz M.\n",
    "- `np.diag(M)` entrega la diagonal de la matriz M.\n",
    "- `np.fliplr(M)` invierte el orden de las columnas.\n",
    "\n",
    "Además, puede probar su código con la siguiente matriz (que es mágica):\n",
    "\n",
    "$$A = \\left(\\begin{array}{ccccc} 17 & 24 & 1 & 8 & 15 \\\\ 23& 5& 7& 14& 16 \\\\  4& 6& 13& 20& 22\\\\ 10& 12& 19& 21& 3\\\\ 11& 18& 25& 2& 9 \\end{array}\\right)$$"
   ]
  },
  {
   "cell_type": "code",
   "execution_count": null,
   "metadata": {},
   "outputs": [],
   "source": [
    "# Escriba aquí su solución"
   ]
  },
  {
   "cell_type": "markdown",
   "metadata": {},
   "source": [
    "#### Resolviendo sistemas de ecuaciones lineales\n",
    "\n",
    "Para resolver el sistema de ecuaciones $Ax = b$ que es dado en su forma matricial (*i.e.* $A$ es una matriz, $x$ y $b$ son vectores, donde $A$ y $b$ son conocidos y queremos encontrar el vector $x$), podemos usar el paquete de álgebra lineal `linalg` de `numpy`: "
   ]
  },
  {
   "cell_type": "code",
   "execution_count": null,
   "metadata": {},
   "outputs": [],
   "source": [
    "import numpy.linalg as LA\n",
    "\n",
    "A = np.array([[1,1,1],[0,1,1],[0,0,1]])  \n",
    "b = np.array([1,2,2])  \n",
    "\n",
    "print(\"A=\")\n",
    "print(A)\n",
    "print(\"b=\", b)\n",
    "x = LA.solve(A, b)  # np.linalg.solv(A,b) encuentra la solución del sistema de ecuaciones\n",
    "#x = np.linalg.solve(A,b)\n",
    "print(\"x=\",x)\n",
    "np.dot(A,x)"
   ]
  },
  {
   "cell_type": "markdown",
   "metadata": {},
   "source": [
    "El comando ``np.linalg.solve(A,b)`` encuentra la solución del sistema de ecuaciones $Ax=b$, siempre que éste tenga solución única. Cuando hay infinitas soluciones, o no hay solución, el comando arroja error. "
   ]
  },
  {
   "cell_type": "markdown",
   "metadata": {},
   "source": [
    "#### Calculando valores y vectores propios\n",
    "\n",
    "El paquete `linalg` también incluye la función `eig`, que calcula los valores y vectores propios de una matriz. Aquí hay un pequeño ejemplo que calcula los valores y vectores propios de la matriz identidad:"
   ]
  },
  {
   "cell_type": "code",
   "execution_count": null,
   "metadata": {},
   "outputs": [],
   "source": [
    "import numpy\n",
    "\n",
    "A = numpy.eye(3)    \n",
    "print(A)"
   ]
  },
  {
   "cell_type": "code",
   "execution_count": null,
   "metadata": {},
   "outputs": [],
   "source": [
    "evalues, evectors = LA.eig(A)\n",
    "print(evalues)"
   ]
  },
  {
   "cell_type": "code",
   "execution_count": null,
   "metadata": {},
   "outputs": [],
   "source": [
    "print(evectors)"
   ]
  },
  {
   "cell_type": "code",
   "execution_count": null,
   "metadata": {},
   "outputs": [],
   "source": [
    "evalues, evectors = LA.eig(magica)"
   ]
  },
  {
   "cell_type": "code",
   "execution_count": null,
   "metadata": {},
   "outputs": [],
   "source": [
    "evalues"
   ]
  },
  {
   "cell_type": "code",
   "execution_count": null,
   "metadata": {},
   "outputs": [],
   "source": [
    "evectors"
   ]
  },
  {
   "cell_type": "markdown",
   "metadata": {},
   "source": [
    "#### Minimos cuadrados\n",
    "\n",
    "Asumamos que tenemos datos representados por pares ordenados, y que queremos ajustar a una curva polinomial que minimice el cuadrado de la distancia a los datos. \n",
    "\n",
    "Numpy provee la función `polyfit(x,y,n)`, que toma una lista `x` correspondientes a las abscisas/variables de los datos, una lista `y`que corresponde a las ordenadas (valor a predecir) de los mismos datos, y el grado `n` del polinomio deseado que se ajustará a los datos, usando el método de minimos cuadrados. El polinomio que devuelve la función `polyfit` es representado por un arreglo que contiene los coeficientes del polinomio ordenados de grado mayor a menor.\n",
    "\n",
    "En el siguiente ejemplo, utilizamos el polinomio generado por la función `polyfit` usando la función `poly1d` de NumPy, que entrega el polinomio como función:"
   ]
  },
  {
   "cell_type": "code",
   "execution_count": null,
   "metadata": {},
   "outputs": [],
   "source": [
    "a = [1,1,1,1]\n",
    "p = np.poly1d(a) # a[0]x^3 + a[1]*x^2 + a[2]*x + a[3]\n",
    "print(p(2))"
   ]
  },
  {
   "cell_type": "code",
   "execution_count": null,
   "metadata": {},
   "outputs": [],
   "source": [
    "%matplotlib inline\n",
    "import numpy as np\n",
    "\n",
    "# demostración de curva de ajuste: xdata e ydata son los datos de entrada\n",
    "xdata = np.array([0.0 , 1.0 , 2.0 , 3.0 , 4.0 , 5.0])\n",
    "ydata = np.array([0.0 , 0.8 , 3 , 0.1 , -0.8 , -1.0])\n",
    "# ahora ajustamos a un polinomio de grado 3\n",
    "z = np.polyfit(xdata, ydata, 5)\n",
    "print(z)\n",
    "# z es un arreglo con sus coeficientes\n",
    "#                 X^3            X^2          X             0\n",
    "# z = array ([ 0.16481481 -1.5468254   3.44867725 -0.27301587])\n",
    "\n",
    "p = numpy.poly1d(z) # crea el polinomio como función p a partir de los coeficientes\n",
    "                    # y entonces p puede ser evaluado en todo x .\n",
    "\n",
    "    \n",
    "# hacemos un gráfico\n",
    "import matplotlib.pyplot as plt\n",
    "\n",
    "xs = np.arange(0,5.1,0.1)\n",
    "ys = [p(x) for x in xs]   \n",
    "\n",
    "plt.plot(xdata, ydata,'o')\n",
    "plt.plot(xs, ys)\n",
    "plt.ylabel('y')\n",
    "plt.xlabel('x');"
   ]
  },
  {
   "cell_type": "markdown",
   "metadata": {},
   "source": [
    "Se muestra la curva ajustada (línea continua) junto a los datos de entrada representados por puntos."
   ]
  },
  {
   "cell_type": "markdown",
   "metadata": {},
   "source": [
    "### Ejercicio:\n",
    "\n",
    "1. Escriba un programa que genere 6 puntos aleatorios entre 0 y 1, y luego ajuste una polinomio de grado 4. "
   ]
  },
  {
   "cell_type": "code",
   "execution_count": null,
   "metadata": {},
   "outputs": [],
   "source": [
    "# Escriba aquí su solución"
   ]
  },
  {
   "cell_type": "markdown",
   "metadata": {},
   "source": [
    "### Más ejemplos de NumPy…\n",
    "\n",
    "…se pueden encontrar aquí: <http://www.scipy.org/Numpy_Example_List>\n",
    "\n",
    "### Numpy para usuarios de Matlab\n",
    "\n",
    "Hay una sitio web específico, que explica Numpy desde la perspectiva de un usuario experimentado en Matlab: https://docs.scipy.org/doc/numpy-dev/user/numpy-for-matlab-users.html."
   ]
  }
 ],
 "metadata": {
  "kernelspec": {
   "display_name": "Python 3",
   "language": "python",
   "name": "python3"
  },
  "language_info": {
   "codemirror_mode": {
    "name": "ipython",
    "version": 3
   },
   "file_extension": ".py",
   "mimetype": "text/x-python",
   "name": "python",
   "nbconvert_exporter": "python",
   "pygments_lexer": "ipython3",
   "version": "3.8.8"
  }
 },
 "nbformat": 4,
 "nbformat_minor": 2
}
