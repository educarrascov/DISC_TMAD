{
 "cells": [
  {
   "cell_type": "markdown",
   "metadata": {
    "id": "njkfCPSyipI7"
   },
   "source": [
    "# Taller de Manejo y Análisis de Datos\n",
    "# Tarea 3 - Agregación limitada por difusión\n",
    "\n",
    "\n",
    "**Profesor:** Pedro Montealegre (p.montealegre@uai.cl) \n",
    "\n",
    "**Fecha de publicación:** martes 18 de abril.\n",
    "\n",
    "**Fecha de entrega:** domingo 30 de abril a las 23:59 vía webcursos."
   ]
  },
  {
   "cell_type": "markdown",
   "metadata": {
    "id": "86uYXMJ9jSmV"
   },
   "source": [
    "# Introducción\n",
    "\n",
    "\n",
    "La *agregación limitada por difusión* (DLA por sus siglas en inglés, “diffusion-limited aggregation”) es un proceso en el cual partículas sometidas a paseo aleatorio se aglomeran para formar agregados de tales partículas. \n",
    "\n",
    "Esta teoría, propuesta por Witten y Sander en 1981, es aplicable a la agregación de cualquier sistema donde la difusión es el medio primario de transporte en el sistema. DLA puede ser observado en muchos otros sistemas tales como eletrodeposición, flujo de Hele-Shaw, depósitos minerales, y ruptura de dieléctrico.\n",
    "\n",
    "\n",
    "El proceso de DLA se puede simular computacionalmente del siguiente modo.\n",
    "* Se comienza con una grilla de $n \\times n$ celdas, con $n$ impar. Se comienza con todos las celdas \"desocupadas\" menos la central que se considera \"ocupada\". \n",
    "* Se escoge un punto al azar en el borde de la grilla y desde ahí comienza el recorrido de una partícula.\n",
    "* El recorrido de una partícula consiste en una secuencia de pasos conformados por movimientos aleatorios. En cada paso, se escoge una dirección (norte, sur, este, oeste) y la partícula se mueve en esa dirección. \n",
    "* Una partícula sigue su recorrido hasta que se sale de los márgenes de la grilla (en cuyo caso queda descartada) o llega a un sitio adyacente a uno ocupado. En el segundo caso la partícula se *congela* y desde ahí en adelante dicho sitio también queda ocupado. \n",
    "* Cuando una partícula se descarta o se congela, inmediatamente comienza el recorrido de una nueva partícula. \n",
    "\n",
    "En la siguiente imagen se representa un patrón obtenido a partir de este proceso, consistente en unas 33.000 partículas. Los colores indican el orden en que se han fijado las partículas\n",
    "\n",
    "<img src=\"https://upload.wikimedia.org/wikipedia/commons/3/3d/Of7_p0001_15h.jpg\" width=\"500\">\n",
    "\n"
   ]
  },
  {
   "cell_type": "markdown",
   "metadata": {
    "id": "6Kpiolm3lL3M"
   },
   "source": [
    "# Actividad 1 - 4 punto\n",
    "\n",
    "Escriba una función que reciba como argumento un entero positivo $p$, y que simule el modelo de Agregación Limitada por Difusión hasta que se ocupen $p$ sitios en una grilla de tamaño adecuado. La salida de la función es una matriz de ceros y unos representando los sitios que quedaron ocupados. Su función además deberá generar una imagen similar a la mostrada en la introducción. \n",
    "\n",
    "Debe cuidar que su implementación sea eficiente, de modo que se pueda generar un patrón de unas 100 partículas en cosa de segundos, y de al menos 1000 partículas en un par de minutos. Para esto, se sugiere trabajar con un tamaño de grilla dinámico, que sea un poco más grande que el cuadrado que contenga al patrón, y de este modo evitar que los paseos de las partículas se extiendan por muchas etapas. "
   ]
  },
  {
   "cell_type": "code",
   "execution_count": null,
   "metadata": {
    "id": "zJaHdjCdiiIa"
   },
   "outputs": [],
   "source": [
    "# Escriba aquí su respuesta"
   ]
  },
  {
   "cell_type": "markdown",
   "metadata": {
    "id": "dJy-knflnJ8G"
   },
   "source": [
    "# Actividad 2 - 2 puntos\n",
    "\n",
    "En geometría de fractales, la dimensión fractal $D$ es un número real que generaliza el concepto de dimensión ordinaria para objetos geométricos que no admiten espacio tangente. La dimensión fractal representa cuán completamente parece llenar un fractal el espacio conforme se amplía el primero hacia escalas más y más finas. \n",
    "\n",
    "En esta actividad buscaremos aproximar la dimensión fractal de un patrón dado. Para eso, utilice el método *caja de arena* descrito a continuación.\n",
    "\n",
    "* Sea $r>0$ impar, se toma el conjunto $S(r)$ de celdas que forman un cuadrado de lado $r$ en el centro del patrón. \n",
    "* Mida el número $N(r)$ de sitios ocupados en $S(r)$.\n",
    "* Grafique $N(r)$ en función de $r$ en escala log-log.\n",
    "* Usando el método de mínimos cuadrados, calcule la pendiente de la recta que mejor describa el crecimiento. La dimensión fractal del sistema será el valor de dicha pendiente. \n",
    "\n",
    "Escriba una función llamada **sandbox** que reciba como argumento una matriz cuadrada $A$ (representando un patrón) y devuelva una aproximación de la dimensión fractal del patrón representado en $A$. Su función además deberá generar un gráfico en que se represente $N(r)$ en función de $r$ en escala log-log y la recta de mínimos cuadrados. "
   ]
  },
  {
   "cell_type": "code",
   "execution_count": null,
   "metadata": {
    "id": "YzF6n3qEoBpn"
   },
   "outputs": [],
   "source": [
    "# Escriba aquí su respuesta"
   ]
  },
  {
   "cell_type": "markdown",
   "metadata": {
    "id": "BvWwxz73pyzz"
   },
   "source": [
    "## Indicaciones\n",
    "\n",
    "* Su entrega deberá consistir en una versión de este archivo Jupyter editado en los campos indicados anteriormente.\n",
    "* Es de su responsabilidad entregar el archivo en el formato indicado. \n",
    "* El código debe ser ordenado y comentado adecuadamente. Las variables deben tener nombres que representen su uso.\n",
    "* La entrega es vía webcursos, solo hasta la fecha indicada al comienzo. No se aceptan tareas atrasadas.\n",
    "\n",
    "## Recomendaciones:\n",
    "* Antes de entregar vaya a `Kernel -> Restart & Clear Output` y luego ejecute nuevamente los bloques asegurándose que ninguno arroje errores."
   ]
  }
 ],
 "metadata": {
  "colab": {
   "provenance": []
  },
  "kernelspec": {
   "display_name": "Python 3 (ipykernel)",
   "language": "python",
   "name": "python3"
  },
  "language_info": {
   "codemirror_mode": {
    "name": "ipython",
    "version": 3
   },
   "file_extension": ".py",
   "mimetype": "text/x-python",
   "name": "python",
   "nbconvert_exporter": "python",
   "pygments_lexer": "ipython3",
   "version": "3.9.13"
  }
 },
 "nbformat": 4,
 "nbformat_minor": 1
}
