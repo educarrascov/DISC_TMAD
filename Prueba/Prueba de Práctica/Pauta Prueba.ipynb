{
 "cells": [
  {
   "cell_type": "markdown",
   "metadata": {},
   "source": [
    "# Taller de Manejo y Análisis de Datos\n",
    "# Pauta Prueba\n",
    "**Profesores:** Pedro Montealegre (p.montealegre@uai.cl) y Roberto León (roberto.leonv@edu.uai.cl)\n",
    "\n",
    "**Fecha de publicación:** miércoles 12 de octubre a las 9:00.\n",
    "\n",
    "**Fecha de entrega:** miércoles 12 de octubre a las 17:30 vía webcursos."
   ]
  },
  {
   "cell_type": "markdown",
   "metadata": {
    "id": "k99V59x0tW8I"
   },
   "source": [
    "# Actividad 1\n",
    "\n",
    "Adjunto a este cuaderno Jupyter, se entrega de una base de datos en un archivo llamado `datos_caudal.csv`, el cual contiene cinco variables cuantitativas hidrológicas para predecir niveles de caudal de un determinado río en distintas distintos tiempos.\n",
    "\n",
    "En esta actividad analizaremos esta base de datos. "
   ]
  },
  {
   "cell_type": "markdown",
   "metadata": {
    "id": "UygbOnA6ngj1"
   },
   "source": [
    "## Pregunta 1  - 0.5 puntos\n",
    "\n",
    "Importe la librería Pandas. A continuación cargue la base de datos y guárdelos en un DataFrame. Visualice las primeras líneas. "
   ]
  },
  {
   "cell_type": "code",
   "execution_count": 58,
   "metadata": {
    "colab": {
     "base_uri": "https://localhost:8080/",
     "height": 143
    },
    "id": "k9oJsVl5qiy5",
    "outputId": "15de69ab-629a-4f2b-974c-b6a012f66fb7"
   },
   "outputs": [
    {
     "data": {
      "text/html": [
       "<div>\n",
       "<style scoped>\n",
       "    .dataframe tbody tr th:only-of-type {\n",
       "        vertical-align: middle;\n",
       "    }\n",
       "\n",
       "    .dataframe tbody tr th {\n",
       "        vertical-align: top;\n",
       "    }\n",
       "\n",
       "    .dataframe thead th {\n",
       "        text-align: right;\n",
       "    }\n",
       "</style>\n",
       "<table border=\"1\" class=\"dataframe\">\n",
       "  <thead>\n",
       "    <tr style=\"text-align: right;\">\n",
       "      <th></th>\n",
       "      <th>Var1</th>\n",
       "      <th>Var2</th>\n",
       "      <th>Var3</th>\n",
       "      <th>Var4</th>\n",
       "      <th>Var5</th>\n",
       "      <th>Caudal</th>\n",
       "    </tr>\n",
       "  </thead>\n",
       "  <tbody>\n",
       "    <tr>\n",
       "      <th>0</th>\n",
       "      <td>3.85</td>\n",
       "      <td>3.86</td>\n",
       "      <td>3.76</td>\n",
       "      <td>3.65</td>\n",
       "      <td>0.0</td>\n",
       "      <td>3.69</td>\n",
       "    </tr>\n",
       "    <tr>\n",
       "      <th>1</th>\n",
       "      <td>3.86</td>\n",
       "      <td>3.76</td>\n",
       "      <td>3.65</td>\n",
       "      <td>3.69</td>\n",
       "      <td>0.0</td>\n",
       "      <td>3.61</td>\n",
       "    </tr>\n",
       "    <tr>\n",
       "      <th>2</th>\n",
       "      <td>3.76</td>\n",
       "      <td>3.65</td>\n",
       "      <td>3.69</td>\n",
       "      <td>3.61</td>\n",
       "      <td>0.0</td>\n",
       "      <td>3.54</td>\n",
       "    </tr>\n",
       "    <tr>\n",
       "      <th>3</th>\n",
       "      <td>3.65</td>\n",
       "      <td>3.69</td>\n",
       "      <td>3.61</td>\n",
       "      <td>3.54</td>\n",
       "      <td>0.0</td>\n",
       "      <td>3.48</td>\n",
       "    </tr>\n",
       "    <tr>\n",
       "      <th>4</th>\n",
       "      <td>3.69</td>\n",
       "      <td>3.61</td>\n",
       "      <td>3.54</td>\n",
       "      <td>3.48</td>\n",
       "      <td>0.0</td>\n",
       "      <td>3.44</td>\n",
       "    </tr>\n",
       "  </tbody>\n",
       "</table>\n",
       "</div>"
      ],
      "text/plain": [
       "   Var1  Var2  Var3  Var4  Var5  Caudal\n",
       "0  3.85  3.86  3.76  3.65   0.0    3.69\n",
       "1  3.86  3.76  3.65  3.69   0.0    3.61\n",
       "2  3.76  3.65  3.69  3.61   0.0    3.54\n",
       "3  3.65  3.69  3.61  3.54   0.0    3.48\n",
       "4  3.69  3.61  3.54  3.48   0.0    3.44"
      ]
     },
     "execution_count": 58,
     "metadata": {},
     "output_type": "execute_result"
    }
   ],
   "source": [
    "#Respuesta Actividad 1\n",
    "import pandas as pd\n",
    "df = pd.read_csv(\"datos_caudal.csv\")\n",
    "df.head()"
   ]
  },
  {
   "cell_type": "markdown",
   "metadata": {},
   "source": [
    "## Pregunta 2 - 0.5 puntos\n",
    "\n",
    "Escriba un programa que genere un Dataframe cuyas columnas sean las mismas que las de la base de datos original, y cuyas filas correspondan al promedio, mediana y desviación estándar de cada columna."
   ]
  },
  {
   "cell_type": "code",
   "execution_count": 59,
   "metadata": {},
   "outputs": [
    {
     "data": {
      "text/html": [
       "<div>\n",
       "<style scoped>\n",
       "    .dataframe tbody tr th:only-of-type {\n",
       "        vertical-align: middle;\n",
       "    }\n",
       "\n",
       "    .dataframe tbody tr th {\n",
       "        vertical-align: top;\n",
       "    }\n",
       "\n",
       "    .dataframe thead th {\n",
       "        text-align: right;\n",
       "    }\n",
       "</style>\n",
       "<table border=\"1\" class=\"dataframe\">\n",
       "  <thead>\n",
       "    <tr style=\"text-align: right;\">\n",
       "      <th></th>\n",
       "      <th>Var1</th>\n",
       "      <th>Var2</th>\n",
       "      <th>Var3</th>\n",
       "      <th>Var4</th>\n",
       "      <th>Var5</th>\n",
       "      <th>Caudal</th>\n",
       "    </tr>\n",
       "  </thead>\n",
       "  <tbody>\n",
       "    <tr>\n",
       "      <th>mean</th>\n",
       "      <td>15.118808</td>\n",
       "      <td>15.119178</td>\n",
       "      <td>15.119530</td>\n",
       "      <td>15.119891</td>\n",
       "      <td>4.930822</td>\n",
       "      <td>15.120226</td>\n",
       "    </tr>\n",
       "    <tr>\n",
       "      <th>50%</th>\n",
       "      <td>8.900000</td>\n",
       "      <td>8.900000</td>\n",
       "      <td>8.900000</td>\n",
       "      <td>8.900000</td>\n",
       "      <td>0.000000</td>\n",
       "      <td>8.900000</td>\n",
       "    </tr>\n",
       "    <tr>\n",
       "      <th>std</th>\n",
       "      <td>25.518960</td>\n",
       "      <td>25.518815</td>\n",
       "      <td>25.518676</td>\n",
       "      <td>25.518533</td>\n",
       "      <td>15.153068</td>\n",
       "      <td>25.518397</td>\n",
       "    </tr>\n",
       "  </tbody>\n",
       "</table>\n",
       "</div>"
      ],
      "text/plain": [
       "           Var1       Var2       Var3       Var4       Var5     Caudal\n",
       "mean  15.118808  15.119178  15.119530  15.119891   4.930822  15.120226\n",
       "50%    8.900000   8.900000   8.900000   8.900000   0.000000   8.900000\n",
       "std   25.518960  25.518815  25.518676  25.518533  15.153068  25.518397"
      ]
     },
     "execution_count": 59,
     "metadata": {},
     "output_type": "execute_result"
    }
   ],
   "source": [
    "# Escriba aquí su solución\n",
    "df1 = df.describe()\n",
    "df1.iloc[[1,5,2],:]"
   ]
  },
  {
   "cell_type": "markdown",
   "metadata": {
    "id": "drjfTFXLouk5"
   },
   "source": [
    "## Pregunta 3 - 1 punto\n",
    "\n",
    "Un experto opina que una buena predicción para el caudal es considerar el promedio de las primeras tres variables. \n",
    "\n",
    "\n",
    "* Agregue una columna denominada `Caudal_pred` que indique este promedio.  \n",
    "* Agregue una columna `Error_pred` que contenga la diferencia en valor absoluto entre el caudal real y la predicción. \n",
    "* Grafique en una misma figura la evolución de la variable `Caudal` y `Caudal_pred`."
   ]
  },
  {
   "cell_type": "code",
   "execution_count": 60,
   "metadata": {
    "colab": {
     "base_uri": "https://localhost:8080/",
     "height": 206
    },
    "id": "QqjKER-zqnDn",
    "outputId": "3180ecc6-1401-48b8-ce6c-467e521a84b0"
   },
   "outputs": [],
   "source": [
    "# Escriba aquí su solución\n",
    "import numpy as np\n",
    "df[\"Caudal_pred\"] = (df[\"Var1\"] + df[\"Var2\"] + df[\"Var3\"]) / 3\n",
    "df[\"Error_pred\"] = np.abs(df[\"Caudal\"] - df[\"Caudal_pred\"])"
   ]
  },
  {
   "cell_type": "code",
   "execution_count": 61,
   "metadata": {},
   "outputs": [
    {
     "data": {
      "text/plain": [
       "<AxesSubplot:>"
      ]
     },
     "execution_count": 61,
     "metadata": {},
     "output_type": "execute_result"
    },
    {
     "data": {
      "image/png": "[encoded data removed]",
      "text/plain": [
       "<Figure size 432x288 with 1 Axes>"
      ]
     },
     "metadata": {
      "needs_background": "light"
     },
     "output_type": "display_data"
    }
   ],
   "source": [
    "df.plot(y = [\"Caudal\",\"Caudal_pred\"])"
   ]
  },
  {
   "cell_type": "markdown",
   "metadata": {},
   "source": [
    "## Pregunta 4 - 2 puntos\n",
    "\n",
    "Según los expertos, un caudal menor que 5 es considerado bajo, un caudal mayor o igual que 5 pero menor que 10 es considerado medio, y un caudal mayor o igual que 10 es considerado alto. \n",
    "\n",
    "* Agregue una columna denominada nivel que indique el nivel del caudal. \n",
    "* Haga un gráfico de torta con la frecuencia de los distintos niveles. \n",
    "* Haga un gráfico de barras con la frecuencia de los distintos niveles. "
   ]
  },
  {
   "cell_type": "code",
   "execution_count": 90,
   "metadata": {
    "colab": {
     "base_uri": "https://localhost:8080/",
     "height": 206
    },
    "id": "kvowJxtfrkg8",
    "outputId": "195aebde-3ec1-4d2b-c3db-a219d01d9256"
   },
   "outputs": [
    {
     "data": {
      "text/plain": [
       "array([<AxesSubplot:ylabel='nivel'>], dtype=object)"
      ]
     },
     "execution_count": 90,
     "metadata": {},
     "output_type": "execute_result"
    },
    {
     "data": {
      "image/png": "[encoded data removed]",
      "text/plain": [
       "<Figure size 432x288 with 1 Axes>"
      ]
     },
     "metadata": {},
     "output_type": "display_data"
    }
   ],
   "source": [
    "# Escriba aquí su solución\n",
    "import matplotlib.pyplot as plt\n",
    "\n",
    "def nivel(valor):\n",
    "    if valor < 5: return \"bajo\"\n",
    "    elif valor < 10: return \"medio\"\n",
    "    else: return \"alto\"\n",
    "\n",
    "n = df.count()[0]\n",
    "df[\"nivel\"] = pd.Series([0]*n)\n",
    "for i in range(n):\n",
    "    df.iloc[i,8] = nivel(df.iloc[i,5])\n",
    "\n",
    "df[\"nivel\"].value_counts().plot(kind=\"pie\",subplots=True)"
   ]
  },
  {
   "cell_type": "code",
   "execution_count": 91,
   "metadata": {},
   "outputs": [
    {
     "data": {
      "image/png": "[encoded data removed]",
      "text/plain": [
       "<Figure size 432x288 with 1 Axes>"
      ]
     },
     "metadata": {
      "needs_background": "light"
     },
     "output_type": "display_data"
    }
   ],
   "source": [
    "df[\"nivel\"].value_counts().plot(kind=\"bar\",subplots=True);"
   ]
  },
  {
   "cell_type": "markdown",
   "metadata": {
    "id": "c8iU4hsOja-4"
   },
   "source": [
    "# Activiadad 2\n",
    "\n",
    "\n",
    "Una universidad ha instaurado el siguiente reglamento de evaluaciones. Todas las asignaturas deben tener tres pruebas y un examen. Las notas van entre 0 y 10, con un decimal.\n",
    "Despues de las tres pruebas, los alumnos con promedio menor que 3 reprueban y los con promedio mayor o igual que 7 aprueban. El resto va al examen, en el que deben obtener por\n",
    "lo menos un 5 para aprobar.\n",
    "Además, se decidió que los alumnos que obtienen menos de un 2 en las dos primeras pruebas están automáticamente reprobados. A su vez, los que obtienen más de un 9 en las dos primeras pruebas están automáticamente aprobados. En ambos casos, no deben rendir la tercera prueba ni el examen.\n",
    "\n",
    "Escriba un programa que pregunte a un estudiante las notas de las evaluaciones que rindió, y le muestre si está aprobado o reprobado. Su función no debe esperar a que se ingresen todas las notas si con la información ingresada se puede decidir la aprobación o reprobación. "
   ]
  },
  {
   "cell_type": "markdown",
   "metadata": {},
   "source": [
    "Ejemplos:\n",
    "\n",
    "```\n",
    "P1: 1.8\n",
    "P2: 0.9\n",
    "Reprobado\n",
    "```\n",
    "\n",
    "```\n",
    "P1: 0.5\n",
    "P2: 2.0\n",
    "P3: 2.5\n",
    "Reprobado\n",
    "```\n",
    "\n",
    "```\n",
    "P1: 1.5\n",
    "P2: 3.5\n",
    "P3: 4.5\n",
    "Examen: 5.1\n",
    "Aprobado\n",
    "```\n",
    "\n",
    "```\n",
    "P1: 9.3\n",
    "P2: 9.4\n",
    "Aprobado\n",
    "```"
   ]
  },
  {
   "cell_type": "code",
   "execution_count": 99,
   "metadata": {},
   "outputs": [
    {
     "name": "stdout",
     "output_type": "stream",
     "text": [
      "P1: 9.1\n",
      "P2: 9.2\n",
      "Aprobado\n"
     ]
    }
   ],
   "source": [
    "# Escriba aquí su solución\n",
    "\n",
    "P1 = float(input(\"P1: \"))\n",
    "P2 = float(input(\"P2: \"))\n",
    "Promedio = (P1 + P2)/2\n",
    "if(P1 < 2 and P2 < 2):\n",
    "    print(\"Reprobado\")\n",
    "elif(P1 > 9 and P2 > 9):\n",
    "    print(\"Aprobado\")\n",
    "else:\n",
    "    P3 = float(input(\"P3: \"))\n",
    "    promedio = (P1 + P2 + P3)/3\n",
    "    if(promedio < 3):\n",
    "        print(\"Reprobado\")\n",
    "    elif(promedio >= 7):\n",
    "        print(\"Aprobado\")\n",
    "    else:\n",
    "        Ex = float(input(\"Examen: \"))\n",
    "        if(Ex >= 5.0):\n",
    "            print(\"Aprobado\")\n",
    "        else:\n",
    "            print(\"Reprobado\")\n",
    "        "
   ]
  },
  {
   "cell_type": "markdown",
   "metadata": {},
   "source": [
    "## Indicaciones\n",
    "\n",
    "* Su entrega deberá consistir en una versión de este archivo Jupyter editado en el campo indicados anteriormente. \n",
    "* Es de su responsabilidad entregar el archivo en el formato indicado.  \n",
    "* No se puede modificar las bases de datos entregadas. Es decir, su programa debe funcionar con los archivos tal cual se publicaron en webcursos.\n",
    "* El código debe ser ordenado y comentado adecuadamente. Las variables deben tener nombres que representen su uso.\n",
    "* La entrega es vía webcursos, solo hasta la fecha indicada al comienzo. No se aceptan entregas atrasadas.\n",
    "\n",
    "## Recomendaciones:\n",
    "* Antes de entregar vaya a `Kernel -> Restart & Clear Output` y luego ejecute nuevamente los bloques asegurandose que ninguno arroje errores."
   ]
  }
 ],
 "metadata": {
  "colab": {
   "provenance": []
  },
  "kernelspec": {
   "display_name": "Python 3 (ipykernel)",
   "language": "python",
   "name": "python3"
  },
  "language_info": {
   "codemirror_mode": {
    "name": "ipython",
    "version": 3
   },
   "file_extension": ".py",
   "mimetype": "text/x-python",
   "name": "python",
   "nbconvert_exporter": "python",
   "pygments_lexer": "ipython3",
   "version": "3.9.13"
  }
 },
 "nbformat": 4,
 "nbformat_minor": 4
}
