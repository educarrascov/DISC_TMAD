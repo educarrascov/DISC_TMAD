{
 "cells": [
  {
   "cell_type": "markdown",
   "metadata": {},
   "source": [
    "# Taller de Manejo y Análisis de Datos\n",
    "\n",
    "**Profesor: Pedro Montealegre**\n",
    "\n",
    "### Guía de ejercicios para la Prueba\n",
    "\n",
    "\n",
    "## Ejercicio 1\n",
    "\n",
    "En este ejercicio se les entrega una base de datos `Athletes.csv` la cual contiene información sobre los atletas que compitieron en las últimas olimpiadas de Japón 2021. Más precisamente, se trata de una tabla en formato *csv* con las columnas `Name`, `Country`, `Discipline`. \n",
    "\n",
    "Los datos están ordenados por apellidos de los atletas. \n",
    "\n",
    "Sobre estos datos, se le pide realizar las siguientes actividades.\n",
    "\n",
    "Escriba un programa que genere la lista `Atletas_por_pais.csv` la cual contiene los mismos datos que `Athletes.csv` pero ordenados por país. Es decir, donde aparezca la columna `Country` ordenada, y donde los atletas de un mismo país queden ordenados alfabeticamente. "
   ]
  },
  {
   "cell_type": "code",
   "execution_count": null,
   "metadata": {},
   "outputs": [],
   "source": [
    "# Escriba aquí su solución"
   ]
  },
  {
   "cell_type": "markdown",
   "metadata": {},
   "source": [
    "## Ejercicio 2\n",
    "\n",
    "En este ejercicio seguiremos trabajando con la base de datos `Athletes.csv`. Escriba un programa en el que el usuario ingrese el nombre de un país, y a continuación se genere un histograma de atletas de dicho país. \n",
    "\n",
    "**Ejemplos:**\n",
    "\n",
    "```\n",
    "Ingrese el nombre de un país: Chile\n",
    "\n",
    "Histograma de disciplinas para Chile\n",
    "\n",
    "|               Disciplina|   Porcentaje|\n",
    "-----------------------------------------\n",
    "|                   Rowing|         3.6%|\n",
    "|                Wrestling|         1.8%|\n",
    "|                 Football|        37.5%|\n",
    "|                  Archery|         1.8%|\n",
    "|                   Tennis|         1.8%|\n",
    "|        Modern Pentathlon|         1.8%|\n",
    "|      Artistic Gymnastics|         3.6%|\n",
    "|                 Swimming|         3.6%|\n",
    "|                 Shooting|         1.8%|\n",
    "|                Athletics|         5.4%|\n",
    "|         Beach Volleyball|         3.6%|\n",
    "|             Canoe Sprint|         3.6%|\n",
    "|            Weightlifting|         3.6%|\n",
    "|                Triathlon|         3.6%|\n",
    "|                     Golf|         3.6%|\n",
    "|               Equestrian|         3.6%|\n",
    "|    Cycling BMX Freestyle|         1.8%|\n",
    "|                  Fencing|         1.8%|\n",
    "|                  Sailing|         1.8%|\n",
    "|                  Surfing|         1.8%|\n",
    "|             Cycling Road|         1.8%|\n",
    "|            Skateboarding|         1.8%|\n",
    "|                     Judo|         1.8%|\n",
    "|             Table Tennis|         1.8%|\n",
    "|    Cycling Mountain Bike|         1.8%|\n",
    "```\n",
    "\n",
    "```\n",
    "Ingrese el nombre de un país: Cyprus\n",
    "\n",
    "Histograma de disciplinas para Cyprus\n",
    "\n",
    "|               Disciplina|   Porcentaje|\n",
    "-----------------------------------------\n",
    "|                 Shooting|        21.4%|\n",
    "|                 Swimming|        14.3%|\n",
    "|                Athletics|        21.4%|\n",
    "|                  Sailing|        28.6%|\n",
    "|             Cycling Road|         7.1%|\n",
    "|      Artistic Gymnastics|         7.1%|\n",
    "```"
   ]
  },
  {
   "cell_type": "code",
   "execution_count": null,
   "metadata": {},
   "outputs": [],
   "source": [
    "# Escriba aquí su solución"
   ]
  },
  {
   "cell_type": "markdown",
   "metadata": {},
   "source": [
    "## Ejercicio 3\n",
    "\n",
    "Para esta actividad, se les provee el archivo `poblacion_por_edad_y_comuna.csv`, `primera_por_edad_y_comuna.csv`, el cual contiene datos sobre la población y sobre el proceso de vacunación con primera dosis. La información se entrega en las siguientes comunas:\n",
    "\n",
    "```Region, Código region, Comuna, 18, .... , 80```\n",
    "\n",
    "donde `18, ... , 80` son 63 columnas que contienen el número de vacunados para el correspondiente grupo etario, donde la última columna contiene a los vacunados de 80 años o más. \n",
    "\n",
    "Su tarea consiste en escribir una función que reciba como argumento el número de una región y genere un histograma con el porcentaje de vacunados para los habitantes de las region dada, en los tramos siguientes:\n",
    "* menores de 20,\n",
    "* entre 20 y 30,\n",
    "* entre 30 y 40,\n",
    "* entre 40 y 50,\n",
    "* entre 50 y 60,\n",
    "* entre 60 y 70,\n",
    "* entre 70 y 80,\n",
    "* 80 o más.\n",
    "\n",
    "(en todos los tramos anteriores, no se incluye el extremo superior)\n",
    "\n",
    "Su programa debe imprimir una tabla como se muestra en el ejemplo a continuación:\n",
    "\n",
    "```\n",
    ">>ejercicio3(13)\n",
    "\n",
    "Histograma de vacunación para la región Metropolitana \n",
    "\n",
    "| Rango de edad| Porcentaje de vacunados|\n",
    "-----------------------------------------\n",
    "|          < 20|                  61.42%|\n",
    "|       [20,30[|                  72.58%|\n",
    "|       [30,40[|                  76.89%|\n",
    "|       [40,50[|                  81.63%|\n",
    "|       [50,60[|                  90.99%|\n",
    "|       [60,70[|                  87.95%|\n",
    "|       [70,80[|                  91.21%|\n",
    "|           80+|                  88.07%|\n",
    "          \n",
    "```"
   ]
  },
  {
   "cell_type": "code",
   "execution_count": null,
   "metadata": {},
   "outputs": [],
   "source": [
    "# Escriba aquí su solución"
   ]
  },
  {
   "cell_type": "markdown",
   "metadata": {},
   "source": [
    "## Ejercicio 4: hundimiento del Titanic\n",
    "\n",
    "El objetivo de este problema es visualizar datos sobre la tragedia del Titanic. El RMS Titanic fue un transatlántico británico, considerado la mayor embarcación de transporte de pasajeros de su época y que naufragó la madrugada del 15 de abril de 1912. En el hundimiento del Titanic, se estima que murieron más de la mitad de las personas que iban a bordo. Esto último convierte a esta catástrofe en uno de los mayores naufragios de la historia ocurridos en tiempos de paz."
   ]
  },
  {
   "cell_type": "markdown",
   "metadata": {},
   "source": [
    "### Actividad 1\n",
    "\n",
    "Para desarrollar esta actividad primero se importan los datos disponibles en el archivo titanic.cvs adjunto.\n",
    "\n",
    "1) Asigne los datos a la variable titanic, utilizando pandas.\n",
    "\n",
    "2) Nombre las filas  de la tabla con el nombre 'PassengerID'"
   ]
  },
  {
   "cell_type": "code",
   "execution_count": null,
   "metadata": {},
   "outputs": [],
   "source": [
    "# Escriba aquí su solución"
   ]
  },
  {
   "cell_type": "markdown",
   "metadata": {},
   "source": [
    "### Actividad 2\n",
    "\n",
    "Visualice la proporción de hombres y mujeres que iban a bordo del barco. Para ello, cree un gráfico de torta ('pie chart') o circular. "
   ]
  },
  {
   "cell_type": "code",
   "execution_count": null,
   "metadata": {},
   "outputs": [],
   "source": [
    "# Escriba aquí su solución"
   ]
  },
  {
   "cell_type": "markdown",
   "metadata": {},
   "source": [
    "### Actividad 3\n",
    "\n",
    "Cree un gráfico de dispersión (scattered plot) para visualizar el costo del pasaje ('Fare') según la edad de cada pasajero. Use colores para distinguir hombres y mujeres."
   ]
  },
  {
   "cell_type": "code",
   "execution_count": null,
   "metadata": {},
   "outputs": [],
   "source": [
    "# Escriba aquí su solución"
   ]
  },
  {
   "cell_type": "markdown",
   "metadata": {},
   "source": [
    "### Actividad 4\n",
    "\n",
    "Calcule la proporción de sobrevivientes y visualice su resultado utilizando un gráfico de barras. "
   ]
  },
  {
   "cell_type": "code",
   "execution_count": null,
   "metadata": {},
   "outputs": [],
   "source": [
    "# Escriba aquí su solución"
   ]
  },
  {
   "cell_type": "markdown",
   "metadata": {},
   "source": [
    "## Ejercicio 5 \n",
    "\n",
    "La pandemia a golpeado fuertemente al rubro de la alimentación y en particular a los restaurantes. Preocupados por esta situación, y en particular, por la situación de los trabajadores, una firma nacional propietaria de una conocida cadena de restaurantes con sede en todo el país, le solicita analizar los datos del consumo diario en uno de sus locales."
   ]
  },
  {
   "cell_type": "markdown",
   "metadata": {},
   "source": [
    "### Actividad 1: Limpieza de datos\n",
    "\n",
    "1) Importe los datos contenidos en el archivo consumo.csv\n",
    "\n",
    "2) Revise las distintas columnas y elimine aquellas que no aporten información de ser necesario\n"
   ]
  },
  {
   "cell_type": "code",
   "execution_count": null,
   "metadata": {},
   "outputs": [],
   "source": [
    "# Escriba aquí su solución"
   ]
  },
  {
   "cell_type": "markdown",
   "metadata": {},
   "source": [
    "### Actividad 2: Visualizando el consumo total\n",
    "\n",
    "Construya un histograma utilizando la información del total de consumo contenida en la columna \"total_bill\""
   ]
  },
  {
   "cell_type": "code",
   "execution_count": null,
   "metadata": {},
   "outputs": [],
   "source": [
    "# Escriba aquí su solución"
   ]
  },
  {
   "cell_type": "markdown",
   "metadata": {},
   "source": [
    "### Actividad 3: Relacionando propinas y consumo total\n",
    "\n",
    "1) Visualice la relación que existe entre el consumo total y las propinas. Para ello cree un gráfico de dispersión utilizando la información de la columna \"total_bill\" y \"tip\".\n",
    "\n",
    "2) Visualice la relación entre la cantidad de comensales y las propinas. Para ello repita lo anterior para las columnas \"tip\" y \"size\" generando el mismo gráfico."
   ]
  },
  {
   "cell_type": "code",
   "execution_count": null,
   "metadata": {},
   "outputs": [],
   "source": [
    "# Escriba aquí su solución"
   ]
  },
  {
   "cell_type": "markdown",
   "metadata": {},
   "source": [
    "## Ejercicio 6 \n",
    "\n",
    "Un profesor universitario prepara un análisis de los resultados de sus estudiantes en cierto curso de postgrado. Usted como su ayudante, debe ayudarlo en la labor de entender cuál fue la progresión de los resultados de cada estudiante antes y después del examen final."
   ]
  },
  {
   "cell_type": "markdown",
   "metadata": {},
   "source": [
    "### Actividad 1: Creando un marco de datos.\n",
    "\n",
    "Antes de comenzar a trabajar con los datos, el profesor descubre que la información se ha perdido. Dado que el análisis debe realizarse rápidamente y el curso cuenta con pocos estudiantes, le entrega a usted la siguiente imagen como única información:\n",
    "\n"
   ]
  },
  {
   "cell_type": "code",
   "execution_count": 1,
   "metadata": {},
   "outputs": [
    {
     "data": {
      "text/html": [
       "<div>\n",
       "<style scoped>\n",
       "    .dataframe tbody tr th:only-of-type {\n",
       "        vertical-align: middle;\n",
       "    }\n",
       "\n",
       "    .dataframe tbody tr th {\n",
       "        vertical-align: top;\n",
       "    }\n",
       "\n",
       "    .dataframe thead th {\n",
       "        text-align: right;\n",
       "    }\n",
       "</style>\n",
       "<table border=\"1\" class=\"dataframe\">\n",
       "  <thead>\n",
       "    <tr style=\"text-align: right;\">\n",
       "      <th></th>\n",
       "      <th>Nombre</th>\n",
       "      <th>Apellido</th>\n",
       "      <th>Edad</th>\n",
       "      <th>Genero</th>\n",
       "      <th>Nota presentación</th>\n",
       "      <th>Nota examen</th>\n",
       "    </tr>\n",
       "  </thead>\n",
       "  <tbody>\n",
       "    <tr>\n",
       "      <th>0</th>\n",
       "      <td>Juan</td>\n",
       "      <td>Perez</td>\n",
       "      <td>32</td>\n",
       "      <td>Masculino</td>\n",
       "      <td>6.0</td>\n",
       "      <td>2.5</td>\n",
       "    </tr>\n",
       "    <tr>\n",
       "      <th>1</th>\n",
       "      <td>María</td>\n",
       "      <td>López</td>\n",
       "      <td>22</td>\n",
       "      <td>Femenino</td>\n",
       "      <td>4.4</td>\n",
       "      <td>7.0</td>\n",
       "    </tr>\n",
       "    <tr>\n",
       "      <th>2</th>\n",
       "      <td>Emiliana</td>\n",
       "      <td>Echeñique</td>\n",
       "      <td>36</td>\n",
       "      <td>Femenino</td>\n",
       "      <td>3.1</td>\n",
       "      <td>5.7</td>\n",
       "    </tr>\n",
       "    <tr>\n",
       "      <th>3</th>\n",
       "      <td>Joaquín</td>\n",
       "      <td>Casas</td>\n",
       "      <td>24</td>\n",
       "      <td>Masculino</td>\n",
       "      <td>7.0</td>\n",
       "      <td>6.2</td>\n",
       "    </tr>\n",
       "    <tr>\n",
       "      <th>4</th>\n",
       "      <td>Renata</td>\n",
       "      <td>Pereira</td>\n",
       "      <td>23</td>\n",
       "      <td>Femenino</td>\n",
       "      <td>3.0</td>\n",
       "      <td>5.0</td>\n",
       "    </tr>\n",
       "  </tbody>\n",
       "</table>\n",
       "</div>"
      ],
      "text/plain": [
       "     Nombre   Apellido  Edad     Genero  Nota presentación  Nota examen\n",
       "0      Juan      Perez    32  Masculino                6.0          2.5\n",
       "1     María      López    22   Femenino                4.4          7.0\n",
       "2  Emiliana  Echeñique    36   Femenino                3.1          5.7\n",
       "3   Joaquín      Casas    24  Masculino                7.0          6.2\n",
       "4    Renata    Pereira    23   Femenino                3.0          5.0"
      ]
     },
     "execution_count": 1,
     "metadata": {},
     "output_type": "execute_result"
    }
   ],
   "source": []
  },
  {
   "cell_type": "markdown",
   "metadata": {},
   "source": [
    "1) Cree un dataframe que se vea exactamente igual a la imagen enviada por el profesor"
   ]
  },
  {
   "cell_type": "code",
   "execution_count": null,
   "metadata": {},
   "outputs": [],
   "source": [
    "# Escriba aquí su solución"
   ]
  },
  {
   "cell_type": "markdown",
   "metadata": {},
   "source": [
    "### Actividad 2:\n",
    "\n",
    "Cree un gráfico de dispersión que muestre la relación entre las notas de presentación y las notas del exámen. Diferencie mediante el color el género de los estudiantes y mediante el tamaño su edad."
   ]
  },
  {
   "cell_type": "code",
   "execution_count": null,
   "metadata": {},
   "outputs": [],
   "source": [
    "# Escriba aquí su solución"
   ]
  },
  {
   "cell_type": "markdown",
   "metadata": {},
   "source": [
    "### Actividad 3:\n",
    "\n",
    "1) Si para pasar el curso el examen vale un 60% de la nota final y el curso se aprueba con un 5.0, calcule la proporción de estudiantes que han aprobado.\n",
    "\n",
    "2) Construya un gráfico de torta que muestre el procentaje de aprobación.\n",
    "\n",
    "3) Construya un gráfico de dispersión que muestre la relación entre la nota final y la edad. ¿Qué tendencia se observa?"
   ]
  },
  {
   "cell_type": "code",
   "execution_count": null,
   "metadata": {},
   "outputs": [],
   "source": [
    "# Escriba aquí su solución"
   ]
  },
  {
   "cell_type": "markdown",
   "metadata": {},
   "source": [
    "## Ejercicio 7\n",
    "\n",
    "Una famosa universidad estadounidense realiza un estudio sobre la población del estado en donde está ubicada. Para ello, cuenta con un set de datos obtenidos de personas de distintas edades y ocupaciones y residentes en distintas ciudades. Usted es contratado para analizar estos datos contenidos en el archivo 'ocuapciones.csv'."
   ]
  },
  {
   "cell_type": "markdown",
   "metadata": {},
   "source": [
    "### Actividad 1: Limpiando los datos.\n",
    "\n",
    "0) Importe los datos y guardelos en una variable llamada 'datos_población'.\n",
    "\n",
    "1) Elimine cualquier columna que no aporte información.\n",
    "\n",
    "2) Llame a las filas \"user_id\""
   ]
  },
  {
   "cell_type": "code",
   "execution_count": null,
   "metadata": {},
   "outputs": [],
   "source": [
    "# Escriba aquí su solución"
   ]
  },
  {
   "cell_type": "markdown",
   "metadata": {},
   "source": [
    "### Actividad 2:  Caracterizando la población\n",
    "\n",
    "1) Construya un histograma con la frecuencia de las distintas profesiones.\n",
    "\n",
    "2) Construya un histograma con la frecuencia de edad.\n",
    "\n",
    "3) Construya un gráfico de torta con la proporción de hombres y mujeres."
   ]
  },
  {
   "cell_type": "code",
   "execution_count": null,
   "metadata": {},
   "outputs": [],
   "source": [
    "# Escriba aquí su solución"
   ]
  },
  {
   "cell_type": "markdown",
   "metadata": {},
   "source": [
    "### Actividad 3:  Cruzando información e identificando grupos de interés.\n",
    "\n",
    "1) Construya un histograma con la frecuencia de las distintas profesiones en la población menor de 18 años. ¿Cuál es la profesión más frecuente en este rango etario?\n",
    "\n",
    "2) Construya un histograma con la frecuencia de las distintas profesiones en la población mayor de 60 años.¿Cuál es la profesión más frecuente en este rango etario?"
   ]
  },
  {
   "cell_type": "code",
   "execution_count": null,
   "metadata": {},
   "outputs": [],
   "source": [
    "# Escriba aquí su solución"
   ]
  },
  {
   "cell_type": "markdown",
   "metadata": {},
   "source": [
    "## Ejercicio 8\n",
    "\n",
    "Usted ha cumplido su sueño de convertirse en un entrenador Pokémon. Sin embargo, antes de comenzar su viaje, debe estudiar las distintas ventajas y desventajas que pueden darse en las batallas dependiendo de los tipos de Pokémon. Para ello, analizará los datos del archivo 'PokeTypeMatchupData.csv'. Estos contienen las distintas debilidades y ventajas para cada Pokémon. Observe que hay distintos valores numéricos ordenados por tipo: \n",
    "\n",
    "i) el valor 1 significa que el poder es **IGUAL**;\n",
    "\n",
    "ii) los valores entre 0 y 0.5 (sin considerar 0.5) significan que el Pokémon es **PODEROSO**;\n",
    "\n",
    "iii) los valores entre 0.5 (incluido) y 1 (sin incluir) significa que el Pokémon es **MEDIANAMENTE PODEROSO**; y\n",
    "\n",
    "iv) los valores superiores a 1 significan que el pokemon es **DEBIL** contra ese tipo en particular."
   ]
  },
  {
   "cell_type": "markdown",
   "metadata": {},
   "source": [
    "### Actividad 1:  Limpieza de datos.\n",
    "\n",
    "1) Elimine la columna 'number'\n",
    "\n",
    "2) Elimine todos los string * de los valores incluidos y convierta todas las entradas de la tabla a float.\n",
    " "
   ]
  },
  {
   "cell_type": "code",
   "execution_count": null,
   "metadata": {},
   "outputs": [],
   "source": [
    "# Escriba aquí su solución"
   ]
  },
  {
   "cell_type": "markdown",
   "metadata": {},
   "source": [
    "### Actividad 2: Escoja su pokémon.\n",
    "\n",
    "Cree una función que reciba el nombre de un pokemon dado por la primera columna del archivo de datos y que imprima un string con la etiqueta \"IGUAL\", \"PODEROSO\", \"MEDIANAMENTE FUERTE\" y \"DEBIL\" según corresponda."
   ]
  },
  {
   "cell_type": "markdown",
   "metadata": {},
   "source": [
    "__Su código debe mostrar exactamente esto al ejecutarse con 'Blastoise' como input (sin espacios entre lineas):__\n",
    "\n",
    "Blastoise tiene IGUAL poder que este tipo : Normal\n",
    "\n",
    "Blastoise es  MEDIANAMENTE FUERTE   contra  este tipo : Fire\n",
    "\n",
    "Blastoise es  MEDIANAMENTE FUERTE   contra  este tipo : Water\n",
    "\n",
    "Blastoise es  DEBIL   contra  este tipo : Electric\n",
    "\n",
    "Blastoise es  DEBIL   contra  este tipo : Grass\n",
    "\n",
    "Blastoise es  MEDIANAMENTE FUERTE   contra  este tipo : Ice\n",
    "\n",
    "Blastoise tiene IGUAL poder que este tipo : Fighting\n",
    "\n",
    "Blastoise tiene IGUAL poder que este tipo : Poison\n",
    "\n",
    "Blastoise tiene IGUAL poder que este tipo : Ground\n",
    "\n",
    "Blastoise tiene IGUAL poder que este tipo : Flying\n",
    "\n",
    "Blastoise tiene IGUAL poder que este tipo : Psychic\n",
    "\n",
    "Blastoise tiene IGUAL poder que este tipo : Bug\n",
    "\n",
    "Blastoise tiene IGUAL poder que este tipo : Rock\n",
    "\n",
    "Blastoise tiene IGUAL poder que este tipo : Ghost\n",
    "\n",
    "Blastoise tiene IGUAL poder que este tipo : Dragon\n",
    "\n",
    "Blastoise tiene IGUAL poder que este tipo : Dark\n",
    "\n",
    "Blastoise es  MEDIANAMENTE FUERTE   contra  este tipo : Steel\n",
    "\n",
    "Blastoise tiene IGUAL poder que este tipo : Fairy\n",
    "\n",
    "\n"
   ]
  },
  {
   "cell_type": "code",
   "execution_count": null,
   "metadata": {},
   "outputs": [],
   "source": [
    "# Escriba aquí su solución"
   ]
  },
  {
   "cell_type": "markdown",
   "metadata": {},
   "source": [
    "### Actividad 3: Analizando por tipo\n",
    "\n",
    "1) Adapte el código de la parte anterior para generar un data frame cuali_pokemon que contiene la clasificación (DÉBIL, FUERTE, ETC) correspondiente en vez de los valores numéricos.\n",
    "\n",
    "\n",
    "2) Cree una función que dado un tipo, entregado como un string de acuerdo a los datos iniciales, imprime un histograma mostrando la frecuencia de pokémones de la muestra que son \"PODEROSOS\", \"IGUALES\", \"DEBILES\" y \"MEDIANAMENTE FUERTES\" contra ese tipo en particular."
   ]
  },
  {
   "cell_type": "code",
   "execution_count": null,
   "metadata": {},
   "outputs": [],
   "source": [
    "# Escriba aquí su solución"
   ]
  }
 ],
 "metadata": {
  "kernelspec": {
   "display_name": "Python 3 (ipykernel)",
   "language": "python",
   "name": "python3"
  },
  "language_info": {
   "codemirror_mode": {
    "name": "ipython",
    "version": 3
   },
   "file_extension": ".py",
   "mimetype": "text/x-python",
   "name": "python",
   "nbconvert_exporter": "python",
   "pygments_lexer": "ipython3",
   "version": "3.9.13"
  }
 },
 "nbformat": 4,
 "nbformat_minor": 4
}
