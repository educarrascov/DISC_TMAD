{
 "cells": [
  {
   "cell_type": "markdown",
   "metadata": {
    "id": "njkfCPSyipI7"
   },
   "source": [
    "# Taller de Manejo y Análisis de Datos\n",
    "# Pauta Tarea 3 - Agregación limitada por difusión\n",
    "\n",
    "**Profesores:** Pedro Montealegre (p.montealegre@uai.cl) y Roberto León (roberto.leonv@edu.uai.cl)\n",
    "\n",
    "**Fecha de publicación:** miércoles 14 de septiembre.\n",
    "\n",
    "**Fecha de entrega:** domingo 2 de octubre a las 23:59 vía webcursos."
   ]
  },
  {
   "cell_type": "markdown",
   "metadata": {
    "id": "86uYXMJ9jSmV"
   },
   "source": [
    "# Introducción\n",
    "\n",
    "\n",
    "La *agregación limitada por difusión* (DLA por sus siglas en inglés, “diffusion-limited aggregation”) es un proceso en el cual partículas sometidas a paseo aleatorio se aglomeran para formar agregados de tales partículas. \n",
    "\n",
    "Esta teoría, propuesta por Witten y Sander en 1981, es aplicable a la agregación de cualquier sistema donde la difusión es el medio primario de transporte en el sistema. DLA puede ser observado en muchos otros sistemas tales como eletrodeposición, flujo de Hele-Shaw, depósitos minerales, y ruptura de dieléctrico.\n",
    "\n",
    "\n",
    "El proceso de DLA se puede simular computacionalmente del siguiente modo.\n",
    "* Se comienza con una grilla de $n \\times n$ celdas, con $n$ impar. Se comienza con todos las celdas \"desocupadas\" menos la central que se considera \"ocupada\". \n",
    "* Se escoge un punto al azar en el borde de la grilla y desde ahí comienza el recorrido de una partícula.\n",
    "* El recorrido de una partícula consiste en una secuencia pasos conformados por movimientos aleatorios. En cada paso, se escoge una dirección (norte, sur, este, oeste) y la partícula se mueve en esa dirección. \n",
    "* Una partícula sigue su recorrido hasta que se sale de los márgenes de la grilla (en cuyo caso queda descartada) o llega a un sitio adyacente a uno ocupado. En el segundo caso la partícula se *congela* y desde ahí en adelante dicho sitio también queda ocupado. \n",
    "* Cuando una partícula se descarta o se congela, inmediatamente comienza el recorrido de una nueva partícula. \n",
    "\n",
    "En la siguiente imágen se representa un patrón obtenido a partir de este proceso, consistente en unas 33.000 partículas. Los colores el orden en que se han fijado las partículas\n",
    "<img src=\"https://upload.wikimedia.org/wikipedia/commons/3/3d/Of7_p0001_15h.jpg\" width=\"500\">\n",
    "\n"
   ]
  },
  {
   "cell_type": "markdown",
   "metadata": {
    "id": "6Kpiolm3lL3M"
   },
   "source": [
    "# Actividad 1 - 4 punto\n",
    "\n",
    "Escriba una función que reciba como argumento un entero positivo $p$, y que simule el modelo de Agregación Limitada por Difusión hasta que se ocupen $p$ sitios en una grilla de tamaño adecuado. La salida de la función es matriz de ceros y unos representando los sitios que quedaron ocupados. Su función además deberá generar una imágen simiar a la mostrada en la introducción. \n",
    "\n",
    "Debe cuidar que su implementación sea eficiente, de modo que se peuda generar un patrón de unas 100 partículas en cosa de segundos, y de al menos 1000 partículas en un par de minutos. Para esto, se sugiere trabajar con un tamaño de grilla dinámico, que sea un poco más grande que el cuadrado que contenga al patrón, y de este modo evitar que los paseos de las partículas se extiendan por muchas etapas. "
   ]
  },
  {
   "cell_type": "code",
   "execution_count": 1,
   "metadata": {
    "id": "zJaHdjCdiiIa"
   },
   "outputs": [],
   "source": [
    "# Escriba aquí su respuesta\n",
    "import numpy as np\n",
    "import matplotlib.pyplot as plt\n",
    "\n",
    "# Funcion que escoge al azar una nueva posición para una partícula que no se ha congelado\n",
    "def mover(i,j):\n",
    "    d = np.random.randint(4)\n",
    "    if d==0:\n",
    "        return (i+1,j)\n",
    "    elif d==1:\n",
    "        return (i-1,j)\n",
    "    elif d==2:\n",
    "        return (i,j+1)\n",
    "    else:\n",
    "        return (i,j-1)\n",
    "    \n",
    "# Funcion que inicializa una nueva particula en una posición al azar del cuadrado\n",
    "def inicializar(n,radio):\n",
    "    d = np.random.randint(4)\n",
    "    if d==0: # Lado derecho\n",
    "        j = np.random.randint(-radio,radio+1)\n",
    "        return (n//2 + radio, n//2 + j)\n",
    "    elif d==1: # Lado izquierdo\n",
    "        j = np.random.randint(-radio,radio+1)\n",
    "        return (n//2 - radio, n//2 + j)\n",
    "    elif d==2: # Arriba\n",
    "        i = np.random.randint(-radio,radio+1)\n",
    "        return (n//2 + i, n//2 + radio)\n",
    "    else: # Abajo\n",
    "        i = np.random.randint(-radio,radio+1)\n",
    "        return (n//2 + i, n//2 - radio)\n",
    "    \n",
    "# Función que calcula el máximo radio en el que se encuentra el patrón\n",
    "def radio_max(A):\n",
    "    n,m = A.shape\n",
    "    for i in range(n//2):\n",
    "        s1 = sum(sum(A[n//2-i:n//2+i+1,n//2-i:n//2+i+1]))\n",
    "        s2 = sum(sum(A[n//2-i-1:n//2+i+2,n//2-i-1:n//2+i+2]))\n",
    "        if s1 == s2:\n",
    "            return i    \n",
    "        \n",
    "# Función que determina si una partícula es adjacente a una de parada.   \n",
    "def parada(A,i,j):\n",
    "    if A[i+1,j] != 0:\n",
    "        return True\n",
    "    if A[i-1,j] != 0:\n",
    "        return True\n",
    "    if A[i,j+1] != 0:\n",
    "        return True\n",
    "    if A[i,j-1] != 0:\n",
    "        return True\n",
    "    return False\n",
    "\n",
    "# Función principal que simula el DLA\n",
    "def DLA(p):\n",
    "    n = 3*p+1\n",
    "    r = 50\n",
    "    A = np.zeros((n,n))\n",
    "    A[n//2, n//2] = 2\n",
    "    contador = 1\n",
    "    while contador < p:\n",
    "        \n",
    "        radio = max(radio_max(A),50)\n",
    "        (i,j) = inicializar(n,radio+r)\n",
    "        moviendo = True\n",
    "        \n",
    "        while moviendo == True:\n",
    "            \n",
    "            i,j = mover(i,j)\n",
    "            \n",
    "            # Paramos si se sale de los bordes del subpatrón\n",
    "            if  abs(n//2 - i) > radio + r or abs(n//2 - j) > radio + r:\n",
    "                moviendo = False\n",
    "            \n",
    "            # O del borde máximo dado por n\n",
    "            if  abs(n//2 - i) > n//2 or abs(n//2 - j) > n//2:\n",
    "                moviendo = False\n",
    "            \n",
    "            # O si se determinó que debe parar por ser adyacente a otra partícula\n",
    "            if parada(A,i,j):\n",
    "                moviendo = False\n",
    "                A[i,j] = 1+contador/p\n",
    "                #print(contador, \",\", end=\"\")\n",
    "                contador += 1\n",
    "    radio = radio_max(A)            \n",
    "    fig, ax = plt.subplots(figsize=(18, 10))           \n",
    "    plt.imshow(A[n//2-radio-4:n//2 + radio +5,n//2-radio-4:n//2 + radio +5])\n",
    "    plt.axis('off')            \n",
    "    return A"
   ]
  },
  {
   "cell_type": "code",
   "execution_count": 4,
   "metadata": {},
   "outputs": [
    {
     "data": {
      "image/png": "[encoded data removed]",
      "text/plain": [
       "<Figure size 1800x1000 with 1 Axes>"
      ]
     },
     "metadata": {},
     "output_type": "display_data"
    }
   ],
   "source": [
    "p = 100\n",
    "B = DLA(p)"
   ]
  },
  {
   "cell_type": "code",
   "execution_count": 5,
   "metadata": {},
   "outputs": [
    {
     "data": {
      "text/plain": [
       "array([[0., 0., 0., ..., 0., 0., 0.],\n",
       "       [0., 0., 0., ..., 0., 0., 0.],\n",
       "       [0., 0., 0., ..., 0., 0., 0.],\n",
       "       ...,\n",
       "       [0., 0., 0., ..., 0., 0., 0.],\n",
       "       [0., 0., 0., ..., 0., 0., 0.],\n",
       "       [0., 0., 0., ..., 0., 0., 0.]])"
      ]
     },
     "execution_count": 5,
     "metadata": {},
     "output_type": "execute_result"
    }
   ],
   "source": [
    "B"
   ]
  },
  {
   "cell_type": "markdown",
   "metadata": {
    "id": "dJy-knflnJ8G"
   },
   "source": [
    "# Actividad 2 - 2 puntos\n",
    "\n",
    "En geometría de fractales, la dimensión fractal $D$ es un número real que generaliza el concepto de dimensión ordinaria para objetos geométricos que no admiten espacio tangente. La dimensión fractal representa cuán completamente parece llenar un fractal el espacio conforme se amplía el primero hacia escalas más y más finas. \n",
    "\n",
    "En esta actividad buscaremos aproximar la dimensión fractal de un patrón dado. Para eso, utilice el método *caja de arena* descrito a continuación.\n",
    "\n",
    "* Sea $r>0$ impar, se toma el conjunto $S(r)$ de celdas que forman un cuadrado de lado $r$ en el centro del patrón. \n",
    "* Mida el número $N(r)$ de stios ocupados en $S(r)$\n",
    "* Grafique $N(r)$ en función de $r$ en escala log-log\n",
    "* Usando el método de mínimos cuadrados, calcule la pendiente de la recta que mejor describa el crecimiento. La dimensión fractal del sistema será el valor de dicha pendiente. \n",
    "\n",
    "Escriba una función llamada **sandbox** que reciba como argumento una matriz cuadrada $A$ (representando un patrón) y devuelva una aproximación de la dimensión fractal del patrón representado en $A$. Su función además deberá generar un gráfico en que se represente $N(r)$ en función de $r$ en escala log-log y la recta de minimos cuadrados. "
   ]
  },
  {
   "cell_type": "code",
   "execution_count": 51,
   "metadata": {
    "id": "YzF6n3qEoBpn"
   },
   "outputs": [
    {
     "data": {
      "text/plain": [
       "1.5255017338417527"
      ]
     },
     "execution_count": 51,
     "metadata": {},
     "output_type": "execute_result"
    },
    {
     "data": {
      "image/png": "[encoded data removed]",
      "text/plain": [
       "<Figure size 576x432 with 1 Axes>"
      ]
     },
     "metadata": {
      "needs_background": "light"
     },
     "output_type": "display_data"
    }
   ],
   "source": [
    "# Escriba aquí su respuesta\n",
    "\n",
    "def sandbox(A):\n",
    "    n,m = A.shape\n",
    "    r = radio_max(A)\n",
    "    lista = []\n",
    "    for i in range(1,r):\n",
    "        Suma = sum(sum(np.array( A[n//2-i:n//2+i+1,n//2-i:n//2+i+1] != 0, dtype = int)))\n",
    "        lista.append(Suma)\n",
    "    \n",
    "    arreglo = np.array(lista)    \n",
    "    \n",
    "    a = np.polyfit(np.log(np.arange(1,r)),np.log(arreglo),1)\n",
    "    \n",
    "    fig, ax = plt.subplots(figsize=(8,6))\n",
    "    ax.plot(np.log(range(1,r)),np.log(arreglo),\"o\")\n",
    "    ax.plot(np.log(range(1,r)), np.polyval(a,np.log(range(1,r))))\n",
    "    return a[0]\n",
    "\n",
    "sandbox(B)\n",
    "\n",
    "\n",
    "\n",
    "\n",
    "\n",
    "\n",
    "\n",
    "\n"
   ]
  },
  {
   "cell_type": "markdown",
   "metadata": {
    "id": "BvWwxz73pyzz"
   },
   "source": [
    "## Indicaciones\n",
    "\n",
    "* Su entrega deberá consistir en una versión de este archivo Jupyter editado en el campo indicados anteriormente. \n",
    "* Es de su responsabilidad entregar el archivo en el formato indicado.  \n",
    "* No se puede modificar las bases de datos entregadas. Es decir, su programa debe funcionar con los archivos tal cual se publicaron en webcursos.\n",
    "* El código debe ser ordenado y comentado adecuadamente. Las variables deben tener nombres que representen su uso.\n",
    "* La entrega es vía webcursos, solo hasta la fecha indicada al comienzo. No se aceptan tareas atrasadas.\n",
    "\n",
    "## Recomendaciones:\n",
    "* Antes de entregar vaya a `Kernel -> Restart & Clear Output` y luego ejecute nuevamente los bloques asegurándose que ninguno arroje errores."
   ]
  },
  {
   "cell_type": "code",
   "execution_count": null,
   "metadata": {},
   "outputs": [],
   "source": []
  }
 ],
 "metadata": {
  "colab": {
   "name": "Tarea-2.ipynb",
   "provenance": []
  },
  "kernelspec": {
   "display_name": "Python 3 (ipykernel)",
   "language": "python",
   "name": "python3"
  },
  "language_info": {
   "codemirror_mode": {
    "name": "ipython",
    "version": 3
   },
   "file_extension": ".py",
   "mimetype": "text/x-python",
   "name": "python",
   "nbconvert_exporter": "python",
   "pygments_lexer": "ipython3",
   "version": "3.9.13"
  }
 },
 "nbformat": 4,
 "nbformat_minor": 4
}
