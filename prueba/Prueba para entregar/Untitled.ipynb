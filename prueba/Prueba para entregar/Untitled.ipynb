{
 "cells": [
  {
   "cell_type": "code",
   "execution_count": null,
   "id": "74ff2b0b-2238-482f-9ead-982f48e7b0be",
   "metadata": {},
   "outputs": [],
   "source": [
    "def limpiar_bases_datos(bases_datos):\n",
    "    df_comun = bases_datos[0][['country']]\n",
    "\n",
    "    for df in bases_datos[1:]:\n",
    "        df_comun = df_comun.merge(df[['country']], on='country', how='outer')\n",
    "\n",
    "    df_comun.set_index('country', inplace=True)\n",
    "    df_comun.dropna(how='all', inplace=True)\n",
    "\n",
    "    return df_comun"
   ]
  }
 ],
 "metadata": {
  "kernelspec": {
   "display_name": "Python 3 (ipykernel)",
   "language": "python",
   "name": "python3"
  },
  "language_info": {
   "codemirror_mode": {
    "name": "ipython",
    "version": 3
   },
   "file_extension": ".py",
   "mimetype": "text/x-python",
   "name": "python",
   "nbconvert_exporter": "python",
   "pygments_lexer": "ipython3",
   "version": "3.9.13"
  }
 },
 "nbformat": 4,
 "nbformat_minor": 5
}
