{
 "cells": [
  {
   "cell_type": "markdown",
   "metadata": {},
   "source": [
    "# Taller de Manejo y Análisis de Datos\n",
    "\n",
    "**Profesor**: Pedro Montealegre"
   ]
  },
  {
   "cell_type": "markdown",
   "metadata": {},
   "source": [
    "# Pandas - Ciencia de datos con Python"
   ]
  },
  {
   "cell_type": "markdown",
   "metadata": {},
   "source": [
    "Numpy y sus arreglos son nuestra herramienta predilecta para trabajar con datos numéricos que se puedan representar por vectores, matrices (o tensores en más dimensiones).\n",
    "\n",
    "Cuando se trata de datos experimentales, y en particular cuando queremos extraer conclusiones a partir de la combinación de distintas fuentes de datos, y cuando la información es a menudo incompleta, la librería `pandas` ofrece un gran número de herramientas útiles (y se ha transformado en la herramienta estandar para los cientificos de datos). \n",
    "\n",
    "En este capítulo, introduciremos nociones básicas de Pandas. En particular, introduciremos dos tipos de datos clave en Pandas: los objetos `Series` y `DataFrame`."
   ]
  },
  {
   "cell_type": "markdown",
   "metadata": {},
   "source": [
    "Por convención, la librería `pandas`se importa bajo el nombre `pd` (del mismo modo que `numpy`se importa bajo el nombre `np`):"
   ]
  },
  {
   "cell_type": "code",
   "execution_count": 1,
   "metadata": {},
   "outputs": [],
   "source": [
    "import pandas as pd"
   ]
  },
  {
   "cell_type": "markdown",
   "metadata": {},
   "source": [
    "## Ejemplo motivacional (Series)\n"
   ]
  },
  {
   "cell_type": "markdown",
   "metadata": {},
   "source": [
    "Imaginemos que trabajamos en un programa para un supermercado, y queremos llevar la cuenta del número de manzanas (10), naranjas (3) y plátanos (22) que hay en el supermercado. \n",
    "\n",
    "Para guardar estos datos, podríamos usar una lista de Python (o un arreglo numpy):"
   ]
  },
  {
   "cell_type": "code",
   "execution_count": 2,
   "metadata": {},
   "outputs": [],
   "source": [
    "stock = [10, 3, 22]"
   ]
  },
  {
   "cell_type": "markdown",
   "metadata": {},
   "source": [
    "Sin embargo, tendríamos que almacenar en otra parte que las entradas estan en el order de manzanas, naranjas y plátanos. \n",
    "Esto se podría hacer a través de una segunda lista: "
   ]
  },
  {
   "cell_type": "code",
   "execution_count": 3,
   "metadata": {},
   "outputs": [],
   "source": [
    "etiquetas = ['manzanas', 'naranjas', 'plátanos']"
   ]
  },
  {
   "cell_type": "markdown",
   "metadata": {},
   "source": [
    "La solución con dos listas resulta un poco incómoda por dos razones: primero, tendríamos que usar dos listas para un set de datos (y por lo tanto, por ejemplo, tener cuidado con actualizarlas de manera simultánea). Segundo, el acceso a los datos dada una etiqueta es inconveniente: Tendríamos que encontrar el índice de la etiqueta en la lista, y luego usarlo en la otra lista, por ejemplo:"
   ]
  },
  {
   "cell_type": "code",
   "execution_count": 4,
   "metadata": {},
   "outputs": [
    {
     "name": "stdout",
     "output_type": "stream",
     "text": [
      "manzanas :  10\n",
      "naranjas :   3\n",
      "plátanos :  22\n"
     ]
    }
   ],
   "source": [
    "if len(etiquetas) == len(stock) :      # chequeamos que las etiquetas y el stock son consistentes\n",
    "    for i in range(len(etiquetas)):\n",
    "            print(\"%s : %3d\" %(etiquetas[i],stock[i]))"
   ]
  },
  {
   "cell_type": "code",
   "execution_count": 5,
   "metadata": {},
   "outputs": [
    {
     "name": "stdout",
     "output_type": "stream",
     "text": [
      "Hay 22 plátanos\n"
     ]
    }
   ],
   "source": [
    "index = etiquetas.index('plátanos')\n",
    "platanos = stock[index]\n",
    "print(\"Hay %d plátanos\" % platanos)"
   ]
  },
  {
   "cell_type": "markdown",
   "metadata": {},
   "source": [
    "Las Series son un objeto de la librería Pandas que ofrece una gran mejora con respecto a la solución de dos listas. Esta estructura de datos nos permite:\n",
    "* Manterner una sola estructura que tenga las etiquetas y los valores, sin necesidad de verificar que ambas listas tengan el mismo largo. \n",
    "* Podemos acceder a objetos individuales a través de la etiqueta. \n",
    "\n",
    "Existe una estructura de datos incluida en Python llamada *diccionarios*. Las Series de Pandas son similares a un diccionario, pero con mejoras como:\n",
    "* El orden de los objetos se preserva por el índice\n",
    "* Los valores tienen que ser del mismo tipo (lo que permite una mejora en rendimiento) \n",
    "* Un gran número de funciones asociadas a Series, que por ejemplo permiten lidiar con datos faltantes, series de tiempo, ordenamiento, graficar, y otros. "
   ]
  },
  {
   "cell_type": "markdown",
   "metadata": {},
   "source": [
    "## Las `Series` de Pandas"
   ]
  },
  {
   "cell_type": "markdown",
   "metadata": {},
   "source": [
    "### Stock example - `Series`"
   ]
  },
  {
   "cell_type": "markdown",
   "metadata": {},
   "source": [
    "Podemos crear un objeto `Series` a partir, por ejemplo, de dos listas:"
   ]
  },
  {
   "cell_type": "code",
   "execution_count": 6,
   "metadata": {},
   "outputs": [],
   "source": [
    "stock = pd.Series([10, 3, 22], index=['manzanas', 'naranjas', 'plátanos'])"
   ]
  },
  {
   "cell_type": "code",
   "execution_count": 7,
   "metadata": {},
   "outputs": [
    {
     "data": {
      "text/plain": [
       "manzanas    10\n",
       "naranjas     3\n",
       "plátanos    22\n",
       "dtype: int64"
      ]
     },
     "execution_count": 7,
     "metadata": {},
     "output_type": "execute_result"
    }
   ],
   "source": [
    "stock"
   ]
  },
  {
   "cell_type": "markdown",
   "metadata": {},
   "source": [
    "Si omitimos el argumento `index`, se asume que los índices son enteros:"
   ]
  },
  {
   "cell_type": "code",
   "execution_count": 8,
   "metadata": {},
   "outputs": [],
   "source": [
    "stock = pd.Series([10, 3, 22])"
   ]
  },
  {
   "cell_type": "code",
   "execution_count": 9,
   "metadata": {},
   "outputs": [
    {
     "data": {
      "text/plain": [
       "0    10\n",
       "1     3\n",
       "2    22\n",
       "dtype: int64"
      ]
     },
     "execution_count": 9,
     "metadata": {},
     "output_type": "execute_result"
    }
   ],
   "source": [
    "stock"
   ]
  },
  {
   "cell_type": "markdown",
   "metadata": {},
   "source": [
    "También se puede agregar los índices más tarde:"
   ]
  },
  {
   "cell_type": "code",
   "execution_count": 10,
   "metadata": {},
   "outputs": [],
   "source": [
    "stock.index = ['manzanas', 'naranjas', 'plátanos']"
   ]
  },
  {
   "cell_type": "code",
   "execution_count": 11,
   "metadata": {},
   "outputs": [
    {
     "data": {
      "text/plain": [
       "manzanas    10\n",
       "naranjas     3\n",
       "plátanos    22\n",
       "dtype: int64"
      ]
     },
     "execution_count": 11,
     "metadata": {},
     "output_type": "execute_result"
    }
   ],
   "source": [
    "stock"
   ]
  },
  {
   "cell_type": "code",
   "execution_count": 12,
   "metadata": {},
   "outputs": [
    {
     "data": {
      "text/plain": [
       "manzanas    10\n",
       "naranjas     3\n",
       "uvas        22\n",
       "dtype: int64"
      ]
     },
     "execution_count": 12,
     "metadata": {},
     "output_type": "execute_result"
    }
   ],
   "source": [
    "stock.index = ['manzanas', 'naranjas', 'uvas']\n",
    "stock"
   ]
  },
  {
   "cell_type": "markdown",
   "metadata": {},
   "source": [
    "La presentación por defecto muestra una entrada por línea, con la etiqueta a la izquierda, y el valor a la derecha. "
   ]
  },
  {
   "cell_type": "code",
   "execution_count": 13,
   "metadata": {},
   "outputs": [
    {
     "data": {
      "text/plain": [
       "manzanas    10\n",
       "naranjas     3\n",
       "uvas        22\n",
       "dtype: int64"
      ]
     },
     "execution_count": 13,
     "metadata": {},
     "output_type": "execute_result"
    }
   ],
   "source": [
    "stock"
   ]
  },
  {
   "cell_type": "code",
   "execution_count": 14,
   "metadata": {},
   "outputs": [
    {
     "data": {
      "text/plain": [
       "pandas.core.series.Series"
      ]
     },
     "execution_count": 14,
     "metadata": {},
     "output_type": "execute_result"
    }
   ],
   "source": [
    "type(stock)"
   ]
  },
  {
   "cell_type": "markdown",
   "metadata": {},
   "source": [
    "Los índices se pueden recuperar llamando al atributo `index` del objeto `series`:"
   ]
  },
  {
   "cell_type": "code",
   "execution_count": 15,
   "metadata": {},
   "outputs": [
    {
     "data": {
      "text/plain": [
       "Index(['manzanas', 'naranjas', 'uvas'], dtype='object')"
      ]
     },
     "execution_count": 15,
     "metadata": {},
     "output_type": "execute_result"
    }
   ],
   "source": [
    "stock.index"
   ]
  },
  {
   "cell_type": "code",
   "execution_count": 16,
   "metadata": {},
   "outputs": [
    {
     "data": {
      "text/plain": [
       "pandas.core.indexes.base.Index"
      ]
     },
     "execution_count": 16,
     "metadata": {},
     "output_type": "execute_result"
    }
   ],
   "source": [
    "type(stock.index)"
   ]
  },
  {
   "cell_type": "markdown",
   "metadata": {},
   "source": [
    "También podemos acceder a la lista de valores de cada item, usando el atributo `values`: "
   ]
  },
  {
   "cell_type": "code",
   "execution_count": 17,
   "metadata": {},
   "outputs": [
    {
     "data": {
      "text/plain": [
       "array([10,  3, 22], dtype=int64)"
      ]
     },
     "execution_count": 17,
     "metadata": {},
     "output_type": "execute_result"
    }
   ],
   "source": [
    "stock.values"
   ]
  },
  {
   "cell_type": "markdown",
   "metadata": {},
   "source": [
    "observar que en realidad la lista de valores son un arreglo numpy:"
   ]
  },
  {
   "cell_type": "code",
   "execution_count": 18,
   "metadata": {},
   "outputs": [
    {
     "data": {
      "text/plain": [
       "numpy.ndarray"
      ]
     },
     "execution_count": 18,
     "metadata": {},
     "output_type": "execute_result"
    }
   ],
   "source": [
    "type(stock.values)"
   ]
  },
  {
   "cell_type": "markdown",
   "metadata": {},
   "source": [
    "Con respecto al acceso a los datos, el objeto `Series` se comporta como un diccionario:"
   ]
  },
  {
   "cell_type": "code",
   "execution_count": 19,
   "metadata": {},
   "outputs": [
    {
     "name": "stdout",
     "output_type": "stream",
     "text": [
      "manzanas    10\n",
      "naranjas     3\n",
      "uvas        22\n",
      "dtype: int64\n"
     ]
    }
   ],
   "source": [
    "print(stock)"
   ]
  },
  {
   "cell_type": "code",
   "execution_count": 20,
   "metadata": {},
   "outputs": [
    {
     "data": {
      "text/plain": [
       "10"
      ]
     },
     "execution_count": 20,
     "metadata": {},
     "output_type": "execute_result"
    }
   ],
   "source": [
    "stock['manzanas']"
   ]
  },
  {
   "cell_type": "code",
   "execution_count": 21,
   "metadata": {},
   "outputs": [],
   "source": [
    "stock['papas'] = 41    # añadiendo valores\n",
    "stock['pepinos'] = 1"
   ]
  },
  {
   "cell_type": "code",
   "execution_count": 22,
   "metadata": {},
   "outputs": [
    {
     "name": "stdout",
     "output_type": "stream",
     "text": [
      "manzanas    10\n",
      "naranjas     3\n",
      "uvas        22\n",
      "papas       41\n",
      "pepinos      1\n",
      "dtype: int64\n"
     ]
    }
   ],
   "source": [
    "print(stock)"
   ]
  },
  {
   "cell_type": "code",
   "execution_count": 23,
   "metadata": {},
   "outputs": [
    {
     "data": {
      "text/plain": [
       "manzanas    10\n",
       "naranjas     3\n",
       "uvas        22\n",
       "papas       41\n",
       "pepinos      1\n",
       "dtype: int64"
      ]
     },
     "execution_count": 23,
     "metadata": {},
     "output_type": "execute_result"
    }
   ],
   "source": [
    "stock"
   ]
  },
  {
   "cell_type": "markdown",
   "metadata": {},
   "source": [
    "Podemos graficar los datos en un gráfico de barras: "
   ]
  },
  {
   "cell_type": "code",
   "execution_count": 24,
   "metadata": {},
   "outputs": [
    {
     "data": {
      "image/png": "[encoded data removed]",
      "text/plain": [
       "<Figure size 640x480 with 1 Axes>"
      ]
     },
     "metadata": {},
     "output_type": "display_data"
    }
   ],
   "source": [
    "#%matplotlib inline\n",
    "stock.plot(kind='bar');"
   ]
  },
  {
   "cell_type": "markdown",
   "metadata": {},
   "source": [
    "Podemos ordenar los datos de acuerdo a los valores en la Serie (y luego graficar para visualizar):"
   ]
  },
  {
   "cell_type": "code",
   "execution_count": 25,
   "metadata": {},
   "outputs": [
    {
     "data": {
      "text/plain": [
       "pepinos      1\n",
       "naranjas     3\n",
       "manzanas    10\n",
       "uvas        22\n",
       "papas       41\n",
       "dtype: int64"
      ]
     },
     "execution_count": 25,
     "metadata": {},
     "output_type": "execute_result"
    }
   ],
   "source": [
    "stock.sort_values()  # Ordena de acuerdoa los valores (de menor a mayor)"
   ]
  },
  {
   "cell_type": "code",
   "execution_count": 26,
   "metadata": {},
   "outputs": [
    {
     "data": {
      "text/plain": [
       "manzanas    10\n",
       "naranjas     3\n",
       "uvas        22\n",
       "papas       41\n",
       "pepinos      1\n",
       "dtype: int64"
      ]
     },
     "execution_count": 26,
     "metadata": {},
     "output_type": "execute_result"
    }
   ],
   "source": [
    "stock # No modifica stock, devuelve una nueva Serie"
   ]
  },
  {
   "cell_type": "code",
   "execution_count": 27,
   "metadata": {},
   "outputs": [
    {
     "data": {
      "text/plain": [
       "manzanas    10\n",
       "naranjas     3\n",
       "papas       41\n",
       "pepinos      1\n",
       "uvas        22\n",
       "dtype: int64"
      ]
     },
     "execution_count": 27,
     "metadata": {},
     "output_type": "execute_result"
    }
   ],
   "source": [
    "stock.sort_index()  # Ordena de acuerdo a los índices, por orden alfabetico"
   ]
  },
  {
   "cell_type": "markdown",
   "metadata": {},
   "source": [
    "o ordenar los datos de acuerdo al orden alfabético de los índices:"
   ]
  },
  {
   "cell_type": "code",
   "execution_count": 28,
   "metadata": {},
   "outputs": [
    {
     "data": {
      "image/png": "[encoded data removed]",
      "text/plain": [
       "<Figure size 640x480 with 1 Axes>"
      ]
     },
     "metadata": {},
     "output_type": "display_data"
    }
   ],
   "source": [
    "stock.sort_values().plot(kind='bar');"
   ]
  },
  {
   "cell_type": "markdown",
   "metadata": {},
   "source": [
    "El objeto `Series` contiene varios métodos numericos, incluyendo `mean` (promedio) y `sum` (suma):"
   ]
  },
  {
   "cell_type": "code",
   "execution_count": 29,
   "metadata": {},
   "outputs": [
    {
     "data": {
      "text/plain": [
       "77"
      ]
     },
     "execution_count": 29,
     "metadata": {},
     "output_type": "execute_result"
    }
   ],
   "source": [
    "stock.sum()"
   ]
  },
  {
   "cell_type": "code",
   "execution_count": 30,
   "metadata": {},
   "outputs": [
    {
     "data": {
      "text/plain": [
       "15.4"
      ]
     },
     "execution_count": 30,
     "metadata": {},
     "output_type": "execute_result"
    }
   ],
   "source": [
    "stock.mean()"
   ]
  },
  {
   "cell_type": "markdown",
   "metadata": {},
   "source": [
    "También se comporta como una secuencia, en el hecho que la función `len` entrega el número de datos en el objeto: "
   ]
  },
  {
   "cell_type": "code",
   "execution_count": 31,
   "metadata": {},
   "outputs": [
    {
     "data": {
      "text/plain": [
       "5"
      ]
     },
     "execution_count": 31,
     "metadata": {},
     "output_type": "execute_result"
    }
   ],
   "source": [
    "len(stock)"
   ]
  },
  {
   "cell_type": "markdown",
   "metadata": {},
   "source": [
    "### Uso de la memoria"
   ]
  },
  {
   "cell_type": "markdown",
   "metadata": {},
   "source": [
    "Para conjuntos de datos más grandes, podría ser importante saber cuántos bytes de memoria requiere guardar la serie. Se puede acceder a esta información con el siguiente comando:"
   ]
  },
  {
   "cell_type": "code",
   "execution_count": 32,
   "metadata": {},
   "outputs": [
    {
     "data": {
      "text/plain": [
       "40"
      ]
     },
     "execution_count": 32,
     "metadata": {},
     "output_type": "execute_result"
    }
   ],
   "source": [
    "stock.nbytes"
   ]
  },
  {
   "cell_type": "markdown",
   "metadata": {},
   "source": [
    "o sobre el arreglo de valores directamente:"
   ]
  },
  {
   "cell_type": "code",
   "execution_count": 33,
   "metadata": {},
   "outputs": [
    {
     "data": {
      "text/plain": [
       "40"
      ]
     },
     "execution_count": 33,
     "metadata": {},
     "output_type": "execute_result"
    }
   ],
   "source": [
    "stock.values.nbytes"
   ]
  },
  {
   "cell_type": "markdown",
   "metadata": {},
   "source": [
    "Son 40 bytes porque tenemos 5 elementos guardados como un int64 (cada uno requiere 8 bytes):"
   ]
  },
  {
   "cell_type": "code",
   "execution_count": 34,
   "metadata": {},
   "outputs": [
    {
     "data": {
      "text/plain": [
       "dtype('int64')"
      ]
     },
     "execution_count": 34,
     "metadata": {},
     "output_type": "execute_result"
    }
   ],
   "source": [
    "stock.dtype"
   ]
  },
  {
   "cell_type": "markdown",
   "metadata": {},
   "source": [
    "El objeto Series requiere memoria adicional. Esta información se puede obrener mediante el comando:"
   ]
  },
  {
   "cell_type": "code",
   "execution_count": 35,
   "metadata": {},
   "outputs": [
    {
     "data": {
      "text/plain": [
       "252"
      ]
     },
     "execution_count": 35,
     "metadata": {},
     "output_type": "execute_result"
    }
   ],
   "source": [
    "stock.memory_usage()"
   ]
  },
  {
   "cell_type": "markdown",
   "metadata": {},
   "source": [
    "--------\n",
    "### Ejercicio\n",
    "\n",
    "Cree una copia de la serie `stock`, llamela `stock2`. Luego agregue dos elementos más con valores a su elección. Calcule el promedio, uso de memoria y haga dos graficos de `stock2`, ordenandolos por cantidades y por índices. "
   ]
  },
  {
   "cell_type": "code",
   "execution_count": 43,
   "metadata": {},
   "outputs": [
    {
     "name": "stdout",
     "output_type": "stream",
     "text": [
      "15.571428571428571\n"
     ]
    }
   ],
   "source": [
    "stock2 = stock\n",
    "stock2['cebolla'] = 20\n",
    "stock2['tomate'] = 12\n",
    "print(stock2.mean())"
   ]
  },
  {
   "cell_type": "code",
   "execution_count": 40,
   "metadata": {},
   "outputs": [
    {
     "data": {
      "image/png": "[encoded data removed]",
      "text/plain": [
       "<Figure size 640x480 with 1 Axes>"
      ]
     },
     "metadata": {},
     "output_type": "display_data"
    }
   ],
   "source": [
    "stock2.sort_values().plot(kind='bar');"
   ]
  },
  {
   "cell_type": "code",
   "execution_count": 41,
   "metadata": {},
   "outputs": [
    {
     "data": {
      "image/png": "[encoded data removed]",
      "text/plain": [
       "<Figure size 640x480 with 1 Axes>"
      ]
     },
     "metadata": {},
     "output_type": "display_data"
    }
   ],
   "source": [
    "stock2.sort_index().plot(kind='bar');"
   ]
  },
  {
   "cell_type": "code",
   "execution_count": 42,
   "metadata": {},
   "outputs": [
    {
     "data": {
      "text/plain": [
       "412"
      ]
     },
     "execution_count": 42,
     "metadata": {},
     "output_type": "execute_result"
    }
   ],
   "source": [
    "stock2.memory_usage()"
   ]
  },
  {
   "cell_type": "markdown",
   "metadata": {},
   "source": [
    "------"
   ]
  },
  {
   "cell_type": "markdown",
   "metadata": {},
   "source": [
    "### Estadísticas"
   ]
  },
  {
   "cell_type": "markdown",
   "metadata": {},
   "source": [
    "Se puede obtener ciertos valores descriptivos de los datos de un objeto `Series` usand el comando `describe()`:"
   ]
  },
  {
   "cell_type": "code",
   "execution_count": 44,
   "metadata": {},
   "outputs": [
    {
     "data": {
      "text/plain": [
       "count     7.000000\n",
       "mean     15.571429\n",
       "std      13.673053\n",
       "min       1.000000\n",
       "25%       6.500000\n",
       "50%      12.000000\n",
       "75%      21.000000\n",
       "max      41.000000\n",
       "dtype: float64"
      ]
     },
     "execution_count": 44,
     "metadata": {},
     "output_type": "execute_result"
    }
   ],
   "source": [
    "stock.describe()"
   ]
  },
  {
   "cell_type": "markdown",
   "metadata": {},
   "source": [
    "Como es usual, la documentación (`help(stock.describe)`) provee más información, y además se puede recurrir al sitio web de Pandas (`https://pandas.pydata.org`) para más información."
   ]
  },
  {
   "cell_type": "markdown",
   "metadata": {},
   "source": [
    "### Graficando datos"
   ]
  },
  {
   "cell_type": "markdown",
   "metadata": {},
   "source": [
    "Se puede hacer gráficos de manera muy fácil usando el método `plot()` del objeto Series. Ya vimos antes como hacer un gráfico de barras. El método `Series.plot()` acepta un argumento `kind`, como por ejemplo `kind=\"bar\"`. Está también disponible el método equivalente `Series.plot.bar()`:\n"
   ]
  },
  {
   "cell_type": "code",
   "execution_count": 45,
   "metadata": {},
   "outputs": [
    {
     "data": {
      "image/png": "[encoded data removed]",
      "text/plain": [
       "<Figure size 640x480 with 1 Axes>"
      ]
     },
     "metadata": {},
     "output_type": "display_data"
    }
   ],
   "source": [
    "stock.plot();"
   ]
  },
  {
   "cell_type": "code",
   "execution_count": 46,
   "metadata": {},
   "outputs": [
    {
     "data": {
      "image/png": "[encoded data removed]",
      "text/plain": [
       "<Figure size 640x480 with 1 Axes>"
      ]
     },
     "metadata": {},
     "output_type": "display_data"
    }
   ],
   "source": [
    "stock.plot(kind=\"bar\");"
   ]
  },
  {
   "cell_type": "code",
   "execution_count": 47,
   "metadata": {},
   "outputs": [
    {
     "data": {
      "image/png": "[encoded data removed]",
      "text/plain": [
       "<Figure size 640x480 with 1 Axes>"
      ]
     },
     "metadata": {},
     "output_type": "display_data"
    }
   ],
   "source": [
    "stock.plot.bar();"
   ]
  },
  {
   "cell_type": "markdown",
   "metadata": {},
   "source": [
    "Otros ejemplos:"
   ]
  },
  {
   "cell_type": "code",
   "execution_count": 48,
   "metadata": {},
   "outputs": [
    {
     "data": {
      "image/png": "[encoded data removed]",
      "text/plain": [
       "<Figure size 640x480 with 1 Axes>"
      ]
     },
     "metadata": {},
     "output_type": "display_data"
    }
   ],
   "source": [
    "stock.plot.pie();"
   ]
  },
  {
   "cell_type": "markdown",
   "metadata": {},
   "source": [
    "Para modificar el gráfico, podemos obtener parámetros del objeto y modificarlos: "
   ]
  },
  {
   "cell_type": "code",
   "execution_count": 49,
   "metadata": {},
   "outputs": [
    {
     "data": {
      "image/png": "[encoded data removed]",
      "text/plain": [
       "<Figure size 640x480 with 1 Axes>"
      ]
     },
     "metadata": {},
     "output_type": "display_data"
    }
   ],
   "source": [
    "ax = stock.plot.pie()\n",
    "ax.set_ylabel(None);\n",
    "ax.set_xlabel(\"Este es el texto del eje x\")\n",
    "ax.set_title(\"Grafico del Stock\");"
   ]
  },
  {
   "cell_type": "markdown",
   "metadata": {},
   "source": [
    "Observación: estos gráficos son del tipo que se genera con el módulo `matplotlib.pyplot`."
   ]
  },
  {
   "cell_type": "markdown",
   "metadata": {},
   "source": [
    "### Valores faltantes\n",
    "\n",
    "Los conjuntos de datos \"reales\" tienden a ser incompletos. Tratar con datos faltantes es un topico importante en ciencias de datos. La convención en Pandas es que el float `NaN`(llamado así por `N`ot `a` `N`umber) representa puntos faltantes en los datos. Por ejemplo, si tenemos una Serie para el stock, pero no sabemos el valor de `manzanas`, podemos reemplazar la cantidad por `NaN`.\n",
    "\n",
    "En Python, el valor especial `NaN` puede ser creado usando el comando `float('nan')` o usando `numpy.nan` si se importa el módulo numpy,\n"
   ]
  },
  {
   "cell_type": "code",
   "execution_count": 50,
   "metadata": {},
   "outputs": [],
   "source": [
    "stock['manzanas'] = float('nan')"
   ]
  },
  {
   "cell_type": "code",
   "execution_count": 51,
   "metadata": {},
   "outputs": [
    {
     "data": {
      "text/plain": [
       "manzanas     NaN\n",
       "naranjas     3.0\n",
       "uvas        22.0\n",
       "papas       41.0\n",
       "pepinos      1.0\n",
       "cebolla     20.0\n",
       "tomate      12.0\n",
       "dtype: float64"
      ]
     },
     "execution_count": 51,
     "metadata": {},
     "output_type": "execute_result"
    }
   ],
   "source": [
    "stock"
   ]
  },
  {
   "cell_type": "markdown",
   "metadata": {},
   "source": [
    "Notar que el valor `dtype` de la Serie `stock` cambió de `int64`a `float64` cuando asignamos `NaN` a `manzanas`: toda la serie se transforma en float, porque `NaN` solo se define como un float. \n",
    "\n",
    "(Hay un propósito en crear el objeto `NaN` en Pandas, que explica el por qué se fija la limitación anterior).\n",
    "\n",
    "Asumamos que necesitamos calcular cuántos items de `stock` tenemos usando la función `sum`: "
   ]
  },
  {
   "cell_type": "code",
   "execution_count": 52,
   "metadata": {},
   "outputs": [
    {
     "data": {
      "text/plain": [
       "array([nan,  3., 22., 41.,  1., 20., 12.])"
      ]
     },
     "execution_count": 52,
     "metadata": {},
     "output_type": "execute_result"
    }
   ],
   "source": [
    "stock.values"
   ]
  },
  {
   "cell_type": "markdown",
   "metadata": {},
   "source": [
    "Una situación común es que se tengan datos faltantes en una Serie o DataFrame (veremos qué son más adelante) y que queramos procesar estos datos de todas maneras, tratando a los valores faltantes de un modo especial. "
   ]
  },
  {
   "cell_type": "code",
   "execution_count": 53,
   "metadata": {},
   "outputs": [
    {
     "data": {
      "text/plain": [
       "99.0"
      ]
     },
     "execution_count": 53,
     "metadata": {},
     "output_type": "execute_result"
    }
   ],
   "source": [
    "stock.sum()"
   ]
  },
  {
   "cell_type": "markdown",
   "metadata": {},
   "source": [
    "En el ejemplo anterior, `sum` simplemente ignora los valores `NaN` en el total. "
   ]
  },
  {
   "cell_type": "markdown",
   "metadata": {},
   "source": [
    "También podemos *limpiar* al objeto Series, removiendo todas las entradas que tengan un valor `NaN`: "
   ]
  },
  {
   "cell_type": "code",
   "execution_count": 54,
   "metadata": {},
   "outputs": [
    {
     "data": {
      "text/plain": [
       "naranjas     3.0\n",
       "uvas        22.0\n",
       "papas       41.0\n",
       "pepinos      1.0\n",
       "cebolla     20.0\n",
       "tomate      12.0\n",
       "dtype: float64"
      ]
     },
     "execution_count": 54,
     "metadata": {},
     "output_type": "execute_result"
    }
   ],
   "source": [
    "stock.dropna()"
   ]
  },
  {
   "cell_type": "code",
   "execution_count": 55,
   "metadata": {},
   "outputs": [
    {
     "data": {
      "text/plain": [
       "manzanas     NaN\n",
       "naranjas     3.0\n",
       "uvas        22.0\n",
       "papas       41.0\n",
       "pepinos      1.0\n",
       "cebolla     20.0\n",
       "tomate      12.0\n",
       "dtype: float64"
      ]
     },
     "execution_count": 55,
     "metadata": {},
     "output_type": "execute_result"
    }
   ],
   "source": [
    "stock"
   ]
  },
  {
   "cell_type": "code",
   "execution_count": 56,
   "metadata": {},
   "outputs": [
    {
     "data": {
      "text/plain": [
       "16.5"
      ]
     },
     "execution_count": 56,
     "metadata": {},
     "output_type": "execute_result"
    }
   ],
   "source": [
    "stock.mean()  # Para calcular el promedio, ignora las filas que son NaN (no las toma como 0)"
   ]
  },
  {
   "cell_type": "code",
   "execution_count": 57,
   "metadata": {},
   "outputs": [
    {
     "data": {
      "text/plain": [
       "16.5"
      ]
     },
     "execution_count": 57,
     "metadata": {},
     "output_type": "execute_result"
    }
   ],
   "source": [
    "stock.dropna().mean()"
   ]
  },
  {
   "cell_type": "code",
   "execution_count": 58,
   "metadata": {},
   "outputs": [
    {
     "data": {
      "text/plain": [
       "14.142857142857142"
      ]
     },
     "execution_count": 58,
     "metadata": {},
     "output_type": "execute_result"
    }
   ],
   "source": [
    "stock.sum()/len(stock)  # Aquí divido por 5 (es como si el valor NaN fuese 0)"
   ]
  },
  {
   "cell_type": "markdown",
   "metadata": {},
   "source": [
    "### Acceso a los datos en Series: explícito e implícito (`loc` e `iloc`)"
   ]
  },
  {
   "cell_type": "code",
   "execution_count": 59,
   "metadata": {},
   "outputs": [
    {
     "data": {
      "text/plain": [
       "manzanas     NaN\n",
       "naranjas     3.0\n",
       "uvas        22.0\n",
       "papas       41.0\n",
       "pepinos      1.0\n",
       "cebolla     20.0\n",
       "tomate      12.0\n",
       "dtype: float64"
      ]
     },
     "execution_count": 59,
     "metadata": {},
     "output_type": "execute_result"
    }
   ],
   "source": [
    "stock"
   ]
  },
  {
   "cell_type": "markdown",
   "metadata": {},
   "source": [
    "#### Indexando\n",
    "\n",
    "Podemos acceder a valores individuales a través de sus índices, así como si las Series fuese un diccionario: "
   ]
  },
  {
   "cell_type": "code",
   "execution_count": 61,
   "metadata": {},
   "outputs": [
    {
     "data": {
      "text/plain": [
       "22.0"
      ]
     },
     "execution_count": 61,
     "metadata": {},
     "output_type": "execute_result"
    }
   ],
   "source": [
    "stock['uvas']"
   ]
  },
  {
   "cell_type": "markdown",
   "metadata": {},
   "source": [
    "Sin embargo, hay una forma equivalente y recomendada de hacer esta recuperación usando el método `loc` (por LOCation):"
   ]
  },
  {
   "cell_type": "code",
   "execution_count": 62,
   "metadata": {},
   "outputs": [
    {
     "data": {
      "text/plain": [
       "22.0"
      ]
     },
     "execution_count": 62,
     "metadata": {},
     "output_type": "execute_result"
    }
   ],
   "source": [
    "stock.loc['uvas']"
   ]
  },
  {
   "cell_type": "markdown",
   "metadata": {},
   "source": [
    "Pandas también permite usar índices enteros en las Series. Esto se conoce como *indexación implícita* (implicit indexing), ya que por ejemplo el objeto Series `stock` no usa enteros como índices, sino que los nombres de las frutas y verduras. \n",
    "\n",
    "Por ejemplo, podemos recuperar el valor de `plátanos` a través del índice implícito 2, porque `plátanos` está en la fila 3 del objet `stock` (es decir, aquí también contamos desde cero):"
   ]
  },
  {
   "cell_type": "code",
   "execution_count": 63,
   "metadata": {},
   "outputs": [
    {
     "data": {
      "text/plain": [
       "22.0"
      ]
     },
     "execution_count": 63,
     "metadata": {},
     "output_type": "execute_result"
    }
   ],
   "source": [
    "stock[2]  # Esto es lo mismo que decir stock[\"plátanos\"]"
   ]
  },
  {
   "cell_type": "markdown",
   "metadata": {},
   "source": [
    "En este ejemplo, el comando anterior funciona bien y parece conveniente, pero puede ser muy confuso si es que los índices de los objetos consisten en números enteros. Por esa razon, la forma explícita (y recomendada) de usar este tipo de índices es a través del método `iloc` (ImplicitLOCation): "
   ]
  },
  {
   "cell_type": "code",
   "execution_count": 64,
   "metadata": {},
   "outputs": [
    {
     "data": {
      "text/plain": [
       "22.0"
      ]
     },
     "execution_count": 64,
     "metadata": {},
     "output_type": "execute_result"
    }
   ],
   "source": [
    "stock.iloc[2]  # Se usa únicamente para recuperar el valor en el índice implícito 2"
   ]
  },
  {
   "cell_type": "markdown",
   "metadata": {},
   "source": [
    "Mostremos un ejemplo \"complicado\" que justifica el uso de loc e iloc:"
   ]
  },
  {
   "cell_type": "code",
   "execution_count": 65,
   "metadata": {
    "scrolled": true
   },
   "outputs": [
    {
     "data": {
      "text/plain": [
       "3     23\n",
       "2     85\n",
       "1    100\n",
       "dtype: int64"
      ]
     },
     "execution_count": 65,
     "metadata": {},
     "output_type": "execute_result"
    }
   ],
   "source": [
    "serieComplicada = pd.Series([23,85,100],index = [3,2,1])\n",
    "serieComplicada"
   ]
  },
  {
   "cell_type": "code",
   "execution_count": 66,
   "metadata": {},
   "outputs": [
    {
     "data": {
      "text/plain": [
       "85"
      ]
     },
     "execution_count": 66,
     "metadata": {},
     "output_type": "execute_result"
    }
   ],
   "source": [
    "serieComplicada[2] # ¿Qué debería devolver?"
   ]
  },
  {
   "cell_type": "markdown",
   "metadata": {},
   "source": [
    "Vemos que privilegia el nombre del índice (indexación explícita).. pero puede ser ambiguo..."
   ]
  },
  {
   "cell_type": "code",
   "execution_count": 67,
   "metadata": {},
   "outputs": [
    {
     "data": {
      "text/plain": [
       "85"
      ]
     },
     "execution_count": 67,
     "metadata": {},
     "output_type": "execute_result"
    }
   ],
   "source": [
    "serieComplicada.loc[2] # Con esto nos aseguramos recuperar el valor de índice 2"
   ]
  },
  {
   "cell_type": "code",
   "execution_count": 68,
   "metadata": {},
   "outputs": [
    {
     "data": {
      "text/plain": [
       "100"
      ]
     },
     "execution_count": 68,
     "metadata": {},
     "output_type": "execute_result"
    }
   ],
   "source": [
    "serieComplicada.iloc[2] \n",
    "# Con esto nos aseguramos de recuperar el \"tercer\" valor (porque cuenta desde 0)"
   ]
  },
  {
   "cell_type": "markdown",
   "metadata": {},
   "source": [
    "#### Cortando"
   ]
  },
  {
   "cell_type": "code",
   "execution_count": 69,
   "metadata": {},
   "outputs": [
    {
     "data": {
      "text/plain": [
       "manzanas     NaN\n",
       "naranjas     3.0\n",
       "uvas        22.0\n",
       "papas       41.0\n",
       "pepinos      1.0\n",
       "cebolla     20.0\n",
       "tomate      12.0\n",
       "dtype: float64"
      ]
     },
     "execution_count": 69,
     "metadata": {},
     "output_type": "execute_result"
    }
   ],
   "source": [
    "stock"
   ]
  },
  {
   "cell_type": "markdown",
   "metadata": {},
   "source": [
    "También podemos cortar la serie: "
   ]
  },
  {
   "cell_type": "code",
   "execution_count": 70,
   "metadata": {},
   "outputs": [
    {
     "data": {
      "text/plain": [
       "naranjas     3.0\n",
       "uvas        22.0\n",
       "papas       41.0\n",
       "dtype: float64"
      ]
     },
     "execution_count": 70,
     "metadata": {},
     "output_type": "execute_result"
    }
   ],
   "source": [
    "stock.loc['naranjas':'papas']"
   ]
  },
  {
   "cell_type": "markdown",
   "metadata": {},
   "source": [
    "...incluso saltar de dos en dos: "
   ]
  },
  {
   "cell_type": "code",
   "execution_count": 71,
   "metadata": {},
   "outputs": [
    {
     "data": {
      "text/plain": [
       "manzanas     NaN\n",
       "uvas        22.0\n",
       "pepinos      1.0\n",
       "dtype: float64"
      ]
     },
     "execution_count": 71,
     "metadata": {},
     "output_type": "execute_result"
    }
   ],
   "source": [
    "stock.loc['manzanas':'pepinos':2]"
   ]
  },
  {
   "cell_type": "code",
   "execution_count": 74,
   "metadata": {},
   "outputs": [
    {
     "data": {
      "text/plain": [
       "manzanas     NaN\n",
       "naranjas     3.0\n",
       "pepinos      1.0\n",
       "cebolla     20.0\n",
       "tomate      12.0\n",
       "dtype: float64"
      ]
     },
     "execution_count": 74,
     "metadata": {},
     "output_type": "execute_result"
    }
   ],
   "source": [
    "stock.loc[[True,True,False,False,True, True, True]] # Recuperamos las filas con valor True"
   ]
  },
  {
   "cell_type": "code",
   "execution_count": 75,
   "metadata": {},
   "outputs": [
    {
     "data": {
      "text/plain": [
       "manzanas    False\n",
       "naranjas    False\n",
       "uvas         True\n",
       "papas        True\n",
       "pepinos     False\n",
       "cebolla      True\n",
       "tomate       True\n",
       "dtype: bool"
      ]
     },
     "execution_count": 75,
     "metadata": {},
     "output_type": "execute_result"
    }
   ],
   "source": [
    "stock > 10 # Podemos hacer comparaciones"
   ]
  },
  {
   "cell_type": "code",
   "execution_count": 76,
   "metadata": {},
   "outputs": [
    {
     "data": {
      "text/plain": [
       "uvas       22.0\n",
       "papas      41.0\n",
       "cebolla    20.0\n",
       "tomate     12.0\n",
       "dtype: float64"
      ]
     },
     "execution_count": 76,
     "metadata": {},
     "output_type": "execute_result"
    }
   ],
   "source": [
    "stock.loc[stock > 10] # Podemos usarlo para cortar una serie"
   ]
  },
  {
   "cell_type": "markdown",
   "metadata": {},
   "source": [
    "### Manipulación de datos"
   ]
  },
  {
   "cell_type": "markdown",
   "metadata": {},
   "source": [
    "Se puede realizar operaciones numericas en las Series para todos los valores al mismo tiempo, del mismo modo que se procesan los arreglos numpy:"
   ]
  },
  {
   "cell_type": "code",
   "execution_count": 77,
   "metadata": {},
   "outputs": [
    {
     "data": {
      "text/plain": [
       "manzanas     NaN\n",
       "naranjas   -13.5\n",
       "uvas         5.5\n",
       "papas       24.5\n",
       "pepinos    -15.5\n",
       "cebolla      3.5\n",
       "tomate      -4.5\n",
       "dtype: float64"
      ]
     },
     "execution_count": 77,
     "metadata": {},
     "output_type": "execute_result"
    }
   ],
   "source": [
    "stock - stock.mean() # Restamos a cada valor el promedio"
   ]
  },
  {
   "cell_type": "code",
   "execution_count": 78,
   "metadata": {},
   "outputs": [
    {
     "data": {
      "text/plain": [
       "manzanas         NaN\n",
       "naranjas    1.732051\n",
       "uvas        4.690416\n",
       "papas       6.403124\n",
       "pepinos     1.000000\n",
       "cebolla     4.472136\n",
       "tomate      3.464102\n",
       "dtype: float64"
      ]
     },
     "execution_count": 78,
     "metadata": {},
     "output_type": "execute_result"
    }
   ],
   "source": [
    "import numpy as np\n",
    "np.sqrt(stock) # Calculamos la raíz cuadrada de cada valor"
   ]
  },
  {
   "cell_type": "markdown",
   "metadata": {},
   "source": [
    "Ademas, Pandas administra de manera inteligente los índices:"
   ]
  },
  {
   "cell_type": "code",
   "execution_count": 79,
   "metadata": {},
   "outputs": [
    {
     "name": "stdout",
     "output_type": "stream",
     "text": [
      "Pedro    1\n",
      "Juan     2\n",
      "dtype: int64\n",
      "\n",
      "Juan     100\n",
      "Pedro    200\n",
      "dtype: int64\n"
     ]
    },
    {
     "data": {
      "text/plain": [
       "Juan     102\n",
       "Pedro    201\n",
       "dtype: int64"
      ]
     },
     "execution_count": 79,
     "metadata": {},
     "output_type": "execute_result"
    }
   ],
   "source": [
    "serie1 = pd.Series([1,2], index= [\"Pedro\",\"Juan\"])\n",
    "print(serie1)\n",
    "serie2 = pd.Series([100,200], index= [\"Juan\",\"Pedro\"])\n",
    "print(\"\")\n",
    "print(serie2)\n",
    "serie1+serie2"
   ]
  },
  {
   "cell_type": "markdown",
   "metadata": {},
   "source": [
    "Incluso cuando hay datos faltantes:"
   ]
  },
  {
   "cell_type": "code",
   "execution_count": 80,
   "metadata": {},
   "outputs": [
    {
     "name": "stdout",
     "output_type": "stream",
     "text": [
      "Pedro     10\n",
      "Juan      20\n",
      "Miguel    50\n",
      "dtype: int64\n"
     ]
    },
    {
     "data": {
      "text/plain": [
       "Juan      120.0\n",
       "Miguel      NaN\n",
       "Pedro     210.0\n",
       "dtype: float64"
      ]
     },
     "execution_count": 80,
     "metadata": {},
     "output_type": "execute_result"
    }
   ],
   "source": [
    "serie3 = pd.Series([10,20,50], index = [\"Pedro\",\"Juan\",\"Miguel\"])\n",
    "print(serie3)\n",
    "serie2+serie3"
   ]
  },
  {
   "cell_type": "code",
   "execution_count": 81,
   "metadata": {},
   "outputs": [
    {
     "data": {
      "text/plain": [
       "['Pedro', 'Juan', 'Miguel']"
      ]
     },
     "execution_count": 81,
     "metadata": {},
     "output_type": "execute_result"
    }
   ],
   "source": [
    "lista_valores = [10,20,50]\n",
    "lista_indices = [\"Pedro\",\"Juan\",\"Miguel\"]\n",
    "\n",
    "serie4 = pd.Series(lista_valores, index = lista_indices)\n",
    "serie4\n",
    "\n",
    "variable = list(serie4.index)\n",
    "variable"
   ]
  },
  {
   "cell_type": "markdown",
   "metadata": {},
   "source": [
    "------\n",
    "### Ejercicios\n",
    "\n",
    "1. Escriba una función `operacion` que reciba dos series `serie1` y `serie2` y que devuelva una serie con los máximos 3 promedios de los elementos que tengan en común cada serie. \n",
    "\n",
    "Por ejemplo, si `serie1` es:\n",
    "```\n",
    "a    1\n",
    "b    2\n",
    "c    3\n",
    "d    4\n",
    "e    5\n",
    "f    6\n",
    "dtype: int64\n",
    "```\n",
    "y `serie2` es:\n",
    "\n",
    "```\n",
    "b    2\n",
    "d   -1\n",
    "a    7\n",
    "u    4\n",
    "e    1\n",
    "dtype: int64\n",
    "```\n",
    "\n",
    "entonces la salida de la función `operacion` es:\n",
    "\n",
    "```\n",
    "b    2.0\n",
    "e    3.0\n",
    "a    4.0\n",
    "dtype: float64\n",
    "```"
   ]
  },
  {
   "cell_type": "code",
   "execution_count": null,
   "metadata": {},
   "outputs": [],
   "source": [
    "# Escriba aquí su solución"
   ]
  },
  {
   "cell_type": "markdown",
   "metadata": {},
   "source": [
    "2. Escriba una función `cuentaChar` que recibe como argumento una serie de strings `serie`, y devuelva una serie con la cantidad de caracteres de cada elemento de `serie`. \n",
    "\n",
    "**HINT**: use herramientas de programación funcional"
   ]
  },
  {
   "cell_type": "code",
   "execution_count": null,
   "metadata": {},
   "outputs": [],
   "source": [
    "# Escriba aquí su solución "
   ]
  },
  {
   "cell_type": "markdown",
   "metadata": {},
   "source": [
    "-----"
   ]
  },
  {
   "cell_type": "markdown",
   "metadata": {},
   "source": [
    "## Data Frame"
   ]
  },
  {
   "cell_type": "markdown",
   "metadata": {},
   "source": [
    "### Ejemplo del Stock - `DataFrame`"
   ]
  },
  {
   "cell_type": "markdown",
   "metadata": {},
   "source": [
    "Luego de introducir el objeto `Series`, nos vamos a enfocar en el segundo tipo de datos importante en Pandas: los `DataFrame`. \n",
    "\n",
    "Como primera descripción, podríamos decir que un `DataFrame` es similar a una planilla de cálculo: contiene filas y columnas. \n",
    "\n",
    "Las Series son un caso especiales de los Data Frames, en los cuales solo hay una columna. \n",
    "\n",
    "Continuemos con el ejemplo del stock:"
   ]
  },
  {
   "cell_type": "code",
   "execution_count": null,
   "metadata": {},
   "outputs": [],
   "source": [
    "stock"
   ]
  },
  {
   "cell_type": "markdown",
   "metadata": {},
   "source": [
    "Supongamos que además de llevar la cuenta de cuántos objetos de cada tipo tenemos en stock, tenemos otra Serie con los precios por unidad a los que se vende cada item:"
   ]
  },
  {
   "cell_type": "code",
   "execution_count": null,
   "metadata": {},
   "outputs": [],
   "source": [
    "precio = pd.Series({'manzanas': 0.55, 'plátanos': 0.50, 'pepinos' : 0.99, 'papas' : 0.17, 'naranjas': 1.76})\n",
    "precio"
   ]
  },
  {
   "cell_type": "markdown",
   "metadata": {},
   "source": [
    "El objeto `DataFrame` nos permite trabajar con las dos series juntas. De hecho, una forma conveniente de crear un objeto `DataFrame` es combinando un cierto número de series como lo hacemos a continuación:"
   ]
  },
  {
   "cell_type": "code",
   "execution_count": null,
   "metadata": {},
   "outputs": [],
   "source": [
    "shop = pd.DataFrame()   # Creamos un DataFrame vacío\n",
    "shop[\"Stock\"] = stock # Creamos la columna titulada \"Stock\" con los datos de la variable stock\n",
    "shop"
   ]
  },
  {
   "cell_type": "code",
   "execution_count": null,
   "metadata": {},
   "outputs": [],
   "source": [
    "shop[\"Precio\"] = precio # Creamos la columna titulada \"Precio\" con los datos de la variable precio\n",
    "shop"
   ]
  },
  {
   "cell_type": "markdown",
   "metadata": {},
   "source": [
    "Dado que ambas series tenían los mismos índices, nuestros datos se alinearon automáticamente en `DataFrame` de nombre `shop`, aún cuando los datos estaban almacenados en distinto orden en `precio` y `stock`.\n"
   ]
  },
  {
   "cell_type": "markdown",
   "metadata": {},
   "source": [
    "Hay una forma abreviada de construir el dataframe anterior, usando diccionarios:"
   ]
  },
  {
   "cell_type": "code",
   "execution_count": null,
   "metadata": {},
   "outputs": [],
   "source": [
    "shop = pd.DataFrame({'Stock' : stock, 'Precio' : precio})\n",
    "shop"
   ]
  },
  {
   "cell_type": "markdown",
   "metadata": {},
   "source": [
    "Si a una de la series le falta un dato, Pandas va a insertar un `NaN` en los campos correspondientes:"
   ]
  },
  {
   "cell_type": "code",
   "execution_count": null,
   "metadata": {},
   "outputs": [],
   "source": [
    "precio2 = precio.copy()"
   ]
  },
  {
   "cell_type": "code",
   "execution_count": null,
   "metadata": {},
   "outputs": [],
   "source": [
    "precio2['uvas'] = 1.99\n",
    "precio2"
   ]
  },
  {
   "cell_type": "code",
   "execution_count": null,
   "metadata": {},
   "outputs": [],
   "source": [
    "shop3 = pd.DataFrame({'stock' : stock, 'price' : precio2})\n",
    "shop3"
   ]
  },
  {
   "cell_type": "code",
   "execution_count": null,
   "metadata": {},
   "outputs": [],
   "source": [
    "shop3['stock']['uvas']=1\n",
    "shop3"
   ]
  },
  {
   "cell_type": "code",
   "execution_count": null,
   "metadata": {},
   "outputs": [],
   "source": [
    "shop3[['stock','price']]"
   ]
  },
  {
   "cell_type": "code",
   "execution_count": null,
   "metadata": {},
   "outputs": [],
   "source": [
    "shop3.index"
   ]
  },
  {
   "cell_type": "markdown",
   "metadata": {},
   "source": [
    "### Accediendo a los datos en un `DataFrame`"
   ]
  },
  {
   "cell_type": "code",
   "execution_count": null,
   "metadata": {},
   "outputs": [],
   "source": [
    "shop"
   ]
  },
  {
   "cell_type": "markdown",
   "metadata": {},
   "source": [
    "Cada fila de un data frame tiene un índice, que es el mismo para todas las columnas, y que se muestra en negritas en la primera columna. También podemos acceder a los índices con el comando:"
   ]
  },
  {
   "cell_type": "code",
   "execution_count": null,
   "metadata": {},
   "outputs": [],
   "source": [
    "shop.index"
   ]
  },
  {
   "cell_type": "code",
   "execution_count": null,
   "metadata": {},
   "outputs": [],
   "source": [
    "shop.columns"
   ]
  },
  {
   "cell_type": "code",
   "execution_count": null,
   "metadata": {},
   "outputs": [],
   "source": [
    "type(shop.columns)"
   ]
  },
  {
   "cell_type": "code",
   "execution_count": null,
   "metadata": {},
   "outputs": [],
   "source": [
    "df = pd.DataFrame([[1,1],[0,0]],index=[\"gatos\",\"perros\"],columns=[\"Stock\",\"Precio\"])\n",
    "df"
   ]
  },
  {
   "cell_type": "code",
   "execution_count": null,
   "metadata": {},
   "outputs": [],
   "source": [
    "shop.append(df)"
   ]
  },
  {
   "cell_type": "markdown",
   "metadata": {},
   "source": [
    "### Extrayendo columnas\n",
    "Usando los nombres de las columnas, podemos extraer una columna como un objeto `Series` usando el operador (`[]`):"
   ]
  },
  {
   "cell_type": "code",
   "execution_count": null,
   "metadata": {},
   "outputs": [],
   "source": [
    "shop['Stock']"
   ]
  },
  {
   "cell_type": "code",
   "execution_count": null,
   "metadata": {},
   "outputs": [],
   "source": [
    "shop['Precio']"
   ]
  },
  {
   "cell_type": "code",
   "execution_count": null,
   "metadata": {},
   "outputs": [],
   "source": [
    "type(shop['Precio'])"
   ]
  },
  {
   "cell_type": "markdown",
   "metadata": {},
   "source": [
    "\n",
    "### Extrayendo filas"
   ]
  },
  {
   "cell_type": "markdown",
   "metadata": {},
   "source": [
    "Tenemos dos opciones para extraer una fila de datos. \n",
    "\n",
    "Primero, a través del indexado explícito utilizando la etiqueta de la fila:"
   ]
  },
  {
   "cell_type": "code",
   "execution_count": null,
   "metadata": {},
   "outputs": [],
   "source": [
    "shop"
   ]
  },
  {
   "cell_type": "code",
   "execution_count": null,
   "metadata": {},
   "outputs": [],
   "source": [
    "shop.loc['naranjas']             # una fila se devuelve como una Serie"
   ]
  },
  {
   "cell_type": "code",
   "execution_count": null,
   "metadata": {},
   "outputs": [],
   "source": [
    "type(shop.loc[\"naranjas\"])"
   ]
  },
  {
   "cell_type": "code",
   "execution_count": null,
   "metadata": {},
   "outputs": [],
   "source": [
    "shop.loc['manzanas':'papas']  # se devuelven varias filas como un DataFrame"
   ]
  },
  {
   "cell_type": "markdown",
   "metadata": {},
   "source": [
    "Segundo, podemos usar indexado implícito (como hicimos con las series):"
   ]
  },
  {
   "cell_type": "code",
   "execution_count": null,
   "metadata": {},
   "outputs": [],
   "source": [
    "shop.iloc[0,:]  # Tomo la primera fila, y todas las columnas"
   ]
  },
  {
   "cell_type": "code",
   "execution_count": null,
   "metadata": {},
   "outputs": [],
   "source": [
    "shop.iloc[:,1] # Tomo todas las filas de la segunda columna"
   ]
  },
  {
   "cell_type": "code",
   "execution_count": null,
   "metadata": {},
   "outputs": [],
   "source": [
    "shop.iloc[0:3] # Tomo las filas entre la primera y la tercera"
   ]
  },
  {
   "cell_type": "markdown",
   "metadata": {},
   "source": [
    "#### Advertencia\n",
    "\n",
    "Notemos que hay algunas inconsistencias aquí: el corte explícito con etiquetas (como `shop.loc['manzanas':'papas']`) incluye a `papas`, mientras que en el corte implícito (como `shop.iloc[0:3]`) la fila con índice `3` no se incluye. \n",
    "\n",
    "El comportamiento de `.loc` es conveniente y una buena elección cuando se usan etiquetas como strings, como en nuestro ejemplo `stock`. El comportamiento de `.iloc` refleja el normal comportamiento de Python. "
   ]
  },
  {
   "cell_type": "markdown",
   "metadata": {},
   "source": [
    "### Manipulación de datos"
   ]
  },
  {
   "cell_type": "markdown",
   "metadata": {},
   "source": [
    "La verdadera fortaleza de los data frames es que podemos continuar procesando los datos de manera muy cómoda.\n",
    "\n",
    "Por ejemplo, podemos calcular el valor de los productos que tenemos en stock, y agregar esto como una nueva columna:"
   ]
  },
  {
   "cell_type": "code",
   "execution_count": null,
   "metadata": {},
   "outputs": [],
   "source": [
    "shop"
   ]
  },
  {
   "cell_type": "code",
   "execution_count": null,
   "metadata": {},
   "outputs": [],
   "source": [
    "shop['Valor'] = shop['Precio'] * shop['Stock']\n",
    "shop"
   ]
  },
  {
   "cell_type": "markdown",
   "metadata": {},
   "source": [
    "Podemos entonces calcular la suma para, por ejemplo, estimar el valor total de lo que hay en stock:"
   ]
  },
  {
   "cell_type": "code",
   "execution_count": null,
   "metadata": {},
   "outputs": [],
   "source": [
    "shop['Valor'].sum()"
   ]
  },
  {
   "cell_type": "markdown",
   "metadata": {},
   "source": [
    "Aprocechemos este ejemplo para mostrar como podemos cortar columnas usando el método `.loc`:"
   ]
  },
  {
   "cell_type": "code",
   "execution_count": null,
   "metadata": {},
   "outputs": [],
   "source": [
    "shop.loc[:,\"Precio\":\"Valor\"]"
   ]
  },
  {
   "cell_type": "markdown",
   "metadata": {},
   "source": [
    "...o `.iloc`:"
   ]
  },
  {
   "cell_type": "code",
   "execution_count": null,
   "metadata": {},
   "outputs": [],
   "source": [
    "shop.iloc[:,1:3]"
   ]
  },
  {
   "cell_type": "code",
   "execution_count": null,
   "metadata": {},
   "outputs": [],
   "source": [
    "shop.iloc[:,[2,1,2]]"
   ]
  },
  {
   "cell_type": "code",
   "execution_count": null,
   "metadata": {},
   "outputs": [],
   "source": [
    "shop.iloc[1:4,[2,1,2]]"
   ]
  },
  {
   "cell_type": "code",
   "execution_count": null,
   "metadata": {},
   "outputs": [],
   "source": [
    "shop.iloc[[1,2,2],[2,1,2]]"
   ]
  },
  {
   "cell_type": "code",
   "execution_count": null,
   "metadata": {},
   "outputs": [],
   "source": [
    "shop.iloc[:,[True,False,True]]"
   ]
  },
  {
   "cell_type": "markdown",
   "metadata": {},
   "source": [
    "Si por alguna razón quisieramos cambiar las filas y las columnas, podemos usar el metodo `.transpose()`:"
   ]
  },
  {
   "cell_type": "code",
   "execution_count": null,
   "metadata": {},
   "outputs": [],
   "source": [
    "shop.transpose()"
   ]
  },
  {
   "cell_type": "markdown",
   "metadata": {},
   "source": [
    "# Ejemplo/Ejercicio: Población europea en 2017\n",
    "\n",
    "Aquí hay un segundo ejemplo para demostrar algunos casos de uso de los `DataFrames` de Pandas."
   ]
  },
  {
   "cell_type": "markdown",
   "metadata": {},
   "source": [
    "Primero, obtenemos los datos. Los obtendremos del repositorio de Hans Fangohr, el cual los obtuvo originalmente de EUROSTAT (reference \"demo_gind\")"
   ]
  },
  {
   "cell_type": "code",
   "execution_count": null,
   "metadata": {},
   "outputs": [],
   "source": [
    "# macOS\n",
    "!curl https://fangohr.github.io/data/eurostat/population2017/eu-pop-2017.csv -o eu-pop-2017.csv"
   ]
  },
  {
   "cell_type": "code",
   "execution_count": null,
   "metadata": {},
   "outputs": [],
   "source": [
    "# Windows\n",
    "import urllib.request\n",
    "url = 'https://fangohr.github.io/data/eurostat/population2017/eu-pop-2017.csv'\n",
    "filename = 'eu-pop-2017.csv'\n",
    "urllib.request.urlretrieve(url, filename)"
   ]
  },
  {
   "cell_type": "code",
   "execution_count": null,
   "metadata": {},
   "outputs": [],
   "source": [
    "# Linux\n",
    "#!wget https://fangohr.github.io/data/eurostat/population2017/eu-pop-2017.csv"
   ]
  },
  {
   "cell_type": "markdown",
   "metadata": {},
   "source": [
    "La fuente de datos es un CSV (comma-separated-value file):"
   ]
  },
  {
   "cell_type": "markdown",
   "metadata": {},
   "source": [
    "Pandas tiene un soporte muy completo para leer archivos de diferentes formatos, incluyendo MS Excel, CSV, HDF5 y otros.  Cada rutina de lectura tiene sus propias opciones, para adaptar el proceso de distintas maneras. "
   ]
  },
  {
   "cell_type": "code",
   "execution_count": null,
   "metadata": {},
   "outputs": [],
   "source": [
    "df = pd.read_csv('eu-pop-2017.csv')"
   ]
  },
  {
   "cell_type": "code",
   "execution_count": null,
   "metadata": {},
   "outputs": [],
   "source": [
    "df"
   ]
  },
  {
   "cell_type": "markdown",
   "metadata": {},
   "source": [
    "Podemos usar el comando 'head()' para solo mostrar las primeras 5 líneas de los datos, pero le pueden colocar un entero $n$ para ver las primeras $n$ filas:"
   ]
  },
  {
   "cell_type": "code",
   "execution_count": null,
   "metadata": {},
   "outputs": [],
   "source": [
    "df.head(3)"
   ]
  },
  {
   "cell_type": "markdown",
   "metadata": {},
   "source": [
    "Para conocer el significado de las columnas, tenemos que obtener la *metadata*. En este caso, tenemos la siguiente descripción de los datos:\n",
    "\n",
    "- **geo**: nombre del país en cuestión\n",
    "- **pop17**: la población del país el 1 de enero de 2017\n",
    "- **pop18**: la población del país el 1 de enero de 2018\n",
    "- **births**: el número de nacimientos (vivos) en el país durante el año 2017\n",
    "- **deaths**: el número de fallecidos en el país durante 2017\n",
    "\n",
    "Los datos son provistos para todos los 28 países de la Union Europea (en 2017)."
   ]
  },
  {
   "cell_type": "markdown",
   "metadata": {},
   "source": [
    "Primero, queremos usar el nombre del país como índice. Podemos hacer esto con el comando:"
   ]
  },
  {
   "cell_type": "code",
   "execution_count": null,
   "metadata": {},
   "outputs": [],
   "source": [
    "df2 = df.set_index('geo')"
   ]
  },
  {
   "cell_type": "code",
   "execution_count": null,
   "metadata": {},
   "outputs": [],
   "source": [
    "df2.head()"
   ]
  },
  {
   "cell_type": "markdown",
   "metadata": {},
   "source": [
    "Observar que no podemos cambiar los índices de un DataFrame dado, por lo que el método `set_index()` devuelve un nuevo DataFrame (esto ocurre para muchas otras operaciones).\n",
    "\n",
    "Como alternativa, podemos también agregar un argumento a la función `read_csv` para indicar cuál columna queremos que se use como índice:"
   ]
  },
  {
   "cell_type": "code",
   "execution_count": null,
   "metadata": {},
   "outputs": [],
   "source": [
    "df = pd.read_csv('eu-pop-2017.csv', index_col=\"geo\")"
   ]
  },
  {
   "cell_type": "code",
   "execution_count": null,
   "metadata": {},
   "outputs": [],
   "source": [
    "df.head()"
   ]
  },
  {
   "cell_type": "markdown",
   "metadata": {},
   "source": [
    "Exploramos los datos graficando parte de ella:"
   ]
  },
  {
   "cell_type": "code",
   "execution_count": null,
   "metadata": {},
   "outputs": [],
   "source": [
    "df.plot(kind='bar', y=['pop17']);"
   ]
  },
  {
   "cell_type": "markdown",
   "metadata": {},
   "source": [
    "El gráfico anterior muestra la población que había el 1 de enero de 2017 en cada país. \n",
    "\n",
    "Vamos a mejorar esta visualización de dos maneras:\n",
    "\n",
    "- Queremos contar la población en millones. Podemos hacer esto dividiendo todos los datos por $10^6$. \n",
    "- Sería interesante ordernar los países por orden de tamaño.\n"
   ]
  },
  {
   "cell_type": "code",
   "execution_count": null,
   "metadata": {},
   "outputs": [],
   "source": [
    "df.head()"
   ]
  },
  {
   "cell_type": "code",
   "execution_count": null,
   "metadata": {},
   "outputs": [],
   "source": [
    "df_millones = df / 1e6\n",
    "df_millones.head()"
   ]
  },
  {
   "cell_type": "code",
   "execution_count": null,
   "metadata": {},
   "outputs": [],
   "source": [
    "df_millones['pop17'].sort_values().plot(kind='bar')"
   ]
  },
  {
   "cell_type": "markdown",
   "metadata": {},
   "source": [
    "El ejemplo anterior selecciona una columna del data frame (`['pop17']`), que se entrega como un objeto `Series`. Entonces, podemos ordenar este objeto usando el método `sort_values()` de acuerdo a los valores. Finalmente hacemos el gráfico. "
   ]
  },
  {
   "cell_type": "markdown",
   "metadata": {},
   "source": [
    "De manera alternativa, podemos también crear un gráfico con todo el data frame, pero decir que `pop17` es la columna para ordenar, y que queremos solo la columna de índice `pop17`:\n"
   ]
  },
  {
   "cell_type": "code",
   "execution_count": null,
   "metadata": {},
   "outputs": [],
   "source": [
    "df_millones.sort_values(by='pop17').plot(kind='bar', y='pop17')"
   ]
  },
  {
   "cell_type": "code",
   "execution_count": null,
   "metadata": {},
   "outputs": [],
   "source": [
    "df_millones.sort_values(by='births').plot(kind='bar', y='births')"
   ]
  },
  {
   "cell_type": "code",
   "execution_count": null,
   "metadata": {},
   "outputs": [],
   "source": [
    "# Ordenamos por población, pero graficamos los nacimientos en 2017\n",
    "df_millones.sort_values(by='pop17').plot(kind='bar', y='births')"
   ]
  },
  {
   "cell_type": "markdown",
   "metadata": {},
   "source": [
    "De este modo es fácil graficar más de una columna a la vez:"
   ]
  },
  {
   "cell_type": "code",
   "execution_count": null,
   "metadata": {},
   "outputs": [],
   "source": [
    "# Ordenamos por población, pero graficamos los nacimientos en 2017\n",
    "df_millones.sort_values(by='pop17').plot(kind='bar', y=['births','deaths'])"
   ]
  },
  {
   "cell_type": "markdown",
   "metadata": {},
   "source": [
    "También podemos mejorar el gráfico con los comandos de la librería `matplotlib`:"
   ]
  },
  {
   "cell_type": "code",
   "execution_count": null,
   "metadata": {
    "scrolled": true
   },
   "outputs": [],
   "source": [
    "# figsize indica el tamaño del gráfico\n",
    "ax = df_millones.sort_values(by='pop17').plot(kind='bar', y=['pop17','pop18'], figsize=(10, 4))\n",
    "\n",
    "#ax.set_ylabel(\"Población en 2017 y 2018 [en millones]\")\n",
    "ax.set_ylabel(None)\n",
    "ax.grid()\n",
    "ax.set_xlabel(\"Paises\");  "
   ]
  },
  {
   "cell_type": "markdown",
   "metadata": {},
   "source": [
    "------------------------"
   ]
  },
  {
   "cell_type": "markdown",
   "metadata": {},
   "source": [
    "### Ejercicio:\n",
    "\n",
    "Haga un gráfico con los nacimientos y muertes en 2017 solo con España, Italia, Alemania y Polonia. El gráfico debe estar ordenado por número de nacimientos en 2017."
   ]
  },
  {
   "cell_type": "code",
   "execution_count": null,
   "metadata": {},
   "outputs": [],
   "source": [
    "# Escriba aquí su solución"
   ]
  },
  {
   "cell_type": "markdown",
   "metadata": {},
   "source": [
    "Basados en el número de nacimientos y muertes, podemos calcular el cambio en la población en 2017. Esta cantidad es llamada el \"crecimiento natural\" o \"natural change\":"
   ]
  },
  {
   "cell_type": "code",
   "execution_count": null,
   "metadata": {},
   "outputs": [],
   "source": [
    "# Escriba aquí su solución"
   ]
  },
  {
   "cell_type": "markdown",
   "metadata": {},
   "source": [
    "De aquí podemos ver que el cambio en la población debido a nacimientos y muertes en Italia y Alemania es el más decreciente en términos absolutos."
   ]
  },
  {
   "cell_type": "code",
   "execution_count": null,
   "metadata": {},
   "outputs": [],
   "source": [
    "# Escriba aquí su solución"
   ]
  },
  {
   "cell_type": "markdown",
   "metadata": {},
   "source": [
    "-------\n",
    "### Ejercicio\n",
    "\n",
    "Para relacionar el crecimiento natural de la población, a menudo se utiliza la tasa por año y por 1000 habitantes en el país. Por ejemplo la tasa de natalidad por cada 1000 habitantes (https://en.wikipedia.org/wiki/Birth_rate).\n",
    "\n",
    "1. Escriba un programa que agregue al DataFrame anteriormente creado las columnas `birth-rate`, `death-rate` y `natural-change-rate`. "
   ]
  },
  {
   "cell_type": "code",
   "execution_count": null,
   "metadata": {
    "scrolled": true
   },
   "outputs": [],
   "source": [
    "# Escriba aquí su solución"
   ]
  },
  {
   "cell_type": "markdown",
   "metadata": {},
   "source": [
    "2. Haga un gráfico de la tasa de crecimiento natural por país (`natural-change-rate`) ordenando los valores de menor a mayor.  "
   ]
  },
  {
   "cell_type": "code",
   "execution_count": null,
   "metadata": {},
   "outputs": [],
   "source": [
    "# Escriba aquí su solución"
   ]
  },
  {
   "cell_type": "markdown",
   "metadata": {},
   "source": [
    "3. Haga un gráfico que muestre la tasa de natalidad y la tasa de mortalidad (en el mismo gráfico) de cada país, ordenando los países por tasa de crecimiento natural. "
   ]
  },
  {
   "cell_type": "code",
   "execution_count": null,
   "metadata": {},
   "outputs": [],
   "source": [
    "# Escriba aquí su solución"
   ]
  },
  {
   "cell_type": "markdown",
   "metadata": {},
   "source": [
    "4. Calcule ahora una nueva columna del DataFrame anterior llamada `change`, en la que se almacene la diferencia absoluta de población que había entre el 1 de enero de 2018 con respecto al 1 de enero de 2017. Grafique esos datos por país ordenandolos de menor a mayor."
   ]
  },
  {
   "cell_type": "code",
   "execution_count": null,
   "metadata": {},
   "outputs": [],
   "source": [
    "# Escriba aquí su solución"
   ]
  },
  {
   "cell_type": "markdown",
   "metadata": {},
   "source": [
    "5. Use la información anteriormente calculada para estimar la migración de cada País (`change` - `natural-change`). Grafique en una misma figura los datos de migración y crecimeinto natural por país, ordenandolos por cambio total de menor a mayor. "
   ]
  },
  {
   "cell_type": "code",
   "execution_count": null,
   "metadata": {},
   "outputs": [],
   "source": [
    "# Escriba aquí su solución"
   ]
  },
  {
   "cell_type": "markdown",
   "metadata": {},
   "source": [
    "-----------"
   ]
  },
  {
   "cell_type": "markdown",
   "metadata": {},
   "source": [
    "### Exportar datos\n",
    "\n",
    "Pandas contiene métodos para exportar sus objetos ( `Series` y `DataFrame`) a distintos formatos. Por ejemplo, podemos esribir nuestra Serie `stock` en un csv con el siguiente comando:"
   ]
  },
  {
   "cell_type": "code",
   "execution_count": null,
   "metadata": {},
   "outputs": [],
   "source": [
    "stock.to_csv('stock.csv', header=False)"
   ]
  },
  {
   "cell_type": "code",
   "execution_count": null,
   "metadata": {},
   "outputs": [],
   "source": [
    "!cat stock.csv"
   ]
  },
  {
   "cell_type": "code",
   "execution_count": null,
   "metadata": {},
   "outputs": [],
   "source": [
    "df.to_csv('df.csv')"
   ]
  },
  {
   "cell_type": "code",
   "execution_count": null,
   "metadata": {},
   "outputs": [],
   "source": [
    "!cat df.csv"
   ]
  },
  {
   "cell_type": "markdown",
   "metadata": {},
   "source": [
    "También podemos crear una representación $\\LaTeX$ de una tabla:"
   ]
  },
  {
   "cell_type": "code",
   "execution_count": null,
   "metadata": {},
   "outputs": [],
   "source": [
    "stock.to_latex()"
   ]
  },
  {
   "cell_type": "markdown",
   "metadata": {},
   "source": [
    "## Más información\n",
    "\n",
    "Hay mucho más que podemos decir sobre Pandas. Los siguientes recursos poueden ser útiles, pero hay inumerables otras fuentes disponibles:"
   ]
  },
  {
   "cell_type": "markdown",
   "metadata": {},
   "source": [
    "- Mas información sobre `[]`, `.loc[]` y `.iloc[]` en forma de [Jupyter Notebook]( https://github.com/tdpetrou/Learn-Pandas/blob/master/Learn-Pandas/Selecting%20Subsets/01%20Selecting%20Subsets%20with%20%5B%20%5D%2C%20.loc%20and%20.iloc.ipynb) y [publicación en blog](https://medium.com/dunder-data/selecting-subsets-of-data-in-pandas-6fcd0170be9c).\n",
    "\n",
    "- Jake VanderPlas: Python Data Science Handbook [online](https://jakevdp.github.io/PythonDataScienceHandbook/)"
   ]
  }
 ],
 "metadata": {
  "anaconda-cloud": {},
  "kernelspec": {
   "display_name": "Python 3 (ipykernel)",
   "language": "python",
   "name": "python3"
  },
  "language_info": {
   "codemirror_mode": {
    "name": "ipython",
    "version": 3
   },
   "file_extension": ".py",
   "mimetype": "text/x-python",
   "name": "python",
   "nbconvert_exporter": "python",
   "pygments_lexer": "ipython3",
   "version": "3.9.13"
  }
 },
 "nbformat": 4,
 "nbformat_minor": 4
}
