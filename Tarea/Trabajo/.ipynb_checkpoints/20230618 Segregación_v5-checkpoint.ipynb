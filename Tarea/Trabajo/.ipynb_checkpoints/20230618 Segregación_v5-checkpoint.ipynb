{
 "cells": [
  {
   "cell_type": "markdown",
   "id": "4a47b5eb-07f0-406d-8a52-4765f42a6bdc",
   "metadata": {},
   "source": [
    "# Grupo 3: Modelo Sakoda Schelling\n",
    "\n",
    "**Integrantes:**\n",
    "    \n",
    "- Eduardo Carrasco\n",
    "- Ricardo Corbinaud\n",
    "- Jorge Herrera\n",
    "\n",
    "**Asignatura:** Taller de Manejo y Análisis de Datos."
   ]
  },
  {
   "cell_type": "markdown",
   "id": "617ca407-d5ed-40b8-9879-de6bb75b30d4",
   "metadata": {},
   "source": [
    "## Librerías Base:"
   ]
  },
  {
   "cell_type": "code",
   "execution_count": 1,
   "id": "df42f717-9e77-4dbc-b2e2-81460e7a7b90",
   "metadata": {},
   "outputs": [],
   "source": [
    "import matplotlib.colors as mcolors\n",
    "import os\n",
    "import numpy as np\n",
    "import matplotlib.pyplot as plt\n",
    "import imageio\n",
    "import random\n",
    "from scipy.stats import entropy"
   ]
  },
  {
   "cell_type": "markdown",
   "id": "f0c8a39d-1f12-41a3-93e4-81857b897509",
   "metadata": {},
   "source": [
    "## 1. Definición de funciones (Modelo Tolerancia):"
   ]
  },
  {
   "cell_type": "code",
   "execution_count": 2,
   "id": "bf08e5d1-2e73-4e51-bb46-f8fa7b2e867e",
   "metadata": {},
   "outputs": [],
   "source": [
    "def inicializar_grilla(n, p):\n",
    "    \"\"\"\n",
    "    Inicializa una grilla bidimensional con celdas vacías, azules y rojas según las probabilidades proporcionadas.\n",
    "    Args:\n",
    "        n (int): Tamaño de la grilla (n x n).\n",
    "        p (list): Lista de probabilidades [p_vacía, p_azul, p_roja].\n",
    "\n",
    "    Returns:\n",
    "        np.ndarray: Grilla inicializada.\n",
    "    \"\"\"\n",
    "    grilla = np.random.choice([0, 1, 2], size=(n, n), p=p)\n",
    "    return grilla\n",
    "\n",
    "def vecindad(posicion, grilla):\n",
    "    \"\"\"\n",
    "    Determina una vecindad de Moore\n",
    "    posicion (x,y) : celda a la cual vamos a conocer sus vecinos\n",
    "    grilla : grilla para conocer vecinos\n",
    "    \"\"\"\n",
    "    n,n = grilla.shape\n",
    "    x, y = posicion\n",
    "    vecindad = { \"N\":  grilla[(x-1) % n , y ],\n",
    "                 \"E\":  grilla[ x , (y+1) % n] , \n",
    "                 \"S\":  grilla[(x+1) % n , y ],\n",
    "                 \"O\":  grilla[ x , (y-1) % n],\n",
    "                 \"NO\": grilla[(x-1) % n , (y-1) % n],\n",
    "                 \"NE\": grilla[(x-1) % n , (y+1) % n],\n",
    "                 \"SO\": grilla[(x+1) % n , (y-1) % n],\n",
    "                 \"SE\": grilla[(x+1) % n , (y+1) % n]}\n",
    "    return vecindad\n",
    "\n",
    "def felicidad(posicion, grilla, t):\n",
    "    \"\"\"\n",
    "    Calculo de felicidad de una celda\n",
    "    posicion(x,y) : posicion a al cual vamos a determinar la felicidad, dado si la cantidad de celdas iguales es igual o mayor a t (tolerancia)\n",
    "    grilla : grilla base\n",
    "    t: Cantidad de vecinos que soporta una celula para estar feliz. Si la cantidad de vecinos difetentes a ella es menor a t, la celula esta feliz\n",
    "    \"\"\"\n",
    "    nb = vecindad(posicion, grilla)\n",
    "    cantidad_diferentes = 0\n",
    "    \n",
    "    for i in nb:\n",
    "        if grilla[posicion] != nb[i] and grilla[posicion] != 0 and  nb[i]!=0:  ### REVISAR!!!!!!!!\n",
    "            cantidad_diferentes += 1\n",
    "    if cantidad_diferentes <= t:\n",
    "        return True\n",
    "    elif grilla[posicion] == 0:\n",
    "        return True\n",
    "    else:\n",
    "        return False\n",
    "    \n",
    "def encontrar_celdas_infelices(grilla, t):\n",
    "    \"\"\"\n",
    "    Encuentra todas las celdas infelices en la grilla según la tolerancia t.\n",
    "\n",
    "    Args:\n",
    "        grilla (np.ndarray): Grilla bidimensional.\n",
    "        t (int): Tolerancia.\n",
    "\n",
    "    Returns:\n",
    "        list: Lista de índices de celdas infelices.\n",
    "    \"\"\"\n",
    "    celdas_infelices = []\n",
    "    n = grilla.shape[0]\n",
    "    for i in range(n):\n",
    "        for j in range(n):\n",
    "            posicion = (i,j)\n",
    "            if grilla[posicion ] != 0 and felicidad(posicion, grilla, t) == False:\n",
    "                celdas_infelices.append(posicion)  # Convertir a índice unidimensional\n",
    "    return celdas_infelices\n",
    "\n",
    "def movimiento(posicion, grilla):\n",
    "    x , y = posicion \n",
    "    grilla_aux = grilla.copy()\n",
    "    direccion = [ \"N\", \"E\" ,\"S\",\"O\", \"NO\",\"NE\", \"SO\", \"SE\"]\n",
    "    nb =  vecindad(posicion, grilla_aux)\n",
    "    np.random.shuffle(direccion)\n",
    "    for i in direccion:\n",
    "        if nb[i] == 0:\n",
    "            if i == \"N\":  \n",
    "                grilla_aux[(x-1) % n , y ] = grilla_aux[posicion]\n",
    "                grilla_aux[posicion] =0\n",
    "            elif i == \"E\":  \n",
    "                grilla_aux[ x , (y+1) % n] = grilla_aux[posicion]\n",
    "                grilla_aux[posicion] =0\n",
    "            elif i == \"S\":  \n",
    "                grilla_aux[(x+1) % n , y ] = grilla_aux[posicion]\n",
    "                grilla_aux[posicion] =0\n",
    "            elif i ==\"O\":  \n",
    "                grilla_aux[ x , (y-1) % n] = grilla_aux[posicion]\n",
    "                grilla_aux[posicion] =0\n",
    "            elif i ==\"NO\": \n",
    "                grilla_aux[(x-1) % n , (y-1) % n]= grilla_aux[posicion]\n",
    "                grilla_aux[posicion] =0\n",
    "            elif i ==\"NE\": \n",
    "                grilla_aux[(x-1) % n , (y+1) % n]= grilla_aux[posicion]\n",
    "                grilla_aux[posicion] =0\n",
    "            elif i ==\"SO\": \n",
    "                grilla_aux[(x+1) % n , (y-1) % n]= grilla_aux[posicion]\n",
    "                grilla_aux[posicion] =0\n",
    "            else:\n",
    "                grilla_aux[(x+1) % n , (y+1) % n]= grilla_aux[posicion]\n",
    "                grilla_aux[posicion] =0\n",
    "                \n",
    "    return grilla_aux    \n",
    "    \n",
    "\n",
    "def crear_gif(automata, n, pasos, p):\n",
    "    nombre_archivo = f\"SAKODA_size{n}_pasos{pasos}_dist{p}.gif\"\n",
    "\n",
    "    # Crear un mapa de colores personalizado\n",
    "    cmap = mcolors.ListedColormap(['white', 'blue', 'red'])\n",
    "\n",
    "    imagenes = []\n",
    "    for idx, matriz in enumerate(automata):\n",
    "        imagen = plt.imshow(matriz, cmap=cmap, interpolation='nearest', vmin=0, vmax=2)\n",
    "        titulo = f\"Generación {idx} \\nDistr (vacio,azul,rojo) {p}\"\n",
    "        plt.title(titulo)\n",
    "        plt.axis('on')\n",
    "        filename = \"temp.png\"\n",
    "        plt.savefig(filename)\n",
    "        plt.close()\n",
    "\n",
    "        image = imageio.v2.imread(filename)\n",
    "        os.remove(filename)\n",
    "        imagenes.append(image)\n",
    "\n",
    "    imageio.mimsave(nombre_archivo, imagenes, fps=10)\n",
    "    \n",
    "def modelo_sakoda_schelling(n, p, t, pasos):\n",
    "    \"\"\"\n",
    "    Ejecuta el modelo de Sakoda/Schelling y devuelve una lista de grillas.\n",
    "\n",
    "    Args:\n",
    "        n (int): Tamaño de la grilla (n x n).\n",
    "        p (list): Lista de probabilidades [p_vacía, p_azul, p_roja].\n",
    "        t (int): Tolerancia.\n",
    "        pasos (int): Número de pasos a ejecutar.\n",
    "\n",
    "    Returns:\n",
    "        list: Lista de grillas.\n",
    "    \"\"\"\n",
    "    grilla = inicializar_grilla(n, p)\n",
    "    grillas = [grilla.copy()]  # Agregar la grilla inicial a la lista de grillas\n",
    "    \n",
    "    for s in range(pasos):\n",
    "        celdas_infelices = encontrar_celdas_infelices(grillas[-1], t)\n",
    "        if len(celdas_infelices) == 0:\n",
    "            break\n",
    "        celda = random.choice(celdas_infelices)\n",
    "        nueva_grilla = movimiento(celda, grillas[-1])\n",
    "        grillas.append(nueva_grilla)  # Agregar la grilla actualizada a la lista de grillas\n",
    "    \n",
    "    return grillas\n",
    "\n",
    "def calcular_infelices(automata, t):\n",
    "    \"\"\"\n",
    "    Calcula la cantidad de celdas infelices en cada paso.\n",
    "\n",
    "    Args:\n",
    "        automata (list): Lista de grillas.\n",
    "        t (int): Tolerancia.\n",
    "\n",
    "    Returns:\n",
    "        list: Lista de cantidades de celdas infelices.\n",
    "    \"\"\"\n",
    "    infelices = []\n",
    "    for grilla in automata:\n",
    "        celdas_infelices = encontrar_celdas_infelices(grilla, t)\n",
    "        infelices.append(len(celdas_infelices))\n",
    "    return infelices\n",
    "\n",
    "def calcular_entropia(grilla):\n",
    "    \"\"\"\n",
    "    Calcula la entropía de una grilla.\n",
    "\n",
    "    Args:\n",
    "        grilla (np.ndarray): Grilla bidimensional.\n",
    "\n",
    "    Returns:\n",
    "        float: Entropía de la grilla.\n",
    "    \"\"\"\n",
    "    # Contar el número de cada tipo de celda en la grilla\n",
    "    _, counts = np.unique(grilla[grilla != 0], return_counts=True)\n",
    "\n",
    "    # Calcular y devolver la entropía\n",
    "    return entropy(counts, base=3)\n",
    "\n",
    "def calculo_entropia_por_generacion(automata):\n",
    "    \"\"\"\n",
    "    Calcula la entropía de cada grilla en el autómata.\n",
    "\n",
    "    Args:\n",
    "        automata (list): Lista de grillas.\n",
    "\n",
    "    Returns:\n",
    "        list: Lista de valores de entropía.\n",
    "    \"\"\"\n",
    "    entropias = []\n",
    "    for grilla in automata:\n",
    "        entropias.append(calcular_entropia(grilla))\n",
    "    return entropias\n",
    "\n",
    "def calcular_proporcion_vecinos(posicion, grilla):\n",
    "    \"\"\"\n",
    "    Calcula la proporción de vecinos de la misma clase para una celda dada.\n",
    "\n",
    "    Args:\n",
    "        posicion (tuple): Coordenadas de la celda.\n",
    "        grilla (np.ndarray): Grilla.\n",
    "\n",
    "    Returns:\n",
    "        float: Proporción de vecinos de la misma clase.\n",
    "    \"\"\"\n",
    "    nb = vecindad(posicion, grilla)\n",
    "    total_vecinos = len(nb)\n",
    "    vecinos_misma_clase = sum(1 for vecino in nb.values() if vecino == grilla[posicion])\n",
    "    return vecinos_misma_clase / total_vecinos\n",
    "\n",
    "def calcular_indice_segregacion(grilla):\n",
    "    \"\"\"\n",
    "    Calcula el índice de segregación para una grilla dada.\n",
    "\n",
    "    Args:\n",
    "        grilla (np.ndarray): Grilla.\n",
    "\n",
    "    Returns:\n",
    "        float: Índice de segregación.\n",
    "    \"\"\"\n",
    "    n = grilla.shape[0]\n",
    "    proporciones = []\n",
    "    for i in range(n):\n",
    "        for j in range(n):\n",
    "            if grilla[i, j] != 0:  # Ignorar celdas vacías\n",
    "                proporciones.append(calcular_proporcion_vecinos((i, j), grilla))\n",
    "    return sum(proporciones) / len(proporciones) if proporciones else 0\n",
    "\n",
    "def calcular_indices_segregacion(automata):\n",
    "    \"\"\"\n",
    "    Calcula el índice de segregación para cada grilla en el autómata.\n",
    "\n",
    "    Args:\n",
    "        automata (list): Lista de grillas.\n",
    "\n",
    "    Returns:\n",
    "        list: Lista de índices de segregación.\n",
    "    \"\"\"\n",
    "    return [calcular_indice_segregacion(grilla) for grilla in automata]"
   ]
  },
  {
   "cell_type": "markdown",
   "id": "fa2300b8-3ffe-4f44-88bf-6c11a1f7d33a",
   "metadata": {},
   "source": [
    "### 1.1. Definición de Parámetros y Simulación:"
   ]
  },
  {
   "cell_type": "code",
   "execution_count": 3,
   "id": "f4bc1b6b-7c61-43c8-ac17-16e6aaf4aa3c",
   "metadata": {},
   "outputs": [
    {
     "data": {
      "text/plain": [
       "1552"
      ]
     },
     "execution_count": 3,
     "metadata": {},
     "output_type": "execute_result"
    }
   ],
   "source": [
    "random.seed(123)  # semilla random\n",
    "np.random.seed(123)  # semilla NumPy\n",
    "\n",
    "# Parámetros de entrada\n",
    "n = 30  # Tamaño de la grilla (n x n)\n",
    "p = [0.4, 0.3, 0.3]  # Probabilidad de celdas vacías, azules y rojas respectivamente\n",
    "t = 2  # Tolerancia\n",
    "pasos =15000 # Número de pasos\n",
    "\n",
    "# Ejecutar el modelo de Sakoda/Schelling\n",
    "automata = modelo_sakoda_schelling(n, p, t, pasos)\n",
    "\n",
    "# Cálculo de Entropías\n",
    "entropias = calculo_entropia_por_generacion(automata)\n",
    "\n",
    "# Calcular la cantidad de celdas infelices en cada paso\n",
    "infelices = calcular_infelices(automata, t)\n",
    "\n",
    "# Cálcular índices de Segregación\n",
    "indices = calcular_indices_segregacion(automata)\n",
    "\n",
    "len(automata)"
   ]
  },
  {
   "cell_type": "markdown",
   "id": "a1c3b757-006f-47b3-b0b2-f7e4d7e3e12c",
   "metadata": {},
   "source": [
    "### 1.2. Generación de Gráfico:"
   ]
  },
  {
   "cell_type": "code",
   "execution_count": 12,
   "id": "f914e969-5030-47ff-ab90-5839c26528b3",
   "metadata": {},
   "outputs": [
    {
     "data": {
      "image/png": "[encoded data removed]",
      "text/plain": [
       "<Figure size 936x432 with 30 Axes>"
      ]
     },
     "metadata": {
      "needs_background": "light"
     },
     "output_type": "display_data"
    }
   ],
   "source": [
    "# Definir tamaño de la figura\n",
    "\n",
    "iter_figuras = (0,50,100,200,400,600,800,1000,1250,1551)\n",
    "fig, axes = plt.subplots(2,5, figsize = (13,6)) #    tres gráficos en una fila, ajustar según página d eword\n",
    "\n",
    "for h in range(2):\n",
    "    for g in range(5):\n",
    "        axes[h,g].set_axis_off()\n",
    "            \n",
    "    for j in range(len(iter_figuras)):\n",
    "        ax = fig.add_subplot(2, 5, j+1)       # i+1 porque los subplots se numeran desde 1\n",
    "        cmap = mcolors.ListedColormap(['white', 'blue', 'red'])\n",
    "        plt.imshow(automata[iter_figuras[j]], cmap=cmap, vmin=0, vmax=2, interpolation='nearest')\n",
    "        ax.set_title(\"it: \"+ str(iter_figuras[j]))\n",
    "        ax.axis('off')\n",
    "        # Ajustar la disposición de los subplots y mostrar la figura\n",
    "    fig.tight_layout()"
   ]
  },
  {
   "cell_type": "markdown",
   "id": "c2388639-7079-456e-b43a-6c8d19b70ea1",
   "metadata": {},
   "source": [
    "### 1.3. Métricas:"
   ]
  },
  {
   "cell_type": "markdown",
   "id": "d654e12e-3bc9-4ca0-b54b-79341dad9491",
   "metadata": {},
   "source": [
    "#### 1.3.1. Cantidad de Infelices en el tiempo:"
   ]
  },
  {
   "cell_type": "code",
   "execution_count": 6,
   "id": "d20d3cf7-eab1-4ef0-8908-92a4fcc6a2cf",
   "metadata": {},
   "outputs": [
    {
     "data": {
      "image/png": "[encoded data removed]",
      "text/plain": [
       "<Figure size 432x288 with 1 Axes>"
      ]
     },
     "metadata": {
      "needs_background": "light"
     },
     "output_type": "display_data"
    }
   ],
   "source": [
    "# Crear una figura y un eje\n",
    "fig, ax = plt.subplots()\n",
    "\n",
    "# Graficar la cantidad de celdas infelices\n",
    "ax.plot(infelices, label='Celdas infelices')\n",
    "\n",
    "# Configurar el gráfico\n",
    "ax.set_xlabel('Iteración')\n",
    "ax.set_ylabel('Cantidad de Infelices')\n",
    "ax.set_title('Celdas Infelices en el Tiempo')\n",
    "ax.grid()\n",
    "ax.legend()\n",
    "\n",
    "# Mostrar el gráfico\n",
    "plt.show()"
   ]
  },
  {
   "cell_type": "markdown",
   "id": "93a42d42-66d4-454e-8ed1-84ae70f556a0",
   "metadata": {},
   "source": [
    "#### 1.3.2. Entropía en el tiempo:"
   ]
  },
  {
   "cell_type": "code",
   "execution_count": 7,
   "id": "af281cc3-39aa-45c8-92b6-3070c2026b50",
   "metadata": {},
   "outputs": [
    {
     "data": {
      "image/png": "[encoded data removed]",
      "text/plain": [
       "<Figure size 576x288 with 1 Axes>"
      ]
     },
     "metadata": {
      "needs_background": "light"
     },
     "output_type": "display_data"
    }
   ],
   "source": [
    "# Crear un gráfico de la entropía a lo largo del tiempo\n",
    "plt.figure(figsize=(8, 4))\n",
    "plt.plot(entropias)\n",
    "plt.title('Entropía en el tiempo')\n",
    "plt.xlabel('Iteración')\n",
    "plt.ylabel('Entropía')\n",
    "plt.grid(True)\n",
    "plt.show()"
   ]
  },
  {
   "cell_type": "markdown",
   "id": "42044aa1-4bbe-4ae1-8496-d860add284ae",
   "metadata": {},
   "source": [
    "#### 1.3.3. Indice de Segregación en el tiempo:"
   ]
  },
  {
   "cell_type": "code",
   "execution_count": 8,
   "id": "a8228512-0f25-4119-b790-de2739d91222",
   "metadata": {},
   "outputs": [
    {
     "data": {
      "image/png": "[encoded data removed]",
      "text/plain": [
       "<Figure size 576x288 with 1 Axes>"
      ]
     },
     "metadata": {
      "needs_background": "light"
     },
     "output_type": "display_data"
    }
   ],
   "source": [
    "# Crear un gráfico Segregación\n",
    "plt.figure(figsize=(8, 4))\n",
    "plt.plot(indices)\n",
    "plt.title('índice de Segregación en el tiempo')\n",
    "plt.xlabel('Iteración')\n",
    "plt.ylabel('Segregación')\n",
    "plt.grid(True)\n",
    "plt.show()"
   ]
  },
  {
   "cell_type": "markdown",
   "id": "fdb47ddd-44e0-489b-87ec-0be330043735",
   "metadata": {},
   "source": [
    "### 1.4. Creación Gif:"
   ]
  },
  {
   "cell_type": "code",
   "execution_count": 10,
   "id": "19293bbe-0ba4-4ad7-ab2f-8a2d0d20e0b6",
   "metadata": {},
   "outputs": [],
   "source": [
    "### gif con saltos; ojo con la ram, \n",
    "\n",
    "def crear_gif(automata, n, pasos, p):\n",
    "    nombre_archivo = f\"SAKODA_size{n}_pasos{pasos}_dist{p}.gif\"\n",
    "\n",
    "    # Crear un mapa de colores personalizado\n",
    "    cmap = mcolors.ListedColormap(['white', 'blue', 'red'])\n",
    "\n",
    "    imagenes = []\n",
    "    for idx, matriz in enumerate(automata):\n",
    "        imagen = plt.imshow(matriz, cmap=cmap, interpolation='nearest', vmin=0, vmax=2)\n",
    "        titulo = f\"Generación {idx} \\nDistr (vacio,azul,rojo) {p}\"\n",
    "        plt.title(titulo)\n",
    "        plt.axis('off')\n",
    "        filename = \"temp1.png\"\n",
    "        plt.savefig(filename, dpi=50)  ## disminuyo dpi se vuelve más feo pero nmenos pesado\n",
    "        plt.close()\n",
    "\n",
    "        image = imageio.v2.imread(filename)\n",
    "        os.remove(filename)\n",
    "        imagenes.append(image)\n",
    "        \n",
    "    salto = 25        # Saltar cuadros (cambiar según la velocidad deseada)\n",
    "    imagenes_reducidas = imagenes[::salto]  # Obtener una lista reducida de cuadros\n",
    "\n",
    "    imageio.mimsave(nombre_archivo, imagenes_reducidas, fps=100) \n",
    "    \n",
    "crear_gif(automata, n, pasos, p)"
   ]
  },
  {
   "cell_type": "markdown",
   "id": "64a17194-5964-4c87-9198-c7e581f4e9eb",
   "metadata": {},
   "source": [
    "_______"
   ]
  },
  {
   "cell_type": "markdown",
   "id": "3e87abb1-49e6-4a43-bc26-b05ee191a8f0",
   "metadata": {},
   "source": [
    "_____"
   ]
  },
  {
   "cell_type": "markdown",
   "id": "6be4d818-a8f7-4a89-a19f-4c24f611d43b",
   "metadata": {},
   "source": [
    "_____"
   ]
  },
  {
   "cell_type": "markdown",
   "id": "124a55a2-77a7-48ec-9654-3a4e5f2e433b",
   "metadata": {},
   "source": [
    "______"
   ]
  },
  {
   "cell_type": "markdown",
   "id": "c33ab6cc-97cf-424f-9af0-dde534cce73e",
   "metadata": {},
   "source": [
    "______"
   ]
  },
  {
   "cell_type": "markdown",
   "id": "8b151149-5aba-44ec-b846-c12b30b38c4b",
   "metadata": {
    "tags": []
   },
   "source": [
    "## 2. Definición de funciones (Modelo Afinidad):"
   ]
  },
  {
   "cell_type": "code",
   "execution_count": 13,
   "id": "073ed690-9833-4782-abc7-57223edd97b2",
   "metadata": {},
   "outputs": [],
   "source": [
    "def inicializar_grilla(n, p):\n",
    "    \"\"\"\n",
    "    Inicializa una grilla bidimensional con celdas vacías, azules y rojas según las probabilidades proporcionadas.\n",
    "    Args:\n",
    "        n (int): Tamaño de la grilla (n x n).\n",
    "        p (list): Lista de probabilidades [p_vacía, p_azul, p_roja].\n",
    "\n",
    "    Returns:\n",
    "        np.ndarray: Grilla inicializada.\n",
    "    \"\"\"\n",
    "    grilla = np.random.choice([0, 1, 2], size=(n, n), p=p)\n",
    "    return grilla\n",
    "\n",
    "def vecindad(posicion, grilla):\n",
    "    \"\"\"\n",
    "    Determina una vecindad de Moore\n",
    "    posicion (x,y) : celda a la cual vamos a conocer sus vecinos\n",
    "    grilla : grilla para conocer vecinos\n",
    "    \"\"\"\n",
    "    n,n = grilla.shape\n",
    "    x, y = posicion\n",
    "    vecindad = { \"N\":  grilla[(x-1) % n , y ],\n",
    "                 \"E\":  grilla[ x , (y+1) % n] , \n",
    "                 \"S\":  grilla[(x+1) % n , y ],\n",
    "                 \"O\":  grilla[ x , (y-1) % n],\n",
    "                 \"NO\": grilla[(x-1) % n , (y-1) % n],\n",
    "                 \"NE\": grilla[(x-1) % n , (y+1) % n],\n",
    "                 \"SO\": grilla[(x+1) % n , (y-1) % n],\n",
    "                 \"SE\": grilla[(x+1) % n , (y+1) % n]}\n",
    "    return vecindad\n",
    "\n",
    "def afinidad(posicion, grilla, a):\n",
    "    nb = vecindad(posicion, grilla)\n",
    "    cantidad_iguales = 0\n",
    "    \n",
    "    for i in nb:\n",
    "        if grilla[posicion] == nb[i] and grilla[posicion] != 0 and  nb[i] != 0:\n",
    "            cantidad_iguales += 1\n",
    "    \n",
    "    return True if cantidad_iguales >= a or grilla[posicion] == 0 else False\n",
    "\n",
    "    \n",
    "def encontrar_celdas_infelices(grilla, a):\n",
    "    celdas_infelices = []\n",
    "    n = grilla.shape[0]\n",
    "    for i in range(n):\n",
    "        for j in range(n):\n",
    "            posicion = (i, j)\n",
    "            if not afinidad(posicion, grilla, a):\n",
    "                celdas_infelices.append(posicion)\n",
    "    return celdas_infelices\n",
    "\n",
    "def movimiento(posicion, grilla):\n",
    "    x, y = posicion\n",
    "    n, _ = grilla.shape\n",
    "    grilla_aux = grilla.copy()\n",
    "    direccion = [\"N\", \"E\", \"S\", \"O\", \"NO\", \"NE\", \"SO\", \"SE\"]\n",
    "    nb = vecindad(posicion, grilla_aux)\n",
    "    random.shuffle(direccion)\n",
    "    \n",
    "    for i in direccion:\n",
    "        if nb[i] == 0:\n",
    "            if i == \"N\":  \n",
    "                grilla_aux[(x-1) % n , y ] = grilla_aux[posicion]\n",
    "            elif i == \"E\":  \n",
    "                grilla_aux[ x , (y+1) % n] = grilla_aux[posicion]\n",
    "            elif i == \"S\":  \n",
    "                grilla_aux[(x+1) % n , y ] = grilla_aux[posicion]\n",
    "            elif i == \"O\":  \n",
    "                grilla_aux[ x , (y-1) % n] = grilla_aux[posicion]\n",
    "            elif i == \"NO\": \n",
    "                grilla_aux[(x-1) % n , (y-1) % n] = grilla_aux[posicion]\n",
    "            elif i == \"NE\": \n",
    "                grilla_aux[(x-1) % n , (y+1) % n] = grilla_aux[posicion]\n",
    "            elif i == \"SO\": \n",
    "                grilla_aux[(x+1) % n , (y-1) % n] = grilla_aux[posicion]\n",
    "            elif i == \"SE\": \n",
    "                grilla_aux[(x+1) % n , (y+1) % n] = grilla_aux[posicion]\n",
    "            \n",
    "            grilla_aux[posicion] = 0\n",
    "            return grilla_aux\n",
    "        \n",
    "    return grilla   \n",
    "    \n",
    "\n",
    "def crear_gif(automata, n, pasos, p):\n",
    "    nombre_archivo = f\"SAKODA_size{n}_pasos{pasos}_dist{p}.gif\"\n",
    "\n",
    "    # Crear un mapa de colores personalizado\n",
    "    cmap = mcolors.ListedColormap(['white', 'blue', 'red'])\n",
    "\n",
    "    imagenes = []\n",
    "    for idx, matriz in enumerate(automata):\n",
    "        imagen = plt.imshow(matriz, cmap=cmap, interpolation='nearest', vmin=0, vmax=2)\n",
    "        titulo = f\"Generación {idx} \\nDistr (vacio,azul,rojo) {p}\"\n",
    "        plt.title(titulo)\n",
    "        plt.axis('on')\n",
    "        filename = \"temp.png\"\n",
    "        plt.savefig(filename)\n",
    "        plt.close()\n",
    "\n",
    "        image = imageio.v2.imread(filename)\n",
    "        os.remove(filename)\n",
    "        imagenes.append(image)\n",
    "\n",
    "    imageio.mimsave(nombre_archivo, imagenes, fps=10)\n",
    "    \n",
    "def schelling(n, p, a, iteraciones):\n",
    "    grilla = inicializar_grilla(n, p)\n",
    "    infelices = encontrar_celdas_infelices(grilla, a)\n",
    "    \n",
    "    while infelices and iteraciones > 0:\n",
    "        posicion = random.choice(infelices)\n",
    "        grilla = movimiento(posicion, grilla)\n",
    "        infelices = encontrar_celdas_infelices(grilla, a)\n",
    "        iteraciones -= 1\n",
    "    \n",
    "    return grilla\n",
    "\n",
    "def calcular_infelices(automata, a):\n",
    "    \"\"\"\n",
    "    Calcula la cantidad de celdas infelices en cada paso.\n",
    "\n",
    "    Args:\n",
    "        automata (list): Lista de grillas.\n",
    "        t (int): Tolerancia.\n",
    "\n",
    "    Returns:\n",
    "        list: Lista de cantidades de celdas infelices.\n",
    "    \"\"\"\n",
    "    infelices = []\n",
    "    for grilla in automata:\n",
    "        celdas_infelices = encontrar_celdas_infelices(grilla, a)\n",
    "        infelices.append(len(celdas_infelices))\n",
    "    return infelices\n",
    "\n",
    "def calcular_entropia(grilla):\n",
    "    \"\"\"\n",
    "    Calcula la entropía de una grilla.\n",
    "\n",
    "    Args:\n",
    "        grilla (np.ndarray): Grilla bidimensional.\n",
    "\n",
    "    Returns:\n",
    "        float: Entropía de la grilla.\n",
    "    \"\"\"\n",
    "    # Contar el número de cada tipo de celda en la grilla\n",
    "    _, counts = np.unique(grilla[grilla != 0], return_counts=True)\n",
    "\n",
    "    # Calcular y devolver la entropía\n",
    "    return entropy(counts, base=3)\n",
    "\n",
    "def calculo_entropia_por_generacion(automata):\n",
    "    \"\"\"\n",
    "    Calcula la entropía de cada grilla en el autómata.\n",
    "\n",
    "    Args:\n",
    "        automata (list): Lista de grillas.\n",
    "\n",
    "    Returns:\n",
    "        list: Lista de valores de entropía.\n",
    "    \"\"\"\n",
    "    entropias = []\n",
    "    for grilla in automata:\n",
    "        entropias.append(calcular_entropia(grilla))\n",
    "    return entropias\n",
    "\n",
    "def calcular_proporcion_vecinos(posicion, grilla):\n",
    "    \"\"\"\n",
    "    Calcula la proporción de vecinos de la misma clase para una celda dada.\n",
    "\n",
    "    Args:\n",
    "        posicion (tuple): Coordenadas de la celda.\n",
    "        grilla (np.ndarray): Grilla.\n",
    "\n",
    "    Returns:\n",
    "        float: Proporción de vecinos de la misma clase.\n",
    "    \"\"\"\n",
    "    nb = vecindad(posicion, grilla)\n",
    "    total_vecinos = len(nb)\n",
    "    vecinos_misma_clase = sum(1 for vecino in nb.values() if vecino == grilla[posicion])\n",
    "    return vecinos_misma_clase / total_vecinos\n",
    "\n",
    "def calcular_indice_segregacion(grilla):\n",
    "    \"\"\"\n",
    "    Calcula el índice de segregación para una grilla dada.\n",
    "\n",
    "    Args:\n",
    "        grilla (np.ndarray): Grilla.\n",
    "\n",
    "    Returns:\n",
    "        float: Índice de segregación.\n",
    "    \"\"\"\n",
    "    n = grilla.shape[0]\n",
    "    proporciones = []\n",
    "    for i in range(n):\n",
    "        for j in range(n):\n",
    "            if grilla[i, j] != 0:  # Ignorar celdas vacías\n",
    "                proporciones.append(calcular_proporcion_vecinos((i, j), grilla))\n",
    "    return sum(proporciones) / len(proporciones) if proporciones else 0\n",
    "\n",
    "def calcular_indices_segregacion(automata):\n",
    "    \"\"\"\n",
    "    Calcula el índice de segregación para cada grilla en el autómata.\n",
    "\n",
    "    Args:\n",
    "        automata (list): Lista de grillas.\n",
    "\n",
    "    Returns:\n",
    "        list: Lista de índices de segregación.\n",
    "    \"\"\"\n",
    "    return [calcular_indice_segregacion(grilla) for grilla in automata]"
   ]
  },
  {
   "cell_type": "markdown",
   "id": "b02631cd-1883-456e-8808-f61bb46b7244",
   "metadata": {},
   "source": [
    "### 2.1. Definición de Parámetros y Simulación:"
   ]
  },
  {
   "cell_type": "code",
   "execution_count": 14,
   "id": "0d961c4e-84a7-4e20-98e0-326cf0a18a9f",
   "metadata": {},
   "outputs": [
    {
     "data": {
      "text/plain": [
       "15001"
      ]
     },
     "execution_count": 14,
     "metadata": {},
     "output_type": "execute_result"
    }
   ],
   "source": [
    "random.seed(123)  # semilla random\n",
    "np.random.seed(123)  # semilla NumPy\n",
    "\n",
    "# Parámetros de entrada\n",
    "n = 30  # Tamaño de la grilla (n x n)\n",
    "p = [0.4, 0.3, 0.3]  # Probabilidad de celdas vacías, azules y rojas respectivamente\n",
    "a = 2  # Tolerancia\n",
    "pasos =15000 # Número de pasos\n",
    "\n",
    "# Ejecutar el modelo de Sakoda/Schelling\n",
    "automata = modelo_sakoda_schelling(n, p, t, pasos)\n",
    "\n",
    "# Cálculo de Entropías\n",
    "entropias = calculo_entropia_por_generacion(automata)\n",
    "\n",
    "# Calcular la cantidad de celdas infelices en cada paso\n",
    "infelices = calcular_infelices(automata, t)\n",
    "\n",
    "# Cálcular índices de Segregación\n",
    "indices = calcular_indices_segregacion(automata)\n",
    "\n",
    "len(automata)"
   ]
  },
  {
   "cell_type": "markdown",
   "id": "15bacbfa-e4eb-42f4-94b8-dbd765ff4146",
   "metadata": {},
   "source": [
    "### 2.2. Generación de Gráfico:"
   ]
  },
  {
   "cell_type": "code",
   "execution_count": 15,
   "id": "6ccc981f-998e-4ee2-b3c3-11c86851b61f",
   "metadata": {},
   "outputs": [
    {
     "data": {
      "image/png": "[encoded data removed]",
      "text/plain": [
       "<Figure size 936x432 with 30 Axes>"
      ]
     },
     "metadata": {
      "needs_background": "light"
     },
     "output_type": "display_data"
    }
   ],
   "source": [
    "# Definir tamaño de la figura\n",
    "\n",
    "iter_figuras = (0,500,1000,2000,4000,6000,8000,10000,12500,15000)\n",
    "fig, axes = plt.subplots(2,5, figsize = (13,6)) #    tres gráficos en una fila, ajustar según página d eword\n",
    "\n",
    "for h in range(2):\n",
    "    for g in range(5):\n",
    "        axes[h,g].set_axis_off()\n",
    "            \n",
    "    for j in range(len(iter_figuras)):\n",
    "        ax = fig.add_subplot(2, 5, j+1)       # i+1 porque los subplots se numeran desde 1\n",
    "        cmap = mcolors.ListedColormap(['white', 'blue', 'red'])\n",
    "        plt.imshow(automata[iter_figuras[j]], cmap=cmap, vmin=0, vmax=2, interpolation='nearest')\n",
    "        ax.set_title(\"it: \"+ str(iter_figuras[j]))\n",
    "        ax.axis('off')\n",
    "        # Ajustar la disposición de los subplots y mostrar la figura\n",
    "    fig.tight_layout()"
   ]
  },
  {
   "cell_type": "markdown",
   "id": "d62d50f5-7fca-4a70-ad8f-53c3af95b6bc",
   "metadata": {},
   "source": [
    "### 2.3. Métricas:"
   ]
  },
  {
   "cell_type": "markdown",
   "id": "a1d52d7f-9637-4c11-b538-89426cb61b12",
   "metadata": {},
   "source": [
    "#### 2.3.1. Cantidad de Infelices en el tiempo:"
   ]
  },
  {
   "cell_type": "code",
   "execution_count": 16,
   "id": "7d33e749-89af-4955-81a9-62adcec77744",
   "metadata": {},
   "outputs": [
    {
     "data": {
      "image/png": "[encoded data removed]",
      "text/plain": [
       "<Figure size 432x288 with 1 Axes>"
      ]
     },
     "metadata": {
      "needs_background": "light"
     },
     "output_type": "display_data"
    }
   ],
   "source": [
    "# Crear una figura y un eje\n",
    "fig, ax = plt.subplots()\n",
    "\n",
    "# Graficar la cantidad de celdas infelices\n",
    "ax.plot(infelices, label='Celdas infelices')\n",
    "\n",
    "# Configurar el gráfico\n",
    "ax.set_xlabel('Iteración')\n",
    "ax.set_ylabel('Cantidad de Infelices')\n",
    "ax.set_title('Celdas Infelices en el Tiempo')\n",
    "ax.grid()\n",
    "ax.legend()\n",
    "\n",
    "# Mostrar el gráfico\n",
    "plt.show()"
   ]
  },
  {
   "cell_type": "markdown",
   "id": "bac9ffaf-9b0e-4c10-bf22-03c9ab3b38b9",
   "metadata": {},
   "source": [
    "#### 2.3.2. Entropía en el tiempo:"
   ]
  },
  {
   "cell_type": "code",
   "execution_count": 17,
   "id": "1e5094e1-1768-4f7d-b150-3970de02fec6",
   "metadata": {},
   "outputs": [
    {
     "data": {
      "image/png": "[encoded data removed]",
      "text/plain": [
       "<Figure size 576x288 with 1 Axes>"
      ]
     },
     "metadata": {
      "needs_background": "light"
     },
     "output_type": "display_data"
    }
   ],
   "source": [
    "# Crear un gráfico de la entropía a lo largo del tiempo\n",
    "plt.figure(figsize=(8, 4))\n",
    "plt.plot(entropias)\n",
    "plt.title('Entropía en el tiempo')\n",
    "plt.xlabel('Iteración')\n",
    "plt.ylabel('Entropía')\n",
    "plt.grid(True)\n",
    "plt.show()"
   ]
  },
  {
   "cell_type": "markdown",
   "id": "8e159d38-fb63-4a05-acc4-6573cc10b486",
   "metadata": {},
   "source": [
    "#### 2.3.3. Indice de Segregación en el tiempo:"
   ]
  },
  {
   "cell_type": "code",
   "execution_count": 18,
   "id": "40e57dbc-841e-4afe-b99c-7699ede576cb",
   "metadata": {},
   "outputs": [
    {
     "data": {
      "image/png": "[encoded data removed]",
      "text/plain": [
       "<Figure size 576x288 with 1 Axes>"
      ]
     },
     "metadata": {
      "needs_background": "light"
     },
     "output_type": "display_data"
    }
   ],
   "source": [
    "# Crear un gráfico Segregación\n",
    "plt.figure(figsize=(8, 4))\n",
    "plt.plot(indices)\n",
    "plt.title('índice de Segregación en el tiempo')\n",
    "plt.xlabel('Iteración')\n",
    "plt.ylabel('Segregación')\n",
    "plt.grid(True)\n",
    "plt.show()"
   ]
  },
  {
   "cell_type": "markdown",
   "id": "b3b4b08e-9c91-4772-8280-024f32528734",
   "metadata": {},
   "source": [
    "### 2.4. Creación Gif:"
   ]
  },
  {
   "cell_type": "code",
   "execution_count": 10,
   "id": "d63e5368-1957-45fc-9823-1f75c76eb9b0",
   "metadata": {},
   "outputs": [],
   "source": [
    "### gif con saltos; ojo con la ram, \n",
    "\n",
    "def crear_gif(automata, n, pasos, p):\n",
    "    nombre_archivo = f\"SAKODA_size{n}_pasos{pasos}_dist{p}.gif\"\n",
    "\n",
    "    # Crear un mapa de colores personalizado\n",
    "    cmap = mcolors.ListedColormap(['white', 'blue', 'red'])\n",
    "\n",
    "    imagenes = []\n",
    "    for idx, matriz in enumerate(automata):\n",
    "        imagen = plt.imshow(matriz, cmap=cmap, interpolation='nearest', vmin=0, vmax=2)\n",
    "        titulo = f\"Generación {idx} \\nDistr (vacio,azul,rojo) {p}\"\n",
    "        plt.title(titulo)\n",
    "        plt.axis('off')\n",
    "        filename = \"temp1.png\"\n",
    "        plt.savefig(filename, dpi=50)  ## disminuyo dpi se vuelve más feo pero nmenos pesado\n",
    "        plt.close()\n",
    "\n",
    "        image = imageio.v2.imread(filename)\n",
    "        os.remove(filename)\n",
    "        imagenes.append(image)\n",
    "        \n",
    "    salto = 25        # Saltar cuadros (cambiar según la velocidad deseada)\n",
    "    imagenes_reducidas = imagenes[::salto]  # Obtener una lista reducida de cuadros\n",
    "\n",
    "    imageio.mimsave(nombre_archivo, imagenes_reducidas, fps=100) \n",
    "    \n",
    "crear_gif(automata, n, pasos, p)"
   ]
  },
  {
   "cell_type": "markdown",
   "id": "efa43376-4bc9-44c8-88e5-bc1f7e067236",
   "metadata": {},
   "source": [
    "______"
   ]
  },
  {
   "cell_type": "markdown",
   "id": "b05b2fbd-af45-445c-b691-36cae219ccd1",
   "metadata": {},
   "source": [
    "______"
   ]
  },
  {
   "cell_type": "markdown",
   "id": "7fe7ee72-48a1-49b2-b898-4b4e2909dbae",
   "metadata": {},
   "source": [
    "_____"
   ]
  },
  {
   "cell_type": "markdown",
   "id": "7bee4e4c-8d80-49f1-81db-d2712eec7724",
   "metadata": {},
   "source": [
    "______"
   ]
  },
  {
   "cell_type": "markdown",
   "id": "0cb3cf1b-39d1-49be-a62d-67a380e936b8",
   "metadata": {
    "tags": []
   },
   "source": [
    "## Conteo de Parches:"
   ]
  },
  {
   "cell_type": "code",
   "execution_count": null,
   "id": "5987b505-8705-4754-85bb-23ca4e5b257c",
   "metadata": {},
   "outputs": [],
   "source": [
    "def calcular_densidad_parches(grilla):\n",
    "    # Obtiene las dimensiones de la grilla\n",
    "    filas, columnas = grilla.shape\n",
    "    \n",
    "    # Inicializa un arreglo para contar los parches de cada clase\n",
    "    conteo_parches = np.zeros(3)\n",
    "    \n",
    "    # Recorre la grilla y cuenta los parches de cada clase\n",
    "    for i in range(filas):\n",
    "        for j in range(columnas):\n",
    "            clase_actual = grilla[i, j]\n",
    "            \n",
    "            # Si la clase actual es diferente de cero, es parte de un parche\n",
    "            if clase_actual != 0:\n",
    "                # Incrementa el conteo para la clase correspondiente\n",
    "                conteo_parches[clase_actual - 1] += 1\n",
    "    \n",
    "    # Calcula la densidad de parches para cada clase\n",
    "    densidad_parches = conteo_parches\n",
    "    \n",
    "    return densidad_parches\n",
    "\n",
    "# Ejemplo de uso\n",
    "grilla = np.array([[1, 1, 0, 2],\n",
    "                   [1, 1, 2, 2],\n",
    "                   [0, 0, 0, 0],\n",
    "                   [3, 3, 3, 0]])\n",
    "\n",
    "densidad_parches = calcular_densidad_parches(grilla)\n",
    "print(\"Densidad de parches:\")\n",
    "for i, densidad in enumerate(densidad_parches):\n",
    "    print(f\"Clase {i+1}: {densidad}\")\n"
   ]
  },
  {
   "cell_type": "code",
   "execution_count": null,
   "id": "44ceb027-b269-43aa-b610-4cd16882b40c",
   "metadata": {},
   "outputs": [],
   "source": []
  }
 ],
 "metadata": {
  "kernelspec": {
   "display_name": "Python 3 (ipykernel)",
   "language": "python",
   "name": "python3"
  },
  "language_info": {
   "codemirror_mode": {
    "name": "ipython",
    "version": 3
   },
   "file_extension": ".py",
   "mimetype": "text/x-python",
   "name": "python",
   "nbconvert_exporter": "python",
   "pygments_lexer": "ipython3",
   "version": "3.10.4"
  },
  "widgets": {
   "application/vnd.jupyter.widget-state+json": {
    "state": {},
    "version_major": 2,
    "version_minor": 0
   }
  }
 },
 "nbformat": 4,
 "nbformat_minor": 5
}
