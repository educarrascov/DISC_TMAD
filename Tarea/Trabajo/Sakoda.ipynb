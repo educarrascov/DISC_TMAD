{
  "nbformat": 4,
  "nbformat_minor": 0,
  "metadata": {
    "colab": {
      "provenance": [],
      "authorship_tag": "ABX9TyM7vbU5IefE/0+MgEsdlEX2",
      "include_colab_link": true
    },
    "kernelspec": {
      "name": "python3",
      "display_name": "Python 3"
    },
    "language_info": {
      "name": "python"
    }
  },
  "cells": [
    {
      "cell_type": "markdown",
      "metadata": {
        "id": "view-in-github",
        "colab_type": "text"
      },
      "source": [
        "<a href=\"https://colab.research.google.com/github/educarrascov/DISC_TMAD/blob/main/Sakoda.ipynb\" target=\"_parent\"><img src=\"https://colab.research.google.com/assets/colab-badge.svg\" alt=\"Open In Colab\"/></a>"
      ]
    },
    {
      "cell_type": "code",
      "execution_count": 1,
      "metadata": {
        "colab": {
          "base_uri": "https://localhost:8080/",
          "height": 35
        },
        "id": "EOX-sHvZEG8_",
        "outputId": "9a8b0ad0-3461-4527-977a-738527cd1168"
      },
      "outputs": [
        {
          "output_type": "execute_result",
          "data": {
            "text/plain": [
              "'modelo_sakoda_schelling.gv.pdf'"
            ],
            "application/vnd.google.colaboratory.intrinsic+json": {
              "type": "string"
            }
          },
          "metadata": {},
          "execution_count": 1
        }
      ],
      "source": [
        "from graphviz import Digraph\n",
        "\n",
        "# Crear una nueva gráfica dirigida\n",
        "dot = Digraph('Modelo_Sakoda_Schelling')\n",
        "\n",
        "# Agregar nodos al grafo\n",
        "dot.node('A', 'Inicio')\n",
        "dot.node('B', 'Inicializar grilla')\n",
        "dot.node('C', '¿Hay celdas infelices?')\n",
        "dot.node('D', 'Elegir celda infeliz al azar')\n",
        "dot.node('E', 'Mover celda infeliz')\n",
        "dot.node('F', 'Fin')\n",
        "dot.node('G', 'Iterar por pasos')\n",
        "\n",
        "# Agregar aristas entre los nodos\n",
        "dot.edges(['AB', 'BG', 'GC', 'CD', 'DE', 'EG', 'CF'])\n",
        "\n",
        "dot.render('modelo_sakoda_schelling.gv', view=True)  # Guardar y abrir el diagrama de flujo"
      ]
    },
    {
      "cell_type": "code",
      "source": [
        "from graphviz import Digraph\n",
        "\n",
        "# Crear una nueva gráfica dirigida\n",
        "dot = Digraph('Modelo_Sakoda_Schelling')\n",
        "\n",
        "# Agregar nodos al grafo\n",
        "dot.node('A', 'Inicio')\n",
        "dot.node('B', 'Especificar parámetros del modelo\\n(n, p, t, pasos)')\n",
        "dot.node('C', 'Inicializar grilla con probabilidades p')\n",
        "dot.node('D', 'Comenzar ciclo de pasos')\n",
        "dot.node('E', 'Buscar celdas infelices en la grilla actual')\n",
        "dot.node('F', '¿Hay celdas infelices?')\n",
        "dot.node('G', 'Elegir celda infeliz al azar')\n",
        "dot.node('H', 'Mover celda infeliz a posición vacía')\n",
        "dot.node('I', 'Actualizar grilla y añadir a la lista de grillas')\n",
        "dot.node('J', '¿Hemos alcanzado el número máximo de pasos?')\n",
        "dot.node('K', 'Fin del ciclo de pasos')\n",
        "dot.node('L', 'Fin')\n",
        "\n",
        "# Agregar aristas entre los nodos\n",
        "dot.edges(['AB', 'BC', 'CD', 'DE', 'EF'])\n",
        "dot.edge('F', 'G', label='Si')\n",
        "dot.edge('F', 'K', label='No')\n",
        "dot.edges(['GH', 'HI', 'IJ'])\n",
        "dot.edge('J', 'D', label='No')\n",
        "dot.edge('J', 'L', label='Si')\n",
        "\n",
        "dot.render('modelo_sakoda_schelling_detailed.gv', view=True)  # Guardar y abrir el diagrama de flujo"
      ],
      "metadata": {
        "colab": {
          "base_uri": "https://localhost:8080/",
          "height": 35
        },
        "id": "iX0NBTczEbxT",
        "outputId": "62c37b3f-54c4-494a-bbe6-13729f100837"
      },
      "execution_count": 2,
      "outputs": [
        {
          "output_type": "execute_result",
          "data": {
            "text/plain": [
              "'modelo_sakoda_schelling_detailed.gv.pdf'"
            ],
            "application/vnd.google.colaboratory.intrinsic+json": {
              "type": "string"
            }
          },
          "metadata": {},
          "execution_count": 2
        }
      ]
    },
    {
      "cell_type": "code",
      "source": [
        "from graphviz import Digraph\n",
        "\n",
        "# Crear una nueva gráfica dirigida\n",
        "dot = Digraph('Modelo_Sakoda_Schelling')\n",
        "\n",
        "# Agregar nodos al grafo\n",
        "dot.node('A', 'Inicio')\n",
        "dot.node('B', 'Especificar parámetros del modelo\\n(n: tamaño de la grilla, p: probabilidades de celdas, t: tolerancia, pasos: número máximo de iteraciones)')\n",
        "dot.node('C', 'Inicializar grilla de tamaño n x n con probabilidades p (0: vacía, 1: azul, 2: roja)')\n",
        "dot.node('D', 'Iniciar Iteración: Cada iteración se realiza de forma secuencial')\n",
        "dot.node('E', 'Determinar todas las celdas infelices en la grilla actual\\n(Una celda está infeliz si menos de t de sus 8 vecinos (Vecindario de Moore) son de su mismo tipo)')\n",
        "dot.node('F', '¿Hay celdas infelices?')\n",
        "dot.node('G', 'Elegir celda infeliz al azar')\n",
        "dot.node('H', 'Mover celda infeliz a una posición vacía en su vecindario de Moore (Elección aleatoria)')\n",
        "dot.node('I', 'Actualizar grilla y añadir a la lista de grillas')\n",
        "dot.node('J', '¿Hemos alcanzado el número máximo de pasos?')\n",
        "dot.node('K', 'Fin de una Iteración')\n",
        "dot.node('L', 'Fin')\n",
        "\n",
        "# Agregar aristas entre los nodos\n",
        "dot.edges(['AB', 'BC', 'CD', 'DE', 'EF'])\n",
        "dot.edge('F', 'G', label='Si')\n",
        "dot.edge('F', 'K', label='No')\n",
        "dot.edges(['GH', 'HI', 'IJ'])\n",
        "dot.edge('J', 'K', label='No')\n",
        "dot.edge('J', 'L', label='Si')\n",
        "dot.edge('K', 'D')  # Conectar el fin de una iteración con el comienzo de la próxima\n",
        "\n",
        "dot.render('modelo_sakoda_schelling_detailed_v3.gv', view=True)  # Guardar y abrir el diagrama de flujo"
      ],
      "metadata": {
        "colab": {
          "base_uri": "https://localhost:8080/",
          "height": 35
        },
        "id": "AIT5W6uDFFpW",
        "outputId": "eb08f421-5159-44e2-f9a5-e6a9068c2b66"
      },
      "execution_count": 5,
      "outputs": [
        {
          "output_type": "execute_result",
          "data": {
            "text/plain": [
              "'modelo_sakoda_schelling_detailed_v3.gv.pdf'"
            ],
            "application/vnd.google.colaboratory.intrinsic+json": {
              "type": "string"
            }
          },
          "metadata": {},
          "execution_count": 5
        }
      ]
    },
    {
      "cell_type": "code",
      "source": [
        "from graphviz import Digraph\n",
        "\n",
        "# Crear una nueva gráfica dirigida\n",
        "dot = Digraph('Modelo_Sakoda_Schelling')\n",
        "\n",
        "# Agregar nodos al grafo\n",
        "dot.node('A', 'Inicio')\n",
        "dot.node('B', 'Parámetros del modelo\\n(n: tamaño de la grilla, p: probabilidades de celdas, t: tolerancia, pasos: número de iteraciones)')\n",
        "dot.node('C', 'Inicializar grilla de tamaño n x n con probabilidades p (0: vacía, 1: azul, 2: roja)')\n",
        "dot.node('D', 'Iniciar Iteración: Cada iteración se realiza de forma secuencial')\n",
        "dot.node('E', 'Determinar todas las celdas infelices en la grilla actual\\n(Una celda está infeliz si menos de t de sus 8 vecinos (Vecindario de Moore) son de su mismo tipo)')\n",
        "dot.node('F', '¿Hay celdas infelices?')\n",
        "dot.node('G', 'Elegir celda infeliz al azar')\n",
        "dot.node('H', '¿La vecindad de la celda infeliz tiene celdas vacías?')\n",
        "dot.node('I', 'Mover celda infeliz a una posición vacía en su vecindario de Moore (Elección aleatoria)')\n",
        "dot.node('J', 'Actualizar grilla y añadir a la lista de grillas')\n",
        "dot.node('K', '¿Hemos alcanzado el número máximo de pasos?')\n",
        "dot.node('L', '¿La lista de celdas infelices está vacía?')\n",
        "dot.node('M', 'Fin de una Iteración')\n",
        "dot.node('N', 'Fin')\n",
        "\n",
        "# Agregar aristas entre los nodos\n",
        "dot.edges(['AB', 'BC', 'CD', 'DE', 'EF'])\n",
        "dot.edge('F', 'G', label='Si')\n",
        "dot.edge('F', 'L', label='No')\n",
        "dot.edge('G', 'H')\n",
        "dot.edge('H', 'I', label='Si')\n",
        "dot.edge('H', 'G', label='No')\n",
        "dot.edges(['IJ', 'JK'])\n",
        "dot.edge('K', 'L', label='Si')\n",
        "dot.edge('K', 'M', label='No')\n",
        "dot.edge('L', 'N', label='Si')\n",
        "dot.edge('L', 'D', label='No')\n",
        "dot.edge('M', 'D')  # Conectar el fin de una iteración con el comienzo de la próxima\n",
        "\n",
        "dot.render('modelo_sakoda_schelling_detailed_v5.gv', view=True)  # Guardar y abrir el diagrama de flujo"
      ],
      "metadata": {
        "colab": {
          "base_uri": "https://localhost:8080/",
          "height": 35
        },
        "id": "DaUplF-lJHwa",
        "outputId": "d7d6c1bc-7001-4b17-f441-a9a5290f56c2"
      },
      "execution_count": 6,
      "outputs": [
        {
          "output_type": "execute_result",
          "data": {
            "text/plain": [
              "'modelo_sakoda_schelling_detailed_v5.gv.pdf'"
            ],
            "application/vnd.google.colaboratory.intrinsic+json": {
              "type": "string"
            }
          },
          "metadata": {},
          "execution_count": 6
        }
      ]
    }
  ]
}