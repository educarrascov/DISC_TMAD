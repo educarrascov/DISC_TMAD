{
 "cells": [
  {
   "cell_type": "markdown",
   "metadata": {},
   "source": [
    "# Taller de Manejo y Análisis de Datos\n",
    "\n",
    "**Profesor**: Pedro Montealegre"
   ]
  },
  {
   "cell_type": "markdown",
   "metadata": {},
   "source": [
    "# Introducción a la Programación Orientada a Objetos"
   ]
  },
  {
   "cell_type": "markdown",
   "metadata": {},
   "source": [
    "Las *clases* son uno de los pilares de Python. Son también un concepto central en un estilo de programación conocida como *progrmación orientada a objetos* (**OPP**, por la sigla en inglés *object oriented programming*). \n",
    "\n",
    "La OPP supone una manera de estructurar programas y aplicaciones, de manera que tanto el manejo de datos, como las operaciones que se ejecutan sobre éstos, se agrupen en clases y objetos. \n",
    "\n",
    "En Python, *todo* es un objeto. Por ejemplo, los enteros son un ejemplo de la clase `int`, los números reales son ejemplos de la clase `float`, etc. Esto se ilustra al preguntarle a continuación:\n"
   ]
  },
  {
   "cell_type": "code",
   "execution_count": 1,
   "metadata": {
    "scrolled": true
   },
   "outputs": [
    {
     "name": "stdout",
     "output_type": "stream",
     "text": [
      "<class 'int'>\n",
      "<class 'float'>\n",
      "<class 'bool'>\n",
      "<class 'str'>\n",
      "<class 'list'>\n"
     ]
    }
   ],
   "source": [
    "print(type(4)) \n",
    "print(type(5.6)) \n",
    "print(type(True)) \n",
    "print(type('Hola')) \n",
    "print(type([1, 2, 3, 4]))"
   ]
  },
  {
   "cell_type": "markdown",
   "metadata": {},
   "source": [
    "En Python no estamos restringidos a trabajar con las clases incluidas por defecto, y de hecho en este capítulo estudiaremos cómo programar nuestras propias clases. "
   ]
  },
  {
   "cell_type": "markdown",
   "metadata": {},
   "source": [
    "Términos usados en Python (y otros lenguajes que soporten orentación a objetos):\n",
    "* Clase (Class): Una *clase* define una combinación de información y un cierto *comportamiento* que opera sobre esa información. Una clase actúa como un esquema sobre el cual se crean *instancias*.\n",
    "* Instancia (instance) u objeto (object): Una *instancia*, también conocido como *objeto*, es un ejemplo de una clase. Todas las instancias de una clase tienen los mismos campos de datos/atributos pero contienen sus propios valores. \n",
    "* Atributo (atrribute): La información almacenada en un objeto es representada por sus *atributos* (también llamados *variables de instancia*).\n",
    "* Método (method): Un *método* es un procedimiento definido dentro de un objeto."
   ]
  },
  {
   "cell_type": "markdown",
   "metadata": {},
   "source": [
    "## Definición de una Clase"
   ]
  },
  {
   "cell_type": "markdown",
   "metadata": {},
   "source": [
    "En Python, una clase se define con la sintaxis siguiente:\n",
    "\n",
    "```Python\n",
    "class nombre_de_la_clase(super_clase):\n",
    "    def __init__(...):\n",
    "        ...\n",
    "    métodos\n",
    "        ...\n",
    "```"
   ]
  },
  {
   "cell_type": "markdown",
   "metadata": {},
   "source": [
    "El siguiente código es un ejemplo de la definición de una clase:"
   ]
  },
  {
   "cell_type": "code",
   "execution_count": 3,
   "metadata": {},
   "outputs": [],
   "source": [
    "class Persona:\n",
    "    def __init__(self,texto,numero):\n",
    "        self.nombre = texto\n",
    "        self.edad = numero"
   ]
  },
  {
   "cell_type": "markdown",
   "metadata": {},
   "source": [
    "La clase `Persona` tiene dos atributos (o **variables de instancia**), llamados `nombre`y `edad`.\n",
    "\n",
    "También contiene un método especial llamado `__init__`. Este es un inicializador (también llamado **constructor**) de la clase. Este método indica qué información se tiene que entregar cuando se crea una instancia de la clase `Persona`, y cómo esta información se almacena internamente. \n",
    "\n",
    "Veamos como se crean instancias de la clase `Persona`:"
   ]
  },
  {
   "cell_type": "code",
   "execution_count": 4,
   "metadata": {},
   "outputs": [],
   "source": [
    "p1 = Persona(\"Pedro\",34)\n",
    "p2 = Persona(\"Aurora\",3)"
   ]
  },
  {
   "cell_type": "markdown",
   "metadata": {},
   "source": [
    "La variable `p1` guarda una referencia a un `objeto` (o *instancia*) de la clase `Persona`cuyos atributos almacenan los valores `Pedro` (para el atributo `nombre`) y `34` (para el atributo `edad`).\n",
    "\n",
    "De manera similar, la variable `p2` guarda una referencia a un objeto de la clase `Persona` cuyos atributos `nombre` y `edad` son `Aurora`y `3`, respectivamente.  \n",
    "\n",
    "Estas dos variables hacen referencia a instancias distintas de la clase `Persona`. Ellas responden al mismo conjunto de métodos y tienen el mismo conjunto de atributos (como `nombre`y `edad`). Sin embargo, ambas tienen sus propios valores para esos atributos. "
   ]
  },
  {
   "cell_type": "code",
   "execution_count": 5,
   "metadata": {},
   "outputs": [
    {
     "name": "stdout",
     "output_type": "stream",
     "text": [
      "<class '__main__.Persona'>\n"
     ]
    }
   ],
   "source": [
    "print(type(p1))"
   ]
  },
  {
   "cell_type": "code",
   "execution_count": 6,
   "metadata": {},
   "outputs": [
    {
     "name": "stdout",
     "output_type": "stream",
     "text": [
      "<class '__main__.Persona'>\n"
     ]
    }
   ],
   "source": [
    "print(type(p2))"
   ]
  },
  {
   "cell_type": "markdown",
   "metadata": {},
   "source": [
    "## Accediendo a los atributos de un objeto"
   ]
  },
  {
   "cell_type": "markdown",
   "metadata": {},
   "source": [
    "Podemos acceder a los atributos almacenados por `p1` y `p2` usando la conocida *notación del punto* (*dot notation*). Esta notación sigue la sintaxis `nombreVariable.nombreAtributo`. Por ejemplo:"
   ]
  },
  {
   "cell_type": "code",
   "execution_count": 7,
   "metadata": {},
   "outputs": [
    {
     "data": {
      "text/plain": [
       "'Pedro'"
      ]
     },
     "execution_count": 7,
     "metadata": {},
     "output_type": "execute_result"
    }
   ],
   "source": [
    "p1.nombre"
   ]
  },
  {
   "cell_type": "code",
   "execution_count": 8,
   "metadata": {},
   "outputs": [
    {
     "data": {
      "text/plain": [
       "'Aurora'"
      ]
     },
     "execution_count": 8,
     "metadata": {},
     "output_type": "execute_result"
    }
   ],
   "source": [
    "p2.nombre"
   ]
  },
  {
   "cell_type": "code",
   "execution_count": 9,
   "metadata": {},
   "outputs": [
    {
     "data": {
      "text/plain": [
       "34"
      ]
     },
     "execution_count": 9,
     "metadata": {},
     "output_type": "execute_result"
    }
   ],
   "source": [
    "p1.edad"
   ]
  },
  {
   "cell_type": "code",
   "execution_count": 10,
   "metadata": {},
   "outputs": [
    {
     "data": {
      "text/plain": [
       "3"
      ]
     },
     "execution_count": 10,
     "metadata": {},
     "output_type": "execute_result"
    }
   ],
   "source": [
    "p2.edad"
   ]
  },
  {
   "cell_type": "markdown",
   "metadata": {},
   "source": [
    "------\n",
    "## Ejercicio 1\n",
    "1. Programe la clase `asignatura`, la cual debe tener los atributos:\n",
    "* `nombre`: string representando el nombre de una asignatura,\n",
    "* `notas`: lista de notas en las evaluaciones de la asignatura para un alumno.\n",
    "\n",
    "El constructor de la clase debe verificar que la lista notas contenga números entre 1 y 7. Cuando alguno de los valores sea ilegal, se debe imprimir una advertencia y asignar una lista vacía al atributo `notas`."
   ]
  },
  {
   "cell_type": "code",
   "execution_count": 17,
   "metadata": {},
   "outputs": [],
   "source": [
    "# Escriba aquí su solución"
   ]
  },
  {
   "cell_type": "markdown",
   "metadata": {},
   "source": [
    "2. Programe la clase `alumno`, la cual debe tener los atributos:\n",
    "* nombre: string representando el nombre de un alumno,\n",
    "* edad: entero representando la edad del alumno,\n",
    "* asignaturas: una lista de objetos de la clase `asignatura`.\n",
    "\n",
    "El constructor de la clase debe verificar que la edad del alumno sea mayor que 1 y menor que 99. Cuando un valor sea ilegal se debe imprimir una advertencia y asignar la edad del alumno igual a 18."
   ]
  },
  {
   "cell_type": "code",
   "execution_count": 32,
   "metadata": {},
   "outputs": [],
   "source": [
    "# Escriba aquí su solución"
   ]
  },
  {
   "cell_type": "markdown",
   "metadata": {},
   "source": [
    "----"
   ]
  },
  {
   "cell_type": "markdown",
   "metadata": {},
   "source": [
    "## Imprimiendo Objetos"
   ]
  },
  {
   "cell_type": "markdown",
   "metadata": {},
   "source": [
    "Si usamos la función `Print` en los objetos referenciados por `p1` y `p2`, obtenemos un resultado algo extraño:"
   ]
  },
  {
   "cell_type": "code",
   "execution_count": null,
   "metadata": {},
   "outputs": [],
   "source": [
    "print(p1)\n",
    "print(p2)"
   ]
  },
  {
   "cell_type": "markdown",
   "metadata": {},
   "source": [
    "Lo que está representando el nombre de la clase (en este caso `Persona`) y un número en base hexadecimal que indica la dirección en la que está almacenado el objeto en la memoria. \n",
    "\n",
    "Esta información no es realmente muy útil. Afortunadamente, podemos definir un método en la clase en el que podamos transformar el objeto en un string, que se pueda imprimir en pantalla. \n",
    "\n",
    "El método `__str__` devuelve un string que puede ser usado para representar información relevante sobre los objetos de la clase. Se construye con la sintaxis siguiente:\n",
    "\n",
    "```Python\n",
    "def __str__(self):\n",
    "    ...\n",
    "    se define el string texto\n",
    "    ...\n",
    "    return (texto)\n",
    "    \n",
    "```\n",
    "\n"
   ]
  },
  {
   "cell_type": "markdown",
   "metadata": {},
   "source": [
    "Veamos un ejemplo para la clase `Persona`:"
   ]
  },
  {
   "cell_type": "code",
   "execution_count": null,
   "metadata": {},
   "outputs": [],
   "source": [
    "class Persona:\n",
    "    def __init__(self,texto,numero):\n",
    "        self.nombre = texto\n",
    "        self.edad = numero\n",
    "        \n",
    "    def __str__(self):\n",
    "        return(self.nombre + \" tiene \" + str(self.edad) + \" años.\")"
   ]
  },
  {
   "cell_type": "code",
   "execution_count": null,
   "metadata": {},
   "outputs": [],
   "source": [
    "p1 = Persona(\"Pedro\",33)\n",
    "print(p1)"
   ]
  },
  {
   "cell_type": "markdown",
   "metadata": {},
   "source": [
    "-----\n",
    "## Ejercicio 2\n",
    "\n",
    "Agregue métodos `__str__` a las clases `asignatura` y/o `alumno` para obtener el siguiente comportamiento:\n",
    "\n",
    "```Python\n",
    "A1 = asignatura(\"Programación\",[6,7])\n",
    "A2 = asignatura(\"Algebra\",[7,6])\n",
    "alumno1 = alumno(\"Pedro Montealegre\",33,[A1,A2])\n",
    "\n",
    "print(alumno1)\n",
    "\n",
    "```\n",
    "se imprima\n",
    "\n",
    "```\n",
    "Datos del alumno Pedro Montealegre\n",
    "-Edad: 33\n",
    "-Notas del curso Programación: 6, 7, \n",
    "-Notas del curso Algebra: 7, 6, \n",
    "```"
   ]
  },
  {
   "cell_type": "code",
   "execution_count": null,
   "metadata": {},
   "outputs": [],
   "source": [
    "# Escriba aquí su solución"
   ]
  },
  {
   "cell_type": "markdown",
   "metadata": {},
   "source": [
    "## Definiendo métodos"
   ]
  },
  {
   "cell_type": "markdown",
   "metadata": {},
   "source": [
    "Además de almacenar información, una clase puede contener funciones (que llamamos métodos) que manipulen esta información para obtener un cierto comportamiento. Por ejemplo el método `__str__` permite transformar la información de la clase en un string.\n",
    "\n",
    "Otro ejemplo relevante es el método `sort` de la clase `list`, el cual, como sabemos, ordena una lista. \n"
   ]
  },
  {
   "cell_type": "code",
   "execution_count": null,
   "metadata": {},
   "outputs": [],
   "source": [
    "l = [1,5,3,2,6]\n",
    "l.sort()\n",
    "l"
   ]
  },
  {
   "cell_type": "markdown",
   "metadata": {},
   "source": [
    "\n",
    "Agreguemos un método a la clase `Persona` inventado por nosotros."
   ]
  },
  {
   "cell_type": "code",
   "execution_count": null,
   "metadata": {},
   "outputs": [],
   "source": [
    "class Persona:\n",
    "    def __init__(self,texto,numero):\n",
    "        self.nombre = texto\n",
    "        self.edad = numero\n",
    "        \n",
    "    def __str__(self):\n",
    "        return(self.nombre + \" tiene \" + str(self.edad) + \" años.\")\n",
    "    \n",
    "    def cumple(self):\n",
    "        self.edad += 1\n",
    "        print(\"Feliz cumpleaños\", self.nombre,\"!\")\n",
    "        print(\"Hoy cumples\",self.edad)"
   ]
  },
  {
   "cell_type": "code",
   "execution_count": null,
   "metadata": {},
   "outputs": [],
   "source": [
    "p1 = Persona(\"Pedro\",33)\n",
    "print(p1)"
   ]
  },
  {
   "cell_type": "code",
   "execution_count": null,
   "metadata": {},
   "outputs": [],
   "source": [
    "p1.cumple()"
   ]
  },
  {
   "cell_type": "markdown",
   "metadata": {},
   "source": [
    "Observamos que al aplicar el método, el atributo `edad` de `p1` cambió permanentemente: "
   ]
  },
  {
   "cell_type": "code",
   "execution_count": null,
   "metadata": {},
   "outputs": [],
   "source": [
    "p1.edad"
   ]
  },
  {
   "cell_type": "markdown",
   "metadata": {},
   "source": [
    "Podemos modificar ese valor simplemente asignando un nuevo valor:"
   ]
  },
  {
   "cell_type": "code",
   "execution_count": null,
   "metadata": {},
   "outputs": [],
   "source": [
    "p1.edad = 25"
   ]
  },
  {
   "cell_type": "code",
   "execution_count": null,
   "metadata": {},
   "outputs": [],
   "source": [
    "p1.edad"
   ]
  },
  {
   "cell_type": "markdown",
   "metadata": {},
   "source": [
    "Los métodos pueden tener más de una entrada, y devolver un valor, como cualquier función. En el siguiente ejemplo, definimos el método `es_mayor` que recibe como argumento un objeto de la clase `Persona`, y compara las edades de las personas:"
   ]
  },
  {
   "cell_type": "code",
   "execution_count": null,
   "metadata": {},
   "outputs": [],
   "source": [
    "class Persona:\n",
    "    def __init__(self,texto,numero):\n",
    "        self.nombre = texto\n",
    "        self.edad = numero\n",
    "        \n",
    "    def __str__(self):\n",
    "        return(self.nombre + \" tiene \" + str(self.edad) + \" años.\")\n",
    "    \n",
    "    def cumple(self):\n",
    "        self.edad += 1\n",
    "        print(\"Feliz cumpleaños\", self.nombre,\"!\")\n",
    "        print(\"Hoy cumples\",self.edad)\n",
    "        \n",
    "    def es_mayor(self,persona2):\n",
    "        return self.edad>persona2.edad\n",
    "        "
   ]
  },
  {
   "cell_type": "code",
   "execution_count": null,
   "metadata": {},
   "outputs": [],
   "source": [
    "p1 = Persona(\"Pedro\",33)\n",
    "p2 = Persona(\"Aurora\",3)"
   ]
  },
  {
   "cell_type": "code",
   "execution_count": null,
   "metadata": {},
   "outputs": [],
   "source": [
    "p1.es_mayor(p2)"
   ]
  },
  {
   "cell_type": "code",
   "execution_count": null,
   "metadata": {},
   "outputs": [],
   "source": [
    "p2.es_mayor(p1)"
   ]
  },
  {
   "cell_type": "markdown",
   "metadata": {},
   "source": [
    "----\n",
    "## Ejercicio 3"
   ]
  },
  {
   "cell_type": "markdown",
   "metadata": {},
   "source": [
    "1. Modifique la clase `asignatura` agregando el método `promedio` el cual no recibe ningún argumento y devuelve el promedio de la lista de notas que contiene la instancia. "
   ]
  },
  {
   "cell_type": "code",
   "execution_count": null,
   "metadata": {},
   "outputs": [],
   "source": [
    "#Escriba aquí su solución"
   ]
  },
  {
   "cell_type": "markdown",
   "metadata": {},
   "source": [
    "2. Redefina a la clase `asignatura` agregando el atributo `estado`, el cual puede tomar los valores `pendiente`  o `cerrado`. \n",
    "Defina entonces el método `cerrar_asignatura` que cambie el estado del curso de `abierto` a `cerrado` e imprima un mensaje con las notas y el promedio final, como en el ejemplo siguiente:\n",
    "\n",
    "```Python\n",
    ">>> A1 = asignatura(\"Programación\",[6.2,4.3,5.5])\n",
    ">>> print(A1)\n",
    "```\n",
    "```\n",
    "Notas del curso Programación: 6.2, 4.3, 5.5, el curso está pendiente.\n",
    "```\n",
    "```Python\n",
    ">>> A1.cerrar_asignatura()\n",
    "```\n",
    "```\n",
    "Cierre del curso Programación:\n",
    "Notas: [6.2, 4.3, 5.5]\n",
    "Promedio: 5.3\n",
    "El curso está aprobado.\n",
    "```\n",
    "```Python\n",
    ">>> print(A1)\n",
    "```\n",
    "```\n",
    "Notas del curso Programación: 6.2, 4.3, 5.5, el curso está cerrado.\n",
    "```\n",
    "\n",
    "Obs: si el promedio es mayor o igual a 3.95 el estado es `aprobado` y en caso contrario es `reprobado`."
   ]
  },
  {
   "cell_type": "code",
   "execution_count": null,
   "metadata": {},
   "outputs": [],
   "source": [
    "# Escriba aquí su solución"
   ]
  },
  {
   "cell_type": "markdown",
   "metadata": {},
   "source": [
    "2. Agregue a la clase `alumno` el método `cerrar_asignaturas`, el cual ejecuta el método `cerrar_asignatura` en todos las asignaturas en el atributo `asignaturas` de una instancia de la clase. El método tiene que devolver un diccionario con los promedios de cada curso.\n",
    "\n",
    "```Python\n",
    "\n",
    ">>> A1 = asignatura(\"Programación\",[6.8,6.9])\n",
    ">>> A2 = asignatura(\"Algebra\",[3.3,4.0])\n",
    ">>> alumno1 = alumno(\"Pedro Montealegre\",33,[A1,A2])\n",
    ">>> alumno1.cerrar_asignaturas()\n",
    "```\n",
    "```\n",
    "Cierre del curso Programación:\n",
    "Notas: [6.8, 6.9]\n",
    "Promedio: 6.8\n",
    "El curso está aprobado.\n",
    "\n",
    "Cierre del curso Algebra:\n",
    "Notas: [3.3, 4.0]\n",
    "Promedio: 3.6\n",
    "El curso está reprobado.\n",
    "\n",
    "{'Programación': 6.85, 'Algebra': 3.65}\n",
    "```"
   ]
  },
  {
   "cell_type": "code",
   "execution_count": null,
   "metadata": {},
   "outputs": [],
   "source": [
    "# Escriba aquí su solución"
   ]
  },
  {
   "cell_type": "markdown",
   "metadata": {},
   "source": [
    "## Variables de clase"
   ]
  },
  {
   "cell_type": "markdown",
   "metadata": {},
   "source": [
    "En Python, las clases también pueden tener atributos, que son llamados **variables de clase** (en oposición a las **variables de instancia** o **atributos** de un objeto).\n",
    "\n",
    "Las variables de clase son definidas dentro del ambiente de la definición de la clase, no siendo contenidos en ningún método.\n",
    "\n",
    "Por ejemplo, podemos agregar una variable que cuenta el número de objetos que se han inicializado:"
   ]
  },
  {
   "cell_type": "code",
   "execution_count": null,
   "metadata": {},
   "outputs": [],
   "source": [
    "class Persona:\n",
    "    \n",
    "    numero_personas = 0  # Esta es una variable de clase.\n",
    "    \n",
    "    def __init__(self,texto,numero):\n",
    "        self.nombre = texto\n",
    "        self.edad = numero\n",
    "        # Aumentamos la cuenta cuando se crea una nueva persona\n",
    "        Persona.numero_personas += 1 \n",
    "        \n",
    "    def __str__(self):\n",
    "        return(self.nombre + \" tiene \" + str(self.edad) + \" años.\")\n",
    "    \n",
    "    def cumple(self):\n",
    "        self.edad += 1\n",
    "        print(\"Feliz cumpleaños\", self.nombre,\"!\")\n",
    "        print(\"Hoy cumples\",self.edad)\n",
    "        \n",
    "    def es_mayor(self,persona2):\n",
    "        return self.edad>persona2.edad"
   ]
  },
  {
   "cell_type": "code",
   "execution_count": null,
   "metadata": {},
   "outputs": [],
   "source": [
    "p1 = Persona(\"Pedro\",33)\n",
    "p2 = Persona(\"Aurora\",3)\n",
    "p3 = Persona(\"José\", 1)\n",
    "print(Persona.numero_personas)"
   ]
  },
  {
   "cell_type": "markdown",
   "metadata": {},
   "source": [
    "----\n",
    "\n",
    "### Ejercicio 4\n",
    "\n",
    "1. Agregue a la clase `asignatura` tres variables de clase: \n",
    "* `todas`: que contenga una lista con los nombres de todas las asignaturas definidas.\n",
    "* `cerradas`: que contenga una lista con los nombres de todas las asignturas cerradas.\n",
    "* `pendientes`: que contenga una lista con los nombres de todas las asignturas pendientes.\n",
    "\n",
    "Además, modifique el método `cerrar_asignatura` para que actualice las listas de asignaturas cerradas y pendientes. "
   ]
  },
  {
   "cell_type": "code",
   "execution_count": null,
   "metadata": {},
   "outputs": [],
   "source": [
    "# Escriba aquí su solución"
   ]
  },
  {
   "cell_type": "markdown",
   "metadata": {},
   "source": [
    "## Herencia"
   ]
  },
  {
   "cell_type": "markdown",
   "metadata": {},
   "source": [
    "La capacidad de *herencia* es una de las principales ventajas de la programación orientada a objetos. Permite a una clase (que denominamos `subclase`) *heredar* información o comportamiento definido en otra clase (que llamamos `superclase`) para ser reutilizado. \n",
    "\n",
    "Una clase se define como una extensión de otra clase con la sintaxis siguiente:\n",
    "\n",
    "```Python\n",
    "class nombreSubClase(nombreSuperClase):\n",
    "    cuerpo de la clase \n",
    "```\n",
    "\n",
    "Por ejemplo, podemos tomar la clase `alumno`, definida en el Ejercicio 1, y definirla como una `subclase` de `Persona`.\n",
    "\n",
    "Recordemos que la clase `Persona` es definida con los atributos `nombre` y `edad`:"
   ]
  },
  {
   "cell_type": "code",
   "execution_count": null,
   "metadata": {},
   "outputs": [],
   "source": [
    "class Persona:\n",
    "    \n",
    "    numero_personas = 0  # Esta es una variable de clase.\n",
    "    \n",
    "    def __init__(self,texto,numero):\n",
    "        self.nombre = texto\n",
    "        self.edad = numero\n",
    "        # Aumentamos la cuenta cuando se crea una nueva persona\n",
    "        Persona.numero_personas += 1 \n",
    "        \n",
    "    def __str__(self):\n",
    "        return(self.nombre + \" tiene \" + str(self.edad) + \" años.\")\n",
    "    \n",
    "    def cumple(self):\n",
    "        self.edad += 1\n",
    "        print(\"Feliz cumpleaños\", self.nombre,\"!\")\n",
    "        print(\"Hoy cumples\",self.edad)\n",
    "        \n",
    "    def es_mayor(self,persona2):\n",
    "        return self.edad>persona2.edad"
   ]
  },
  {
   "cell_type": "markdown",
   "metadata": {},
   "source": [
    "Entonces, podemos definir la clase `alumno` como una extensión de la clase `Persona` del modo siguiente:"
   ]
  },
  {
   "cell_type": "code",
   "execution_count": null,
   "metadata": {},
   "outputs": [],
   "source": [
    "class alumno(Persona):\n",
    "    def __init__(self,nombre,edad,asignaturas):\n",
    "        # Inicializamos primero al \"alumno\" como \"persona\"\n",
    "        super().__init__(nombre,edad)  \n",
    "        # Y agregamos el atributo asignaturas\n",
    "        self.asignaturas = asignaturas"
   ]
  },
  {
   "cell_type": "markdown",
   "metadata": {},
   "source": [
    "Definamos ahora una instancia de la clase `alumno`."
   ]
  },
  {
   "cell_type": "code",
   "execution_count": null,
   "metadata": {},
   "outputs": [],
   "source": [
    "A1 = asignatura(\"Programación\",[6,7])\n",
    "A2 = asignatura(\"Algebra\",[7,6])\n",
    "alumno1 = alumno(\"Pedro Montealegre\",33,[A1,A2])"
   ]
  },
  {
   "cell_type": "markdown",
   "metadata": {},
   "source": [
    "Vemos que la sintaxis es la misma que antes. Lo interesante es que ahora tenemos disponibles todos los métodos de la clase `Persona` para esta instancia:"
   ]
  },
  {
   "cell_type": "code",
   "execution_count": null,
   "metadata": {},
   "outputs": [],
   "source": [
    "print(alumno1)"
   ]
  },
  {
   "cell_type": "code",
   "execution_count": null,
   "metadata": {},
   "outputs": [],
   "source": [
    "alumno1.cumple()"
   ]
  },
  {
   "cell_type": "markdown",
   "metadata": {},
   "source": [
    "Si redefinimos el método `__str__` (o cualquier clase ya definida en una superclase) en la clase alumno, se privilegia el uso del método definido en la subclase:"
   ]
  },
  {
   "cell_type": "code",
   "execution_count": null,
   "metadata": {},
   "outputs": [],
   "source": [
    "class alumno(Persona):\n",
    "    def __init__(self,nombre,edad,asignaturas):\n",
    "        # Inicializamos primero al \"alumno\" como \"persona\"\n",
    "        super().__init__(nombre,edad)  \n",
    "        # Y agregamos el atributo asignaturas\n",
    "        self.asignaturas = asignaturas\n",
    "        \n",
    "    def __str__(self):\n",
    "        texto1 = \"Datos del alumno \" + self.nombre\n",
    "        texto2 = \"-Edad: \" + str(self.edad)\n",
    "        texto3 = \"\"\n",
    "        for asignatura in self.asignaturas:\n",
    "            texto3 += \"-\"+str(asignatura)\n",
    "        return texto1 + \"\\n\" + texto2 + \"\\n\" + texto3"
   ]
  },
  {
   "cell_type": "code",
   "execution_count": null,
   "metadata": {},
   "outputs": [],
   "source": [
    "A1 = asignatura(\"Programación\",[6,7])\n",
    "A2 = asignatura(\"Algebra\",[7,6])\n",
    "alumno1 = alumno(\"Pedro Montealegre\",33,[A1,A2])"
   ]
  },
  {
   "cell_type": "code",
   "execution_count": null,
   "metadata": {},
   "outputs": [],
   "source": [
    "print(alumno1)"
   ]
  },
  {
   "cell_type": "markdown",
   "metadata": {},
   "source": [
    "Observemos que `alumno1` es al mismo tiempo una instancia de la clase `alumno` como de la superclase `Persona`"
   ]
  },
  {
   "cell_type": "code",
   "execution_count": null,
   "metadata": {},
   "outputs": [],
   "source": [
    "persona2 = Persona(\"Aurora\",3)"
   ]
  },
  {
   "cell_type": "code",
   "execution_count": null,
   "metadata": {},
   "outputs": [],
   "source": [
    "alumno1.es_mayor(persona2)"
   ]
  },
  {
   "cell_type": "markdown",
   "metadata": {},
   "source": [
    "----\n",
    "### Ejercicio 5"
   ]
  },
  {
   "cell_type": "markdown",
   "metadata": {},
   "source": [
    "El archivo `COVID19-30Abr.csv` contiene información del número de confirmados por comuna informados el día 30 de abril de 2021, en las columnas siguientes:\n",
    "* Región\n",
    "* Codigo Región\n",
    "* Comuna\n",
    "* Código Comuna\n",
    "* Población\n",
    "* Casos Confirmados\n",
    "\n",
    "Escriba la clase `region`, que contenga los atributos: \n",
    "* nombre_region: string con el nombre de la región\n",
    "* codigo_region: entero representado el código de la región\n",
    "\n",
    "También escriba la subclase de `region` llamada `comuna` que contenga los atributos:\n",
    "* nombre_comuna: string con el nombre de la comuna\n",
    "* codigo_region: entero representando el código de la comuna\n",
    "* poblacion: entero representando la población\n",
    "* casos_confirmados: entero representando el número de casos confirmados en la comuna.\n",
    "\n",
    "Luego lea el archivo `COVID19-30Abr.csv` y genere instancias de `region` y `comuna` de acuerdo a la información contenida en éste."
   ]
  },
  {
   "cell_type": "code",
   "execution_count": null,
   "metadata": {},
   "outputs": [],
   "source": [
    "# Escriba aquí su solución"
   ]
  }
 ],
 "metadata": {
  "kernelspec": {
   "display_name": "Python 3",
   "language": "python",
   "name": "python3"
  },
  "language_info": {
   "codemirror_mode": {
    "name": "ipython",
    "version": 3
   },
   "file_extension": ".py",
   "mimetype": "text/x-python",
   "name": "python",
   "nbconvert_exporter": "python",
   "pygments_lexer": "ipython3",
   "version": "3.8.8"
  }
 },
 "nbformat": 4,
 "nbformat_minor": 4
}
