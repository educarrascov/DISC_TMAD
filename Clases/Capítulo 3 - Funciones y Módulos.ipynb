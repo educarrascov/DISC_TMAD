{
 "cells": [
  {
   "cell_type": "markdown",
   "metadata": {},
   "source": [
    "# Taller de Manejo y Análisis de Datos\n",
    "\n",
    "**Profesor**: Pedro Montealegre"
   ]
  },
  {
   "cell_type": "markdown",
   "metadata": {},
   "source": [
    "# Funciones y Módulos\n",
    "\n",
    "\n",
    "Las funciones nos permiten agrupar cierto número de operaciones en un solo *bloque lógico*. Nos comunicamos con una función a través de una interfaz claramente definida, entregando ciertos parámetros a la función, y recibiendo cierta información de vuelta. A parte de esta interfaz, por lo general no sabemos exactamente cómo la función es capaz de producir el valor de salida. \n",
    "\n",
    "Por ejemplo, cuando escribimos:"
   ]
  },
  {
   "cell_type": "code",
   "execution_count": null,
   "metadata": {},
   "outputs": [],
   "source": [
    "import math\n",
    "math.sqrt(2)"
   ]
  },
  {
   "cell_type": "markdown",
   "metadata": {},
   "source": [
    "No sabemos exactamente cómo la función `math.sqrt` calcula la raíz cuadrdada de $2$, pero conocemos la interfaz: si le pasamos $x$ a la función, ésta nos entrega (una aproximación de) $\\sqrt{x}$. \n",
    "\n",
    "Esta *abstracción* es muy útil en programación, y en general se usa en todas las ramas de la ingeniería: se divide un sistema en varias partes más pequeñas, que interactúan a través de interfaces bien definidas, y que no necesitan saber sobre el funcionamiento interno de las demás. De hecho, no necesitar preocuparse de los detalles de estas implementaciones por lo general ayuda a tener una visión más clara de cuáles son las partes críticas del sistema, y así asegurar un buen funcionamiento.\n",
    "\n",
    "Las funciones son el \"bloque de construcción\" (building block) sobre el cual se basa la funcionalidad en programas más grandes (y simulaciones computacionales), y ayudan a controlar la complejidad inherente al proceso. \n",
    "\n",
    "Se puede agrupar varias funciones en un módulo Python, y de este modo crear nuestras propias librerías.\n"
   ]
  },
  {
   "cell_type": "markdown",
   "metadata": {},
   "source": [
    "## Usando funciones\n",
    "\n",
    "La palabra \"función\" tiene diferentes significados en matemáticas y en programación. En programación, se refiere a una secuencia de operaciones a las cuales se les asigna un nombre. Por ejemplo, la función `sqrt()`, que está definida en el módulo `math` calcula la raíz cuadrada de un número:"
   ]
  },
  {
   "cell_type": "code",
   "execution_count": null,
   "metadata": {},
   "outputs": [],
   "source": [
    "import math\n",
    "math.sqrt(4)"
   ]
  },
  {
   "cell_type": "markdown",
   "metadata": {},
   "source": [
    "En este ejemplo, el valor que le pasamos a la función `sqrt` es 4.  Este valor se llama el *argumento* de la función. Una función puede tener cero, uno, o más de un argumento. \n",
    "\n",
    "La función devuelve el valor 2.0 al \"contexto de llamada\". Este valor se conoce como el *valor de salida* de la función.\n",
    "\n",
    "Se dice que una función *recibe* un argumento y *devuelve* un valor (o resultado)."
   ]
  },
  {
   "cell_type": "markdown",
   "metadata": {},
   "source": [
    "#### Confusión entre imprimir y devolver\n",
    "\n",
    "Un error común entre quienes se están iniciando en la programación consiste en confundir **imprimir** un valor con **devolver** un valor. \n",
    "\n",
    "Parte de la confusion sobre valores devueltos versus valores impresos viene por el hecho que el terminal Python imprime (una representación de) los objetos devueltos **siempre y cuando** estos no hayan sido asignados a una variable. Por ejemplo:"
   ]
  },
  {
   "cell_type": "code",
   "execution_count": null,
   "metadata": {},
   "outputs": [],
   "source": [
    "5**5"
   ]
  },
  {
   "cell_type": "markdown",
   "metadata": {},
   "source": [
    "Pero si el mismo valor es asignado a una variable, entonces el resultado no se imprime:"
   ]
  },
  {
   "cell_type": "code",
   "execution_count": null,
   "metadata": {},
   "outputs": [],
   "source": [
    "x = 5**5"
   ]
  },
  {
   "cell_type": "markdown",
   "metadata": {},
   "source": [
    "En ese sentido, en el siguiente código podría ser difícil ver si acaso la función `math.sin` devuelve o imprime el valor:"
   ]
  },
  {
   "cell_type": "code",
   "execution_count": null,
   "metadata": {},
   "outputs": [],
   "source": [
    "import math\n",
    "math.sin(2)"
   ]
  },
  {
   "cell_type": "markdown",
   "metadata": {},
   "source": [
    "Lo que realmente ocurre es: Importamos el módulo `math`, y llamamos a la función `math.sin` con el argumento `2`. La función `math.sin(2)` *devuelve* el valor `0.909...`, no lo imprmime. Sin embargo, como no hemos asignado el valor devuelto a ninguna variable, la consola Python imprime automáticamente el objeto devuelto.\n",
    "\n",
    "Dicho de otro modo, el código anterior es una forma resumida de:"
   ]
  },
  {
   "cell_type": "code",
   "execution_count": null,
   "metadata": {},
   "outputs": [],
   "source": [
    "import math\n",
    "print(math.sin(2))"
   ]
  },
  {
   "cell_type": "markdown",
   "metadata": {},
   "source": [
    "Si en cambio asignamos el valor devuelto a una variable `x`, no se imprime el valor, sino que queda almacenado en la variable `x`:"
   ]
  },
  {
   "cell_type": "code",
   "execution_count": null,
   "metadata": {},
   "outputs": [],
   "source": [
    "import math\n",
    "x = math.sin(2)"
   ]
  },
  {
   "cell_type": "markdown",
   "metadata": {},
   "source": [
    "Luego podemos operar y/o imprimir la variable `x`:"
   ]
  },
  {
   "cell_type": "code",
   "execution_count": null,
   "metadata": {},
   "outputs": [],
   "source": [
    "print(x + 1)"
   ]
  },
  {
   "cell_type": "markdown",
   "metadata": {},
   "source": [
    "Por lo general las funciones debiesen ejecutarse de manera \"silenciosa\" (*i.e.* sin imprimir nada) y dar los resultados de su cálculo devolviendo valores."
   ]
  },
  {
   "cell_type": "markdown",
   "metadata": {},
   "source": [
    "\n",
    "## Definiendo nuestras propias funciones\n",
    "\n",
    "En Python podemos programar nuestras propias funciones. El formato genérico para definir una función es el siguiente: \n",
    "\n",
    "```python\n",
    "def miFuncion(arg1, arg2, ..., argn):\n",
    "    \"\"\"Texto opcional para la documentación.\"\"\"\n",
    "\n",
    "    # Implementación de la función\n",
    "\n",
    "    return salida  # opcional\n",
    "\n",
    "# Esto ya no es parte de la función\n",
    "algun_comando\n",
    "```"
   ]
  },
  {
   "cell_type": "markdown",
   "metadata": {},
   "source": [
    "Por ejemplo, la función `bienvenida` definida a continuación imprime el string \"¡Hola Mundo!\". Es una función sin argumentos de entrada y que no devuelve ningún valor. "
   ]
  },
  {
   "cell_type": "code",
   "execution_count": null,
   "metadata": {},
   "outputs": [],
   "source": [
    "def bienvenida():\n",
    "    \"\"\"No recibe nada, solo imprime Hola. \"\"\"\n",
    "    print(\"¡Hola Mundo!\")"
   ]
  },
  {
   "cell_type": "markdown",
   "metadata": {},
   "source": [
    "Si llamamos esta función"
   ]
  },
  {
   "cell_type": "code",
   "execution_count": null,
   "metadata": {},
   "outputs": [],
   "source": [
    "bienvenida()"
   ]
  },
  {
   "cell_type": "code",
   "execution_count": null,
   "metadata": {},
   "outputs": [],
   "source": [
    "type(bienvenida)"
   ]
  },
  {
   "cell_type": "code",
   "execution_count": null,
   "metadata": {},
   "outputs": [],
   "source": [
    "help(bienvenida)"
   ]
  },
  {
   "cell_type": "markdown",
   "metadata": {},
   "source": [
    "ésta imprime \"¡Hola Mundo!\", como podría esperarse. \n",
    "\n",
    "Asignemos el valor que devuelve esta función a una variable `x`"
   ]
  },
  {
   "cell_type": "code",
   "execution_count": null,
   "metadata": {},
   "outputs": [],
   "source": [
    "x = bienvenida()"
   ]
  },
  {
   "cell_type": "code",
   "execution_count": null,
   "metadata": {},
   "outputs": [],
   "source": [
    "print(x)"
   ]
  },
  {
   "cell_type": "code",
   "execution_count": null,
   "metadata": {},
   "outputs": [],
   "source": [
    "type(x)"
   ]
  },
  {
   "cell_type": "code",
   "execution_count": null,
   "metadata": {},
   "outputs": [],
   "source": [
    "otronombre = bienvenida # Para renombrar una función"
   ]
  },
  {
   "cell_type": "code",
   "execution_count": null,
   "metadata": {},
   "outputs": [],
   "source": [
    "otronombre()"
   ]
  },
  {
   "cell_type": "markdown",
   "metadata": {},
   "source": [
    "encontramos que  `bienvenida` devolvió el objeto `None`. \n",
    "\n",
    "Consideremos ahora el siguiente ejemplo:"
   ]
  },
  {
   "cell_type": "code",
   "execution_count": null,
   "metadata": {},
   "outputs": [],
   "source": [
    "def muchasBienvenidas(n): \n",
    "    print(n * \"¡Hola Mundo! \")"
   ]
  },
  {
   "cell_type": "markdown",
   "metadata": {},
   "source": [
    "En este caso la función `muchasBienvenidas` tiene un argumento `n`. La función imprime el string `¡Hola Mundo! ` repetido `n` veces."
   ]
  },
  {
   "cell_type": "code",
   "execution_count": null,
   "metadata": {},
   "outputs": [],
   "source": [
    "x = muchasBienvenidas(9)"
   ]
  },
  {
   "cell_type": "code",
   "execution_count": null,
   "metadata": {},
   "outputs": [],
   "source": [
    "print(x)"
   ]
  },
  {
   "cell_type": "markdown",
   "metadata": {},
   "source": [
    "Por lo general, las funciones que devuelven valores son más útiles, ya que se pueden combinar con otros códigos, incluyendo otras funciones. Veamos algunos ejemplos de funciones que devuelven un valor.\n",
    "\n",
    "Supongamos que necesitamos definir una función que calcule el cuadrado de una variable. El código de la función podría ser:"
   ]
  },
  {
   "cell_type": "code",
   "execution_count": null,
   "metadata": {},
   "outputs": [],
   "source": [
    "def cuadrado(x):\n",
    "    \"\"\"Esta función recibe como argumento x y devuelve x*x\"\"\"\n",
    "    salida = x * x\n",
    "    return salida  # Aqui devuelve el valor"
   ]
  },
  {
   "cell_type": "markdown",
   "metadata": {},
   "source": [
    "La palabra clave `def` le dice a Python que en ese punto estamos *definiendo* una función. Esta función toma un argumento (`x`). La función *devuelve* `x * x`, que por supuesto vale $x^2$. \n",
    "\n",
    "Esta función puede ser llamada luego en otras partes del código:"
   ]
  },
  {
   "cell_type": "code",
   "execution_count": null,
   "metadata": {},
   "outputs": [],
   "source": [
    "cuadrado(10)"
   ]
  },
  {
   "cell_type": "code",
   "execution_count": null,
   "metadata": {},
   "outputs": [],
   "source": [
    "x = cuadrado(10)"
   ]
  },
  {
   "cell_type": "code",
   "execution_count": null,
   "metadata": {},
   "outputs": [],
   "source": [
    "type(x)"
   ]
  },
  {
   "cell_type": "code",
   "execution_count": null,
   "metadata": {},
   "outputs": [],
   "source": [
    "print(x)"
   ]
  },
  {
   "cell_type": "code",
   "execution_count": null,
   "metadata": {},
   "outputs": [],
   "source": [
    "help(cuadrado)"
   ]
  },
  {
   "cell_type": "markdown",
   "metadata": {},
   "source": [
    "Otro ejemplo"
   ]
  },
  {
   "cell_type": "code",
   "execution_count": null,
   "metadata": {},
   "outputs": [],
   "source": [
    "def primeroEnLista(lista):\n",
    "    \"\"\"devuelve el primer elemento de una lista. La entrada tiene que ser una lista.\"\"\"\n",
    "    x = lista[0]\n",
    "    return x"
   ]
  },
  {
   "cell_type": "code",
   "execution_count": null,
   "metadata": {},
   "outputs": [],
   "source": [
    "primeroEnLista([2,4,6,8,10])"
   ]
  },
  {
   "cell_type": "code",
   "execution_count": null,
   "metadata": {},
   "outputs": [],
   "source": [
    "listaejemplo = [2,4,6,8,10]\n",
    "primeroEnLista(listaejemplo)"
   ]
  },
  {
   "cell_type": "markdown",
   "metadata": {},
   "source": [
    "Observar que la función `primeroEnLista` recibe una lista (o secuencia), por lo que si le entregamos otra cosa (por ejemplo un número), obtenemos un error-\n",
    "."
   ]
  },
  {
   "cell_type": "code",
   "execution_count": null,
   "metadata": {},
   "outputs": [],
   "source": [
    "primeroEnLista(5)"
   ]
  },
  {
   "cell_type": "code",
   "execution_count": null,
   "metadata": {
    "attributes": {
     "classes": [
      "numberLines"
     ],
     "id": ""
    }
   },
   "outputs": [],
   "source": [
    "def cuadrado(x):\n",
    "    salida = x * x\n",
    "    return salida # Hasta aquí definimos la función\n",
    "\n",
    "# Esta parte no está en la función (está en el programa \"principal\")\n",
    "for i in range(5):\n",
    "    i2 = cuadrado(i)\n",
    "    print(i, '*', i, '=', i2)\n",
    "    \n",
    "x = int(input(\"Escribe un número: \"))\n",
    "print(cuadrado(x))"
   ]
  },
  {
   "cell_type": "markdown",
   "metadata": {},
   "source": [
    "Observamos que las líneas 1,2,3 definen la función `cuadrado`, mientras las líneas 5-10 son el **programa principal** (\"main program\")"
   ]
  },
  {
   "cell_type": "markdown",
   "metadata": {},
   "source": [
    "Podemos definir funciones de más de un argumento:"
   ]
  },
  {
   "cell_type": "code",
   "execution_count": null,
   "metadata": {},
   "outputs": [],
   "source": [
    "import math\n",
    "\n",
    "def hipotenusa(x, y):\n",
    "    salida = math.sqrt(x * x + y * y)\n",
    "    return salida"
   ]
  },
  {
   "cell_type": "code",
   "execution_count": null,
   "metadata": {},
   "outputs": [],
   "source": [
    "hipotenusa(3,4) # Si doy 3 y 4, me entrega 5 puesto que el triángulo rectangulo de lados 3 y 4 tiene hipotenusa 5"
   ]
  },
  {
   "cell_type": "code",
   "execution_count": null,
   "metadata": {},
   "outputs": [],
   "source": [
    "hipotenusa(3)"
   ]
  },
  {
   "cell_type": "code",
   "execution_count": null,
   "metadata": {},
   "outputs": [],
   "source": [
    "for x in range(1,3):\n",
    "    for y in range(4,7):\n",
    "        print(\"La hipotenusa del triángulo rectángulo de lados\", x, \"y\", y, \"vale\", hipotenusa(x,y))"
   ]
  },
  {
   "cell_type": "markdown",
   "metadata": {},
   "source": [
    "También es posible devolver más de un argumento. La función en el siguiente ejemplo recibe un string y devuelve una tupla dos versiones del string, una con todos sus caracteres escritos en mayúsculas y la otra con todos en minúsculas:"
   ]
  },
  {
   "cell_type": "code",
   "execution_count": null,
   "metadata": {},
   "outputs": [],
   "source": [
    "def upperAndLower(string):\n",
    "    return string.upper(), string.lower()\n",
    "\n",
    "palabra = 'Hola Mundo'\n",
    "\n",
    "mayus, minus = upperAndLower(palabra)\n",
    "\n",
    "print(palabra, 'en minúsculas:', minus)\n",
    "print(palabra, 'en mayúsculas:', mayus)"
   ]
  },
  {
   "cell_type": "markdown",
   "metadata": {},
   "source": [
    "Se puede definir más de una función en un mismo archivo Python. Por ejemplo:"
   ]
  },
  {
   "cell_type": "code",
   "execution_count": null,
   "metadata": {},
   "outputs": [],
   "source": [
    "def muchosAsteriscos( n ):\n",
    "    return n * '*'\n",
    "\n",
    "def imprimirConAsteriscos( string ):\n",
    "    largoMax = 50\n",
    "    asteriscos = muchosAsteriscos((largoMax - len(string)) // 2)\n",
    "\n",
    "    print(asteriscos + string + asteriscos)\n",
    "\n",
    "imprimirConAsteriscos('¡Hola Mundo!')"
   ]
  },
  {
   "cell_type": "markdown",
   "metadata": {},
   "source": [
    "##### Más información\n",
    "\n",
    "-   [Python Tutorial: Section 4.6 Defining Functions](http://docs.python.org/tutorial/controlflow.html#defining-functions)\n",
    "\n",
    "\n"
   ]
  },
  {
   "cell_type": "markdown",
   "metadata": {},
   "source": [
    "-------\n",
    "### Ejercicio\n",
    "\n",
    "1. Escriba una función llamada `justificarDerecha` que tenga como argumentos dos strings `texto1` y `texto2` e imprima en dos líneas los strings justificados a la derecha. Por ejemplo:\n",
    "\n",
    "```\n",
    "justificarDerecha(\"Hola como estas?\", \"bien!\")\n",
    "\n",
    "Hola como estas?\n",
    "           bien!\n",
    "```\n"
   ]
  },
  {
   "cell_type": "code",
   "execution_count": null,
   "metadata": {},
   "outputs": [],
   "source": [
    "# Escriba aquí su solución"
   ]
  },
  {
   "cell_type": "markdown",
   "metadata": {},
   "source": [
    "2. Escriba una función `dibujarGrilla` que reciba dos enteros entero `n` y `k` y dibuje una grilla de `n` por `n` cuadrados, cada uno de lado `k` \"guiones\". Por ejemplo, `dibujarGrilla(3,4)` imprime:\n",
    "\n",
    "```\n",
    "+--------+--------+--------+  \n",
    "|        |        |        |  \n",
    "|        |        |        |  \n",
    "|        |        |        |  \n",
    "|        |        |        |  \n",
    "+--------+--------+--------+  \n",
    "|        |        |        |  \n",
    "|        |        |        |  \n",
    "|        |        |        |  \n",
    "|        |        |        |  \n",
    "+--------+--------+--------+  \n",
    "|        |        |        |  \n",
    "|        |        |        |  \n",
    "|        |        |        |  \n",
    "|        |        |        |  \n",
    "+--------+--------+--------+\n",
    "```\n",
    "\n",
    "(fuente: http://greenteapress.com/thinkpython/html/thinkpython004.html#toc39)"
   ]
  },
  {
   "cell_type": "code",
   "execution_count": null,
   "metadata": {},
   "outputs": [],
   "source": [
    "# Escriba aquí su solución"
   ]
  },
  {
   "cell_type": "markdown",
   "metadata": {},
   "source": [
    "3. Un entero se dice creciente si cada uno de sus dígitos es menor que el siguiente. Por ejemplo `578` es creciente y `65` no es creciente. Por convención diremos que un entero positivo menor que `10` es creciente. \n",
    "Escriba una función llamada `es_creciente`, que recibe un entero positivo `numero` y devuelve `True` o `False` dependiendo de si `numero` es creciente. "
   ]
  },
  {
   "cell_type": "code",
   "execution_count": null,
   "metadata": {},
   "outputs": [],
   "source": [
    "# Escriba aquí su solución"
   ]
  },
  {
   "cell_type": "markdown",
   "metadata": {},
   "source": [
    "\n",
    "### Valores por defecto y argumentos opcionales\n",
    "\n",
    "Python permite definir valores *por defecto* para los argumentos de una función. \n",
    "\n",
    "La función del siguiente ejemplo recibe dos argumentos `n`y `hasta`, e imprime la \"tabla de multiplicar\" de `n`, multiplicando a `n` por todos los enteros entre `1`y `hasta` (incluyendo `hasta`):\n"
   ]
  },
  {
   "cell_type": "code",
   "execution_count": null,
   "metadata": {},
   "outputs": [],
   "source": [
    "def tablaMultiplicar(n, hasta):\n",
    "    print(\"Tabla del \"+str(n)+\":\")\n",
    "    for j in range(1,hasta+1):\n",
    "        print(n, \"por\", j, \"vale\", n*j)\n",
    "\n",
    "tablaMultiplicar(17,17)"
   ]
  },
  {
   "cell_type": "markdown",
   "metadata": {},
   "source": [
    "Como normalmente las tablas de multiplicar se enseñan para valores entre 1 y 10, vamos a redefinir la función `tablaMultiplicar` para que asuma por defecto el valor `hasta = 10`:"
   ]
  },
  {
   "cell_type": "code",
   "execution_count": null,
   "metadata": {},
   "outputs": [],
   "source": [
    "def tablaMultiplicar2(n, hasta = 10):  # Valor por defecto al argumento \"hasta\"\n",
    "    print(\"Tabla del\",n)\n",
    "    for j in range(0,hasta+1):\n",
    "        print(n, \"por\", j, \"vale\", n*j)"
   ]
  },
  {
   "cell_type": "markdown",
   "metadata": {},
   "source": [
    "De este modo se puede llamar a la función `tablaMultiplicar2` sin necesidad de dar el segundo argumento `hasta`. En ese caso, se asume que la variable `hasta` vale 10:"
   ]
  },
  {
   "cell_type": "code",
   "execution_count": null,
   "metadata": {},
   "outputs": [],
   "source": [
    "tablaMultiplicar2(7)"
   ]
  },
  {
   "cell_type": "markdown",
   "metadata": {},
   "source": [
    "...y no se pierde nada, en el sentido que el usuario puede asignar otro valor al argumento `hasta` si así lo desea:"
   ]
  },
  {
   "cell_type": "code",
   "execution_count": null,
   "metadata": {},
   "outputs": [],
   "source": [
    "tablaMultiplicar2(7,17)"
   ]
  },
  {
   "cell_type": "code",
   "execution_count": null,
   "metadata": {},
   "outputs": [],
   "source": [
    "list(range(1,5))  # Este es un ejemplo de una función que tiene valores por defecto. "
   ]
  },
  {
   "cell_type": "code",
   "execution_count": null,
   "metadata": {},
   "outputs": [],
   "source": [
    "help(math.log)  # La función log tiene base e por defecto (logaritmo natural)"
   ]
  },
  {
   "cell_type": "code",
   "execution_count": null,
   "metadata": {},
   "outputs": [],
   "source": [
    "math.log(5)  # Se asume base e"
   ]
  },
  {
   "cell_type": "code",
   "execution_count": null,
   "metadata": {},
   "outputs": [],
   "source": [
    "math.log(5,5) # Se especifica base 5"
   ]
  },
  {
   "cell_type": "markdown",
   "metadata": {},
   "source": [
    "### Ejercicio\n",
    "\n",
    "1. Escriba una función `char_range` que tiene como argumentos tres enteros `inicio`, `fin` y `paso` y entregue un string análogo a `range(inicio, fin, paso)` salvo que con letras en vez de números. Los valores `inicio` y paso `deben` ser opcionales al igual que con `range`. \n",
    "\n",
    "Ejemplos:\n",
    "\n",
    "```python \n",
    "\n",
    ">>>char_range(5)\n",
    "'abcde'\n",
    "\n",
    ">>> char_range(8,15)\n",
    "'ijklmno'\n",
    "\n",
    ">>>char_range(2,20,2)\n",
    "'cegikmoqs'\n",
    "\n",
    "```\n",
    "**Hint:** Puede utilizar la función `chr(n)` que entrega el n-ésimo caracter, de acuerdo a una lista cuyo valor 97 correspodne a la letra \"a\" y el valor 122 la \"z\". \n",
    "\n"
   ]
  },
  {
   "cell_type": "code",
   "execution_count": null,
   "metadata": {},
   "outputs": [],
   "source": [
    "# Escribe aquí tu solución"
   ]
  },
  {
   "cell_type": "markdown",
   "metadata": {},
   "source": [
    "2.\n",
    "Escriba una función `decimal_a_base` que tiene como argumentos dos enteros positivos, que llamaremos `n` y `b`. La función debe asumir que `n` está en base decimal, y lo va a transformar a la base `b`. Por lo tanto, la función retorna `numero_b` que corresponde a `n` en base `b`.  Además, el argumento `b` debe ser opcional, teniendo como valor por defecto `2`. \n",
    "\n",
    "```python\n",
    ">>>decimal_a_base(2,2)\n",
    "10\n",
    "\n",
    ">>>decimal_a_base(2)\n",
    "10\n",
    "\n",
    ">>>decimal_a_base(25)\n",
    "11001\n",
    "\n",
    ">>>decimal_a_base(807,4)\n",
    "30213\n",
    "\n",
    "\n",
    "```"
   ]
  },
  {
   "cell_type": "code",
   "execution_count": null,
   "metadata": {},
   "outputs": [],
   "source": [
    "# Escribe aquí tu solución"
   ]
  },
  {
   "cell_type": "markdown",
   "metadata": {},
   "source": [
    "### Modulos\n",
    "\n",
    "Los modulos (o librerías) permiten agrupar varias funciones en un solo archivo. Normalmente estas funciones tienen una usabilidad común (funciones matemáticas, operaciones vectoriales, cálculo simbólico, graficar, etc). \n",
    "\n",
    "Python viene preinstalado con varios módulos, que se pueden conocer con el comando `help('modules')`. En esta sección aprenderemos a utilizar y construir nuestros propios módulos. \n"
   ]
  },
  {
   "cell_type": "code",
   "execution_count": null,
   "metadata": {},
   "outputs": [],
   "source": [
    "help('modules')"
   ]
  },
  {
   "cell_type": "markdown",
   "metadata": {},
   "source": [
    "### Importando módulos\n",
    "Como hemos visto anteriormente, para acceder a las funciones de un módulo se utiliza el comando `import`. Por ejemplo, para acceder al módulo de herramientas matemáticas lo hacemos con el comando:"
   ]
  },
  {
   "cell_type": "code",
   "execution_count": null,
   "metadata": {},
   "outputs": [],
   "source": [
    "import math"
   ]
  },
  {
   "cell_type": "markdown",
   "metadata": {},
   "source": [
    "Este comando va a agregar el nombre `math` al *espacio de nombres* (namespace) donde el comando ha sido llamado. Los nombres definidos en el módulo `math` no se agregan directamente, sino que se debe acceder a ellos a través del nombre `math.`. Por ejemplo `math.sin`."
   ]
  },
  {
   "cell_type": "code",
   "execution_count": null,
   "metadata": {},
   "outputs": [],
   "source": [
    "math.sin(1)"
   ]
  },
  {
   "cell_type": "code",
   "execution_count": null,
   "metadata": {},
   "outputs": [],
   "source": [
    "math.cos(math.pi)"
   ]
  },
  {
   "cell_type": "markdown",
   "metadata": {},
   "source": [
    "Se puede importar más de un módulo en la misma línea:"
   ]
  },
  {
   "cell_type": "code",
   "execution_count": null,
   "metadata": {},
   "outputs": [],
   "source": [
    "import math, cmath # cmath es una librería de funciones matemáticas para números complejos"
   ]
  },
  {
   "cell_type": "markdown",
   "metadata": {},
   "source": [
    "Pero la guía de estilos Pyhton [Python Style Guide](http://www.python.org/dev/peps/pep-0008/) recomienda no hacerlo. En cambio, escribimos:"
   ]
  },
  {
   "cell_type": "code",
   "execution_count": null,
   "metadata": {},
   "outputs": [],
   "source": [
    "import math\n",
    "import cmath "
   ]
  },
  {
   "cell_type": "markdown",
   "metadata": {},
   "source": [
    "Se puede escoger un nombre para un módulo distinto a su nombre \"oficial\"."
   ]
  },
  {
   "cell_type": "code",
   "execution_count": null,
   "metadata": {},
   "outputs": [],
   "source": [
    "import math as mathematics"
   ]
  },
  {
   "cell_type": "code",
   "execution_count": null,
   "metadata": {},
   "outputs": [],
   "source": [
    "mathematics.sin(1)"
   ]
  },
  {
   "cell_type": "code",
   "execution_count": null,
   "metadata": {},
   "outputs": [],
   "source": [
    "import math as mt"
   ]
  },
  {
   "cell_type": "code",
   "execution_count": null,
   "metadata": {},
   "outputs": [],
   "source": [
    "mt.sin(1)"
   ]
  },
  {
   "cell_type": "markdown",
   "metadata": {},
   "source": [
    "Tipicamente esto se usa para:\n",
    "\n",
    "-   Evitar coincidencias con otros nombres\n",
    "\n",
    "-   Para cambiar el nombre a algo más manejable. Por ejemplo `import SimpleHTTPServer as shs` \n"
   ]
  },
  {
   "cell_type": "markdown",
   "metadata": {},
   "source": [
    "También se pueden importar objetos individuales de un módulo. Por ejemplo el siguiente código:"
   ]
  },
  {
   "cell_type": "code",
   "execution_count": null,
   "metadata": {},
   "outputs": [],
   "source": [
    "from math import sin"
   ]
  },
  {
   "cell_type": "markdown",
   "metadata": {},
   "source": [
    "Va a importar la función `sin` del módulo `math`. Este código no va a agregar el nombre `math` al espacio de nombres actual, solo el nombre `sin`. "
   ]
  },
  {
   "cell_type": "code",
   "execution_count": null,
   "metadata": {},
   "outputs": [],
   "source": [
    "sin(1)"
   ]
  },
  {
   "cell_type": "markdown",
   "metadata": {},
   "source": [
    "Es posible importar más de un nombre a la vez:"
   ]
  },
  {
   "cell_type": "code",
   "execution_count": null,
   "metadata": {},
   "outputs": [],
   "source": [
    "from math import sin, cos"
   ]
  },
  {
   "cell_type": "code",
   "execution_count": null,
   "metadata": {},
   "outputs": [],
   "source": [
    "cos(0)"
   ]
  },
  {
   "cell_type": "markdown",
   "metadata": {},
   "source": [
    "o bien todos los nombres del módulo:"
   ]
  },
  {
   "cell_type": "code",
   "execution_count": null,
   "metadata": {},
   "outputs": [],
   "source": [
    "from math import *"
   ]
  },
  {
   "cell_type": "code",
   "execution_count": null,
   "metadata": {},
   "outputs": [],
   "source": [
    "pi"
   ]
  },
  {
   "cell_type": "markdown",
   "metadata": {},
   "source": [
    "Una vez más, esto no va a agregar el nombre `math` al espacio de nombres actual. Sin embargo va a agregar todos los nombres *publicos* del módulo math al espacio de nombres. En general, es una mala idea hacer esto:\n",
    "\n",
    "-   Muchos nombres no utilizados se van a guardar inecesariamente en el espacio de nombres. \n",
    "\n",
    "-   Probablemente se van a reescribir nombres ya existentes. \n",
    "\n",
    "-   Se hará difícil identificar de qué módulo vienen los nombres."
   ]
  },
  {
   "cell_type": "markdown",
   "metadata": {},
   "source": [
    "### Creando módulos\n",
    "\n",
    "Un módulo es en principio simplemente un archivo Python.\n",
    "\n",
    "Crearemos un ejemplo de un módulo, que guardaremos como `modulo1.py`:"
   ]
  },
  {
   "cell_type": "code",
   "execution_count": null,
   "metadata": {},
   "outputs": [],
   "source": [
    "%%file modulo1.py\n",
    "def unaFuncionMuyUtil(y):\n",
    "    x = y+1\n",
    "    return x\n",
    "\n",
    "palabraMagica = \"abracadabra\""
   ]
  },
  {
   "cell_type": "markdown",
   "metadata": {},
   "source": [
    "Este módulo contiene dos objetos: la función llamada `unaFuncionMuyUtil` y una variable `palabraMagica`.\n",
    "\n",
    "Podemos ejecutar este archivo (módulo) al igual que cualquier programa Python (por ejemplo escribiendo `python module1.py` en una consola). En este archivo Jupyter escribimos:"
   ]
  },
  {
   "cell_type": "code",
   "execution_count": null,
   "metadata": {},
   "outputs": [],
   "source": [
    "!python3 modulo1.py"
   ]
  },
  {
   "cell_type": "markdown",
   "metadata": {},
   "source": [
    "También podemos importar el módulo:"
   ]
  },
  {
   "cell_type": "code",
   "execution_count": null,
   "metadata": {},
   "outputs": [],
   "source": [
    "import modulo1"
   ]
  },
  {
   "cell_type": "markdown",
   "metadata": {},
   "source": [
    "y así tener acceso a sus objetos:"
   ]
  },
  {
   "cell_type": "markdown",
   "metadata": {},
   "source": [
    "Cuando Python se encuentra con el comando `import modulo1`, éste busca el archivo `modulo2.py` en el directorio de trabajo actual, y abre el archivo `modulo2.py`. Cuando revisa el archivo `modulo2.py`, Python va a agregar todas las definiciones de funciones y variables del `modulo2` al espacio de nombres al contexto de llamada. Entonces, las variables y funciones definidas en `modulo2.py` van a ser accesibles:"
   ]
  },
  {
   "cell_type": "code",
   "execution_count": null,
   "metadata": {},
   "outputs": [],
   "source": [
    "modulo1.unaFuncionMuyUtil(5)"
   ]
  },
  {
   "cell_type": "code",
   "execution_count": null,
   "metadata": {},
   "outputs": [],
   "source": [
    "modulo1.palabraMagica"
   ]
  },
  {
   "cell_type": "markdown",
   "metadata": {},
   "source": [
    "### La variable  `__name__`"
   ]
  },
  {
   "cell_type": "markdown",
   "metadata": {},
   "source": [
    "La \"variable mágica\" `__name__` es una variable especial, predefinida en Python, y que sirve para identificar en qué nivel (de sangría) se está ejecutando el código. La variable toma como valor el string `__main__` si el código es ejecutado en el nivel \"0\":"
   ]
  },
  {
   "cell_type": "code",
   "execution_count": null,
   "metadata": {},
   "outputs": [],
   "source": [
    "__name__"
   ]
  },
  {
   "cell_type": "code",
   "execution_count": null,
   "metadata": {},
   "outputs": [],
   "source": [
    "type(__name__)"
   ]
  },
  {
   "cell_type": "markdown",
   "metadata": {},
   "source": [
    "Esta variable se usa cuando se definen módulos. Veamos un ejemplo:"
   ]
  },
  {
   "cell_type": "code",
   "execution_count": null,
   "metadata": {},
   "outputs": [],
   "source": [
    "%%file modulo2.py\n",
    "def unaFuncionMuyUtil(y):\n",
    "    x = y+1\n",
    "    return x\n",
    "\n",
    "print(\"Soy modulo2, mi variable `name` se llama:\", __name__)"
   ]
  },
  {
   "cell_type": "markdown",
   "metadata": {},
   "source": [
    "Si ejecutamos directamente el módulo, obtendremos que la variable `__name__` toma el valor `__main__`:"
   ]
  },
  {
   "cell_type": "code",
   "execution_count": null,
   "metadata": {},
   "outputs": [],
   "source": [
    "!python3 modulo2.py   #escribir solo !python si no funciona así"
   ]
  },
  {
   "cell_type": "markdown",
   "metadata": {},
   "source": [
    "Por otro lado, si el código es ejecutado como parte de un módulo importado, la variable toma el nombre del archivo que la contiene:"
   ]
  },
  {
   "cell_type": "code",
   "execution_count": null,
   "metadata": {},
   "outputs": [],
   "source": [
    "import modulo2        # in file prog.py"
   ]
  },
  {
   "cell_type": "markdown",
   "metadata": {},
   "source": [
    "Si ahora escribimos un programa en Python (`programa.py`) que importa el módulo modulo2:"
   ]
  },
  {
   "cell_type": "code",
   "execution_count": null,
   "metadata": {},
   "outputs": [],
   "source": [
    "%%file programa1.py\n",
    "\n",
    "print(\"Comenzando programa 1\")\n",
    "print(\"Importamos el modulo 2\")\n",
    "import modulo2\n",
    "\n",
    "print(\"Soy programa1, mi variable name se llama:\", __name__)"
   ]
  },
  {
   "cell_type": "code",
   "execution_count": null,
   "metadata": {},
   "outputs": [],
   "source": [
    "!python3 programa1.py  # Reinicien kernel para olvidar que importaron el modulo2"
   ]
  },
  {
   "cell_type": "markdown",
   "metadata": {},
   "source": [
    "Vemos que la variable `__name__` toma el valor `modulo2` al ser llamada por `modulo2`, y toma el valor `__main__` cuando quien la llama por `programa1`:"
   ]
  },
  {
   "cell_type": "markdown",
   "metadata": {},
   "source": [
    "### Utilidad de \\_\\_name\\_\\_\n",
    "\n",
    "En resumen,\n",
    "\n",
    "-   `__name__` vale `__main__` si el módulo se corre solo (e.g. `python nombreModulo.py`)\n",
    "\n",
    "-   `__name__` es igual al nombre del módulo (i.e. el nombre sin el sufijo `.py`) si el módulo es importado.\n",
    "\n",
    "Podemos entonces usar un condicional para escribir código que **solo se ejecuta** cuando el módulo corre solo. Esto es útil para dejar programas de prueba o demostaciones del módulo en este \"programa principal condicional\". Es una práctica común dejar un programa principal de demostación en cualquier módulo."
   ]
  },
  {
   "cell_type": "code",
   "execution_count": null,
   "metadata": {},
   "outputs": [],
   "source": [
    "%%file modulo3.py\n",
    "\"\"\"Hola\"\"\"\n",
    "\n",
    "def unaFuncionMuyUtil(y):\n",
    "    x = y+1\n",
    "    return x\n",
    "\n",
    "if __name__ == \"__main__\":\n",
    "    print(\"Este modulo contiene una función muy útil.\")\n",
    "    print(\"Se llama utilizando el comando 'unaFuncionMuyUtil(n)'\")\n",
    "    print(\"Por ejemplo, si n=5 el valor es:\", unaFuncionMuyUtil(5))\n",
    "else:\n",
    "    print(\"En este caso importamos el modulo\")"
   ]
  },
  {
   "cell_type": "code",
   "execution_count": null,
   "metadata": {},
   "outputs": [],
   "source": [
    "!python3 modulo3.py"
   ]
  },
  {
   "cell_type": "markdown",
   "metadata": {},
   "source": [
    "Si el archivo es importado (*i.e.* usado como módulo), entonces `__name__ == \"__main__\"` es falso y el bloque condicional no se ejecuta. "
   ]
  },
  {
   "cell_type": "code",
   "execution_count": null,
   "metadata": {},
   "outputs": [],
   "source": [
    "import numpy"
   ]
  },
  {
   "cell_type": "code",
   "execution_count": null,
   "metadata": {},
   "outputs": [],
   "source": [
    "help(math.sin)"
   ]
  },
  {
   "cell_type": "markdown",
   "metadata": {},
   "source": [
    "#### Más información\n",
    "\n",
    "-   [Python Tutorial Section 6](http://docs.python.org/tutorial/modules.html#modules)"
   ]
  },
  {
   "cell_type": "markdown",
   "metadata": {},
   "source": [
    "### Ejercicio"
   ]
  },
  {
   "cell_type": "markdown",
   "metadata": {},
   "source": [
    "\n",
    "El objetivo de este ejercicio es crear el módulo `bases.py`. Éste módulo debe contener tres funciones:\n",
    "1. La función `decimal_a_base` que tiene como argumentos dos enteros positivos, que llamaremos `numero` y `base`; y retorna `numero_b` que corresponde a `numero` en base `base`.  El argumento `base` debe ser opcional, teniendo como valor por defecto `2` (esta función fue creada en un ejercicio anterior). \n",
    "2. La función `base_a_decimal`, que tiene como argumentos dos enteros positivos, que llamaremos `numero_b` y `base`; y retorna `numero` que corresponde a `numero_b` en base decimal, asumiendo que `numero_b` está en base `base`.  El argumento `base` debe ser opcional, teniendo como valor por defecto `2`.\n",
    "3. La función `cambio_de_base`, que recibe como argumentos tres enteros positivos `numero`, `base_1` y `base_2` y retorna `numero` en base `base_2`, asumiendo que de entrada el número estaba escrito en `base_1`. Los argumentos `base_1` y `base_2` deben ser opcionales, teniendo como valores por defecto `10` y `2`, respectivamente.\n",
    "\n",
    "Además, si el módulo es ejecutado solo (no importado en otro programa) entonces debe correr un programa que prueba las tres funciones para valores escogidos por usted. \n",
    "\n",
    "(Su programa solo debe funcionar para valores de `base`, `base_1` o `base_2` entre 2 y 9)"
   ]
  },
  {
   "cell_type": "code",
   "execution_count": null,
   "metadata": {},
   "outputs": [],
   "source": [
    "# Escribe aquí tu solución"
   ]
  }
 ],
 "metadata": {
  "kernelspec": {
   "display_name": "Python 3",
   "language": "python",
   "name": "python3"
  },
  "language_info": {
   "codemirror_mode": {
    "name": "ipython",
    "version": 3
   },
   "file_extension": ".py",
   "mimetype": "text/x-python",
   "name": "python",
   "nbconvert_exporter": "python",
   "pygments_lexer": "ipython3",
   "version": "3.8.8"
  }
 },
 "nbformat": 4,
 "nbformat_minor": 4
}
