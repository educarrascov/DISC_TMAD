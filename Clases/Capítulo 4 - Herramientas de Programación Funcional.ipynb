{
 "cells": [
  {
   "cell_type": "markdown",
   "metadata": {},
   "source": [
    "# Taller de Manejo y Análisis de Datos\n",
    "\n",
    "**Profesor**: Pedro Montealegre"
   ]
  },
  {
   "cell_type": "markdown",
   "metadata": {},
   "source": [
    "# Herramientas de Programación funcional\n",
    "\n",
    "En Python, hay comandos bases como `map`, `filter`, `reduce` así como también `lambda` (para crear funciones anónimas) y *list comprehension*. Estos son típicos comandos de lenguajes de programación funcional (como LISP). \n",
    "\n",
    "\n",
    "La programación funcional puede ser extremadamente poderosa, y una de las fortalezas de Python es que permite programar en los tres paradigmas fundamentales: (i) programación procedual, (ii) programación orientada a objetos y (iii) de estilo funcional. Es el programador quién elige cuál forma usar, dependiendo de sus gustos y necesidades.\n",
    "\n",
    "\n",
    "## Funciones Anónimas\n",
    "\n",
    "Todas las funciones que hemos visto en Python hasta el momento se han definido a través de la palabra clave `def`, por ejemplo:"
   ]
  },
  {
   "cell_type": "code",
   "execution_count": null,
   "metadata": {},
   "outputs": [],
   "source": [
    "def cuadrado(x):\n",
    "     return x ** 2"
   ]
  },
  {
   "cell_type": "code",
   "execution_count": null,
   "metadata": {},
   "outputs": [],
   "source": [
    "def polinomio(x):\n",
    "    return x**4 + 3*x**3 + 2*x**2 + x + 1"
   ]
  },
  {
   "cell_type": "code",
   "execution_count": null,
   "metadata": {},
   "outputs": [],
   "source": [
    "polinomio(2)"
   ]
  },
  {
   "cell_type": "code",
   "execution_count": null,
   "metadata": {},
   "outputs": [],
   "source": [
    "polinomio(3)"
   ]
  },
  {
   "cell_type": "markdown",
   "metadata": {},
   "source": [
    "Esta función tiene el nombre `cuadrado`. Una vez que la función es definida (i.e. el intérprete Python pasa por la línea `def`), podemos llamar a la función usando su nombre, por ejemplo:"
   ]
  },
  {
   "cell_type": "code",
   "execution_count": null,
   "metadata": {},
   "outputs": [],
   "source": [
    "cuadrado(5)"
   ]
  },
  {
   "cell_type": "code",
   "execution_count": null,
   "metadata": {},
   "outputs": [],
   "source": [
    "type(cuadrado)"
   ]
  },
  {
   "cell_type": "markdown",
   "metadata": {},
   "source": [
    "A veces, necesitamos definir una función que solo se va a usar una vez. En este caso, creamos lo que se llama una *función anónima*, una que no tiene nombre. En Python, la palabra clave `lambda` permite crear funciones anónimas. \n",
    "\n",
    "```python\n",
    "lambda argumentos : codigo\n",
    "```\n",
    "\n",
    "Siguiendo el ejemplo anterior, la siguiente función anónima tendrá el mismo funcionamiento que `cuadrado`:"
   ]
  },
  {
   "cell_type": "code",
   "execution_count": null,
   "metadata": {},
   "outputs": [],
   "source": [
    "lambda x: x ** 2"
   ]
  },
  {
   "cell_type": "code",
   "execution_count": null,
   "metadata": {},
   "outputs": [],
   "source": [
    "type(lambda x: x ** 2)"
   ]
  },
  {
   "cell_type": "code",
   "execution_count": null,
   "metadata": {},
   "outputs": [],
   "source": [
    "(lambda x: x ** 2)(10)"
   ]
  },
  {
   "cell_type": "markdown",
   "metadata": {},
   "source": [
    "También podemos asignar el resultado a una variable y así definir una función de manera concisa:"
   ]
  },
  {
   "cell_type": "code",
   "execution_count": null,
   "metadata": {},
   "outputs": [],
   "source": [
    "cuadrado2 = (lambda x: x ** 2)\n",
    "cuadrado2(5)"
   ]
  },
  {
   "cell_type": "markdown",
   "metadata": {},
   "source": [
    "Las funciónes anónimas pueden tomar más de un argumento::"
   ]
  },
  {
   "cell_type": "code",
   "execution_count": null,
   "metadata": {},
   "outputs": [],
   "source": [
    "(lambda x, y: x + y)(10, 20)"
   ]
  },
  {
   "cell_type": "code",
   "execution_count": null,
   "metadata": {},
   "outputs": [],
   "source": [
    "(lambda x, y, z: (x + y) * z )(10, 20, 2)"
   ]
  },
  {
   "cell_type": "markdown",
   "metadata": {},
   "source": [
    "o ninguno..."
   ]
  },
  {
   "cell_type": "code",
   "execution_count": null,
   "metadata": {},
   "outputs": [],
   "source": [
    "(lambda : _+1)()"
   ]
  },
  {
   "cell_type": "code",
   "execution_count": null,
   "metadata": {},
   "outputs": [],
   "source": [
    "_"
   ]
  },
  {
   "cell_type": "markdown",
   "metadata": {},
   "source": [
    "**Importante** las funciones anónimas solo pueden usarse cuando su código se pueda escribir en **una y solo una** línea. "
   ]
  },
  {
   "cell_type": "markdown",
   "metadata": {},
   "source": [
    "### Ejercicio\n",
    "1. Escriba una función anónima equivalente a la función definida por el siguiente código:\n",
    "```python\n",
    "def funcion_ejemplo(x,texto):\n",
    "    texto_mayus = texto.upper()\n",
    "    texto_repetido = x*(texto_mayus+\" \")\n",
    "    return(texto_repetido)\n",
    "```"
   ]
  },
  {
   "cell_type": "code",
   "execution_count": null,
   "metadata": {},
   "outputs": [],
   "source": [
    "# Escribe aquí tu solución"
   ]
  },
  {
   "cell_type": "markdown",
   "metadata": {},
   "source": [
    "2. Escriba una función anónima que tenga como argumento tres variables `a`, `b`, `c` y devuelva `True` si `a` es múltiplo de `b` o `a` es múltiplo de `c`; y en caso contrario devuelva `False`."
   ]
  },
  {
   "cell_type": "code",
   "execution_count": null,
   "metadata": {},
   "outputs": [],
   "source": [
    "# Escribe aquí tu solución"
   ]
  },
  {
   "cell_type": "markdown",
   "metadata": {},
   "source": [
    "## Map\n",
    "\n",
    "La función `map(f,s)` recibe como argumentos una función `f` y una secuencia `s`, y el resultado que devuelve se puede transformar en una lista que consiste en la aplicación de la función `f` a todos los elementos de `s`:"
   ]
  },
  {
   "cell_type": "code",
   "execution_count": null,
   "metadata": {},
   "outputs": [],
   "source": [
    "def f(x): \n",
    "    return x ** 2\n",
    "list(map(f, range(10)))"
   ]
  },
  {
   "cell_type": "code",
   "execution_count": null,
   "metadata": {},
   "outputs": [],
   "source": [
    "for i in map(f, range(10)):\n",
    "    print(i)"
   ]
  },
  {
   "cell_type": "code",
   "execution_count": null,
   "metadata": {},
   "outputs": [],
   "source": [
    "range(10)"
   ]
  },
  {
   "cell_type": "code",
   "execution_count": null,
   "metadata": {},
   "outputs": [],
   "source": [
    "list(range(10))"
   ]
  },
  {
   "cell_type": "code",
   "execution_count": null,
   "metadata": {},
   "outputs": [],
   "source": [
    "list(map(f,range(10)))"
   ]
  },
  {
   "cell_type": "code",
   "execution_count": null,
   "metadata": {},
   "outputs": [],
   "source": [
    "list(map(f,[2,4,3,1,6,8]))"
   ]
  },
  {
   "cell_type": "code",
   "execution_count": null,
   "metadata": {},
   "outputs": [],
   "source": [
    "def mayusculas(texto):\n",
    "    return texto.upper()\n",
    "\n",
    "valor = map(mayusculas, ['pera', 'manzana', 'naranja'])"
   ]
  },
  {
   "cell_type": "code",
   "execution_count": null,
   "metadata": {},
   "outputs": [],
   "source": [
    "for i in valor:\n",
    "    print(i)"
   ]
  },
  {
   "cell_type": "code",
   "execution_count": null,
   "metadata": {},
   "outputs": [],
   "source": [
    "list(valor)  # En el for anterior borramos los valores"
   ]
  },
  {
   "cell_type": "code",
   "execution_count": null,
   "metadata": {},
   "outputs": [],
   "source": [
    "valor = map(mayusculas, ['pera', 'manzana', 'naranja'])\n",
    "for i in valor:\n",
    "    print(i)\n",
    "\"MANZANA\" in valor"
   ]
  },
  {
   "cell_type": "code",
   "execution_count": null,
   "metadata": {},
   "outputs": [],
   "source": [
    "valor = map(mayusculas, ['pera', 'manzana', 'naranja'])\n",
    "print(\"PERA\" in valor) \n",
    "print(list(valor))"
   ]
  },
  {
   "cell_type": "code",
   "execution_count": null,
   "metadata": {},
   "outputs": [],
   "source": [
    "list(valor)"
   ]
  },
  {
   "cell_type": "code",
   "execution_count": null,
   "metadata": {},
   "outputs": [],
   "source": [
    "valor = map(mayusculas, ['pera', 'manzana', 'naranja'])\n",
    "print(\"MANZANA\" in valor) # Aquí busca el string \"MANZANA\" en valor, y si lo encuentra lo borra\n",
    "print(\"MANZANA\" in valor) # Así que si vuelvo a llamar a la variable, no la encuentro"
   ]
  },
  {
   "cell_type": "code",
   "execution_count": null,
   "metadata": {},
   "outputs": [],
   "source": [
    "list(valor) # De hecho se borran todos los elementos"
   ]
  },
  {
   "cell_type": "code",
   "execution_count": null,
   "metadata": {},
   "outputs": [],
   "source": [
    "valor = list(map(mayusculas, ['pera', 'manzana', 'naranja']))\n",
    "print(\"MANZANA\" in valor)  "
   ]
  },
  {
   "cell_type": "markdown",
   "metadata": {},
   "source": [
    "A menudo se combina la función `map` con funciones anónimas `lambda`:"
   ]
  },
  {
   "cell_type": "code",
   "execution_count": null,
   "metadata": {},
   "outputs": [],
   "source": [
    "list(map(lambda x: x ** 2, range(10) ))"
   ]
  },
  {
   "cell_type": "code",
   "execution_count": null,
   "metadata": {},
   "outputs": [],
   "source": [
    "list(map(lambda s: s.upper(), ['pera', 'manzana', 'naranja']))"
   ]
  },
  {
   "cell_type": "markdown",
   "metadata": {},
   "source": [
    "### Ejercicio\n",
    "1.  En este ejercicio utilizaremos el archivo `Ejercicio_map.txt`, que contiene una lista enumerada de 20 números escogidos al azar entre 0 y 1, en el formato `i,numero`. Escriba un programa que utilice la función `map` para construir una lista en la que se reemplace cada línea del archivo `Ejercicio_map.txt` por un `0`o `1` dependiendo si el número correspondiente es mayor a `0.5`."
   ]
  },
  {
   "cell_type": "code",
   "execution_count": null,
   "metadata": {},
   "outputs": [],
   "source": [
    "# Código para crear el archivo\n",
    "import random\n",
    "file = open('Ejercicio_map.txt', 'w')\n",
    "    \n",
    "for i in range(20):\n",
    "    file.write(str(i)+\",\"+str(random.random())+\"\\n\")\n",
    "# random.random() genera un número al azar entre 0 y 1\n",
    "file.close()"
   ]
  },
  {
   "cell_type": "code",
   "execution_count": null,
   "metadata": {},
   "outputs": [],
   "source": [
    "# Escriba  aquí su solución"
   ]
  },
  {
   "cell_type": "markdown",
   "metadata": {},
   "source": [
    "## Filter\n",
    "\n",
    "Sea `f` el nombre de alguna función, el comando `filter` está diseñado para usarse con alguna función `f` que devuelva un valor de tipo `bool` (i.e. `True` o `False`). La función `filter(f, s)` aplica la función `f` a todos los elementos de la secuencia `s`, y devuelve una lista para los cuales `f` devuelve `True`. Por ejemplo:"
   ]
  },
  {
   "cell_type": "code",
   "execution_count": null,
   "metadata": {},
   "outputs": [],
   "source": [
    "def mayor_que_5(x):\n",
    "    if x > 5:\n",
    "            return True\n",
    "    else:\n",
    "            return False\n",
    "        \n",
    "list(filter(mayor_que_5, range(11)))"
   ]
  },
  {
   "cell_type": "markdown",
   "metadata": {},
   "source": [
    "El uso de `lambda` puede simplificar esta tarea significativamente: "
   ]
  },
  {
   "cell_type": "code",
   "execution_count": null,
   "metadata": {},
   "outputs": [],
   "source": [
    "list(filter(lambda x: x > 5, range(11))) # Se guardan los que dan verdadero"
   ]
  },
  {
   "cell_type": "markdown",
   "metadata": {},
   "source": [
    "Otro ejemplo:"
   ]
  },
  {
   "cell_type": "code",
   "execution_count": null,
   "metadata": {},
   "outputs": [],
   "source": [
    "lista_fruta = ['manzana', 'pera', 'platano']\n",
    "lista_otra = ['perro', 'gato', 'manzana', 'auto', 'tren', 'platano']\n",
    "\n",
    "list(filter(lambda palabra: not palabra in lista_fruta, lista_otra))\n"
   ]
  },
  {
   "cell_type": "code",
   "execution_count": null,
   "metadata": {},
   "outputs": [],
   "source": [
    "fruta = ['manzana', 'pera', 'platano']\n",
    "list(filter(lambda otrapalabra : \n",
    "            (lambda palabra, fruta : not palabra in fruta)(otrapalabra,fruta), \n",
    "            ['perro', 'gato', 'manzana', 'auto', 'tren', 'platano']))"
   ]
  },
  {
   "cell_type": "markdown",
   "metadata": {},
   "source": [
    "### Diferencia entre map y filter\n",
    "La función Map toma todos los elementos de una secuencia `s` y aplica una función `f` a cada uno de los elementos de la secuencia, retornando una nueva secuencia según el output correspondiente.<br>\n",
    "La función filter, tal como lo dice su nombre, filtra los valores que cumplen con la condición de una función. Por lo cual, toma todos los elementos de una secuencia `s` y aplica una función `f` a cada uno de los elementos de la secuencia, retornando una nueva secuencia solo con los valores (NO con los outputs) donde la función fue verdadera."
   ]
  },
  {
   "cell_type": "code",
   "execution_count": null,
   "metadata": {},
   "outputs": [],
   "source": [
    "#Ejemplo\n",
    "#Verificando si un número es par o impar\n",
    "print(list(map(lambda var: var%2==0,range(10))))\n",
    "\n",
    "#Filtrando los números, solo dejo pasar los números pares\n",
    "print(list(filter(lambda var: var%2==0,range(10))))\n",
    "\n",
    "#Código inicial para hacer lo mismo que filter\n",
    "lista=[]\n",
    "for i in range(10):\n",
    "    if i%2==0:\n",
    "        lista.append(i)\n",
    "print(lista)"
   ]
  },
  {
   "cell_type": "markdown",
   "metadata": {},
   "source": [
    "### Ejercicio\n",
    "1.  Genere una lista al azar de 10000 valores entre `0`y `1` (use el módulo `random` y la función `random.random()`). Luego use el comando `filter` para contar cuántos valores en la lista son mayores que `0.9`."
   ]
  },
  {
   "cell_type": "code",
   "execution_count": null,
   "metadata": {},
   "outputs": [],
   "source": [
    "# Escriba aquí su solución"
   ]
  },
  {
   "cell_type": "markdown",
   "metadata": {},
   "source": [
    "## List comprehension\n",
    "\n",
    "List comprehensions proveen una forma concisa de crear y modificar listas sin necesidad de recurrir a `map`, `filter` y/o `lambda`. La definición de las listas creadas de este modo tienden a ser más claras que las listas creadas con los métodos anteriormente mencionados. Cada list comprehension consiste en una expresión seguida de una clausula `for`, y luego una o más clausulas `for` e `if`. El resultado será una lista que resulta de evaluar la expresión en el contexto de los ciclos y condicionales que lo definen.\n",
    "\n",
    "Su sintaxis básica esta dada por: \\[ expression `for` item `in` list `if` conditional \\] donde:<br>\n",
    "<ul>\n",
    "    <li> expression: línea de código a evaluar.\n",
    "    <li> item: variable a reemplazar dentro de expression.\n",
    "    <li> list: lista de valores que tomara item.\n",
    "    <li> conditional (opcional): condición necesaria de un valor de list para que se evalue expression\n",
    "</ul>\n",
    "En resumen, dada una lista con valores y linea de código, se verifica si el elemento de la lista cumple con la condición y en caso de cumplirla, item toma ese valor y evalua la linea de código requerida.\n",
    "    \n",
    "Como se puede apreciar, la sintaxis comienza y termina con parentesis cuadrados (\\[ \\]) para recordarnos que se retorna una lista\n",
    "\n",
    "Veamos algunos ejemplos:"
   ]
  },
  {
   "cell_type": "code",
   "execution_count": null,
   "metadata": {},
   "outputs": [],
   "source": [
    "vec = [2, 3, 4, 6, 7]         # Tomamos un vector\n",
    "[3 * x for x in vec]    # y definimos otro multiplicando cada elemento por 3"
   ]
  },
  {
   "cell_type": "code",
   "execution_count": null,
   "metadata": {},
   "outputs": [],
   "source": [
    "[x for x in vec if x > 3]  # En este caso nos quedamos solo con los elementos mayores que 3"
   ]
  },
  {
   "cell_type": "code",
   "execution_count": null,
   "metadata": {},
   "outputs": [],
   "source": [
    "[3 * x for x in vec if x < 2] # o los menores que 2 (ninguno)"
   ]
  },
  {
   "cell_type": "code",
   "execution_count": null,
   "metadata": {},
   "outputs": [],
   "source": [
    "[3 * x for x in vec if x < 4]"
   ]
  },
  {
   "cell_type": "code",
   "execution_count": null,
   "metadata": {},
   "outputs": [],
   "source": [
    "[str(x) for x in vec] "
   ]
  },
  {
   "cell_type": "code",
   "execution_count": null,
   "metadata": {},
   "outputs": [],
   "source": [
    "lista2 = [[x, x ** 2] for x in vec]  # Hacemos una lista con el par [x, x^2] por cada x en el vector\n",
    "lista2[0]"
   ]
  },
  {
   "cell_type": "code",
   "execution_count": null,
   "metadata": {},
   "outputs": [],
   "source": [
    "frutaFresca = ['  platano   ', '     manzana         ', '     melón calameño   '] \n",
    "[fruta.strip() for fruta in frutaFresca]       # El método strip() elimina espacios"
   ]
  },
  {
   "cell_type": "markdown",
   "metadata": {},
   "source": [
    "Podemos usar list comprehension para modificar la lista de enteros entregada por el comando `range`:"
   ]
  },
  {
   "cell_type": "code",
   "execution_count": null,
   "metadata": {},
   "outputs": [],
   "source": [
    "[x*0.5 for x in range(10)]"
   ]
  },
  {
   "cell_type": "code",
   "execution_count": null,
   "metadata": {},
   "outputs": [],
   "source": [
    "[x for x in range(11) if x>5 ]"
   ]
  },
  {
   "cell_type": "code",
   "execution_count": null,
   "metadata": {},
   "outputs": [],
   "source": [
    "# También funciona bien con arreglos de numpy (ver clase siguiente)\n",
    "\n",
    "import numpy as np\n",
    "\n",
    "x = np.array([1,2,3])\n",
    "[np.sqrt(y) for y in x]"
   ]
  },
  {
   "cell_type": "code",
   "execution_count": null,
   "metadata": {},
   "outputs": [],
   "source": [
    "nombresConocidos = ['Pedro', 'Pablo']\n",
    "\n",
    "[nombre for nombre in ['Juan','Pablo,''Diego','Pablo','Samuel', 'Arturo', 'Jose', 'Pedro'] \n",
    " if (nombre in nombresConocidos)]  # Ojo, solo guarda una aparición"
   ]
  },
  {
   "cell_type": "code",
   "execution_count": null,
   "metadata": {},
   "outputs": [],
   "source": [
    "[x ** 2 for x in range(10) ]"
   ]
  },
  {
   "cell_type": "markdown",
   "metadata": {},
   "source": [
    "También se puede sar para crear listas que no dependen de la variable en el `for`:"
   ]
  },
  {
   "cell_type": "code",
   "execution_count": null,
   "metadata": {},
   "outputs": [],
   "source": [
    "import random\n",
    "[random.random() for x in range(10)]"
   ]
  },
  {
   "cell_type": "markdown",
   "metadata": {},
   "source": [
    "También se pueden anidar: "
   ]
  },
  {
   "cell_type": "code",
   "execution_count": null,
   "metadata": {},
   "outputs": [],
   "source": [
    "[[[[x,y,z] for x in range(3)] for y in range(3)] for z in range(3)]"
   ]
  },
  {
   "cell_type": "markdown",
   "metadata": {},
   "source": [
    "Más detalles\n",
    "\n",
    "-   Python Tutorial [5.1.4 List comprehensions](http://docs.python.org/tutorial/datastructures.html#list-comprehensions)"
   ]
  },
  {
   "cell_type": "markdown",
   "metadata": {},
   "source": [
    "### Ejercicio\n",
    "    \n",
    "1. En este ejercicio utilizaremos el archivo Ejercicio_list_comp.txt, que contiene una lista enumerada de 1000 números escogidos al azar entre 0 y 1, en el formato i,numero. Escriba un programa que utilice list comprehension para obtener una lista con los números mayores a 0.99 en en Ejercicio_list_comp.txt. "
   ]
  },
  {
   "cell_type": "code",
   "execution_count": null,
   "metadata": {},
   "outputs": [],
   "source": [
    "# Código para crear el archivo\n",
    "import random\n",
    "file = open('Ejercicio_list_comp.txt', 'w')\n",
    "    \n",
    "for i in range(1000):\n",
    "    file.write(str(i)+\",\"+str(random.random())+\"\\n\")\n",
    "\n",
    "file.close()"
   ]
  },
  {
   "cell_type": "code",
   "execution_count": null,
   "metadata": {},
   "outputs": [],
   "source": [
    "# Escriba aquí su solución"
   ]
  },
  {
   "cell_type": "markdown",
   "metadata": {},
   "source": [
    "2. Usando solo list comprehension genere una lista de 10000 valores entre 0 y 1 al azar (puede usar el módulo random y la función random.random()). Luego cuente cuántos valores en la lista son mayores que 0.9."
   ]
  },
  {
   "cell_type": "code",
   "execution_count": null,
   "metadata": {},
   "outputs": [],
   "source": [
    "# Escriba aquí su solución"
   ]
  },
  {
   "cell_type": "markdown",
   "metadata": {},
   "source": [
    "## Reduce\n",
    "\n",
    "La función `reduce` es parte del modulo `functools`. Podemos importarla usando el siguiente comando: "
   ]
  },
  {
   "cell_type": "code",
   "execution_count": null,
   "metadata": {},
   "outputs": [],
   "source": [
    "from functools import reduce"
   ]
  },
  {
   "cell_type": "markdown",
   "metadata": {},
   "source": [
    "La función `reduce` tiene como parámetros una función `f(x,y)` (observar que la función f recibe exclusivamente dos parámetros) y una secuencia `s`, y retorna un único valor. Este valor se calcula de la siguiente forma:\n",
    "<ul>\n",
    "    <li> La función f(x,y) es llamada con los dos primeros valores de s, retornando un valor.\n",
    "    <li> La función f(x,y) es llamada con el valor retornado y el siguiente valor de s. Este proceso se repite hasta que todos los elementos de s son utilizados.\n",
    "</ul>\n",
    "\n",
    "Otra forma de llamar a reduce es con la inclusión de un valor de entrada `a0`. En este caso, se aplica la función `f` al valor de entrada `a0` y al primer elemento de la secuencia (`s[0]`), retornando `a1 = f(a0, s[0])`. El segundo elemento de la secuencia (`s[1]`) se procesa como sigue: la función `f` es llamada con los argumentos `a1` y `s[1]`, i.e. `a2 = f(a1,s[1])`. De este modo, toda la secuencia es procesada, hasta que `reduce` devuelve un único elemento. \n",
    "\n",
    "Este comando se puede utilizar, por ejemplo, para calcular la suma de los números en una secuencia: "
   ]
  },
  {
   "cell_type": "code",
   "execution_count": null,
   "metadata": {},
   "outputs": [],
   "source": [
    "def sumar(x, y):\n",
    "    return x + y\n",
    "reduce(sumar, [1, 2, 3, 4, 5, 6, 7, 8, 9, 10])"
   ]
  },
  {
   "cell_type": "code",
   "execution_count": null,
   "metadata": {},
   "outputs": [],
   "source": [
    "#Lo que es equivalente a \n",
    "def sumar(x, y):\n",
    "    return x + y\n",
    "reduce(sumar, [1, 2, 3, 4, 5, 6, 7, 8, 9, 10], 0)"
   ]
  },
  {
   "cell_type": "code",
   "execution_count": null,
   "metadata": {},
   "outputs": [],
   "source": [
    "reduce(sumar, [1, 2, 3, 4, 5, 6, 7, 8, 9, 10], 100)"
   ]
  },
  {
   "cell_type": "markdown",
   "metadata": {},
   "source": [
    "Podemos modificar la función `sumar` para que nos entregue más información sobre el proceso:"
   ]
  },
  {
   "cell_type": "code",
   "execution_count": null,
   "metadata": {},
   "outputs": [],
   "source": [
    "def sumar_verboso(x, y):\n",
    "    print(\"sumar(x=%s, y=%s) -> %s\" % (x, y, x+y))\n",
    "    return x+y\n",
    "\n",
    "reduce(sumar_verboso, [1, 2, 3, 4, 5, 6, 7, 8, 9, 10])"
   ]
  },
  {
   "cell_type": "markdown",
   "metadata": {},
   "source": [
    "También podemos usar una función asimétrica `f`, como por ejemplo `sumar_largo(n,s)`, donde `s` es una secuencia y la función devuelve `n+len(s)`:"
   ]
  },
  {
   "cell_type": "code",
   "execution_count": null,
   "metadata": {},
   "outputs": [],
   "source": [
    "def sumar_largo(n, s):\n",
    "    return n + len(s)\n",
    "\n",
    "reduce(sumar_largo, [\"Este\",\"es\",\"un\",\"ejemplo\"],0)"
   ]
  },
  {
   "cell_type": "markdown",
   "metadata": {},
   "source": [
    "Como antes, vamos a usar una versión verbosa de la función binaria para ver qué es lo que está ocurriendo:"
   ]
  },
  {
   "cell_type": "code",
   "execution_count": null,
   "metadata": {},
   "outputs": [],
   "source": [
    "def sumar_largo_verboso(n, s):\n",
    "    print(\"sumar_largo(n=%d, s=%s) -> %d\" % (n, s, n+len(s)))\n",
    "    return n+len(s)\n",
    "\n",
    "reduce(sumar_largo_verboso, [\"Este\",\"es\",\"un\",\"ejemplo\"],0)"
   ]
  },
  {
   "cell_type": "markdown",
   "metadata": {},
   "source": [
    "Reduce también se puede combinar con `lambda`:"
   ]
  },
  {
   "cell_type": "code",
   "execution_count": null,
   "metadata": {},
   "outputs": [],
   "source": [
    "reduce(lambda x, y: x + y, [1, 2, 3, 4, 5], 0)"
   ]
  },
  {
   "cell_type": "markdown",
   "metadata": {},
   "source": [
    "### Ejercicio\n",
    "1. Escriba un programa que lea el archivo `Ejercicio_reduce.txt`, el cual contiene una lista de valores en el formato `i,numero`, donde `i` es el número de línea y `numero` es un valor al azar entre `0` y `1`. Usando solo `reduce`y list comprehension  escriba el archivo `Ejercicio_out.txt` con las líneas `i,numero,j` donde `j` vale `TRUE` si `numero` es mayor que 0.5 y `j` vale `False` en caso contrario. "
   ]
  },
  {
   "cell_type": "code",
   "execution_count": null,
   "metadata": {},
   "outputs": [],
   "source": [
    "# Código para crear el archivo\n",
    "import random\n",
    "file = open('Ejercicio_reduce.txt', 'w')\n",
    "    \n",
    "for i in range(1000):\n",
    "    file.write(str(i)+\",\"+str(random.random())+\"\\n\")\n",
    "\n",
    "file.close()"
   ]
  },
  {
   "cell_type": "code",
   "execution_count": null,
   "metadata": {},
   "outputs": [],
   "source": [
    "# Escriba aquí su solución"
   ]
  },
  {
   "cell_type": "markdown",
   "metadata": {},
   "source": [
    "## Por qué no usar simplemente un ciclo for?\n",
    "\n",
    "Comparemos el siguiente ejemplo: queremos calcular los números 0<sup>2</sup>, 1<sup>2</sup>, 2<sup>2</sup>, 3<sup>2</sup>, ... hasta (*n* − 1)<sup>2</sup> para un cierto valor n.\n",
    "\n",
    "Podemos realizar esta tarea haciendo un ciclo for, cuando *n*=10:"
   ]
  },
  {
   "cell_type": "code",
   "execution_count": null,
   "metadata": {},
   "outputs": [],
   "source": [
    "y = []\n",
    "for i in range(10):\n",
    "    y.append(i**2)\n",
    "    \n",
    "y"
   ]
  },
  {
   "cell_type": "markdown",
   "metadata": {},
   "source": [
    "o en cambio implementarlo con list comprehension:"
   ]
  },
  {
   "cell_type": "code",
   "execution_count": null,
   "metadata": {},
   "outputs": [],
   "source": [
    "y = [x**2 for x in range(10)]\n",
    "y"
   ]
  },
  {
   "cell_type": "markdown",
   "metadata": {},
   "source": [
    "o en cambio implementarlo con map:"
   ]
  },
  {
   "cell_type": "code",
   "execution_count": null,
   "metadata": {},
   "outputs": [],
   "source": [
    "y = map(lambda x: x**2, range(10))\n",
    "list(y)"
   ]
  },
  {
   "cell_type": "markdown",
   "metadata": {},
   "source": [
    "La vesión que usa list comprehension cabe en una sola línea de código, mientras que el ciclo for necesita 3. Este ejemplo muestra cómo la programación fucnional puede resultar en expresiones más *concisas*. Tipicamente, el número de errores que hace un programador se multiplican con el número de líneas, por lo que se prefiere códigos que ocupen la menor cantidad posible. "
   ]
  },
  {
   "cell_type": "markdown",
   "metadata": {},
   "source": [
    "### Velocidad\n",
    "\n",
    "List comprehension también puede ser más rápido que usar ciclos explícitos sobre elementos de una lista. \n",
    "\n",
    "Supongamos que queremos calcular $\\sum_{i=0}^{N-1} i^2$ para un valor de $N = 20.000.000$ \n",
    "\n",
    "Para esto podemos usar la magia \"`%%timeit`\" (si corremos esto en un archivo Jupyter notebook): si una celda comienza con el texto `%%timeit`, entonces el intérprete de Pyhton corre los comandos de la celda varias veces, y entrega el tiempo promedio de ejecución:"
   ]
  },
  {
   "cell_type": "code",
   "execution_count": null,
   "metadata": {},
   "outputs": [],
   "source": [
    "from functools import reduce"
   ]
  },
  {
   "cell_type": "code",
   "execution_count": null,
   "metadata": {},
   "outputs": [],
   "source": [
    "%%timeit\n",
    "y = []\n",
    "for x in range(2*10**6):\n",
    "    y.append(x**2)\n",
    "y = sum(y)"
   ]
  },
  {
   "cell_type": "code",
   "execution_count": null,
   "metadata": {},
   "outputs": [],
   "source": [
    "%%timeit\n",
    "reduce(lambda s, x: s + x**2, range(2*10**6),0)"
   ]
  },
  {
   "cell_type": "code",
   "execution_count": null,
   "metadata": {},
   "outputs": [],
   "source": [
    "%%timeit\n",
    "y = sum([x**2 for x in range(2*10**6)])"
   ]
  },
  {
   "cell_type": "markdown",
   "metadata": {},
   "source": [
    "Por suspuesto que el desempeño va a depender del computador, la versión de Python y las librerías que usemos. \n",
    "En este ejemplo vemos que el uso de list comprehension es más rápido (al rededor de un 10% mejor) que el uso de un ciclo for.\n",
    "Si usamos el módulo numpy, obtenemos una diferencia más dramática:"
   ]
  },
  {
   "cell_type": "code",
   "execution_count": null,
   "metadata": {},
   "outputs": [],
   "source": [
    "%%timeit\n",
    "import numpy\n",
    "y = numpy.sum(numpy.arange(0, 2*10**6, dtype='d') ** 2)"
   ]
  }
 ],
 "metadata": {
  "anaconda-cloud": {},
  "kernelspec": {
   "display_name": "Python 3 (ipykernel)",
   "language": "python",
   "name": "python3"
  },
  "language_info": {
   "codemirror_mode": {
    "name": "ipython",
    "version": 3
   },
   "file_extension": ".py",
   "mimetype": "text/x-python",
   "name": "python",
   "nbconvert_exporter": "python",
   "pygments_lexer": "ipython3",
   "version": "3.9.13"
  }
 },
 "nbformat": 4,
 "nbformat_minor": 4
}
