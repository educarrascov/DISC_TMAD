{
 "cells": [
  {
   "cell_type": "markdown",
   "metadata": {},
   "source": [
    "# Taller de Manejo y Análisis de Datos\n",
    "\n",
    "**Profesor**: Pedro Montealegre"
   ]
  },
  {
   "cell_type": "markdown",
   "metadata": {},
   "source": [
    "# Pandas - Ciencia de datos con Python"
   ]
  },
  {
   "cell_type": "markdown",
   "metadata": {},
   "source": [
    "Numpy y sus arreglos son nuestra herramienta predilecta para trabajar con datos numéricos que se puedan representar por vectores, matrices (o tensores en más dimensiones).\n",
    "\n",
    "Cuando se trata de datos experimentales, y en particular cuando queremos extraer conclusiones a partir de la combinación de distintas fuentes de datos, y cuando la información es a menudo incompleta, la librería `pandas` ofrece un gran número de herramientas útiles (y se ha transformado en la herramienta estandar para los cientificos de datos). \n",
    "\n",
    "En este capítulo, introduciremos nociones básicas de Pandas. En particular, introduciremos dos tipos de datos clave en Pandas: los objetos `Series` y `DataFrame`."
   ]
  },
  {
   "cell_type": "markdown",
   "metadata": {},
   "source": [
    "Por convención, la librería `pandas`se importa bajo el nombre `pd` (del mismo modo que `numpy`se importa bajo el nombre `np`):"
   ]
  },
  {
   "cell_type": "code",
   "execution_count": 1,
   "metadata": {
    "scrolled": false
   },
   "outputs": [],
   "source": [
    "import pandas as pd"
   ]
  },
  {
   "cell_type": "markdown",
   "metadata": {},
   "source": [
    "## Ejemplo motivacional (Series)\n"
   ]
  },
  {
   "cell_type": "markdown",
   "metadata": {},
   "source": [
    "Imaginemos que trabajamos en un programa para un supermercado, y queremos llevar la cuenta del número de manzanas (10), naranjas (3) y plátanos (22) que hay en el supermercado. \n",
    "\n",
    "Para guardar estos datos, podríamos usar una lista de Python (o un arreglo numpy):"
   ]
  },
  {
   "cell_type": "code",
   "execution_count": 3,
   "metadata": {
    "scrolled": false
   },
   "outputs": [],
   "source": [
    "stock = [10, 3, 22]"
   ]
  },
  {
   "cell_type": "markdown",
   "metadata": {},
   "source": [
    "Sin embargo, tendríamos que almacenar en otra parte que las entradas estan en el order de manzanas, naranjas y plátanos. \n",
    "Esto se podría hacer a través de una segunda lista: "
   ]
  },
  {
   "cell_type": "code",
   "execution_count": 4,
   "metadata": {
    "scrolled": false
   },
   "outputs": [],
   "source": [
    "etiquetas = ['manzanas', 'naranjas', 'plátanos']"
   ]
  },
  {
   "cell_type": "markdown",
   "metadata": {},
   "source": [
    "La solución con dos listas resulta un poco incómoda por dos razones: primero, tendríamos que usar dos listas para un set de datos (y por lo tanto, por ejemplo, tener cuidado con actualizarlas de manera simultánea). Segundo, el acceso a los datos dada una etiqueta es inconveniente: Tendríamos que encontrar el índice de la etiqueta en la lista, y luego usarlo en la otra lista, por ejemplo:"
   ]
  },
  {
   "cell_type": "code",
   "execution_count": 5,
   "metadata": {
    "scrolled": false
   },
   "outputs": [
    {
     "name": "stdout",
     "output_type": "stream",
     "text": [
      "manzanas :  10\n",
      "naranjas :   3\n",
      "plátanos :  22\n"
     ]
    }
   ],
   "source": [
    "if len(etiquetas) == len(stock) :      # chequeamos que las etiquetas y el stock son consistentes\n",
    "    for i in range(len(etiquetas)):\n",
    "            print(\"%s : %3d\" %(etiquetas[i],stock[i]))"
   ]
  },
  {
   "cell_type": "markdown",
   "metadata": {},
   "source": [
    "Las Series son un objeto de la librería Pandas que ofrece una gran mejora con respecto a la solución de dos listas. Esta estructura de datos nos permite:\n",
    "* Manterner una sola estructura que tenga las etiquetas y los valores, sin necesidad de verificar que ambas listas tengan el mismo largo. \n",
    "* Podemos acceder a objetos individuales a través de la etiqueta. \n",
    "\n",
    "Existe una estructura de datos incluida en Python llamada *diccionarios*. Las Series de Pandas son similares a un diccionario, pero con mejoras como:\n",
    "* El orden de los objetos se preserva por el índice\n",
    "* Los valores tienen que ser del mismo tipo (lo que permite una mejora en rendimiento) \n",
    "* Un gran número de funciones asociadas a Series, que por ejemplo permiten lidiar con datos faltantes, series de tiempo, ordenamiento, graficar, y otros. "
   ]
  },
  {
   "cell_type": "markdown",
   "metadata": {},
   "source": [
    "## Las `Series` de Pandas"
   ]
  },
  {
   "cell_type": "markdown",
   "metadata": {},
   "source": [
    "### Stock example - `Series`"
   ]
  },
  {
   "cell_type": "markdown",
   "metadata": {},
   "source": [
    "Podemos crear un objeto `Series` a partir, por ejemplo, de dos listas:"
   ]
  },
  {
   "cell_type": "code",
   "execution_count": 6,
   "metadata": {
    "scrolled": false
   },
   "outputs": [],
   "source": [
    "stock = pd.Series([10, 3, 22], index=['manzanas', 'naranjas', 'plátanos'])"
   ]
  },
  {
   "cell_type": "code",
   "execution_count": 7,
   "metadata": {
    "scrolled": false
   },
   "outputs": [
    {
     "data": {
      "text/plain": [
       "manzanas    10\n",
       "naranjas     3\n",
       "plátanos    22\n",
       "dtype: int64"
      ]
     },
     "execution_count": 7,
     "metadata": {},
     "output_type": "execute_result"
    }
   ],
   "source": [
    "stock"
   ]
  },
  {
   "cell_type": "markdown",
   "metadata": {},
   "source": [
    "Si omitimos el argumento `index`, se asume que los índices son enteros:"
   ]
  },
  {
   "cell_type": "code",
   "execution_count": 8,
   "metadata": {
    "scrolled": false
   },
   "outputs": [],
   "source": [
    "stock = pd.Series([10, 3, 22])"
   ]
  },
  {
   "cell_type": "code",
   "execution_count": 9,
   "metadata": {
    "scrolled": false
   },
   "outputs": [
    {
     "data": {
      "text/plain": [
       "0    10\n",
       "1     3\n",
       "2    22\n",
       "dtype: int64"
      ]
     },
     "execution_count": 9,
     "metadata": {},
     "output_type": "execute_result"
    }
   ],
   "source": [
    "stock"
   ]
  },
  {
   "cell_type": "markdown",
   "metadata": {},
   "source": [
    "También se puede agregar los índices más tarde:"
   ]
  },
  {
   "cell_type": "code",
   "execution_count": 11,
   "metadata": {
    "scrolled": false
   },
   "outputs": [],
   "source": [
    "stock.index = ['manzanas', 'naranjas', 'plátanos']"
   ]
  },
  {
   "cell_type": "code",
   "execution_count": 12,
   "metadata": {
    "scrolled": false
   },
   "outputs": [
    {
     "data": {
      "text/plain": [
       "manzanas    10\n",
       "naranjas     3\n",
       "plátanos    22\n",
       "dtype: int64"
      ]
     },
     "execution_count": 12,
     "metadata": {},
     "output_type": "execute_result"
    }
   ],
   "source": [
    "stock"
   ]
  },
  {
   "cell_type": "code",
   "execution_count": 13,
   "metadata": {
    "scrolled": false
   },
   "outputs": [
    {
     "data": {
      "text/plain": [
       "manzanas    10\n",
       "naranjas     3\n",
       "uvas        22\n",
       "dtype: int64"
      ]
     },
     "execution_count": 13,
     "metadata": {},
     "output_type": "execute_result"
    }
   ],
   "source": [
    "stock.index = ['manzanas', 'naranjas', 'uvas']\n",
    "stock"
   ]
  },
  {
   "cell_type": "markdown",
   "metadata": {},
   "source": [
    "La presentación por defecto muestra una entrada por línea, con la etiqueta a la izquierda, y el valor a la derecha. "
   ]
  },
  {
   "cell_type": "code",
   "execution_count": 14,
   "metadata": {
    "scrolled": false
   },
   "outputs": [
    {
     "data": {
      "text/plain": [
       "manzanas    10\n",
       "naranjas     3\n",
       "uvas        22\n",
       "dtype: int64"
      ]
     },
     "execution_count": 14,
     "metadata": {},
     "output_type": "execute_result"
    }
   ],
   "source": [
    "stock"
   ]
  },
  {
   "cell_type": "code",
   "execution_count": 15,
   "metadata": {
    "scrolled": false
   },
   "outputs": [
    {
     "data": {
      "text/plain": [
       "pandas.core.series.Series"
      ]
     },
     "execution_count": 15,
     "metadata": {},
     "output_type": "execute_result"
    }
   ],
   "source": [
    "type(stock)"
   ]
  },
  {
   "cell_type": "markdown",
   "metadata": {},
   "source": [
    "Los índices se pueden recuperar llamando al atributo `index` del objeto `series`:"
   ]
  },
  {
   "cell_type": "code",
   "execution_count": 16,
   "metadata": {
    "scrolled": false
   },
   "outputs": [
    {
     "data": {
      "text/plain": [
       "Index(['manzanas', 'naranjas', 'uvas'], dtype='object')"
      ]
     },
     "execution_count": 16,
     "metadata": {},
     "output_type": "execute_result"
    }
   ],
   "source": [
    "stock.index"
   ]
  },
  {
   "cell_type": "code",
   "execution_count": 17,
   "metadata": {
    "scrolled": false
   },
   "outputs": [
    {
     "data": {
      "text/plain": [
       "pandas.core.indexes.base.Index"
      ]
     },
     "execution_count": 17,
     "metadata": {},
     "output_type": "execute_result"
    }
   ],
   "source": [
    "type(stock.index)"
   ]
  },
  {
   "cell_type": "markdown",
   "metadata": {},
   "source": [
    "También podemos acceder a la lista de valores de cada item, usando el atributo `values`: "
   ]
  },
  {
   "cell_type": "code",
   "execution_count": 18,
   "metadata": {
    "scrolled": false
   },
   "outputs": [
    {
     "data": {
      "text/plain": [
       "array([10,  3, 22])"
      ]
     },
     "execution_count": 18,
     "metadata": {},
     "output_type": "execute_result"
    }
   ],
   "source": [
    "stock.values"
   ]
  },
  {
   "cell_type": "markdown",
   "metadata": {},
   "source": [
    "observar que en realidad la lista de valores son un arreglo numpy:"
   ]
  },
  {
   "cell_type": "code",
   "execution_count": 19,
   "metadata": {
    "scrolled": false
   },
   "outputs": [
    {
     "data": {
      "text/plain": [
       "numpy.ndarray"
      ]
     },
     "execution_count": 19,
     "metadata": {},
     "output_type": "execute_result"
    }
   ],
   "source": [
    "type(stock.values)"
   ]
  },
  {
   "cell_type": "markdown",
   "metadata": {},
   "source": [
    "Con respecto al acceso a los datos, el objeto `Series` se comporta como un diccionario:"
   ]
  },
  {
   "cell_type": "code",
   "execution_count": 20,
   "metadata": {
    "scrolled": false
   },
   "outputs": [
    {
     "name": "stdout",
     "output_type": "stream",
     "text": [
      "manzanas    10\n",
      "naranjas     3\n",
      "uvas        22\n",
      "dtype: int64\n"
     ]
    }
   ],
   "source": [
    "print(stock)"
   ]
  },
  {
   "cell_type": "code",
   "execution_count": 22,
   "metadata": {
    "scrolled": false
   },
   "outputs": [
    {
     "data": {
      "text/plain": [
       "10"
      ]
     },
     "execution_count": 22,
     "metadata": {},
     "output_type": "execute_result"
    }
   ],
   "source": [
    "stock['manzanas']"
   ]
  },
  {
   "cell_type": "code",
   "execution_count": 23,
   "metadata": {
    "scrolled": false
   },
   "outputs": [
    {
     "data": {
      "text/plain": [
       "3"
      ]
     },
     "execution_count": 23,
     "metadata": {},
     "output_type": "execute_result"
    }
   ],
   "source": [
    "stock[\"naranjas\"]"
   ]
  },
  {
   "cell_type": "code",
   "execution_count": 24,
   "metadata": {
    "scrolled": false
   },
   "outputs": [],
   "source": [
    "stock['papas'] = 41    # añadiendo valores\n",
    "stock['pepinos'] = 1"
   ]
  },
  {
   "cell_type": "code",
   "execution_count": 25,
   "metadata": {
    "scrolled": false
   },
   "outputs": [
    {
     "name": "stdout",
     "output_type": "stream",
     "text": [
      "manzanas    10\n",
      "naranjas     3\n",
      "uvas        22\n",
      "papas       41\n",
      "pepinos      1\n",
      "dtype: int64\n"
     ]
    }
   ],
   "source": [
    "print(stock)"
   ]
  },
  {
   "cell_type": "markdown",
   "metadata": {},
   "source": [
    "Podemos graficar los datos en un gráfico de barras: "
   ]
  },
  {
   "cell_type": "code",
   "execution_count": 28,
   "metadata": {
    "scrolled": false
   },
   "outputs": [
    {
     "data": {
      "image/png": "[encoded data removed]",
      "text/plain": [
       "<Figure size 640x480 with 1 Axes>"
      ]
     },
     "metadata": {},
     "output_type": "display_data"
    }
   ],
   "source": [
    "#%matplotlib inline\n",
    "stock.plot(kind='bar');"
   ]
  },
  {
   "cell_type": "markdown",
   "metadata": {},
   "source": [
    "Podemos ordenar los datos de acuerdo a los valores en la Serie (y luego graficar para visualizar):"
   ]
  },
  {
   "cell_type": "code",
   "execution_count": 29,
   "metadata": {
    "scrolled": false
   },
   "outputs": [
    {
     "data": {
      "text/plain": [
       "pepinos      1\n",
       "naranjas     3\n",
       "manzanas    10\n",
       "uvas        22\n",
       "papas       41\n",
       "dtype: int64"
      ]
     },
     "execution_count": 29,
     "metadata": {},
     "output_type": "execute_result"
    }
   ],
   "source": [
    "stock.sort_values()  # Ordena de acuerdoa los valores (de menor a mayor)"
   ]
  },
  {
   "cell_type": "code",
   "execution_count": 30,
   "metadata": {
    "scrolled": false
   },
   "outputs": [
    {
     "data": {
      "text/plain": [
       "manzanas    10\n",
       "naranjas     3\n",
       "uvas        22\n",
       "papas       41\n",
       "pepinos      1\n",
       "dtype: int64"
      ]
     },
     "execution_count": 30,
     "metadata": {},
     "output_type": "execute_result"
    }
   ],
   "source": [
    "stock # No modifica stock, devuelve una nueva Serie"
   ]
  },
  {
   "cell_type": "code",
   "execution_count": 31,
   "metadata": {
    "scrolled": false
   },
   "outputs": [
    {
     "data": {
      "text/plain": [
       "manzanas    10\n",
       "naranjas     3\n",
       "papas       41\n",
       "pepinos      1\n",
       "uvas        22\n",
       "dtype: int64"
      ]
     },
     "execution_count": 31,
     "metadata": {},
     "output_type": "execute_result"
    }
   ],
   "source": [
    "stock.sort_index()  # Ordena de acuerdo a los índices, por orden alfabetico"
   ]
  },
  {
   "cell_type": "markdown",
   "metadata": {},
   "source": [
    "o ordenar los datos de acuerdo al orden alfabético de los índices:"
   ]
  },
  {
   "cell_type": "code",
   "execution_count": 32,
   "metadata": {
    "scrolled": false
   },
   "outputs": [
    {
     "data": {
      "image/png": "[encoded data removed]",
      "text/plain": [
       "<Figure size 640x480 with 1 Axes>"
      ]
     },
     "metadata": {},
     "output_type": "display_data"
    }
   ],
   "source": [
    "stock.sort_values().plot(kind='bar');"
   ]
  },
  {
   "cell_type": "markdown",
   "metadata": {},
   "source": [
    "El objeto `Series` contiene varios métodos numericos, incluyendo `mean` (promedio) y `sum` (suma):"
   ]
  },
  {
   "cell_type": "code",
   "execution_count": 33,
   "metadata": {
    "scrolled": false
   },
   "outputs": [
    {
     "data": {
      "text/plain": [
       "77"
      ]
     },
     "execution_count": 33,
     "metadata": {},
     "output_type": "execute_result"
    }
   ],
   "source": [
    "stock.sum()"
   ]
  },
  {
   "cell_type": "code",
   "execution_count": 34,
   "metadata": {
    "scrolled": false
   },
   "outputs": [
    {
     "data": {
      "text/plain": [
       "15.4"
      ]
     },
     "execution_count": 34,
     "metadata": {},
     "output_type": "execute_result"
    }
   ],
   "source": [
    "stock.mean()"
   ]
  },
  {
   "cell_type": "markdown",
   "metadata": {},
   "source": [
    "También se comporta como una secuencia, en el hecho que la función `len` entrega el número de datos en el objeto: "
   ]
  },
  {
   "cell_type": "code",
   "execution_count": 35,
   "metadata": {
    "scrolled": false
   },
   "outputs": [
    {
     "data": {
      "text/plain": [
       "5"
      ]
     },
     "execution_count": 35,
     "metadata": {},
     "output_type": "execute_result"
    }
   ],
   "source": [
    "len(stock)"
   ]
  },
  {
   "cell_type": "markdown",
   "metadata": {},
   "source": [
    "### Uso de la memoria"
   ]
  },
  {
   "cell_type": "markdown",
   "metadata": {},
   "source": [
    "Para conjuntos de datos más grandes, podría ser importante saber cuántos bytes de memoria requiere guardar la serie. Se puede acceder a esta información con el siguiente comando:"
   ]
  },
  {
   "cell_type": "code",
   "execution_count": 36,
   "metadata": {
    "scrolled": false
   },
   "outputs": [
    {
     "data": {
      "text/plain": [
       "40"
      ]
     },
     "execution_count": 36,
     "metadata": {},
     "output_type": "execute_result"
    }
   ],
   "source": [
    "stock.nbytes"
   ]
  },
  {
   "cell_type": "markdown",
   "metadata": {},
   "source": [
    "o sobre el arreglo de valores directamente:"
   ]
  },
  {
   "cell_type": "code",
   "execution_count": 37,
   "metadata": {
    "scrolled": false
   },
   "outputs": [
    {
     "data": {
      "text/plain": [
       "40"
      ]
     },
     "execution_count": 37,
     "metadata": {},
     "output_type": "execute_result"
    }
   ],
   "source": [
    "stock.values.nbytes"
   ]
  },
  {
   "cell_type": "markdown",
   "metadata": {},
   "source": [
    "Son 40 bytes porque tenemos 5 elementos guardados como un int64 (cada uno requiere 8 bytes):"
   ]
  },
  {
   "cell_type": "code",
   "execution_count": 38,
   "metadata": {
    "scrolled": false
   },
   "outputs": [
    {
     "data": {
      "text/plain": [
       "dtype('int64')"
      ]
     },
     "execution_count": 38,
     "metadata": {},
     "output_type": "execute_result"
    }
   ],
   "source": [
    "stock.dtype"
   ]
  },
  {
   "cell_type": "markdown",
   "metadata": {},
   "source": [
    "El objeto Series requiere memoria adicional. Esta información se puede obrener mediante el comando:"
   ]
  },
  {
   "cell_type": "code",
   "execution_count": 39,
   "metadata": {
    "scrolled": false
   },
   "outputs": [
    {
     "data": {
      "text/plain": [
       "252"
      ]
     },
     "execution_count": 39,
     "metadata": {},
     "output_type": "execute_result"
    }
   ],
   "source": [
    "stock.memory_usage()"
   ]
  },
  {
   "cell_type": "markdown",
   "metadata": {},
   "source": [
    "--------\n",
    "### Ejercicio\n",
    "\n",
    "Cree una copia de la serie `stock`, llamela `stock2`. Luego agregue dos elementos más con valores a su elección. Calcule el promedio, uso de memoria y haga dos graficos de `stock2`, ordenandolos por cantidades y por índices. "
   ]
  },
  {
   "cell_type": "code",
   "execution_count": 51,
   "metadata": {
    "scrolled": false
   },
   "outputs": [
    {
     "name": "stdout",
     "output_type": "stream",
     "text": [
      "manzanas      10\n",
      "naranjas       3\n",
      "uvas          22\n",
      "papas         41\n",
      "pepinos        1\n",
      "zapatos       50\n",
      "calcetines    25\n",
      "dtype: int64\n",
      "\n",
      "Promedio de stock2: 21.714285714285715\n",
      "Uso de la memoria de stock2: 112 bytes\n"
     ]
    },
    {
     "data": {
      "image/png": "[encoded data removed]",
      "text/plain": [
       "<Figure size 640x480 with 1 Axes>"
      ]
     },
     "metadata": {},
     "output_type": "display_data"
    }
   ],
   "source": [
    "# Escriba aquí su solución\n",
    "\n",
    "# Hacemos una copia de stock\n",
    "stock2 = stock.copy()\n",
    "# Agregamos valores\n",
    "stock2[\"zapatos\"]  = 50\n",
    "stock2[\"calcetines\"] = 25\n",
    "\n",
    "# Imprimimos la serie\n",
    "print(stock2)\n",
    "\n",
    "#Calculamos el promedio y uso de memoria\n",
    "print(\"\\nPromedio de stock2:\", stock2.mean())\n",
    "print(\"Uso de la memoria de stock2:\", stock2.memory_usage(), \"bytes\")\n",
    "\n",
    "# Graficamos ordenado por valores\n",
    "stock2.sort_values().plot(kind=\"bar\");"
   ]
  },
  {
   "cell_type": "code",
   "execution_count": 52,
   "metadata": {
    "scrolled": false
   },
   "outputs": [
    {
     "data": {
      "image/png": "[encoded data removed]",
      "text/plain": [
       "<Figure size 640x480 with 1 Axes>"
      ]
     },
     "metadata": {},
     "output_type": "display_data"
    }
   ],
   "source": [
    "# Graficamos ordenado por índices\n",
    "stock2.sort_index().plot(kind=\"bar\");"
   ]
  },
  {
   "cell_type": "markdown",
   "metadata": {},
   "source": [
    "------"
   ]
  },
  {
   "cell_type": "markdown",
   "metadata": {},
   "source": [
    "### Estadísticas"
   ]
  },
  {
   "cell_type": "markdown",
   "metadata": {},
   "source": [
    "Se puede obtener ciertos valores descriptivos de los datos de un objeto `Series` usand el comando `describe()`:"
   ]
  },
  {
   "cell_type": "code",
   "execution_count": 53,
   "metadata": {
    "scrolled": false
   },
   "outputs": [
    {
     "data": {
      "text/plain": [
       "count     5.000000\n",
       "mean     15.400000\n",
       "std      16.501515\n",
       "min       1.000000\n",
       "25%       3.000000\n",
       "50%      10.000000\n",
       "75%      22.000000\n",
       "max      41.000000\n",
       "dtype: float64"
      ]
     },
     "execution_count": 53,
     "metadata": {},
     "output_type": "execute_result"
    }
   ],
   "source": [
    "stock.describe()"
   ]
  },
  {
   "cell_type": "markdown",
   "metadata": {},
   "source": [
    "Como es usual, la documentación (`help(stock.describe)`) provee más información, y además se puede recurrir al sitio web de Pandas (`https://pandas.pydata.org`) para más información."
   ]
  },
  {
   "cell_type": "markdown",
   "metadata": {},
   "source": [
    "### Graficando datos"
   ]
  },
  {
   "cell_type": "markdown",
   "metadata": {},
   "source": [
    "Se puede hacer gráficos de manera muy fácil usando el método `plot()` del objeto Series. Ya vimos antes como hacer un gráfico de barras. El método `Series.plot()` acepta un argumento `kind`, como por ejemplo `kind=\"bar\"`. Está también disponible el método equivalente `Series.plot.bar()`:\n"
   ]
  },
  {
   "cell_type": "code",
   "execution_count": 54,
   "metadata": {
    "scrolled": false
   },
   "outputs": [
    {
     "data": {
      "image/png": "[encoded data removed]",
      "text/plain": [
       "<Figure size 640x480 with 1 Axes>"
      ]
     },
     "metadata": {},
     "output_type": "display_data"
    }
   ],
   "source": [
    "stock.plot();"
   ]
  },
  {
   "cell_type": "code",
   "execution_count": 55,
   "metadata": {
    "scrolled": false
   },
   "outputs": [
    {
     "data": {
      "image/png": "[encoded data removed]",
      "text/plain": [
       "<Figure size 640x480 with 1 Axes>"
      ]
     },
     "metadata": {},
     "output_type": "display_data"
    }
   ],
   "source": [
    "stock.plot(kind=\"bar\");"
   ]
  },
  {
   "cell_type": "code",
   "execution_count": 56,
   "metadata": {
    "scrolled": false
   },
   "outputs": [
    {
     "data": {
      "image/png": "[encoded data removed]",
      "text/plain": [
       "<Figure size 640x480 with 1 Axes>"
      ]
     },
     "metadata": {},
     "output_type": "display_data"
    }
   ],
   "source": [
    "stock.plot.bar();"
   ]
  },
  {
   "cell_type": "markdown",
   "metadata": {},
   "source": [
    "Otros ejemplos:"
   ]
  },
  {
   "cell_type": "code",
   "execution_count": 57,
   "metadata": {
    "scrolled": false
   },
   "outputs": [
    {
     "data": {
      "image/png": "[encoded data removed]",
      "text/plain": [
       "<Figure size 640x480 with 1 Axes>"
      ]
     },
     "metadata": {},
     "output_type": "display_data"
    }
   ],
   "source": [
    "stock.plot.pie();"
   ]
  },
  {
   "cell_type": "markdown",
   "metadata": {},
   "source": [
    "Para modificar el gráfico, podemos obtener parámetros del objeto y modificarlos: "
   ]
  },
  {
   "cell_type": "code",
   "execution_count": 58,
   "metadata": {
    "scrolled": false
   },
   "outputs": [
    {
     "data": {
      "image/png": "[encoded data removed]",
      "text/plain": [
       "<Figure size 640x480 with 1 Axes>"
      ]
     },
     "metadata": {},
     "output_type": "display_data"
    }
   ],
   "source": [
    "ax = stock.plot.pie()\n",
    "ax.set_ylabel(None);\n",
    "ax.set_xlabel(\"Este es el texto del eje x\")\n",
    "ax.set_title(\"Grafico del Stock\");"
   ]
  },
  {
   "cell_type": "markdown",
   "metadata": {},
   "source": [
    "Observación: estos gráficos son del tipo que se genera con el módulo `matplotlib.pyplot`."
   ]
  },
  {
   "cell_type": "markdown",
   "metadata": {},
   "source": [
    "### Valores faltantes\n",
    "\n",
    "Los conjuntos de datos \"reales\" tienden a ser incompletos. Tratar con datos faltantes es un topico importante en ciencias de datos. La convención en Pandas es que el float `NaN`(llamado así por `N`ot `a` `N`umber) representa puntos faltantes en los datos. Por ejemplo, si tenemos una Serie para el stock, pero no sabemos el valor de `manzanas`, podemos reemplazar la cantidad por `NaN`.\n",
    "\n",
    "En Python, el valor especial `NaN` puede ser creado usando el comando `float('nan')` o usando `numpy.nan` si se importa el módulo numpy,\n"
   ]
  },
  {
   "cell_type": "code",
   "execution_count": 59,
   "metadata": {
    "scrolled": false
   },
   "outputs": [],
   "source": [
    "stock['manzanas'] = float('nan')"
   ]
  },
  {
   "cell_type": "code",
   "execution_count": 61,
   "metadata": {
    "scrolled": false
   },
   "outputs": [
    {
     "data": {
      "text/plain": [
       "manzanas     NaN\n",
       "naranjas     3.0\n",
       "uvas        22.0\n",
       "papas       41.0\n",
       "pepinos      1.0\n",
       "dtype: float64"
      ]
     },
     "execution_count": 61,
     "metadata": {},
     "output_type": "execute_result"
    }
   ],
   "source": [
    "stock"
   ]
  },
  {
   "cell_type": "markdown",
   "metadata": {},
   "source": [
    "Notar que el valor `dtype` de la Serie `stock` cambió de `int64`a `float64` cuando asignamos `NaN` a `manzanas`: toda la serie se transforma en float, porque `NaN` solo se define como un float. \n",
    "\n",
    "(Hay un propósito en crear el objeto `NaN` en Pandas, que explica el por qué se fija la limitación anterior).\n",
    "\n",
    "Asumamos que necesitamos calcular cuántos items de `stock` tenemos usando la función `sum`: "
   ]
  },
  {
   "cell_type": "code",
   "execution_count": 62,
   "metadata": {
    "scrolled": false
   },
   "outputs": [
    {
     "data": {
      "text/plain": [
       "array([nan,  3., 22., 41.,  1.])"
      ]
     },
     "execution_count": 62,
     "metadata": {},
     "output_type": "execute_result"
    }
   ],
   "source": [
    "stock.values"
   ]
  },
  {
   "cell_type": "markdown",
   "metadata": {},
   "source": [
    "Una situación común es que se tengan datos faltantes en una Serie o DataFrame (veremos qué son más adelante) y que queramos procesar estos datos de todas maneras, tratando a los valores faltantes de un modo especial. "
   ]
  },
  {
   "cell_type": "code",
   "execution_count": 63,
   "metadata": {
    "scrolled": false
   },
   "outputs": [
    {
     "data": {
      "text/plain": [
       "67.0"
      ]
     },
     "execution_count": 63,
     "metadata": {},
     "output_type": "execute_result"
    }
   ],
   "source": [
    "stock.sum()"
   ]
  },
  {
   "cell_type": "markdown",
   "metadata": {},
   "source": [
    "En el ejemplo anterior, `sum` simplemente ignora los valores `NaN` en el total. "
   ]
  },
  {
   "cell_type": "markdown",
   "metadata": {},
   "source": [
    "También podemos *limpiar* al objeto Series, removiendo todas las entradas que tengan un valor `NaN`: "
   ]
  },
  {
   "cell_type": "code",
   "execution_count": 64,
   "metadata": {
    "scrolled": false
   },
   "outputs": [
    {
     "data": {
      "text/plain": [
       "naranjas     3.0\n",
       "uvas        22.0\n",
       "papas       41.0\n",
       "pepinos      1.0\n",
       "dtype: float64"
      ]
     },
     "execution_count": 64,
     "metadata": {},
     "output_type": "execute_result"
    }
   ],
   "source": [
    "stock.dropna()"
   ]
  },
  {
   "cell_type": "code",
   "execution_count": 65,
   "metadata": {
    "scrolled": false
   },
   "outputs": [
    {
     "data": {
      "text/plain": [
       "manzanas     NaN\n",
       "naranjas     3.0\n",
       "uvas        22.0\n",
       "papas       41.0\n",
       "pepinos      1.0\n",
       "dtype: float64"
      ]
     },
     "execution_count": 65,
     "metadata": {},
     "output_type": "execute_result"
    }
   ],
   "source": [
    "stock"
   ]
  },
  {
   "cell_type": "code",
   "execution_count": 66,
   "metadata": {
    "scrolled": false
   },
   "outputs": [
    {
     "data": {
      "text/plain": [
       "16.75"
      ]
     },
     "execution_count": 66,
     "metadata": {},
     "output_type": "execute_result"
    }
   ],
   "source": [
    "stock.mean()  # Para calcular el promedio, ignora las filas que son NaN (no las toma como 0)"
   ]
  },
  {
   "cell_type": "code",
   "execution_count": 67,
   "metadata": {
    "scrolled": false
   },
   "outputs": [
    {
     "data": {
      "text/plain": [
       "16.75"
      ]
     },
     "execution_count": 67,
     "metadata": {},
     "output_type": "execute_result"
    }
   ],
   "source": [
    "stock.dropna().mean()"
   ]
  },
  {
   "cell_type": "code",
   "execution_count": 68,
   "metadata": {
    "scrolled": false
   },
   "outputs": [
    {
     "data": {
      "text/plain": [
       "13.4"
      ]
     },
     "execution_count": 68,
     "metadata": {},
     "output_type": "execute_result"
    }
   ],
   "source": [
    "stock.sum()/len(stock)  # Aquí divido por 5 (es como si el valor NaN fuese 0)"
   ]
  },
  {
   "cell_type": "markdown",
   "metadata": {},
   "source": [
    "### Acceso a los datos en Series: explícito e implícito (`loc` e `iloc`)"
   ]
  },
  {
   "cell_type": "code",
   "execution_count": 69,
   "metadata": {
    "scrolled": false
   },
   "outputs": [
    {
     "data": {
      "text/plain": [
       "manzanas     NaN\n",
       "naranjas     3.0\n",
       "uvas        22.0\n",
       "papas       41.0\n",
       "pepinos      1.0\n",
       "dtype: float64"
      ]
     },
     "execution_count": 69,
     "metadata": {},
     "output_type": "execute_result"
    }
   ],
   "source": [
    "stock"
   ]
  },
  {
   "cell_type": "markdown",
   "metadata": {},
   "source": [
    "#### Indexando\n",
    "\n",
    "Podemos acceder a valores individuales a través de sus índices, así como si las Series fuese un diccionario: "
   ]
  },
  {
   "cell_type": "code",
   "execution_count": 72,
   "metadata": {
    "scrolled": false
   },
   "outputs": [
    {
     "data": {
      "text/plain": [
       "22.0"
      ]
     },
     "execution_count": 72,
     "metadata": {},
     "output_type": "execute_result"
    }
   ],
   "source": [
    "stock['uvas']"
   ]
  },
  {
   "cell_type": "markdown",
   "metadata": {},
   "source": [
    "Sin embargo, hay una forma equivalente y recomendada de hacer esta recuperación usando el método `loc` (por LOCation):"
   ]
  },
  {
   "cell_type": "code",
   "execution_count": 73,
   "metadata": {
    "scrolled": false
   },
   "outputs": [
    {
     "data": {
      "text/plain": [
       "22.0"
      ]
     },
     "execution_count": 73,
     "metadata": {},
     "output_type": "execute_result"
    }
   ],
   "source": [
    "stock.loc['uvas']"
   ]
  },
  {
   "cell_type": "markdown",
   "metadata": {},
   "source": [
    "Pandas también permite usar índices enteros en las Series. Esto se conoce como *indexación implícita* (implicit indexing), ya que por ejemplo el objeto Series `stock` no usa enteros como índices, sino que los nombres de las frutas y verduras. \n",
    "\n",
    "Por ejemplo, podemos recuperar el valor de `uvas` a través del índice implícito 2, porque `uvas` está en la fila 3 del objet `stock` (es decir, aquí también contamos desde cero):"
   ]
  },
  {
   "cell_type": "code",
   "execution_count": 74,
   "metadata": {
    "scrolled": false
   },
   "outputs": [
    {
     "data": {
      "text/plain": [
       "22.0"
      ]
     },
     "execution_count": 74,
     "metadata": {},
     "output_type": "execute_result"
    }
   ],
   "source": [
    "stock[2]  # Esto es lo mismo que decir stock[\"uvas\"]"
   ]
  },
  {
   "cell_type": "markdown",
   "metadata": {},
   "source": [
    "En este ejemplo, el comando anterior funciona bien y parece conveniente, pero puede ser muy confuso si es que los índices de los objetos consisten en números enteros. Por esa razon, la forma explícita (y recomendada) de usar este tipo de índices es a través del método `iloc` (ImplicitLOCation): "
   ]
  },
  {
   "cell_type": "code",
   "execution_count": 75,
   "metadata": {
    "scrolled": false
   },
   "outputs": [
    {
     "data": {
      "text/plain": [
       "22.0"
      ]
     },
     "execution_count": 75,
     "metadata": {},
     "output_type": "execute_result"
    }
   ],
   "source": [
    "stock.iloc[2]  # Se usa únicamente para recuperar el valor en el índice implícito 2"
   ]
  },
  {
   "cell_type": "markdown",
   "metadata": {},
   "source": [
    "Mostremos un ejemplo \"complicado\" que justifica el uso de loc e iloc:"
   ]
  },
  {
   "cell_type": "code",
   "execution_count": 76,
   "metadata": {
    "scrolled": true
   },
   "outputs": [
    {
     "data": {
      "text/plain": [
       "3     23\n",
       "2     85\n",
       "1    100\n",
       "dtype: int64"
      ]
     },
     "execution_count": 76,
     "metadata": {},
     "output_type": "execute_result"
    }
   ],
   "source": [
    "serieComplicada = pd.Series([23,85,100],index = [3,2,1])\n",
    "serieComplicada"
   ]
  },
  {
   "cell_type": "code",
   "execution_count": 77,
   "metadata": {
    "scrolled": false
   },
   "outputs": [
    {
     "data": {
      "text/plain": [
       "85"
      ]
     },
     "execution_count": 77,
     "metadata": {},
     "output_type": "execute_result"
    }
   ],
   "source": [
    "serieComplicada[2] # ¿Qué debería devolver?"
   ]
  },
  {
   "cell_type": "markdown",
   "metadata": {},
   "source": [
    "Vemos que privilegia el nombre del índice (indexación explícita).. pero puede ser ambiguo..."
   ]
  },
  {
   "cell_type": "code",
   "execution_count": 78,
   "metadata": {
    "scrolled": false
   },
   "outputs": [
    {
     "data": {
      "text/plain": [
       "85"
      ]
     },
     "execution_count": 78,
     "metadata": {},
     "output_type": "execute_result"
    }
   ],
   "source": [
    "serieComplicada.loc[2] # Con esto nos aseguramos recuperar el valor de índice 2"
   ]
  },
  {
   "cell_type": "code",
   "execution_count": 79,
   "metadata": {
    "scrolled": false
   },
   "outputs": [
    {
     "data": {
      "text/plain": [
       "100"
      ]
     },
     "execution_count": 79,
     "metadata": {},
     "output_type": "execute_result"
    }
   ],
   "source": [
    "serieComplicada.iloc[2] \n",
    "# Con esto nos aseguramos de recuperar el \"tercer\" valor (porque cuenta desde 0)"
   ]
  },
  {
   "cell_type": "markdown",
   "metadata": {},
   "source": [
    "#### Cortando"
   ]
  },
  {
   "cell_type": "code",
   "execution_count": 80,
   "metadata": {
    "scrolled": false
   },
   "outputs": [
    {
     "data": {
      "text/plain": [
       "manzanas     NaN\n",
       "naranjas     3.0\n",
       "uvas        22.0\n",
       "papas       41.0\n",
       "pepinos      1.0\n",
       "dtype: float64"
      ]
     },
     "execution_count": 80,
     "metadata": {},
     "output_type": "execute_result"
    }
   ],
   "source": [
    "stock"
   ]
  },
  {
   "cell_type": "markdown",
   "metadata": {},
   "source": [
    "También podemos cortar la serie: "
   ]
  },
  {
   "cell_type": "code",
   "execution_count": 81,
   "metadata": {
    "scrolled": false
   },
   "outputs": [
    {
     "data": {
      "text/plain": [
       "naranjas     3.0\n",
       "uvas        22.0\n",
       "papas       41.0\n",
       "dtype: float64"
      ]
     },
     "execution_count": 81,
     "metadata": {},
     "output_type": "execute_result"
    }
   ],
   "source": [
    "stock.loc['naranjas':'papas']"
   ]
  },
  {
   "cell_type": "markdown",
   "metadata": {},
   "source": [
    "...incluso saltar de dos en dos: "
   ]
  },
  {
   "cell_type": "code",
   "execution_count": 82,
   "metadata": {
    "scrolled": false
   },
   "outputs": [
    {
     "data": {
      "text/plain": [
       "manzanas     NaN\n",
       "uvas        22.0\n",
       "pepinos      1.0\n",
       "dtype: float64"
      ]
     },
     "execution_count": 82,
     "metadata": {},
     "output_type": "execute_result"
    }
   ],
   "source": [
    "stock.loc['manzanas':'pepinos':2]"
   ]
  },
  {
   "cell_type": "code",
   "execution_count": 83,
   "metadata": {
    "scrolled": false
   },
   "outputs": [
    {
     "data": {
      "text/plain": [
       "manzanas    NaN\n",
       "naranjas    3.0\n",
       "pepinos     1.0\n",
       "dtype: float64"
      ]
     },
     "execution_count": 83,
     "metadata": {},
     "output_type": "execute_result"
    }
   ],
   "source": [
    "stock.loc[[True,True,False,False,True]] # Recuperamos las filas con valor True"
   ]
  },
  {
   "cell_type": "code",
   "execution_count": 84,
   "metadata": {
    "scrolled": false
   },
   "outputs": [
    {
     "data": {
      "text/plain": [
       "manzanas    False\n",
       "naranjas    False\n",
       "uvas         True\n",
       "papas        True\n",
       "pepinos     False\n",
       "dtype: bool"
      ]
     },
     "execution_count": 84,
     "metadata": {},
     "output_type": "execute_result"
    }
   ],
   "source": [
    "stock > 10 # Podemos hacer comparaciones"
   ]
  },
  {
   "cell_type": "code",
   "execution_count": 85,
   "metadata": {
    "scrolled": false
   },
   "outputs": [
    {
     "data": {
      "text/plain": [
       "uvas     22.0\n",
       "papas    41.0\n",
       "dtype: float64"
      ]
     },
     "execution_count": 85,
     "metadata": {},
     "output_type": "execute_result"
    }
   ],
   "source": [
    "stock.loc[stock > 10] # Podemos usarlo para cortar una serie"
   ]
  },
  {
   "cell_type": "markdown",
   "metadata": {},
   "source": [
    "### Manipulación de datos"
   ]
  },
  {
   "cell_type": "markdown",
   "metadata": {},
   "source": [
    "Se puede realizar operaciones numericas en las Series para todos los valores al mismo tiempo, del mismo modo que se procesan los arreglos numpy:"
   ]
  },
  {
   "cell_type": "code",
   "execution_count": 86,
   "metadata": {
    "scrolled": false
   },
   "outputs": [
    {
     "data": {
      "text/plain": [
       "manzanas      NaN\n",
       "naranjas   -13.75\n",
       "uvas         5.25\n",
       "papas       24.25\n",
       "pepinos    -15.75\n",
       "dtype: float64"
      ]
     },
     "execution_count": 86,
     "metadata": {},
     "output_type": "execute_result"
    }
   ],
   "source": [
    "stock - stock.mean() # Restamos a cada valor el promedio"
   ]
  },
  {
   "cell_type": "code",
   "execution_count": 87,
   "metadata": {
    "scrolled": false
   },
   "outputs": [
    {
     "data": {
      "text/plain": [
       "manzanas         NaN\n",
       "naranjas    1.732051\n",
       "uvas        4.690416\n",
       "papas       6.403124\n",
       "pepinos     1.000000\n",
       "dtype: float64"
      ]
     },
     "execution_count": 87,
     "metadata": {},
     "output_type": "execute_result"
    }
   ],
   "source": [
    "import numpy as np\n",
    "np.sqrt(stock) # Calculamos la raíz cuadrada de cada valor"
   ]
  },
  {
   "cell_type": "markdown",
   "metadata": {},
   "source": [
    "Ademas, Pandas administra de manera inteligente los índices:"
   ]
  },
  {
   "cell_type": "code",
   "execution_count": 88,
   "metadata": {
    "scrolled": false
   },
   "outputs": [
    {
     "name": "stdout",
     "output_type": "stream",
     "text": [
      "Pedro    1\n",
      "Juan     2\n",
      "dtype: int64\n",
      "\n",
      "Juan     100\n",
      "Pedro    200\n",
      "dtype: int64\n"
     ]
    },
    {
     "data": {
      "text/plain": [
       "Juan     102\n",
       "Pedro    201\n",
       "dtype: int64"
      ]
     },
     "execution_count": 88,
     "metadata": {},
     "output_type": "execute_result"
    }
   ],
   "source": [
    "serie1 = pd.Series([1,2], index= [\"Pedro\",\"Juan\"])\n",
    "print(serie1)\n",
    "serie2 = pd.Series([100,200], index= [\"Juan\",\"Pedro\"])\n",
    "print(\"\")\n",
    "print(serie2)\n",
    "serie1+serie2"
   ]
  },
  {
   "cell_type": "markdown",
   "metadata": {},
   "source": [
    "Incluso cuando hay datos faltantes:"
   ]
  },
  {
   "cell_type": "code",
   "execution_count": 89,
   "metadata": {
    "scrolled": false
   },
   "outputs": [
    {
     "name": "stdout",
     "output_type": "stream",
     "text": [
      "Pedro     10\n",
      "Juan      20\n",
      "Miguel    50\n",
      "dtype: int64\n"
     ]
    },
    {
     "data": {
      "text/plain": [
       "Juan      120.0\n",
       "Miguel      NaN\n",
       "Pedro     210.0\n",
       "dtype: float64"
      ]
     },
     "execution_count": 89,
     "metadata": {},
     "output_type": "execute_result"
    }
   ],
   "source": [
    "serie3 = pd.Series([10,20,50], index = [\"Pedro\",\"Juan\",\"Miguel\"])\n",
    "print(serie3)\n",
    "serie2+serie3"
   ]
  },
  {
   "cell_type": "markdown",
   "metadata": {},
   "source": [
    "------\n",
    "### Ejercicios\n",
    "\n",
    "1. Escriba una función `operacion` que reciba dos series `serie1` y `serie2` y que devuelva una serie con los máximos 3 promedios de los elementos que tengan en común cada serie. \n",
    "\n",
    "Por ejemplo, si `serie1` es:\n",
    "```\n",
    "a    1\n",
    "b    2\n",
    "c    3\n",
    "d    4\n",
    "e    5\n",
    "f    6\n",
    "dtype: int64\n",
    "```\n",
    "y `serie2` es:\n",
    "\n",
    "```\n",
    "b    2\n",
    "d   -1\n",
    "a    7\n",
    "u    4\n",
    "e    1\n",
    "dtype: int64\n",
    "```\n",
    "\n",
    "entonces la salida de la función `operacion` es:\n",
    "\n",
    "```\n",
    "b    2.0\n",
    "e    3.0\n",
    "a    4.0\n",
    "dtype: float64\n",
    "```"
   ]
  },
  {
   "cell_type": "code",
   "execution_count": 96,
   "metadata": {
    "scrolled": false
   },
   "outputs": [
    {
     "data": {
      "text/plain": [
       "b    2.0\n",
       "e    3.0\n",
       "a    4.0\n",
       "dtype: float64"
      ]
     },
     "execution_count": 96,
     "metadata": {},
     "output_type": "execute_result"
    }
   ],
   "source": [
    "# Escriba aquí su solución\n",
    "\n",
    "def operacion(serie1, serie2):\n",
    "    # Hago una serie con los promedios de los valores en ambas series\n",
    "    serie3 = (1/2) * (serie1 + serie2)\n",
    "    # Borro los NaN y ordeno los valores de menor a mayor, guardando los últimos 3 valores\n",
    "    serie3 = serie3.dropna().sort_values().iloc[-3:]\n",
    "    return serie3\n",
    "\n",
    "serie1 = pd.Series([1,2,3,4,5,6],index = [\"a\",\"b\",\"c\",\"d\",\"e\",\"f\"])\n",
    "serie2 = pd.Series([2,-1,7,4,1],index = [\"b\",\"d\",\"a\",\"u\",\"e\"])\n",
    "\n",
    "operacion(serie1,serie2)"
   ]
  },
  {
   "cell_type": "markdown",
   "metadata": {},
   "source": [
    "2. Escriba una función `cuentaChar` que recibe como argumento una serie de strings `serie`, y devuelva una serie con la cantidad de caracteres de cada elemento de `serie`. \n",
    "\n",
    "**HINT**: use herramientas de programación funcional"
   ]
  },
  {
   "cell_type": "code",
   "execution_count": 108,
   "metadata": {
    "scrolled": false
   },
   "outputs": [
    {
     "name": "stdout",
     "output_type": "stream",
     "text": [
      "palabra1     hola\n",
      "palabra2     como\n",
      "palabra3    estas\n",
      "palabra4       tu\n",
      "dtype: object\n"
     ]
    },
    {
     "data": {
      "text/plain": [
       "palabra1    4\n",
       "palabra2    4\n",
       "palabra3    5\n",
       "palabra4    2\n",
       "dtype: int64"
      ]
     },
     "execution_count": 108,
     "metadata": {},
     "output_type": "execute_result"
    }
   ],
   "source": [
    "# Escriba aquí su solución \n",
    "\n",
    "def cuentaChar(serie):\n",
    "    # Recuperamos los valores (o sea los strings)\n",
    "    strings = serie.values\n",
    "    # Creamos una lista vacía para guardar los largos de los strings\n",
    "    largos = []\n",
    "    # Recorremos la lista de valores y agregamos a la lista los largos de los strings\n",
    "    for s in strings:\n",
    "        largos.append(len(s))\n",
    "    # Creamos la serie de salida\n",
    "    serieOut = pd.Series(largos, index = serie.index)\n",
    "    return serieOut\n",
    "\n",
    "# Creamos una serie de ejemplo\n",
    "serieEjemplo = pd.Series([\"hola\",\"como\",\"estas\",\"tu\"],index = [\"palabra1\", \"palabra2\", \"palabra3\", \"palabra4\"])\n",
    "print(serieEjemplo)\n",
    "\n",
    "# Corremos la función en el ejemplo\n",
    "cuentaChar(serieEjemplo)"
   ]
  },
  {
   "cell_type": "markdown",
   "metadata": {},
   "source": [
    "-----"
   ]
  },
  {
   "cell_type": "markdown",
   "metadata": {},
   "source": [
    "## Data Frame"
   ]
  },
  {
   "cell_type": "markdown",
   "metadata": {},
   "source": [
    "### Ejemplo del Stock - `DataFrame`"
   ]
  },
  {
   "cell_type": "markdown",
   "metadata": {},
   "source": [
    "Luego de introducir el objeto `Series`, nos vamos a enfocar en el segundo tipo de datos importante en Pandas: los `DataFrame`. \n",
    "\n",
    "Como primera descripción, podríamos decir que un `DataFrame` es similar a una planilla de cálculo: contiene filas y columnas. \n",
    "\n",
    "Las Series son un caso especiales de los Data Frames, en los cuales solo hay una columna. \n",
    "\n",
    "Continuemos con el ejemplo del stock:"
   ]
  },
  {
   "cell_type": "code",
   "execution_count": 109,
   "metadata": {
    "scrolled": false
   },
   "outputs": [
    {
     "data": {
      "text/plain": [
       "manzanas     NaN\n",
       "naranjas     3.0\n",
       "uvas        22.0\n",
       "papas       41.0\n",
       "pepinos      1.0\n",
       "dtype: float64"
      ]
     },
     "execution_count": 109,
     "metadata": {},
     "output_type": "execute_result"
    }
   ],
   "source": [
    "stock"
   ]
  },
  {
   "cell_type": "markdown",
   "metadata": {},
   "source": [
    "Supongamos que además de llevar la cuenta de cuántos objetos de cada tipo tenemos en stock, tenemos otra Serie con los precios por unidad a los que se vende cada item:"
   ]
  },
  {
   "cell_type": "code",
   "execution_count": 110,
   "metadata": {
    "scrolled": false
   },
   "outputs": [
    {
     "data": {
      "text/plain": [
       "manzanas    0.55\n",
       "uvas        0.50\n",
       "pepinos     0.99\n",
       "papas       0.17\n",
       "naranjas    1.76\n",
       "dtype: float64"
      ]
     },
     "execution_count": 110,
     "metadata": {},
     "output_type": "execute_result"
    }
   ],
   "source": [
    "precio = pd.Series({'manzanas': 0.55, 'uvas': 0.50, 'pepinos' : 0.99, 'papas' : 0.17, 'naranjas': 1.76})\n",
    "precio"
   ]
  },
  {
   "cell_type": "markdown",
   "metadata": {},
   "source": [
    "El objeto `DataFrame` nos permite trabajar con las dos series juntas. De hecho, una forma conveniente de crear un objeto `DataFrame` es combinando un cierto número de series como lo hacemos a continuación:"
   ]
  },
  {
   "cell_type": "code",
   "execution_count": 115,
   "metadata": {
    "scrolled": false
   },
   "outputs": [
    {
     "data": {
      "text/html": [
       "<div>\n",
       "<style scoped>\n",
       "    .dataframe tbody tr th:only-of-type {\n",
       "        vertical-align: middle;\n",
       "    }\n",
       "\n",
       "    .dataframe tbody tr th {\n",
       "        vertical-align: top;\n",
       "    }\n",
       "\n",
       "    .dataframe thead th {\n",
       "        text-align: right;\n",
       "    }\n",
       "</style>\n",
       "<table border=\"1\" class=\"dataframe\">\n",
       "  <thead>\n",
       "    <tr style=\"text-align: right;\">\n",
       "      <th></th>\n",
       "      <th>Stock</th>\n",
       "    </tr>\n",
       "  </thead>\n",
       "  <tbody>\n",
       "    <tr>\n",
       "      <th>manzanas</th>\n",
       "      <td>NaN</td>\n",
       "    </tr>\n",
       "    <tr>\n",
       "      <th>naranjas</th>\n",
       "      <td>3.0</td>\n",
       "    </tr>\n",
       "    <tr>\n",
       "      <th>uvas</th>\n",
       "      <td>22.0</td>\n",
       "    </tr>\n",
       "    <tr>\n",
       "      <th>papas</th>\n",
       "      <td>41.0</td>\n",
       "    </tr>\n",
       "    <tr>\n",
       "      <th>pepinos</th>\n",
       "      <td>1.0</td>\n",
       "    </tr>\n",
       "  </tbody>\n",
       "</table>\n",
       "</div>"
      ],
      "text/plain": [
       "          Stock\n",
       "manzanas    NaN\n",
       "naranjas    3.0\n",
       "uvas       22.0\n",
       "papas      41.0\n",
       "pepinos     1.0"
      ]
     },
     "execution_count": 115,
     "metadata": {},
     "output_type": "execute_result"
    }
   ],
   "source": [
    "shop = pd.DataFrame()   # Creamos un DataFrame vacío\n",
    "shop[\"Stock\"] = stock # Creamos la columna titulada \"Stock\" con los datos de la variable stock\n",
    "shop"
   ]
  },
  {
   "cell_type": "code",
   "execution_count": 116,
   "metadata": {
    "scrolled": false
   },
   "outputs": [
    {
     "data": {
      "text/html": [
       "<div>\n",
       "<style scoped>\n",
       "    .dataframe tbody tr th:only-of-type {\n",
       "        vertical-align: middle;\n",
       "    }\n",
       "\n",
       "    .dataframe tbody tr th {\n",
       "        vertical-align: top;\n",
       "    }\n",
       "\n",
       "    .dataframe thead th {\n",
       "        text-align: right;\n",
       "    }\n",
       "</style>\n",
       "<table border=\"1\" class=\"dataframe\">\n",
       "  <thead>\n",
       "    <tr style=\"text-align: right;\">\n",
       "      <th></th>\n",
       "      <th>Stock</th>\n",
       "      <th>Precio</th>\n",
       "    </tr>\n",
       "  </thead>\n",
       "  <tbody>\n",
       "    <tr>\n",
       "      <th>manzanas</th>\n",
       "      <td>NaN</td>\n",
       "      <td>0.55</td>\n",
       "    </tr>\n",
       "    <tr>\n",
       "      <th>naranjas</th>\n",
       "      <td>3.0</td>\n",
       "      <td>1.76</td>\n",
       "    </tr>\n",
       "    <tr>\n",
       "      <th>uvas</th>\n",
       "      <td>22.0</td>\n",
       "      <td>0.50</td>\n",
       "    </tr>\n",
       "    <tr>\n",
       "      <th>papas</th>\n",
       "      <td>41.0</td>\n",
       "      <td>0.17</td>\n",
       "    </tr>\n",
       "    <tr>\n",
       "      <th>pepinos</th>\n",
       "      <td>1.0</td>\n",
       "      <td>0.99</td>\n",
       "    </tr>\n",
       "  </tbody>\n",
       "</table>\n",
       "</div>"
      ],
      "text/plain": [
       "          Stock  Precio\n",
       "manzanas    NaN    0.55\n",
       "naranjas    3.0    1.76\n",
       "uvas       22.0    0.50\n",
       "papas      41.0    0.17\n",
       "pepinos     1.0    0.99"
      ]
     },
     "execution_count": 116,
     "metadata": {},
     "output_type": "execute_result"
    }
   ],
   "source": [
    "shop[\"Precio\"] = precio # Creamos la columna titulada \"Precio\" con los datos de la variable precio\n",
    "shop"
   ]
  },
  {
   "cell_type": "markdown",
   "metadata": {},
   "source": [
    "Dado que ambas series tenían los mismos índices, nuestros datos se alinearon automáticamente en `DataFrame` de nombre `shop`, aún cuando los datos estaban almacenados en distinto orden en `precio` y `stock`.\n"
   ]
  },
  {
   "cell_type": "markdown",
   "metadata": {},
   "source": [
    "Hay una forma abreviada de construir el dataframe anterior, usando diccionarios:"
   ]
  },
  {
   "cell_type": "code",
   "execution_count": 117,
   "metadata": {
    "scrolled": false
   },
   "outputs": [
    {
     "data": {
      "text/html": [
       "<div>\n",
       "<style scoped>\n",
       "    .dataframe tbody tr th:only-of-type {\n",
       "        vertical-align: middle;\n",
       "    }\n",
       "\n",
       "    .dataframe tbody tr th {\n",
       "        vertical-align: top;\n",
       "    }\n",
       "\n",
       "    .dataframe thead th {\n",
       "        text-align: right;\n",
       "    }\n",
       "</style>\n",
       "<table border=\"1\" class=\"dataframe\">\n",
       "  <thead>\n",
       "    <tr style=\"text-align: right;\">\n",
       "      <th></th>\n",
       "      <th>Stock</th>\n",
       "      <th>Precio</th>\n",
       "    </tr>\n",
       "  </thead>\n",
       "  <tbody>\n",
       "    <tr>\n",
       "      <th>manzanas</th>\n",
       "      <td>NaN</td>\n",
       "      <td>0.55</td>\n",
       "    </tr>\n",
       "    <tr>\n",
       "      <th>naranjas</th>\n",
       "      <td>3.0</td>\n",
       "      <td>1.76</td>\n",
       "    </tr>\n",
       "    <tr>\n",
       "      <th>papas</th>\n",
       "      <td>41.0</td>\n",
       "      <td>0.17</td>\n",
       "    </tr>\n",
       "    <tr>\n",
       "      <th>pepinos</th>\n",
       "      <td>1.0</td>\n",
       "      <td>0.99</td>\n",
       "    </tr>\n",
       "    <tr>\n",
       "      <th>uvas</th>\n",
       "      <td>22.0</td>\n",
       "      <td>0.50</td>\n",
       "    </tr>\n",
       "  </tbody>\n",
       "</table>\n",
       "</div>"
      ],
      "text/plain": [
       "          Stock  Precio\n",
       "manzanas    NaN    0.55\n",
       "naranjas    3.0    1.76\n",
       "papas      41.0    0.17\n",
       "pepinos     1.0    0.99\n",
       "uvas       22.0    0.50"
      ]
     },
     "execution_count": 117,
     "metadata": {},
     "output_type": "execute_result"
    }
   ],
   "source": [
    "shop = pd.DataFrame({'Stock' : stock, 'Precio' : precio})\n",
    "shop"
   ]
  },
  {
   "cell_type": "markdown",
   "metadata": {},
   "source": [
    "Si a una de la series le falta un dato, Pandas va a insertar un `NaN` en los campos correspondientes:"
   ]
  },
  {
   "cell_type": "code",
   "execution_count": 118,
   "metadata": {
    "scrolled": false
   },
   "outputs": [],
   "source": [
    "precio2 = precio.copy()"
   ]
  },
  {
   "cell_type": "code",
   "execution_count": 119,
   "metadata": {
    "scrolled": false
   },
   "outputs": [
    {
     "data": {
      "text/plain": [
       "manzanas    0.55\n",
       "uvas        0.50\n",
       "pepinos     0.99\n",
       "papas       0.17\n",
       "naranjas    1.76\n",
       "plátanos    1.99\n",
       "dtype: float64"
      ]
     },
     "execution_count": 119,
     "metadata": {},
     "output_type": "execute_result"
    }
   ],
   "source": [
    "precio2['plátanos'] = 1.99\n",
    "precio2"
   ]
  },
  {
   "cell_type": "code",
   "execution_count": 120,
   "metadata": {
    "scrolled": false
   },
   "outputs": [
    {
     "data": {
      "text/html": [
       "<div>\n",
       "<style scoped>\n",
       "    .dataframe tbody tr th:only-of-type {\n",
       "        vertical-align: middle;\n",
       "    }\n",
       "\n",
       "    .dataframe tbody tr th {\n",
       "        vertical-align: top;\n",
       "    }\n",
       "\n",
       "    .dataframe thead th {\n",
       "        text-align: right;\n",
       "    }\n",
       "</style>\n",
       "<table border=\"1\" class=\"dataframe\">\n",
       "  <thead>\n",
       "    <tr style=\"text-align: right;\">\n",
       "      <th></th>\n",
       "      <th>stock</th>\n",
       "      <th>price</th>\n",
       "    </tr>\n",
       "  </thead>\n",
       "  <tbody>\n",
       "    <tr>\n",
       "      <th>manzanas</th>\n",
       "      <td>NaN</td>\n",
       "      <td>0.55</td>\n",
       "    </tr>\n",
       "    <tr>\n",
       "      <th>naranjas</th>\n",
       "      <td>3.0</td>\n",
       "      <td>1.76</td>\n",
       "    </tr>\n",
       "    <tr>\n",
       "      <th>papas</th>\n",
       "      <td>41.0</td>\n",
       "      <td>0.17</td>\n",
       "    </tr>\n",
       "    <tr>\n",
       "      <th>pepinos</th>\n",
       "      <td>1.0</td>\n",
       "      <td>0.99</td>\n",
       "    </tr>\n",
       "    <tr>\n",
       "      <th>plátanos</th>\n",
       "      <td>NaN</td>\n",
       "      <td>1.99</td>\n",
       "    </tr>\n",
       "    <tr>\n",
       "      <th>uvas</th>\n",
       "      <td>22.0</td>\n",
       "      <td>0.50</td>\n",
       "    </tr>\n",
       "  </tbody>\n",
       "</table>\n",
       "</div>"
      ],
      "text/plain": [
       "          stock  price\n",
       "manzanas    NaN   0.55\n",
       "naranjas    3.0   1.76\n",
       "papas      41.0   0.17\n",
       "pepinos     1.0   0.99\n",
       "plátanos    NaN   1.99\n",
       "uvas       22.0   0.50"
      ]
     },
     "execution_count": 120,
     "metadata": {},
     "output_type": "execute_result"
    }
   ],
   "source": [
    "shop3 = pd.DataFrame({'stock' : stock, 'price' : precio2})\n",
    "shop3"
   ]
  },
  {
   "cell_type": "code",
   "execution_count": 121,
   "metadata": {
    "scrolled": false
   },
   "outputs": [
    {
     "data": {
      "text/html": [
       "<div>\n",
       "<style scoped>\n",
       "    .dataframe tbody tr th:only-of-type {\n",
       "        vertical-align: middle;\n",
       "    }\n",
       "\n",
       "    .dataframe tbody tr th {\n",
       "        vertical-align: top;\n",
       "    }\n",
       "\n",
       "    .dataframe thead th {\n",
       "        text-align: right;\n",
       "    }\n",
       "</style>\n",
       "<table border=\"1\" class=\"dataframe\">\n",
       "  <thead>\n",
       "    <tr style=\"text-align: right;\">\n",
       "      <th></th>\n",
       "      <th>stock</th>\n",
       "      <th>price</th>\n",
       "    </tr>\n",
       "  </thead>\n",
       "  <tbody>\n",
       "    <tr>\n",
       "      <th>manzanas</th>\n",
       "      <td>NaN</td>\n",
       "      <td>0.55</td>\n",
       "    </tr>\n",
       "    <tr>\n",
       "      <th>naranjas</th>\n",
       "      <td>3.0</td>\n",
       "      <td>1.76</td>\n",
       "    </tr>\n",
       "    <tr>\n",
       "      <th>papas</th>\n",
       "      <td>41.0</td>\n",
       "      <td>0.17</td>\n",
       "    </tr>\n",
       "    <tr>\n",
       "      <th>pepinos</th>\n",
       "      <td>1.0</td>\n",
       "      <td>0.99</td>\n",
       "    </tr>\n",
       "    <tr>\n",
       "      <th>plátanos</th>\n",
       "      <td>1.0</td>\n",
       "      <td>1.99</td>\n",
       "    </tr>\n",
       "    <tr>\n",
       "      <th>uvas</th>\n",
       "      <td>22.0</td>\n",
       "      <td>0.50</td>\n",
       "    </tr>\n",
       "  </tbody>\n",
       "</table>\n",
       "</div>"
      ],
      "text/plain": [
       "          stock  price\n",
       "manzanas    NaN   0.55\n",
       "naranjas    3.0   1.76\n",
       "papas      41.0   0.17\n",
       "pepinos     1.0   0.99\n",
       "plátanos    1.0   1.99\n",
       "uvas       22.0   0.50"
      ]
     },
     "execution_count": 121,
     "metadata": {},
     "output_type": "execute_result"
    }
   ],
   "source": [
    "shop3['stock']['plátanos']=1\n",
    "shop3"
   ]
  },
  {
   "cell_type": "markdown",
   "metadata": {},
   "source": [
    "### Accediendo a los datos en un `DataFrame`"
   ]
  },
  {
   "cell_type": "code",
   "execution_count": 123,
   "metadata": {
    "scrolled": false
   },
   "outputs": [
    {
     "data": {
      "text/html": [
       "<div>\n",
       "<style scoped>\n",
       "    .dataframe tbody tr th:only-of-type {\n",
       "        vertical-align: middle;\n",
       "    }\n",
       "\n",
       "    .dataframe tbody tr th {\n",
       "        vertical-align: top;\n",
       "    }\n",
       "\n",
       "    .dataframe thead th {\n",
       "        text-align: right;\n",
       "    }\n",
       "</style>\n",
       "<table border=\"1\" class=\"dataframe\">\n",
       "  <thead>\n",
       "    <tr style=\"text-align: right;\">\n",
       "      <th></th>\n",
       "      <th>Stock</th>\n",
       "      <th>Precio</th>\n",
       "    </tr>\n",
       "  </thead>\n",
       "  <tbody>\n",
       "    <tr>\n",
       "      <th>manzanas</th>\n",
       "      <td>NaN</td>\n",
       "      <td>0.55</td>\n",
       "    </tr>\n",
       "    <tr>\n",
       "      <th>naranjas</th>\n",
       "      <td>3.0</td>\n",
       "      <td>1.76</td>\n",
       "    </tr>\n",
       "    <tr>\n",
       "      <th>papas</th>\n",
       "      <td>41.0</td>\n",
       "      <td>0.17</td>\n",
       "    </tr>\n",
       "    <tr>\n",
       "      <th>pepinos</th>\n",
       "      <td>1.0</td>\n",
       "      <td>0.99</td>\n",
       "    </tr>\n",
       "    <tr>\n",
       "      <th>uvas</th>\n",
       "      <td>22.0</td>\n",
       "      <td>0.50</td>\n",
       "    </tr>\n",
       "  </tbody>\n",
       "</table>\n",
       "</div>"
      ],
      "text/plain": [
       "          Stock  Precio\n",
       "manzanas    NaN    0.55\n",
       "naranjas    3.0    1.76\n",
       "papas      41.0    0.17\n",
       "pepinos     1.0    0.99\n",
       "uvas       22.0    0.50"
      ]
     },
     "execution_count": 123,
     "metadata": {},
     "output_type": "execute_result"
    }
   ],
   "source": [
    "shop"
   ]
  },
  {
   "cell_type": "markdown",
   "metadata": {},
   "source": [
    "Cada fila de un data frame tiene un índice, que es el mismo para todas las columnas, y que se muestra en negritas en la primera columna. También podemos acceder a los índices con el comando:"
   ]
  },
  {
   "cell_type": "code",
   "execution_count": 124,
   "metadata": {
    "scrolled": false
   },
   "outputs": [
    {
     "data": {
      "text/plain": [
       "Index(['manzanas', 'naranjas', 'papas', 'pepinos', 'uvas'], dtype='object')"
      ]
     },
     "execution_count": 124,
     "metadata": {},
     "output_type": "execute_result"
    }
   ],
   "source": [
    "shop.index"
   ]
  },
  {
   "cell_type": "code",
   "execution_count": 125,
   "metadata": {
    "scrolled": false
   },
   "outputs": [
    {
     "data": {
      "text/plain": [
       "Index(['Stock', 'Precio'], dtype='object')"
      ]
     },
     "execution_count": 125,
     "metadata": {},
     "output_type": "execute_result"
    }
   ],
   "source": [
    "shop.columns"
   ]
  },
  {
   "cell_type": "code",
   "execution_count": 126,
   "metadata": {
    "scrolled": false
   },
   "outputs": [
    {
     "data": {
      "text/plain": [
       "pandas.core.indexes.base.Index"
      ]
     },
     "execution_count": 126,
     "metadata": {},
     "output_type": "execute_result"
    }
   ],
   "source": [
    "type(shop.columns)"
   ]
  },
  {
   "cell_type": "code",
   "execution_count": 134,
   "metadata": {
    "scrolled": false
   },
   "outputs": [
    {
     "data": {
      "text/html": [
       "<div>\n",
       "<style scoped>\n",
       "    .dataframe tbody tr th:only-of-type {\n",
       "        vertical-align: middle;\n",
       "    }\n",
       "\n",
       "    .dataframe tbody tr th {\n",
       "        vertical-align: top;\n",
       "    }\n",
       "\n",
       "    .dataframe thead th {\n",
       "        text-align: right;\n",
       "    }\n",
       "</style>\n",
       "<table border=\"1\" class=\"dataframe\">\n",
       "  <thead>\n",
       "    <tr style=\"text-align: right;\">\n",
       "      <th></th>\n",
       "      <th>Stock</th>\n",
       "      <th>Precio</th>\n",
       "    </tr>\n",
       "  </thead>\n",
       "  <tbody>\n",
       "    <tr>\n",
       "      <th>gatos</th>\n",
       "      <td>1</td>\n",
       "      <td>1</td>\n",
       "    </tr>\n",
       "    <tr>\n",
       "      <th>perros</th>\n",
       "      <td>0</td>\n",
       "      <td>0</td>\n",
       "    </tr>\n",
       "  </tbody>\n",
       "</table>\n",
       "</div>"
      ],
      "text/plain": [
       "        Stock  Precio\n",
       "gatos       1       1\n",
       "perros      0       0"
      ]
     },
     "execution_count": 134,
     "metadata": {},
     "output_type": "execute_result"
    }
   ],
   "source": [
    "df = pd.DataFrame([[1,1],[0,0]],index=[\"gatos\",\"perros\"],columns=[\"Stock\",\"Precio\"])\n",
    "df"
   ]
  },
  {
   "cell_type": "markdown",
   "metadata": {},
   "source": [
    "Podemos juntar los dos dataframes con el comando `concat`."
   ]
  },
  {
   "cell_type": "code",
   "execution_count": 133,
   "metadata": {
    "scrolled": false
   },
   "outputs": [
    {
     "data": {
      "text/html": [
       "<div>\n",
       "<style scoped>\n",
       "    .dataframe tbody tr th:only-of-type {\n",
       "        vertical-align: middle;\n",
       "    }\n",
       "\n",
       "    .dataframe tbody tr th {\n",
       "        vertical-align: top;\n",
       "    }\n",
       "\n",
       "    .dataframe thead th {\n",
       "        text-align: right;\n",
       "    }\n",
       "</style>\n",
       "<table border=\"1\" class=\"dataframe\">\n",
       "  <thead>\n",
       "    <tr style=\"text-align: right;\">\n",
       "      <th></th>\n",
       "      <th>Stock</th>\n",
       "      <th>Precio</th>\n",
       "    </tr>\n",
       "  </thead>\n",
       "  <tbody>\n",
       "    <tr>\n",
       "      <th>manzanas</th>\n",
       "      <td>NaN</td>\n",
       "      <td>0.55</td>\n",
       "    </tr>\n",
       "    <tr>\n",
       "      <th>naranjas</th>\n",
       "      <td>3.0</td>\n",
       "      <td>1.76</td>\n",
       "    </tr>\n",
       "    <tr>\n",
       "      <th>papas</th>\n",
       "      <td>41.0</td>\n",
       "      <td>0.17</td>\n",
       "    </tr>\n",
       "    <tr>\n",
       "      <th>pepinos</th>\n",
       "      <td>1.0</td>\n",
       "      <td>0.99</td>\n",
       "    </tr>\n",
       "    <tr>\n",
       "      <th>uvas</th>\n",
       "      <td>22.0</td>\n",
       "      <td>0.50</td>\n",
       "    </tr>\n",
       "    <tr>\n",
       "      <th>gatos</th>\n",
       "      <td>1.0</td>\n",
       "      <td>1.00</td>\n",
       "    </tr>\n",
       "    <tr>\n",
       "      <th>perros</th>\n",
       "      <td>0.0</td>\n",
       "      <td>0.00</td>\n",
       "    </tr>\n",
       "  </tbody>\n",
       "</table>\n",
       "</div>"
      ],
      "text/plain": [
       "          Stock  Precio\n",
       "manzanas    NaN    0.55\n",
       "naranjas    3.0    1.76\n",
       "papas      41.0    0.17\n",
       "pepinos     1.0    0.99\n",
       "uvas       22.0    0.50\n",
       "gatos       1.0    1.00\n",
       "perros      0.0    0.00"
      ]
     },
     "execution_count": 133,
     "metadata": {},
     "output_type": "execute_result"
    }
   ],
   "source": [
    "pd.concat([shop,df])"
   ]
  },
  {
   "cell_type": "markdown",
   "metadata": {},
   "source": [
    "### Extrayendo columnas\n",
    "Usando los nombres de las columnas, podemos extraer una columna como un objeto `Series` usando el operador (`[]`):"
   ]
  },
  {
   "cell_type": "code",
   "execution_count": 135,
   "metadata": {
    "scrolled": false
   },
   "outputs": [
    {
     "data": {
      "text/plain": [
       "manzanas     NaN\n",
       "naranjas     3.0\n",
       "papas       41.0\n",
       "pepinos      1.0\n",
       "uvas        22.0\n",
       "Name: Stock, dtype: float64"
      ]
     },
     "execution_count": 135,
     "metadata": {},
     "output_type": "execute_result"
    }
   ],
   "source": [
    "shop['Stock']"
   ]
  },
  {
   "cell_type": "code",
   "execution_count": 136,
   "metadata": {
    "scrolled": false
   },
   "outputs": [
    {
     "data": {
      "text/plain": [
       "manzanas    0.55\n",
       "naranjas    1.76\n",
       "papas       0.17\n",
       "pepinos     0.99\n",
       "uvas        0.50\n",
       "Name: Precio, dtype: float64"
      ]
     },
     "execution_count": 136,
     "metadata": {},
     "output_type": "execute_result"
    }
   ],
   "source": [
    "shop['Precio']"
   ]
  },
  {
   "cell_type": "code",
   "execution_count": 137,
   "metadata": {
    "scrolled": false
   },
   "outputs": [
    {
     "data": {
      "text/plain": [
       "pandas.core.series.Series"
      ]
     },
     "execution_count": 137,
     "metadata": {},
     "output_type": "execute_result"
    }
   ],
   "source": [
    "type(shop['Precio'])"
   ]
  },
  {
   "cell_type": "markdown",
   "metadata": {},
   "source": [
    "\n",
    "### Extrayendo filas"
   ]
  },
  {
   "cell_type": "markdown",
   "metadata": {},
   "source": [
    "Tenemos dos opciones para extraer una fila de datos. \n",
    "\n",
    "Primero, a través del indexado explícito utilizando la etiqueta de la fila:"
   ]
  },
  {
   "cell_type": "code",
   "execution_count": 138,
   "metadata": {
    "scrolled": false
   },
   "outputs": [
    {
     "data": {
      "text/html": [
       "<div>\n",
       "<style scoped>\n",
       "    .dataframe tbody tr th:only-of-type {\n",
       "        vertical-align: middle;\n",
       "    }\n",
       "\n",
       "    .dataframe tbody tr th {\n",
       "        vertical-align: top;\n",
       "    }\n",
       "\n",
       "    .dataframe thead th {\n",
       "        text-align: right;\n",
       "    }\n",
       "</style>\n",
       "<table border=\"1\" class=\"dataframe\">\n",
       "  <thead>\n",
       "    <tr style=\"text-align: right;\">\n",
       "      <th></th>\n",
       "      <th>Stock</th>\n",
       "      <th>Precio</th>\n",
       "    </tr>\n",
       "  </thead>\n",
       "  <tbody>\n",
       "    <tr>\n",
       "      <th>manzanas</th>\n",
       "      <td>NaN</td>\n",
       "      <td>0.55</td>\n",
       "    </tr>\n",
       "    <tr>\n",
       "      <th>naranjas</th>\n",
       "      <td>3.0</td>\n",
       "      <td>1.76</td>\n",
       "    </tr>\n",
       "    <tr>\n",
       "      <th>papas</th>\n",
       "      <td>41.0</td>\n",
       "      <td>0.17</td>\n",
       "    </tr>\n",
       "    <tr>\n",
       "      <th>pepinos</th>\n",
       "      <td>1.0</td>\n",
       "      <td>0.99</td>\n",
       "    </tr>\n",
       "    <tr>\n",
       "      <th>uvas</th>\n",
       "      <td>22.0</td>\n",
       "      <td>0.50</td>\n",
       "    </tr>\n",
       "  </tbody>\n",
       "</table>\n",
       "</div>"
      ],
      "text/plain": [
       "          Stock  Precio\n",
       "manzanas    NaN    0.55\n",
       "naranjas    3.0    1.76\n",
       "papas      41.0    0.17\n",
       "pepinos     1.0    0.99\n",
       "uvas       22.0    0.50"
      ]
     },
     "execution_count": 138,
     "metadata": {},
     "output_type": "execute_result"
    }
   ],
   "source": [
    "shop"
   ]
  },
  {
   "cell_type": "code",
   "execution_count": 139,
   "metadata": {
    "scrolled": false
   },
   "outputs": [
    {
     "data": {
      "text/plain": [
       "Stock     3.00\n",
       "Precio    1.76\n",
       "Name: naranjas, dtype: float64"
      ]
     },
     "execution_count": 139,
     "metadata": {},
     "output_type": "execute_result"
    }
   ],
   "source": [
    "shop.loc['naranjas']             # una fila se devuelve como una Serie"
   ]
  },
  {
   "cell_type": "code",
   "execution_count": 140,
   "metadata": {
    "scrolled": false
   },
   "outputs": [
    {
     "data": {
      "text/plain": [
       "pandas.core.series.Series"
      ]
     },
     "execution_count": 140,
     "metadata": {},
     "output_type": "execute_result"
    }
   ],
   "source": [
    "type(shop.loc[\"naranjas\"])"
   ]
  },
  {
   "cell_type": "code",
   "execution_count": 141,
   "metadata": {
    "scrolled": false
   },
   "outputs": [
    {
     "data": {
      "text/html": [
       "<div>\n",
       "<style scoped>\n",
       "    .dataframe tbody tr th:only-of-type {\n",
       "        vertical-align: middle;\n",
       "    }\n",
       "\n",
       "    .dataframe tbody tr th {\n",
       "        vertical-align: top;\n",
       "    }\n",
       "\n",
       "    .dataframe thead th {\n",
       "        text-align: right;\n",
       "    }\n",
       "</style>\n",
       "<table border=\"1\" class=\"dataframe\">\n",
       "  <thead>\n",
       "    <tr style=\"text-align: right;\">\n",
       "      <th></th>\n",
       "      <th>Stock</th>\n",
       "      <th>Precio</th>\n",
       "    </tr>\n",
       "  </thead>\n",
       "  <tbody>\n",
       "    <tr>\n",
       "      <th>manzanas</th>\n",
       "      <td>NaN</td>\n",
       "      <td>0.55</td>\n",
       "    </tr>\n",
       "    <tr>\n",
       "      <th>naranjas</th>\n",
       "      <td>3.0</td>\n",
       "      <td>1.76</td>\n",
       "    </tr>\n",
       "    <tr>\n",
       "      <th>papas</th>\n",
       "      <td>41.0</td>\n",
       "      <td>0.17</td>\n",
       "    </tr>\n",
       "  </tbody>\n",
       "</table>\n",
       "</div>"
      ],
      "text/plain": [
       "          Stock  Precio\n",
       "manzanas    NaN    0.55\n",
       "naranjas    3.0    1.76\n",
       "papas      41.0    0.17"
      ]
     },
     "execution_count": 141,
     "metadata": {},
     "output_type": "execute_result"
    }
   ],
   "source": [
    "shop.loc['manzanas':'papas']  # se devuelven varias filas como un DataFrame"
   ]
  },
  {
   "cell_type": "markdown",
   "metadata": {},
   "source": [
    "Segundo, podemos usar indexado implícito (como hicimos con las series):"
   ]
  },
  {
   "cell_type": "code",
   "execution_count": 142,
   "metadata": {
    "scrolled": false
   },
   "outputs": [
    {
     "data": {
      "text/plain": [
       "Stock      NaN\n",
       "Precio    0.55\n",
       "Name: manzanas, dtype: float64"
      ]
     },
     "execution_count": 142,
     "metadata": {},
     "output_type": "execute_result"
    }
   ],
   "source": [
    "shop.iloc[0,:]  # Tomo la primera fila, y todas las columnas"
   ]
  },
  {
   "cell_type": "code",
   "execution_count": 143,
   "metadata": {
    "scrolled": false
   },
   "outputs": [
    {
     "data": {
      "text/plain": [
       "manzanas    0.55\n",
       "naranjas    1.76\n",
       "papas       0.17\n",
       "pepinos     0.99\n",
       "uvas        0.50\n",
       "Name: Precio, dtype: float64"
      ]
     },
     "execution_count": 143,
     "metadata": {},
     "output_type": "execute_result"
    }
   ],
   "source": [
    "shop.iloc[:,1] # Tomo todas las filas de la segunda columna"
   ]
  },
  {
   "cell_type": "code",
   "execution_count": 144,
   "metadata": {
    "scrolled": false
   },
   "outputs": [
    {
     "data": {
      "text/html": [
       "<div>\n",
       "<style scoped>\n",
       "    .dataframe tbody tr th:only-of-type {\n",
       "        vertical-align: middle;\n",
       "    }\n",
       "\n",
       "    .dataframe tbody tr th {\n",
       "        vertical-align: top;\n",
       "    }\n",
       "\n",
       "    .dataframe thead th {\n",
       "        text-align: right;\n",
       "    }\n",
       "</style>\n",
       "<table border=\"1\" class=\"dataframe\">\n",
       "  <thead>\n",
       "    <tr style=\"text-align: right;\">\n",
       "      <th></th>\n",
       "      <th>Stock</th>\n",
       "      <th>Precio</th>\n",
       "    </tr>\n",
       "  </thead>\n",
       "  <tbody>\n",
       "    <tr>\n",
       "      <th>manzanas</th>\n",
       "      <td>NaN</td>\n",
       "      <td>0.55</td>\n",
       "    </tr>\n",
       "    <tr>\n",
       "      <th>naranjas</th>\n",
       "      <td>3.0</td>\n",
       "      <td>1.76</td>\n",
       "    </tr>\n",
       "    <tr>\n",
       "      <th>papas</th>\n",
       "      <td>41.0</td>\n",
       "      <td>0.17</td>\n",
       "    </tr>\n",
       "  </tbody>\n",
       "</table>\n",
       "</div>"
      ],
      "text/plain": [
       "          Stock  Precio\n",
       "manzanas    NaN    0.55\n",
       "naranjas    3.0    1.76\n",
       "papas      41.0    0.17"
      ]
     },
     "execution_count": 144,
     "metadata": {},
     "output_type": "execute_result"
    }
   ],
   "source": [
    "shop.iloc[0:3] # Tomo las filas entre la primera y la tercera"
   ]
  },
  {
   "cell_type": "markdown",
   "metadata": {},
   "source": [
    "#### Advertencia\n",
    "\n",
    "Notemos que hay algunas inconsistencias aquí: el corte explícito con etiquetas (como `shop.loc['manzanas':'papas']`) incluye a `papas`, mientras que en el corte implícito (como `shop.iloc[0:3]`) la fila con índice `3` no se incluye. \n",
    "\n",
    "El comportamiento de `.loc` es conveniente y una buena elección cuando se usan etiquetas como strings, como en nuestro ejemplo `stock`. El comportamiento de `.iloc` refleja el normal comportamiento de Python. "
   ]
  },
  {
   "cell_type": "markdown",
   "metadata": {},
   "source": [
    "### Manipulación de datos"
   ]
  },
  {
   "cell_type": "markdown",
   "metadata": {},
   "source": [
    "La verdadera fortaleza de los data frames es que podemos continuar procesando los datos de manera muy cómoda.\n",
    "\n",
    "Por ejemplo, podemos calcular el valor de los productos que tenemos en stock, y agregar esto como una nueva columna:"
   ]
  },
  {
   "cell_type": "code",
   "execution_count": 145,
   "metadata": {
    "scrolled": false
   },
   "outputs": [
    {
     "data": {
      "text/html": [
       "<div>\n",
       "<style scoped>\n",
       "    .dataframe tbody tr th:only-of-type {\n",
       "        vertical-align: middle;\n",
       "    }\n",
       "\n",
       "    .dataframe tbody tr th {\n",
       "        vertical-align: top;\n",
       "    }\n",
       "\n",
       "    .dataframe thead th {\n",
       "        text-align: right;\n",
       "    }\n",
       "</style>\n",
       "<table border=\"1\" class=\"dataframe\">\n",
       "  <thead>\n",
       "    <tr style=\"text-align: right;\">\n",
       "      <th></th>\n",
       "      <th>Stock</th>\n",
       "      <th>Precio</th>\n",
       "    </tr>\n",
       "  </thead>\n",
       "  <tbody>\n",
       "    <tr>\n",
       "      <th>manzanas</th>\n",
       "      <td>NaN</td>\n",
       "      <td>0.55</td>\n",
       "    </tr>\n",
       "    <tr>\n",
       "      <th>naranjas</th>\n",
       "      <td>3.0</td>\n",
       "      <td>1.76</td>\n",
       "    </tr>\n",
       "    <tr>\n",
       "      <th>papas</th>\n",
       "      <td>41.0</td>\n",
       "      <td>0.17</td>\n",
       "    </tr>\n",
       "    <tr>\n",
       "      <th>pepinos</th>\n",
       "      <td>1.0</td>\n",
       "      <td>0.99</td>\n",
       "    </tr>\n",
       "    <tr>\n",
       "      <th>uvas</th>\n",
       "      <td>22.0</td>\n",
       "      <td>0.50</td>\n",
       "    </tr>\n",
       "  </tbody>\n",
       "</table>\n",
       "</div>"
      ],
      "text/plain": [
       "          Stock  Precio\n",
       "manzanas    NaN    0.55\n",
       "naranjas    3.0    1.76\n",
       "papas      41.0    0.17\n",
       "pepinos     1.0    0.99\n",
       "uvas       22.0    0.50"
      ]
     },
     "execution_count": 145,
     "metadata": {},
     "output_type": "execute_result"
    }
   ],
   "source": [
    "shop"
   ]
  },
  {
   "cell_type": "code",
   "execution_count": 156,
   "metadata": {
    "scrolled": false
   },
   "outputs": [
    {
     "data": {
      "text/html": [
       "<div>\n",
       "<style scoped>\n",
       "    .dataframe tbody tr th:only-of-type {\n",
       "        vertical-align: middle;\n",
       "    }\n",
       "\n",
       "    .dataframe tbody tr th {\n",
       "        vertical-align: top;\n",
       "    }\n",
       "\n",
       "    .dataframe thead th {\n",
       "        text-align: right;\n",
       "    }\n",
       "</style>\n",
       "<table border=\"1\" class=\"dataframe\">\n",
       "  <thead>\n",
       "    <tr style=\"text-align: right;\">\n",
       "      <th></th>\n",
       "      <th>Stock</th>\n",
       "      <th>Precio</th>\n",
       "      <th>Valor</th>\n",
       "    </tr>\n",
       "  </thead>\n",
       "  <tbody>\n",
       "    <tr>\n",
       "      <th>manzanas</th>\n",
       "      <td>NaN</td>\n",
       "      <td>0.55</td>\n",
       "      <td>NaN</td>\n",
       "    </tr>\n",
       "    <tr>\n",
       "      <th>naranjas</th>\n",
       "      <td>3.0</td>\n",
       "      <td>1.76</td>\n",
       "      <td>5.28</td>\n",
       "    </tr>\n",
       "    <tr>\n",
       "      <th>papas</th>\n",
       "      <td>41.0</td>\n",
       "      <td>0.17</td>\n",
       "      <td>6.97</td>\n",
       "    </tr>\n",
       "    <tr>\n",
       "      <th>pepinos</th>\n",
       "      <td>1.0</td>\n",
       "      <td>0.99</td>\n",
       "      <td>0.99</td>\n",
       "    </tr>\n",
       "    <tr>\n",
       "      <th>uvas</th>\n",
       "      <td>22.0</td>\n",
       "      <td>0.50</td>\n",
       "      <td>11.00</td>\n",
       "    </tr>\n",
       "  </tbody>\n",
       "</table>\n",
       "</div>"
      ],
      "text/plain": [
       "          Stock  Precio  Valor\n",
       "manzanas    NaN    0.55    NaN\n",
       "naranjas    3.0    1.76   5.28\n",
       "papas      41.0    0.17   6.97\n",
       "pepinos     1.0    0.99   0.99\n",
       "uvas       22.0    0.50  11.00"
      ]
     },
     "execution_count": 156,
     "metadata": {},
     "output_type": "execute_result"
    }
   ],
   "source": [
    "shop['Valor'] = shop['Precio'] * shop['Stock']\n",
    "shop"
   ]
  },
  {
   "cell_type": "markdown",
   "metadata": {},
   "source": [
    "Podemos entonces calcular la suma para, por ejemplo, estimar el valor total de lo que hay en stock:"
   ]
  },
  {
   "cell_type": "code",
   "execution_count": 147,
   "metadata": {
    "scrolled": false
   },
   "outputs": [
    {
     "data": {
      "text/plain": [
       "24.240000000000002"
      ]
     },
     "execution_count": 147,
     "metadata": {},
     "output_type": "execute_result"
    }
   ],
   "source": [
    "shop['Valor'].sum()"
   ]
  },
  {
   "cell_type": "markdown",
   "metadata": {},
   "source": [
    "Aprocechemos este ejemplo para mostrar como podemos cortar columnas usando el método `.loc`:"
   ]
  },
  {
   "cell_type": "code",
   "execution_count": 148,
   "metadata": {
    "scrolled": false
   },
   "outputs": [
    {
     "data": {
      "text/html": [
       "<div>\n",
       "<style scoped>\n",
       "    .dataframe tbody tr th:only-of-type {\n",
       "        vertical-align: middle;\n",
       "    }\n",
       "\n",
       "    .dataframe tbody tr th {\n",
       "        vertical-align: top;\n",
       "    }\n",
       "\n",
       "    .dataframe thead th {\n",
       "        text-align: right;\n",
       "    }\n",
       "</style>\n",
       "<table border=\"1\" class=\"dataframe\">\n",
       "  <thead>\n",
       "    <tr style=\"text-align: right;\">\n",
       "      <th></th>\n",
       "      <th>Precio</th>\n",
       "      <th>Valor</th>\n",
       "    </tr>\n",
       "  </thead>\n",
       "  <tbody>\n",
       "    <tr>\n",
       "      <th>manzanas</th>\n",
       "      <td>0.55</td>\n",
       "      <td>NaN</td>\n",
       "    </tr>\n",
       "    <tr>\n",
       "      <th>naranjas</th>\n",
       "      <td>1.76</td>\n",
       "      <td>5.28</td>\n",
       "    </tr>\n",
       "    <tr>\n",
       "      <th>papas</th>\n",
       "      <td>0.17</td>\n",
       "      <td>6.97</td>\n",
       "    </tr>\n",
       "    <tr>\n",
       "      <th>pepinos</th>\n",
       "      <td>0.99</td>\n",
       "      <td>0.99</td>\n",
       "    </tr>\n",
       "    <tr>\n",
       "      <th>uvas</th>\n",
       "      <td>0.50</td>\n",
       "      <td>11.00</td>\n",
       "    </tr>\n",
       "  </tbody>\n",
       "</table>\n",
       "</div>"
      ],
      "text/plain": [
       "          Precio  Valor\n",
       "manzanas    0.55    NaN\n",
       "naranjas    1.76   5.28\n",
       "papas       0.17   6.97\n",
       "pepinos     0.99   0.99\n",
       "uvas        0.50  11.00"
      ]
     },
     "execution_count": 148,
     "metadata": {},
     "output_type": "execute_result"
    }
   ],
   "source": [
    "shop.loc[:,\"Precio\":\"Valor\"]"
   ]
  },
  {
   "cell_type": "markdown",
   "metadata": {},
   "source": [
    "...o `.iloc`:"
   ]
  },
  {
   "cell_type": "code",
   "execution_count": 149,
   "metadata": {
    "scrolled": false
   },
   "outputs": [
    {
     "data": {
      "text/html": [
       "<div>\n",
       "<style scoped>\n",
       "    .dataframe tbody tr th:only-of-type {\n",
       "        vertical-align: middle;\n",
       "    }\n",
       "\n",
       "    .dataframe tbody tr th {\n",
       "        vertical-align: top;\n",
       "    }\n",
       "\n",
       "    .dataframe thead th {\n",
       "        text-align: right;\n",
       "    }\n",
       "</style>\n",
       "<table border=\"1\" class=\"dataframe\">\n",
       "  <thead>\n",
       "    <tr style=\"text-align: right;\">\n",
       "      <th></th>\n",
       "      <th>Precio</th>\n",
       "      <th>Valor</th>\n",
       "    </tr>\n",
       "  </thead>\n",
       "  <tbody>\n",
       "    <tr>\n",
       "      <th>manzanas</th>\n",
       "      <td>0.55</td>\n",
       "      <td>NaN</td>\n",
       "    </tr>\n",
       "    <tr>\n",
       "      <th>naranjas</th>\n",
       "      <td>1.76</td>\n",
       "      <td>5.28</td>\n",
       "    </tr>\n",
       "    <tr>\n",
       "      <th>papas</th>\n",
       "      <td>0.17</td>\n",
       "      <td>6.97</td>\n",
       "    </tr>\n",
       "    <tr>\n",
       "      <th>pepinos</th>\n",
       "      <td>0.99</td>\n",
       "      <td>0.99</td>\n",
       "    </tr>\n",
       "    <tr>\n",
       "      <th>uvas</th>\n",
       "      <td>0.50</td>\n",
       "      <td>11.00</td>\n",
       "    </tr>\n",
       "  </tbody>\n",
       "</table>\n",
       "</div>"
      ],
      "text/plain": [
       "          Precio  Valor\n",
       "manzanas    0.55    NaN\n",
       "naranjas    1.76   5.28\n",
       "papas       0.17   6.97\n",
       "pepinos     0.99   0.99\n",
       "uvas        0.50  11.00"
      ]
     },
     "execution_count": 149,
     "metadata": {},
     "output_type": "execute_result"
    }
   ],
   "source": [
    "shop.iloc[:,1:3]"
   ]
  },
  {
   "cell_type": "code",
   "execution_count": 150,
   "metadata": {
    "scrolled": false
   },
   "outputs": [
    {
     "data": {
      "text/html": [
       "<div>\n",
       "<style scoped>\n",
       "    .dataframe tbody tr th:only-of-type {\n",
       "        vertical-align: middle;\n",
       "    }\n",
       "\n",
       "    .dataframe tbody tr th {\n",
       "        vertical-align: top;\n",
       "    }\n",
       "\n",
       "    .dataframe thead th {\n",
       "        text-align: right;\n",
       "    }\n",
       "</style>\n",
       "<table border=\"1\" class=\"dataframe\">\n",
       "  <thead>\n",
       "    <tr style=\"text-align: right;\">\n",
       "      <th></th>\n",
       "      <th>Valor</th>\n",
       "      <th>Precio</th>\n",
       "      <th>Valor</th>\n",
       "    </tr>\n",
       "  </thead>\n",
       "  <tbody>\n",
       "    <tr>\n",
       "      <th>manzanas</th>\n",
       "      <td>NaN</td>\n",
       "      <td>0.55</td>\n",
       "      <td>NaN</td>\n",
       "    </tr>\n",
       "    <tr>\n",
       "      <th>naranjas</th>\n",
       "      <td>5.28</td>\n",
       "      <td>1.76</td>\n",
       "      <td>5.28</td>\n",
       "    </tr>\n",
       "    <tr>\n",
       "      <th>papas</th>\n",
       "      <td>6.97</td>\n",
       "      <td>0.17</td>\n",
       "      <td>6.97</td>\n",
       "    </tr>\n",
       "    <tr>\n",
       "      <th>pepinos</th>\n",
       "      <td>0.99</td>\n",
       "      <td>0.99</td>\n",
       "      <td>0.99</td>\n",
       "    </tr>\n",
       "    <tr>\n",
       "      <th>uvas</th>\n",
       "      <td>11.00</td>\n",
       "      <td>0.50</td>\n",
       "      <td>11.00</td>\n",
       "    </tr>\n",
       "  </tbody>\n",
       "</table>\n",
       "</div>"
      ],
      "text/plain": [
       "          Valor  Precio  Valor\n",
       "manzanas    NaN    0.55    NaN\n",
       "naranjas   5.28    1.76   5.28\n",
       "papas      6.97    0.17   6.97\n",
       "pepinos    0.99    0.99   0.99\n",
       "uvas      11.00    0.50  11.00"
      ]
     },
     "execution_count": 150,
     "metadata": {},
     "output_type": "execute_result"
    }
   ],
   "source": [
    "shop.iloc[:,[2,1,2]]"
   ]
  },
  {
   "cell_type": "code",
   "execution_count": 151,
   "metadata": {
    "scrolled": false
   },
   "outputs": [
    {
     "data": {
      "text/html": [
       "<div>\n",
       "<style scoped>\n",
       "    .dataframe tbody tr th:only-of-type {\n",
       "        vertical-align: middle;\n",
       "    }\n",
       "\n",
       "    .dataframe tbody tr th {\n",
       "        vertical-align: top;\n",
       "    }\n",
       "\n",
       "    .dataframe thead th {\n",
       "        text-align: right;\n",
       "    }\n",
       "</style>\n",
       "<table border=\"1\" class=\"dataframe\">\n",
       "  <thead>\n",
       "    <tr style=\"text-align: right;\">\n",
       "      <th></th>\n",
       "      <th>Valor</th>\n",
       "      <th>Precio</th>\n",
       "      <th>Valor</th>\n",
       "    </tr>\n",
       "  </thead>\n",
       "  <tbody>\n",
       "    <tr>\n",
       "      <th>naranjas</th>\n",
       "      <td>5.28</td>\n",
       "      <td>1.76</td>\n",
       "      <td>5.28</td>\n",
       "    </tr>\n",
       "    <tr>\n",
       "      <th>papas</th>\n",
       "      <td>6.97</td>\n",
       "      <td>0.17</td>\n",
       "      <td>6.97</td>\n",
       "    </tr>\n",
       "    <tr>\n",
       "      <th>pepinos</th>\n",
       "      <td>0.99</td>\n",
       "      <td>0.99</td>\n",
       "      <td>0.99</td>\n",
       "    </tr>\n",
       "  </tbody>\n",
       "</table>\n",
       "</div>"
      ],
      "text/plain": [
       "          Valor  Precio  Valor\n",
       "naranjas   5.28    1.76   5.28\n",
       "papas      6.97    0.17   6.97\n",
       "pepinos    0.99    0.99   0.99"
      ]
     },
     "execution_count": 151,
     "metadata": {},
     "output_type": "execute_result"
    }
   ],
   "source": [
    "shop.iloc[1:4,[2,1,2]]"
   ]
  },
  {
   "cell_type": "code",
   "execution_count": 152,
   "metadata": {
    "scrolled": false
   },
   "outputs": [
    {
     "data": {
      "text/html": [
       "<div>\n",
       "<style scoped>\n",
       "    .dataframe tbody tr th:only-of-type {\n",
       "        vertical-align: middle;\n",
       "    }\n",
       "\n",
       "    .dataframe tbody tr th {\n",
       "        vertical-align: top;\n",
       "    }\n",
       "\n",
       "    .dataframe thead th {\n",
       "        text-align: right;\n",
       "    }\n",
       "</style>\n",
       "<table border=\"1\" class=\"dataframe\">\n",
       "  <thead>\n",
       "    <tr style=\"text-align: right;\">\n",
       "      <th></th>\n",
       "      <th>Valor</th>\n",
       "      <th>Precio</th>\n",
       "      <th>Valor</th>\n",
       "    </tr>\n",
       "  </thead>\n",
       "  <tbody>\n",
       "    <tr>\n",
       "      <th>naranjas</th>\n",
       "      <td>5.28</td>\n",
       "      <td>1.76</td>\n",
       "      <td>5.28</td>\n",
       "    </tr>\n",
       "    <tr>\n",
       "      <th>papas</th>\n",
       "      <td>6.97</td>\n",
       "      <td>0.17</td>\n",
       "      <td>6.97</td>\n",
       "    </tr>\n",
       "    <tr>\n",
       "      <th>papas</th>\n",
       "      <td>6.97</td>\n",
       "      <td>0.17</td>\n",
       "      <td>6.97</td>\n",
       "    </tr>\n",
       "  </tbody>\n",
       "</table>\n",
       "</div>"
      ],
      "text/plain": [
       "          Valor  Precio  Valor\n",
       "naranjas   5.28    1.76   5.28\n",
       "papas      6.97    0.17   6.97\n",
       "papas      6.97    0.17   6.97"
      ]
     },
     "execution_count": 152,
     "metadata": {},
     "output_type": "execute_result"
    }
   ],
   "source": [
    "shop.iloc[[1,2,2],[2,1,2]]"
   ]
  },
  {
   "cell_type": "code",
   "execution_count": 153,
   "metadata": {
    "scrolled": false
   },
   "outputs": [
    {
     "data": {
      "text/html": [
       "<div>\n",
       "<style scoped>\n",
       "    .dataframe tbody tr th:only-of-type {\n",
       "        vertical-align: middle;\n",
       "    }\n",
       "\n",
       "    .dataframe tbody tr th {\n",
       "        vertical-align: top;\n",
       "    }\n",
       "\n",
       "    .dataframe thead th {\n",
       "        text-align: right;\n",
       "    }\n",
       "</style>\n",
       "<table border=\"1\" class=\"dataframe\">\n",
       "  <thead>\n",
       "    <tr style=\"text-align: right;\">\n",
       "      <th></th>\n",
       "      <th>Stock</th>\n",
       "      <th>Valor</th>\n",
       "    </tr>\n",
       "  </thead>\n",
       "  <tbody>\n",
       "    <tr>\n",
       "      <th>manzanas</th>\n",
       "      <td>NaN</td>\n",
       "      <td>NaN</td>\n",
       "    </tr>\n",
       "    <tr>\n",
       "      <th>naranjas</th>\n",
       "      <td>3.0</td>\n",
       "      <td>5.28</td>\n",
       "    </tr>\n",
       "    <tr>\n",
       "      <th>papas</th>\n",
       "      <td>41.0</td>\n",
       "      <td>6.97</td>\n",
       "    </tr>\n",
       "    <tr>\n",
       "      <th>pepinos</th>\n",
       "      <td>1.0</td>\n",
       "      <td>0.99</td>\n",
       "    </tr>\n",
       "    <tr>\n",
       "      <th>uvas</th>\n",
       "      <td>22.0</td>\n",
       "      <td>11.00</td>\n",
       "    </tr>\n",
       "  </tbody>\n",
       "</table>\n",
       "</div>"
      ],
      "text/plain": [
       "          Stock  Valor\n",
       "manzanas    NaN    NaN\n",
       "naranjas    3.0   5.28\n",
       "papas      41.0   6.97\n",
       "pepinos     1.0   0.99\n",
       "uvas       22.0  11.00"
      ]
     },
     "execution_count": 153,
     "metadata": {},
     "output_type": "execute_result"
    }
   ],
   "source": [
    "shop.iloc[:,[True,False,True]]"
   ]
  },
  {
   "cell_type": "markdown",
   "metadata": {},
   "source": [
    "Si por alguna razón quisieramos cambiar las filas y las columnas, podemos usar el metodo `.transpose()`:"
   ]
  },
  {
   "cell_type": "code",
   "execution_count": 154,
   "metadata": {
    "scrolled": false
   },
   "outputs": [
    {
     "data": {
      "text/html": [
       "<div>\n",
       "<style scoped>\n",
       "    .dataframe tbody tr th:only-of-type {\n",
       "        vertical-align: middle;\n",
       "    }\n",
       "\n",
       "    .dataframe tbody tr th {\n",
       "        vertical-align: top;\n",
       "    }\n",
       "\n",
       "    .dataframe thead th {\n",
       "        text-align: right;\n",
       "    }\n",
       "</style>\n",
       "<table border=\"1\" class=\"dataframe\">\n",
       "  <thead>\n",
       "    <tr style=\"text-align: right;\">\n",
       "      <th></th>\n",
       "      <th>manzanas</th>\n",
       "      <th>naranjas</th>\n",
       "      <th>papas</th>\n",
       "      <th>pepinos</th>\n",
       "      <th>uvas</th>\n",
       "    </tr>\n",
       "  </thead>\n",
       "  <tbody>\n",
       "    <tr>\n",
       "      <th>Stock</th>\n",
       "      <td>NaN</td>\n",
       "      <td>3.00</td>\n",
       "      <td>41.00</td>\n",
       "      <td>1.00</td>\n",
       "      <td>22.0</td>\n",
       "    </tr>\n",
       "    <tr>\n",
       "      <th>Precio</th>\n",
       "      <td>0.55</td>\n",
       "      <td>1.76</td>\n",
       "      <td>0.17</td>\n",
       "      <td>0.99</td>\n",
       "      <td>0.5</td>\n",
       "    </tr>\n",
       "    <tr>\n",
       "      <th>Valor</th>\n",
       "      <td>NaN</td>\n",
       "      <td>5.28</td>\n",
       "      <td>6.97</td>\n",
       "      <td>0.99</td>\n",
       "      <td>11.0</td>\n",
       "    </tr>\n",
       "  </tbody>\n",
       "</table>\n",
       "</div>"
      ],
      "text/plain": [
       "        manzanas  naranjas  papas  pepinos  uvas\n",
       "Stock        NaN      3.00  41.00     1.00  22.0\n",
       "Precio      0.55      1.76   0.17     0.99   0.5\n",
       "Valor        NaN      5.28   6.97     0.99  11.0"
      ]
     },
     "execution_count": 154,
     "metadata": {},
     "output_type": "execute_result"
    }
   ],
   "source": [
    "shop.transpose()"
   ]
  },
  {
   "cell_type": "markdown",
   "metadata": {},
   "source": [
    "# Ejemplo/Ejercicio: Población europea en 2017\n",
    "\n",
    "Aquí hay un segundo ejemplo para demostrar algunos casos de uso de los `DataFrames` de Pandas."
   ]
  },
  {
   "cell_type": "markdown",
   "metadata": {},
   "source": [
    "Primero, obtenemos los datos. Los obtendremos del repositorio de Hans Fangohr, el cual los obtuvo originalmente de EUROSTAT (reference \"demo_gind\")"
   ]
  },
  {
   "cell_type": "code",
   "execution_count": null,
   "metadata": {
    "scrolled": false
   },
   "outputs": [],
   "source": [
    "# macOS\n",
    "!curl https://fangohr.github.io/data/eurostat/population2017/eu-pop-2017.csv -o eu-pop-2017.csv"
   ]
  },
  {
   "cell_type": "code",
   "execution_count": 157,
   "metadata": {
    "scrolled": false
   },
   "outputs": [
    {
     "data": {
      "text/plain": [
       "('eu-pop-2017.csv', <http.client.HTTPMessage at 0x7ff648127a90>)"
      ]
     },
     "execution_count": 157,
     "metadata": {},
     "output_type": "execute_result"
    }
   ],
   "source": [
    "# Windows\n",
    "import urllib.request\n",
    "url = 'https://fangohr.github.io/data/eurostat/population2017/eu-pop-2017.csv'\n",
    "filename = 'eu-pop-2017.csv'\n",
    "urllib.request.urlretrieve(url, filename)"
   ]
  },
  {
   "cell_type": "code",
   "execution_count": null,
   "metadata": {
    "scrolled": false
   },
   "outputs": [],
   "source": [
    "# Linux\n",
    "#!wget https://fangohr.github.io/data/eurostat/population2017/eu-pop-2017.csv"
   ]
  },
  {
   "cell_type": "markdown",
   "metadata": {},
   "source": [
    "La fuente de datos es un CSV (comma-separated-value file):"
   ]
  },
  {
   "cell_type": "markdown",
   "metadata": {},
   "source": [
    "Pandas tiene un soporte muy completo para leer archivos de diferentes formatos, incluyendo MS Excel, CSV, HDF5 y otros.  Cada rutina de lectura tiene sus propias opciones, para adaptar el proceso de distintas maneras. "
   ]
  },
  {
   "cell_type": "code",
   "execution_count": 158,
   "metadata": {
    "scrolled": false
   },
   "outputs": [],
   "source": [
    "df = pd.read_csv('eu-pop-2017.csv')"
   ]
  },
  {
   "cell_type": "code",
   "execution_count": 163,
   "metadata": {
    "scrolled": false
   },
   "outputs": [
    {
     "data": {
      "text/html": [
       "<div>\n",
       "<style scoped>\n",
       "    .dataframe tbody tr th:only-of-type {\n",
       "        vertical-align: middle;\n",
       "    }\n",
       "\n",
       "    .dataframe tbody tr th {\n",
       "        vertical-align: top;\n",
       "    }\n",
       "\n",
       "    .dataframe thead th {\n",
       "        text-align: right;\n",
       "    }\n",
       "</style>\n",
       "<table border=\"1\" class=\"dataframe\">\n",
       "  <thead>\n",
       "    <tr style=\"text-align: right;\">\n",
       "      <th></th>\n",
       "      <th>geo</th>\n",
       "      <th>pop17</th>\n",
       "      <th>pop18</th>\n",
       "      <th>births</th>\n",
       "      <th>deaths</th>\n",
       "    </tr>\n",
       "  </thead>\n",
       "  <tbody>\n",
       "    <tr>\n",
       "      <th>0</th>\n",
       "      <td>Belgium</td>\n",
       "      <td>11351727</td>\n",
       "      <td>11413058</td>\n",
       "      <td>119690</td>\n",
       "      <td>109666</td>\n",
       "    </tr>\n",
       "    <tr>\n",
       "      <th>1</th>\n",
       "      <td>Bulgaria</td>\n",
       "      <td>7101859</td>\n",
       "      <td>7050034</td>\n",
       "      <td>63955</td>\n",
       "      <td>109791</td>\n",
       "    </tr>\n",
       "    <tr>\n",
       "      <th>2</th>\n",
       "      <td>Czechia</td>\n",
       "      <td>10578820</td>\n",
       "      <td>10610055</td>\n",
       "      <td>114405</td>\n",
       "      <td>111443</td>\n",
       "    </tr>\n",
       "    <tr>\n",
       "      <th>3</th>\n",
       "      <td>Denmark</td>\n",
       "      <td>5748769</td>\n",
       "      <td>5781190</td>\n",
       "      <td>61397</td>\n",
       "      <td>53261</td>\n",
       "    </tr>\n",
       "    <tr>\n",
       "      <th>4</th>\n",
       "      <td>Germany</td>\n",
       "      <td>82521653</td>\n",
       "      <td>82850000</td>\n",
       "      <td>785000</td>\n",
       "      <td>933000</td>\n",
       "    </tr>\n",
       "    <tr>\n",
       "      <th>5</th>\n",
       "      <td>Estonia</td>\n",
       "      <td>1315634</td>\n",
       "      <td>1319133</td>\n",
       "      <td>13784</td>\n",
       "      <td>15543</td>\n",
       "    </tr>\n",
       "    <tr>\n",
       "      <th>6</th>\n",
       "      <td>Ireland</td>\n",
       "      <td>4784383</td>\n",
       "      <td>4838259</td>\n",
       "      <td>62084</td>\n",
       "      <td>30324</td>\n",
       "    </tr>\n",
       "    <tr>\n",
       "      <th>7</th>\n",
       "      <td>Greece</td>\n",
       "      <td>10768193</td>\n",
       "      <td>10738868</td>\n",
       "      <td>88523</td>\n",
       "      <td>124530</td>\n",
       "    </tr>\n",
       "    <tr>\n",
       "      <th>8</th>\n",
       "      <td>Spain</td>\n",
       "      <td>46527039</td>\n",
       "      <td>46659302</td>\n",
       "      <td>390024</td>\n",
       "      <td>421269</td>\n",
       "    </tr>\n",
       "    <tr>\n",
       "      <th>9</th>\n",
       "      <td>France</td>\n",
       "      <td>66989083</td>\n",
       "      <td>67221943</td>\n",
       "      <td>767691</td>\n",
       "      <td>603141</td>\n",
       "    </tr>\n",
       "    <tr>\n",
       "      <th>10</th>\n",
       "      <td>Croatia</td>\n",
       "      <td>4154212</td>\n",
       "      <td>4105493</td>\n",
       "      <td>36556</td>\n",
       "      <td>53477</td>\n",
       "    </tr>\n",
       "    <tr>\n",
       "      <th>11</th>\n",
       "      <td>Italy</td>\n",
       "      <td>60589445</td>\n",
       "      <td>60483973</td>\n",
       "      <td>458151</td>\n",
       "      <td>649061</td>\n",
       "    </tr>\n",
       "    <tr>\n",
       "      <th>12</th>\n",
       "      <td>Cyprus</td>\n",
       "      <td>854802</td>\n",
       "      <td>864236</td>\n",
       "      <td>9229</td>\n",
       "      <td>5997</td>\n",
       "    </tr>\n",
       "    <tr>\n",
       "      <th>13</th>\n",
       "      <td>Latvia</td>\n",
       "      <td>1950116</td>\n",
       "      <td>1934379</td>\n",
       "      <td>20828</td>\n",
       "      <td>28757</td>\n",
       "    </tr>\n",
       "    <tr>\n",
       "      <th>14</th>\n",
       "      <td>Lithuania</td>\n",
       "      <td>2847904</td>\n",
       "      <td>2808901</td>\n",
       "      <td>28696</td>\n",
       "      <td>40142</td>\n",
       "    </tr>\n",
       "    <tr>\n",
       "      <th>15</th>\n",
       "      <td>Luxembourg</td>\n",
       "      <td>590667</td>\n",
       "      <td>602005</td>\n",
       "      <td>6174</td>\n",
       "      <td>4263</td>\n",
       "    </tr>\n",
       "    <tr>\n",
       "      <th>16</th>\n",
       "      <td>Hungary</td>\n",
       "      <td>9797561</td>\n",
       "      <td>9778371</td>\n",
       "      <td>94646</td>\n",
       "      <td>131877</td>\n",
       "    </tr>\n",
       "    <tr>\n",
       "      <th>17</th>\n",
       "      <td>Malta</td>\n",
       "      <td>460297</td>\n",
       "      <td>475701</td>\n",
       "      <td>4319</td>\n",
       "      <td>3571</td>\n",
       "    </tr>\n",
       "    <tr>\n",
       "      <th>18</th>\n",
       "      <td>Netherlands</td>\n",
       "      <td>17081507</td>\n",
       "      <td>17181084</td>\n",
       "      <td>169200</td>\n",
       "      <td>150027</td>\n",
       "    </tr>\n",
       "    <tr>\n",
       "      <th>19</th>\n",
       "      <td>Austria</td>\n",
       "      <td>8772865</td>\n",
       "      <td>8822267</td>\n",
       "      <td>87633</td>\n",
       "      <td>83270</td>\n",
       "    </tr>\n",
       "    <tr>\n",
       "      <th>20</th>\n",
       "      <td>Poland</td>\n",
       "      <td>37972964</td>\n",
       "      <td>37976687</td>\n",
       "      <td>401982</td>\n",
       "      <td>402852</td>\n",
       "    </tr>\n",
       "    <tr>\n",
       "      <th>21</th>\n",
       "      <td>Portugal</td>\n",
       "      <td>10309573</td>\n",
       "      <td>10291027</td>\n",
       "      <td>86154</td>\n",
       "      <td>109586</td>\n",
       "    </tr>\n",
       "    <tr>\n",
       "      <th>22</th>\n",
       "      <td>Romania</td>\n",
       "      <td>19644350</td>\n",
       "      <td>19523621</td>\n",
       "      <td>189474</td>\n",
       "      <td>260599</td>\n",
       "    </tr>\n",
       "    <tr>\n",
       "      <th>23</th>\n",
       "      <td>Slovenia</td>\n",
       "      <td>2065895</td>\n",
       "      <td>2066880</td>\n",
       "      <td>20241</td>\n",
       "      <td>20509</td>\n",
       "    </tr>\n",
       "    <tr>\n",
       "      <th>24</th>\n",
       "      <td>Slovakia</td>\n",
       "      <td>5435343</td>\n",
       "      <td>5443120</td>\n",
       "      <td>57969</td>\n",
       "      <td>53914</td>\n",
       "    </tr>\n",
       "    <tr>\n",
       "      <th>25</th>\n",
       "      <td>Finland</td>\n",
       "      <td>5503297</td>\n",
       "      <td>5513130</td>\n",
       "      <td>50321</td>\n",
       "      <td>53722</td>\n",
       "    </tr>\n",
       "    <tr>\n",
       "      <th>26</th>\n",
       "      <td>Sweden</td>\n",
       "      <td>9995153</td>\n",
       "      <td>10120242</td>\n",
       "      <td>115416</td>\n",
       "      <td>91972</td>\n",
       "    </tr>\n",
       "    <tr>\n",
       "      <th>27</th>\n",
       "      <td>United Kingdom</td>\n",
       "      <td>65808573</td>\n",
       "      <td>66238007</td>\n",
       "      <td>755043</td>\n",
       "      <td>607172</td>\n",
       "    </tr>\n",
       "  </tbody>\n",
       "</table>\n",
       "</div>"
      ],
      "text/plain": [
       "               geo     pop17     pop18  births  deaths\n",
       "0         Belgium   11351727  11413058  119690  109666\n",
       "1         Bulgaria   7101859   7050034   63955  109791\n",
       "2          Czechia  10578820  10610055  114405  111443\n",
       "3          Denmark   5748769   5781190   61397   53261\n",
       "4          Germany  82521653  82850000  785000  933000\n",
       "5         Estonia    1315634   1319133   13784   15543\n",
       "6          Ireland   4784383   4838259   62084   30324\n",
       "7           Greece  10768193  10738868   88523  124530\n",
       "8            Spain  46527039  46659302  390024  421269\n",
       "9          France   66989083  67221943  767691  603141\n",
       "10         Croatia   4154212   4105493   36556   53477\n",
       "11           Italy  60589445  60483973  458151  649061\n",
       "12          Cyprus    854802    864236    9229    5997\n",
       "13          Latvia   1950116   1934379   20828   28757\n",
       "14       Lithuania   2847904   2808901   28696   40142\n",
       "15      Luxembourg    590667    602005    6174    4263\n",
       "16         Hungary   9797561   9778371   94646  131877\n",
       "17           Malta    460297    475701    4319    3571\n",
       "18     Netherlands  17081507  17181084  169200  150027\n",
       "19         Austria   8772865   8822267   87633   83270\n",
       "20          Poland  37972964  37976687  401982  402852\n",
       "21        Portugal  10309573  10291027   86154  109586\n",
       "22         Romania  19644350  19523621  189474  260599\n",
       "23        Slovenia   2065895   2066880   20241   20509\n",
       "24        Slovakia   5435343   5443120   57969   53914\n",
       "25         Finland   5503297   5513130   50321   53722\n",
       "26          Sweden   9995153  10120242  115416   91972\n",
       "27  United Kingdom  65808573  66238007  755043  607172"
      ]
     },
     "execution_count": 163,
     "metadata": {},
     "output_type": "execute_result"
    }
   ],
   "source": [
    "df"
   ]
  },
  {
   "cell_type": "markdown",
   "metadata": {},
   "source": [
    "Podemos usar el comando 'head()' para solo mostrar las primeras 5 líneas de los datos, pero le pueden colocar un entero $n$ para ver las primeras $n$ filas:"
   ]
  },
  {
   "cell_type": "code",
   "execution_count": 161,
   "metadata": {
    "scrolled": false
   },
   "outputs": [
    {
     "data": {
      "text/html": [
       "<div>\n",
       "<style scoped>\n",
       "    .dataframe tbody tr th:only-of-type {\n",
       "        vertical-align: middle;\n",
       "    }\n",
       "\n",
       "    .dataframe tbody tr th {\n",
       "        vertical-align: top;\n",
       "    }\n",
       "\n",
       "    .dataframe thead th {\n",
       "        text-align: right;\n",
       "    }\n",
       "</style>\n",
       "<table border=\"1\" class=\"dataframe\">\n",
       "  <thead>\n",
       "    <tr style=\"text-align: right;\">\n",
       "      <th></th>\n",
       "      <th>geo</th>\n",
       "      <th>pop17</th>\n",
       "      <th>pop18</th>\n",
       "      <th>births</th>\n",
       "      <th>deaths</th>\n",
       "    </tr>\n",
       "  </thead>\n",
       "  <tbody>\n",
       "    <tr>\n",
       "      <th>0</th>\n",
       "      <td>Belgium</td>\n",
       "      <td>11351727</td>\n",
       "      <td>11413058</td>\n",
       "      <td>119690</td>\n",
       "      <td>109666</td>\n",
       "    </tr>\n",
       "    <tr>\n",
       "      <th>1</th>\n",
       "      <td>Bulgaria</td>\n",
       "      <td>7101859</td>\n",
       "      <td>7050034</td>\n",
       "      <td>63955</td>\n",
       "      <td>109791</td>\n",
       "    </tr>\n",
       "    <tr>\n",
       "      <th>2</th>\n",
       "      <td>Czechia</td>\n",
       "      <td>10578820</td>\n",
       "      <td>10610055</td>\n",
       "      <td>114405</td>\n",
       "      <td>111443</td>\n",
       "    </tr>\n",
       "    <tr>\n",
       "      <th>3</th>\n",
       "      <td>Denmark</td>\n",
       "      <td>5748769</td>\n",
       "      <td>5781190</td>\n",
       "      <td>61397</td>\n",
       "      <td>53261</td>\n",
       "    </tr>\n",
       "    <tr>\n",
       "      <th>4</th>\n",
       "      <td>Germany</td>\n",
       "      <td>82521653</td>\n",
       "      <td>82850000</td>\n",
       "      <td>785000</td>\n",
       "      <td>933000</td>\n",
       "    </tr>\n",
       "  </tbody>\n",
       "</table>\n",
       "</div>"
      ],
      "text/plain": [
       "        geo     pop17     pop18  births  deaths\n",
       "0  Belgium   11351727  11413058  119690  109666\n",
       "1  Bulgaria   7101859   7050034   63955  109791\n",
       "2   Czechia  10578820  10610055  114405  111443\n",
       "3   Denmark   5748769   5781190   61397   53261\n",
       "4   Germany  82521653  82850000  785000  933000"
      ]
     },
     "execution_count": 161,
     "metadata": {},
     "output_type": "execute_result"
    }
   ],
   "source": [
    "df.head()"
   ]
  },
  {
   "cell_type": "markdown",
   "metadata": {},
   "source": [
    "Para conocer el significado de las columnas, tenemos que obtener la *metadata*. En este caso, tenemos la siguiente descripción de los datos:\n",
    "\n",
    "- **geo**: nombre del país en cuestión\n",
    "- **pop17**: la población del país el 1 de enero de 2017\n",
    "- **pop18**: la población del país el 1 de enero de 2018\n",
    "- **births**: el número de nacimientos (vivos) en el país durante el año 2017\n",
    "- **deaths**: el número de fallecidos en el país durante 2017\n",
    "\n",
    "Los datos son provistos para todos los 28 países de la Union Europea (en 2017)."
   ]
  },
  {
   "cell_type": "markdown",
   "metadata": {},
   "source": [
    "Primero, queremos usar el nombre del país como índice. Podemos hacer esto con el comando:"
   ]
  },
  {
   "cell_type": "code",
   "execution_count": 164,
   "metadata": {
    "scrolled": false
   },
   "outputs": [],
   "source": [
    "df2 = df.set_index('geo')"
   ]
  },
  {
   "cell_type": "code",
   "execution_count": 167,
   "metadata": {
    "scrolled": false
   },
   "outputs": [
    {
     "data": {
      "text/plain": [
       "Index(['Belgium ', 'Bulgaria', 'Czechia', 'Denmark', 'Germany', 'Estonia ',\n",
       "       'Ireland', 'Greece', 'Spain', 'France ', 'Croatia', 'Italy', 'Cyprus',\n",
       "       'Latvia', 'Lithuania', 'Luxembourg', 'Hungary', 'Malta', 'Netherlands',\n",
       "       'Austria', 'Poland', 'Portugal', 'Romania', 'Slovenia', 'Slovakia',\n",
       "       'Finland', 'Sweden', 'United Kingdom'],\n",
       "      dtype='object', name='geo')"
      ]
     },
     "execution_count": 167,
     "metadata": {},
     "output_type": "execute_result"
    }
   ],
   "source": [
    "df2.index"
   ]
  },
  {
   "cell_type": "code",
   "execution_count": 170,
   "metadata": {
    "scrolled": false
   },
   "outputs": [
    {
     "data": {
      "text/html": [
       "<div>\n",
       "<style scoped>\n",
       "    .dataframe tbody tr th:only-of-type {\n",
       "        vertical-align: middle;\n",
       "    }\n",
       "\n",
       "    .dataframe tbody tr th {\n",
       "        vertical-align: top;\n",
       "    }\n",
       "\n",
       "    .dataframe thead th {\n",
       "        text-align: right;\n",
       "    }\n",
       "</style>\n",
       "<table border=\"1\" class=\"dataframe\">\n",
       "  <thead>\n",
       "    <tr style=\"text-align: right;\">\n",
       "      <th></th>\n",
       "      <th>pop17</th>\n",
       "      <th>pop18</th>\n",
       "      <th>births</th>\n",
       "      <th>deaths</th>\n",
       "    </tr>\n",
       "    <tr>\n",
       "      <th>geo</th>\n",
       "      <th></th>\n",
       "      <th></th>\n",
       "      <th></th>\n",
       "      <th></th>\n",
       "    </tr>\n",
       "  </thead>\n",
       "  <tbody>\n",
       "    <tr>\n",
       "      <th>Belgium</th>\n",
       "      <td>11351727</td>\n",
       "      <td>11413058</td>\n",
       "      <td>119690</td>\n",
       "      <td>109666</td>\n",
       "    </tr>\n",
       "    <tr>\n",
       "      <th>Bulgaria</th>\n",
       "      <td>7101859</td>\n",
       "      <td>7050034</td>\n",
       "      <td>63955</td>\n",
       "      <td>109791</td>\n",
       "    </tr>\n",
       "    <tr>\n",
       "      <th>Czechia</th>\n",
       "      <td>10578820</td>\n",
       "      <td>10610055</td>\n",
       "      <td>114405</td>\n",
       "      <td>111443</td>\n",
       "    </tr>\n",
       "    <tr>\n",
       "      <th>Denmark</th>\n",
       "      <td>5748769</td>\n",
       "      <td>5781190</td>\n",
       "      <td>61397</td>\n",
       "      <td>53261</td>\n",
       "    </tr>\n",
       "    <tr>\n",
       "      <th>Germany</th>\n",
       "      <td>82521653</td>\n",
       "      <td>82850000</td>\n",
       "      <td>785000</td>\n",
       "      <td>933000</td>\n",
       "    </tr>\n",
       "    <tr>\n",
       "      <th>Estonia</th>\n",
       "      <td>1315634</td>\n",
       "      <td>1319133</td>\n",
       "      <td>13784</td>\n",
       "      <td>15543</td>\n",
       "    </tr>\n",
       "    <tr>\n",
       "      <th>Ireland</th>\n",
       "      <td>4784383</td>\n",
       "      <td>4838259</td>\n",
       "      <td>62084</td>\n",
       "      <td>30324</td>\n",
       "    </tr>\n",
       "    <tr>\n",
       "      <th>Greece</th>\n",
       "      <td>10768193</td>\n",
       "      <td>10738868</td>\n",
       "      <td>88523</td>\n",
       "      <td>124530</td>\n",
       "    </tr>\n",
       "    <tr>\n",
       "      <th>Spain</th>\n",
       "      <td>46527039</td>\n",
       "      <td>46659302</td>\n",
       "      <td>390024</td>\n",
       "      <td>421269</td>\n",
       "    </tr>\n",
       "    <tr>\n",
       "      <th>France</th>\n",
       "      <td>66989083</td>\n",
       "      <td>67221943</td>\n",
       "      <td>767691</td>\n",
       "      <td>603141</td>\n",
       "    </tr>\n",
       "    <tr>\n",
       "      <th>Croatia</th>\n",
       "      <td>4154212</td>\n",
       "      <td>4105493</td>\n",
       "      <td>36556</td>\n",
       "      <td>53477</td>\n",
       "    </tr>\n",
       "    <tr>\n",
       "      <th>Italy</th>\n",
       "      <td>60589445</td>\n",
       "      <td>60483973</td>\n",
       "      <td>458151</td>\n",
       "      <td>649061</td>\n",
       "    </tr>\n",
       "    <tr>\n",
       "      <th>Cyprus</th>\n",
       "      <td>854802</td>\n",
       "      <td>864236</td>\n",
       "      <td>9229</td>\n",
       "      <td>5997</td>\n",
       "    </tr>\n",
       "    <tr>\n",
       "      <th>Latvia</th>\n",
       "      <td>1950116</td>\n",
       "      <td>1934379</td>\n",
       "      <td>20828</td>\n",
       "      <td>28757</td>\n",
       "    </tr>\n",
       "    <tr>\n",
       "      <th>Lithuania</th>\n",
       "      <td>2847904</td>\n",
       "      <td>2808901</td>\n",
       "      <td>28696</td>\n",
       "      <td>40142</td>\n",
       "    </tr>\n",
       "    <tr>\n",
       "      <th>Luxembourg</th>\n",
       "      <td>590667</td>\n",
       "      <td>602005</td>\n",
       "      <td>6174</td>\n",
       "      <td>4263</td>\n",
       "    </tr>\n",
       "    <tr>\n",
       "      <th>Hungary</th>\n",
       "      <td>9797561</td>\n",
       "      <td>9778371</td>\n",
       "      <td>94646</td>\n",
       "      <td>131877</td>\n",
       "    </tr>\n",
       "    <tr>\n",
       "      <th>Malta</th>\n",
       "      <td>460297</td>\n",
       "      <td>475701</td>\n",
       "      <td>4319</td>\n",
       "      <td>3571</td>\n",
       "    </tr>\n",
       "    <tr>\n",
       "      <th>Netherlands</th>\n",
       "      <td>17081507</td>\n",
       "      <td>17181084</td>\n",
       "      <td>169200</td>\n",
       "      <td>150027</td>\n",
       "    </tr>\n",
       "    <tr>\n",
       "      <th>Austria</th>\n",
       "      <td>8772865</td>\n",
       "      <td>8822267</td>\n",
       "      <td>87633</td>\n",
       "      <td>83270</td>\n",
       "    </tr>\n",
       "    <tr>\n",
       "      <th>Poland</th>\n",
       "      <td>37972964</td>\n",
       "      <td>37976687</td>\n",
       "      <td>401982</td>\n",
       "      <td>402852</td>\n",
       "    </tr>\n",
       "    <tr>\n",
       "      <th>Portugal</th>\n",
       "      <td>10309573</td>\n",
       "      <td>10291027</td>\n",
       "      <td>86154</td>\n",
       "      <td>109586</td>\n",
       "    </tr>\n",
       "    <tr>\n",
       "      <th>Romania</th>\n",
       "      <td>19644350</td>\n",
       "      <td>19523621</td>\n",
       "      <td>189474</td>\n",
       "      <td>260599</td>\n",
       "    </tr>\n",
       "    <tr>\n",
       "      <th>Slovenia</th>\n",
       "      <td>2065895</td>\n",
       "      <td>2066880</td>\n",
       "      <td>20241</td>\n",
       "      <td>20509</td>\n",
       "    </tr>\n",
       "    <tr>\n",
       "      <th>Slovakia</th>\n",
       "      <td>5435343</td>\n",
       "      <td>5443120</td>\n",
       "      <td>57969</td>\n",
       "      <td>53914</td>\n",
       "    </tr>\n",
       "    <tr>\n",
       "      <th>Finland</th>\n",
       "      <td>5503297</td>\n",
       "      <td>5513130</td>\n",
       "      <td>50321</td>\n",
       "      <td>53722</td>\n",
       "    </tr>\n",
       "    <tr>\n",
       "      <th>Sweden</th>\n",
       "      <td>9995153</td>\n",
       "      <td>10120242</td>\n",
       "      <td>115416</td>\n",
       "      <td>91972</td>\n",
       "    </tr>\n",
       "    <tr>\n",
       "      <th>United Kingdom</th>\n",
       "      <td>65808573</td>\n",
       "      <td>66238007</td>\n",
       "      <td>755043</td>\n",
       "      <td>607172</td>\n",
       "    </tr>\n",
       "  </tbody>\n",
       "</table>\n",
       "</div>"
      ],
      "text/plain": [
       "                   pop17     pop18  births  deaths\n",
       "geo                                               \n",
       "Belgium         11351727  11413058  119690  109666\n",
       "Bulgaria         7101859   7050034   63955  109791\n",
       "Czechia         10578820  10610055  114405  111443\n",
       "Denmark          5748769   5781190   61397   53261\n",
       "Germany         82521653  82850000  785000  933000\n",
       "Estonia          1315634   1319133   13784   15543\n",
       "Ireland          4784383   4838259   62084   30324\n",
       "Greece          10768193  10738868   88523  124530\n",
       "Spain           46527039  46659302  390024  421269\n",
       "France          66989083  67221943  767691  603141\n",
       "Croatia          4154212   4105493   36556   53477\n",
       "Italy           60589445  60483973  458151  649061\n",
       "Cyprus            854802    864236    9229    5997\n",
       "Latvia           1950116   1934379   20828   28757\n",
       "Lithuania        2847904   2808901   28696   40142\n",
       "Luxembourg        590667    602005    6174    4263\n",
       "Hungary          9797561   9778371   94646  131877\n",
       "Malta             460297    475701    4319    3571\n",
       "Netherlands     17081507  17181084  169200  150027\n",
       "Austria          8772865   8822267   87633   83270\n",
       "Poland          37972964  37976687  401982  402852\n",
       "Portugal        10309573  10291027   86154  109586\n",
       "Romania         19644350  19523621  189474  260599\n",
       "Slovenia         2065895   2066880   20241   20509\n",
       "Slovakia         5435343   5443120   57969   53914\n",
       "Finland          5503297   5513130   50321   53722\n",
       "Sweden           9995153  10120242  115416   91972\n",
       "United Kingdom  65808573  66238007  755043  607172"
      ]
     },
     "execution_count": 170,
     "metadata": {},
     "output_type": "execute_result"
    }
   ],
   "source": [
    "df2"
   ]
  },
  {
   "cell_type": "markdown",
   "metadata": {},
   "source": [
    "Observar que no podemos cambiar los índices de un DataFrame dado, por lo que el método `set_index()` devuelve un nuevo DataFrame (esto ocurre para muchas otras operaciones).\n",
    "\n",
    "Como alternativa, podemos también agregar un argumento a la función `read_csv` para indicar cuál columna queremos que se use como índice:"
   ]
  },
  {
   "cell_type": "code",
   "execution_count": 171,
   "metadata": {
    "scrolled": false
   },
   "outputs": [],
   "source": [
    "df = pd.read_csv('eu-pop-2017.csv', index_col=\"geo\")"
   ]
  },
  {
   "cell_type": "code",
   "execution_count": 172,
   "metadata": {
    "scrolled": false
   },
   "outputs": [
    {
     "data": {
      "text/html": [
       "<div>\n",
       "<style scoped>\n",
       "    .dataframe tbody tr th:only-of-type {\n",
       "        vertical-align: middle;\n",
       "    }\n",
       "\n",
       "    .dataframe tbody tr th {\n",
       "        vertical-align: top;\n",
       "    }\n",
       "\n",
       "    .dataframe thead th {\n",
       "        text-align: right;\n",
       "    }\n",
       "</style>\n",
       "<table border=\"1\" class=\"dataframe\">\n",
       "  <thead>\n",
       "    <tr style=\"text-align: right;\">\n",
       "      <th></th>\n",
       "      <th>pop17</th>\n",
       "      <th>pop18</th>\n",
       "      <th>births</th>\n",
       "      <th>deaths</th>\n",
       "    </tr>\n",
       "    <tr>\n",
       "      <th>geo</th>\n",
       "      <th></th>\n",
       "      <th></th>\n",
       "      <th></th>\n",
       "      <th></th>\n",
       "    </tr>\n",
       "  </thead>\n",
       "  <tbody>\n",
       "    <tr>\n",
       "      <th>Belgium</th>\n",
       "      <td>11351727</td>\n",
       "      <td>11413058</td>\n",
       "      <td>119690</td>\n",
       "      <td>109666</td>\n",
       "    </tr>\n",
       "    <tr>\n",
       "      <th>Bulgaria</th>\n",
       "      <td>7101859</td>\n",
       "      <td>7050034</td>\n",
       "      <td>63955</td>\n",
       "      <td>109791</td>\n",
       "    </tr>\n",
       "    <tr>\n",
       "      <th>Czechia</th>\n",
       "      <td>10578820</td>\n",
       "      <td>10610055</td>\n",
       "      <td>114405</td>\n",
       "      <td>111443</td>\n",
       "    </tr>\n",
       "    <tr>\n",
       "      <th>Denmark</th>\n",
       "      <td>5748769</td>\n",
       "      <td>5781190</td>\n",
       "      <td>61397</td>\n",
       "      <td>53261</td>\n",
       "    </tr>\n",
       "    <tr>\n",
       "      <th>Germany</th>\n",
       "      <td>82521653</td>\n",
       "      <td>82850000</td>\n",
       "      <td>785000</td>\n",
       "      <td>933000</td>\n",
       "    </tr>\n",
       "  </tbody>\n",
       "</table>\n",
       "</div>"
      ],
      "text/plain": [
       "             pop17     pop18  births  deaths\n",
       "geo                                         \n",
       "Belgium   11351727  11413058  119690  109666\n",
       "Bulgaria   7101859   7050034   63955  109791\n",
       "Czechia   10578820  10610055  114405  111443\n",
       "Denmark    5748769   5781190   61397   53261\n",
       "Germany   82521653  82850000  785000  933000"
      ]
     },
     "execution_count": 172,
     "metadata": {},
     "output_type": "execute_result"
    }
   ],
   "source": [
    "df.head()"
   ]
  },
  {
   "cell_type": "markdown",
   "metadata": {},
   "source": [
    "Exploramos los datos graficando parte de ella:"
   ]
  },
  {
   "cell_type": "code",
   "execution_count": 173,
   "metadata": {
    "scrolled": false
   },
   "outputs": [
    {
     "data": {
      "image/png": "[encoded data removed]",
      "text/plain": [
       "<Figure size 640x480 with 1 Axes>"
      ]
     },
     "metadata": {},
     "output_type": "display_data"
    }
   ],
   "source": [
    "df.plot(kind='bar', y=['pop17']);"
   ]
  },
  {
   "cell_type": "markdown",
   "metadata": {},
   "source": [
    "El gráfico anterior muestra la población que había el 1 de enero de 2017 en cada país. \n",
    "\n",
    "Vamos a mejorar esta visualización de dos maneras:\n",
    "\n",
    "- Queremos contar la población en millones. Podemos hacer esto dividiendo todos los datos por $10^6$. \n",
    "- Sería interesante ordernar los países por orden de tamaño.\n"
   ]
  },
  {
   "cell_type": "code",
   "execution_count": 174,
   "metadata": {
    "scrolled": false
   },
   "outputs": [
    {
     "data": {
      "text/html": [
       "<div>\n",
       "<style scoped>\n",
       "    .dataframe tbody tr th:only-of-type {\n",
       "        vertical-align: middle;\n",
       "    }\n",
       "\n",
       "    .dataframe tbody tr th {\n",
       "        vertical-align: top;\n",
       "    }\n",
       "\n",
       "    .dataframe thead th {\n",
       "        text-align: right;\n",
       "    }\n",
       "</style>\n",
       "<table border=\"1\" class=\"dataframe\">\n",
       "  <thead>\n",
       "    <tr style=\"text-align: right;\">\n",
       "      <th></th>\n",
       "      <th>pop17</th>\n",
       "      <th>pop18</th>\n",
       "      <th>births</th>\n",
       "      <th>deaths</th>\n",
       "    </tr>\n",
       "    <tr>\n",
       "      <th>geo</th>\n",
       "      <th></th>\n",
       "      <th></th>\n",
       "      <th></th>\n",
       "      <th></th>\n",
       "    </tr>\n",
       "  </thead>\n",
       "  <tbody>\n",
       "    <tr>\n",
       "      <th>Belgium</th>\n",
       "      <td>11351727</td>\n",
       "      <td>11413058</td>\n",
       "      <td>119690</td>\n",
       "      <td>109666</td>\n",
       "    </tr>\n",
       "    <tr>\n",
       "      <th>Bulgaria</th>\n",
       "      <td>7101859</td>\n",
       "      <td>7050034</td>\n",
       "      <td>63955</td>\n",
       "      <td>109791</td>\n",
       "    </tr>\n",
       "    <tr>\n",
       "      <th>Czechia</th>\n",
       "      <td>10578820</td>\n",
       "      <td>10610055</td>\n",
       "      <td>114405</td>\n",
       "      <td>111443</td>\n",
       "    </tr>\n",
       "    <tr>\n",
       "      <th>Denmark</th>\n",
       "      <td>5748769</td>\n",
       "      <td>5781190</td>\n",
       "      <td>61397</td>\n",
       "      <td>53261</td>\n",
       "    </tr>\n",
       "    <tr>\n",
       "      <th>Germany</th>\n",
       "      <td>82521653</td>\n",
       "      <td>82850000</td>\n",
       "      <td>785000</td>\n",
       "      <td>933000</td>\n",
       "    </tr>\n",
       "  </tbody>\n",
       "</table>\n",
       "</div>"
      ],
      "text/plain": [
       "             pop17     pop18  births  deaths\n",
       "geo                                         \n",
       "Belgium   11351727  11413058  119690  109666\n",
       "Bulgaria   7101859   7050034   63955  109791\n",
       "Czechia   10578820  10610055  114405  111443\n",
       "Denmark    5748769   5781190   61397   53261\n",
       "Germany   82521653  82850000  785000  933000"
      ]
     },
     "execution_count": 174,
     "metadata": {},
     "output_type": "execute_result"
    }
   ],
   "source": [
    "df.head()"
   ]
  },
  {
   "cell_type": "code",
   "execution_count": 175,
   "metadata": {
    "scrolled": false
   },
   "outputs": [
    {
     "data": {
      "text/html": [
       "<div>\n",
       "<style scoped>\n",
       "    .dataframe tbody tr th:only-of-type {\n",
       "        vertical-align: middle;\n",
       "    }\n",
       "\n",
       "    .dataframe tbody tr th {\n",
       "        vertical-align: top;\n",
       "    }\n",
       "\n",
       "    .dataframe thead th {\n",
       "        text-align: right;\n",
       "    }\n",
       "</style>\n",
       "<table border=\"1\" class=\"dataframe\">\n",
       "  <thead>\n",
       "    <tr style=\"text-align: right;\">\n",
       "      <th></th>\n",
       "      <th>pop17</th>\n",
       "      <th>pop18</th>\n",
       "      <th>births</th>\n",
       "      <th>deaths</th>\n",
       "    </tr>\n",
       "    <tr>\n",
       "      <th>geo</th>\n",
       "      <th></th>\n",
       "      <th></th>\n",
       "      <th></th>\n",
       "      <th></th>\n",
       "    </tr>\n",
       "  </thead>\n",
       "  <tbody>\n",
       "    <tr>\n",
       "      <th>Belgium</th>\n",
       "      <td>11.351727</td>\n",
       "      <td>11.413058</td>\n",
       "      <td>0.119690</td>\n",
       "      <td>0.109666</td>\n",
       "    </tr>\n",
       "    <tr>\n",
       "      <th>Bulgaria</th>\n",
       "      <td>7.101859</td>\n",
       "      <td>7.050034</td>\n",
       "      <td>0.063955</td>\n",
       "      <td>0.109791</td>\n",
       "    </tr>\n",
       "    <tr>\n",
       "      <th>Czechia</th>\n",
       "      <td>10.578820</td>\n",
       "      <td>10.610055</td>\n",
       "      <td>0.114405</td>\n",
       "      <td>0.111443</td>\n",
       "    </tr>\n",
       "    <tr>\n",
       "      <th>Denmark</th>\n",
       "      <td>5.748769</td>\n",
       "      <td>5.781190</td>\n",
       "      <td>0.061397</td>\n",
       "      <td>0.053261</td>\n",
       "    </tr>\n",
       "    <tr>\n",
       "      <th>Germany</th>\n",
       "      <td>82.521653</td>\n",
       "      <td>82.850000</td>\n",
       "      <td>0.785000</td>\n",
       "      <td>0.933000</td>\n",
       "    </tr>\n",
       "  </tbody>\n",
       "</table>\n",
       "</div>"
      ],
      "text/plain": [
       "              pop17      pop18    births    deaths\n",
       "geo                                               \n",
       "Belgium   11.351727  11.413058  0.119690  0.109666\n",
       "Bulgaria   7.101859   7.050034  0.063955  0.109791\n",
       "Czechia   10.578820  10.610055  0.114405  0.111443\n",
       "Denmark    5.748769   5.781190  0.061397  0.053261\n",
       "Germany   82.521653  82.850000  0.785000  0.933000"
      ]
     },
     "execution_count": 175,
     "metadata": {},
     "output_type": "execute_result"
    }
   ],
   "source": [
    "df_millones = df / 1e6\n",
    "df_millones.head()"
   ]
  },
  {
   "cell_type": "code",
   "execution_count": 177,
   "metadata": {
    "scrolled": false
   },
   "outputs": [
    {
     "data": {
      "image/png": "[encoded data removed]",
      "text/plain": [
       "<Figure size 640x480 with 1 Axes>"
      ]
     },
     "metadata": {},
     "output_type": "display_data"
    }
   ],
   "source": [
    "df_millones['pop17'].sort_values().plot(kind='bar');"
   ]
  },
  {
   "cell_type": "markdown",
   "metadata": {},
   "source": [
    "El ejemplo anterior selecciona una columna del data frame (`['pop17']`), que se entrega como un objeto `Series`. Entonces, podemos ordenar este objeto usando el método `sort_values()` de acuerdo a los valores. Finalmente hacemos el gráfico. "
   ]
  },
  {
   "cell_type": "markdown",
   "metadata": {},
   "source": [
    "De manera alternativa, podemos también crear un gráfico con todo el data frame, pero decir que `pop17` es la columna para ordenar, y que queremos solo la columna de índice `pop17`:\n"
   ]
  },
  {
   "cell_type": "code",
   "execution_count": 178,
   "metadata": {
    "scrolled": false
   },
   "outputs": [
    {
     "data": {
      "text/plain": [
       "<AxesSubplot:xlabel='geo'>"
      ]
     },
     "execution_count": 178,
     "metadata": {},
     "output_type": "execute_result"
    },
    {
     "data": {
      "image/png": "[encoded data removed]",
      "text/plain": [
       "<Figure size 640x480 with 1 Axes>"
      ]
     },
     "metadata": {},
     "output_type": "display_data"
    }
   ],
   "source": [
    "df_millones.sort_values(by='pop17').plot(kind='bar', y='pop17')"
   ]
  },
  {
   "cell_type": "code",
   "execution_count": 179,
   "metadata": {
    "scrolled": false
   },
   "outputs": [
    {
     "data": {
      "text/plain": [
       "<AxesSubplot:xlabel='geo'>"
      ]
     },
     "execution_count": 179,
     "metadata": {},
     "output_type": "execute_result"
    },
    {
     "data": {
      "image/png": "[encoded data removed]",
      "text/plain": [
       "<Figure size 640x480 with 1 Axes>"
      ]
     },
     "metadata": {},
     "output_type": "display_data"
    }
   ],
   "source": [
    "df_millones.sort_values(by='births').plot(kind='bar', y='births')"
   ]
  },
  {
   "cell_type": "code",
   "execution_count": 180,
   "metadata": {
    "scrolled": false
   },
   "outputs": [
    {
     "data": {
      "text/plain": [
       "<AxesSubplot:xlabel='geo'>"
      ]
     },
     "execution_count": 180,
     "metadata": {},
     "output_type": "execute_result"
    },
    {
     "data": {
      "image/png": "[encoded data removed]",
      "text/plain": [
       "<Figure size 640x480 with 1 Axes>"
      ]
     },
     "metadata": {},
     "output_type": "display_data"
    }
   ],
   "source": [
    "# Ordenamos por población, pero graficamos los nacimientos en 2017\n",
    "df_millones.sort_values(by='pop17').plot(kind='bar', y='births')"
   ]
  },
  {
   "cell_type": "markdown",
   "metadata": {},
   "source": [
    "De este modo es fácil graficar más de una columna a la vez:"
   ]
  },
  {
   "cell_type": "code",
   "execution_count": 181,
   "metadata": {
    "scrolled": false
   },
   "outputs": [
    {
     "data": {
      "text/plain": [
       "<AxesSubplot:xlabel='geo'>"
      ]
     },
     "execution_count": 181,
     "metadata": {},
     "output_type": "execute_result"
    },
    {
     "data": {
      "image/png": "[encoded data removed]",
      "text/plain": [
       "<Figure size 640x480 with 1 Axes>"
      ]
     },
     "metadata": {},
     "output_type": "display_data"
    }
   ],
   "source": [
    "# Ordenamos por población, pero graficamos los nacimientos en 2017\n",
    "df_millones.sort_values(by='pop17').plot(kind='bar', y=['births','deaths'])"
   ]
  },
  {
   "cell_type": "markdown",
   "metadata": {},
   "source": [
    "También podemos mejorar el gráfico con los comandos de la librería `matplotlib`:"
   ]
  },
  {
   "cell_type": "code",
   "execution_count": 182,
   "metadata": {
    "scrolled": true
   },
   "outputs": [
    {
     "data": {
      "image/png": "[encoded data removed]",
      "text/plain": [
       "<Figure size 1000x400 with 1 Axes>"
      ]
     },
     "metadata": {},
     "output_type": "display_data"
    }
   ],
   "source": [
    "# figsize indica el tamaño del gráfico\n",
    "ax = df_millones.sort_values(by='pop17').plot(kind='bar', y=['pop17','pop18'], figsize=(10, 4))\n",
    "\n",
    "#ax.set_ylabel(\"Población en 2017 y 2018 [en millones]\")\n",
    "ax.set_ylabel(None)\n",
    "ax.grid()\n",
    "ax.set_xlabel(\"Paises\");  "
   ]
  },
  {
   "cell_type": "markdown",
   "metadata": {},
   "source": [
    "------------------------"
   ]
  },
  {
   "cell_type": "markdown",
   "metadata": {},
   "source": [
    "### Ejercicio:\n",
    "\n",
    "Haga un gráfico con los nacimientos y muertes en 2017 solo con España, Italia, Alemania y Polonia. El gráfico debe estar ordenado por número de nacimientos en 2017."
   ]
  },
  {
   "cell_type": "code",
   "execution_count": 189,
   "metadata": {
    "scrolled": true
   },
   "outputs": [
    {
     "data": {
      "image/png": "[encoded data removed]",
      "text/plain": [
       "<Figure size 640x480 with 1 Axes>"
      ]
     },
     "metadata": {},
     "output_type": "display_data"
    }
   ],
   "source": [
    "# Escriba aquí su solución\n",
    "\n",
    "ax = df_millones.loc[[\"Spain\",\"Italy\",\"Germany\",\"Poland\"],:].sort_values(by = \"births\").plot.bar(y=[\"births\",\"deaths\"]);\n",
    "ax.grid()\n",
    "ax.set_xlabel(\"Paises\");  "
   ]
  },
  {
   "cell_type": "markdown",
   "metadata": {},
   "source": [
    "Basados en el número de nacimientos y muertes, podemos calcular el cambio en la población en 2017. Esta cantidad es llamada el \"crecimiento natural\" o \"natural change\":"
   ]
  },
  {
   "cell_type": "code",
   "execution_count": 191,
   "metadata": {
    "scrolled": false
   },
   "outputs": [
    {
     "data": {
      "text/html": [
       "<div>\n",
       "<style scoped>\n",
       "    .dataframe tbody tr th:only-of-type {\n",
       "        vertical-align: middle;\n",
       "    }\n",
       "\n",
       "    .dataframe tbody tr th {\n",
       "        vertical-align: top;\n",
       "    }\n",
       "\n",
       "    .dataframe thead th {\n",
       "        text-align: right;\n",
       "    }\n",
       "</style>\n",
       "<table border=\"1\" class=\"dataframe\">\n",
       "  <thead>\n",
       "    <tr style=\"text-align: right;\">\n",
       "      <th></th>\n",
       "      <th>pop17</th>\n",
       "      <th>pop18</th>\n",
       "      <th>births</th>\n",
       "      <th>deaths</th>\n",
       "      <th>natural change</th>\n",
       "    </tr>\n",
       "    <tr>\n",
       "      <th>geo</th>\n",
       "      <th></th>\n",
       "      <th></th>\n",
       "      <th></th>\n",
       "      <th></th>\n",
       "      <th></th>\n",
       "    </tr>\n",
       "  </thead>\n",
       "  <tbody>\n",
       "    <tr>\n",
       "      <th>Belgium</th>\n",
       "      <td>11.351727</td>\n",
       "      <td>11.413058</td>\n",
       "      <td>0.119690</td>\n",
       "      <td>0.109666</td>\n",
       "      <td>0.010024</td>\n",
       "    </tr>\n",
       "    <tr>\n",
       "      <th>Bulgaria</th>\n",
       "      <td>7.101859</td>\n",
       "      <td>7.050034</td>\n",
       "      <td>0.063955</td>\n",
       "      <td>0.109791</td>\n",
       "      <td>-0.045836</td>\n",
       "    </tr>\n",
       "    <tr>\n",
       "      <th>Czechia</th>\n",
       "      <td>10.578820</td>\n",
       "      <td>10.610055</td>\n",
       "      <td>0.114405</td>\n",
       "      <td>0.111443</td>\n",
       "      <td>0.002962</td>\n",
       "    </tr>\n",
       "    <tr>\n",
       "      <th>Denmark</th>\n",
       "      <td>5.748769</td>\n",
       "      <td>5.781190</td>\n",
       "      <td>0.061397</td>\n",
       "      <td>0.053261</td>\n",
       "      <td>0.008136</td>\n",
       "    </tr>\n",
       "    <tr>\n",
       "      <th>Germany</th>\n",
       "      <td>82.521653</td>\n",
       "      <td>82.850000</td>\n",
       "      <td>0.785000</td>\n",
       "      <td>0.933000</td>\n",
       "      <td>-0.148000</td>\n",
       "    </tr>\n",
       "    <tr>\n",
       "      <th>Estonia</th>\n",
       "      <td>1.315634</td>\n",
       "      <td>1.319133</td>\n",
       "      <td>0.013784</td>\n",
       "      <td>0.015543</td>\n",
       "      <td>-0.001759</td>\n",
       "    </tr>\n",
       "    <tr>\n",
       "      <th>Ireland</th>\n",
       "      <td>4.784383</td>\n",
       "      <td>4.838259</td>\n",
       "      <td>0.062084</td>\n",
       "      <td>0.030324</td>\n",
       "      <td>0.031760</td>\n",
       "    </tr>\n",
       "    <tr>\n",
       "      <th>Greece</th>\n",
       "      <td>10.768193</td>\n",
       "      <td>10.738868</td>\n",
       "      <td>0.088523</td>\n",
       "      <td>0.124530</td>\n",
       "      <td>-0.036007</td>\n",
       "    </tr>\n",
       "    <tr>\n",
       "      <th>Spain</th>\n",
       "      <td>46.527039</td>\n",
       "      <td>46.659302</td>\n",
       "      <td>0.390024</td>\n",
       "      <td>0.421269</td>\n",
       "      <td>-0.031245</td>\n",
       "    </tr>\n",
       "    <tr>\n",
       "      <th>France</th>\n",
       "      <td>66.989083</td>\n",
       "      <td>67.221943</td>\n",
       "      <td>0.767691</td>\n",
       "      <td>0.603141</td>\n",
       "      <td>0.164550</td>\n",
       "    </tr>\n",
       "    <tr>\n",
       "      <th>Croatia</th>\n",
       "      <td>4.154212</td>\n",
       "      <td>4.105493</td>\n",
       "      <td>0.036556</td>\n",
       "      <td>0.053477</td>\n",
       "      <td>-0.016921</td>\n",
       "    </tr>\n",
       "    <tr>\n",
       "      <th>Italy</th>\n",
       "      <td>60.589445</td>\n",
       "      <td>60.483973</td>\n",
       "      <td>0.458151</td>\n",
       "      <td>0.649061</td>\n",
       "      <td>-0.190910</td>\n",
       "    </tr>\n",
       "    <tr>\n",
       "      <th>Cyprus</th>\n",
       "      <td>0.854802</td>\n",
       "      <td>0.864236</td>\n",
       "      <td>0.009229</td>\n",
       "      <td>0.005997</td>\n",
       "      <td>0.003232</td>\n",
       "    </tr>\n",
       "    <tr>\n",
       "      <th>Latvia</th>\n",
       "      <td>1.950116</td>\n",
       "      <td>1.934379</td>\n",
       "      <td>0.020828</td>\n",
       "      <td>0.028757</td>\n",
       "      <td>-0.007929</td>\n",
       "    </tr>\n",
       "    <tr>\n",
       "      <th>Lithuania</th>\n",
       "      <td>2.847904</td>\n",
       "      <td>2.808901</td>\n",
       "      <td>0.028696</td>\n",
       "      <td>0.040142</td>\n",
       "      <td>-0.011446</td>\n",
       "    </tr>\n",
       "    <tr>\n",
       "      <th>Luxembourg</th>\n",
       "      <td>0.590667</td>\n",
       "      <td>0.602005</td>\n",
       "      <td>0.006174</td>\n",
       "      <td>0.004263</td>\n",
       "      <td>0.001911</td>\n",
       "    </tr>\n",
       "    <tr>\n",
       "      <th>Hungary</th>\n",
       "      <td>9.797561</td>\n",
       "      <td>9.778371</td>\n",
       "      <td>0.094646</td>\n",
       "      <td>0.131877</td>\n",
       "      <td>-0.037231</td>\n",
       "    </tr>\n",
       "    <tr>\n",
       "      <th>Malta</th>\n",
       "      <td>0.460297</td>\n",
       "      <td>0.475701</td>\n",
       "      <td>0.004319</td>\n",
       "      <td>0.003571</td>\n",
       "      <td>0.000748</td>\n",
       "    </tr>\n",
       "    <tr>\n",
       "      <th>Netherlands</th>\n",
       "      <td>17.081507</td>\n",
       "      <td>17.181084</td>\n",
       "      <td>0.169200</td>\n",
       "      <td>0.150027</td>\n",
       "      <td>0.019173</td>\n",
       "    </tr>\n",
       "    <tr>\n",
       "      <th>Austria</th>\n",
       "      <td>8.772865</td>\n",
       "      <td>8.822267</td>\n",
       "      <td>0.087633</td>\n",
       "      <td>0.083270</td>\n",
       "      <td>0.004363</td>\n",
       "    </tr>\n",
       "    <tr>\n",
       "      <th>Poland</th>\n",
       "      <td>37.972964</td>\n",
       "      <td>37.976687</td>\n",
       "      <td>0.401982</td>\n",
       "      <td>0.402852</td>\n",
       "      <td>-0.000870</td>\n",
       "    </tr>\n",
       "    <tr>\n",
       "      <th>Portugal</th>\n",
       "      <td>10.309573</td>\n",
       "      <td>10.291027</td>\n",
       "      <td>0.086154</td>\n",
       "      <td>0.109586</td>\n",
       "      <td>-0.023432</td>\n",
       "    </tr>\n",
       "    <tr>\n",
       "      <th>Romania</th>\n",
       "      <td>19.644350</td>\n",
       "      <td>19.523621</td>\n",
       "      <td>0.189474</td>\n",
       "      <td>0.260599</td>\n",
       "      <td>-0.071125</td>\n",
       "    </tr>\n",
       "    <tr>\n",
       "      <th>Slovenia</th>\n",
       "      <td>2.065895</td>\n",
       "      <td>2.066880</td>\n",
       "      <td>0.020241</td>\n",
       "      <td>0.020509</td>\n",
       "      <td>-0.000268</td>\n",
       "    </tr>\n",
       "    <tr>\n",
       "      <th>Slovakia</th>\n",
       "      <td>5.435343</td>\n",
       "      <td>5.443120</td>\n",
       "      <td>0.057969</td>\n",
       "      <td>0.053914</td>\n",
       "      <td>0.004055</td>\n",
       "    </tr>\n",
       "    <tr>\n",
       "      <th>Finland</th>\n",
       "      <td>5.503297</td>\n",
       "      <td>5.513130</td>\n",
       "      <td>0.050321</td>\n",
       "      <td>0.053722</td>\n",
       "      <td>-0.003401</td>\n",
       "    </tr>\n",
       "    <tr>\n",
       "      <th>Sweden</th>\n",
       "      <td>9.995153</td>\n",
       "      <td>10.120242</td>\n",
       "      <td>0.115416</td>\n",
       "      <td>0.091972</td>\n",
       "      <td>0.023444</td>\n",
       "    </tr>\n",
       "    <tr>\n",
       "      <th>United Kingdom</th>\n",
       "      <td>65.808573</td>\n",
       "      <td>66.238007</td>\n",
       "      <td>0.755043</td>\n",
       "      <td>0.607172</td>\n",
       "      <td>0.147871</td>\n",
       "    </tr>\n",
       "  </tbody>\n",
       "</table>\n",
       "</div>"
      ],
      "text/plain": [
       "                    pop17      pop18    births    deaths  natural change\n",
       "geo                                                                     \n",
       "Belgium         11.351727  11.413058  0.119690  0.109666        0.010024\n",
       "Bulgaria         7.101859   7.050034  0.063955  0.109791       -0.045836\n",
       "Czechia         10.578820  10.610055  0.114405  0.111443        0.002962\n",
       "Denmark          5.748769   5.781190  0.061397  0.053261        0.008136\n",
       "Germany         82.521653  82.850000  0.785000  0.933000       -0.148000\n",
       "Estonia          1.315634   1.319133  0.013784  0.015543       -0.001759\n",
       "Ireland          4.784383   4.838259  0.062084  0.030324        0.031760\n",
       "Greece          10.768193  10.738868  0.088523  0.124530       -0.036007\n",
       "Spain           46.527039  46.659302  0.390024  0.421269       -0.031245\n",
       "France          66.989083  67.221943  0.767691  0.603141        0.164550\n",
       "Croatia          4.154212   4.105493  0.036556  0.053477       -0.016921\n",
       "Italy           60.589445  60.483973  0.458151  0.649061       -0.190910\n",
       "Cyprus           0.854802   0.864236  0.009229  0.005997        0.003232\n",
       "Latvia           1.950116   1.934379  0.020828  0.028757       -0.007929\n",
       "Lithuania        2.847904   2.808901  0.028696  0.040142       -0.011446\n",
       "Luxembourg       0.590667   0.602005  0.006174  0.004263        0.001911\n",
       "Hungary          9.797561   9.778371  0.094646  0.131877       -0.037231\n",
       "Malta            0.460297   0.475701  0.004319  0.003571        0.000748\n",
       "Netherlands     17.081507  17.181084  0.169200  0.150027        0.019173\n",
       "Austria          8.772865   8.822267  0.087633  0.083270        0.004363\n",
       "Poland          37.972964  37.976687  0.401982  0.402852       -0.000870\n",
       "Portugal        10.309573  10.291027  0.086154  0.109586       -0.023432\n",
       "Romania         19.644350  19.523621  0.189474  0.260599       -0.071125\n",
       "Slovenia         2.065895   2.066880  0.020241  0.020509       -0.000268\n",
       "Slovakia         5.435343   5.443120  0.057969  0.053914        0.004055\n",
       "Finland          5.503297   5.513130  0.050321  0.053722       -0.003401\n",
       "Sweden           9.995153  10.120242  0.115416  0.091972        0.023444\n",
       "United Kingdom  65.808573  66.238007  0.755043  0.607172        0.147871"
      ]
     },
     "execution_count": 191,
     "metadata": {},
     "output_type": "execute_result"
    }
   ],
   "source": [
    "# Escriba aquí su solución\n",
    "\n",
    "df_millones[\"natural change\"] = df_millones[\"births\"] - df_millones[\"deaths\"]\n",
    "df_millones"
   ]
  },
  {
   "cell_type": "markdown",
   "metadata": {},
   "source": [
    "De aquí podemos ver que el cambio en la población debido a nacimientos y muertes en Italia y Alemania es el más decreciente en términos absolutos."
   ]
  },
  {
   "cell_type": "code",
   "execution_count": 193,
   "metadata": {
    "scrolled": false
   },
   "outputs": [
    {
     "data": {
      "image/png": "[encoded data removed]",
      "text/plain": [
       "<Figure size 640x480 with 1 Axes>"
      ]
     },
     "metadata": {},
     "output_type": "display_data"
    }
   ],
   "source": [
    "# Escriba aquí su solución\n",
    "\n",
    "df_millones.sort_values(by = \"natural change\").plot.bar(y=\"natural change\");"
   ]
  },
  {
   "cell_type": "markdown",
   "metadata": {},
   "source": [
    "-------\n",
    "### Ejercicio\n",
    "\n",
    "Para relacionar el crecimiento natural de la población, a menudo se utiliza la tasa por año y por 1000 habitantes en el país. Por ejemplo la tasa de natalidad por cada 1000 habitantes (https://en.wikipedia.org/wiki/Birth_rate).\n",
    "\n",
    "1. Escriba un programa que agregue al DataFrame anteriormente creado las columnas `birth-rate`, `death-rate` y `natural-change-rate`. "
   ]
  },
  {
   "cell_type": "code",
   "execution_count": 201,
   "metadata": {
    "scrolled": true
   },
   "outputs": [
    {
     "data": {
      "text/html": [
       "<div>\n",
       "<style scoped>\n",
       "    .dataframe tbody tr th:only-of-type {\n",
       "        vertical-align: middle;\n",
       "    }\n",
       "\n",
       "    .dataframe tbody tr th {\n",
       "        vertical-align: top;\n",
       "    }\n",
       "\n",
       "    .dataframe thead th {\n",
       "        text-align: right;\n",
       "    }\n",
       "</style>\n",
       "<table border=\"1\" class=\"dataframe\">\n",
       "  <thead>\n",
       "    <tr style=\"text-align: right;\">\n",
       "      <th></th>\n",
       "      <th>pop17</th>\n",
       "      <th>pop18</th>\n",
       "      <th>births</th>\n",
       "      <th>deaths</th>\n",
       "      <th>natural change</th>\n",
       "      <th>birth-rate</th>\n",
       "      <th>death-rate</th>\n",
       "      <th>natural-change-rate</th>\n",
       "    </tr>\n",
       "    <tr>\n",
       "      <th>geo</th>\n",
       "      <th></th>\n",
       "      <th></th>\n",
       "      <th></th>\n",
       "      <th></th>\n",
       "      <th></th>\n",
       "      <th></th>\n",
       "      <th></th>\n",
       "      <th></th>\n",
       "    </tr>\n",
       "  </thead>\n",
       "  <tbody>\n",
       "    <tr>\n",
       "      <th>Belgium</th>\n",
       "      <td>11.351727</td>\n",
       "      <td>11.413058</td>\n",
       "      <td>0.119690</td>\n",
       "      <td>0.109666</td>\n",
       "      <td>0.010024</td>\n",
       "      <td>10.543770</td>\n",
       "      <td>9.660733</td>\n",
       "      <td>0.883037</td>\n",
       "    </tr>\n",
       "    <tr>\n",
       "      <th>Bulgaria</th>\n",
       "      <td>7.101859</td>\n",
       "      <td>7.050034</td>\n",
       "      <td>0.063955</td>\n",
       "      <td>0.109791</td>\n",
       "      <td>-0.045836</td>\n",
       "      <td>9.005389</td>\n",
       "      <td>15.459473</td>\n",
       "      <td>-6.454085</td>\n",
       "    </tr>\n",
       "    <tr>\n",
       "      <th>Czechia</th>\n",
       "      <td>10.578820</td>\n",
       "      <td>10.610055</td>\n",
       "      <td>0.114405</td>\n",
       "      <td>0.111443</td>\n",
       "      <td>0.002962</td>\n",
       "      <td>10.814533</td>\n",
       "      <td>10.534540</td>\n",
       "      <td>0.279993</td>\n",
       "    </tr>\n",
       "    <tr>\n",
       "      <th>Denmark</th>\n",
       "      <td>5.748769</td>\n",
       "      <td>5.781190</td>\n",
       "      <td>0.061397</td>\n",
       "      <td>0.053261</td>\n",
       "      <td>0.008136</td>\n",
       "      <td>10.680026</td>\n",
       "      <td>9.264766</td>\n",
       "      <td>1.415260</td>\n",
       "    </tr>\n",
       "    <tr>\n",
       "      <th>Germany</th>\n",
       "      <td>82.521653</td>\n",
       "      <td>82.850000</td>\n",
       "      <td>0.785000</td>\n",
       "      <td>0.933000</td>\n",
       "      <td>-0.148000</td>\n",
       "      <td>9.512655</td>\n",
       "      <td>11.306123</td>\n",
       "      <td>-1.793469</td>\n",
       "    </tr>\n",
       "  </tbody>\n",
       "</table>\n",
       "</div>"
      ],
      "text/plain": [
       "              pop17      pop18    births    deaths  natural change  \\\n",
       "geo                                                                  \n",
       "Belgium   11.351727  11.413058  0.119690  0.109666        0.010024   \n",
       "Bulgaria   7.101859   7.050034  0.063955  0.109791       -0.045836   \n",
       "Czechia   10.578820  10.610055  0.114405  0.111443        0.002962   \n",
       "Denmark    5.748769   5.781190  0.061397  0.053261        0.008136   \n",
       "Germany   82.521653  82.850000  0.785000  0.933000       -0.148000   \n",
       "\n",
       "          birth-rate  death-rate  natural-change-rate  \n",
       "geo                                                    \n",
       "Belgium    10.543770    9.660733             0.883037  \n",
       "Bulgaria    9.005389   15.459473            -6.454085  \n",
       "Czechia    10.814533   10.534540             0.279993  \n",
       "Denmark    10.680026    9.264766             1.415260  \n",
       "Germany     9.512655   11.306123            -1.793469  "
      ]
     },
     "execution_count": 201,
     "metadata": {},
     "output_type": "execute_result"
    }
   ],
   "source": [
    "# Escriba aquí su solución\n",
    "# Hacemos una copia de df_millones\n",
    "df = df_millones.copy()\n",
    "# Calculamos las tasas de nacimiento, muertes y cambio natural por 1000 habitantes\n",
    "df[\"birth-rate\"] = 1000 * df[\"births\"] / df[\"pop17\"]\n",
    "df[\"death-rate\"] = 1000 * df[\"deaths\"] / df[\"pop17\"]\n",
    "df[\"natural-change-rate\"] = 1000 * df[\"natural change\"] / df[\"pop17\"]\n",
    "# Revisamos el resultado\n",
    "df.head()"
   ]
  },
  {
   "cell_type": "markdown",
   "metadata": {},
   "source": [
    "2. Haga un gráfico de la tasa de crecimiento natural por país (`natural-change-rate`) ordenando los valores de menor a mayor.  "
   ]
  },
  {
   "cell_type": "code",
   "execution_count": 202,
   "metadata": {
    "scrolled": false
   },
   "outputs": [
    {
     "data": {
      "text/plain": [
       "<AxesSubplot:xlabel='geo'>"
      ]
     },
     "execution_count": 202,
     "metadata": {},
     "output_type": "execute_result"
    },
    {
     "data": {
      "image/png": "[encoded data removed]",
      "text/plain": [
       "<Figure size 640x480 with 1 Axes>"
      ]
     },
     "metadata": {},
     "output_type": "display_data"
    }
   ],
   "source": [
    "# Escriba aquí su solución\n",
    "\n",
    "df.sort_values(by = \"natural-change-rate\").plot.bar(y = \"natural-change-rate\")"
   ]
  },
  {
   "cell_type": "markdown",
   "metadata": {},
   "source": [
    "3. Haga un gráfico que muestre la tasa de natalidad y la tasa de mortalidad (en el mismo gráfico) de cada país, ordenando los países por tasa de crecimiento natural. "
   ]
  },
  {
   "cell_type": "code",
   "execution_count": 207,
   "metadata": {
    "scrolled": false
   },
   "outputs": [
    {
     "data": {
      "image/png": "[encoded data removed]",
      "text/plain": [
       "<Figure size 1000x400 with 1 Axes>"
      ]
     },
     "metadata": {},
     "output_type": "display_data"
    }
   ],
   "source": [
    "# Escriba aquí su solución\n",
    "\n",
    "ax = df.sort_values(by = \"natural-change-rate\").plot.bar(y = [\"birth-rate\",\"death-rate\"], figsize = (10,4));\n"
   ]
  },
  {
   "cell_type": "markdown",
   "metadata": {},
   "source": [
    "4. Calcule ahora una nueva columna del DataFrame anterior llamada `change`, en la que se almacene la diferencia absoluta de población que había entre el 1 de enero de 2018 con respecto al 1 de enero de 2017. Grafique esos datos por país ordenandolos de menor a mayor."
   ]
  },
  {
   "cell_type": "code",
   "execution_count": 210,
   "metadata": {
    "scrolled": false
   },
   "outputs": [
    {
     "data": {
      "image/png": "[encoded data removed]",
      "text/plain": [
       "<Figure size 640x480 with 1 Axes>"
      ]
     },
     "metadata": {},
     "output_type": "display_data"
    }
   ],
   "source": [
    "# Escriba aquí su solución\n",
    "\n",
    "df[\"chage\"] = df[\"pop18\"] - df[\"pop17\"]\n",
    "df[\"chage\"].sort_values().plot.bar();"
   ]
  },
  {
   "cell_type": "markdown",
   "metadata": {},
   "source": [
    "5. Use la información anteriormente calculada para estimar la migración de cada País (`change` - `natural-change`). Grafique en una misma figura los datos de migración y crecimeinto natural por país, ordenandolos por cambio total de menor a mayor. "
   ]
  },
  {
   "cell_type": "code",
   "execution_count": 216,
   "metadata": {
    "scrolled": false
   },
   "outputs": [
    {
     "data": {
      "image/png": "[encoded data removed]",
      "text/plain": [
       "<Figure size 640x480 with 1 Axes>"
      ]
     },
     "metadata": {},
     "output_type": "display_data"
    }
   ],
   "source": [
    "# Escriba aquí su solución\n",
    "\n",
    "df[\"migracion\"] = df[\"chage\"] - df[\"natural change\"]\n",
    "df.sort_values(by = \"chage\").plot.bar(y = [\"migracion\", \"natural change\"]);"
   ]
  },
  {
   "cell_type": "markdown",
   "metadata": {},
   "source": [
    "-----------"
   ]
  },
  {
   "cell_type": "markdown",
   "metadata": {},
   "source": [
    "### Exportar datos\n",
    "\n",
    "Pandas contiene métodos para exportar sus objetos ( `Series` y `DataFrame`) a distintos formatos. Por ejemplo, podemos esribir nuestra Serie `stock` en un csv con el siguiente comando:"
   ]
  },
  {
   "cell_type": "code",
   "execution_count": 221,
   "metadata": {
    "scrolled": false
   },
   "outputs": [],
   "source": [
    "stock.to_csv('stock.csv', header=False)"
   ]
  },
  {
   "cell_type": "code",
   "execution_count": 222,
   "metadata": {
    "scrolled": false
   },
   "outputs": [
    {
     "name": "stdout",
     "output_type": "stream",
     "text": [
      "manzanas,\r\n",
      "naranjas,3.0\r\n",
      "uvas,22.0\r\n",
      "papas,41.0\r\n",
      "pepinos,1.0\r\n"
     ]
    }
   ],
   "source": [
    "!cat stock.csv"
   ]
  },
  {
   "cell_type": "code",
   "execution_count": 223,
   "metadata": {
    "scrolled": false
   },
   "outputs": [],
   "source": [
    "df.to_csv('df.csv')"
   ]
  },
  {
   "cell_type": "code",
   "execution_count": 224,
   "metadata": {
    "scrolled": false
   },
   "outputs": [
    {
     "name": "stdout",
     "output_type": "stream",
     "text": [
      "geo,pop17,pop18,births,deaths,natural change,birth-rate,death-rate,natural-change-rate,chage,migracion\r\n",
      "Belgium ,11.351727,11.413058,0.11969,0.109666,0.010024000000000005,10.543770124140583,9.660732679705916,0.8830374444346666,0.061330999999999136,0.05130699999999913\r\n",
      "Bulgaria,7.101859,7.050034,0.063955,0.109791,-0.045836,9.005388589100402,15.459473357609605,-6.454084768509203,-0.05182500000000001,-0.005989000000000008\r\n",
      "Czechia,10.57882,10.610055,0.114405,0.111443,0.0029620000000000063,10.814533189902088,10.534539769085777,0.2799934208163109,0.03123499999999879,0.028272999999998785\r\n",
      "Denmark,5.748769,5.78119,0.061397,0.053261,0.008135999999999997,10.680025584607765,9.264766074267378,1.415259510340387,0.03242099999999937,0.02428499999999937\r\n",
      "Germany,82.521653,82.85,0.785,0.933,-0.14800000000000002,9.512654818002737,11.306123497065673,-1.7934686790629366,0.3283469999999937,0.47634699999999375\r\n",
      "Estonia ,1.315634,1.319133,0.013784,0.015543,-0.0017590000000000001,10.477077971533117,11.814075951214395,-1.3369979796812792,0.003498999999999919,0.005257999999999919\r\n",
      "Ireland,4.784383,4.838259,0.062084,0.030324,0.03176,12.976385878806107,6.338121341874177,6.6382645369319295,0.05387599999999981,0.022115999999999816\r\n",
      "Greece,10.768193,10.738868,0.088523,0.12453,-0.036007,8.220785047221945,11.56461441580774,-3.343829368585797,-0.029325000000000045,0.006681999999999952\r\n",
      "Spain,46.527039,46.659302,0.390024,0.421269,-0.031245000000000023,8.382738476007468,9.05428346729737,-0.671544991289904,0.1322629999999947,0.1635079999999947\r\n",
      "France ,66.989083,67.221943,0.767691,0.603141,0.16454999999999997,11.459941913221892,9.00357152224341,2.456370390978482,0.2328600000000023,0.06831000000000231\r\n",
      "Croatia,4.154212,4.105493,0.036556,0.053477,-0.016921,8.799743489258612,12.872958818664044,-4.073215329405432,-0.04871900000000018,-0.03179800000000018\r\n",
      "Italy,60.589445,60.483973,0.458151,0.649061,-0.19091000000000002,7.561564559635758,10.712443396700532,-3.150878837064773,-0.1054719999999989,0.08543800000000112\r\n",
      "Cyprus,0.854802,0.864236,0.009229,0.005997,0.0032319999999999996,10.796652324163958,7.015659766823195,3.780992557340764,0.009434000000000053,0.006202000000000054\r\n",
      "Latvia,1.950116,1.934379,0.020828,0.028757,-0.007929000000000002,10.680390294731184,14.746302271249506,-4.065911976518321,-0.01573699999999989,-0.007807999999999888\r\n",
      "Lithuania,2.847904,2.808901,0.028696,0.040142,-0.011445999999999998,10.076182343225051,14.095278492533454,-4.019096149308402,-0.03900300000000012,-0.027557000000000123\r\n",
      "Luxembourg,0.590667,0.602005,0.006174,0.004263,0.0019109999999999995,10.452590038041738,7.217264550076438,3.2353254879652993,0.01133799999999996,0.00942699999999996\r\n",
      "Hungary,9.797561,9.778371,0.094646,0.131877,-0.037231,9.660159298829576,13.460186672989327,-3.800027374159753,-0.01919000000000004,0.01804099999999996\r\n",
      "Malta,0.460297,0.475701,0.004319,0.003571,0.000748,9.383072233796874,7.758034486429414,1.6250377473674604,0.015403999999999973,0.014655999999999973\r\n",
      "Netherlands,17.081507,17.181084,0.1692,0.150027,0.019172999999999996,9.905449208901768,8.783007260424974,1.122441948476794,0.09957700000000003,0.08040400000000003\r\n",
      "Austria,8.772865,8.822267,0.087633,0.08327,0.004363000000000006,9.989097062362182,9.491768082604713,0.49732897975746876,0.04940200000000061,0.045039000000000606\r\n",
      "Poland,37.972964,37.976687,0.401982,0.402852,-0.0008699999999999819,10.586005348436853,10.608916385879175,-0.02291103744232296,0.003723000000000809,0.004593000000000791\r\n",
      "Portugal,10.309573,10.291027,0.086154,0.109586,-0.02343200000000001,8.356699157181389,10.629538197168786,-2.272839039987399,-0.018546000000000618,0.004885999999999391\r\n",
      "Romania,19.64435,19.523621,0.189474,0.260599,-0.07112500000000002,9.64521605448895,13.265849977219917,-3.6206339227309647,-0.12072900000000075,-0.04960400000000073\r\n",
      "Slovenia,2.065895,2.06688,0.020241,0.020509,-0.0002680000000000009,9.79769058930875,9.927416446624829,-0.12972585731607894,0.0009850000000000136,0.0012530000000000145\r\n",
      "Slovakia,5.435343,5.44312,0.057969,0.053914,0.004055000000000003,10.665196290280118,9.919153216273564,0.7460430740065537,0.007777000000000811,0.003722000000000808\r\n",
      "Finland,5.503297,5.51313,0.050321,0.053722,-0.0034010000000000012,9.143791439931372,9.76178461747567,-0.6179931775442977,0.009833000000000425,0.013234000000000426\r\n",
      "Sweden,9.995153,10.120242,0.115416,0.091972,0.023444000000000007,11.547196926350203,9.201660044623628,2.3455368817265736,0.12508899999999912,0.10164499999999911\r\n",
      "United Kingdom,65.808573,66.238007,0.755043,0.607172,0.14787099999999997,11.473322784251835,9.226335906113631,2.2469868781382023,0.42943400000000054,0.28156300000000056\r\n"
     ]
    }
   ],
   "source": [
    "!cat df.csv"
   ]
  },
  {
   "cell_type": "markdown",
   "metadata": {},
   "source": [
    "También podemos crear una representación $\\LaTeX$ de una tabla:"
   ]
  },
  {
   "cell_type": "code",
   "execution_count": 227,
   "metadata": {
    "scrolled": false
   },
   "outputs": [
    {
     "name": "stderr",
     "output_type": "stream",
     "text": [
      "/var/folders/9g/j4nc58_s5_9cfzq4lmx_blbr0000gn/T/ipykernel_68713/631960211.py:1: FutureWarning: In future versions `DataFrame.to_latex` is expected to utilise the base implementation of `Styler.to_latex` for formatting and rendering. The arguments signature may therefore change. It is recommended instead to use `DataFrame.style.to_latex` which also contains additional functionality.\n",
      "  stock.to_latex()\n"
     ]
    },
    {
     "data": {
      "text/plain": [
       "'\\\\begin{tabular}{lr}\\n\\\\toprule\\n{} &     0 \\\\\\\\\\n\\\\midrule\\nmanzanas &   NaN \\\\\\\\\\nnaranjas &   3.0 \\\\\\\\\\nuvas     &  22.0 \\\\\\\\\\npapas    &  41.0 \\\\\\\\\\npepinos  &   1.0 \\\\\\\\\\n\\\\bottomrule\\n\\\\end{tabular}\\n'"
      ]
     },
     "execution_count": 227,
     "metadata": {},
     "output_type": "execute_result"
    }
   ],
   "source": [
    "stock.to_latex()"
   ]
  },
  {
   "cell_type": "markdown",
   "metadata": {},
   "source": [
    "## Más información\n",
    "\n",
    "Hay mucho más que podemos decir sobre Pandas. Los siguientes recursos poueden ser útiles, pero hay inumerables otras fuentes disponibles:"
   ]
  },
  {
   "cell_type": "markdown",
   "metadata": {},
   "source": [
    "- Mas información sobre `[]`, `.loc[]` y `.iloc[]` en forma de [Jupyter Notebook]( https://github.com/tdpetrou/Learn-Pandas/blob/master/Learn-Pandas/Selecting%20Subsets/01%20Selecting%20Subsets%20with%20%5B%20%5D%2C%20.loc%20and%20.iloc.ipynb) y [publicación en blog](https://medium.com/dunder-data/selecting-subsets-of-data-in-pandas-6fcd0170be9c).\n",
    "\n",
    "- Jake VanderPlas: Python Data Science Handbook [online](https://jakevdp.github.io/PythonDataScienceHandbook/)"
   ]
  }
 ],
 "metadata": {
  "anaconda-cloud": {},
  "kernelspec": {
   "display_name": "Python 3 (ipykernel)",
   "language": "python",
   "name": "python3"
  },
  "language_info": {
   "codemirror_mode": {
    "name": "ipython",
    "version": 3
   },
   "file_extension": ".py",
   "mimetype": "text/x-python",
   "name": "python",
   "nbconvert_exporter": "python",
   "pygments_lexer": "ipython3",
   "version": "3.9.13"
  }
 },
 "nbformat": 4,
 "nbformat_minor": 2
}
