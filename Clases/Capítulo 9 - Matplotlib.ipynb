{
 "cells": [
  {
   "cell_type": "markdown",
   "metadata": {},
   "source": [
    "# Taller de Manejo y Análisis de Datos\n",
    "\n",
    "**Profesor**: Pedro Montealegre"
   ]
  },
  {
   "cell_type": "markdown",
   "metadata": {},
   "source": [
    "# Capítulo 9: Matplotlib\n",
    "\n",
    "\n",
    "## ¿Qué es Matplotlib?\n",
    "\n",
    "* Matplotlib es una herramienta de visualización *preferida* en Python. \n",
    "* Fue creada por John D. Hunter\n",
    "* En su mayoría está programada en Python, y algunas partes están programadas en C, Objective-C y JavaScript.\n",
    "* Es de código abierto: se puede usar usar, compartir y modificar libre y gratuitamente. El código de fuente se puede encontrar en https://github.com/matplotlib/matplotlib\n",
    "\n",
    "#### Más información\n",
    "*Web oficial y documentación de Matplotlib:* https://matplotlib.org/\n",
    "\n",
    "------\n",
    "\n",
    "## Imporar Matplotlib y chequear su versión\n",
    "\n",
    "Comenzamos importando la librería Matplotlib y chequeando su versión."
   ]
  },
  {
   "cell_type": "code",
   "execution_count": null,
   "metadata": {},
   "outputs": [],
   "source": [
    "import matplotlib\n",
    "print(matplotlib.__version__)"
   ]
  },
  {
   "cell_type": "markdown",
   "metadata": {},
   "source": [
    "Esta librería viene incluida por defecto en la mayoría de las distribuciones de Python, incluyendo Anaconda. Si por algún motivo ésta no está instalada, o está desactualizada, se recomienda descomentar y ejecutar el comando siguiente:"
   ]
  },
  {
   "cell_type": "code",
   "execution_count": null,
   "metadata": {},
   "outputs": [],
   "source": [
    "#pip install matplotlib"
   ]
  },
  {
   "cell_type": "markdown",
   "metadata": {},
   "source": [
    "Algunas versiones (más antiguas) de Jupyter necesitan ejecutar el siguiente comando para mostrar los gráficos. "
   ]
  },
  {
   "cell_type": "code",
   "execution_count": null,
   "metadata": {},
   "outputs": [],
   "source": [
    "%matplotlib inline"
   ]
  },
  {
   "cell_type": "markdown",
   "metadata": {},
   "source": [
    "## Ejemplo motivacional: Ecuación del Calor\n",
    "\n",
    "La ecuación del calor es una importante ecuación diferencial en derivadas parciales del  que describe la distribución del calor (o variaciones de la temperatura) en una región a lo largo del transcurso del tiempo.\n",
    "\n",
    "$$\\frac{\\partial u}{\\partial t} - \\alpha \\nabla^2 u = 0$$\n",
    "\n",
    "Si se discretiza con el método de diferencias finitas en un dominio bidimencional, donde cada celda tiene un valor real representando la temperatura en ese pubnto. La esta ecuación se puede entender como un sistema donde en un punto $p$ hay una fuente de calor, la cual difunde sobre el dominio en instantes discretos de tiempo. La difusión queda representanda entonces como un promedio simple entre las temperaturas adjacentes."
   ]
  },
  {
   "cell_type": "code",
   "execution_count": null,
   "metadata": {},
   "outputs": [],
   "source": [
    "import numpy as np\n",
    "\n",
    "def iteracion(A):\n",
    "    B = A.copy()\n",
    "    for i in range(1,n-1):\n",
    "        \n",
    "        B[i,0] = (1/4)*(A[i,0] + A[i-1,0] + A[i+1,0] + A[i,1])\n",
    "        B[i,n-1] = (1/4)*(A[i,n-1] + A[i-1,n-1] + A[i+1,n-1] + A[i,n-2])\n",
    "        B[0,i] = (1/4)*(A[0,i] + A[0,i-1] + A[0,i+1] + A[1,i])\n",
    "        B[n-1,i] = (1/4)*(A[n-1,i] + A[n-1,i-1] + A[n-1,i+1] + A[n-2,i])\n",
    "        \n",
    "        for j in range(1,n-1):\n",
    "            B[i,j] = (1/5)*(A[i,j] + A[i-1,j] + A[i+1,j] + A[i,j+1] + A[i,j-1])\n",
    "            \n",
    "    B[0,0] = (1/3)*(A[0,0] + A[1,0] + A[0,1])\n",
    "    B[0,n-1] = (1/3)*(A[0,n-1] + A[0,n-2] + A[1,n-1])\n",
    "    B[n-1,0] = (1/3)*(A[n-1,0] + A[n-2,0] + A[n-1,1])\n",
    "    B[n-1,n-1] = (1/3)*(A[n-1,n-1] + A[n-2,n-1] + A[n-1,n-2])\n",
    "    return B\n",
    "    \n",
    "n = 11\n",
    "A = np.zeros((n,n))\n",
    "A[5,5] = 10\n",
    "for i in range(10):\n",
    "    A = iteracion(A)    "
   ]
  },
  {
   "cell_type": "markdown",
   "metadata": {},
   "source": [
    "## Pyplot\n",
    "\n",
    "La mayoría de las utilidades de Matplotlib se encuentran en el submódulo ``pyplot``. \n",
    "\n",
    "De hecho, la mayoría de las veces se importa directamente el submódulo bajo el alias `plt`:"
   ]
  },
  {
   "cell_type": "code",
   "execution_count": null,
   "metadata": {},
   "outputs": [],
   "source": [
    "import matplotlib.pyplot as plt"
   ]
  },
  {
   "cell_type": "markdown",
   "metadata": {},
   "source": [
    "Comencemos con un ejemplo simple: una línea desde el origen $(0,0)$ hasta la posición $(10,15)$."
   ]
  },
  {
   "cell_type": "code",
   "execution_count": null,
   "metadata": {},
   "outputs": [],
   "source": [
    "plt.plot([0,10],[0,15]);"
   ]
  },
  {
   "cell_type": "markdown",
   "metadata": {},
   "source": [
    "Como vemos, para realizar un gráfico usamos la función ``plot`` de `matplotlib.pyplot`. En su forma más simple, ésta función recibe dos listas `x` e `y` del mismo largo `n`, y grafica la secuencia de puntos \n",
    "\n",
    "`(x[0],y[0]), (x[1],y[1]),..., (x[n-1],y[n-1])`\n",
    "\n",
    "Uniendo cada par de puntos por líneas. \n",
    "\n",
    "Veamos otro ejemplo donde graficamos la secuencia de puntos $(0,0)$, $(5,-10)$, $(10,15)$:"
   ]
  },
  {
   "cell_type": "code",
   "execution_count": null,
   "metadata": {},
   "outputs": [],
   "source": [
    "plt.plot([0,5,10],[0,-10,15]);"
   ]
  },
  {
   "cell_type": "markdown",
   "metadata": {},
   "source": [
    "Como vemos, por defecto la función `plot()`dibuja líneas de punto a punto. \n",
    "\n",
    "Si queremos solo graficar los puntos, podemos (por ejemplo) agregar el argumento `'o'`:"
   ]
  },
  {
   "cell_type": "code",
   "execution_count": null,
   "metadata": {},
   "outputs": [],
   "source": [
    "plt.plot([0,5,10],[0,-10,15],'o');"
   ]
  },
  {
   "cell_type": "markdown",
   "metadata": {},
   "source": [
    "Por defecto la función `plot` asume que los valores del eje X van a ser $0,1,2\\dots,$ "
   ]
  },
  {
   "cell_type": "code",
   "execution_count": null,
   "metadata": {},
   "outputs": [],
   "source": [
    "# Si damos solo una lista se asume que la lista que damos son las ordenadas\n",
    "# y las abscisas de los puntos son 0,1,...\n",
    "plt.plot([0,-10,15],'o');"
   ]
  },
  {
   "cell_type": "markdown",
   "metadata": {},
   "source": [
    "Podemos graficar más de un conjunto de datos en un mismo gráfico. Basta hacer un llamado a la función `plot` para cada uno.\n",
    "\n",
    "En el siguiente ejmplo, graficamos los puntos $(0,0)$, $(1,-10)$ y $(2,15)$ (sin unir los puntos) y luego graficamos los puntos $(0,1)$, $(1,10)$ y $(2,-15)$ uniendo los puntos. "
   ]
  },
  {
   "cell_type": "code",
   "execution_count": null,
   "metadata": {},
   "outputs": [],
   "source": [
    "plt.plot([0,-10,15],'o');\n",
    "plt.plot([1,10,-15]);"
   ]
  },
  {
   "cell_type": "markdown",
   "metadata": {},
   "source": [
    "---\n",
    "\n",
    "## Ejercicio: \n",
    "\n",
    "1. Grafique la función coseno entre $-2\\pi$ y $2\\pi$ marcando los puntos donde la curva alcanza su máximo y mínimo."
   ]
  },
  {
   "cell_type": "code",
   "execution_count": null,
   "metadata": {},
   "outputs": [],
   "source": [
    "# Escriba aquí su solución"
   ]
  },
  {
   "cell_type": "markdown",
   "metadata": {},
   "source": [
    "2. Grafique la evolución del a temperatura en un punto del dominio. "
   ]
  },
  {
   "cell_type": "code",
   "execution_count": null,
   "metadata": {},
   "outputs": [],
   "source": [
    "# Escriba su solución"
   ]
  },
  {
   "cell_type": "markdown",
   "metadata": {},
   "source": [
    "----"
   ]
  },
  {
   "cell_type": "markdown",
   "metadata": {},
   "source": [
    "# Marcadores, líneas y colores."
   ]
  },
  {
   "cell_type": "markdown",
   "metadata": {},
   "source": [
    "En esta sección veremos algunas de las opciones que incluye el comando `plot` y que podemos usar para cambiar el aspecto de nuestros gráficos."
   ]
  },
  {
   "cell_type": "markdown",
   "metadata": {},
   "source": [
    "### Marcadores"
   ]
  },
  {
   "cell_type": "markdown",
   "metadata": {},
   "source": [
    "Con la opción `marker` podemos cambiar el tipo de marcador que usamos para los puntos.\n",
    "\n",
    "Veamos algunos ejemplos:"
   ]
  },
  {
   "cell_type": "code",
   "execution_count": null,
   "metadata": {},
   "outputs": [],
   "source": [
    "y = np.random.randint(10, size = 15)\n",
    "plt.plot(y, marker = \"o\");"
   ]
  },
  {
   "cell_type": "code",
   "execution_count": null,
   "metadata": {},
   "outputs": [],
   "source": [
    "y = np.random.randint(10, size = 15)\n",
    "plt.plot(y, marker = \"*\");"
   ]
  },
  {
   "cell_type": "markdown",
   "metadata": {},
   "source": [
    "Podemos ver todos los tipos de marcadores y más detalles de esta opción en la documentación: https://matplotlib.org/stable/api/markers_api.html"
   ]
  },
  {
   "cell_type": "markdown",
   "metadata": {},
   "source": [
    "Para cambiar el tamaño de un marcador, podemos modificar el argumento `markersize` o su abreviación `ms`:"
   ]
  },
  {
   "cell_type": "code",
   "execution_count": null,
   "metadata": {},
   "outputs": [],
   "source": [
    "# Cambiamos el marcador a tamaño 20\n",
    "y = np.random.randint(10, size = 15)\n",
    "plt.plot(y, marker = \"*\", markersize = 20);"
   ]
  },
  {
   "cell_type": "markdown",
   "metadata": {},
   "source": [
    "Podemos cambiar otros aspectos de los marcadores, como los bordes con `markeredgecolor` (o su abreviación `mec`) y el color del punto con el argumento `markerfacecolor` (o su abreviación `mfc`)."
   ]
  },
  {
   "cell_type": "code",
   "execution_count": null,
   "metadata": {},
   "outputs": [],
   "source": [
    "y = np.random.randint(10, size = 20)\n",
    "plt.plot(y,marker = \"P\", ms = 10, mec = \"red\", mfc = \"green\");"
   ]
  },
  {
   "cell_type": "markdown",
   "metadata": {},
   "source": [
    "Hay varios modos de especificar colores en matplotlib. Para más detalles:\n",
    "\n",
    "https://matplotlib.org/stable/gallery/color/named_colors.html\n",
    "\n",
    "https://matplotlib.org/stable/tutorials/colors/colors.html\n",
    "\n"
   ]
  },
  {
   "cell_type": "markdown",
   "metadata": {},
   "source": [
    "### Líneas"
   ]
  },
  {
   "cell_type": "markdown",
   "metadata": {},
   "source": [
    "Se puede usar el argumento `linestyle`, o su abreviación `ls` para cambiar el estilo de la línea que se dibuja:"
   ]
  },
  {
   "cell_type": "code",
   "execution_count": null,
   "metadata": {},
   "outputs": [],
   "source": [
    "y = np.random.randint(10, size = 15)\n",
    "plt.plot(y, linestyle = \"dotted\"); # Se puede usar \":\" en vez de \"dotted\""
   ]
  },
  {
   "cell_type": "code",
   "execution_count": null,
   "metadata": {},
   "outputs": [],
   "source": [
    "y = np.random.randint(10, size = 15)\n",
    "plt.plot(y, linestyle = \"dashed\"); # Se puede usar \"--\" en vez de \"dashed\""
   ]
  },
  {
   "cell_type": "markdown",
   "metadata": {},
   "source": [
    "Hay varios tipos de líneas disponibles, incluyendo:\n",
    "* `'solid'` o `'-'` (por defecto)\n",
    "* `'dotted'` o `':'` \n",
    "* `'dashed'` o `'--` \n",
    "* `'dashdot'` o `'-.'` \n",
    "* `'None'` o `''`\n",
    "\n",
    "Incluso podemos crear nuestros propios tipos de líneas: "
   ]
  },
  {
   "cell_type": "code",
   "execution_count": null,
   "metadata": {},
   "outputs": [],
   "source": [
    "y = np.random.randint(10, size = 15)\n",
    "plt.plot(y, linestyle = (0,(1,1,4))); "
   ]
  },
  {
   "cell_type": "markdown",
   "metadata": {},
   "source": [
    "Más información en: https://matplotlib.org/stable/gallery/lines_bars_and_markers/linestyles.html"
   ]
  },
  {
   "cell_type": "markdown",
   "metadata": {},
   "source": [
    "Se puede usar el argumento `color` (o su abreviación `c`) para cambiar el color de la línea:"
   ]
  },
  {
   "cell_type": "code",
   "execution_count": null,
   "metadata": {},
   "outputs": [],
   "source": [
    "y = np.random.randint(10, size = 15)\n",
    "plt.plot(y, color = \"red\");"
   ]
  },
  {
   "cell_type": "markdown",
   "metadata": {},
   "source": [
    "Además se puede usar el comando `linewidth` (o su abreviación `lw`) para cambiar el ancho de la línea:"
   ]
  },
  {
   "cell_type": "code",
   "execution_count": null,
   "metadata": {},
   "outputs": [],
   "source": [
    "y = np.random.randint(10, size = 15)\n",
    "plt.plot(y, linewidth = 5);"
   ]
  },
  {
   "cell_type": "markdown",
   "metadata": {},
   "source": [
    "## Strings de Formato\n",
    "\n",
    "Hay una manera concisa de asignar formato a los gráficos, conocido como `shortcut string notation` o `fmt`, y se trata de la sintaxis:\n",
    "\n",
    "`marcador|línea|color`\n",
    "\n",
    "Por ejemplo, en vez de usar los argumentos \n",
    "* `marker = o`\n",
    "* `linestyle = :`\n",
    "* `color = \"red\"`\n",
    "\n",
    "Podemos simplemente agregar la opción `'o:r'` en el llamado a `plt.plot`:"
   ]
  },
  {
   "cell_type": "code",
   "execution_count": null,
   "metadata": {},
   "outputs": [],
   "source": [
    "y = np.random.randint(10, size = 20)\n",
    "plt.plot(y,'o:r');"
   ]
  },
  {
   "cell_type": "markdown",
   "metadata": {},
   "source": [
    "## Dibujar más de una línea en un gráfico.\n",
    "\n",
    "El comando `plot` permite graficar dos (o más) líneas. Automáticamente asignará colores diferentes a cada línea. Obviamente podemos cambiar los colores con los comandos descritos anteriormente."
   ]
  },
  {
   "cell_type": "code",
   "execution_count": null,
   "metadata": {},
   "outputs": [],
   "source": [
    "y1 = np.random.randint(10, size = 20)\n",
    "y2 = np.random.randint(10, size = 20)\n",
    "\n",
    "plt.plot(y1);\n",
    "plt.plot(y2);"
   ]
  },
  {
   "cell_type": "markdown",
   "metadata": {},
   "source": [
    "También podemos graficar las dos curvas en con mismo comando:"
   ]
  },
  {
   "cell_type": "code",
   "execution_count": null,
   "metadata": {},
   "outputs": [],
   "source": [
    "# En este caso debemos especificar los valores de las abscisas.\n",
    "x = np.arange(20)\n",
    "plt.plot(x,y1,x,y2); "
   ]
  },
  {
   "cell_type": "markdown",
   "metadata": {},
   "source": [
    "Si graficamos dos curvas de este modo, solo podemos cambiar el formato usando un string `fmt` después de cada par de listas:"
   ]
  },
  {
   "cell_type": "code",
   "execution_count": null,
   "metadata": {},
   "outputs": [],
   "source": [
    "plt.plot(x,y1,\"o:r\",x,y2,\"*--k\");"
   ]
  },
  {
   "cell_type": "markdown",
   "metadata": {},
   "source": [
    "---\n",
    "\n",
    "### Ejercicio\n",
    "\n",
    "1. Haga una figura con los gráficos de la función seno y coseno, donde la función seno tenga color rojo y la función coseno tenga color negro. Agregue marcadores en los máximos y mínimos de cada función"
   ]
  },
  {
   "cell_type": "code",
   "execution_count": null,
   "metadata": {},
   "outputs": [],
   "source": [
    "# Escriba aquí su solución"
   ]
  },
  {
   "cell_type": "markdown",
   "metadata": {},
   "source": [
    "2. Considere la evolución de temperatura en una sala cuando en un extremo hay una fuente de calor. Grafique la evolución de la temperatura al medio de la sala y en el extremo opuesto a la fuente. "
   ]
  },
  {
   "cell_type": "code",
   "execution_count": null,
   "metadata": {},
   "outputs": [],
   "source": [
    "# Escriba aquí su solución"
   ]
  },
  {
   "cell_type": "markdown",
   "metadata": {},
   "source": [
    "-----"
   ]
  },
  {
   "cell_type": "markdown",
   "metadata": {},
   "source": [
    "## Agregando títulos y etiquetas"
   ]
  },
  {
   "cell_type": "markdown",
   "metadata": {},
   "source": [
    "Si queremos agregar una leyenda, primero asignamos etiquetas a cada curva con el argumento `legend` y luego usamos el comando `plt.legend()`."
   ]
  },
  {
   "cell_type": "code",
   "execution_count": null,
   "metadata": {},
   "outputs": [],
   "source": [
    "y = np.random.randint(10, size = 20)\n",
    "\n",
    "plt.plot(y, label = \"linea 1\"); # Agregamos las etiquetas\n",
    "\n",
    "plt.legend(); "
   ]
  },
  {
   "cell_type": "markdown",
   "metadata": {},
   "source": [
    "Por defecto la leyenda se ubicará en una posición en la que no tape la línea (de ser posible). "
   ]
  },
  {
   "cell_type": "markdown",
   "metadata": {},
   "source": [
    "Para agregar títulos a los ejes o al gráfico, podemos usar las funciones `title`, `xlabel()` e `ylabel()`."
   ]
  },
  {
   "cell_type": "code",
   "execution_count": null,
   "metadata": {},
   "outputs": [],
   "source": [
    "y = np.random.randint(10, size = 20)\n",
    "\n",
    "plt.plot(y); \n",
    "\n",
    "# Agregamos las etiquetas\n",
    "plt.title(\"Grafico de ejemplo\");\n",
    "plt.xlabel(\"Nombre para el eje x\");\n",
    "plt.ylabel(\"Nombre para el eje y\");"
   ]
  },
  {
   "cell_type": "markdown",
   "metadata": {},
   "source": [
    "Podemos usar los argumentos `size`, `color`, `family` para cambiar el tamaño, el color y fuente de los textos:"
   ]
  },
  {
   "cell_type": "code",
   "execution_count": null,
   "metadata": {},
   "outputs": [],
   "source": [
    "y = np.random.randint(10, size = 20)\n",
    "\n",
    "plt.plot(y, label = \"linea 1\");\n",
    "\n",
    "# Agregamos las etiquetas\n",
    "plt.title(\"Grafico de ejemplo\", size = 20, color = \"black\", family = \"arial\");\n",
    "plt.xlabel(\"Nombre para el eje x\", size = 15, color = \"green\", family = \"serif\");\n",
    "plt.ylabel(\"Nombre para el eje y\", size = 15, color = \"blue\", family = \"arial\");"
   ]
  },
  {
   "cell_type": "markdown",
   "metadata": {},
   "source": [
    "Podemos usar el argumento `loc` para cambiar la posición de los títulos. \n",
    "\n",
    "Este argumento admite los valores `\"left\"`, `\"right\"`, `\"center\"`, `\"top\"` y `\"bottom\"`."
   ]
  },
  {
   "cell_type": "code",
   "execution_count": null,
   "metadata": {},
   "outputs": [],
   "source": [
    "y = np.random.randint(10, size = 20)\n",
    "\n",
    "plt.plot(y); \n",
    "\n",
    "# Agregamos las etiquetas\n",
    "plt.title(\"Grafico de ejemplo a la izquierda\", loc = \"left\");\n",
    "plt.xlabel(\"Nombre para el eje x a la derecha\", loc = \"right\");\n",
    "plt.ylabel(\"Nombre para el eje y arriba\", loc = \"top\");"
   ]
  },
  {
   "cell_type": "markdown",
   "metadata": {},
   "source": [
    "Podemos editar los ticks de cada eje con el método `yticks` y `xticks` que reciben como argumentos dos listas, una lista con los ticks a mostrar y la otra (opcional) con las etiquetas de los ticks."
   ]
  },
  {
   "cell_type": "code",
   "execution_count": null,
   "metadata": {},
   "outputs": [],
   "source": [
    "y = np.random.randint(10, size = 20)\n",
    "\n",
    "plt.plot(y); \n",
    "plt.xticks(np.arange(0,21,5), [\"cero\",\"cinco\",\"diez\",\"quince\",\"veinte\"]);\n",
    "plt.yticks(np.arange(-5,11,2));\n"
   ]
  },
  {
   "cell_type": "markdown",
   "metadata": {},
   "source": [
    "## Grilla\n",
    "\n",
    "Se puede usar la función `grid()` para añadir una grilla a la figura:"
   ]
  },
  {
   "cell_type": "code",
   "execution_count": null,
   "metadata": {},
   "outputs": [],
   "source": [
    "y = np.random.randint(10, size = 20)\n",
    "plt.plot(y); \n",
    "plt.grid()"
   ]
  },
  {
   "cell_type": "markdown",
   "metadata": {},
   "source": [
    "Se puede cambiar el formato de la grilla con los argumentos `color`, `linewidth` y `linestyle`"
   ]
  },
  {
   "cell_type": "code",
   "execution_count": null,
   "metadata": {},
   "outputs": [],
   "source": [
    "plt.grid(color = \"black\", linewidth = 2, linestyle = \":\")"
   ]
  },
  {
   "cell_type": "markdown",
   "metadata": {},
   "source": [
    "Con el argumento `axis` podemos definir separadamente la grilla para cada eje"
   ]
  },
  {
   "cell_type": "code",
   "execution_count": null,
   "metadata": {},
   "outputs": [],
   "source": [
    "plt.grid(axis = \"x\", color = \"black\", linewidth = 2, linestyle = \":\")\n",
    "plt.grid(axis = \"y\", color = \"green\", linewidth = 2, linestyle = \"dashed\")"
   ]
  },
  {
   "cell_type": "markdown",
   "metadata": {},
   "source": [
    "# Subplot"
   ]
  },
  {
   "cell_type": "markdown",
   "metadata": {},
   "source": [
    "La función `subplot()` recibe tres argumentos que describen la organización de la figura. La figura se organiza en filas y columnas, que son representadas por el **primer y segundo argumento**. El tercer argumento indica el índice del gráfico actual."
   ]
  },
  {
   "cell_type": "code",
   "execution_count": null,
   "metadata": {},
   "outputs": [],
   "source": [
    "x = np.arange(20)\n",
    "y1 = np.random.randint(10, size = 20)\n",
    "y2 = np.random.randint(10, size = 20)\n",
    "\n",
    "plt.subplot(2,1,1)\n",
    "plt.plot(x,y1)\n",
    "plt.title(\"Grafico de arriba\")\n",
    "\n",
    "plt.subplot(2,1,2)\n",
    "plt.plot(x,y2);\n",
    "plt.title(\"Grafico de abajo\")\n",
    "\n",
    "# Agregamos este comando para que el contenido de una figura no\n",
    "# tope con la de la otra (probar comentando esta línea)\n",
    "plt.tight_layout() "
   ]
  },
  {
   "cell_type": "markdown",
   "metadata": {},
   "source": [
    "---\n",
    "## Ejercicio\n",
    "\n",
    "1. Genere una figura que contenga los gráficos de las funciones seno y coseno. Agregue títulos, grilla, y cambie el color de las líneas. "
   ]
  },
  {
   "cell_type": "code",
   "execution_count": null,
   "metadata": {},
   "outputs": [],
   "source": [
    "# Escriba aquí su solución"
   ]
  },
  {
   "cell_type": "markdown",
   "metadata": {},
   "source": [
    "2. Genere una figura con gráficos en dos filas y dos columnas, en el que se represente la difusión del calor en una sala en la que en una esquina hay una fuente. "
   ]
  },
  {
   "cell_type": "code",
   "execution_count": null,
   "metadata": {},
   "outputs": [],
   "source": [
    "# Escriba aquí su solución"
   ]
  },
  {
   "cell_type": "markdown",
   "metadata": {},
   "source": [
    "---\n",
    "\n",
    "# Interfaz orientada a objetos\n",
    "\n",
    "Aún cuando es fácil y rápido generar gráficos con el módulo `matplotlib.pyplot`, el uso de la interfaz orientada a objetos es recomendada. En efecto, provee mucho más control y personalización de nuestros gráficos. \n",
    "\n",
    "La idea principal detrás del uso del modo más formal del método orientado a objetos es el crear *objetos figura* y luego llamar a métodos o atributos de estos objetos. Esto es crucial sobre todo en figuras que tienen múltiples gráficos en ellas. \n",
    "\n",
    "En esta interfaz, Pyplot es usado solo en unas pocas funciones. El usuario genera una *figura* con Pyplot y sobre esas figuras se generan uno o más *ejes* sobre los que se grafica.\n",
    "\n",
    "\n",
    "Veamos un ejemplo concreto:"
   ]
  },
  {
   "cell_type": "code",
   "execution_count": null,
   "metadata": {},
   "outputs": [],
   "source": [
    "# Generamos el objeto fig\n",
    "fig = plt.figure()\n",
    "\n",
    "# agregamos los ejes los valores indican el tamaño de la figura\n",
    "ax = fig.add_axes([0,0,1,1]) "
   ]
  },
  {
   "cell_type": "markdown",
   "metadata": {},
   "source": [
    "Luego, podemos adaptar todo lo visto hasta ahora, como muestra el siguiente ejemplo:"
   ]
  },
  {
   "cell_type": "code",
   "execution_count": null,
   "metadata": {},
   "outputs": [],
   "source": [
    "y = np.random.randint(10, size = 20)\n",
    "\n",
    "fig = plt.figure()\n",
    "ax = fig.add_axes([0,0,1,1]) # Hacemos una figura más grande\n",
    "\n",
    "# Usamos ax.plot()\n",
    "ax.plot(y, \"o:k\", label = \"Linea al azar\") \n",
    "\n",
    "# Usamos \"set_xlabel\", \"set_ylabel\" y \"set_title\" en lugar de \"xlabel\", \"ylabel\", \"title\"\n",
    "ax.set_title(\"Título del gráfico\", size = 20, color = \"black\", family = \"arial\")\n",
    "ax.set_xlabel(\"Etiqueta del eje x\", size = 15, color = \"red\", loc = \"left\"); \n",
    "ax.set_ylabel(\"Etiqueta del eje y\", size = 15, color = \"green\", loc = \"bottom\");\n",
    "\n",
    "# Usamos ax.legend()\n",
    "ax.legend()\n",
    "\n",
    "# Usamos ax.grid()\n",
    "ax.grid()\n",
    "\n",
    "plt.show()"
   ]
  },
  {
   "cell_type": "markdown",
   "metadata": {},
   "source": [
    "Lo últil/interesante es que podemos definir más de un conjunto de ejes en la misma figura, y tratarlos de manera completamente independiente."
   ]
  },
  {
   "cell_type": "code",
   "execution_count": null,
   "metadata": {},
   "outputs": [],
   "source": [
    "x = np.arange(0,10,0.01)\n",
    "y = 2**x\n",
    "\n",
    "fig = plt.figure()\n",
    "\n",
    "ax1 = fig.add_axes([0, 0, 1, 1]) # Ejes principales\n",
    "ax2 = fig.add_axes([0.2, 0.6, 0.3, 0.3]) # Ejes secundarios\n",
    "\n",
    "# Figura Principal\n",
    "ax1.plot(x, y, 'r')\n",
    "ax1.set_xlabel('Eje x')\n",
    "ax1.set_ylabel('Eje y')\n",
    "ax1.set_title('Exponencial', loc = \"left\")\n",
    "\n",
    "# Insertamos otra figura\n",
    "ax2.plot(y, x, 'g')\n",
    "ax2.set_xlabel('Eje y')\n",
    "ax2.set_ylabel('Eje x')\n",
    "ax2.set_title('Logaritmo', loc = \"left\");"
   ]
  },
  {
   "cell_type": "markdown",
   "metadata": {},
   "source": [
    "# Subplots"
   ]
  },
  {
   "cell_type": "markdown",
   "metadata": {},
   "source": [
    "Existen en matplotlib distintos esquemas para dibujar varios gráficos en una misma figura. Uno de ellos es `subplots`, como muestran los ejemplos siguientes."
   ]
  },
  {
   "cell_type": "code",
   "execution_count": null,
   "metadata": {},
   "outputs": [],
   "source": [
    "x = np.arange(0,10,0.01)\n",
    "y = 2**x\n",
    "\n",
    "fig, ax = plt.subplots() # Solo un gráfico\n",
    "\n",
    "ax.plot(x, y, 'r')\n",
    "ax.set_xlabel('Etiqueta eje x')\n",
    "ax.set_ylabel('Etiqueta eje y')\n",
    "ax.set_title('Título');"
   ]
  },
  {
   "cell_type": "code",
   "execution_count": null,
   "metadata": {},
   "outputs": [],
   "source": [
    "fig, axes = plt.subplots(1,3, figsize = (10,5)) # tres gráficos en una fila\n",
    "\n",
    "x = np.arange(0,10,0.01)\n",
    "y = 2**x\n",
    "\n",
    "for i in range(3):\n",
    "    ax = axes[i]\n",
    "    ax.plot(x, y, 'r')\n",
    "    ax.set_xlabel('Etiqueta eje x')\n",
    "    ax.set_ylabel('Etiqueta eje y')\n",
    "    ax.set_title('Titulo')\n",
    "    \n",
    "fig.tight_layout() "
   ]
  },
  {
   "cell_type": "code",
   "execution_count": null,
   "metadata": {},
   "outputs": [],
   "source": [
    "fig, axes = plt.subplots(2,3, figsize=(7,5))\n",
    "\n",
    "colores = [\"r\",\"g\",\"b\",\"y\",\"k\",\"purple\"]\n",
    "\n",
    "for i in range(2):\n",
    "    for j in range(3):\n",
    "        y = np.random.randint(10, size = 20)\n",
    "        ax = axes[i,j]\n",
    "        ax.plot(y, color = colores[3*i+j])\n",
    "        ax.set_title('Grafico número '+str(3*i+j+1))\n",
    "    \n",
    "fig.tight_layout() "
   ]
  },
  {
   "cell_type": "markdown",
   "metadata": {},
   "source": [
    "Otra alternativa útil/interesante para hacer varios gráficos en la misma figura es subplot2grid. Esta nos permite generar gráficos de distinto tamaño en una misma \"tabla\":"
   ]
  },
  {
   "cell_type": "code",
   "execution_count": null,
   "metadata": {},
   "outputs": [],
   "source": [
    "fig = plt.figure(figsize = (7,5))\n",
    "\n",
    "ax1 = plt.subplot2grid((3,3), (0,0), colspan=3)\n",
    "ax2 = plt.subplot2grid((3,3), (1,0), colspan=2)\n",
    "ax3 = plt.subplot2grid((3,3), (1,2), rowspan=2)\n",
    "ax4 = plt.subplot2grid((3,3), (2,0))\n",
    "ax5 = plt.subplot2grid((3,3), (2,1))\n",
    "\n",
    "fig.tight_layout()"
   ]
  },
  {
   "cell_type": "markdown",
   "metadata": {},
   "source": [
    "----\n",
    "# Ejercicio\n",
    "\n",
    "1. Escriba un programa que genere una figura con las funciones seno, coseno, arcoseno y arcocoseno en una grilla de 2 x 4. Organice la figura para que cada gráfico se vea lo mejor posible. Agregue títulos, colores y marcadores de ser necesario."
   ]
  },
  {
   "cell_type": "code",
   "execution_count": null,
   "metadata": {},
   "outputs": [],
   "source": [
    "# Escriba aquí su solución"
   ]
  },
  {
   "cell_type": "markdown",
   "metadata": {},
   "source": [
    "----"
   ]
  },
  {
   "cell_type": "markdown",
   "metadata": {},
   "source": [
    "## Ajuste y escala de los ejes\n",
    "\n",
    "Se puede cambiar los límites de los ejes usando `xlim` e `ylim`, o bien usando `autoscale`."
   ]
  },
  {
   "cell_type": "code",
   "execution_count": null,
   "metadata": {},
   "outputs": [],
   "source": [
    "fig, axes = plt.subplots(1, 3, figsize=(12, 4))\n",
    "\n",
    "axes[0].plot(x, x**2, x, x**3)\n",
    "axes[0].set_title(\"Ejes por defecto\")\n",
    "\n",
    "axes[1].plot(x, x**2, x, x**3)\n",
    "axes[1].autoscale(enable=True, axis='both', tight=True)\n",
    "axes[1].set_title(\"Ejes ajustados\")\n",
    "\n",
    "axes[2].plot(x, x**2, x, x**3)\n",
    "axes[2].set_ylim([0, 60])\n",
    "axes[2].set_xlim([2, 5])\n",
    "axes[2].set_title(\"Ejes personalizados\");"
   ]
  },
  {
   "cell_type": "markdown",
   "metadata": {},
   "source": [
    "## Escala Logarítmica\n",
    "\n",
    "También es posible definir una escala logarítmica para uno o ambos ejes. Esta funcionalidad es de hecho una aplicación de un tipo de transformación más general en Matplotlib. Cada una de las escalas de los ejes se puede ajustar usandolos métodos `set_xscale` y `set_yscale`, que aceptan un parámetro (siendo \"log\" en este caso):"
   ]
  },
  {
   "cell_type": "code",
   "execution_count": null,
   "metadata": {},
   "outputs": [],
   "source": [
    "fig, axes = plt.subplots(1, 2, figsize=(10,4))\n",
    "      \n",
    "axes[0].plot(x, x**2, x, np.exp(x))\n",
    "axes[0].set_title(\"Escala normal\")\n",
    "\n",
    "axes[1].plot(x, x**2, x, np.exp(x))\n",
    "axes[1].set_yscale(\"log\")\n",
    "axes[1].set_title(\"Escala logarítmica en (y)\");"
   ]
  },
  {
   "cell_type": "markdown",
   "metadata": {},
   "source": [
    "## Notación científica\n",
    "\n",
    "\n"
   ]
  },
  {
   "cell_type": "code",
   "execution_count": null,
   "metadata": {},
   "outputs": [],
   "source": [
    "from matplotlib import ticker\n",
    "\n",
    "x = np.linspace(0, 5, 1000)\n",
    "y = x ** 2\n",
    "\n",
    "fig, ax = plt.subplots()\n",
    "ax.plot(x, x**2, x, np.exp(x))\n",
    "\n",
    "ax.set_title(\"Notación científica\")\n",
    "ax.set_yticks([0, 50, 100, 150])\n",
    "\n",
    "formatter = ticker.ScalarFormatter(useMathText=True)\n",
    "formatter.set_scientific(True) \n",
    "formatter.set_powerlimits((-1,1)) \n",
    "ax.yaxis.set_major_formatter(formatter) "
   ]
  },
  {
   "cell_type": "markdown",
   "metadata": {},
   "source": [
    "## Anotaciones \n",
    "\n",
    "Se puede hacer anotaciones usando la función `text`. Ésta soporta formato LaTeX, al igual que las etiquetas de los ejes, los títulos y las leyendas. "
   ]
  },
  {
   "cell_type": "code",
   "execution_count": null,
   "metadata": {},
   "outputs": [],
   "source": [
    "fig, ax = plt.subplots()\n",
    "\n",
    "x = np.linspace(-5,5,1000)\n",
    "ax.plot(x, x**2,\"b\", x, x**3,\"g\")\n",
    "ax.text(-2, 30, \"$y=x^2$\", fontsize=20, color=\"blue\")\n",
    "ax.text(1, -30, \"$y=x^3$\", fontsize=20, color=\"green\");"
   ]
  },
  {
   "cell_type": "markdown",
   "metadata": {},
   "source": [
    "----"
   ]
  },
  {
   "cell_type": "markdown",
   "metadata": {},
   "source": [
    "## Otros tipos de gráficos\n",
    "\n",
    "Other 2D plot styles\n",
    "In addition to the regular plot method, there are a number of other functions for generating different kind of plots. See the matplotlib plot gallery for a complete list of available plot types: http://matplotlib.org/gallery.html. Some of the more useful ones are show below:"
   ]
  },
  {
   "cell_type": "code",
   "execution_count": null,
   "metadata": {},
   "outputs": [],
   "source": [
    "fig = plt.figure()\n",
    "\n",
    "ax = fig.add_axes([0.0, 0.0, 1, 1], polar=True)\n",
    "\n",
    "t = np.linspace(0, 2 * np.pi, 100)\n",
    "ax.plot(t, t, color='blue', lw=3);"
   ]
  },
  {
   "cell_type": "code",
   "execution_count": null,
   "metadata": {},
   "outputs": [],
   "source": [
    "n = np.array([0,1,2,3,4,5])\n",
    "xx = np.linspace(-0.75, 1., 100)\n",
    "fig, axes = plt.subplots(1, 4, figsize=(12,3))\n",
    "\n",
    "axes[0].scatter(xx, xx + 0.25*np.random.randn(len(xx)))\n",
    "axes[0].set_title(\"scatter\")\n",
    "\n",
    "axes[1].step(n, n**2, lw=2)\n",
    "axes[1].set_title(\"step\")\n",
    "\n",
    "axes[2].bar(n, n**2, align=\"center\", width=0.5, alpha=0.5)\n",
    "axes[2].set_title(\"bar\")\n",
    "\n",
    "axes[3].fill_between(x, x**2, x**3, color=\"green\", alpha=0.5);\n",
    "axes[3].set_title(\"fill_between\");\n",
    "\n",
    "fig.tight_layout()"
   ]
  },
  {
   "cell_type": "code",
   "execution_count": null,
   "metadata": {},
   "outputs": [],
   "source": [
    "# Histogramas\n",
    "n = np.random.randn(100000)\n",
    "fig, axes = plt.subplots(1, 2, figsize=(10,4))\n",
    "\n",
    "axes[0].hist(n)\n",
    "axes[0].set_title(\"Histograma\")\n",
    "axes[0].set_xlim((min(n), max(n)))\n",
    "\n",
    "axes[1].hist(n, cumulative=True, bins=50)\n",
    "axes[1].set_title(\"Histograma acumulativo\")\n",
    "axes[1].set_xlim((min(n), max(n)));"
   ]
  },
  {
   "cell_type": "markdown",
   "metadata": {},
   "source": [
    "---\n",
    "\n",
    "## Mapas de color\n",
    "\n",
    "Los mapas de color son útiles para graficar funciones de dos variables. En la mayoría de estas funciones vamos a usar un mapa de colores para codificar una dimensión de los datos. \n",
    "Hay un gran número de mapas de colores predefinidos, y es relativamente simple crear nuestros propios mapas. \n",
    "\n",
    "Podemos veruna lista de los colores pre-definidos aquí: https://matplotlib.org/3.5.0/tutorials/colors/colormaps.html\n",
    "\n",
    "Veamos un ejemplo. "
   ]
  },
  {
   "cell_type": "code",
   "execution_count": null,
   "metadata": {},
   "outputs": [],
   "source": [
    "fig, ax = plt.subplots()\n",
    "\n",
    "A = np.random.random(size = (5,5))\n",
    "im = ax.imshow(A)\n",
    "im.set_interpolation('bilinear') # Para suavizar las diferencias\n",
    "cb = fig.colorbar(im, ax=ax) # Para mostrar el mapa de colores"
   ]
  },
  {
   "cell_type": "markdown",
   "metadata": {},
   "source": [
    "## Ejercicio\n",
    "\n",
    "Escriba un programa en que haga una figura de 2x5 con diferentes iteraciones de la difusión del calor. "
   ]
  },
  {
   "cell_type": "code",
   "execution_count": null,
   "metadata": {},
   "outputs": [],
   "source": [
    "# Escriba aquí su solución"
   ]
  },
  {
   "cell_type": "markdown",
   "metadata": {},
   "source": [
    "\n",
    "---"
   ]
  },
  {
   "cell_type": "markdown",
   "metadata": {},
   "source": [
    "# Animaciones"
   ]
  },
  {
   "cell_type": "markdown",
   "metadata": {},
   "source": [
    "Finalmente, veamos como hacer animaciones utilizando matplotlib. Para esto usaremos el submódulo `animation` y la función `FuncAnimation` incluida en éste. \n",
    "\n",
    "Veamos dos ejemplos."
   ]
  },
  {
   "cell_type": "code",
   "execution_count": null,
   "metadata": {},
   "outputs": [],
   "source": [
    "from matplotlib import animation\n",
    "from IPython.display import HTML"
   ]
  },
  {
   "cell_type": "code",
   "execution_count": null,
   "metadata": {},
   "outputs": [],
   "source": [
    "fig, ax = plt.subplots()\n",
    "xdata, ydata = [], []\n",
    "ln, = plt.plot([], [], 'r')\n",
    "\n",
    "def init():\n",
    "    ax.set_xlim(0,20*np.pi)\n",
    "    ax.set_ylim(-50, 50)\n",
    "    return ln,\n",
    "\n",
    "def update(frame):\n",
    "    xdata.append(frame)\n",
    "    ydata.append(frame*np.sin(frame))\n",
    "    ln.set_data(xdata, ydata)\n",
    "    return ln,\n",
    "\n",
    "ani = animation.FuncAnimation(fig, update, frames=np.linspace(0, 20*np.pi, 200),\n",
    "                    init_func=init,interval=20);\n",
    "HTML(ani.to_jshtml())"
   ]
  },
  {
   "cell_type": "markdown",
   "metadata": {},
   "source": [
    "En este segundo ejemplo, veremos cómo se distribuye el calor aportado por una fuente constante dentro de un espacio cerrado. "
   ]
  },
  {
   "cell_type": "code",
   "execution_count": null,
   "metadata": {},
   "outputs": [],
   "source": [
    "\n",
    "n =21\n",
    "A = np.zeros((n,n))\n",
    "A[0,0] = 100\n",
    "fig =  plt.figure(figsize=(5,5))\n",
    "grafico = plt.imshow(A)\n",
    "grafico.set_interpolation('bilinear') # Para suavizar las diferencias\n",
    "cb = fig.colorbar(grafico, ax=ax) # Para mostrar el mapa de colores\n",
    "\n",
    "\n",
    "listaA = [A]\n",
    "for i in range(1000):\n",
    "    A = iteracion(A)\n",
    "    A[0,0] = 100\n",
    "    listaA.append(A)\n",
    "\n",
    "def update(frame):\n",
    "    grafico.set_data(listaA[frame])\n",
    "    return grafico\n",
    "\n",
    "ani = animation.FuncAnimation(fig, \n",
    "                              update, \n",
    "                              frames   = 1000,\n",
    "                              interval = 20\n",
    "                             );\n",
    "HTML(ani.to_jshtml())"
   ]
  },
  {
   "cell_type": "markdown",
   "metadata": {},
   "source": [
    "## Ejercicio "
   ]
  },
  {
   "cell_type": "code",
   "execution_count": null,
   "metadata": {},
   "outputs": [],
   "source": [
    "# Escriba aquí su solución"
   ]
  }
 ],
 "metadata": {
  "kernelspec": {
   "display_name": "Python 3",
   "language": "python",
   "name": "python3"
  },
  "language_info": {
   "codemirror_mode": {
    "name": "ipython",
    "version": 3
   },
   "file_extension": ".py",
   "mimetype": "text/x-python",
   "name": "python",
   "nbconvert_exporter": "python",
   "pygments_lexer": "ipython3",
   "version": "3.8.8"
  }
 },
 "nbformat": 4,
 "nbformat_minor": 4
}
