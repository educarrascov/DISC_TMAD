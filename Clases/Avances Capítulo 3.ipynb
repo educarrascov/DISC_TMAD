{
 "cells": [
  {
   "cell_type": "markdown",
   "metadata": {},
   "source": [
    "# Taller de Manejo y Análisis de Datos\n",
    "\n",
    "**Profesor**: Pedro Montealegre"
   ]
  },
  {
   "cell_type": "markdown",
   "metadata": {},
   "source": [
    "# Funciones y Módulos\n",
    "\n",
    "\n",
    "Las funciones nos permiten agrupar cierto número de operaciones en un solo *bloque lógico*. Nos comunicamos con una función a través de una interfaz claramente definida, entregando ciertos parámetros a la función, y recibiendo cierta información de vuelta. A parte de esta interfaz, por lo general no sabemos exactamente cómo la función es capaz de producir el valor de salida. \n",
    "\n",
    "Por ejemplo, cuando escribimos:"
   ]
  },
  {
   "cell_type": "code",
   "execution_count": 1,
   "metadata": {},
   "outputs": [
    {
     "data": {
      "text/plain": [
       "1.4142135623730951"
      ]
     },
     "execution_count": 1,
     "metadata": {},
     "output_type": "execute_result"
    }
   ],
   "source": [
    "import math\n",
    "math.sqrt(2)"
   ]
  },
  {
   "cell_type": "markdown",
   "metadata": {},
   "source": [
    "No sabemos exactamente cómo la función `math.sqrt` calcula la raíz cuadrdada de $2$, pero conocemos la interfaz: si le pasamos $x$ a la función, ésta nos entrega (una aproximación de) $\\sqrt{x}$. \n",
    "\n",
    "Esta *abstracción* es muy útil en programación, y en general se usa en todas las ramas de la ingeniería: se divide un sistema en varias partes más pequeñas, que interactúan a través de interfaces bien definidas, y que no necesitan saber sobre el funcionamiento interno de las demás. De hecho, no necesitar preocuparse de los detalles de estas implementaciones por lo general ayuda a tener una visión más clara de cuáles son las partes críticas del sistema, y así asegurar un buen funcionamiento.\n",
    "\n",
    "Las funciones son el \"bloque de construcción\" (building block) sobre el cual se basa la funcionalidad en programas más grandes (y simulaciones computacionales), y ayudan a controlar la complejidad inherente al proceso. \n",
    "\n",
    "Se puede agrupar varias funciones en un módulo Python, y de este modo crear nuestras propias librerías.\n"
   ]
  },
  {
   "cell_type": "markdown",
   "metadata": {},
   "source": [
    "## Usando funciones\n",
    "\n",
    "La palabra \"función\" tiene diferentes significados en matemáticas y en programación. En programación, se refiere a una secuencia de operaciones a las cuales se les asigna un nombre. Por ejemplo, la función `sqrt()`, que está definida en el módulo `math` calcula la raíz cuadrada de un número:"
   ]
  },
  {
   "cell_type": "code",
   "execution_count": 2,
   "metadata": {},
   "outputs": [
    {
     "data": {
      "text/plain": [
       "2.0"
      ]
     },
     "execution_count": 2,
     "metadata": {},
     "output_type": "execute_result"
    }
   ],
   "source": [
    "import math\n",
    "math.sqrt(4)"
   ]
  },
  {
   "cell_type": "markdown",
   "metadata": {},
   "source": [
    "En este ejemplo, el valor que le pasamos a la función `sqrt` es 4.  Este valor se llama el *argumento* de la función. Una función puede tener cero, uno, o más de un argumento. \n",
    "\n",
    "La función devuelve el valor 2.0 al \"contexto de llamada\". Este valor se conoce como el *valor de salida* de la función.\n",
    "\n",
    "Se dice que una función *recibe* un argumento y *devuelve* un valor (o resultado)."
   ]
  },
  {
   "cell_type": "markdown",
   "metadata": {},
   "source": [
    "#### Confusión entre imprimir y devolver\n",
    "\n",
    "Un error común entre quienes se están iniciando en la programación consiste en confundir **imprimir** un valor con **devolver** un valor. \n",
    "\n",
    "Parte de la confusion sobre valores devueltos versus valores impresos viene por el hecho que el terminal Python imprime (una representación de) los objetos devueltos **siempre y cuando** estos no hayan sido asignados a una variable. Por ejemplo:"
   ]
  },
  {
   "cell_type": "code",
   "execution_count": 3,
   "metadata": {},
   "outputs": [
    {
     "data": {
      "text/plain": [
       "3125"
      ]
     },
     "execution_count": 3,
     "metadata": {},
     "output_type": "execute_result"
    }
   ],
   "source": [
    "5**5"
   ]
  },
  {
   "cell_type": "markdown",
   "metadata": {},
   "source": [
    "Pero si el mismo valor es asignado a una variable, entonces el resultado no se imprime:"
   ]
  },
  {
   "cell_type": "code",
   "execution_count": 4,
   "metadata": {},
   "outputs": [],
   "source": [
    "x = 5**5"
   ]
  },
  {
   "cell_type": "markdown",
   "metadata": {},
   "source": [
    "En ese sentido, en el siguiente código podría ser difícil ver si acaso la función `math.sin` devuelve o imprime el valor:"
   ]
  },
  {
   "cell_type": "code",
   "execution_count": 5,
   "metadata": {},
   "outputs": [
    {
     "data": {
      "text/plain": [
       "0.9092974268256817"
      ]
     },
     "execution_count": 5,
     "metadata": {},
     "output_type": "execute_result"
    }
   ],
   "source": [
    "import math\n",
    "math.sin(2)"
   ]
  },
  {
   "cell_type": "markdown",
   "metadata": {},
   "source": [
    "Lo que realmente ocurre es: Importamos el módulo `math`, y llamamos a la función `math.sin` con el argumento `2`. La función `math.sin(2)` *devuelve* el valor `0.909...`, no lo imprmime. Sin embargo, como no hemos asignado el valor devuelto a ninguna variable, la consola Python imprime automáticamente el objeto devuelto.\n",
    "\n",
    "Dicho de otro modo, el código anterior es una forma resumida de:"
   ]
  },
  {
   "cell_type": "code",
   "execution_count": 6,
   "metadata": {},
   "outputs": [
    {
     "name": "stdout",
     "output_type": "stream",
     "text": [
      "0.9092974268256817\n"
     ]
    }
   ],
   "source": [
    "import math\n",
    "print(math.sin(2))"
   ]
  },
  {
   "cell_type": "markdown",
   "metadata": {},
   "source": [
    "Si en cambio asignamos el valor devuelto a una variable `x`, no se imprime el valor, sino que queda almacenado en la variable `x`:"
   ]
  },
  {
   "cell_type": "code",
   "execution_count": 7,
   "metadata": {},
   "outputs": [],
   "source": [
    "import math\n",
    "x = math.sin(2)"
   ]
  },
  {
   "cell_type": "markdown",
   "metadata": {},
   "source": [
    "Luego podemos operar y/o imprimir la variable `x`:"
   ]
  },
  {
   "cell_type": "code",
   "execution_count": 8,
   "metadata": {},
   "outputs": [
    {
     "name": "stdout",
     "output_type": "stream",
     "text": [
      "1.9092974268256817\n"
     ]
    }
   ],
   "source": [
    "print(x + 1)"
   ]
  },
  {
   "cell_type": "markdown",
   "metadata": {},
   "source": [
    "Por lo general las funciones debiesen ejecutarse de manera \"silenciosa\" (*i.e.* sin imprimir nada) y dar los resultados de su cálculo devolviendo valores."
   ]
  },
  {
   "cell_type": "markdown",
   "metadata": {},
   "source": [
    "\n",
    "## Definiendo nuestras propias funciones\n",
    "\n",
    "En Python podemos programar nuestras propias funciones. El formato genérico para definir una función es el siguiente: \n",
    "\n",
    "```python\n",
    "def miFuncion(arg1, arg2, ..., argn):\n",
    "    \"\"\"Texto opcional para la documentación.\"\"\"\n",
    "\n",
    "    # Implementación de la función\n",
    "\n",
    "    return salida  # opcional\n",
    "\n",
    "# Esto ya no es parte de la función\n",
    "algun_comando\n",
    "```"
   ]
  },
  {
   "cell_type": "markdown",
   "metadata": {},
   "source": [
    "Por ejemplo, la función `bienvenida` definida a continuación imprime el string \"¡Hola Mundo!\". Es una función sin argumentos de entrada y que no devuelve ningún valor. "
   ]
  },
  {
   "cell_type": "code",
   "execution_count": 9,
   "metadata": {},
   "outputs": [],
   "source": [
    "def bienvenida():\n",
    "    \"\"\"No recibe nada, solo imprime Hola. \"\"\"\n",
    "    print(\"¡Hola Mundo!\")"
   ]
  },
  {
   "cell_type": "markdown",
   "metadata": {},
   "source": [
    "Si llamamos esta función"
   ]
  },
  {
   "cell_type": "code",
   "execution_count": 10,
   "metadata": {},
   "outputs": [
    {
     "name": "stdout",
     "output_type": "stream",
     "text": [
      "¡Hola Mundo!\n"
     ]
    }
   ],
   "source": [
    "bienvenida()"
   ]
  },
  {
   "cell_type": "code",
   "execution_count": 11,
   "metadata": {},
   "outputs": [
    {
     "data": {
      "text/plain": [
       "function"
      ]
     },
     "execution_count": 11,
     "metadata": {},
     "output_type": "execute_result"
    }
   ],
   "source": [
    "type(bienvenida)"
   ]
  },
  {
   "cell_type": "code",
   "execution_count": 12,
   "metadata": {},
   "outputs": [
    {
     "name": "stdout",
     "output_type": "stream",
     "text": [
      "Help on function bienvenida in module __main__:\n",
      "\n",
      "bienvenida()\n",
      "    No recibe nada, solo imprime Hola.\n",
      "\n"
     ]
    }
   ],
   "source": [
    "help(bienvenida)"
   ]
  },
  {
   "cell_type": "markdown",
   "metadata": {},
   "source": [
    "ésta imprime \"¡Hola Mundo!\", como podría esperarse. \n",
    "\n",
    "Asignemos el valor que devuelve esta función a una variable `x`"
   ]
  },
  {
   "cell_type": "code",
   "execution_count": 13,
   "metadata": {},
   "outputs": [
    {
     "name": "stdout",
     "output_type": "stream",
     "text": [
      "¡Hola Mundo!\n"
     ]
    }
   ],
   "source": [
    "x = bienvenida()"
   ]
  },
  {
   "cell_type": "code",
   "execution_count": 14,
   "metadata": {},
   "outputs": [
    {
     "name": "stdout",
     "output_type": "stream",
     "text": [
      "None\n"
     ]
    }
   ],
   "source": [
    "print(x)"
   ]
  },
  {
   "cell_type": "code",
   "execution_count": 15,
   "metadata": {},
   "outputs": [
    {
     "data": {
      "text/plain": [
       "NoneType"
      ]
     },
     "execution_count": 15,
     "metadata": {},
     "output_type": "execute_result"
    }
   ],
   "source": [
    "type(x)"
   ]
  },
  {
   "cell_type": "code",
   "execution_count": 16,
   "metadata": {},
   "outputs": [],
   "source": [
    "otronombre = bienvenida # Para renombrar una función"
   ]
  },
  {
   "cell_type": "code",
   "execution_count": 18,
   "metadata": {},
   "outputs": [
    {
     "name": "stdout",
     "output_type": "stream",
     "text": [
      "¡Hola Mundo!\n"
     ]
    }
   ],
   "source": [
    "otronombre()"
   ]
  },
  {
   "cell_type": "code",
   "execution_count": 20,
   "metadata": {},
   "outputs": [
    {
     "data": {
      "text/plain": [
       "140494560020800"
      ]
     },
     "execution_count": 20,
     "metadata": {},
     "output_type": "execute_result"
    }
   ],
   "source": [
    "id(otronombre)"
   ]
  },
  {
   "cell_type": "code",
   "execution_count": 21,
   "metadata": {},
   "outputs": [
    {
     "data": {
      "text/plain": [
       "140494560020800"
      ]
     },
     "execution_count": 21,
     "metadata": {},
     "output_type": "execute_result"
    }
   ],
   "source": [
    "id(bienvenida)"
   ]
  },
  {
   "cell_type": "markdown",
   "metadata": {},
   "source": [
    "encontramos que  `bienvenida` devolvió el objeto `None`. \n",
    "\n",
    "Consideremos ahora el siguiente ejemplo:"
   ]
  },
  {
   "cell_type": "code",
   "execution_count": 22,
   "metadata": {},
   "outputs": [],
   "source": [
    "def muchasBienvenidas(n): \n",
    "    print(n * \"¡Hola Mundo! \")"
   ]
  },
  {
   "cell_type": "markdown",
   "metadata": {},
   "source": [
    "En este caso la función `muchasBienvenidas` tiene un argumento `n`. La función imprime el string `¡Hola Mundo! ` repetido `n` veces."
   ]
  },
  {
   "cell_type": "code",
   "execution_count": 23,
   "metadata": {},
   "outputs": [
    {
     "name": "stdout",
     "output_type": "stream",
     "text": [
      "¡Hola Mundo! ¡Hola Mundo! ¡Hola Mundo! ¡Hola Mundo! ¡Hola Mundo! ¡Hola Mundo! ¡Hola Mundo! ¡Hola Mundo! ¡Hola Mundo! \n"
     ]
    }
   ],
   "source": [
    "x = muchasBienvenidas(9)"
   ]
  },
  {
   "cell_type": "code",
   "execution_count": 24,
   "metadata": {},
   "outputs": [
    {
     "name": "stdout",
     "output_type": "stream",
     "text": [
      "None\n"
     ]
    }
   ],
   "source": [
    "print(x)"
   ]
  },
  {
   "cell_type": "markdown",
   "metadata": {},
   "source": [
    "Por lo general, las funciones que devuelven valores son más útiles, ya que se pueden combinar con otros códigos, incluyendo otras funciones. Veamos algunos ejemplos de funciones que devuelven un valor.\n",
    "\n",
    "Supongamos que necesitamos definir una función que calcule el cuadrado de una variable. El código de la función podría ser:"
   ]
  },
  {
   "cell_type": "code",
   "execution_count": 25,
   "metadata": {},
   "outputs": [],
   "source": [
    "def cuadrado(x):\n",
    "    \"\"\"Esta función recibe como argumento x y devuelve x*x\"\"\"\n",
    "    salida = x * x\n",
    "    return salida  # Aqui devuelve el valor"
   ]
  },
  {
   "cell_type": "markdown",
   "metadata": {},
   "source": [
    "La palabra clave `def` le dice a Python que en ese punto estamos *definiendo* una función. Esta función toma un argumento (`x`). La función *devuelve* `x * x`, que por supuesto vale $x^2$. \n",
    "\n",
    "Esta función puede ser llamada luego en otras partes del código:"
   ]
  },
  {
   "cell_type": "code",
   "execution_count": 26,
   "metadata": {},
   "outputs": [
    {
     "data": {
      "text/plain": [
       "100"
      ]
     },
     "execution_count": 26,
     "metadata": {},
     "output_type": "execute_result"
    }
   ],
   "source": [
    "cuadrado(10)"
   ]
  },
  {
   "cell_type": "code",
   "execution_count": 27,
   "metadata": {},
   "outputs": [],
   "source": [
    "x = cuadrado(10)"
   ]
  },
  {
   "cell_type": "code",
   "execution_count": 28,
   "metadata": {},
   "outputs": [
    {
     "data": {
      "text/plain": [
       "int"
      ]
     },
     "execution_count": 28,
     "metadata": {},
     "output_type": "execute_result"
    }
   ],
   "source": [
    "type(x)"
   ]
  },
  {
   "cell_type": "code",
   "execution_count": 29,
   "metadata": {},
   "outputs": [
    {
     "name": "stdout",
     "output_type": "stream",
     "text": [
      "100\n"
     ]
    }
   ],
   "source": [
    "print(x)"
   ]
  },
  {
   "cell_type": "code",
   "execution_count": 33,
   "metadata": {},
   "outputs": [
    {
     "name": "stdout",
     "output_type": "stream",
     "text": [
      "Help on function cuadrado in module __main__:\n",
      "\n",
      "cuadrado(x)\n",
      "    Esta función recibe como argumento x y devuelve x*x\n",
      "\n"
     ]
    }
   ],
   "source": [
    "help(cuadrado)"
   ]
  },
  {
   "cell_type": "markdown",
   "metadata": {},
   "source": [
    "La variable `salida` usada en la función `cuadrado` se borra una vez que la función devuelve un valor. "
   ]
  },
  {
   "cell_type": "code",
   "execution_count": 32,
   "metadata": {},
   "outputs": [
    {
     "ename": "NameError",
     "evalue": "name 'salida' is not defined",
     "output_type": "error",
     "traceback": [
      "\u001b[0;31m---------------------------------------------------------------------------\u001b[0m",
      "\u001b[0;31mNameError\u001b[0m                                 Traceback (most recent call last)",
      "\u001b[0;32m/var/folders/9g/j4nc58_s5_9cfzq4lmx_blbr0000gn/T/ipykernel_13808/2665044824.py\u001b[0m in \u001b[0;36m<module>\u001b[0;34m\u001b[0m\n\u001b[0;32m----> 1\u001b[0;31m \u001b[0msalida\u001b[0m\u001b[0;34m\u001b[0m\u001b[0;34m\u001b[0m\u001b[0m\n\u001b[0m",
      "\u001b[0;31mNameError\u001b[0m: name 'salida' is not defined"
     ]
    }
   ],
   "source": [
    "salida"
   ]
  },
  {
   "cell_type": "markdown",
   "metadata": {},
   "source": [
    "Otro ejemplo"
   ]
  },
  {
   "cell_type": "code",
   "execution_count": 34,
   "metadata": {},
   "outputs": [],
   "source": [
    "def primeroEnLista(lista):\n",
    "    \"\"\"devuelve el primer elemento de una lista. La entrada tiene que ser una lista.\"\"\"\n",
    "    x = lista[0]\n",
    "    return x"
   ]
  },
  {
   "cell_type": "code",
   "execution_count": 35,
   "metadata": {},
   "outputs": [
    {
     "data": {
      "text/plain": [
       "2"
      ]
     },
     "execution_count": 35,
     "metadata": {},
     "output_type": "execute_result"
    }
   ],
   "source": [
    "primeroEnLista([2,4,6,8,10])"
   ]
  },
  {
   "cell_type": "code",
   "execution_count": 36,
   "metadata": {},
   "outputs": [
    {
     "data": {
      "text/plain": [
       "2"
      ]
     },
     "execution_count": 36,
     "metadata": {},
     "output_type": "execute_result"
    }
   ],
   "source": [
    "listaejemplo = [2,4,6,8,10]\n",
    "primeroEnLista(listaejemplo)"
   ]
  },
  {
   "cell_type": "markdown",
   "metadata": {},
   "source": [
    "Observar que la función `primeroEnLista` recibe una lista (o secuencia), por lo que si le entregamos otra cosa (por ejemplo un número), obtenemos un error-\n",
    "."
   ]
  },
  {
   "cell_type": "code",
   "execution_count": 38,
   "metadata": {},
   "outputs": [
    {
     "ename": "TypeError",
     "evalue": "'int' object is not subscriptable",
     "output_type": "error",
     "traceback": [
      "\u001b[0;31m---------------------------------------------------------------------------\u001b[0m",
      "\u001b[0;31mTypeError\u001b[0m                                 Traceback (most recent call last)",
      "\u001b[0;32m/var/folders/9g/j4nc58_s5_9cfzq4lmx_blbr0000gn/T/ipykernel_13808/1113411535.py\u001b[0m in \u001b[0;36m<module>\u001b[0;34m\u001b[0m\n\u001b[0;32m----> 1\u001b[0;31m \u001b[0mprimeroEnLista\u001b[0m\u001b[0;34m(\u001b[0m\u001b[0;36m5\u001b[0m\u001b[0;34m)\u001b[0m\u001b[0;34m\u001b[0m\u001b[0;34m\u001b[0m\u001b[0m\n\u001b[0m",
      "\u001b[0;32m/var/folders/9g/j4nc58_s5_9cfzq4lmx_blbr0000gn/T/ipykernel_13808/2357192607.py\u001b[0m in \u001b[0;36mprimeroEnLista\u001b[0;34m(lista)\u001b[0m\n\u001b[1;32m      1\u001b[0m \u001b[0;32mdef\u001b[0m \u001b[0mprimeroEnLista\u001b[0m\u001b[0;34m(\u001b[0m\u001b[0mlista\u001b[0m\u001b[0;34m)\u001b[0m\u001b[0;34m:\u001b[0m\u001b[0;34m\u001b[0m\u001b[0;34m\u001b[0m\u001b[0m\n\u001b[1;32m      2\u001b[0m     \u001b[0;34m\"\"\"devuelve el primer elemento de una lista. La entrada tiene que ser una lista.\"\"\"\u001b[0m\u001b[0;34m\u001b[0m\u001b[0;34m\u001b[0m\u001b[0m\n\u001b[0;32m----> 3\u001b[0;31m     \u001b[0mx\u001b[0m \u001b[0;34m=\u001b[0m \u001b[0mlista\u001b[0m\u001b[0;34m[\u001b[0m\u001b[0;36m0\u001b[0m\u001b[0;34m]\u001b[0m\u001b[0;34m\u001b[0m\u001b[0;34m\u001b[0m\u001b[0m\n\u001b[0m\u001b[1;32m      4\u001b[0m     \u001b[0;32mreturn\u001b[0m \u001b[0mx\u001b[0m\u001b[0;34m\u001b[0m\u001b[0;34m\u001b[0m\u001b[0m\n",
      "\u001b[0;31mTypeError\u001b[0m: 'int' object is not subscriptable"
     ]
    }
   ],
   "source": [
    "primeroEnLista(5)"
   ]
  },
  {
   "cell_type": "code",
   "execution_count": 39,
   "metadata": {},
   "outputs": [
    {
     "data": {
      "text/plain": [
       "'H'"
      ]
     },
     "execution_count": 39,
     "metadata": {},
     "output_type": "execute_result"
    }
   ],
   "source": [
    "primeroEnLista(\"Hola\")"
   ]
  },
  {
   "cell_type": "code",
   "execution_count": 40,
   "metadata": {
    "attributes": {
     "classes": [
      "numberLines"
     ],
     "id": ""
    }
   },
   "outputs": [
    {
     "name": "stdout",
     "output_type": "stream",
     "text": [
      "0 * 0 = 0\n",
      "1 * 1 = 1\n",
      "2 * 2 = 4\n",
      "3 * 3 = 9\n",
      "4 * 4 = 16\n",
      "Escribe un número: 25\n",
      "625\n"
     ]
    }
   ],
   "source": [
    "def cuadrado(x):\n",
    "    salida = x * x\n",
    "    return salida # Hasta aquí definimos la función\n",
    "\n",
    "# Esta parte no está en la función (está en el programa \"principal\")\n",
    "for i in range(5):\n",
    "    i2 = cuadrado(i)\n",
    "    print(i, '*', i, '=', i2)\n",
    "    \n",
    "x = int(input(\"Escribe un número: \"))\n",
    "print(cuadrado(x))"
   ]
  },
  {
   "cell_type": "markdown",
   "metadata": {},
   "source": [
    "Observamos que las líneas 1,2,3 definen la función `cuadrado`, mientras las líneas 5-10 son el **programa principal** (\"main program\")"
   ]
  },
  {
   "cell_type": "markdown",
   "metadata": {},
   "source": [
    "Podemos definir funciones de más de un argumento:"
   ]
  },
  {
   "cell_type": "code",
   "execution_count": 41,
   "metadata": {},
   "outputs": [],
   "source": [
    "import math\n",
    "\n",
    "def hipotenusa(x, y):\n",
    "    salida = math.sqrt(x * x + y * y)\n",
    "    return salida"
   ]
  },
  {
   "cell_type": "code",
   "execution_count": 42,
   "metadata": {},
   "outputs": [
    {
     "data": {
      "text/plain": [
       "5.0"
      ]
     },
     "execution_count": 42,
     "metadata": {},
     "output_type": "execute_result"
    }
   ],
   "source": [
    "hipotenusa(3,4) # Si doy 3 y 4, me entrega 5 puesto que el triángulo rectangulo de lados 3 y 4 tiene hipotenusa 5"
   ]
  },
  {
   "cell_type": "code",
   "execution_count": 43,
   "metadata": {},
   "outputs": [
    {
     "ename": "TypeError",
     "evalue": "hipotenusa() missing 1 required positional argument: 'y'",
     "output_type": "error",
     "traceback": [
      "\u001b[0;31m---------------------------------------------------------------------------\u001b[0m",
      "\u001b[0;31mTypeError\u001b[0m                                 Traceback (most recent call last)",
      "\u001b[0;32m/var/folders/9g/j4nc58_s5_9cfzq4lmx_blbr0000gn/T/ipykernel_13808/173152408.py\u001b[0m in \u001b[0;36m<module>\u001b[0;34m\u001b[0m\n\u001b[0;32m----> 1\u001b[0;31m \u001b[0mhipotenusa\u001b[0m\u001b[0;34m(\u001b[0m\u001b[0;36m3\u001b[0m\u001b[0;34m)\u001b[0m\u001b[0;34m\u001b[0m\u001b[0;34m\u001b[0m\u001b[0m\n\u001b[0m",
      "\u001b[0;31mTypeError\u001b[0m: hipotenusa() missing 1 required positional argument: 'y'"
     ]
    }
   ],
   "source": [
    "hipotenusa(3)"
   ]
  },
  {
   "cell_type": "code",
   "execution_count": 44,
   "metadata": {},
   "outputs": [
    {
     "name": "stdout",
     "output_type": "stream",
     "text": [
      "La hipotenusa del triángulo rectángulo de lados 1 y 4 vale 4.123105625617661\n",
      "La hipotenusa del triángulo rectángulo de lados 1 y 5 vale 5.0990195135927845\n",
      "La hipotenusa del triángulo rectángulo de lados 1 y 6 vale 6.082762530298219\n",
      "La hipotenusa del triángulo rectángulo de lados 2 y 4 vale 4.47213595499958\n",
      "La hipotenusa del triángulo rectángulo de lados 2 y 5 vale 5.385164807134504\n",
      "La hipotenusa del triángulo rectángulo de lados 2 y 6 vale 6.324555320336759\n"
     ]
    }
   ],
   "source": [
    "for x in range(1,3):\n",
    "    for y in range(4,7):\n",
    "        print(\"La hipotenusa del triángulo rectángulo de lados\", x, \"y\", y, \"vale\", hipotenusa(x,y))"
   ]
  },
  {
   "cell_type": "markdown",
   "metadata": {},
   "source": [
    "También es posible devolver más de una variable. La función en el siguiente ejemplo recibe un string y devuelve una tupla dos versiones del string, una con todos sus caracteres escritos en mayúsculas y la otra con todos en minúsculas:"
   ]
  },
  {
   "cell_type": "code",
   "execution_count": 45,
   "metadata": {},
   "outputs": [
    {
     "name": "stdout",
     "output_type": "stream",
     "text": [
      "Hola Mundo en minúsculas: hola mundo\n",
      "Hola Mundo en mayúsculas: HOLA MUNDO\n"
     ]
    }
   ],
   "source": [
    "def upperAndLower(string):\n",
    "    return string.upper(), string.lower()\n",
    "\n",
    "palabra = 'Hola Mundo'\n",
    "\n",
    "mayus, minus = upperAndLower(palabra)\n",
    "\n",
    "print(palabra, 'en minúsculas:', minus)\n",
    "print(palabra, 'en mayúsculas:', mayus)"
   ]
  },
  {
   "cell_type": "markdown",
   "metadata": {},
   "source": [
    "Se puede definir más de una función en un mismo archivo Python. Por ejemplo:"
   ]
  },
  {
   "cell_type": "code",
   "execution_count": 46,
   "metadata": {},
   "outputs": [
    {
     "name": "stdout",
     "output_type": "stream",
     "text": [
      "*******************¡Hola Mundo!*******************\n"
     ]
    }
   ],
   "source": [
    "def muchosAsteriscos( n ):\n",
    "    return n * '*'\n",
    "\n",
    "def imprimirConAsteriscos( string ):\n",
    "    largoMax = 50\n",
    "    asteriscos = muchosAsteriscos((largoMax - len(string)) // 2)\n",
    "\n",
    "    print(asteriscos + string + asteriscos)\n",
    "\n",
    "imprimirConAsteriscos('¡Hola Mundo!')"
   ]
  },
  {
   "cell_type": "markdown",
   "metadata": {},
   "source": [
    "##### Más información\n",
    "\n",
    "-   [Python Tutorial: Section 4.6 Defining Functions](http://docs.python.org/tutorial/controlflow.html#defining-functions)\n",
    "\n",
    "\n"
   ]
  },
  {
   "cell_type": "markdown",
   "metadata": {},
   "source": [
    "-------\n",
    "### Ejercicio\n",
    "\n",
    "1. Escriba una función llamada `justificarDerecha` que tenga como argumentos dos strings `texto1` y `texto2` e imprima en dos líneas los strings justificados a la derecha. Por ejemplo:\n",
    "\n",
    "```\n",
    "justificarDerecha(\"Hola como estas?\", \"bien!\")\n",
    "\n",
    "Hola como estas?\n",
    "           bien!\n",
    "```\n"
   ]
  },
  {
   "cell_type": "code",
   "execution_count": 53,
   "metadata": {
    "scrolled": true
   },
   "outputs": [
    {
     "name": "stdout",
     "output_type": "stream",
     "text": [
      "Hola como estas?\n",
      "           bien!\n",
      "\n",
      "           bien!\n",
      "Hola como estas?\n"
     ]
    }
   ],
   "source": [
    "# Escriba aquí su solución\n",
    "\n",
    "def justificarDerecha(texto1,texto2):\n",
    "    # Calculamos el largo de cada palabra\n",
    "    largo1 = len(texto1)\n",
    "    largo2 = len(texto2)\n",
    "    \n",
    "    # Si la primera palabra es mas larga que la segunda, agregamos (largo1-largo2) espacios al segundo string.\n",
    "    if(largo1 >= largo2):\n",
    "        print(texto1)\n",
    "        print((largo1-largo2) * \" \" + texto2)\n",
    "    else:\n",
    "        print((largo2-largo1) * \" \" + texto1)\n",
    "        print(texto2)\n",
    "        \n",
    "# Ejemplo donde la primera palaba es más larga que la segunda\n",
    "justificarDerecha(\"Hola como estas?\", \"bien!\")\n",
    "\n",
    "print(\"\")\n",
    "# Ejemplo donde la segunda palabra es más larga que la primera\n",
    "justificarDerecha(\"bien!\",\"Hola como estas?\")"
   ]
  },
  {
   "cell_type": "markdown",
   "metadata": {},
   "source": [
    "2. Escriba una función `dibujarGrilla` que reciba dos enteros entero `n` y `k` y dibuje una grilla de `n` por `n` cuadrados, cada uno de lado `k` \"guiones\". Por ejemplo, `dibujarGrilla(3,4)` imprime:\n",
    "\n",
    "```\n",
    "+--------+--------+--------+  \n",
    "|        |        |        |  \n",
    "|        |        |        |  \n",
    "|        |        |        |  \n",
    "|        |        |        |  \n",
    "+--------+--------+--------+  \n",
    "|        |        |        |  \n",
    "|        |        |        |  \n",
    "|        |        |        |  \n",
    "|        |        |        |  \n",
    "+--------+--------+--------+  \n",
    "|        |        |        |  \n",
    "|        |        |        |  \n",
    "|        |        |        |  \n",
    "|        |        |        |  \n",
    "+--------+--------+--------+\n",
    "```\n",
    "\n",
    "(fuente: http://greenteapress.com/thinkpython/html/thinkpython004.html#toc39)"
   ]
  },
  {
   "cell_type": "code",
   "execution_count": 66,
   "metadata": {},
   "outputs": [],
   "source": [
    "# Escriba aquí su solución\n",
    "\n",
    "def dibujarGrilla(n,k):\n",
    "    # Definimos primero los dos tipos de línea\n",
    "    lineaTipo1 = n * (\"+\" + 2 * k * \"-\") + \"+\"\n",
    "    lineaTipo2 = n * (\"|\" + 2 * k * \" \") + \"|\"\n",
    "\n",
    "    for i in range(n):\n",
    "        print(lineaTipo1)\n",
    "        for j in range(k):\n",
    "            print(lineaTipo2)\n",
    "            \n",
    "    print(lineaTipo1)"
   ]
  },
  {
   "cell_type": "code",
   "execution_count": 68,
   "metadata": {},
   "outputs": [
    {
     "name": "stdout",
     "output_type": "stream",
     "text": [
      "+------+------+------+------+------+------+------+\n",
      "|      |      |      |      |      |      |      |\n",
      "|      |      |      |      |      |      |      |\n",
      "|      |      |      |      |      |      |      |\n",
      "+------+------+------+------+------+------+------+\n",
      "|      |      |      |      |      |      |      |\n",
      "|      |      |      |      |      |      |      |\n",
      "|      |      |      |      |      |      |      |\n",
      "+------+------+------+------+------+------+------+\n",
      "|      |      |      |      |      |      |      |\n",
      "|      |      |      |      |      |      |      |\n",
      "|      |      |      |      |      |      |      |\n",
      "+------+------+------+------+------+------+------+\n",
      "|      |      |      |      |      |      |      |\n",
      "|      |      |      |      |      |      |      |\n",
      "|      |      |      |      |      |      |      |\n",
      "+------+------+------+------+------+------+------+\n",
      "|      |      |      |      |      |      |      |\n",
      "|      |      |      |      |      |      |      |\n",
      "|      |      |      |      |      |      |      |\n",
      "+------+------+------+------+------+------+------+\n",
      "|      |      |      |      |      |      |      |\n",
      "|      |      |      |      |      |      |      |\n",
      "|      |      |      |      |      |      |      |\n",
      "+------+------+------+------+------+------+------+\n",
      "|      |      |      |      |      |      |      |\n",
      "|      |      |      |      |      |      |      |\n",
      "|      |      |      |      |      |      |      |\n",
      "+------+------+------+------+------+------+------+\n"
     ]
    }
   ],
   "source": [
    "dibujarGrilla(7,3)"
   ]
  },
  {
   "cell_type": "markdown",
   "metadata": {},
   "source": [
    "3. Un entero se dice creciente si cada uno de sus dígitos es menor que el siguiente. Por ejemplo `578` es creciente y `65` no es creciente. Por convención diremos que un entero positivo menor que `10` es creciente. \n",
    "Escriba una función llamada `es_creciente`, que recibe un entero positivo `numero` y devuelve `True` o `False` dependiendo de si `numero` es creciente. "
   ]
  },
  {
   "cell_type": "code",
   "execution_count": 70,
   "metadata": {},
   "outputs": [],
   "source": [
    "# Escriba aquí su solución\n",
    "\n",
    "def es_creciente(n):\n",
    "    # Primero transformamos el entero en string\n",
    "    nString = str(n)\n",
    "    \n",
    "    # Recorremos los índices\n",
    "    for i in range(len(nString)-1):\n",
    "        # Si detectamos un dígito mayor o igual al siguiente\n",
    "        if (int(nString[i]) >=  int(nString[i+1])):\n",
    "            # Devolvemos Falso (y la función se detine aquí)\n",
    "            return False\n",
    "    # Si nunca se detuvo el ciclo for, concluimos que el entero es creciente y devolvemos Verdadero. \n",
    "    return True"
   ]
  },
  {
   "cell_type": "code",
   "execution_count": 73,
   "metadata": {},
   "outputs": [
    {
     "data": {
      "text/plain": [
       "True"
      ]
     },
     "execution_count": 73,
     "metadata": {},
     "output_type": "execute_result"
    }
   ],
   "source": [
    "es_creciente(5)"
   ]
  },
  {
   "cell_type": "markdown",
   "metadata": {},
   "source": [
    "\n",
    "### Valores por defecto y argumentos opcionales\n",
    "\n",
    "Python permite definir valores *por defecto* para los argumentos de una función. \n",
    "\n",
    "La función del siguiente ejemplo recibe dos argumentos `n`y `hasta`, e imprime la \"tabla de multiplicar\" de `n`, multiplicando a `n` por todos los enteros entre `1`y `hasta` (incluyendo `hasta`):\n"
   ]
  },
  {
   "cell_type": "code",
   "execution_count": 75,
   "metadata": {},
   "outputs": [
    {
     "name": "stdout",
     "output_type": "stream",
     "text": [
      "Tabla del 12:\n",
      "12 por 1 vale 12\n",
      "12 por 2 vale 24\n",
      "12 por 3 vale 36\n",
      "12 por 4 vale 48\n",
      "12 por 5 vale 60\n",
      "12 por 6 vale 72\n",
      "12 por 7 vale 84\n",
      "12 por 8 vale 96\n",
      "12 por 9 vale 108\n",
      "12 por 10 vale 120\n",
      "12 por 11 vale 132\n",
      "12 por 12 vale 144\n",
      "12 por 13 vale 156\n",
      "12 por 14 vale 168\n",
      "12 por 15 vale 180\n",
      "12 por 16 vale 192\n",
      "12 por 17 vale 204\n"
     ]
    }
   ],
   "source": [
    "def tablaMultiplicar(n, hasta):\n",
    "    \n",
    "    print(\"Tabla del \"+str(n)+\":\")\n",
    "    for j in range(1,hasta+1):\n",
    "        print(n, \"por\", j, \"vale\", n*j)\n",
    "\n",
    "tablaMultiplicar(12,17)"
   ]
  },
  {
   "cell_type": "markdown",
   "metadata": {},
   "source": [
    "Como normalmente las tablas de multiplicar se enseñan para valores entre 1 y 10, vamos a redefinir la función `tablaMultiplicar` para que asuma por defecto el valor `hasta = 10`:"
   ]
  },
  {
   "cell_type": "code",
   "execution_count": 76,
   "metadata": {},
   "outputs": [],
   "source": [
    "def tablaMultiplicar2(n, hasta = 10):  # Valor por defecto al argumento \"hasta\"\n",
    "    \n",
    "    print(\"Tabla del \"+str(n)+\":\")\n",
    "    for j in range(0,hasta+1):\n",
    "        print(n, \"por\", j, \"vale\", n*j)"
   ]
  },
  {
   "cell_type": "markdown",
   "metadata": {},
   "source": [
    "De este modo se puede llamar a la función `tablaMultiplicar2` sin necesidad de dar el segundo argumento `hasta`. En ese caso, se asume que la variable `hasta` vale 10:"
   ]
  },
  {
   "cell_type": "code",
   "execution_count": 77,
   "metadata": {},
   "outputs": [
    {
     "name": "stdout",
     "output_type": "stream",
     "text": [
      "Tabla del 7:\n",
      "7 por 0 vale 0\n",
      "7 por 1 vale 7\n",
      "7 por 2 vale 14\n",
      "7 por 3 vale 21\n",
      "7 por 4 vale 28\n",
      "7 por 5 vale 35\n",
      "7 por 6 vale 42\n",
      "7 por 7 vale 49\n",
      "7 por 8 vale 56\n",
      "7 por 9 vale 63\n",
      "7 por 10 vale 70\n"
     ]
    }
   ],
   "source": [
    "tablaMultiplicar2(7)"
   ]
  },
  {
   "cell_type": "markdown",
   "metadata": {},
   "source": [
    "...y no se pierde nada, en el sentido que el usuario puede asignar otro valor al argumento `hasta` si así lo desea:"
   ]
  },
  {
   "cell_type": "code",
   "execution_count": 78,
   "metadata": {},
   "outputs": [
    {
     "name": "stdout",
     "output_type": "stream",
     "text": [
      "Tabla del 7:\n",
      "7 por 0 vale 0\n",
      "7 por 1 vale 7\n",
      "7 por 2 vale 14\n",
      "7 por 3 vale 21\n",
      "7 por 4 vale 28\n",
      "7 por 5 vale 35\n",
      "7 por 6 vale 42\n",
      "7 por 7 vale 49\n",
      "7 por 8 vale 56\n",
      "7 por 9 vale 63\n",
      "7 por 10 vale 70\n",
      "7 por 11 vale 77\n",
      "7 por 12 vale 84\n",
      "7 por 13 vale 91\n",
      "7 por 14 vale 98\n",
      "7 por 15 vale 105\n",
      "7 por 16 vale 112\n",
      "7 por 17 vale 119\n"
     ]
    }
   ],
   "source": [
    "tablaMultiplicar2(7,17)"
   ]
  },
  {
   "cell_type": "code",
   "execution_count": 82,
   "metadata": {},
   "outputs": [
    {
     "data": {
      "text/plain": [
       "[2, 4, 6, 8, 10, 12, 14, 16, 18]"
      ]
     },
     "execution_count": 82,
     "metadata": {},
     "output_type": "execute_result"
    }
   ],
   "source": [
    "list(range(2,20,2))  # Este es un ejemplo de una función que tiene valores por defecto. "
   ]
  },
  {
   "cell_type": "code",
   "execution_count": 83,
   "metadata": {},
   "outputs": [
    {
     "name": "stdout",
     "output_type": "stream",
     "text": [
      "Help on built-in function log in module math:\n",
      "\n",
      "log(...)\n",
      "    log(x, [base=math.e])\n",
      "    Return the logarithm of x to the given base.\n",
      "    \n",
      "    If the base not specified, returns the natural logarithm (base e) of x.\n",
      "\n"
     ]
    }
   ],
   "source": [
    "help(math.log)  # La función log tiene base e por defecto (logaritmo natural)"
   ]
  },
  {
   "cell_type": "code",
   "execution_count": 84,
   "metadata": {},
   "outputs": [
    {
     "data": {
      "text/plain": [
       "1.6094379124341003"
      ]
     },
     "execution_count": 84,
     "metadata": {},
     "output_type": "execute_result"
    }
   ],
   "source": [
    "math.log(5)  # Se asume base e"
   ]
  },
  {
   "cell_type": "code",
   "execution_count": 85,
   "metadata": {},
   "outputs": [
    {
     "data": {
      "text/plain": [
       "1.0"
      ]
     },
     "execution_count": 85,
     "metadata": {},
     "output_type": "execute_result"
    }
   ],
   "source": [
    "math.log(5,5) # Se especifica base 5"
   ]
  },
  {
   "cell_type": "markdown",
   "metadata": {},
   "source": [
    "### Ejercicio\n",
    "\n",
    "1. Escriba una función `char_range` que tiene como argumentos tres enteros `inicio`, `fin` y `paso` y entregue un string análogo a `range(inicio, fin, paso)` salvo que con letras en vez de números. Los valores `inicio` y paso `deben` ser opcionales al igual que con `range`. \n",
    "\n",
    "Ejemplos:\n",
    "\n",
    "```python \n",
    "\n",
    ">>>char_range(5)\n",
    "'abcde'\n",
    "\n",
    ">>> char_range(8,15)\n",
    "'ijklmno'\n",
    "\n",
    ">>>char_range(2,20,2)\n",
    "'cegikmoqs'\n",
    "\n",
    "```\n",
    "**Hint:** Puede utilizar la función `chr(n)` que entrega el n-ésimo caracter, de acuerdo a una lista cuyo valor 97 correspodne a la letra \"a\" y el valor 122 la \"z\". \n",
    "\n"
   ]
  },
  {
   "cell_type": "code",
   "execution_count": 89,
   "metadata": {},
   "outputs": [
    {
     "data": {
      "text/plain": [
       "'abcdefghijklmnopqrstuvwxyz'"
      ]
     },
     "execution_count": 89,
     "metadata": {},
     "output_type": "execute_result"
    }
   ],
   "source": [
    "# Escribe aquí tu solución\n",
    "\n",
    "def char_range(inicio,fin = None,paso = 1):\n",
    "    \n",
    "    if(fin == None):\n",
    "        fin = inicio\n",
    "        inicio = 0\n",
    "    \n",
    "    salida = \"\"\n",
    "    for i in range(inicio,fin,paso):\n",
    "        salida += chr(97+i)\n",
    "        \n",
    "    return salida\n",
    "\n",
    "char_range(0,26,1)"
   ]
  },
  {
   "cell_type": "code",
   "execution_count": 91,
   "metadata": {},
   "outputs": [
    {
     "data": {
      "text/plain": [
       "'abcdefghijklmnopqrstuvwxyz'"
      ]
     },
     "execution_count": 91,
     "metadata": {},
     "output_type": "execute_result"
    }
   ],
   "source": [
    "char_range(26)"
   ]
  },
  {
   "cell_type": "code",
   "execution_count": 93,
   "metadata": {},
   "outputs": [
    {
     "data": {
      "text/plain": [
       "'fghijklmnopqrstuvwxyz'"
      ]
     },
     "execution_count": 93,
     "metadata": {},
     "output_type": "execute_result"
    }
   ],
   "source": [
    "char_range(5,26)"
   ]
  },
  {
   "cell_type": "code",
   "execution_count": 94,
   "metadata": {},
   "outputs": [
    {
     "data": {
      "text/plain": [
       "'acegikmoqsuwy'"
      ]
     },
     "execution_count": 94,
     "metadata": {},
     "output_type": "execute_result"
    }
   ],
   "source": [
    "char_range(0,26,2)"
   ]
  },
  {
   "cell_type": "markdown",
   "metadata": {},
   "source": [
    "2.\n",
    "Escriba una función `decimal_a_base` que tiene como argumentos dos enteros positivos, que llamaremos `n` y `b`. La función debe asumir que `n` está en base decimal, y lo va a transformar a la base `b`. Por lo tanto, la función retorna `numero_b` que corresponde a `n` en base `b`.  Además, el argumento `b` debe ser opcional, teniendo como valor por defecto `2`. \n",
    "\n",
    "```python\n",
    ">>>decimal_a_base(2,2)\n",
    "10\n",
    "\n",
    ">>>decimal_a_base(2)\n",
    "10\n",
    "\n",
    ">>>decimal_a_base(25)\n",
    "11001\n",
    "\n",
    ">>>decimal_a_base(807,4)\n",
    "30213\n",
    "\n",
    "\n",
    "```"
   ]
  },
  {
   "cell_type": "code",
   "execution_count": 98,
   "metadata": {},
   "outputs": [
    {
     "name": "stdout",
     "output_type": "stream",
     "text": [
      "10\n",
      "10\n",
      "11001\n",
      "30213\n",
      "101110101\n"
     ]
    }
   ],
   "source": [
    "# Escribe aquí tu solución\n",
    "\n",
    "def decimal_a_base(n, b = 2):\n",
    "    \n",
    "    salida = \"\"\n",
    "    \n",
    "    while(n > 0):\n",
    "        resto = n % b\n",
    "        salida = str(resto) + salida\n",
    "        n = int(n / b) # n // b es la división entera\n",
    "    \n",
    "    salida = int(salida)\n",
    "    \n",
    "    return(salida)\n",
    "\n",
    "# Revisamos los ejemplos\n",
    "\n",
    "print(decimal_a_base(2,2))\n",
    "\n",
    "print(decimal_a_base(2))\n",
    "\n",
    "print(decimal_a_base(25))\n",
    "\n",
    "print(decimal_a_base(807,4))\n",
    "\n",
    "print(decimal_a_base(373,2))"
   ]
  },
  {
   "cell_type": "markdown",
   "metadata": {},
   "source": [
    "### Modulos\n",
    "\n",
    "Los modulos (o librerías) permiten agrupar varias funciones en un solo archivo. Normalmente estas funciones tienen una usabilidad común (funciones matemáticas, operaciones vectoriales, cálculo simbólico, graficar, etc). \n",
    "\n",
    "Python viene preinstalado con varios módulos, que se pueden conocer con el comando `help('modules')`. En esta sección aprenderemos a utilizar y construir nuestros propios módulos. \n"
   ]
  },
  {
   "cell_type": "code",
   "execution_count": 99,
   "metadata": {},
   "outputs": [
    {
     "name": "stdout",
     "output_type": "stream",
     "text": [
      "\n",
      "Please wait a moment while I gather a list of all available modules...\n",
      "\n"
     ]
    },
    {
     "name": "stderr",
     "output_type": "stream",
     "text": [
      "/Users/pedromontealegre/opt/anaconda3/lib/python3.9/site-packages/IPython/kernel/__init__.py:12: ShimWarning: The `IPython.kernel` package has been deprecated since IPython 4.0.You should import from ipykernel or jupyter_client instead.\n",
      "  warn(\"The `IPython.kernel` package has been deprecated since IPython 4.0.\"\n",
      "WARNING: AstropyDeprecationWarning: The private astropy._erfa module has been made into its own package, pyerfa, which is a dependency of astropy and can be imported directly using \"import erfa\" [astropy._erfa]\n"
     ]
    },
    {
     "ename": "KeyboardInterrupt",
     "evalue": "",
     "output_type": "error",
     "traceback": [
      "\u001b[0;31m---------------------------------------------------------------------------\u001b[0m",
      "\u001b[0;31mKeyboardInterrupt\u001b[0m                         Traceback (most recent call last)",
      "\u001b[0;32m/var/folders/9g/j4nc58_s5_9cfzq4lmx_blbr0000gn/T/ipykernel_13808/2756529105.py\u001b[0m in \u001b[0;36m<module>\u001b[0;34m\u001b[0m\n\u001b[0;32m----> 1\u001b[0;31m \u001b[0mhelp\u001b[0m\u001b[0;34m(\u001b[0m\u001b[0;34m'modules'\u001b[0m\u001b[0;34m)\u001b[0m\u001b[0;34m\u001b[0m\u001b[0;34m\u001b[0m\u001b[0m\n\u001b[0m",
      "\u001b[0;32m~/opt/anaconda3/lib/python3.9/_sitebuiltins.py\u001b[0m in \u001b[0;36m__call__\u001b[0;34m(self, *args, **kwds)\u001b[0m\n\u001b[1;32m    101\u001b[0m     \u001b[0;32mdef\u001b[0m \u001b[0m__call__\u001b[0m\u001b[0;34m(\u001b[0m\u001b[0mself\u001b[0m\u001b[0;34m,\u001b[0m \u001b[0;34m*\u001b[0m\u001b[0margs\u001b[0m\u001b[0;34m,\u001b[0m \u001b[0;34m**\u001b[0m\u001b[0mkwds\u001b[0m\u001b[0;34m)\u001b[0m\u001b[0;34m:\u001b[0m\u001b[0;34m\u001b[0m\u001b[0;34m\u001b[0m\u001b[0m\n\u001b[1;32m    102\u001b[0m         \u001b[0;32mimport\u001b[0m \u001b[0mpydoc\u001b[0m\u001b[0;34m\u001b[0m\u001b[0;34m\u001b[0m\u001b[0m\n\u001b[0;32m--> 103\u001b[0;31m         \u001b[0;32mreturn\u001b[0m \u001b[0mpydoc\u001b[0m\u001b[0;34m.\u001b[0m\u001b[0mhelp\u001b[0m\u001b[0;34m(\u001b[0m\u001b[0;34m*\u001b[0m\u001b[0margs\u001b[0m\u001b[0;34m,\u001b[0m \u001b[0;34m**\u001b[0m\u001b[0mkwds\u001b[0m\u001b[0;34m)\u001b[0m\u001b[0;34m\u001b[0m\u001b[0;34m\u001b[0m\u001b[0m\n\u001b[0m",
      "\u001b[0;32m~/opt/anaconda3/lib/python3.9/pydoc.py\u001b[0m in \u001b[0;36m__call__\u001b[0;34m(self, request)\u001b[0m\n\u001b[1;32m   2004\u001b[0m     \u001b[0;32mdef\u001b[0m \u001b[0m__call__\u001b[0m\u001b[0;34m(\u001b[0m\u001b[0mself\u001b[0m\u001b[0;34m,\u001b[0m \u001b[0mrequest\u001b[0m\u001b[0;34m=\u001b[0m\u001b[0m_GoInteractive\u001b[0m\u001b[0;34m)\u001b[0m\u001b[0;34m:\u001b[0m\u001b[0;34m\u001b[0m\u001b[0;34m\u001b[0m\u001b[0m\n\u001b[1;32m   2005\u001b[0m         \u001b[0;32mif\u001b[0m \u001b[0mrequest\u001b[0m \u001b[0;32mis\u001b[0m \u001b[0;32mnot\u001b[0m \u001b[0mself\u001b[0m\u001b[0;34m.\u001b[0m\u001b[0m_GoInteractive\u001b[0m\u001b[0;34m:\u001b[0m\u001b[0;34m\u001b[0m\u001b[0;34m\u001b[0m\u001b[0m\n\u001b[0;32m-> 2006\u001b[0;31m             \u001b[0mself\u001b[0m\u001b[0;34m.\u001b[0m\u001b[0mhelp\u001b[0m\u001b[0;34m(\u001b[0m\u001b[0mrequest\u001b[0m\u001b[0;34m)\u001b[0m\u001b[0;34m\u001b[0m\u001b[0;34m\u001b[0m\u001b[0m\n\u001b[0m\u001b[1;32m   2007\u001b[0m         \u001b[0;32melse\u001b[0m\u001b[0;34m:\u001b[0m\u001b[0;34m\u001b[0m\u001b[0;34m\u001b[0m\u001b[0m\n\u001b[1;32m   2008\u001b[0m             \u001b[0mself\u001b[0m\u001b[0;34m.\u001b[0m\u001b[0mintro\u001b[0m\u001b[0;34m(\u001b[0m\u001b[0;34m)\u001b[0m\u001b[0;34m\u001b[0m\u001b[0;34m\u001b[0m\u001b[0m\n",
      "\u001b[0;32m~/opt/anaconda3/lib/python3.9/pydoc.py\u001b[0m in \u001b[0;36mhelp\u001b[0;34m(self, request)\u001b[0m\n\u001b[1;32m   2051\u001b[0m             \u001b[0;32melif\u001b[0m \u001b[0mrequest\u001b[0m \u001b[0;34m==\u001b[0m \u001b[0;34m'symbols'\u001b[0m\u001b[0;34m:\u001b[0m \u001b[0mself\u001b[0m\u001b[0;34m.\u001b[0m\u001b[0mlistsymbols\u001b[0m\u001b[0;34m(\u001b[0m\u001b[0;34m)\u001b[0m\u001b[0;34m\u001b[0m\u001b[0;34m\u001b[0m\u001b[0m\n\u001b[1;32m   2052\u001b[0m             \u001b[0;32melif\u001b[0m \u001b[0mrequest\u001b[0m \u001b[0;34m==\u001b[0m \u001b[0;34m'topics'\u001b[0m\u001b[0;34m:\u001b[0m \u001b[0mself\u001b[0m\u001b[0;34m.\u001b[0m\u001b[0mlisttopics\u001b[0m\u001b[0;34m(\u001b[0m\u001b[0;34m)\u001b[0m\u001b[0;34m\u001b[0m\u001b[0;34m\u001b[0m\u001b[0m\n\u001b[0;32m-> 2053\u001b[0;31m             \u001b[0;32melif\u001b[0m \u001b[0mrequest\u001b[0m \u001b[0;34m==\u001b[0m \u001b[0;34m'modules'\u001b[0m\u001b[0;34m:\u001b[0m \u001b[0mself\u001b[0m\u001b[0;34m.\u001b[0m\u001b[0mlistmodules\u001b[0m\u001b[0;34m(\u001b[0m\u001b[0;34m)\u001b[0m\u001b[0;34m\u001b[0m\u001b[0;34m\u001b[0m\u001b[0m\n\u001b[0m\u001b[1;32m   2054\u001b[0m             \u001b[0;32melif\u001b[0m \u001b[0mrequest\u001b[0m\u001b[0;34m[\u001b[0m\u001b[0;34m:\u001b[0m\u001b[0;36m8\u001b[0m\u001b[0;34m]\u001b[0m \u001b[0;34m==\u001b[0m \u001b[0;34m'modules '\u001b[0m\u001b[0;34m:\u001b[0m\u001b[0;34m\u001b[0m\u001b[0;34m\u001b[0m\u001b[0m\n\u001b[1;32m   2055\u001b[0m                 \u001b[0mself\u001b[0m\u001b[0;34m.\u001b[0m\u001b[0mlistmodules\u001b[0m\u001b[0;34m(\u001b[0m\u001b[0mrequest\u001b[0m\u001b[0;34m.\u001b[0m\u001b[0msplit\u001b[0m\u001b[0;34m(\u001b[0m\u001b[0;34m)\u001b[0m\u001b[0;34m[\u001b[0m\u001b[0;36m1\u001b[0m\u001b[0;34m]\u001b[0m\u001b[0;34m)\u001b[0m\u001b[0;34m\u001b[0m\u001b[0;34m\u001b[0m\u001b[0m\n",
      "\u001b[0;32m~/opt/anaconda3/lib/python3.9/pydoc.py\u001b[0m in \u001b[0;36mlistmodules\u001b[0;34m(self, key)\u001b[0m\n\u001b[1;32m   2203\u001b[0m             \u001b[0;32mdef\u001b[0m \u001b[0monerror\u001b[0m\u001b[0;34m(\u001b[0m\u001b[0mmodname\u001b[0m\u001b[0;34m)\u001b[0m\u001b[0;34m:\u001b[0m\u001b[0;34m\u001b[0m\u001b[0;34m\u001b[0m\u001b[0m\n\u001b[1;32m   2204\u001b[0m                 \u001b[0mcallback\u001b[0m\u001b[0;34m(\u001b[0m\u001b[0;32mNone\u001b[0m\u001b[0;34m,\u001b[0m \u001b[0mmodname\u001b[0m\u001b[0;34m,\u001b[0m \u001b[0;32mNone\u001b[0m\u001b[0;34m)\u001b[0m\u001b[0;34m\u001b[0m\u001b[0;34m\u001b[0m\u001b[0m\n\u001b[0;32m-> 2205\u001b[0;31m             \u001b[0mModuleScanner\u001b[0m\u001b[0;34m(\u001b[0m\u001b[0;34m)\u001b[0m\u001b[0;34m.\u001b[0m\u001b[0mrun\u001b[0m\u001b[0;34m(\u001b[0m\u001b[0mcallback\u001b[0m\u001b[0;34m,\u001b[0m \u001b[0monerror\u001b[0m\u001b[0;34m=\u001b[0m\u001b[0monerror\u001b[0m\u001b[0;34m)\u001b[0m\u001b[0;34m\u001b[0m\u001b[0;34m\u001b[0m\u001b[0m\n\u001b[0m\u001b[1;32m   2206\u001b[0m             \u001b[0mself\u001b[0m\u001b[0;34m.\u001b[0m\u001b[0mlist\u001b[0m\u001b[0;34m(\u001b[0m\u001b[0mmodules\u001b[0m\u001b[0;34m.\u001b[0m\u001b[0mkeys\u001b[0m\u001b[0;34m(\u001b[0m\u001b[0;34m)\u001b[0m\u001b[0;34m)\u001b[0m\u001b[0;34m\u001b[0m\u001b[0;34m\u001b[0m\u001b[0m\n\u001b[1;32m   2207\u001b[0m             self.output.write('''\n",
      "\u001b[0;32m~/opt/anaconda3/lib/python3.9/pydoc.py\u001b[0m in \u001b[0;36mrun\u001b[0;34m(self, callback, key, completer, onerror)\u001b[0m\n\u001b[1;32m   2232\u001b[0m                         \u001b[0mcallback\u001b[0m\u001b[0;34m(\u001b[0m\u001b[0;32mNone\u001b[0m\u001b[0;34m,\u001b[0m \u001b[0mmodname\u001b[0m\u001b[0;34m,\u001b[0m \u001b[0mdesc\u001b[0m\u001b[0;34m)\u001b[0m\u001b[0;34m\u001b[0m\u001b[0;34m\u001b[0m\u001b[0m\n\u001b[1;32m   2233\u001b[0m \u001b[0;34m\u001b[0m\u001b[0m\n\u001b[0;32m-> 2234\u001b[0;31m         \u001b[0;32mfor\u001b[0m \u001b[0mimporter\u001b[0m\u001b[0;34m,\u001b[0m \u001b[0mmodname\u001b[0m\u001b[0;34m,\u001b[0m \u001b[0mispkg\u001b[0m \u001b[0;32min\u001b[0m \u001b[0mpkgutil\u001b[0m\u001b[0;34m.\u001b[0m\u001b[0mwalk_packages\u001b[0m\u001b[0;34m(\u001b[0m\u001b[0monerror\u001b[0m\u001b[0;34m=\u001b[0m\u001b[0monerror\u001b[0m\u001b[0;34m)\u001b[0m\u001b[0;34m:\u001b[0m\u001b[0;34m\u001b[0m\u001b[0;34m\u001b[0m\u001b[0m\n\u001b[0m\u001b[1;32m   2235\u001b[0m             \u001b[0;32mif\u001b[0m \u001b[0mself\u001b[0m\u001b[0;34m.\u001b[0m\u001b[0mquit\u001b[0m\u001b[0;34m:\u001b[0m\u001b[0;34m\u001b[0m\u001b[0;34m\u001b[0m\u001b[0m\n\u001b[1;32m   2236\u001b[0m                 \u001b[0;32mbreak\u001b[0m\u001b[0;34m\u001b[0m\u001b[0;34m\u001b[0m\u001b[0m\n",
      "\u001b[0;32m~/opt/anaconda3/lib/python3.9/pkgutil.py\u001b[0m in \u001b[0;36mwalk_packages\u001b[0;34m(path, prefix, onerror)\u001b[0m\n\u001b[1;32m    106\u001b[0m                 \u001b[0mpath\u001b[0m \u001b[0;34m=\u001b[0m \u001b[0;34m[\u001b[0m\u001b[0mp\u001b[0m \u001b[0;32mfor\u001b[0m \u001b[0mp\u001b[0m \u001b[0;32min\u001b[0m \u001b[0mpath\u001b[0m \u001b[0;32mif\u001b[0m \u001b[0;32mnot\u001b[0m \u001b[0mseen\u001b[0m\u001b[0;34m(\u001b[0m\u001b[0mp\u001b[0m\u001b[0;34m)\u001b[0m\u001b[0;34m]\u001b[0m\u001b[0;34m\u001b[0m\u001b[0;34m\u001b[0m\u001b[0m\n\u001b[1;32m    107\u001b[0m \u001b[0;34m\u001b[0m\u001b[0m\n\u001b[0;32m--> 108\u001b[0;31m                 \u001b[0;32myield\u001b[0m \u001b[0;32mfrom\u001b[0m \u001b[0mwalk_packages\u001b[0m\u001b[0;34m(\u001b[0m\u001b[0mpath\u001b[0m\u001b[0;34m,\u001b[0m \u001b[0minfo\u001b[0m\u001b[0;34m.\u001b[0m\u001b[0mname\u001b[0m\u001b[0;34m+\u001b[0m\u001b[0;34m'.'\u001b[0m\u001b[0;34m,\u001b[0m \u001b[0monerror\u001b[0m\u001b[0;34m)\u001b[0m\u001b[0;34m\u001b[0m\u001b[0;34m\u001b[0m\u001b[0m\n\u001b[0m\u001b[1;32m    109\u001b[0m \u001b[0;34m\u001b[0m\u001b[0m\n\u001b[1;32m    110\u001b[0m \u001b[0;34m\u001b[0m\u001b[0m\n",
      "\u001b[0;32m~/opt/anaconda3/lib/python3.9/pkgutil.py\u001b[0m in \u001b[0;36mwalk_packages\u001b[0;34m(path, prefix, onerror)\u001b[0m\n\u001b[1;32m     91\u001b[0m         \u001b[0;32mif\u001b[0m \u001b[0minfo\u001b[0m\u001b[0;34m.\u001b[0m\u001b[0mispkg\u001b[0m\u001b[0;34m:\u001b[0m\u001b[0;34m\u001b[0m\u001b[0;34m\u001b[0m\u001b[0m\n\u001b[1;32m     92\u001b[0m             \u001b[0;32mtry\u001b[0m\u001b[0;34m:\u001b[0m\u001b[0;34m\u001b[0m\u001b[0;34m\u001b[0m\u001b[0m\n\u001b[0;32m---> 93\u001b[0;31m                 \u001b[0m__import__\u001b[0m\u001b[0;34m(\u001b[0m\u001b[0minfo\u001b[0m\u001b[0;34m.\u001b[0m\u001b[0mname\u001b[0m\u001b[0;34m)\u001b[0m\u001b[0;34m\u001b[0m\u001b[0;34m\u001b[0m\u001b[0m\n\u001b[0m\u001b[1;32m     94\u001b[0m             \u001b[0;32mexcept\u001b[0m \u001b[0mImportError\u001b[0m\u001b[0;34m:\u001b[0m\u001b[0;34m\u001b[0m\u001b[0;34m\u001b[0m\u001b[0m\n\u001b[1;32m     95\u001b[0m                 \u001b[0;32mif\u001b[0m \u001b[0monerror\u001b[0m \u001b[0;32mis\u001b[0m \u001b[0;32mnot\u001b[0m \u001b[0;32mNone\u001b[0m\u001b[0;34m:\u001b[0m\u001b[0;34m\u001b[0m\u001b[0;34m\u001b[0m\u001b[0m\n",
      "\u001b[0;32m~/opt/anaconda3/lib/python3.9/site-packages/dask/array/__init__.py\u001b[0m in \u001b[0;36m<module>\u001b[0;34m\u001b[0m\n\u001b[1;32m      1\u001b[0m \u001b[0;32mtry\u001b[0m\u001b[0;34m:\u001b[0m\u001b[0;34m\u001b[0m\u001b[0;34m\u001b[0m\u001b[0m\n\u001b[0;32m----> 2\u001b[0;31m     \u001b[0;32mfrom\u001b[0m \u001b[0mdask\u001b[0m\u001b[0;34m.\u001b[0m\u001b[0marray\u001b[0m \u001b[0;32mimport\u001b[0m \u001b[0mbackends\u001b[0m\u001b[0;34m,\u001b[0m \u001b[0mfft\u001b[0m\u001b[0;34m,\u001b[0m \u001b[0mlib\u001b[0m\u001b[0;34m,\u001b[0m \u001b[0mlinalg\u001b[0m\u001b[0;34m,\u001b[0m \u001b[0mma\u001b[0m\u001b[0;34m,\u001b[0m \u001b[0moverlap\u001b[0m\u001b[0;34m,\u001b[0m \u001b[0mrandom\u001b[0m\u001b[0;34m\u001b[0m\u001b[0;34m\u001b[0m\u001b[0m\n\u001b[0m\u001b[1;32m      3\u001b[0m     \u001b[0;32mfrom\u001b[0m \u001b[0mdask\u001b[0m\u001b[0;34m.\u001b[0m\u001b[0marray\u001b[0m\u001b[0;34m.\u001b[0m\u001b[0mblockwise\u001b[0m \u001b[0;32mimport\u001b[0m \u001b[0matop\u001b[0m\u001b[0;34m,\u001b[0m \u001b[0mblockwise\u001b[0m\u001b[0;34m\u001b[0m\u001b[0;34m\u001b[0m\u001b[0m\n\u001b[1;32m      4\u001b[0m     \u001b[0;32mfrom\u001b[0m \u001b[0mdask\u001b[0m\u001b[0;34m.\u001b[0m\u001b[0marray\u001b[0m\u001b[0;34m.\u001b[0m\u001b[0mchunk_types\u001b[0m \u001b[0;32mimport\u001b[0m \u001b[0mregister_chunk_type\u001b[0m\u001b[0;34m\u001b[0m\u001b[0;34m\u001b[0m\u001b[0m\n\u001b[1;32m      5\u001b[0m     from dask.array.core import (\n",
      "\u001b[0;32m~/opt/anaconda3/lib/python3.9/site-packages/dask/array/backends.py\u001b[0m in \u001b[0;36m<module>\u001b[0;34m\u001b[0m\n\u001b[1;32m     11\u001b[0m \u001b[0;32mfrom\u001b[0m \u001b[0mdask\u001b[0m\u001b[0;34m.\u001b[0m\u001b[0marray\u001b[0m\u001b[0;34m.\u001b[0m\u001b[0mnumpy_compat\u001b[0m \u001b[0;32mimport\u001b[0m \u001b[0mdivide\u001b[0m \u001b[0;32mas\u001b[0m \u001b[0mnp_divide\u001b[0m\u001b[0;34m\u001b[0m\u001b[0;34m\u001b[0m\u001b[0m\n\u001b[1;32m     12\u001b[0m \u001b[0;32mfrom\u001b[0m \u001b[0mdask\u001b[0m\u001b[0;34m.\u001b[0m\u001b[0marray\u001b[0m\u001b[0;34m.\u001b[0m\u001b[0mnumpy_compat\u001b[0m \u001b[0;32mimport\u001b[0m \u001b[0mma_divide\u001b[0m\u001b[0;34m\u001b[0m\u001b[0;34m\u001b[0m\u001b[0m\n\u001b[0;32m---> 13\u001b[0;31m \u001b[0;32mfrom\u001b[0m \u001b[0mdask\u001b[0m\u001b[0;34m.\u001b[0m\u001b[0marray\u001b[0m\u001b[0;34m.\u001b[0m\u001b[0mpercentile\u001b[0m \u001b[0;32mimport\u001b[0m \u001b[0m_percentile\u001b[0m\u001b[0;34m\u001b[0m\u001b[0;34m\u001b[0m\u001b[0m\n\u001b[0m\u001b[1;32m     14\u001b[0m \u001b[0;34m\u001b[0m\u001b[0m\n\u001b[1;32m     15\u001b[0m \u001b[0mconcatenate_lookup\u001b[0m\u001b[0;34m.\u001b[0m\u001b[0mregister\u001b[0m\u001b[0;34m(\u001b[0m\u001b[0;34m(\u001b[0m\u001b[0mobject\u001b[0m\u001b[0;34m,\u001b[0m \u001b[0mnp\u001b[0m\u001b[0;34m.\u001b[0m\u001b[0mndarray\u001b[0m\u001b[0;34m)\u001b[0m\u001b[0;34m,\u001b[0m \u001b[0mnp\u001b[0m\u001b[0;34m.\u001b[0m\u001b[0mconcatenate\u001b[0m\u001b[0;34m)\u001b[0m\u001b[0;34m\u001b[0m\u001b[0;34m\u001b[0m\u001b[0m\n",
      "\u001b[0;32m~/opt/anaconda3/lib/python3.9/site-packages/dask/array/percentile.py\u001b[0m in \u001b[0;36m<module>\u001b[0;34m\u001b[0m\n\u001b[1;32m      7\u001b[0m \u001b[0;32mfrom\u001b[0m \u001b[0mtlz\u001b[0m \u001b[0;32mimport\u001b[0m \u001b[0mmerge\u001b[0m\u001b[0;34m\u001b[0m\u001b[0;34m\u001b[0m\u001b[0m\n\u001b[1;32m      8\u001b[0m \u001b[0;34m\u001b[0m\u001b[0m\n\u001b[0;32m----> 9\u001b[0;31m \u001b[0;32mfrom\u001b[0m \u001b[0mdask\u001b[0m\u001b[0;34m.\u001b[0m\u001b[0marray\u001b[0m\u001b[0;34m.\u001b[0m\u001b[0mcore\u001b[0m \u001b[0;32mimport\u001b[0m \u001b[0mArray\u001b[0m\u001b[0;34m\u001b[0m\u001b[0;34m\u001b[0m\u001b[0m\n\u001b[0m\u001b[1;32m     10\u001b[0m \u001b[0;32mfrom\u001b[0m \u001b[0mdask\u001b[0m\u001b[0;34m.\u001b[0m\u001b[0marray\u001b[0m\u001b[0;34m.\u001b[0m\u001b[0mnumpy_compat\u001b[0m \u001b[0;32mimport\u001b[0m \u001b[0m_numpy_122\u001b[0m\u001b[0;34m\u001b[0m\u001b[0;34m\u001b[0m\u001b[0m\n\u001b[1;32m     11\u001b[0m \u001b[0;32mfrom\u001b[0m \u001b[0mdask\u001b[0m\u001b[0;34m.\u001b[0m\u001b[0marray\u001b[0m\u001b[0;34m.\u001b[0m\u001b[0mnumpy_compat\u001b[0m \u001b[0;32mimport\u001b[0m \u001b[0mpercentile\u001b[0m \u001b[0;32mas\u001b[0m \u001b[0mnp_percentile\u001b[0m\u001b[0;34m\u001b[0m\u001b[0;34m\u001b[0m\u001b[0m\n",
      "\u001b[0;32m~/opt/anaconda3/lib/python3.9/site-packages/dask/array/core.py\u001b[0m in \u001b[0;36m<module>\u001b[0;34m\u001b[0m\n\u001b[1;32m     28\u001b[0m \u001b[0;34m\u001b[0m\u001b[0m\n\u001b[1;32m     29\u001b[0m \u001b[0;32mimport\u001b[0m \u001b[0mnumpy\u001b[0m \u001b[0;32mas\u001b[0m \u001b[0mnp\u001b[0m\u001b[0;34m\u001b[0m\u001b[0;34m\u001b[0m\u001b[0m\n\u001b[0;32m---> 30\u001b[0;31m \u001b[0;32mfrom\u001b[0m \u001b[0mfsspec\u001b[0m \u001b[0;32mimport\u001b[0m \u001b[0mget_mapper\u001b[0m\u001b[0;34m\u001b[0m\u001b[0;34m\u001b[0m\u001b[0m\n\u001b[0m\u001b[1;32m     31\u001b[0m \u001b[0;32mfrom\u001b[0m \u001b[0mtlz\u001b[0m \u001b[0;32mimport\u001b[0m \u001b[0maccumulate\u001b[0m\u001b[0;34m,\u001b[0m \u001b[0mconcat\u001b[0m\u001b[0;34m,\u001b[0m \u001b[0mfirst\u001b[0m\u001b[0;34m,\u001b[0m \u001b[0mfrequencies\u001b[0m\u001b[0;34m,\u001b[0m \u001b[0mgroupby\u001b[0m\u001b[0;34m,\u001b[0m \u001b[0mpartition\u001b[0m\u001b[0;34m\u001b[0m\u001b[0;34m\u001b[0m\u001b[0m\n\u001b[1;32m     32\u001b[0m \u001b[0;32mfrom\u001b[0m \u001b[0mtlz\u001b[0m\u001b[0;34m.\u001b[0m\u001b[0mcurried\u001b[0m \u001b[0;32mimport\u001b[0m \u001b[0mpluck\u001b[0m\u001b[0;34m\u001b[0m\u001b[0;34m\u001b[0m\u001b[0m\n",
      "\u001b[0;32m~/opt/anaconda3/lib/python3.9/site-packages/fsspec/__init__.py\u001b[0m in \u001b[0;36m<module>\u001b[0;34m\u001b[0m\n\u001b[1;32m     10\u001b[0m \u001b[0;32mfrom\u001b[0m \u001b[0;34m.\u001b[0m \u001b[0;32mimport\u001b[0m \u001b[0m_version\u001b[0m\u001b[0;34m,\u001b[0m \u001b[0mcaching\u001b[0m\u001b[0;34m\u001b[0m\u001b[0;34m\u001b[0m\u001b[0m\n\u001b[1;32m     11\u001b[0m \u001b[0;32mfrom\u001b[0m \u001b[0;34m.\u001b[0m\u001b[0mcallbacks\u001b[0m \u001b[0;32mimport\u001b[0m \u001b[0mCallback\u001b[0m\u001b[0;34m\u001b[0m\u001b[0;34m\u001b[0m\u001b[0m\n\u001b[0;32m---> 12\u001b[0;31m \u001b[0;32mfrom\u001b[0m \u001b[0;34m.\u001b[0m\u001b[0mcompression\u001b[0m \u001b[0;32mimport\u001b[0m \u001b[0mavailable_compressions\u001b[0m\u001b[0;34m\u001b[0m\u001b[0;34m\u001b[0m\u001b[0m\n\u001b[0m\u001b[1;32m     13\u001b[0m \u001b[0;32mfrom\u001b[0m \u001b[0;34m.\u001b[0m\u001b[0mcore\u001b[0m \u001b[0;32mimport\u001b[0m \u001b[0mget_fs_token_paths\u001b[0m\u001b[0;34m,\u001b[0m \u001b[0mopen\u001b[0m\u001b[0;34m,\u001b[0m \u001b[0mopen_files\u001b[0m\u001b[0;34m,\u001b[0m \u001b[0mopen_local\u001b[0m\u001b[0;34m\u001b[0m\u001b[0;34m\u001b[0m\u001b[0m\n\u001b[1;32m     14\u001b[0m \u001b[0;32mfrom\u001b[0m \u001b[0;34m.\u001b[0m\u001b[0mexceptions\u001b[0m \u001b[0;32mimport\u001b[0m \u001b[0mFSTimeoutError\u001b[0m\u001b[0;34m\u001b[0m\u001b[0;34m\u001b[0m\u001b[0m\n",
      "\u001b[0;32m~/opt/anaconda3/lib/python3.9/site-packages/fsspec/compression.py\u001b[0m in \u001b[0;36m<module>\u001b[0;34m\u001b[0m\n\u001b[1;32m    136\u001b[0m \u001b[0;34m\u001b[0m\u001b[0m\n\u001b[1;32m    137\u001b[0m \u001b[0;32mtry\u001b[0m\u001b[0;34m:\u001b[0m\u001b[0;34m\u001b[0m\u001b[0;34m\u001b[0m\u001b[0m\n\u001b[0;32m--> 138\u001b[0;31m     \u001b[0;32mimport\u001b[0m \u001b[0msnappy\u001b[0m\u001b[0;34m\u001b[0m\u001b[0;34m\u001b[0m\u001b[0m\n\u001b[0m\u001b[1;32m    139\u001b[0m \u001b[0;34m\u001b[0m\u001b[0m\n\u001b[1;32m    140\u001b[0m     \u001b[0msnappy\u001b[0m\u001b[0;34m.\u001b[0m\u001b[0mcompress\u001b[0m\u001b[0;34m\u001b[0m\u001b[0;34m\u001b[0m\u001b[0m\n",
      "\u001b[0;32m~/opt/anaconda3/lib/python3.9/site-packages/snappy/__init__.py\u001b[0m in \u001b[0;36m<module>\u001b[0;34m\u001b[0m\n\u001b[1;32m      1\u001b[0m \u001b[0;32mfrom\u001b[0m \u001b[0m__future__\u001b[0m \u001b[0;32mimport\u001b[0m \u001b[0mabsolute_import\u001b[0m\u001b[0;34m\u001b[0m\u001b[0;34m\u001b[0m\u001b[0m\n\u001b[1;32m      2\u001b[0m \u001b[0;34m\u001b[0m\u001b[0m\n\u001b[0;32m----> 3\u001b[0;31m from .snappy import (\n\u001b[0m\u001b[1;32m      4\u001b[0m         \u001b[0mcompress\u001b[0m\u001b[0;34m,\u001b[0m\u001b[0;34m\u001b[0m\u001b[0;34m\u001b[0m\u001b[0m\n\u001b[1;32m      5\u001b[0m         \u001b[0mdecompress\u001b[0m\u001b[0;34m,\u001b[0m\u001b[0;34m\u001b[0m\u001b[0;34m\u001b[0m\u001b[0m\n",
      "\u001b[0;32m~/opt/anaconda3/lib/python3.9/site-packages/snappy/snappy.py\u001b[0m in \u001b[0;36m<module>\u001b[0;34m\u001b[0m\n\u001b[1;32m     46\u001b[0m \u001b[0;34m\u001b[0m\u001b[0m\n\u001b[1;32m     47\u001b[0m \u001b[0;32mtry\u001b[0m\u001b[0;34m:\u001b[0m\u001b[0;34m\u001b[0m\u001b[0;34m\u001b[0m\u001b[0m\n\u001b[0;32m---> 48\u001b[0;31m     \u001b[0;32mfrom\u001b[0m \u001b[0;34m.\u001b[0m\u001b[0m_snappy\u001b[0m \u001b[0;32mimport\u001b[0m \u001b[0mUncompressError\u001b[0m\u001b[0;34m,\u001b[0m \u001b[0mcompress\u001b[0m\u001b[0;34m,\u001b[0m \u001b[0mdecompress\u001b[0m\u001b[0;34m,\u001b[0m\u001b[0;31m \u001b[0m\u001b[0;31m\\\u001b[0m\u001b[0;34m\u001b[0m\u001b[0;34m\u001b[0m\u001b[0m\n\u001b[0m\u001b[1;32m     49\u001b[0m                          \u001b[0misValidCompressed\u001b[0m\u001b[0;34m,\u001b[0m \u001b[0muncompress\u001b[0m\u001b[0;34m,\u001b[0m \u001b[0m_crc32c\u001b[0m\u001b[0;34m\u001b[0m\u001b[0;34m\u001b[0m\u001b[0m\n\u001b[1;32m     50\u001b[0m \u001b[0;32mexcept\u001b[0m \u001b[0mImportError\u001b[0m\u001b[0;34m:\u001b[0m\u001b[0;34m\u001b[0m\u001b[0;34m\u001b[0m\u001b[0m\n",
      "\u001b[0;31mKeyboardInterrupt\u001b[0m: "
     ]
    }
   ],
   "source": [
    "help('modules')"
   ]
  },
  {
   "cell_type": "markdown",
   "metadata": {},
   "source": [
    "### Importando módulos\n",
    "Como hemos visto anteriormente, para acceder a las funciones de un módulo se utiliza el comando `import`. Por ejemplo, para acceder al módulo de herramientas matemáticas lo hacemos con el comando:"
   ]
  },
  {
   "cell_type": "code",
   "execution_count": 100,
   "metadata": {},
   "outputs": [],
   "source": [
    "import math"
   ]
  },
  {
   "cell_type": "markdown",
   "metadata": {},
   "source": [
    "Este comando va a agregar el nombre `math` al *espacio de nombres* (namespace) donde el comando ha sido llamado. Los nombres definidos en el módulo `math` no se agregan directamente, sino que se debe acceder a ellos a través del nombre `math.`. Por ejemplo `math.sin`."
   ]
  },
  {
   "cell_type": "code",
   "execution_count": 101,
   "metadata": {},
   "outputs": [
    {
     "data": {
      "text/plain": [
       "0.8414709848078965"
      ]
     },
     "execution_count": 101,
     "metadata": {},
     "output_type": "execute_result"
    }
   ],
   "source": [
    "math.sin(1)"
   ]
  },
  {
   "cell_type": "code",
   "execution_count": 102,
   "metadata": {},
   "outputs": [
    {
     "data": {
      "text/plain": [
       "-1.0"
      ]
     },
     "execution_count": 102,
     "metadata": {},
     "output_type": "execute_result"
    }
   ],
   "source": [
    "math.cos(math.pi)"
   ]
  },
  {
   "cell_type": "markdown",
   "metadata": {},
   "source": [
    "Se puede importar más de un módulo en la misma línea:"
   ]
  },
  {
   "cell_type": "code",
   "execution_count": null,
   "metadata": {},
   "outputs": [],
   "source": [
    "import math, cmath # cmath es una librería de funciones matemáticas para números complejos"
   ]
  },
  {
   "cell_type": "markdown",
   "metadata": {},
   "source": [
    "Pero la guía de estilos Pyhton [Python Style Guide](http://www.python.org/dev/peps/pep-0008/) recomienda no hacerlo. En cambio, escribimos:"
   ]
  },
  {
   "cell_type": "code",
   "execution_count": null,
   "metadata": {},
   "outputs": [],
   "source": [
    "import math\n",
    "import cmath "
   ]
  },
  {
   "cell_type": "markdown",
   "metadata": {},
   "source": [
    "Se puede escoger un nombre para un módulo distinto a su nombre \"oficial\"."
   ]
  },
  {
   "cell_type": "code",
   "execution_count": 103,
   "metadata": {},
   "outputs": [],
   "source": [
    "import math as mathematics"
   ]
  },
  {
   "cell_type": "code",
   "execution_count": 104,
   "metadata": {},
   "outputs": [
    {
     "data": {
      "text/plain": [
       "0.8414709848078965"
      ]
     },
     "execution_count": 104,
     "metadata": {},
     "output_type": "execute_result"
    }
   ],
   "source": [
    "mathematics.sin(1)"
   ]
  },
  {
   "cell_type": "code",
   "execution_count": 105,
   "metadata": {},
   "outputs": [],
   "source": [
    "import math as mt"
   ]
  },
  {
   "cell_type": "code",
   "execution_count": 106,
   "metadata": {},
   "outputs": [
    {
     "data": {
      "text/plain": [
       "0.8414709848078965"
      ]
     },
     "execution_count": 106,
     "metadata": {},
     "output_type": "execute_result"
    }
   ],
   "source": [
    "mt.sin(1)"
   ]
  },
  {
   "cell_type": "markdown",
   "metadata": {},
   "source": [
    "Tipicamente esto se usa para:\n",
    "\n",
    "-   Evitar coincidencias con otros nombres\n",
    "\n",
    "-   Para cambiar el nombre a algo más manejable. Por ejemplo `import SimpleHTTPServer as shs` \n"
   ]
  },
  {
   "cell_type": "markdown",
   "metadata": {},
   "source": [
    "También se pueden importar objetos individuales de un módulo. Por ejemplo el siguiente código:"
   ]
  },
  {
   "cell_type": "code",
   "execution_count": 107,
   "metadata": {},
   "outputs": [],
   "source": [
    "from math import sin"
   ]
  },
  {
   "cell_type": "markdown",
   "metadata": {},
   "source": [
    "Va a importar la función `sin` del módulo `math`. Este código no va a agregar el nombre `math` al espacio de nombres actual, solo el nombre `sin`. "
   ]
  },
  {
   "cell_type": "code",
   "execution_count": 108,
   "metadata": {},
   "outputs": [
    {
     "data": {
      "text/plain": [
       "0.8414709848078965"
      ]
     },
     "execution_count": 108,
     "metadata": {},
     "output_type": "execute_result"
    }
   ],
   "source": [
    "sin(1)"
   ]
  },
  {
   "cell_type": "markdown",
   "metadata": {},
   "source": [
    "Es posible importar más de un nombre a la vez:"
   ]
  },
  {
   "cell_type": "code",
   "execution_count": 109,
   "metadata": {},
   "outputs": [],
   "source": [
    "from math import sin, cos"
   ]
  },
  {
   "cell_type": "code",
   "execution_count": null,
   "metadata": {},
   "outputs": [],
   "source": [
    "cos(0)"
   ]
  },
  {
   "cell_type": "markdown",
   "metadata": {},
   "source": [
    "o bien todos los nombres del módulo:"
   ]
  },
  {
   "cell_type": "code",
   "execution_count": 110,
   "metadata": {},
   "outputs": [],
   "source": [
    "from math import *"
   ]
  },
  {
   "cell_type": "code",
   "execution_count": 111,
   "metadata": {},
   "outputs": [
    {
     "data": {
      "text/plain": [
       "3.141592653589793"
      ]
     },
     "execution_count": 111,
     "metadata": {},
     "output_type": "execute_result"
    }
   ],
   "source": [
    "pi"
   ]
  },
  {
   "cell_type": "markdown",
   "metadata": {},
   "source": [
    "Una vez más, esto no va a agregar el nombre `math` al espacio de nombres actual. Sin embargo va a agregar todos los nombres *publicos* del módulo math al espacio de nombres. En general, es una mala idea hacer esto:\n",
    "\n",
    "-   Muchos nombres no utilizados se van a guardar inecesariamente en el espacio de nombres. \n",
    "\n",
    "-   Probablemente se van a reescribir nombres ya existentes. \n",
    "\n",
    "-   Se hará difícil identificar de qué módulo vienen los nombres."
   ]
  },
  {
   "cell_type": "markdown",
   "metadata": {},
   "source": [
    "### Creando módulos\n",
    "\n",
    "Un módulo es en principio simplemente un archivo Python.\n",
    "\n",
    "Crearemos un ejemplo de un módulo, que guardaremos como `modulo1.py`:"
   ]
  },
  {
   "cell_type": "code",
   "execution_count": 115,
   "metadata": {},
   "outputs": [
    {
     "name": "stdout",
     "output_type": "stream",
     "text": [
      "Overwriting modulo1.py\n"
     ]
    }
   ],
   "source": [
    "%%file modulo1.py\n",
    "def unaFuncionMuyUtil(y):\n",
    "    x = y+1\n",
    "    return x\n",
    "\n",
    "palabraMagica = \"abracadabra\""
   ]
  },
  {
   "cell_type": "markdown",
   "metadata": {},
   "source": [
    "Este módulo contiene dos objetos: la función llamada `unaFuncionMuyUtil` y una variable `palabraMagica`.\n",
    "\n",
    "Podemos ejecutar este archivo (módulo) al igual que cualquier programa Python (por ejemplo escribiendo `python module1.py` en una consola). En este archivo Jupyter escribimos:"
   ]
  },
  {
   "cell_type": "code",
   "execution_count": 113,
   "metadata": {},
   "outputs": [],
   "source": [
    "!python3 modulo1.py"
   ]
  },
  {
   "cell_type": "markdown",
   "metadata": {},
   "source": [
    "También podemos importar el módulo:"
   ]
  },
  {
   "cell_type": "code",
   "execution_count": 114,
   "metadata": {},
   "outputs": [],
   "source": [
    "import modulo1"
   ]
  },
  {
   "cell_type": "markdown",
   "metadata": {},
   "source": [
    "y así tener acceso a sus objetos:"
   ]
  },
  {
   "cell_type": "markdown",
   "metadata": {},
   "source": [
    "Cuando Python se encuentra con el comando `import modulo1`, éste busca el archivo `modulo1.py` en el directorio de trabajo actual, y abre el archivo `modulo1.py`. Cuando revisa el archivo `modulo1.py`, Python va a agregar todas las definiciones de funciones y variables del `modulo1` al espacio de nombres al contexto de llamada. Entonces, las variables y funciones definidas en `modulo1.py` van a ser accesibles:"
   ]
  },
  {
   "cell_type": "code",
   "execution_count": 117,
   "metadata": {},
   "outputs": [
    {
     "data": {
      "text/plain": [
       "6"
      ]
     },
     "execution_count": 117,
     "metadata": {},
     "output_type": "execute_result"
    }
   ],
   "source": [
    "modulo1.unaFuncionMuyUtil(5)"
   ]
  },
  {
   "cell_type": "code",
   "execution_count": 118,
   "metadata": {},
   "outputs": [
    {
     "data": {
      "text/plain": [
       "'abracadabra'"
      ]
     },
     "execution_count": 118,
     "metadata": {},
     "output_type": "execute_result"
    }
   ],
   "source": [
    "modulo1.palabraMagica"
   ]
  },
  {
   "cell_type": "markdown",
   "metadata": {},
   "source": [
    "### La variable  `__name__`"
   ]
  },
  {
   "cell_type": "markdown",
   "metadata": {},
   "source": [
    "La \"variable mágica\" `__name__` es una variable especial, predefinida en Python, y que sirve para identificar en qué nivel (de sangría) se está ejecutando el código. La variable toma como valor el string `__main__` si el código es ejecutado en el nivel \"0\":"
   ]
  },
  {
   "cell_type": "code",
   "execution_count": 119,
   "metadata": {},
   "outputs": [
    {
     "data": {
      "text/plain": [
       "'__main__'"
      ]
     },
     "execution_count": 119,
     "metadata": {},
     "output_type": "execute_result"
    }
   ],
   "source": [
    "__name__"
   ]
  },
  {
   "cell_type": "code",
   "execution_count": 120,
   "metadata": {},
   "outputs": [
    {
     "data": {
      "text/plain": [
       "str"
      ]
     },
     "execution_count": 120,
     "metadata": {},
     "output_type": "execute_result"
    }
   ],
   "source": [
    "type(__name__)"
   ]
  },
  {
   "cell_type": "markdown",
   "metadata": {},
   "source": [
    "Esta variable se usa cuando se definen módulos. Veamos un ejemplo:"
   ]
  },
  {
   "cell_type": "code",
   "execution_count": 123,
   "metadata": {},
   "outputs": [
    {
     "name": "stdout",
     "output_type": "stream",
     "text": [
      "Overwriting modulo2.py\n"
     ]
    }
   ],
   "source": [
    "%%file modulo2.py\n",
    "def unaFuncionMuyUtil(y):\n",
    "    x = y+1\n",
    "    return x\n",
    "\n",
    "print(\"Soy modulo2, mi variable `__name__` se llama:\", __name__)"
   ]
  },
  {
   "cell_type": "markdown",
   "metadata": {},
   "source": [
    "Si ejecutamos directamente el módulo, obtendremos que la variable `__name__` toma el valor `__main__`:"
   ]
  },
  {
   "cell_type": "code",
   "execution_count": 124,
   "metadata": {},
   "outputs": [
    {
     "name": "stdout",
     "output_type": "stream",
     "text": [
      "Soy modulo2, mi variable `__name__` se llama: __main__\r\n"
     ]
    }
   ],
   "source": [
    "!python3 modulo2.py   #escribir solo !python si no funciona así"
   ]
  },
  {
   "cell_type": "markdown",
   "metadata": {},
   "source": [
    "Por otro lado, si el código es ejecutado como parte de un módulo importado, la variable toma el nombre del archivo que la contiene:"
   ]
  },
  {
   "cell_type": "code",
   "execution_count": 1,
   "metadata": {},
   "outputs": [
    {
     "name": "stdout",
     "output_type": "stream",
     "text": [
      "Soy modulo2, mi variable `__name__` se llama: modulo2\n"
     ]
    }
   ],
   "source": [
    "import modulo2      "
   ]
  },
  {
   "cell_type": "markdown",
   "metadata": {},
   "source": [
    "Si ahora escribimos un programa en Python (`programa.py`) que importa el módulo modulo2:"
   ]
  },
  {
   "cell_type": "code",
   "execution_count": 3,
   "metadata": {},
   "outputs": [
    {
     "name": "stdout",
     "output_type": "stream",
     "text": [
      "Overwriting programa1.py\n"
     ]
    }
   ],
   "source": [
    "%%file programa1.py\n",
    "\n",
    "print(\"Comenzando programa 1\")\n",
    "print(\"Importamos el modulo 2\")\n",
    "import modulo2\n",
    "\n",
    "print(\"Soy programa1, mi variable __name__ se llama:\", __name__)"
   ]
  },
  {
   "cell_type": "code",
   "execution_count": 1,
   "metadata": {},
   "outputs": [
    {
     "name": "stdout",
     "output_type": "stream",
     "text": [
      "Comenzando programa 1\r\n",
      "Importamos el modulo 2\r\n",
      "Soy modulo2, mi variable `__name__` se llama: modulo2\r\n",
      "Soy programa1, mi variable __name__ se llama: __main__\r\n"
     ]
    }
   ],
   "source": [
    "!python3 programa1.py  # Reinicien kernel para olvidar que importaron el modulo2"
   ]
  },
  {
   "cell_type": "markdown",
   "metadata": {},
   "source": [
    "Vemos que la variable `__name__` toma el valor `modulo2` al ser llamada por `modulo2`, y toma el valor `__main__` cuando quien la llama por `programa1`:"
   ]
  },
  {
   "cell_type": "markdown",
   "metadata": {},
   "source": [
    "### Utilidad de \\_\\_name\\_\\_\n",
    "\n",
    "En resumen,\n",
    "\n",
    "-   `__name__` vale `__main__` si el módulo se corre solo (e.g. `python nombreModulo.py`)\n",
    "\n",
    "-   `__name__` es igual al nombre del módulo (i.e. el nombre sin el sufijo `.py`) si el módulo es importado.\n",
    "\n",
    "Podemos entonces usar un condicional para escribir código que **solo se ejecuta** cuando el módulo corre solo. Esto es útil para dejar programas de prueba o demostaciones del módulo en este \"programa principal condicional\". Es una práctica común dejar un programa principal de demostación en cualquier módulo."
   ]
  },
  {
   "cell_type": "code",
   "execution_count": 3,
   "metadata": {},
   "outputs": [
    {
     "name": "stdout",
     "output_type": "stream",
     "text": [
      "Writing modulo3.py\n"
     ]
    }
   ],
   "source": [
    "%%file modulo3.py\n",
    "\"\"\"Hola\"\"\"\n",
    "\n",
    "def unaFuncionMuyUtil(y):\n",
    "    x = y+1\n",
    "    return x\n",
    "\n",
    "if __name__ == \"__main__\":\n",
    "    print(\"Este modulo contiene una función muy útil.\")\n",
    "    print(\"Se llama utilizando el comando 'unaFuncionMuyUtil(n)'\")\n",
    "    print(\"Por ejemplo, si n=5 el valor es:\", unaFuncionMuyUtil(5))\n",
    "else:\n",
    "    print(\"En este caso importamos el modulo\")"
   ]
  },
  {
   "cell_type": "code",
   "execution_count": 4,
   "metadata": {},
   "outputs": [
    {
     "name": "stdout",
     "output_type": "stream",
     "text": [
      "Este modulo contiene una función muy útil.\r\n",
      "Se llama utilizando el comando 'unaFuncionMuyUtil(n)'\r\n",
      "Por ejemplo, si n=5 el valor es: 6\r\n"
     ]
    }
   ],
   "source": [
    "!python3 modulo3.py"
   ]
  },
  {
   "cell_type": "markdown",
   "metadata": {},
   "source": [
    "Si el archivo es importado (*i.e.* usado como módulo), entonces `__name__ == \"__main__\"` es falso y el bloque condicional no se ejecuta. "
   ]
  },
  {
   "cell_type": "code",
   "execution_count": 7,
   "metadata": {},
   "outputs": [],
   "source": [
    "import modulo3"
   ]
  },
  {
   "cell_type": "code",
   "execution_count": null,
   "metadata": {},
   "outputs": [],
   "source": []
  },
  {
   "cell_type": "code",
   "execution_count": null,
   "metadata": {},
   "outputs": [],
   "source": [
    "# Si queremos importar módulos guardados en una carpeta diferente a la \"raíz\"\n",
    "# usamos el módulo sys para agregar la dirección de la carpeta al sistema\n",
    "import sys\n",
    "sys.path.append('/.../application/app/folder')\n",
    "# y luego importamos los módulos contenidos en nuestra carpeta como si estuviesen en la raíz\n",
    "import file_1"
   ]
  },
  {
   "cell_type": "markdown",
   "metadata": {},
   "source": [
    "#### Más información\n",
    "\n",
    "-   [Python Tutorial Section 6](http://docs.python.org/tutorial/modules.html#modules)"
   ]
  },
  {
   "cell_type": "markdown",
   "metadata": {},
   "source": [
    "### Ejercicio"
   ]
  },
  {
   "cell_type": "markdown",
   "metadata": {},
   "source": [
    "\n",
    "El objetivo de este ejercicio es crear el módulo `bases.py`. Éste módulo debe contener tres funciones:\n",
    "1. La función `decimal_a_base` que tiene como argumentos dos enteros positivos, que llamaremos `numero` y `base`; y retorna `numero_b` que corresponde a `numero` en base `base`.  El argumento `base` debe ser opcional, teniendo como valor por defecto `2` (esta función fue creada en un ejercicio anterior). \n",
    "2. La función `base_a_decimal`, que tiene como argumentos dos enteros positivos, que llamaremos `numero_b` y `base`; y retorna `numero` que corresponde a `numero_b` en base decimal, asumiendo que `numero_b` está en base `base`.  El argumento `base` debe ser opcional, teniendo como valor por defecto `2`.\n",
    "3. La función `cambio_de_base`, que recibe como argumentos tres enteros positivos `numero`, `base_1` y `base_2` y retorna `numero` en base `base_2`, asumiendo que de entrada el número estaba escrito en `base_1`. Los argumentos `base_1` y `base_2` deben ser opcionales, teniendo como valores por defecto `10` y `2`, respectivamente.\n",
    "\n",
    "Además, si el módulo es ejecutado solo (no importado en otro programa) entonces debe correr un programa que prueba las tres funciones para valores escogidos por usted. \n",
    "\n",
    "(Su programa solo debe funcionar para valores de `base`, `base_1` o `base_2` entre 2 y 9)"
   ]
  },
  {
   "cell_type": "code",
   "execution_count": 11,
   "metadata": {},
   "outputs": [
    {
     "name": "stdout",
     "output_type": "stream",
     "text": [
      "Overwriting bases.py\n"
     ]
    }
   ],
   "source": [
    "%%file bases.py\n",
    "\n",
    "# Primera función\n",
    "def decimal_a_base(numero, base = 2):\n",
    "    salida = \"\"    \n",
    "    while(numero > 0):\n",
    "        resto = numero % base\n",
    "        salida = str(resto) + salida\n",
    "        numero = int(numero / base) # n // b es la división entera\n",
    "    numero_b = int(salida)\n",
    "    return(numero_b)\n",
    "\n",
    "#Segunda función\n",
    "def base_a_decimal(numero_b, base = 2):\n",
    "    numero_texto = str(numero_b)\n",
    "    salida = 0\n",
    "    for i in range(len(numero_texto)):\n",
    "        salida += int(numero_texto[-(i+1)]) * base ** i\n",
    "    return(salida)\n",
    "\n",
    "# Tercera función\n",
    "def cambio_de_base(numero, base_1 = 10, base_2 = 2):\n",
    "    numero_decimal = base_a_decimal(numero,base_1)\n",
    "    salida = decimal_a_base(numero_decimal, base_2)\n",
    "    return(salida)\n",
    "\n",
    "if __name__ == \"__main__\":\n",
    "    print(\"Este es 100 en decimal (base 10) escrito en binario (base 2):\", decimal_a_base(100))\n",
    "    print(\"Este es 100 en binario (base 2) escrito en decimal (base 10):\", base_a_decimal(100))\n",
    "    print(\"Este es 100 en base 3 escrito en base 7:\", cambio_de_base(100,3,7))"
   ]
  },
  {
   "cell_type": "code",
   "execution_count": 12,
   "metadata": {},
   "outputs": [
    {
     "name": "stdout",
     "output_type": "stream",
     "text": [
      "Este es 100 en decimal (base 10) escrito en binario (base 2): 1100100\r\n",
      "Este es 100 en binario (base 2) escrito en decimal (base 10): 4\r\n",
      "Este es 100 en base 3 escrito en base 7: 12\r\n"
     ]
    }
   ],
   "source": [
    "!python3 bases.py"
   ]
  },
  {
   "cell_type": "code",
   "execution_count": 13,
   "metadata": {},
   "outputs": [],
   "source": [
    "import bases"
   ]
  },
  {
   "cell_type": "code",
   "execution_count": 15,
   "metadata": {},
   "outputs": [
    {
     "data": {
      "text/plain": [
       "1100100"
      ]
     },
     "execution_count": 15,
     "metadata": {},
     "output_type": "execute_result"
    }
   ],
   "source": [
    "bases.decimal_a_base(100)"
   ]
  },
  {
   "cell_type": "code",
   "execution_count": null,
   "metadata": {},
   "outputs": [],
   "source": []
  }
 ],
 "metadata": {
  "kernelspec": {
   "display_name": "Python 3 (ipykernel)",
   "language": "python",
   "name": "python3"
  },
  "language_info": {
   "codemirror_mode": {
    "name": "ipython",
    "version": 3
   },
   "file_extension": ".py",
   "mimetype": "text/x-python",
   "name": "python",
   "nbconvert_exporter": "python",
   "pygments_lexer": "ipython3",
   "version": "3.9.13"
  }
 },
 "nbformat": 4,
 "nbformat_minor": 4
}
