{
 "cells": [
  {
   "cell_type": "markdown",
   "metadata": {
    "id": "njkfCPSyipI7"
   },
   "source": [
    "# Taller de Manejo y Análisis de Datos\n",
    "# Tarea 3 - Agregación limitada por difusión\n",
    "\n",
    "\n",
    "**Profesor:** Pedro Montealegre (p.montealegre@uai.cl) \n",
    "\n",
    "**Fecha de publicación:** martes 18 de abril.\n",
    "\n",
    "**Fecha de entrega:** domingo 30 de abril a las 23:59 vía webcursos."
   ]
  },
  {
   "cell_type": "code",
   "execution_count": 12,
   "metadata": {},
   "outputs": [],
   "source": [
    "# Indique el nombre y rut de los participantes\n",
    "\n",
    "# Nombre: Eduardo Carrasco Vidal\n",
    "# Rut: 17072761-4"
   ]
  },
  {
   "cell_type": "markdown",
   "metadata": {
    "id": "86uYXMJ9jSmV"
   },
   "source": [
    "# Introducción\n",
    "\n",
    "\n",
    "La *agregación limitada por difusión* (DLA por sus siglas en inglés, “diffusion-limited aggregation”) es un proceso en el cual partículas sometidas a paseo aleatorio se aglomeran para formar agregados de tales partículas. \n",
    "\n",
    "Esta teoría, propuesta por Witten y Sander en 1981, es aplicable a la agregación de cualquier sistema donde la difusión es el medio primario de transporte en el sistema. DLA puede ser observado en muchos otros sistemas tales como eletrodeposición, flujo de Hele-Shaw, depósitos minerales, y ruptura de dieléctrico.\n",
    "\n",
    "\n",
    "El proceso de DLA se puede simular computacionalmente del siguiente modo.\n",
    "* Se comienza con una grilla de $n \\times n$ celdas, con $n$ impar. Se comienza con todos las celdas \"desocupadas\" menos la central que se considera \"ocupada\". \n",
    "* Se escoge un punto al azar en el borde de la grilla y desde ahí comienza el recorrido de una partícula.\n",
    "* El recorrido de una partícula consiste en una secuencia de pasos conformados por movimientos aleatorios. En cada paso, se escoge una dirección (norte, sur, este, oeste) y la partícula se mueve en esa dirección. \n",
    "* Una partícula sigue su recorrido hasta que se sale de los márgenes de la grilla (en cuyo caso queda descartada) o llega a un sitio adyacente a uno ocupado. En el segundo caso la partícula se *congela* y desde ahí en adelante dicho sitio también queda ocupado. \n",
    "* Cuando una partícula se descarta o se congela, inmediatamente comienza el recorrido de una nueva partícula. \n",
    "\n",
    "En la siguiente imagen se representa un patrón obtenido a partir de este proceso, consistente en unas 33.000 partículas. Los colores indican el orden en que se han fijado las partículas\n",
    "\n",
    "<img src=\"https://upload.wikimedia.org/wikipedia/commons/3/3d/Of7_p0001_15h.jpg\" width=\"500\">\n",
    "\n"
   ]
  },
  {
   "cell_type": "markdown",
   "metadata": {
    "id": "6Kpiolm3lL3M"
   },
   "source": [
    "# Actividad 1 - 4 punto\n",
    "\n",
    "Escriba una función que reciba como argumento un entero positivo $p$, y que simule el modelo de Agregación Limitada por Difusión hasta que se ocupen $p$ sitios en una grilla de tamaño adecuado. La salida de la función es una matriz de ceros y unos representando los sitios que quedaron ocupados. Su función además deberá generar una imagen similar a la mostrada en la introducción. \n",
    "\n",
    "Debe cuidar que su implementación sea eficiente, de modo que se pueda generar un patrón de unas 100 partículas en cosa de segundos, y de al menos 1000 partículas en un par de minutos. Para esto, se sugiere trabajar con un tamaño de grilla dinámico, que sea un poco más grande que el cuadrado que contenga al patrón, y de este modo evitar que los paseos de las partículas se extiendan por muchas etapas. "
   ]
  },
  {
   "cell_type": "code",
   "execution_count": 1,
   "metadata": {},
   "outputs": [],
   "source": [
    "import numpy as np\n",
    "import matplotlib.pyplot as plt\n",
    "\n",
    "# Generar direcciones y lados aleatorios\n",
    "direcciones = np.array([(1, 0), (-1, 0), (0, 1), (0, -1)])\n",
    "lados = np.random.choice(len(direcciones), size=1000)\n",
    "\n",
    "def inicializar(n, radio):\n",
    "    # Seleccionar aleatoriamente un lado para la dirección\n",
    "    lado = direcciones[lados[np.random.randint(len(lados))]]\n",
    "    \n",
    "    # Calcular las coordenadas iniciales basadas en el lado y el radio\n",
    "    i = n // 2 + lado[0] * radio\n",
    "    j = n // 2 + lado[1] * radio\n",
    "    \n",
    "    return i, j"
   ]
  },
  {
   "cell_type": "code",
   "execution_count": 2,
   "metadata": {
    "id": "zJaHdjCdiiIa"
   },
   "outputs": [],
   "source": [
    "def mover(i, j):\n",
    "    # Seleccionar aleatoriamente una dirección\n",
    "    direccion = direcciones[np.random.randint(len(direcciones))]\n",
    "    \n",
    "    # Calcular las nuevas coordenadas sumando la dirección al punto actual\n",
    "    return i + direccion[0], j + direccion[1]"
   ]
  },
  {
   "cell_type": "code",
   "execution_count": 3,
   "metadata": {},
   "outputs": [],
   "source": [
    "def calcular_radio_max(A):\n",
    "    # Tamaño de la grilla\n",
    "    n = A.shape[0]\n",
    "    \n",
    "    # Iterar sobre las capas del centro hacia afuera\n",
    "    for i in range(n // 2):\n",
    "        # Suma de los valores en la capa actual\n",
    "        s1 = np.sum(A[n // 2 - i:n // 2 + i + 1, n // 2 - i:n // 2 + i + 1])\n",
    "        \n",
    "        # Suma de los valores en la siguiente capa exterior\n",
    "        s2 = np.sum(A[n // 2 - i - 1:n // 2 + i + 2, n // 2 - i - 1:n // 2 + i + 2])\n",
    "        \n",
    "        # Si las sumas son iguales, el radio máximo se ha alcanzado\n",
    "        if s1 == s2:\n",
    "            return i"
   ]
  },
  {
   "cell_type": "code",
   "execution_count": 4,
   "metadata": {},
   "outputs": [],
   "source": [
    "def es_adjacente(A, i, j):\n",
    "    n = A.shape[0]\n",
    "    \n",
    "    # Comprobar si la celda a la izquierda no es cero y está dentro de los límites de la grilla\n",
    "    if i > 0 and A[i - 1, j] != 0:\n",
    "        return True\n",
    "    \n",
    "    # Comprobar si la celda a la derecha no es cero y está dentro de los límites de la grilla\n",
    "    if i < n - 1 and A[i + 1, j] != 0:\n",
    "        return True\n",
    "    \n",
    "    # Comprobar si la celda arriba no es cero y está dentro de los límites de la grilla\n",
    "    if j > 0 and A[i, j - 1] != 0:\n",
    "        return True\n",
    "    \n",
    "    # Comprobar si la celda abajo no es cero y está dentro de los límites de la grilla\n",
    "    if j < n - 1 and A[i, j + 1] != 0:\n",
    "        return True\n",
    "    \n",
    "    # Si ninguna de las condiciones anteriores se cumple, no es adyacente\n",
    "    return False"
   ]
  },
  {
   "cell_type": "code",
   "execution_count": 5,
   "metadata": {},
   "outputs": [],
   "source": [
    "def simular_DLA(p):\n",
    "    # Tamaño de la grilla\n",
    "    n = 3 * p + 1\n",
    "    \n",
    "    # Radio inicial\n",
    "    r = 50\n",
    "    \n",
    "    # Inicializar la grilla con celdas vacías, excepto el centro\n",
    "    A = np.zeros((n, n))\n",
    "    A[n // 2, n // 2] = 2\n",
    "    \n",
    "    # Contador de partículas colocadas\n",
    "    contador = 1\n",
    "    \n",
    "    while contador < p:\n",
    "        # Calcular el radio máximo actual\n",
    "        radio = max(calcular_radio_max(A), 50)\n",
    "        \n",
    "        # Inicializar una nueva partícula en una posición aleatoria dentro del radio extendido\n",
    "        i, j = inicializar(n, radio + r)\n",
    "        \n",
    "        # Variable para controlar el movimiento de la partícula\n",
    "        moviendo = True\n",
    "        \n",
    "        while moviendo:\n",
    "            # Mover la partícula a una nueva posición\n",
    "            i, j = mover(i, j)\n",
    "            \n",
    "            # Verificar si la partícula se ha salido del rango permitido\n",
    "            if abs(n // 2 - i) > radio + r or abs(n // 2 - j) > radio + r:\n",
    "                moviendo = False\n",
    "            # Verificar si la partícula ha alcanzado el borde máximo de la grilla\n",
    "            elif abs(n // 2 - i) > n // 2 or abs(n // 2 - j) > n // 2:\n",
    "                moviendo = False\n",
    "            # Verificar si la partícula es adyacente a otra partícula ya colocada\n",
    "            elif es_adjacente(A, i, j):\n",
    "                moviendo = False\n",
    "                # Colocar la partícula y actualizar el contador\n",
    "                A[i, j] = 1 + contador / p\n",
    "                contador += 1\n",
    "                \n",
    "    return A"
   ]
  },
  {
   "cell_type": "code",
   "execution_count": 6,
   "metadata": {},
   "outputs": [],
   "source": [
    "def visualizar_grilla(grilla):\n",
    "    radio = calcular_radio_max(grilla)\n",
    "    n = grilla.shape[0]\n",
    "    fig, ax = plt.subplots(figsize=(10, 6))\n",
    "    \n",
    "    # Mostrar la grilla en una región recortada alrededor del centro, usando la paleta de colores 'hot'\n",
    "    im = ax.imshow(grilla[n//2-radio-4:n//2+radio+5, n//2-radio-4:n//2+radio+5], cmap='hot', vmin=0, vmax=1, aspect='equal')\n",
    "    ax.axis('off')\n",
    "    \n",
    "    # Agregar una barra de color para representar los valores de la grilla\n",
    "    cbar = plt.colorbar(im, fraction=0.05, pad=0.02)\n",
    "    cbar.set_label('Valor')\n",
    "    plt.show()"
   ]
  },
  {
   "cell_type": "code",
   "execution_count": 7,
   "metadata": {},
   "outputs": [
    {
     "data": {
      "image/png": "[encoded data removed]",
      "text/plain": [
       "<Figure size 1000x600 with 2 Axes>"
      ]
     },
     "metadata": {},
     "output_type": "display_data"
    }
   ],
   "source": [
    "p = 1000\n",
    "grilla = simular_DLA(p)\n",
    "visualizar_grilla(grilla)"
   ]
  },
  {
   "cell_type": "markdown",
   "metadata": {
    "id": "dJy-knflnJ8G"
   },
   "source": [
    "# Actividad 2 - 2 puntos\n",
    "\n",
    "En geometría de fractales, la dimensión fractal $D$ es un número real que generaliza el concepto de dimensión ordinaria para objetos geométricos que no admiten espacio tangente. La dimensión fractal representa cuán completamente parece llenar un fractal el espacio conforme se amplía el primero hacia escalas más y más finas. \n",
    "\n",
    "En esta actividad buscaremos aproximar la dimensión fractal de un patrón dado. Para eso, utilice el método *caja de arena* descrito a continuación.\n",
    "\n",
    "* Sea $r>0$ impar, se toma el conjunto $S(r)$ de celdas que forman un cuadrado de lado $r$ en el centro del patrón. \n",
    "* Mida el número $N(r)$ de sitios ocupados en $S(r)$.\n",
    "* Grafique $N(r)$ en función de $r$ en escala log-log.\n",
    "* Usando el método de mínimos cuadrados, calcule la pendiente de la recta que mejor describa el crecimiento. La dimensión fractal del sistema será el valor de dicha pendiente. \n",
    "\n",
    "Escriba una función llamada **sandbox** que reciba como argumento una matriz cuadrada $A$ (representando un patrón) y devuelva una aproximación de la dimensión fractal del patrón representado en $A$. Su función además deberá generar un gráfico en que se represente $N(r)$ en función de $r$ en escala log-log y la recta de mínimos cuadrados. "
   ]
  },
  {
   "cell_type": "code",
   "execution_count": 10,
   "metadata": {
    "id": "YzF6n3qEoBpn"
   },
   "outputs": [],
   "source": [
    "from scipy.stats import linregress\n",
    "\n",
    "def sandbox(A):\n",
    "    n, m = A.shape\n",
    "    \n",
    "    # Calcular el radio máximo del patrón\n",
    "    r = calcular_radio_max(A)\n",
    "    lista = []\n",
    "    \n",
    "    # Calcular N(r) para cada valor de r\n",
    "    for i in range(1, r):\n",
    "        # Contar la cantidad de sitios ocupados en el cuadrado de lado r en el centro del patrón\n",
    "        suma = np.sum(A[n//2-i:n//2+i+1, n//2-i:n//2+i+1] != 0)\n",
    "        lista.append(suma)\n",
    "        \n",
    "    arreglo = np.array(lista)\n",
    "    \n",
    "    # Calcular la pendiente de la recta de mínimos cuadrados\n",
    "    pendiente, intercepto, r_value, p_value, std_err = linregress(np.log(range(1, r)), np.log(arreglo))\n",
    "    \n",
    "    # Crear el gráfico en escala log-log\n",
    "    fig, ax = plt.subplots(figsize=(7, 5))\n",
    "    ax.loglog(range(1, r), arreglo, \"o\", label=\"Datos\")\n",
    "    ax.loglog(range(1, r), np.exp(np.polyval(np.polyfit(np.log(range(1, r)), \n",
    "                                                        np.log(arreglo), 1), np.log(range(1, r)))), \n",
    "                                                        label=f\"Ajuste (Dimensión Fractal [m] ={pendiente:.2f})\")\n",
    "    ax.legend()\n",
    "    ax.set_xlabel(\"r\")\n",
    "    ax.set_ylabel(\"N(r)\")\n",
    "    \n",
    "    # Devolver el valor de la pendiente\n",
    "    return pendiente"
   ]
  },
  {
   "cell_type": "code",
   "execution_count": 11,
   "metadata": {},
   "outputs": [
    {
     "data": {
      "image/png": "[encoded data removed]",
      "text/plain": [
       "<Figure size 700x500 with 1 Axes>"
      ]
     },
     "metadata": {},
     "output_type": "display_data"
    }
   ],
   "source": [
    "dimension_fractal = sandbox(grilla)"
   ]
  },
  {
   "cell_type": "markdown",
   "metadata": {
    "id": "BvWwxz73pyzz"
   },
   "source": [
    "## Indicaciones\n",
    "\n",
    "* Su entrega deberá consistir en una versión de este archivo Jupyter editado en los campos indicados anteriormente.\n",
    "* Es de su responsabilidad entregar el archivo en el formato indicado. \n",
    "* El código debe ser ordenado y comentado adecuadamente. Las variables deben tener nombres que representen su uso.\n",
    "* La entrega es vía webcursos, solo hasta la fecha indicada al comienzo. No se aceptan tareas atrasadas.\n",
    "\n",
    "## Recomendaciones:\n",
    "* Antes de entregar vaya a `Kernel -> Restart & Clear Output` y luego ejecute nuevamente los bloques asegurándose que ninguno arroje errores."
   ]
  }
 ],
 "metadata": {
  "colab": {
   "provenance": []
  },
  "kernelspec": {
   "display_name": "Python 3 (ipykernel)",
   "language": "python",
   "name": "python3"
  },
  "language_info": {
   "codemirror_mode": {
    "name": "ipython",
    "version": 3
   },
   "file_extension": ".py",
   "mimetype": "text/x-python",
   "name": "python",
   "nbconvert_exporter": "python",
   "pygments_lexer": "ipython3",
   "version": "3.9.13"
  }
 },
 "nbformat": 4,
 "nbformat_minor": 4
}
